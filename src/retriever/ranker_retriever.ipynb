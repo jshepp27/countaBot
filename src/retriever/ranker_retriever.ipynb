{
 "cells": [
  {
   "cell_type": "code",
   "execution_count": 7,
   "metadata": {
    "pycharm": {
     "name": "#%%\n"
    }
   },
   "outputs": [
    {
     "name": "stderr",
     "output_type": "stream",
     "text": [
      "INFO:src.utils_.elastic_db:Connecting to http://localhost:9200 \n",
      "INFO:src.utils_.elastic_db:Connected to <Elasticsearch(['http://localhost:9200'])> \n"
     ]
    }
   ],
   "source": [
    "from src.utils_.elastic_db import ElasticDB\n",
    "\n",
    "# INIT DB OBJECT\n",
    "PORT = \"http://localhost:9200\"\n",
    "db = ElasticDB(elastic_port=PORT)"
   ]
  },
  {
   "cell_type": "code",
   "execution_count": 34,
   "metadata": {
    "pycharm": {
     "name": "#%%\n"
    }
   },
   "outputs": [],
   "source": [
    "### LOAD DATASETS ###\n",
    "import json\n",
    "import random\n",
    "\n",
    "args = [json.loads(ln) for ln in open(\"../data/cmv_processed.jsonl\")]\n",
    "topics = [json.loads(ln) for ln in open(\"../data/argument_topic_concept.jsonl\")]"
   ]
  },
  {
   "cell_type": "code",
   "execution_count": 18,
   "outputs": [
    {
     "data": {
      "text/plain": "(5990, 10303)"
     },
     "execution_count": 18,
     "metadata": {},
     "output_type": "execute_result"
    }
   ],
   "source": [
    "len(topics), len(args)"
   ],
   "metadata": {
    "collapsed": false,
    "pycharm": {
     "name": "#%%\n"
    }
   }
  },
  {
   "cell_type": "code",
   "execution_count": 36,
   "metadata": {
    "pycharm": {
     "name": "#%%\n"
    }
   },
   "outputs": [
    {
     "name": "stdout",
     "output_type": "stream",
     "text": [
      "99 \n",
      "\n",
      "Rewinding time is the best superpower for daily life \n",
      "\n",
      "A topic that Ive had fun discussing is to imagine what could be done with a superpower. With so many choices and so many implications for each power this little game can spark long conversations on how each power would affect our daily lives. From all of these discussions Ive come away with the view that one power is better than all others by the most metrics a power that I like to call Rewind.Disclaimer If youve never found yourself wondering what your life could be like with superpowers and have no interest in starting then this topic is definitely not for you. The topic is one massive hypothetical so that better be your thing PTLDR Because damn! I wrote way too much to ask you to read it all \n",
      "\n",
      "{'id': 't3_5ufocp', 'argument': 'Let me preface by saying that I dont think the majority of the forced birth movement is actively and deliberately lying Im sure most of them think they think abortion is murder and theyd be genuinely shocked and offended at my suggestion that theyre being dishonest. But nevertheless I think theyre being dishonest even if that means theyre also lying to themselves.If I understand the forced birth position properly the essence of the argument goes something like thisThe problem here is that we know with absolute certainty how to dramatically lower the abortion rate almost overnight free or extremely low cost but free produces better results contraception for young women and teens. This is proven in many real world implementations to reduce the abortion rate by upwards of in the first year and more as time passes.But the forced birthers arent supporting programs like that. In fact in Colorado where such a program existed funded for the first few years by private funds which ran out the forced birth faction actively campaigned AGAINST continuing the program with tax dollars.When I ask forced birth advocates about this they almost inevitably reply either that they dont believe their tax dollars should subsidize someone elses sex life or that they believe it is immoral to have sex outside marriage and that its certainly immoral for teenagers to have sex.The problem here and the reason why this leads me to think they dont really believe abortion is murder is that this means theyre prioritizing their own taxeconomic beliefs above saving babies or that theyre prioritizing their discomfort with people having sex in ways they dont like above saving babies.It isnt just that they have to prioritize its that they have prioritized. Perhaps not in a deliberate step by step conscious process but they have at least subconsciously prioritized their own tax or moral beliefs above killing babies.Im forced to conclude that either theyre monsters who but a monster would argue that their tax policy is worth murdering babies or that theyre not being honest about their belief that abortion is murder.If as they argue abortion is murder and that therefore it is worth sacrificing womens bodily autonomy to prevent it then surely it follows that if abortion is murder its worth them sacrificing a few tax dollars or a bit of squik on their part.', 'topic_label': []}\n"
     ]
    }
   ],
   "source": [
    "### SUBJECT ARG ###\n",
    "import random\n",
    "sample = random.randint(0, 99)\n",
    "\n",
    "arg = args[sample][\"argument\"][\"argument\"]\n",
    "claim = args[sample][\"claim\"]\n",
    "topic = topics[sample]\n",
    "\n",
    "print(sample, \"\\n\")\n",
    "print(claim, \"\\n\")\n",
    "print(arg, \"\\n\")\n",
    "print(topic)"
   ]
  },
  {
   "cell_type": "code",
   "execution_count": 37,
   "outputs": [],
   "source": [
    "### TODOs ###\n",
    "\n",
    "# TODOs: News Data\n",
    "# TODOs: Add Concepts\n",
    "# TODOs: Commonsense Query and Concept Expansion: Topics, Concepts, Synonyms\n",
    "# TODOs: Cosine Semantic Search\n",
    "# TODOs: Research: Evidence Retrieval, Infor Retrieval, Context Aware, Neural Retrieval\n",
    "# TODOs: Targeted Retrieval with NLI over ADUs, Premises, Claims; discard non-ADUs.\n",
    "# TODOs: Parallel process\n",
    "# TODOs: Prior tokenization and sentence segmentation to speed processing\n",
    "# TODOs: Domain Restrict. Polarising social and political debate (Class labelling) only for higher-quality argument-knowledge set.\n",
    "# TODOs: News, Political, Sociology and 'Good', 'Positive' counter-evidence Knowledge Base.\n",
    "# TODOs: Bag of Topics Modelling\n",
    "\n",
    "# TODOs: Implement as a Class\n",
    "# TODOs: Implement Logging\n",
    "\n",
    "# TODOs: Implement Semantic Search: https://www.elastic.co/blog/text-similarity-search-with-vectors-in-elasticsearch\n",
    "# TODOs: Implement Semantic Ranking"
   ],
   "metadata": {
    "collapsed": false,
    "pycharm": {
     "name": "#%%\n"
    }
   }
  },
  {
   "cell_type": "code",
   "execution_count": 38,
   "metadata": {
    "pycharm": {
     "name": "#%%\n"
    }
   },
   "outputs": [
    {
     "name": "stdout",
     "output_type": "stream",
     "text": [
      "['hello', ',', 'my', 'name', 'is', 'Josh', '!']\n",
      "['hello, my name is Josh!', 'How are you doing today?', \"I'm curious ... will this line seperate?\", \"I'm not so sure Dr.\", 'Evil']\n"
     ]
    }
   ],
   "source": [
    "### NLP FUNCTIONS ###\n",
    "import re\n",
    "from nltk.tokenize import sent_tokenize, word_tokenize\n",
    "\n",
    "def tokeniser(doc):\n",
    "    return word_tokenize(doc)\n",
    "\n",
    "def sentences_segment(doc):\n",
    "    return sent_tokenize(doc)\n",
    "\n",
    "# Test Statements\n",
    "print(tokeniser(\"hello, my name is Josh!\"))\n",
    "print(sentences_segment(\"hello, my name is Josh! How are you doing today? I'm curious ... will this line seperate? I'm not so sure Dr. Evil\"))"
   ]
  },
  {
   "cell_type": "code",
   "execution_count": 65,
   "outputs": [
    {
     "name": "stderr",
     "output_type": "stream",
     "text": [
      "INFO:sentence_transformers.SentenceTransformer:Load pretrained SentenceTransformer: all-MiniLM-L6-v2\n",
      "INFO:sentence_transformers.SentenceTransformer:Use pytorch device: cpu\n"
     ]
    }
   ],
   "source": [
    "from keybert import KeyBERT\n",
    "from keyphrase_vectorizers import KeyphraseCountVectorizer\n",
    "\n",
    "kb = KeyBERT()\n",
    "def extract_keyphrase(doc, n_gram=3, n_kp=3, use_mmr=\"False\", use_maxsum=\"False\"):\n",
    "    #kp = kb.extract_keywords(doc, vectorizer=KeyphraseCountVectorizer(), stop_words=\"english\", diversity=0.2,)\n",
    "\n",
    "    kp = kb.extract_keywords(doc, keyphrase_ngram_range=(0, 4), stop_words=\"english\", diversity=0.2,)\n",
    "\n",
    "    return [i[0] for i in kp[0:n_kp]] if kp else None"
   ],
   "metadata": {
    "collapsed": false,
    "pycharm": {
     "name": "#%%\n"
    }
   }
  },
  {
   "cell_type": "code",
   "execution_count": 205,
   "metadata": {
    "pycharm": {
     "name": "#%%\n"
    }
   },
   "outputs": [
    {
     "name": "stderr",
     "output_type": "stream",
     "text": [
      "INFO:elastic_transport.transport:POST http://localhost:9200/*/_search [status:200 duration:0.046s]\n",
      "INFO:elastic_transport.transport:POST http://localhost:9200/*/_search [status:200 duration:0.076s]\n",
      "INFO:elastic_transport.transport:POST http://localhost:9200/*/_search [status:200 duration:0.034s]\n",
      "INFO:elastic_transport.transport:POST http://localhost:9200/*/_search [status:200 duration:0.084s]\n",
      "INFO:elastic_transport.transport:POST http://localhost:9200/*/_search [status:200 duration:0.040s]\n",
      "INFO:elastic_transport.transport:POST http://localhost:9200/*/_search [status:200 duration:0.043s]\n",
      "INFO:elastic_transport.transport:POST http://localhost:9200/*/_search [status:200 duration:0.040s]\n",
      "INFO:elastic_transport.transport:POST http://localhost:9200/*/_search [status:200 duration:0.027s]\n",
      "INFO:elastic_transport.transport:POST http://localhost:9200/*/_search [status:200 duration:0.052s]\n",
      "INFO:elastic_transport.transport:POST http://localhost:9200/*/_search [status:200 duration:0.034s]\n",
      "INFO:elastic_transport.transport:POST http://localhost:9200/*/_search [status:200 duration:0.074s]\n",
      "INFO:elastic_transport.transport:POST http://localhost:9200/*/_search [status:200 duration:0.089s]\n",
      "INFO:elastic_transport.transport:POST http://localhost:9200/*/_search [status:200 duration:0.137s]\n",
      "INFO:elastic_transport.transport:POST http://localhost:9200/*/_search [status:200 duration:0.035s]\n",
      "INFO:elastic_transport.transport:POST http://localhost:9200/*/_search [status:200 duration:0.035s]\n",
      "INFO:elastic_transport.transport:POST http://localhost:9200/*/_search [status:200 duration:0.068s]\n",
      "INFO:elastic_transport.transport:POST http://localhost:9200/*/_search [status:200 duration:0.246s]\n",
      "INFO:elastic_transport.transport:POST http://localhost:9200/*/_search [status:200 duration:0.036s]\n",
      "INFO:elastic_transport.transport:POST http://localhost:9200/*/_search [status:200 duration:0.024s]\n",
      "INFO:elastic_transport.transport:POST http://localhost:9200/*/_search [status:200 duration:0.038s]\n",
      "INFO:elastic_transport.transport:POST http://localhost:9200/*/_search [status:200 duration:0.046s]\n",
      "INFO:elastic_transport.transport:POST http://localhost:9200/*/_search [status:200 duration:0.044s]\n",
      "INFO:elastic_transport.transport:POST http://localhost:9200/*/_search [status:200 duration:0.035s]\n",
      "INFO:elastic_transport.transport:POST http://localhost:9200/*/_search [status:200 duration:0.023s]\n",
      "INFO:elastic_transport.transport:POST http://localhost:9200/*/_search [status:200 duration:0.036s]\n",
      "INFO:elastic_transport.transport:POST http://localhost:9200/*/_search [status:200 duration:0.036s]\n",
      "INFO:elastic_transport.transport:POST http://localhost:9200/*/_search [status:200 duration:0.021s]\n",
      "INFO:elastic_transport.transport:POST http://localhost:9200/*/_search [status:200 duration:0.124s]\n",
      "INFO:elastic_transport.transport:POST http://localhost:9200/*/_search [status:200 duration:0.018s]\n",
      "INFO:elastic_transport.transport:POST http://localhost:9200/*/_search [status:200 duration:0.042s]\n",
      "INFO:elastic_transport.transport:POST http://localhost:9200/*/_search [status:200 duration:0.030s]\n",
      "INFO:elastic_transport.transport:POST http://localhost:9200/*/_search [status:200 duration:0.010s]\n",
      "INFO:elastic_transport.transport:POST http://localhost:9200/*/_search [status:200 duration:0.038s]\n",
      "INFO:elastic_transport.transport:POST http://localhost:9200/*/_search [status:200 duration:0.016s]\n",
      "INFO:elastic_transport.transport:POST http://localhost:9200/*/_search [status:200 duration:0.055s]\n",
      "INFO:elastic_transport.transport:POST http://localhost:9200/*/_search [status:200 duration:0.026s]\n",
      "INFO:elastic_transport.transport:POST http://localhost:9200/*/_search [status:200 duration:0.024s]\n",
      "INFO:elastic_transport.transport:POST http://localhost:9200/*/_search [status:200 duration:0.036s]\n",
      "INFO:elastic_transport.transport:POST http://localhost:9200/*/_search [status:200 duration:0.013s]\n",
      "INFO:elastic_transport.transport:POST http://localhost:9200/*/_search [status:200 duration:0.038s]\n",
      "INFO:elastic_transport.transport:POST http://localhost:9200/*/_search [status:200 duration:0.049s]\n",
      "INFO:elastic_transport.transport:POST http://localhost:9200/*/_search [status:200 duration:0.022s]\n",
      "INFO:elastic_transport.transport:POST http://localhost:9200/*/_search [status:200 duration:0.096s]\n",
      "INFO:elastic_transport.transport:POST http://localhost:9200/*/_search [status:200 duration:0.012s]\n",
      "INFO:elastic_transport.transport:POST http://localhost:9200/*/_search [status:200 duration:0.037s]\n",
      "INFO:elastic_transport.transport:POST http://localhost:9200/*/_search [status:200 duration:0.024s]\n"
     ]
    }
   ],
   "source": [
    "from src.detection.stance_classifier import sentence_stance, compare_stance\n",
    "from src.utils_.word_net_expansion import expand_query\n",
    "from src.detection.stance_classifier import sentence_stance\n",
    "\n",
    "### RETRIEVER ###\n",
    "db = db\n",
    "queries = []\n",
    "retrieved_ev = []\n",
    "\n",
    "topic_ids = [json.loads(ln)[\"id\"] for ln in open(\"../data/argument_topic_concept.jsonl\")]\n",
    "def get_topic(arg_id):\n",
    "    topic_id = topic_ids.index(arg_id)\n",
    "    topic = topics[topic_id][\"topic_label\"]\n",
    "    return str(topic) if topic else None\n",
    "\n",
    "# TODOs: Add News\n",
    "# TODOs: Include Topic Label\n",
    "# TODOs: Include Concept Label\n",
    "# TODOs: Query Expansion\n",
    "# TODOs: Multi-Field Search\n",
    "def retrieved_evidence(arg, query_expansion=True, retrieve_len=5):\n",
    "    \"\"\" Retrieves Evidence from Knowledge base, returning a well-formed Retrieved Evidence Object\n",
    "    given an input Argument\"\"\"\n",
    "\n",
    "    id_ = arg[\"id\"]\n",
    "    topic = get_topic(id_)\n",
    "\n",
    "    counters_sents = sentences_segment(arg[\"counter\"][\"counter\"])\n",
    "    adu_sents = sentences_segment(arg[\"argument\"][\"argument\"])\n",
    "\n",
    "    # Retrieve per ADU\n",
    "    # results = []\n",
    "    retrieved = []\n",
    "    adus = []\n",
    "    for _ in adu_sents:\n",
    "        if len(tokeniser(_)) <= 8:\n",
    "            continue\n",
    "\n",
    "        kp = extract_keyphrase(_)\n",
    "        adu = {\"sentence\": _, \"kp\": [i for i in kp], \"stance\": sentence_stance(_, kp[0])}\n",
    "\n",
    "        kp.append(topic) if topic else kp\n",
    "        query = \", \".join(i for i in kp)\n",
    "        search = [(i[\"_source\"][\"document\"][\"title\"], i[\"_source\"][\"document\"][\"text\"])for i in db.search(query_=query, k=retrieve_len)]\n",
    "\n",
    "        evidence = [i[1] for i in search]\n",
    "        ev_kp = extract_keyphrase(evidence)\n",
    "\n",
    "        retrieved.append({\"passages\": evidence, \"kp\": [i[0] for i in ev_kp]})\n",
    "        adus.append(adu)\n",
    "\n",
    "    return ({\n",
    "        \"id\": arg[\"id\"],\n",
    "        \"argument\": [i for i in adus],\n",
    "        \"retrieved\": [i for i in retrieved]\n",
    "    })\n",
    "\n",
    "retrieved_ev = []\n",
    "for arg in args[0:10]:\n",
    "    retrieved_ev.append(retrieved_evidence(arg))"
   ]
  },
  {
   "cell_type": "code",
   "execution_count": 206,
   "outputs": [
    {
     "name": "stdout",
     "output_type": "stream",
     "text": [
      "10\n"
     ]
    },
    {
     "data": {
      "text/plain": "[{'passages': ['Brazil. Minimum income has been increasingly accepted by the Brazilian government. In 2004, President\\xa0Lula da Silva signed into law a bill to establish a universal basic income.',\n   \"Committee member Lady Rhys-Williams argued that the incomes for adults should be more like a basic income. She was also the first to develop the negative income tax model. Her son Brandon Rhys Williams proposed a basic income to a parliamentary committee in 1982, and soon after that in 1984, the Basic Income Research Group, now the Citizen's Basic Income Trust, began to conduct and disseminate research on basic income.\",\n   'Many technology experts and technology entrepreneurs have begun endorsing basic income in the 2000s and 2010s. These include Marshal Brain, Sam Altman, James Hughes, Facebook co-founder Chris Hughes, Elon Musk, and Mark Zuckerberg (in his 2017 Harvard commencement speech), and Jeremy Rifkin. The overriding theme among technologists who favor basic income is the belief that automation is creating an increasingly unstable labor market.',\n   \"Several British academics have been involved in the basic income debate. Among them the following:Organisations. The organisation Basic Income UK is 'a collective of independent people promoting unconditional basic income as a progressive social policy for the United Kingdom, and beyond'.\",\n   'Basic Income. Delaney opposes implementing a basic income (also known as a universal basic income). Minimum wage.'],\n  'kp': ['brazil minimum income increasingly',\n   'williams proposed basic income',\n   'technologists favor basic income']},\n {'passages': [\"Several British academics have been involved in the basic income debate. Among them the following:Organisations. The organisation Basic Income UK is 'a collective of independent people promoting unconditional basic income as a progressive social policy for the United Kingdom, and beyond'.\",\n   \"In May 2019, a report by Professor Guy Standing, commissioned by the Progressive Economic Forum and forwarded to John McDonnell (the acting Shadow Chancellor of the Exchequer) suggested different models for piloting basic income. Standing's report ('Basic Income as Common Dividends: Piloting a Transformative Policy. A Report for the Shadow Chancellor of the Exchequer)' cites a 'perfect storm' of factors that lead to the need for a basic income: Broad ethical justifications for basic income, which Standing cites as 'social justice, security, freedom and solidarity' are now working in combination with urgent socio-economic demands.\",\n   'A basic income is defined in the report as a policy that guarantees all members of a society a minimum amount of income. One type of basic income considered is the most well-known: a universal basic income (UBI). With a UBI, everyone receives a cash transfer at regular intervals, with no conditions, and no eligibility requirements except residency in the jurisdiction.',\n   'Congress eventually approved a guaranteed minimum income for the elderly and the disabled. In the mid-1970s the main competitor to basic income and negative income tax, the Earned income tax credit (EITC), or its advocates, won over enough legislators for the US Congress to pass laws on that policy. In 1986, the Basic Income European Network, later renamed to Basic Income Earth Network (BIEN), was founded, with academic conferences every second year.',\n   'The Queensland Greens were the first Australian party to adopt a Guaranteed Adequate Income (GAI) policy in 1999. Basic Income Guarantee Australia was accepted into the Basic Income Earth Network in 2006 as an affiliate member. In August 2014, ACOSS made a recommendation to simplify the welfare system via a basic income support payment; however, this differs from a universal guaranteed income in that it would still be means-tested.'],\n  'kp': ['organisation basic income uk',\n   'basic income standing cites',\n   'basic income ubi']},\n {'passages': ['Paul Krugman. Paul Krugman obtained his B.A. from Yale in 1974 and a PhD in economics from MIT in 1977.',\n   'Strategic Trade Policy and the New International Economics, ed. Paul Krugman. MIT Press, Cambridge Mass.',\n   \"(with Paul Krugman and Daniel Tsiddon), American Economic Review, December 1993, pp. 1211 1219. 'Technology and Life Cycle of Cities'(with Paul Krugman), Journal of Economic Growth, December 1997, pp.\",\n   \"But it's their 'right' to behave like a bunch of utter morons.' On the other hand, many economists and business analysts endorsed the coin as a way to counter threats by congressional Republicans to force the country into default by refusing to raise the debt limit. Paul Krugman said, 'So minting the coin would be undignified, but so what?\",\n   \"Later in 2011, Krugman publicly endorsed market monetarist policy recommendations, suggesting 'a Fed regime shift' to 'expectations-based monetary policy,' and commending market monetarism for its focus on nominal GDP. Krugman used the term 'market monetarism' in his widely read blog. Also, in the fourth quarter of 2011, The Milken Institute released a study by Clark Johnson, advocating market monetarist approaches.\"],\n  'kp': ['paul krugman obtained yale',\n   'strategic trade policy new',\n   'cities paul krugman journal']},\n {'passages': ['Income taxes and cash benefits traditionally play an important role in redistributing income in Sweden, reducing inequality among the working-age population by about 28% (the OECD average [Of what?] is 25%). This redistributive effect has diminished over time, however, as it [What?]',\n   \"Debate continues over whether a public policy response is appropriate to income inequality. For example, Federal Reserve Economist Thomas Garrett wrote in 2010: 'It is important to understand that income inequality is a byproduct of a well-functioning capitalist economy. Individuals' earnings are directly related to their productivity ... A wary eye should be cast on policies that aim to shrink the income distribution by redistributing income from the more productive to the less productive simply for the sake of 'fairness.''\",\n   'Taxes. Income taxes provide one mechanism for addressing after-tax inequality. Increasing the effective progressivity of income taxes reduces the gap between higher and lower incomes.',\n   'This suggests that non-EU workers may have a tougher time finding high-skilled jobs than getting low-skilled work. Although income inequality between low-skilled and high-skilled workers is increasing, low-skilled workers are generally very well paid, inequality remains low and the lower and higher classes alike enjoy a very generous universal welfare state. Income taxes and cash benefits traditionally play an important role in redistributing income in Sweden, reducing inequality among the working-age population by about 28% (the OECD average [Of what?]',\n   'NYU economist William Baumol found that substantial inequality does not stimulate growth because poverty reduces labor force productivity. Economists Dierk Herzer and Sebastian Vollmer found that increased income inequality reduces economic growth, but growth itself increases income inequality. A 1996 study by Perotti examined the channels through which inequality may affect economic growth.'],\n  'kp': ['redistributing income sweden reducing',\n   'income inequality byproduct functioning',\n   'mechanism addressing tax inequality']}]"
     },
     "execution_count": 206,
     "metadata": {},
     "output_type": "execute_result"
    }
   ],
   "source": [
    "print(len(retrieved_ev))\n",
    "retrieved_ev[0][\"retrieved\"]"
   ],
   "metadata": {
    "collapsed": false,
    "pycharm": {
     "name": "#%%\n"
    }
   }
  },
  {
   "cell_type": "code",
   "execution_count": 207,
   "outputs": [
    {
     "name": "stderr",
     "output_type": "stream",
     "text": [
      "INFO:sentence_transformers.SentenceTransformer:Load pretrained SentenceTransformer: all-MiniLM-L6-v2\n",
      "INFO:sentence_transformers.SentenceTransformer:Use pytorch device: cpu\n"
     ]
    },
    {
     "data": {
      "text/plain": "[{'id': 't3_30oi71',\n  'argument': [{'sentence': 'Section I Why is Basic Income Increasingly Popular?',\n    'kp': ['basic income increasingly popular',\n     'basic income increasingly',\n     'section basic income increasingly'],\n    'stance': 'NEUTRAL'},\n   {'sentence': 'Basic income is a policy that has broad support from both the progressive left and libertarian right.',\n    'kp': ['basic income', 'basic income policy', 'basic income policy broad'],\n    'stance': 'PRO'},\n   {'sentence': 'Centerleft economists including Paul Krugman have endorsed the scheme for various reasons.',\n    'kp': ['paul krugman endorsed scheme',\n     'economists including paul krugman',\n     'krugman endorsed scheme various'],\n    'stance': 'PRO'},\n   {'sentence': 'BI also reduces inequality by redistributing income from capital to labor.',\n    'kp': ['bi reduces inequality redistributing',\n     'reduces inequality redistributing income',\n     'inequality redistributing income capital'],\n    'stance': 'CON'}],\n  'retrieved': [{'ranked_passages': \"Several British academics have been involved in the basic income debate. Among them the following:Organisations. The organisation Basic Income UK is 'a collective of independent people promoting unconditional basic income as a progressive social policy for the United Kingdom, and beyond'., Basic Income. Delaney opposes implementing a basic income (also known as a universal basic income). Minimum wage.\",\n    'kp': ['organisation basic income uk',\n     'basic income uk',\n     'united kingdom basic income']},\n   {'ranked_passages': \"Several British academics have been involved in the basic income debate. Among them the following:Organisations. The organisation Basic Income UK is 'a collective of independent people promoting unconditional basic income as a progressive social policy for the United Kingdom, and beyond'., A basic income is defined in the report as a policy that guarantees all members of a society a minimum amount of income. One type of basic income considered is the most well-known: a universal basic income (UBI). With a UBI, everyone receives a cash transfer at regular intervals, with no conditions, and no eligibility requirements except residency in the jurisdiction.\",\n    'kp': ['basic income uk',\n     'basic income ubi',\n     'universal basic income ubi']},\n   {'ranked_passages': \"Later in 2011, Krugman publicly endorsed market monetarist policy recommendations, suggesting 'a Fed regime shift' to 'expectations-based monetary policy,' and commending market monetarism for its focus on nominal GDP. Krugman used the term 'market monetarism' in his widely read blog. Also, in the fourth quarter of 2011, The Milken Institute released a study by Clark Johnson, advocating market monetarist approaches., Strategic Trade Policy and the New International Economics, ed. Paul Krugman. MIT Press, Cambridge Mass.\",\n    'kp': ['endorsed market monetarist policy',\n     'policy commending market monetarism',\n     'market monetarist policy']},\n   {'ranked_passages': \"Income taxes and cash benefits traditionally play an important role in redistributing income in Sweden, reducing inequality among the working-age population by about 28% (the OECD average [Of what?] is 25%). This redistributive effect has diminished over time, however, as it [What?], Debate continues over whether a public policy response is appropriate to income inequality. For example, Federal Reserve Economist Thomas Garrett wrote in 2010: 'It is important to understand that income inequality is a byproduct of a well-functioning capitalist economy. Individuals' earnings are directly related to their productivity ... A wary eye should be cast on policies that aim to shrink the income distribution by redistributing income from the more productive to the less productive simply for the sake of 'fairness.''\",\n    'kp': ['redistributing income sweden reducing',\n     'income sweden reducing inequality',\n     'redistributing income sweden']}]},\n {'id': 't3_30oi71',\n  'argument': [{'sentence': 'Section I Why is Basic Income Increasingly Popular?',\n    'kp': ['basic income increasingly popular',\n     'basic income increasingly',\n     'section basic income increasingly'],\n    'stance': 'NEUTRAL'},\n   {'sentence': 'Basic income is a policy that has broad support from both the progressive left and libertarian right.',\n    'kp': ['basic income', 'basic income policy', 'basic income policy broad'],\n    'stance': 'PRO'},\n   {'sentence': 'Centerleft economists including Paul Krugman have endorsed the scheme for various reasons.',\n    'kp': ['paul krugman endorsed scheme',\n     'economists including paul krugman',\n     'krugman endorsed scheme various'],\n    'stance': 'PRO'},\n   {'sentence': 'BI also reduces inequality by redistributing income from capital to labor.',\n    'kp': ['bi reduces inequality redistributing',\n     'reduces inequality redistributing income',\n     'inequality redistributing income capital'],\n    'stance': 'CON'}],\n  'retrieved': [{'ranked_passages': \"Several British academics have been involved in the basic income debate. Among them the following:Organisations. The organisation Basic Income UK is 'a collective of independent people promoting unconditional basic income as a progressive social policy for the United Kingdom, and beyond'., Basic Income. Delaney opposes implementing a basic income (also known as a universal basic income). Minimum wage.\",\n    'kp': ['organisation basic income uk',\n     'basic income uk',\n     'united kingdom basic income']},\n   {'ranked_passages': \"Several British academics have been involved in the basic income debate. Among them the following:Organisations. The organisation Basic Income UK is 'a collective of independent people promoting unconditional basic income as a progressive social policy for the United Kingdom, and beyond'., A basic income is defined in the report as a policy that guarantees all members of a society a minimum amount of income. One type of basic income considered is the most well-known: a universal basic income (UBI). With a UBI, everyone receives a cash transfer at regular intervals, with no conditions, and no eligibility requirements except residency in the jurisdiction.\",\n    'kp': ['basic income uk',\n     'basic income ubi',\n     'universal basic income ubi']},\n   {'ranked_passages': \"Later in 2011, Krugman publicly endorsed market monetarist policy recommendations, suggesting 'a Fed regime shift' to 'expectations-based monetary policy,' and commending market monetarism for its focus on nominal GDP. Krugman used the term 'market monetarism' in his widely read blog. Also, in the fourth quarter of 2011, The Milken Institute released a study by Clark Johnson, advocating market monetarist approaches., Strategic Trade Policy and the New International Economics, ed. Paul Krugman. MIT Press, Cambridge Mass.\",\n    'kp': ['endorsed market monetarist policy',\n     'policy commending market monetarism',\n     'market monetarist policy']},\n   {'ranked_passages': \"Income taxes and cash benefits traditionally play an important role in redistributing income in Sweden, reducing inequality among the working-age population by about 28% (the OECD average [Of what?] is 25%). This redistributive effect has diminished over time, however, as it [What?], Debate continues over whether a public policy response is appropriate to income inequality. For example, Federal Reserve Economist Thomas Garrett wrote in 2010: 'It is important to understand that income inequality is a byproduct of a well-functioning capitalist economy. Individuals' earnings are directly related to their productivity ... A wary eye should be cast on policies that aim to shrink the income distribution by redistributing income from the more productive to the less productive simply for the sake of 'fairness.''\",\n    'kp': ['redistributing income sweden reducing',\n     'income sweden reducing inequality',\n     'redistributing income sweden']}]},\n {'id': 't3_30oi71',\n  'argument': [{'sentence': 'Section I Why is Basic Income Increasingly Popular?',\n    'kp': ['basic income increasingly popular',\n     'basic income increasingly',\n     'section basic income increasingly'],\n    'stance': 'NEUTRAL'},\n   {'sentence': 'Basic income is a policy that has broad support from both the progressive left and libertarian right.',\n    'kp': ['basic income', 'basic income policy', 'basic income policy broad'],\n    'stance': 'PRO'},\n   {'sentence': 'Centerleft economists including Paul Krugman have endorsed the scheme for various reasons.',\n    'kp': ['paul krugman endorsed scheme',\n     'economists including paul krugman',\n     'krugman endorsed scheme various'],\n    'stance': 'PRO'},\n   {'sentence': 'BI also reduces inequality by redistributing income from capital to labor.',\n    'kp': ['bi reduces inequality redistributing',\n     'reduces inequality redistributing income',\n     'inequality redistributing income capital'],\n    'stance': 'CON'}],\n  'retrieved': [{'ranked_passages': \"Several British academics have been involved in the basic income debate. Among them the following:Organisations. The organisation Basic Income UK is 'a collective of independent people promoting unconditional basic income as a progressive social policy for the United Kingdom, and beyond'., Basic Income. Delaney opposes implementing a basic income (also known as a universal basic income). Minimum wage.\",\n    'kp': ['organisation basic income uk',\n     'basic income uk',\n     'united kingdom basic income']},\n   {'ranked_passages': \"Several British academics have been involved in the basic income debate. Among them the following:Organisations. The organisation Basic Income UK is 'a collective of independent people promoting unconditional basic income as a progressive social policy for the United Kingdom, and beyond'., A basic income is defined in the report as a policy that guarantees all members of a society a minimum amount of income. One type of basic income considered is the most well-known: a universal basic income (UBI). With a UBI, everyone receives a cash transfer at regular intervals, with no conditions, and no eligibility requirements except residency in the jurisdiction.\",\n    'kp': ['basic income uk',\n     'basic income ubi',\n     'universal basic income ubi']},\n   {'ranked_passages': \"Later in 2011, Krugman publicly endorsed market monetarist policy recommendations, suggesting 'a Fed regime shift' to 'expectations-based monetary policy,' and commending market monetarism for its focus on nominal GDP. Krugman used the term 'market monetarism' in his widely read blog. Also, in the fourth quarter of 2011, The Milken Institute released a study by Clark Johnson, advocating market monetarist approaches., Strategic Trade Policy and the New International Economics, ed. Paul Krugman. MIT Press, Cambridge Mass.\",\n    'kp': ['endorsed market monetarist policy',\n     'policy commending market monetarism',\n     'market monetarist policy']},\n   {'ranked_passages': \"Income taxes and cash benefits traditionally play an important role in redistributing income in Sweden, reducing inequality among the working-age population by about 28% (the OECD average [Of what?] is 25%). This redistributive effect has diminished over time, however, as it [What?], Debate continues over whether a public policy response is appropriate to income inequality. For example, Federal Reserve Economist Thomas Garrett wrote in 2010: 'It is important to understand that income inequality is a byproduct of a well-functioning capitalist economy. Individuals' earnings are directly related to their productivity ... A wary eye should be cast on policies that aim to shrink the income distribution by redistributing income from the more productive to the less productive simply for the sake of 'fairness.''\",\n    'kp': ['redistributing income sweden reducing',\n     'income sweden reducing inequality',\n     'redistributing income sweden']}]},\n {'id': 't3_30oi71',\n  'argument': [{'sentence': 'Section I Why is Basic Income Increasingly Popular?',\n    'kp': ['basic income increasingly popular',\n     'basic income increasingly',\n     'section basic income increasingly'],\n    'stance': 'NEUTRAL'},\n   {'sentence': 'Basic income is a policy that has broad support from both the progressive left and libertarian right.',\n    'kp': ['basic income', 'basic income policy', 'basic income policy broad'],\n    'stance': 'PRO'},\n   {'sentence': 'Centerleft economists including Paul Krugman have endorsed the scheme for various reasons.',\n    'kp': ['paul krugman endorsed scheme',\n     'economists including paul krugman',\n     'krugman endorsed scheme various'],\n    'stance': 'PRO'},\n   {'sentence': 'BI also reduces inequality by redistributing income from capital to labor.',\n    'kp': ['bi reduces inequality redistributing',\n     'reduces inequality redistributing income',\n     'inequality redistributing income capital'],\n    'stance': 'CON'}],\n  'retrieved': [{'ranked_passages': \"Several British academics have been involved in the basic income debate. Among them the following:Organisations. The organisation Basic Income UK is 'a collective of independent people promoting unconditional basic income as a progressive social policy for the United Kingdom, and beyond'., Basic Income. Delaney opposes implementing a basic income (also known as a universal basic income). Minimum wage.\",\n    'kp': ['organisation basic income uk',\n     'basic income uk',\n     'united kingdom basic income']},\n   {'ranked_passages': \"Several British academics have been involved in the basic income debate. Among them the following:Organisations. The organisation Basic Income UK is 'a collective of independent people promoting unconditional basic income as a progressive social policy for the United Kingdom, and beyond'., A basic income is defined in the report as a policy that guarantees all members of a society a minimum amount of income. One type of basic income considered is the most well-known: a universal basic income (UBI). With a UBI, everyone receives a cash transfer at regular intervals, with no conditions, and no eligibility requirements except residency in the jurisdiction.\",\n    'kp': ['basic income uk',\n     'basic income ubi',\n     'universal basic income ubi']},\n   {'ranked_passages': \"Later in 2011, Krugman publicly endorsed market monetarist policy recommendations, suggesting 'a Fed regime shift' to 'expectations-based monetary policy,' and commending market monetarism for its focus on nominal GDP. Krugman used the term 'market monetarism' in his widely read blog. Also, in the fourth quarter of 2011, The Milken Institute released a study by Clark Johnson, advocating market monetarist approaches., Strategic Trade Policy and the New International Economics, ed. Paul Krugman. MIT Press, Cambridge Mass.\",\n    'kp': ['endorsed market monetarist policy',\n     'policy commending market monetarism',\n     'market monetarist policy']},\n   {'ranked_passages': \"Income taxes and cash benefits traditionally play an important role in redistributing income in Sweden, reducing inequality among the working-age population by about 28% (the OECD average [Of what?] is 25%). This redistributive effect has diminished over time, however, as it [What?], Debate continues over whether a public policy response is appropriate to income inequality. For example, Federal Reserve Economist Thomas Garrett wrote in 2010: 'It is important to understand that income inequality is a byproduct of a well-functioning capitalist economy. Individuals' earnings are directly related to their productivity ... A wary eye should be cast on policies that aim to shrink the income distribution by redistributing income from the more productive to the less productive simply for the sake of 'fairness.''\",\n    'kp': ['redistributing income sweden reducing',\n     'income sweden reducing inequality',\n     'redistributing income sweden']}]},\n {'id': 't3_4gdj35',\n  'argument': [{'sentence': 'I am of the belief that there cannot exist a legitimate emotional bond between a male and a female that lead to a loving relationship that is one of romance.',\n    'kp': ['legitimate emotional bond male',\n     'emotional bond male female',\n     'exist legitimate emotional bond'],\n    'stance': 'PRO'},\n   {'sentence': 'Not once have I seen a couple that did not have an enormous gap in interests composure speech patterns and emotional engagement.',\n    'kp': ['composure speech patterns emotional',\n     'interests composure speech patterns',\n     'speech patterns emotional engagement'],\n    'stance': 'PRO'},\n   {'sentence': 'Theres always and awkward disparity between each partner and they seem to be tolerating each other whilst there is little to grasp on why they are interested in each other aside from basic biology.',\n    'kp': ['theres awkward disparity partner',\n     'partner tolerating',\n     'awkward disparity partner'],\n    'stance': 'CON'},\n   {'sentence': 'As a result of this homosexual relationships have always seemed purely the logical and socially optimal choice for anyone pursuing a relationship and heterosexual relationships continue only because of a heteronormitive society and the biology of reproduction which I believe is immoral but thats another topic.',\n    'kp': ['choice pursuing relationship heterosexual',\n     'homosexual relationships purely',\n     'result homosexual relationships purely'],\n    'stance': 'PRO'},\n   {'sentence': 'I may be biased but from my perspective and experience Ive simply never seen a straight couple that was legitimately compatible in most ways.',\n    'kp': ['straight couple legitimately compatible',\n     'straight couple legitimately',\n     'seen straight couple legitimately'],\n    'stance': 'CON'}],\n  'retrieved': [{'ranked_passages': \"'Yaoi' stories are often strongly homosocial, giving men freedom to bond and pursue shared goals together (as in 'dojinshi' adaptations of 'shōnen' manga), or to rival each other (as in 'Embracing Love'). This spiritual bond and equal partnership is depicted as overcoming the male-female gender hierarchy. As is typical in romance fiction, couples depicted in 'yaoi' stories often must overcome obstacles that are emotional or psychological rather than physical., In many societies, it is normal for couples to have sexual intercourse while using some method of birth control, sharing pleasure and strengthening their emotional bond through sexual activity even though they are deliberately avoiding pregnancy. In humans and bonobos, the female undergoes relatively concealed ovulation so that male and female partners commonly do not know whether she is fertile at any given moment. One possible reason for this distinct biological feature may be formation of strong emotional bonds between sexual partners important for social interactions and, in the case of humans, long-term partnership rather than immediate sexual reproduction.\",\n    'kp': ['strong emotional bonds sexual',\n     'emotional bonds sexual',\n     'emotional bonds sexual partners']},\n   {'ranked_passages': \"The W3C's Speech Interface Framework also defines these other standards closely associated with VoiceXML. SRGS and SISR. The Speech Recognition Grammar Specification (SRGS) is used to tell the speech recognizer what sentence patterns it should expect to hear: these patterns are called grammars., Therefore, a speaker's speech is a reflection of speech patterns acquired during language learning as a child. Overview. Methodology.\",\n    'kp': ['srgs sisr speech',\n     'srgs sisr speech recognition',\n     'srgs used tell speech']},\n   {'ranked_passages': \"In the 2014 European Parliament elections UKIP support reached a new high water mark, coming first ahead of the Labour party, and gaining 26.6% of the vote. 'Awkward partner' status. Professor Stephen George states in his 1990 book 'An Awkward Partner: Britain in the European Community' that the UK is an 'awkward partner' within the European Union, emphasising that although the UK is not the only EU member state to oppose further EU integration, it is less enthusiastic than most other members., Professor Stephen George states in his 1990 book 'An Awkward Partner: Britain in the European Community' that the UK is an 'awkward partner' within the European Union, emphasising that although the UK is not the only EU member state to oppose further EU integration, it is less enthusiastic than most other members. Factors contributing to 'awkward partner' status include the distinctiveness of the identity and culture of the UK in contrast to that of continental Europe. According to a 2003 profile in 'The Guardian', historian Robert Conquest favoured a British withdrawal from the EU in favour of creating 'a much looser association of English-speaking nations, known as the Anglosphere.\",\n    'kp': ['awkward partner britain european',\n     'uk awkward partner european',\n     'awkward partner britain']},\n   {'ranked_passages': \"Barah and Lipton argue that heterosexual couples may cheat just as much as homosexual relationships. Harris (2002) tested these hypotheses among 210 individuals: 48 homosexual women, 50 homosexual men, 40 heterosexual women, and 49 heterosexual men. Results found that more heterosexual than homosexual individuals picked sexual infidelity as worse than emotional infidelity, with heterosexual men being the highest, and that when forced to choose, gay men overwhelmingly predicted emotional infidelity would be more troubling than sexual infidelity., There was a significant increase in effect noted, which can be attributed to the idea that 'same-sex couples generally function better than heterosexual couples due to smaller gender-role and inequality.' This is due to more equality within homosexual relationships, as equality of support plays a larger role within same-sex relationships than heterosexual relationships. It is also noted that the Gottman Model of Therapy created a better platform for the discussion of relationship equality preferences.\",\n    'kp': ['homosexual relationships equality support',\n     'equality homosexual relationships',\n     'homosexual relationships equality']},\n   {'ranked_passages': \"The couple was strongly criticized for the relationship, and Wrangler was accused of 'turning straight' and entering the relationship simply for money. However, Wrangler always considered himself homosexual. 'I'm not [[bisexual]] and I'm not straight', Wrangler later said., The Court of Appeal ruled that there is 'legitimate aim' to protect opposite-sex marriage, arguing that only straight couples should enjoy the 'freedom of marriage' and that same-sex couples should have no marital rights whatsoever. The Court also stated that Leung and Adams could not pay taxes as a couple. The couple appealed the decision to the Court of Final Appeal.\",\n    'kp': ['wrangler considered homosexual bisexual',\n     'homosexual bisexual straight wrangler',\n     'wrangler considered homosexual']}]},\n {'id': 't3_4gdj35',\n  'argument': [{'sentence': 'I am of the belief that there cannot exist a legitimate emotional bond between a male and a female that lead to a loving relationship that is one of romance.',\n    'kp': ['legitimate emotional bond male',\n     'emotional bond male female',\n     'exist legitimate emotional bond'],\n    'stance': 'PRO'},\n   {'sentence': 'Not once have I seen a couple that did not have an enormous gap in interests composure speech patterns and emotional engagement.',\n    'kp': ['composure speech patterns emotional',\n     'interests composure speech patterns',\n     'speech patterns emotional engagement'],\n    'stance': 'PRO'},\n   {'sentence': 'Theres always and awkward disparity between each partner and they seem to be tolerating each other whilst there is little to grasp on why they are interested in each other aside from basic biology.',\n    'kp': ['theres awkward disparity partner',\n     'partner tolerating',\n     'awkward disparity partner'],\n    'stance': 'CON'},\n   {'sentence': 'As a result of this homosexual relationships have always seemed purely the logical and socially optimal choice for anyone pursuing a relationship and heterosexual relationships continue only because of a heteronormitive society and the biology of reproduction which I believe is immoral but thats another topic.',\n    'kp': ['choice pursuing relationship heterosexual',\n     'homosexual relationships purely',\n     'result homosexual relationships purely'],\n    'stance': 'PRO'},\n   {'sentence': 'I may be biased but from my perspective and experience Ive simply never seen a straight couple that was legitimately compatible in most ways.',\n    'kp': ['straight couple legitimately compatible',\n     'straight couple legitimately',\n     'seen straight couple legitimately'],\n    'stance': 'CON'}],\n  'retrieved': [{'ranked_passages': \"'Yaoi' stories are often strongly homosocial, giving men freedom to bond and pursue shared goals together (as in 'dojinshi' adaptations of 'shōnen' manga), or to rival each other (as in 'Embracing Love'). This spiritual bond and equal partnership is depicted as overcoming the male-female gender hierarchy. As is typical in romance fiction, couples depicted in 'yaoi' stories often must overcome obstacles that are emotional or psychological rather than physical., In many societies, it is normal for couples to have sexual intercourse while using some method of birth control, sharing pleasure and strengthening their emotional bond through sexual activity even though they are deliberately avoiding pregnancy. In humans and bonobos, the female undergoes relatively concealed ovulation so that male and female partners commonly do not know whether she is fertile at any given moment. One possible reason for this distinct biological feature may be formation of strong emotional bonds between sexual partners important for social interactions and, in the case of humans, long-term partnership rather than immediate sexual reproduction.\",\n    'kp': ['strong emotional bonds sexual',\n     'emotional bonds sexual',\n     'emotional bonds sexual partners']},\n   {'ranked_passages': \"The W3C's Speech Interface Framework also defines these other standards closely associated with VoiceXML. SRGS and SISR. The Speech Recognition Grammar Specification (SRGS) is used to tell the speech recognizer what sentence patterns it should expect to hear: these patterns are called grammars., Therefore, a speaker's speech is a reflection of speech patterns acquired during language learning as a child. Overview. Methodology.\",\n    'kp': ['srgs sisr speech',\n     'srgs sisr speech recognition',\n     'srgs used tell speech']},\n   {'ranked_passages': \"In the 2014 European Parliament elections UKIP support reached a new high water mark, coming first ahead of the Labour party, and gaining 26.6% of the vote. 'Awkward partner' status. Professor Stephen George states in his 1990 book 'An Awkward Partner: Britain in the European Community' that the UK is an 'awkward partner' within the European Union, emphasising that although the UK is not the only EU member state to oppose further EU integration, it is less enthusiastic than most other members., Professor Stephen George states in his 1990 book 'An Awkward Partner: Britain in the European Community' that the UK is an 'awkward partner' within the European Union, emphasising that although the UK is not the only EU member state to oppose further EU integration, it is less enthusiastic than most other members. Factors contributing to 'awkward partner' status include the distinctiveness of the identity and culture of the UK in contrast to that of continental Europe. According to a 2003 profile in 'The Guardian', historian Robert Conquest favoured a British withdrawal from the EU in favour of creating 'a much looser association of English-speaking nations, known as the Anglosphere.\",\n    'kp': ['awkward partner britain european',\n     'uk awkward partner european',\n     'awkward partner britain']},\n   {'ranked_passages': \"Barah and Lipton argue that heterosexual couples may cheat just as much as homosexual relationships. Harris (2002) tested these hypotheses among 210 individuals: 48 homosexual women, 50 homosexual men, 40 heterosexual women, and 49 heterosexual men. Results found that more heterosexual than homosexual individuals picked sexual infidelity as worse than emotional infidelity, with heterosexual men being the highest, and that when forced to choose, gay men overwhelmingly predicted emotional infidelity would be more troubling than sexual infidelity., There was a significant increase in effect noted, which can be attributed to the idea that 'same-sex couples generally function better than heterosexual couples due to smaller gender-role and inequality.' This is due to more equality within homosexual relationships, as equality of support plays a larger role within same-sex relationships than heterosexual relationships. It is also noted that the Gottman Model of Therapy created a better platform for the discussion of relationship equality preferences.\",\n    'kp': ['homosexual relationships equality support',\n     'equality homosexual relationships',\n     'homosexual relationships equality']},\n   {'ranked_passages': \"The couple was strongly criticized for the relationship, and Wrangler was accused of 'turning straight' and entering the relationship simply for money. However, Wrangler always considered himself homosexual. 'I'm not [[bisexual]] and I'm not straight', Wrangler later said., The Court of Appeal ruled that there is 'legitimate aim' to protect opposite-sex marriage, arguing that only straight couples should enjoy the 'freedom of marriage' and that same-sex couples should have no marital rights whatsoever. The Court also stated that Leung and Adams could not pay taxes as a couple. The couple appealed the decision to the Court of Final Appeal.\",\n    'kp': ['wrangler considered homosexual bisexual',\n     'homosexual bisexual straight wrangler',\n     'wrangler considered homosexual']}]},\n {'id': 't3_5aceoz',\n  'argument': [{'sentence': 'UpdateThanks for all the replies theres been some really useful points and Ill dish out the deltas appropriately.',\n    'kp': ['deltas appropriately', 'deltas', 'ill dish deltas appropriately'],\n    'stance': 'PRO'},\n   {'sentence': 'The most convincing argument Ive heard is that Apple is trying to build a computer for the near future and if it doesnt work for you then you dont have to buy it.',\n    'kp': ['argument ive heard apple',\n     'apple trying build computer',\n     'apple trying build'],\n    'stance': 'PRO'},\n   {'sentence': 'USBC is the future so why bother putting anything else in?',\n    'kp': ['usbc future bother putting', 'usbc future', 'usbc future bother'],\n    'stance': 'CON'},\n   {'sentence': 'USB lets you charge from a battery charger which is an extra convenience even if it comes at the loss of MagSafe so why have a dedicated power socket?',\n    'kp': ['magsafe dedicated power socket',\n     'dedicated power socket',\n     'usb lets charge battery'],\n    'stance': 'PRO'},\n   {'sentence': 'Most people take pictures with their phone and the latest camera models are coming with wireless support so SD support wont be important.I do think theyve made a mistake with how theyre handling headphones across devices but I have been convinced that their logic for this is an attempt to move to the future of wireless headphones not stripping things away for the sake of it.',\n    'kp': ['wireless support sd support',\n     'wireless support sd',\n     'coming wireless support sd'],\n    'stance': 'PRO'}],\n  'retrieved': [{'ranked_passages': 'This three part structure may be seen in small scale by crossbedding. Existential threats to deltas. Human activities in both deltas and the river basins upstream of deltas can radically alter delta environments., Deltas on Mars. Researchers have found a number of examples of deltas that formed in Martian lakes. Finding deltas is a major sign that Mars once had large amounts of water.',\n    'kp': ['deltas formed martian lakes',\n     'martian lakes finding deltas',\n     'environments deltas mars']},\n   {'ranked_passages': \"441 by Lord Denning. In 2006 the phrase was used in legal argument in the case of 'Apple Corps v Apple Computer', between Apple Corps (the record label started by the Beatles in 1968) and Apple Computer Inc. (makers of Macintosh computers). Apple Computer argued that '[e]ven a moron in a hurry could not be mistaken about' the difference between iTunes and the Apple Corps record label., Steve Wozniak was inspired to build the Apple to be a computer like the HP 9830, and in 1976, he offered HP rights to the Apple computer. He was turned down and was given a release. When the calculator division started an 8-bit computer project called Capricorn, he left for Apple when he wasn't allowed to work on that project.\",\n    'kp': ['computers apple computer argued',\n     'apple computer argued',\n     '1968 apple computer makers']},\n   {'ranked_passages': 'All USBC competitors must first qualify at a CoffeeChamps Qualifying Competition, which is an abbreviated version of the USBC. Two Qualifying Competitions are held each year, the top eighteen competitors from each Qualifying Competition move on to USBC. Places 7-18 move into Round One of USBC., The 2016 USBC Hall of Fame induction ceremony will take place April 28 in Las Vegas as part of the USBC Convention. Adler and Durbin, along with three inductees elected in November by the USBC Hall of Fame Committee, will comprise the 2016 USBC Hall of Fame class. Adler, 48, is a 16-time Professional Women’s Bowling Association winner.',\n    'kp': ['usbc hall fame committee',\n     'usbc hall fame class',\n     'usbc qualifying competitions']},\n   {'ranked_passages': \"Today, USB-powered decorations are the most prominently seen examples, since the popularity of USB lets them operate on most modern computers. The USB standard can also be used to power devices via AC adapters traditionally used for mobile devices, allowing manufacturers of these decorations worldwide compatibility without the need for any power converters for different socket form factors. USB Interface., Apple offered an EmPower MagSafe power adapter for their MacBook, MacBook Pro, and MacBook Air lines of notebooks, and also included a cigarette lighter socket adapter. However, this system would only run the computer without charging the computer's battery, and Apple warned users to never plug this device into a car's cigarette lighter outlet. This product was later discontinued.\",\n    'kp': ['magsafe power adapter macbook',\n     'power adapter macbook macbook',\n     'power adapter macbook']},\n   {'ranked_passages': 'Also, the X-Fi2 no longer has wireless networking features, and trades the SD input for a microSD card slot. Added to the player is support for the lossless, open-source FLAC codec, A/V output to a TV, and offline RSS reader support. Compared to similarly featured models from competitors, it is lower priced as well., It is offered with 128 GB of internal storage, expandable via SD card. It supports wireless charging, and all models will support Qualcomm Quick Charge 3.0. All models in all markets will include quad Digital-to-analog converters (DAC) to enhance sound output.',\n    'kp': ['include quad digital',\n     'quad digital',\n     'charging models support qualcomm']}]},\n {'id': 't3_5aceoz',\n  'argument': [{'sentence': 'UpdateThanks for all the replies theres been some really useful points and Ill dish out the deltas appropriately.',\n    'kp': ['deltas appropriately', 'deltas', 'ill dish deltas appropriately'],\n    'stance': 'PRO'},\n   {'sentence': 'The most convincing argument Ive heard is that Apple is trying to build a computer for the near future and if it doesnt work for you then you dont have to buy it.',\n    'kp': ['argument ive heard apple',\n     'apple trying build computer',\n     'apple trying build'],\n    'stance': 'PRO'},\n   {'sentence': 'USBC is the future so why bother putting anything else in?',\n    'kp': ['usbc future bother putting', 'usbc future', 'usbc future bother'],\n    'stance': 'CON'},\n   {'sentence': 'USB lets you charge from a battery charger which is an extra convenience even if it comes at the loss of MagSafe so why have a dedicated power socket?',\n    'kp': ['magsafe dedicated power socket',\n     'dedicated power socket',\n     'usb lets charge battery'],\n    'stance': 'PRO'},\n   {'sentence': 'Most people take pictures with their phone and the latest camera models are coming with wireless support so SD support wont be important.I do think theyve made a mistake with how theyre handling headphones across devices but I have been convinced that their logic for this is an attempt to move to the future of wireless headphones not stripping things away for the sake of it.',\n    'kp': ['wireless support sd support',\n     'wireless support sd',\n     'coming wireless support sd'],\n    'stance': 'PRO'}],\n  'retrieved': [{'ranked_passages': 'This three part structure may be seen in small scale by crossbedding. Existential threats to deltas. Human activities in both deltas and the river basins upstream of deltas can radically alter delta environments., Deltas on Mars. Researchers have found a number of examples of deltas that formed in Martian lakes. Finding deltas is a major sign that Mars once had large amounts of water.',\n    'kp': ['deltas formed martian lakes',\n     'martian lakes finding deltas',\n     'environments deltas mars']},\n   {'ranked_passages': \"441 by Lord Denning. In 2006 the phrase was used in legal argument in the case of 'Apple Corps v Apple Computer', between Apple Corps (the record label started by the Beatles in 1968) and Apple Computer Inc. (makers of Macintosh computers). Apple Computer argued that '[e]ven a moron in a hurry could not be mistaken about' the difference between iTunes and the Apple Corps record label., Steve Wozniak was inspired to build the Apple to be a computer like the HP 9830, and in 1976, he offered HP rights to the Apple computer. He was turned down and was given a release. When the calculator division started an 8-bit computer project called Capricorn, he left for Apple when he wasn't allowed to work on that project.\",\n    'kp': ['computers apple computer argued',\n     'apple computer argued',\n     '1968 apple computer makers']},\n   {'ranked_passages': 'All USBC competitors must first qualify at a CoffeeChamps Qualifying Competition, which is an abbreviated version of the USBC. Two Qualifying Competitions are held each year, the top eighteen competitors from each Qualifying Competition move on to USBC. Places 7-18 move into Round One of USBC., The 2016 USBC Hall of Fame induction ceremony will take place April 28 in Las Vegas as part of the USBC Convention. Adler and Durbin, along with three inductees elected in November by the USBC Hall of Fame Committee, will comprise the 2016 USBC Hall of Fame class. Adler, 48, is a 16-time Professional Women’s Bowling Association winner.',\n    'kp': ['usbc hall fame committee',\n     'usbc hall fame class',\n     'usbc qualifying competitions']},\n   {'ranked_passages': \"Today, USB-powered decorations are the most prominently seen examples, since the popularity of USB lets them operate on most modern computers. The USB standard can also be used to power devices via AC adapters traditionally used for mobile devices, allowing manufacturers of these decorations worldwide compatibility without the need for any power converters for different socket form factors. USB Interface., Apple offered an EmPower MagSafe power adapter for their MacBook, MacBook Pro, and MacBook Air lines of notebooks, and also included a cigarette lighter socket adapter. However, this system would only run the computer without charging the computer's battery, and Apple warned users to never plug this device into a car's cigarette lighter outlet. This product was later discontinued.\",\n    'kp': ['magsafe power adapter macbook',\n     'power adapter macbook macbook',\n     'power adapter macbook']},\n   {'ranked_passages': 'Also, the X-Fi2 no longer has wireless networking features, and trades the SD input for a microSD card slot. Added to the player is support for the lossless, open-source FLAC codec, A/V output to a TV, and offline RSS reader support. Compared to similarly featured models from competitors, it is lower priced as well., It is offered with 128 GB of internal storage, expandable via SD card. It supports wireless charging, and all models will support Qualcomm Quick Charge 3.0. All models in all markets will include quad Digital-to-analog converters (DAC) to enhance sound output.',\n    'kp': ['include quad digital',\n     'quad digital',\n     'charging models support qualcomm']}]},\n {'id': 't3_5aceoz',\n  'argument': [{'sentence': 'UpdateThanks for all the replies theres been some really useful points and Ill dish out the deltas appropriately.',\n    'kp': ['deltas appropriately', 'deltas', 'ill dish deltas appropriately'],\n    'stance': 'PRO'},\n   {'sentence': 'The most convincing argument Ive heard is that Apple is trying to build a computer for the near future and if it doesnt work for you then you dont have to buy it.',\n    'kp': ['argument ive heard apple',\n     'apple trying build computer',\n     'apple trying build'],\n    'stance': 'PRO'},\n   {'sentence': 'USBC is the future so why bother putting anything else in?',\n    'kp': ['usbc future bother putting', 'usbc future', 'usbc future bother'],\n    'stance': 'CON'},\n   {'sentence': 'USB lets you charge from a battery charger which is an extra convenience even if it comes at the loss of MagSafe so why have a dedicated power socket?',\n    'kp': ['magsafe dedicated power socket',\n     'dedicated power socket',\n     'usb lets charge battery'],\n    'stance': 'PRO'},\n   {'sentence': 'Most people take pictures with their phone and the latest camera models are coming with wireless support so SD support wont be important.I do think theyve made a mistake with how theyre handling headphones across devices but I have been convinced that their logic for this is an attempt to move to the future of wireless headphones not stripping things away for the sake of it.',\n    'kp': ['wireless support sd support',\n     'wireless support sd',\n     'coming wireless support sd'],\n    'stance': 'PRO'}],\n  'retrieved': [{'ranked_passages': 'This three part structure may be seen in small scale by crossbedding. Existential threats to deltas. Human activities in both deltas and the river basins upstream of deltas can radically alter delta environments., Deltas on Mars. Researchers have found a number of examples of deltas that formed in Martian lakes. Finding deltas is a major sign that Mars once had large amounts of water.',\n    'kp': ['deltas formed martian lakes',\n     'martian lakes finding deltas',\n     'environments deltas mars']},\n   {'ranked_passages': \"441 by Lord Denning. In 2006 the phrase was used in legal argument in the case of 'Apple Corps v Apple Computer', between Apple Corps (the record label started by the Beatles in 1968) and Apple Computer Inc. (makers of Macintosh computers). Apple Computer argued that '[e]ven a moron in a hurry could not be mistaken about' the difference between iTunes and the Apple Corps record label., Steve Wozniak was inspired to build the Apple to be a computer like the HP 9830, and in 1976, he offered HP rights to the Apple computer. He was turned down and was given a release. When the calculator division started an 8-bit computer project called Capricorn, he left for Apple when he wasn't allowed to work on that project.\",\n    'kp': ['computers apple computer argued',\n     'apple computer argued',\n     '1968 apple computer makers']},\n   {'ranked_passages': 'All USBC competitors must first qualify at a CoffeeChamps Qualifying Competition, which is an abbreviated version of the USBC. Two Qualifying Competitions are held each year, the top eighteen competitors from each Qualifying Competition move on to USBC. Places 7-18 move into Round One of USBC., The 2016 USBC Hall of Fame induction ceremony will take place April 28 in Las Vegas as part of the USBC Convention. Adler and Durbin, along with three inductees elected in November by the USBC Hall of Fame Committee, will comprise the 2016 USBC Hall of Fame class. Adler, 48, is a 16-time Professional Women’s Bowling Association winner.',\n    'kp': ['usbc hall fame committee',\n     'usbc hall fame class',\n     'usbc qualifying competitions']},\n   {'ranked_passages': \"Today, USB-powered decorations are the most prominently seen examples, since the popularity of USB lets them operate on most modern computers. The USB standard can also be used to power devices via AC adapters traditionally used for mobile devices, allowing manufacturers of these decorations worldwide compatibility without the need for any power converters for different socket form factors. USB Interface., Apple offered an EmPower MagSafe power adapter for their MacBook, MacBook Pro, and MacBook Air lines of notebooks, and also included a cigarette lighter socket adapter. However, this system would only run the computer without charging the computer's battery, and Apple warned users to never plug this device into a car's cigarette lighter outlet. This product was later discontinued.\",\n    'kp': ['magsafe power adapter macbook',\n     'power adapter macbook macbook',\n     'power adapter macbook']},\n   {'ranked_passages': 'Also, the X-Fi2 no longer has wireless networking features, and trades the SD input for a microSD card slot. Added to the player is support for the lossless, open-source FLAC codec, A/V output to a TV, and offline RSS reader support. Compared to similarly featured models from competitors, it is lower priced as well., It is offered with 128 GB of internal storage, expandable via SD card. It supports wireless charging, and all models will support Qualcomm Quick Charge 3.0. All models in all markets will include quad Digital-to-analog converters (DAC) to enhance sound output.',\n    'kp': ['include quad digital',\n     'quad digital',\n     'charging models support qualcomm']}]},\n {'id': 't3_5aceoz',\n  'argument': [{'sentence': 'UpdateThanks for all the replies theres been some really useful points and Ill dish out the deltas appropriately.',\n    'kp': ['deltas appropriately', 'deltas', 'ill dish deltas appropriately'],\n    'stance': 'PRO'},\n   {'sentence': 'The most convincing argument Ive heard is that Apple is trying to build a computer for the near future and if it doesnt work for you then you dont have to buy it.',\n    'kp': ['argument ive heard apple',\n     'apple trying build computer',\n     'apple trying build'],\n    'stance': 'PRO'},\n   {'sentence': 'USBC is the future so why bother putting anything else in?',\n    'kp': ['usbc future bother putting', 'usbc future', 'usbc future bother'],\n    'stance': 'CON'},\n   {'sentence': 'USB lets you charge from a battery charger which is an extra convenience even if it comes at the loss of MagSafe so why have a dedicated power socket?',\n    'kp': ['magsafe dedicated power socket',\n     'dedicated power socket',\n     'usb lets charge battery'],\n    'stance': 'PRO'},\n   {'sentence': 'Most people take pictures with their phone and the latest camera models are coming with wireless support so SD support wont be important.I do think theyve made a mistake with how theyre handling headphones across devices but I have been convinced that their logic for this is an attempt to move to the future of wireless headphones not stripping things away for the sake of it.',\n    'kp': ['wireless support sd support',\n     'wireless support sd',\n     'coming wireless support sd'],\n    'stance': 'PRO'}],\n  'retrieved': [{'ranked_passages': 'This three part structure may be seen in small scale by crossbedding. Existential threats to deltas. Human activities in both deltas and the river basins upstream of deltas can radically alter delta environments., Deltas on Mars. Researchers have found a number of examples of deltas that formed in Martian lakes. Finding deltas is a major sign that Mars once had large amounts of water.',\n    'kp': ['deltas formed martian lakes',\n     'martian lakes finding deltas',\n     'environments deltas mars']},\n   {'ranked_passages': \"441 by Lord Denning. In 2006 the phrase was used in legal argument in the case of 'Apple Corps v Apple Computer', between Apple Corps (the record label started by the Beatles in 1968) and Apple Computer Inc. (makers of Macintosh computers). Apple Computer argued that '[e]ven a moron in a hurry could not be mistaken about' the difference between iTunes and the Apple Corps record label., Steve Wozniak was inspired to build the Apple to be a computer like the HP 9830, and in 1976, he offered HP rights to the Apple computer. He was turned down and was given a release. When the calculator division started an 8-bit computer project called Capricorn, he left for Apple when he wasn't allowed to work on that project.\",\n    'kp': ['computers apple computer argued',\n     'apple computer argued',\n     '1968 apple computer makers']},\n   {'ranked_passages': 'All USBC competitors must first qualify at a CoffeeChamps Qualifying Competition, which is an abbreviated version of the USBC. Two Qualifying Competitions are held each year, the top eighteen competitors from each Qualifying Competition move on to USBC. Places 7-18 move into Round One of USBC., The 2016 USBC Hall of Fame induction ceremony will take place April 28 in Las Vegas as part of the USBC Convention. Adler and Durbin, along with three inductees elected in November by the USBC Hall of Fame Committee, will comprise the 2016 USBC Hall of Fame class. Adler, 48, is a 16-time Professional Women’s Bowling Association winner.',\n    'kp': ['usbc hall fame committee',\n     'usbc hall fame class',\n     'usbc qualifying competitions']},\n   {'ranked_passages': \"Today, USB-powered decorations are the most prominently seen examples, since the popularity of USB lets them operate on most modern computers. The USB standard can also be used to power devices via AC adapters traditionally used for mobile devices, allowing manufacturers of these decorations worldwide compatibility without the need for any power converters for different socket form factors. USB Interface., Apple offered an EmPower MagSafe power adapter for their MacBook, MacBook Pro, and MacBook Air lines of notebooks, and also included a cigarette lighter socket adapter. However, this system would only run the computer without charging the computer's battery, and Apple warned users to never plug this device into a car's cigarette lighter outlet. This product was later discontinued.\",\n    'kp': ['magsafe power adapter macbook',\n     'power adapter macbook macbook',\n     'power adapter macbook']},\n   {'ranked_passages': 'Also, the X-Fi2 no longer has wireless networking features, and trades the SD input for a microSD card slot. Added to the player is support for the lossless, open-source FLAC codec, A/V output to a TV, and offline RSS reader support. Compared to similarly featured models from competitors, it is lower priced as well., It is offered with 128 GB of internal storage, expandable via SD card. It supports wireless charging, and all models will support Qualcomm Quick Charge 3.0. All models in all markets will include quad Digital-to-analog converters (DAC) to enhance sound output.',\n    'kp': ['include quad digital',\n     'quad digital',\n     'charging models support qualcomm']}]}]"
     },
     "execution_count": 207,
     "metadata": {},
     "output_type": "execute_result"
    }
   ],
   "source": [
    "from sentence_transformers import SentenceTransformer, util\n",
    "import torch\n",
    "from tqdm.notebook import tqdm\n",
    "import time\n",
    "\n",
    "model = SentenceTransformer('all-MiniLM-L6-v2')\n",
    "\n",
    "### SCORE COSINE SIMILARITY ###\n",
    "def cosine_similarity(sent_1, sent_2):\n",
    "    sentences = [sent_1, sent_2]\n",
    "    embeddings = model.encode(sentences, convert_to_tensor=True, show_progress_bar=False)\n",
    "\n",
    "    cos = torch.nn.CosineSimilarity(dim=0)\n",
    "    score = cos(embeddings[0], embeddings[1])\n",
    "\n",
    "    return score.numpy().item()\n",
    "\n",
    "### SCORE TF-KEYWORD OVERLAP ###\n",
    "def overlap_score(evidence_kp, adu_kp):\n",
    "    score = 0\n",
    "    # Split Keyphrase into components, scoring partial units as overlap\n",
    "    for i in evidence_kp:\n",
    "        for j in i.split():\n",
    "            # Ensure string value, to enact .find\n",
    "            if \", \".join([i for i in adu_kp]).find(j) != -1: score += 1\n",
    "\n",
    "            else: continue\n",
    "    return score\n",
    "\n",
    "### RANK PASSAGES ###\n",
    "def score_passages(ev):\n",
    "    for _ in range(0, len(ev[\"argument\"])):\n",
    "        print(_)\n",
    "\n",
    "from collections import defaultdict\n",
    "def rank_passages(ev, k=2):\n",
    "    adus = [i for i in ev[\"argument\"]]\n",
    "    retrieved = [i for i in ev[\"retrieved\"]]\n",
    "\n",
    "    rank_retrieved = []\n",
    "    count = 0\n",
    "\n",
    "    for adu, passages in zip(adus, retrieved):\n",
    "        count += 1\n",
    "        scored = []\n",
    "\n",
    "        # 5 passages\n",
    "        for passage in passages[\"passages\"]:\n",
    "            score = cosine_similarity(str(adu), str(passage))\n",
    "            scored.append((passage, score))\n",
    "\n",
    "        ranked_passages = sorted(scored, key=lambda x: x[1], reverse=True)\n",
    "        ranked_passages = ranked_passages[0:k]\n",
    "\n",
    "        merged = \", \".join(i[0] for i in ranked_passages)\n",
    "        merged_kp = extract_keyphrase(merged)\n",
    "        rank_retrieved.append({\"ranked_passages\": merged, \"kp\": merged_kp})\n",
    "\n",
    "    return rank_retrieved\n",
    "\n",
    "### UPDATE RETRIEVED OBJECT ###\n",
    "retrieved_ranked = retrieved_ev.copy()\n",
    "for i in range(0, len(retrieved_ev)):\n",
    "    retrieved_ranked[i][\"retrieved\"] = [i for i in rank_passages(retrieved_ev[i])]\n",
    "\n",
    "retrieved_ranked"
   ],
   "metadata": {
    "collapsed": false,
    "pycharm": {
     "name": "#%%\n"
    }
   }
  },
  {
   "cell_type": "code",
   "execution_count": 209,
   "outputs": [
    {
     "data": {
      "text/plain": "{'id': 't3_30oi71',\n 'argument': [{'sentence': 'Section I Why is Basic Income Increasingly Popular?',\n   'kp': ['basic income increasingly popular',\n    'basic income increasingly',\n    'section basic income increasingly'],\n   'stance': 'NEUTRAL'},\n  {'sentence': 'Basic income is a policy that has broad support from both the progressive left and libertarian right.',\n   'kp': ['basic income', 'basic income policy', 'basic income policy broad'],\n   'stance': 'PRO'},\n  {'sentence': 'Centerleft economists including Paul Krugman have endorsed the scheme for various reasons.',\n   'kp': ['paul krugman endorsed scheme',\n    'economists including paul krugman',\n    'krugman endorsed scheme various'],\n   'stance': 'PRO'},\n  {'sentence': 'BI also reduces inequality by redistributing income from capital to labor.',\n   'kp': ['bi reduces inequality redistributing',\n    'reduces inequality redistributing income',\n    'inequality redistributing income capital'],\n   'stance': 'CON'}],\n 'retrieved': [{'ranked_passages': \"Several British academics have been involved in the basic income debate. Among them the following:Organisations. The organisation Basic Income UK is 'a collective of independent people promoting unconditional basic income as a progressive social policy for the United Kingdom, and beyond'., Basic Income. Delaney opposes implementing a basic income (also known as a universal basic income). Minimum wage.\",\n   'kp': ['organisation basic income uk',\n    'basic income uk',\n    'united kingdom basic income']},\n  {'ranked_passages': \"Several British academics have been involved in the basic income debate. Among them the following:Organisations. The organisation Basic Income UK is 'a collective of independent people promoting unconditional basic income as a progressive social policy for the United Kingdom, and beyond'., A basic income is defined in the report as a policy that guarantees all members of a society a minimum amount of income. One type of basic income considered is the most well-known: a universal basic income (UBI). With a UBI, everyone receives a cash transfer at regular intervals, with no conditions, and no eligibility requirements except residency in the jurisdiction.\",\n   'kp': ['basic income uk',\n    'basic income ubi',\n    'universal basic income ubi']},\n  {'ranked_passages': \"Later in 2011, Krugman publicly endorsed market monetarist policy recommendations, suggesting 'a Fed regime shift' to 'expectations-based monetary policy,' and commending market monetarism for its focus on nominal GDP. Krugman used the term 'market monetarism' in his widely read blog. Also, in the fourth quarter of 2011, The Milken Institute released a study by Clark Johnson, advocating market monetarist approaches., Strategic Trade Policy and the New International Economics, ed. Paul Krugman. MIT Press, Cambridge Mass.\",\n   'kp': ['endorsed market monetarist policy',\n    'policy commending market monetarism',\n    'market monetarist policy']},\n  {'ranked_passages': \"Income taxes and cash benefits traditionally play an important role in redistributing income in Sweden, reducing inequality among the working-age population by about 28% (the OECD average [Of what?] is 25%). This redistributive effect has diminished over time, however, as it [What?], Debate continues over whether a public policy response is appropriate to income inequality. For example, Federal Reserve Economist Thomas Garrett wrote in 2010: 'It is important to understand that income inequality is a byproduct of a well-functioning capitalist economy. Individuals' earnings are directly related to their productivity ... A wary eye should be cast on policies that aim to shrink the income distribution by redistributing income from the more productive to the less productive simply for the sake of 'fairness.''\",\n   'kp': ['redistributing income sweden reducing',\n    'income sweden reducing inequality',\n    'redistributing income sweden']}]}"
     },
     "execution_count": 209,
     "metadata": {},
     "output_type": "execute_result"
    }
   ],
   "source": [
    "len(retrieved_ranked)\n",
    "retrieved_ranked[0]"
   ],
   "metadata": {
    "collapsed": false,
    "pycharm": {
     "name": "#%%\n"
    }
   }
  },
  {
   "cell_type": "code",
   "execution_count": 210,
   "outputs": [
    {
     "name": "stdout",
     "output_type": "stream",
     "text": [
      "10 10\n"
     ]
    }
   ],
   "source": [
    "# NOTE: Zipping retrieved evidence, args\n",
    "print(len(retrieved_ranked), len(args[0:10]))"
   ],
   "metadata": {
    "collapsed": false,
    "pycharm": {
     "name": "#%%\n"
    }
   }
  },
  {
   "cell_type": "code",
   "execution_count": 220,
   "outputs": [],
   "source": [
    "fout = open(\"../data/cmv_rr.jsonl\", \"w\")\n",
    "\n",
    "args = [json.loads(ln) for ln in open(\"../data/cmv_processed.jsonl\")]\n",
    "sample = args[0:10]\n",
    "\n",
    "for i, j in zip(retrieved_ranked, sample):\n",
    "    # Add counter to the dictionary (implicitly, i)\n",
    "    i[\"counter\"] = j[\"counter\"]\n",
    "    fout.write(json.dumps(i))\n",
    "    fout.write(\"\\n\")"
   ],
   "metadata": {
    "collapsed": false,
    "pycharm": {
     "name": "#%%\n"
    }
   }
  },
  {
   "cell_type": "code",
   "execution_count": 221,
   "outputs": [],
   "source": [
    "### EVALUATE OUTPUT ###\n",
    "train = [json.loads(ln) for ln in open(\"../data/cmv_rr.jsonl\", \"r\")]"
   ],
   "metadata": {
    "collapsed": false,
    "pycharm": {
     "name": "#%%\n"
    }
   }
  },
  {
   "cell_type": "code",
   "execution_count": 222,
   "outputs": [
    {
     "name": "stdout",
     "output_type": "stream",
     "text": [
      "[{'sentence': 'Section I Why is Basic Income Increasingly Popular?', 'kp': ['basic income increasingly popular', 'basic income increasingly', 'section basic income increasingly'], 'stance': 'NEUTRAL'}, {'sentence': 'Basic income is a policy that has broad support from both the progressive left and libertarian right.', 'kp': ['basic income', 'basic income policy', 'basic income policy broad'], 'stance': 'PRO'}, {'sentence': 'Centerleft economists including Paul Krugman have endorsed the scheme for various reasons.', 'kp': ['paul krugman endorsed scheme', 'economists including paul krugman', 'krugman endorsed scheme various'], 'stance': 'PRO'}, {'sentence': 'BI also reduces inequality by redistributing income from capital to labor.', 'kp': ['bi reduces inequality redistributing', 'reduces inequality redistributing income', 'inequality redistributing income capital'], 'stance': 'CON'}] \n",
      "\n",
      "[{'ranked_passages': \"Several British academics have been involved in the basic income debate. Among them the following:Organisations. The organisation Basic Income UK is 'a collective of independent people promoting unconditional basic income as a progressive social policy for the United Kingdom, and beyond'., Basic Income. Delaney opposes implementing a basic income (also known as a universal basic income). Minimum wage.\", 'kp': ['organisation basic income uk', 'basic income uk', 'united kingdom basic income']}, {'ranked_passages': \"Several British academics have been involved in the basic income debate. Among them the following:Organisations. The organisation Basic Income UK is 'a collective of independent people promoting unconditional basic income as a progressive social policy for the United Kingdom, and beyond'., A basic income is defined in the report as a policy that guarantees all members of a society a minimum amount of income. One type of basic income considered is the most well-known: a universal basic income (UBI). With a UBI, everyone receives a cash transfer at regular intervals, with no conditions, and no eligibility requirements except residency in the jurisdiction.\", 'kp': ['basic income uk', 'basic income ubi', 'universal basic income ubi']}, {'ranked_passages': \"Later in 2011, Krugman publicly endorsed market monetarist policy recommendations, suggesting 'a Fed regime shift' to 'expectations-based monetary policy,' and commending market monetarism for its focus on nominal GDP. Krugman used the term 'market monetarism' in his widely read blog. Also, in the fourth quarter of 2011, The Milken Institute released a study by Clark Johnson, advocating market monetarist approaches., Strategic Trade Policy and the New International Economics, ed. Paul Krugman. MIT Press, Cambridge Mass.\", 'kp': ['endorsed market monetarist policy', 'policy commending market monetarism', 'market monetarist policy']}, {'ranked_passages': \"Income taxes and cash benefits traditionally play an important role in redistributing income in Sweden, reducing inequality among the working-age population by about 28% (the OECD average [Of what?] is 25%). This redistributive effect has diminished over time, however, as it [What?], Debate continues over whether a public policy response is appropriate to income inequality. For example, Federal Reserve Economist Thomas Garrett wrote in 2010: 'It is important to understand that income inequality is a byproduct of a well-functioning capitalist economy. Individuals' earnings are directly related to their productivity ... A wary eye should be cast on policies that aim to shrink the income distribution by redistributing income from the more productive to the less productive simply for the sake of 'fairness.''\", 'kp': ['redistributing income sweden reducing', 'income sweden reducing inequality', 'redistributing income sweden']}] \n",
      "\n",
      "{'counter': 'your position rests on the assumption that most people given ideal education and social environments have the ability to do just about any job as well as anyone else. this assumption runs counter to the available data regarding the heritability of psychological traits and limits of environmental intervention.the reason this is significant is that there is a solid chance a great number of people will not have the interest or ability to transfer into these new areas of the economy no matter what programs are in place to assist them. even in the wildest post scarcity economic dream the idea that each person has the ability creativity and will to provide valued service seems pretty far fetched.so what do we do to feed these people? ever more programs for this and that further bloating our bureaucracy and keeping money from the people that need it to live?', 'counter_keyphrases': ['position rests', 'ideal education', 'education and social', 'social environments', 'assumption runs counter']} \n",
      "\n"
     ]
    }
   ],
   "source": [
    "_ = random.randint(0, len(train))\n",
    "print(train[_][\"argument\"], \"\\n\")\n",
    "print(train[_][\"retrieved\"], \"\\n\")\n",
    "print(train[_][\"counter\"], \"\\n\")"
   ],
   "metadata": {
    "collapsed": false,
    "pycharm": {
     "name": "#%%\n"
    }
   }
  },
  {
   "cell_type": "code",
   "execution_count": 62,
   "outputs": [
    {
     "name": "stdout",
     "output_type": "stream",
     "text": [
      "4 4\n",
      "4\n",
      "[[{'evidence': 'Many technology experts and technology entrepreneurs have begun endorsing basic income in the 2000s and 2010s. These include Marshal Brain, Sam Altman, James Hughes, Facebook co-founder Chris Hughes, Elon Musk, and Mark Zuckerberg (in his 2017 Harvard commencement speech), and Jeremy Rifkin. The overriding theme among technologists who favor basic income is the belief that automation is creating an increasingly unstable labor market.', 'kp': ('technologists favor basic income', 0.6414), 'similarity': 0.3174712657928467}, {'evidence': \"Committee member Lady Rhys-Williams argued that the incomes for adults should be more like a basic income. She was also the first to develop the negative income tax model. Her son Brandon Rhys Williams proposed a basic income to a parliamentary committee in 1982, and soon after that in 1984, the Basic Income Research Group, now the Citizen's Basic Income Trust, began to conduct and disseminate research on basic income.\", 'kp': ('williams proposed basic income', 0.7498), 'similarity': 0.3011493682861328}, {'evidence': 'Brazil. Minimum income has been increasingly accepted by the Brazilian government. In 2004, President\\xa0Lula da Silva signed into law a bill to establish a universal basic income.', 'kp': ('brazil minimum income increasingly', 0.7746), 'similarity': 0.2683749198913574}], [{'evidence': \"Several British academics have been involved in the basic income debate. Among them the following:Organisations. The organisation Basic Income UK is 'a collective of independent people promoting unconditional basic income as a progressive social policy for the United Kingdom, and beyond'.\", 'kp': ('organisation basic income uk', 0.8251), 'similarity': 0.559151828289032}, {'evidence': 'A basic income is defined in the report as a policy that guarantees all members of a society a minimum amount of income. One type of basic income considered is the most well-known: a universal basic income (UBI). With a UBI, everyone receives a cash transfer at regular intervals, with no conditions, and no eligibility requirements except residency in the jurisdiction.', 'kp': ('basic income ubi', 0.8611), 'similarity': 0.4547910690307617}, {'evidence': \"In May 2019, a report by Professor Guy Standing, commissioned by the Progressive Economic Forum and forwarded to John McDonnell (the acting Shadow Chancellor of the Exchequer) suggested different models for piloting basic income. Standing's report ('Basic Income as Common Dividends: Piloting a Transformative Policy. A Report for the Shadow Chancellor of the Exchequer)' cites a 'perfect storm' of factors that lead to the need for a basic income: Broad ethical justifications for basic income, which Standing cites as 'social justice, security, freedom and solidarity' are now working in combination with urgent socio-economic demands.\", 'kp': ('basic income standing cites', 0.7328), 'similarity': 0.43910565972328186}], [{'evidence': 'Strategic Trade Policy and the New International Economics, ed. Paul Krugman. MIT Press, Cambridge Mass.', 'kp': ('strategic trade policy new', 0.8215), 'similarity': 0.4906909763813019}, {'evidence': 'Paul Krugman. Paul Krugman obtained his B.A. from Yale in 1974 and a PhD in economics from MIT in 1977.', 'kp': ('paul krugman obtained yale', 0.7841), 'similarity': 0.44324031472206116}, {'evidence': \"(with Paul Krugman and Daniel Tsiddon), American Economic Review, December 1993, pp. 1211 1219. 'Technology and Life Cycle of Cities'(with Paul Krugman), Journal of Economic Growth, December 1997, pp.\", 'kp': ('cities paul krugman journal', 0.7116), 'similarity': 0.3929845988750458}], [{'evidence': 'Income taxes and cash benefits traditionally play an important role in redistributing income in Sweden, reducing inequality among the working-age population by about 28% (the OECD average [Of what?] is 25%). This redistributive effect has diminished over time, however, as it [What?]', 'kp': ('redistributing income sweden reducing', 0.8186), 'similarity': 0.3666048049926758}, {'evidence': \"Debate continues over whether a public policy response is appropriate to income inequality. For example, Federal Reserve Economist Thomas Garrett wrote in 2010: 'It is important to understand that income inequality is a byproduct of a well-functioning capitalist economy. Individuals' earnings are directly related to their productivity ... A wary eye should be cast on policies that aim to shrink the income distribution by redistributing income from the more productive to the less productive simply for the sake of 'fairness.''\", 'kp': ('income inequality byproduct functioning', 0.6669), 'similarity': 0.35747021436691284}, {'evidence': 'Taxes. Income taxes provide one mechanism for addressing after-tax inequality. Increasing the effective progressivity of income taxes reduces the gap between higher and lower incomes.', 'kp': ('mechanism addressing tax inequality', 0.7644), 'similarity': 0.28418540954589844}]]\n"
     ]
    }
   ],
   "source": [
    "# Handle duplicates\n",
    "# def rank_passages(ev, k=3):\n",
    "#     \"\"\" Handles a Retrieved Evidence Object, returning the top-k passages for each ADU \"\"\"\n",
    "#     # Per Argument\n",
    "#     # Index into Retrieved Evidence Object\n",
    "#     adus = [i for i in ev[0][\"argument\"]]\n",
    "#     retrieved = [i for i in ev[0][\"retrieved\"]]\n",
    "#\n",
    "#     #print(len(retrieved), len(adus))\n",
    "#\n",
    "#     # Rank k-returned passages for each ADU\n",
    "#     r_retrieved = []\n",
    "#     for adu, passage in zip(adus, retrieved):\n",
    "#         scored = []\n",
    "#         ranked_ev = []\n",
    "#         for _, kp in zip(passage[\"evidence\"], passage[\"kp\"]):\n",
    "#             scored.append((_, kp, cosine_similarity(str(adu), str(_))))\n",
    "#\n",
    "#         scored = sorted(scored, key=lambda x: x[2], reverse=True)[0:3]\n",
    "#         for i, j, k in scored:\n",
    "#             ranked_ev.append({\"evidence\": i, \"kp\": j, \"similarity\": k})\n",
    "#\n",
    "#         r_retrieved.append(ranked_ev)\n",
    "#\n",
    "#     return r_retrieved\n",
    "\n",
    "# 1 Argument x 4 ADUs x 5 Retrieved Passages\n",
    "# ranked = [i for i in rank_passages(retrieved_ev[3])]\n",
    "# print(len(ranked))\n",
    "# print(ranked)"
   ],
   "metadata": {
    "collapsed": false,
    "pycharm": {
     "name": "#%%\n"
    }
   }
  },
  {
   "cell_type": "code",
   "execution_count": 202,
   "outputs": [
    {
     "data": {
      "text/plain": "[{'ranked_passages': \"Several British academics have been involved in the basic income debate. Among them the following:Organisations. The organisation Basic Income UK is 'a collective of independent people promoting unconditional basic income as a progressive social policy for the United Kingdom, and beyond'., Basic Income. Delaney opposes implementing a basic income (also known as a universal basic income). Minimum wage.\",\n  'kp': ['organisation basic income uk',\n   'basic income uk',\n   'united kingdom basic income']},\n {'ranked_passages': \"Several British academics have been involved in the basic income debate. Among them the following:Organisations. The organisation Basic Income UK is 'a collective of independent people promoting unconditional basic income as a progressive social policy for the United Kingdom, and beyond'., A basic income is defined in the report as a policy that guarantees all members of a society a minimum amount of income. One type of basic income considered is the most well-known: a universal basic income (UBI). With a UBI, everyone receives a cash transfer at regular intervals, with no conditions, and no eligibility requirements except residency in the jurisdiction.\",\n  'kp': ['basic income uk', 'basic income ubi', 'universal basic income ubi']},\n {'ranked_passages': \"Later in 2011, Krugman publicly endorsed market monetarist policy recommendations, suggesting 'a Fed regime shift' to 'expectations-based monetary policy,' and commending market monetarism for its focus on nominal GDP. Krugman used the term 'market monetarism' in his widely read blog. Also, in the fourth quarter of 2011, The Milken Institute released a study by Clark Johnson, advocating market monetarist approaches., Strategic Trade Policy and the New International Economics, ed. Paul Krugman. MIT Press, Cambridge Mass.\",\n  'kp': ['endorsed market monetarist policy',\n   'policy commending market monetarism',\n   'market monetarist policy']},\n {'ranked_passages': \"Income taxes and cash benefits traditionally play an important role in redistributing income in Sweden, reducing inequality among the working-age population by about 28% (the OECD average [Of what?] is 25%). This redistributive effect has diminished over time, however, as it [What?], Debate continues over whether a public policy response is appropriate to income inequality. For example, Federal Reserve Economist Thomas Garrett wrote in 2010: 'It is important to understand that income inequality is a byproduct of a well-functioning capitalist economy. Individuals' earnings are directly related to their productivity ... A wary eye should be cast on policies that aim to shrink the income distribution by redistributing income from the more productive to the less productive simply for the sake of 'fairness.''\",\n  'kp': ['redistributing income sweden reducing',\n   'income sweden reducing inequality',\n   'redistributing income sweden']}]"
     },
     "execution_count": 202,
     "metadata": {},
     "output_type": "execute_result"
    }
   ],
   "source": [
    "# Fix KW extraction\n",
    "# Fix Duplicates\n",
    "# def rank_passages(ev, k=2):\n",
    "#     adus = [i for i in ev[\"argument\"]]\n",
    "#     retrieved = [i for i in ev[\"retrieved\"]]\n",
    "#\n",
    "#     rank_retrieved = []\n",
    "#     count = 0\n",
    "#\n",
    "#     for adu, passages in zip(adus, retrieved):\n",
    "#         count += 1\n",
    "#         scored = []\n",
    "#\n",
    "#         # 5 passages\n",
    "#         for passage in passages[\"passages\"]:\n",
    "#             score = cosine_similarity(str(adu), str(passage))\n",
    "#             scored.append((passage, score))\n",
    "#\n",
    "#         ranked_passages = sorted(scored, key=lambda x: x[1], reverse=True)\n",
    "#         ranked_passages = ranked_passages[0:k]\n",
    "#\n",
    "#         merged = \", \".join(i[0] for i in ranked_passages)\n",
    "#         merged_kp = extract_keyphrase(merged)\n",
    "#         rank_retrieved.append({\"ranked_passages\": merged, \"kp\": merged_kp})\n",
    "#\n",
    "#     return rank_retrieved\n",
    "#\n",
    "# ev = retrieved_ev[0]\n",
    "# rank_passages(ev)"
   ],
   "metadata": {
    "collapsed": false,
    "pycharm": {
     "name": "#%%\n"
    }
   }
  },
  {
   "cell_type": "code",
   "execution_count": 458,
   "outputs": [],
   "source": [
    "# def fuck_you():\n",
    "#     print(\"fuck you\")\n",
    "#\n",
    "# fuck_you()\n",
    "#\n",
    "# def rank_(ev):\n",
    "#     # Index into Retrieved Evidence Object\n",
    "#     ev = ev[0]\n",
    "#     adus = [i for i in ev[0][\"argument\"]]\n",
    "#     retrieved = [i for i in ev[0][\"retrieved\"]]\n",
    "#     k = 3\n",
    "#     print(\"hello\")\n",
    "#     # # Rank k-returned passages for each ADU\n",
    "#     # count = 0\n",
    "#     # r_retrieved = []\n",
    "#     # for adu, passage in zip(adus, retrieved):\n",
    "#     #     count += 1\n",
    "#     #     ranked_passages = []\n",
    "#     #     for _ in passage[\"evidence\"]:\n",
    "#     #         print(_)\n",
    "#     #         ranked_passages.append((_, cosine_similarity(adu, _)))\n",
    "#     #         r_retrieved.append({\"evidence\": i, \"similarity\": k} for i, k in sorted(ranked_passages, key=lambda x: x[1], reverse=True)[0:k])\n",
    "#     #         print(r_retrieved)\n",
    "#\n",
    "#     # return {\n",
    "#     #     \"r_retrieved\": r_retrieved\n",
    "#     # }\n",
    "#\n",
    "# #print(rank_(retrieved_ev[0:1]))"
   ],
   "metadata": {
    "collapsed": false,
    "pycharm": {
     "name": "#%%\n"
    }
   }
  },
  {
   "cell_type": "code",
   "execution_count": 116,
   "outputs": [
    {
     "name": "stderr",
     "output_type": "stream",
     "text": [
      "100%|██████████| 100/100 [00:30<00:00,  3.23it/s]"
     ]
    },
    {
     "name": "stdout",
     "output_type": "stream",
     "text": [
      "30.97145128250122\n"
     ]
    },
    {
     "name": "stderr",
     "output_type": "stream",
     "text": [
      "\n"
     ]
    }
   ],
   "source": [
    "# from multiprocessing.pool import ThreadPool as Pool\n",
    "# from yake import KeywordExtractor\n",
    "# import tqdm.notebook as tqdm\n",
    "# import time\n",
    "# from summa import keywords\n",
    "# from tqdm import tqdm\n",
    "#\n",
    "# ### PASSAGE RANKING; KEYWORD OVERLAP ###\n",
    "# kw_extractor = KeywordExtractor(lan=\"en\", n=3, top=5)\n",
    "#\n",
    "# # TODOs: For each ADU, Rank Merged Evidence using Keyword Overlap and Filter for Contrasting Stance\n",
    "# # TODOs: Handel Multiple Keywords\n",
    "#\n",
    "# def overlap_score(evidence_kp, adu_kp):\n",
    "#     score = 0\n",
    "#     # TODOs: Robust 'None' handeling\n",
    "#     if adu_kp == None:\n",
    "#         return score\n",
    "#     # Split Keyphrase into components, scoring partial units as overlap\n",
    "#     else:\n",
    "#         for i in evidence_kp:\n",
    "#             for j in i.split():\n",
    "#                 # Ensure string value, to enact .find\n",
    "#                 if \", \".join([i for i in adu_kp]).find(j) != -1: score += 1\n",
    "#\n",
    "#                 else: continue\n",
    "#\n",
    "#     return score\n",
    "#\n",
    "# def calculate_overlap(merged_ev, adu_kp):\n",
    "#\n",
    "#     for ev_unit in sentences_segment(merged_ev):\n",
    "#         toks = tokeniser(ev_unit)\n",
    "#         kp_overlap = 0\n",
    "#\n",
    "#         if len(toks) <= 8: continue\n",
    "#\n",
    "#         #ev_unit_kp = [i for i in keywords.keywords(ev_unit).split(\"\\n\")]\n",
    "#         ev_unit_kp = [i[0] for i in kw_extractor.extract_keywords(ev_unit)]\n",
    "#\n",
    "#         if ev_unit_kp:\n",
    "#             kp_overlap = overlap_score(evidence_kp=ev_unit_kp, adu_kp=adu_kp)\n",
    "#\n",
    "#         else: ev_unit_kp = None\n",
    "#         yield ev_unit, ev_unit_kp, kp_overlap\n",
    "#\n",
    "# # pool = Pool(8)\n",
    "# ### RANK PASSAGES ###\n",
    "# def score_passages(ev_):\n",
    "#     adu = ev_[0][\"argument_discourse_unit\"]\n",
    "#     adu_stance = ev_[0][\"adu_stance\"]\n",
    "#     merged_ev = ev_[0][\"merged_evidence\"]\n",
    "#     adu_kp = ev_[0][\"adu_keyphrases\"]\n",
    "#\n",
    "#     ### CALCULATE OVERLAP ###\n",
    "#     for ev_unit, ev_unit_kp, kp_overlap in calculate_overlap(merged_ev, adu_kp):\n",
    "#         target = adu_kp[0]\n",
    "#\n",
    "#         compared_stace = compare_stance(ev_unit, target)\n",
    "#         if compared_stace != adu_stance:\n",
    "#             yield {\n",
    "#                 \"adu\": adu,\n",
    "#                 \"adu_kp\": adu_kp,\n",
    "#                 \"evidence_unit\": ev_unit,\n",
    "#                 \"evidence_kps\": ev_unit_kp,\n",
    "#                 \"overlap\": kp_overlap,\n",
    "#                 \"evidence_stance\": compare_stance(ev_unit, target),\n",
    "#                 \"adu_stance\": adu_stance\n",
    "#             }\n",
    "#\n",
    "#         else: continue\n",
    "#\n",
    "# ### SCORED EVIDENCE ###\n",
    "# def score_evidence(retrieved_evidence):\n",
    "#     for ev_ in retrieved_ev:\n",
    "#         yield [i for i in score_passages(ev_)]\n",
    "#\n",
    "# ### RANKED EVIDENCE ###\n",
    "# def rank_filter_counter_evidence(retireved_evidence, k=3):\n",
    "#     with tqdm(total=(len(retrieved_ev))) as pbar:\n",
    "#         for i in score_evidence(retrieved_ev):\n",
    "#             yield sorted(i, key=lambda y: y[\"overlap\"], reverse=True)[0:k]\n",
    "#\n",
    "#             pbar.update()\n",
    "#\n",
    "#\n",
    "# ### SELECT TOP-K COUNTER-EVIDENCE ###\n",
    "# tic = time.time()\n",
    "# ranked_sorted_evidence = [i for i in rank_filter_counter_evidence(retrieved_ev)]\n",
    "# ranked_sorted_evidence\n",
    "# toc = time.time()\n",
    "#\n",
    "# print(toc - tic)\n",
    "# # TIME 1:20M"
   ],
   "metadata": {
    "collapsed": false,
    "pycharm": {
     "name": "#%%\n"
    }
   }
  },
  {
   "cell_type": "code",
   "execution_count": 250,
   "outputs": [
    {
     "name": "stdout",
     "output_type": "stream",
     "text": [
      "Section I Why is Basic Income Increasingly Popular?\n",
      "['basic income increasingly popular', 'basic income increasingly', 'section basic income increasingly']\n",
      "\n",
      "Brazil. Minimum income has been increasingly accepted by the Brazilian government. In 2004, President Lula da Silva signed into law a bill to establish a universal basic income. Committee member Lady Rhys-Williams argued that the incomes for adults should be more like a basic income. She was also the first to develop the negative income tax model. Her son Brandon Rhys Williams proposed a basic income to a parliamentary committee in 1982, and soon after that in 1984, the Basic Income Research Group, now the Citizen's Basic Income Trust, began to conduct and disseminate research on basic income. Many technology experts and technology entrepreneurs have begun endorsing basic income in the 2000s and 2010s. These include Marshal Brain, Sam Altman, James Hughes, Facebook co-founder Chris Hughes, Elon Musk, and Mark Zuckerberg (in his 2017 Harvard commencement speech), and Jeremy Rifkin. The overriding theme among technologists who favor basic income is the belief that automation is creating an increasingly unstable labor market. Several British academics have been involved in the basic income debate. Among them the following:Organisations. The organisation Basic Income UK is 'a collective of independent people promoting unconditional basic income as a progressive social policy for the United Kingdom, and beyond'. Basic Income. Delaney opposes implementing a basic income (also known as a universal basic income). Minimum wage.\n",
      "['proposed basic income', 'basic income develop', 'basic income uk']\n",
      "Basic income is a policy that has broad support from both the progressive left and libertarian right.\n",
      "['basic income', 'basic income policy', 'basic income policy broad']\n",
      "\n",
      "Several British academics have been involved in the basic income debate. Among them the following:Organisations. The organisation Basic Income UK is 'a collective of independent people promoting unconditional basic income as a progressive social policy for the United Kingdom, and beyond'. In May 2019, a report by Professor Guy Standing, commissioned by the Progressive Economic Forum and forwarded to John McDonnell (the acting Shadow Chancellor of the Exchequer) suggested different models for piloting basic income. Standing's report ('Basic Income as Common Dividends: Piloting a Transformative Policy. A Report for the Shadow Chancellor of the Exchequer)' cites a 'perfect storm' of factors that lead to the need for a basic income: Broad ethical justifications for basic income, which Standing cites as 'social justice, security, freedom and solidarity' are now working in combination with urgent socio-economic demands. A basic income is defined in the report as a policy that guarantees all members of a society a minimum amount of income. One type of basic income considered is the most well-known: a universal basic income (UBI). With a UBI, everyone receives a cash transfer at regular intervals, with no conditions, and no eligibility requirements except residency in the jurisdiction. Congress eventually approved a guaranteed minimum income for the elderly and the disabled. In the mid-1970s the main competitor to basic income and negative income tax, the Earned income tax credit (EITC), or its advocates, won over enough legislators for the US Congress to pass laws on that policy. In 1986, the Basic Income European Network, later renamed to Basic Income Earth Network (BIEN), was founded, with academic conferences every second year. The Queensland Greens were the first Australian party to adopt a Guaranteed Adequate Income (GAI) policy in 1999. Basic Income Guarantee Australia was accepted into the Basic Income Earth Network in 2006 as an affiliate member. In August 2014, ACOSS made a recommendation to simplify the welfare system via a basic income support payment; however, this differs from a universal guaranteed income in that it would still be means-tested.\n",
      "['basic income uk', 'organisation basic income uk', 'basic income uk collective']\n",
      "Centerleft economists including Paul Krugman have endorsed the scheme for various reasons.\n",
      "['paul krugman endorsed scheme', 'economists including paul krugman', 'krugman endorsed scheme various']\n",
      "\n",
      "Paul Krugman. Paul Krugman obtained his B.A. from Yale in 1974 and a PhD in economics from MIT in 1977. Strategic Trade Policy and the New International Economics, ed. Paul Krugman. MIT Press, Cambridge Mass. (with Paul Krugman and Daniel Tsiddon), American Economic Review, December 1993, pp. 1211 1219. 'Technology and Life Cycle of Cities'(with Paul Krugman), Journal of Economic Growth, December 1997, pp. But it's their 'right' to behave like a bunch of utter morons.' On the other hand, many economists and business analysts endorsed the coin as a way to counter threats by congressional Republicans to force the country into default by refusing to raise the debt limit. Paul Krugman said, 'So minting the coin would be undignified, but so what? Later in 2011, Krugman publicly endorsed market monetarist policy recommendations, suggesting 'a Fed regime shift' to 'expectations-based monetary policy,' and commending market monetarism for its focus on nominal GDP. Krugman used the term 'market monetarism' in his widely read blog. Also, in the fourth quarter of 2011, The Milken Institute released a study by Clark Johnson, advocating market monetarist approaches.\n",
      "['krugman said minting coin', 'economics ed paul krugman', 'paul krugman journal economic']\n",
      "BI also reduces inequality by redistributing income from capital to labor.\n",
      "['bi reduces inequality redistributing', 'reduces inequality redistributing income', 'inequality redistributing income capital']\n",
      "\n",
      "Income taxes and cash benefits traditionally play an important role in redistributing income in Sweden, reducing inequality among the working-age population by about 28% (the OECD average [Of what?] is 25%). This redistributive effect has diminished over time, however, as it [What?] Debate continues over whether a public policy response is appropriate to income inequality. For example, Federal Reserve Economist Thomas Garrett wrote in 2010: 'It is important to understand that income inequality is a byproduct of a well-functioning capitalist economy. Individuals' earnings are directly related to their productivity ... A wary eye should be cast on policies that aim to shrink the income distribution by redistributing income from the more productive to the less productive simply for the sake of 'fairness.'' Taxes. Income taxes provide one mechanism for addressing after-tax inequality. Increasing the effective progressivity of income taxes reduces the gap between higher and lower incomes. This suggests that non-EU workers may have a tougher time finding high-skilled jobs than getting low-skilled work. Although income inequality between low-skilled and high-skilled workers is increasing, low-skilled workers are generally very well paid, inequality remains low and the lower and higher classes alike enjoy a very generous universal welfare state. Income taxes and cash benefits traditionally play an important role in redistributing income in Sweden, reducing inequality among the working-age population by about 28% (the OECD average [Of what?] NYU economist William Baumol found that substantial inequality does not stimulate growth because poverty reduces labor force productivity. Economists Dierk Herzer and Sebastian Vollmer found that increased income inequality reduces economic growth, but growth itself increases income inequality. A 1996 study by Perotti examined the channels through which inequality may affect economic growth.\n",
      "['income sweden reducing inequality', 'redistributing income sweden reducing', 'redistributing income sweden']\n"
     ]
    }
   ],
   "source": [
    "# idx = 2\n",
    "# for ln in retrieved_ev:\n",
    "#     r = ln[0]\n",
    "#     for _ in range(0, len(r[\"argument\"])):\n",
    "#         print(r[\"argument\"][_][\"sentence\"])\n",
    "#         print(r[\"argument\"][_][\"kp\"])\n",
    "#         print(\"\")\n",
    "#         print(r[\"retrieved\"][_][\"evidence\"])\n",
    "#         print(r[\"retrieved\"][_][\"kp\"])\n",
    "\n",
    "#\"counter\": {\"counter\": arg[\"counter\"][\"counter\"], \"counter_kp\": arg[\"counter\"][\"counter_keyphrases\"]}\n",
    "# \"argument_discourse_unit\": adu,\n",
    "# \"query\": query,\n",
    "# \"adu_keyphrases\": [i for i in kp],\n",
    "# \"adu_stance\": sentence_stance(adu, kp),\n",
    "# \"merged_evidence\": \", \".join(ln for ln in evidence)\n",
    "# \"retrieved_documents_titles\": titles,\n",
    "# \"retrieved_evidence\": evidence,"
   ],
   "metadata": {
    "collapsed": false,
    "pycharm": {
     "name": "#%%\n"
    }
   }
  },
  {
   "cell_type": "code",
   "execution_count": null,
   "outputs": [],
   "source": [
    "# # TODOs: Speed-up, Parrelleise, Yield\n",
    "# def overlap_score(evidence_kp, adu_kp):\n",
    "#     score = 0\n",
    "\n",
    "#     # Split Keyphrase into components, scoring partial units as overlap\n",
    "#     for i in evidence_kp:\n",
    "#         for j in i.split():\n",
    "#             # Ensure string value, to enact .find\n",
    "#             if \" \".join(adu_kp).find(j) != -1: score += 1\n",
    "\n",
    "#             else: continue\n",
    "\n",
    "#     return score\n",
    "\n",
    "# ev_units = evidence\n",
    "# adu_kp = extract_keyphrase(adu)\n",
    "\n",
    "# adu_ev_overlap = []\n",
    "\n",
    "# kp_1 = ['sex', 'relationship', 'opportunity']\n",
    "# kp_2 = ['better sex']\n",
    "\n",
    "# overlap_score(kp_2, kp_1)\n",
    "\n",
    "# for ev_unit in evidence:\n",
    "#     #print(ev_unit)\n",
    "#     toks = tokeniser(ev_unit)\n",
    "\n",
    "#     # Exprimental Value\n",
    "#     if len(toks) <= 8:\n",
    "#         continue\n",
    "\n",
    "#     ev_unit_kp = extract_keyphrase(ev_unit)\n",
    "#     kp_overlap = overlap_score(evidence_kp=ev_unit_kp, adu_kp=adu_kp)\n",
    "\n",
    "#     adu_ev_overlap.append({\n",
    "#         \"adu\": adu,\n",
    "#         \"adu_kp\": adu_kp,\n",
    "#         \"ev_unit\": ev_unit,\n",
    "#         \"ev_unit_kp\": ev_unit_kp,\n",
    "#         \"kp_overlap\": kp_overlap\n",
    "\n",
    "#         })\n",
    "\n",
    "# adu_ev_overlap"
   ],
   "metadata": {
    "collapsed": false,
    "pycharm": {
     "name": "#%%\n"
    }
   }
  },
  {
   "cell_type": "code",
   "execution_count": null,
   "metadata": {
    "pycharm": {
     "name": "#%%\n"
    }
   },
   "outputs": [],
   "source": [
    "# ### OVERLAP RANKED EVIDENCE ###\n",
    "\n",
    "# adu_ev_overlap.sort(key=lambda y: y[\"kp_overlap\"], reverse=True)\n",
    "# adu_ev_overlap\n",
    "\n",
    "# ### FILTER IRRELEVANT EVIDENCE ###\n",
    "# overlapping = [i for i in adu_ev_overlap if i[\"kp_overlap\"] !=0]\n",
    "\n",
    "# len(adu_ev_overlap), len(overlapping)\n",
    "# overlapping\n"
   ]
  },
  {
   "cell_type": "code",
   "execution_count": 15,
   "outputs": [
    {
     "data": {
      "text/plain": "'PRO'"
     },
     "execution_count": 15,
     "metadata": {},
     "output_type": "execute_result"
    }
   ],
   "source": [
    "# Stance Test\n",
    "# adu = 'I cant remember the topic that spurred this discussion but a friend and I were debating whether manmade things were natural.'\n",
    "# ev_unit = 'In this essay, Mill argues the idea that the morality of an action can be judged by whether it is natural or unnatural.'\n",
    "# target = 'natural things'\n",
    "#\n",
    "# stance = compare_stance(ev_unit, target)\n",
    "# stance"
   ],
   "metadata": {
    "collapsed": false,
    "pycharm": {
     "name": "#%%\n"
    }
   }
  },
  {
   "cell_type": "code",
   "execution_count": null,
   "metadata": {
    "pycharm": {
     "name": "#%%\n"
    }
   },
   "outputs": [],
   "source": [
    "# ### ASSERT SAME STANCE ###\n",
    "# from detection.stance_classifier import sentence_stance, compare_stance\n",
    "#\n",
    "# # TODOs: Ensure KPs Extracts are constrained to 1 unit\n",
    "# opposing_stance = []\n",
    "# for i in overlapping:\n",
    "#     adu = i[\"adu\"]\n",
    "#     target = \" \".join(i for i in i[\"adu_kp\"])\n",
    "#     ev_unit = i[\"ev_unit\"]\n",
    "#\n",
    "#     ev_stance = compare_stance(ev_unit, ev_unit, target)\n",
    "#     adu_stance = sentence_stance(adu, target)\n",
    "#\n",
    "#     if ev_stance != adu_stance:\n",
    "#         opposing_stance.append((ev_unit, ev_stance, adu_stance))\n",
    "#\n",
    "#     else: continue\n",
    "#\n",
    "# opposing_stance"
   ]
  },
  {
   "cell_type": "code",
   "execution_count": null,
   "metadata": {
    "pycharm": {
     "name": "#%%\n"
    }
   },
   "outputs": [],
   "source": [
    "### RANKING ###\n",
    "\n",
    "# TODOs: Speed-up, Parrelleise, Yield\n",
    "# ev_units = evidence\n",
    "# adu_kp = extract_keyphrase(adu)\n",
    "\n",
    "# adu_ev_overlap = []\n",
    "\n",
    "# kp_1 = ['sex', 'relationship', 'opportunity'] \n",
    "# kp_2 = ['better sex']\n",
    "\n",
    "# overlap_score(kp_2, kp_1)\n",
    "\n",
    "# for ev_unit in evidence:\n",
    "#     #print(ev_unit)\n",
    "#     toks = tokeniser(ev_unit)\n",
    "\n",
    "#     # Exprimental Value\n",
    "#     if len(toks) <= 8:\n",
    "#         continue\n",
    "    \n",
    "#     ev_unit_kp = extract_keyphrase(ev_unit)\n",
    "#     kp_overlap = overlap_score(evidence_kp=ev_unit_kp, adu_kp=adu_kp)\n",
    "    \n",
    "#     adu_ev_overlap.append({\n",
    "#         \"adu\": adu, \n",
    "#         \"adu_kp\": adu_kp,\n",
    "#         \"ev_unit\": ev_unit,\n",
    "#         \"ev_unit_kp\": ev_unit_kp, \n",
    "#         \"kp_overlap\": kp_overlap\n",
    "        \n",
    "#         })\n",
    "        \n",
    "# adu_ev_overlap\n",
    "\n",
    "\n",
    "#rank_passages(retrieved_ev)"
   ]
  },
  {
   "cell_type": "code",
   "execution_count": null,
   "metadata": {
    "pycharm": {
     "name": "#%%\n"
    }
   },
   "outputs": [],
   "source": [
    "# import spacy\n",
    "# from spacy.matcher import PhraseMatcher\n",
    "# from fuzzywuzzy import fuzz, process\n",
    "\n",
    "# # TODOs: Package as a Module\n",
    "# # TODOs: Handle Negation (Polarity shifters)\n",
    "# # TODOs: Review Unsuperived Approach; Consider adveanced patterns and common-sence knowledge\n",
    "\n",
    "# nlp = spacy.load(\"en_core_web_sm\")\n",
    "\n",
    "# sentence = \"I hate abortion rights. Abortions should be banned.\"\n",
    "# sentence_2 = \"I like abortion rights. I belive we should keep them.\"\n",
    "# sentence_3 = \"I hate tennis. People should play tennis more often\"\n",
    "\n",
    "# ### STANCE SCORING ###\n",
    "\n",
    "# # TODOs: https://www.cs.uic.edu/~liub/FBS/opinion-mining-final-WSDM.pdf \n",
    "# # TODOs: Pattern based Negation\n",
    "# # TODOs: Semantic Orientation of an opinion (Claim)\n",
    "# # TODOs:Group synonyms of 'features', 'targets'\n",
    "\n",
    "# phrase_matcher = PhraseMatcher(nlp.vocab)\n",
    "\n",
    "# ### SENTIMENT LEXICONS ###\n",
    "# pos = [w.replace(\"\\n\", \"\") for w in open(\"../../data/lexicon/positive_lex.txt\")]\n",
    "# neg = [w.replace(\"\\n\", \"\") for w in open(\"../../data/lexicon/negative_lex.txt\")]\n",
    "# polarity_shifters = [w.replace(\"\\n\", \"\") for w in open(\"../../data/lexicon/shifter_lexicon.txt\")]\n",
    "\n",
    "# ### STANCE: ASPECT-SEMANTIC ORIENTATION ###\n",
    "# def extract_aspect(sentence, n_gram):\n",
    "#     aspects = extract_keyphrase(str(sentence))[0]\n",
    "\n",
    "#     return nlp(aspects)\n",
    "\n",
    "# def index_aspect(phrase, aspect, sentence):    \n",
    "#     patterns = [nlp(aspect)]\n",
    "#     phrase_matcher.add(phrase, None, *patterns)\n",
    "\n",
    "#     start = 0\n",
    "#     stop = 0\n",
    "\n",
    "#     matched_phrases = phrase_matcher(sentence)\n",
    "#     for i in matched_phrases:\n",
    "#         _, start, stop = i\n",
    "        \n",
    "#     return start, stop\n",
    "\n",
    "# # TODOs: Implement Polarity Shifters, Simple\n",
    "# # TODOs: Implement Polarity Shifters, Complex, Verb Patterns\n",
    "# def stance_score(start, stop, sentence):\n",
    "#     pos_score = 0.0\n",
    "#     neg_score = 0.0\n",
    "\n",
    "#     score = 0\n",
    "#     for idx, tok in enumerate(sentence):\n",
    "#         if idx == start or idx == stop:\n",
    "#             continue\n",
    "\n",
    "#         # TODOs: Implement Polarity Shift\n",
    "#         # TODOs: Experiement with descriptive term + keyphrase aspects\n",
    "#         # TODOs: ABSA https://www.kaggle.com/code/phiitm/aspect-based-sentiment-analysis\n",
    "#         # Use external libaray: Textblob\n",
    "        \n",
    "#         k = 8\n",
    "#         # Negation Rules\n",
    "#         shifted_tok = None\n",
    "#         shifted_toks = []\n",
    "\n",
    "#         if (tok.dep_ == \"neg\") or (tok.dep_ in polarity_shifters):\n",
    "#             #Shift to Negative\n",
    "#             if idx <= k:\n",
    "#                 if idx < start: neg_score += 1/(start - idx)\n",
    "#                 else: neg_score += 1/(idx - stop)**0.5\n",
    "\n",
    "#             if shifted_tok != None and shifted_tok in neg:\n",
    "#                 print(shifted_tok.text)\n",
    "#                 # Shift to Positive\n",
    "#                 if idx < start: pos_score += 1/(start - idx)\n",
    "#                 elif idx > start: pos_score += 1/(idx - stop)**0.5\n",
    "#                 else: continue\n",
    "\n",
    "#         # Aspect Sentement Orientation\n",
    "#         if tok.text in pos:\n",
    "#             if tok in shifted_toks:\n",
    "#                 continue\n",
    "            \n",
    "#             if idx < start: pos_score += 1/(start - idx)\n",
    "#             else: pos_score += 1/(idx - stop)**0.5\n",
    "\n",
    "#         if tok.text in neg:\n",
    "#             if tok in shifted_toks:\n",
    "#                 continue\n",
    "\n",
    "#             if idx <= start: neg_score += 1/(start - idx)\n",
    "#             else: neg_score += 1/(idx - stop)**0.5\n",
    "    \n",
    "#     score = pos_score - neg_score /(pos_score + neg_score + 1)\n",
    "\n",
    "#     return score\n",
    "\n",
    "# def overlap_score(evidence_kp, adu_kp):\n",
    "#     score = 0\n",
    "    \n",
    "#     # Split Keyphrase into components, scoring partial units as overlap\n",
    "#     for i in evidence_kp:\n",
    "#         for j in i.split():\n",
    "#             # Ensure string value, to enact .find\n",
    "#             if \" \".join(adu_kp).find(j) != -1: \n",
    "#                 score += 1\n",
    "#                 token = j\n",
    "            \n",
    "#             else: continue\n",
    "    \n",
    "#     return score\n",
    "\n",
    "# def get_overlapping_token(evidence_kp, adu_kp):\n",
    "#     for i in evidence_kp:\n",
    "#         overlap_tokens = []\n",
    "#         for j in i.split():\n",
    "#             if \" \".join(adu_kp).find(j) != -1: \n",
    "#                 overlap_tokens.append(j) \n",
    "            \n",
    "#         return \" \".join(i for i in overlap_tokens)\n",
    "\n",
    "# def sentence_stance(sentence, aspect):\n",
    "#     sentence = nlp(sentence)\n",
    "\n",
    "#     start, stop = index_aspect(\"aspects\", aspect, sentence)\n",
    "#     score = stance_score(start, stop, sentence)\n",
    "\n",
    "#     # Add Neutral\n",
    "#     #stance = {\"claim\": sentence, \"stance\": \"PRO\", \"aspect\": aspect} if score > 0 else {\"claim\": sentence, \"stance\": \"CON\", \"aspect\": aspect}\n",
    "    \n",
    "#     return \"PRO\" if score > 0 else \"CON\"\n",
    "\n",
    "# def fuzzy_match(target, evidence_unit):\n",
    "\n",
    "#     overlapping_aspect = process.extractOne(target, ev.split())[0]\n",
    "#     score = overlapping_aspect[1]\n",
    "\n",
    "#     overlapping_aspect = nlp(re.sub(r'[^\\w]', ' ', overlapping_aspect))\n",
    "\n",
    "#     return overlapping_aspect, score\n",
    "\n",
    "# def compare_stance(ev_unit, evidence_aspect, adu_target):\n",
    "#     # Note: Already identified mathcing or partially matching Aspects. \n",
    "\n",
    "#     # Get the overlapping evidence aspect-target.\n",
    "#     overlapping_target, score = fuzzy_match(target=adu_aspect, evidence_unit=ev)\n",
    "    \n",
    "#     # Get position of the overlapping_target\n",
    "#     start, stop = index_aspect(\"OVERLAP\", nlp(overlapping_target), nlp(ev_unit))\n",
    "\n",
    "#     # Assert Stance towards evidence aspect\n",
    "#     score = stance_score(start, stop, nlp(ev_unit))\n",
    "    \n",
    "#     return \"PRO\" if score > 0 else \"CON\"\n",
    "\n",
    "# ev = \"These simple ideas and techniques could help both you and your lover enjoy sex. 1 / 10 Getty Images/Caiaimage Think beyond the thrust.\"\n",
    "# ev_aspect = \"sex\", \"relationship\", \"opportunity\"\n",
    "\n",
    "# adu = 'Hello! Let me preface by saying I dont believe there is a better sex.'\n",
    "# adu_aspect = \"better sex\"\n",
    "\n",
    "# print(sentence_stance(\"The mutual trust and understanding you share with your partner will lead to better sex, but that's not the only reason sex can be better when you're not in a relationship.\", adu_aspect))\n",
    "# print(compare_stance(ev, ev_aspect, adu_aspect))\n"
   ]
  },
  {
   "cell_type": "code",
   "execution_count": null,
   "metadata": {
    "pycharm": {
     "name": "#%%\n"
    }
   },
   "outputs": [],
   "source": [
    "# from spacy.matcher import DependencyMatcher, Matcher\n",
    "# matcher = Matcher(vocab=nlp.vocab)\n",
    "# matcher\n",
    "\n",
    "# # Matching Rule: Pronouns with Verbs that follow them\n",
    "# aspect = \"better sex\"\n",
    "# patterns = [\n",
    "#     [{\"DEP\": \"neg\"}, {\"LOWER\": aspect}],\n",
    "#     [{\"DEP\": \"neg\"}, {\"POS\": \"ADJ\"}, {\"LOWER\": aspect}],\n",
    "#     [{\"POS\": \"VERB\"}, {\"POS\": \"ADJ\"}, {\"LOWER\": aspect}],\n",
    "#     [{\"LOWER\": aspect.lower()}]\n",
    "# ]\n",
    "\n",
    "# test = nlp(\"Hello! Let me preface by saying I dont believe there is a not better sex.\")\n",
    "# test_2 = nlp(\"These simple ideas and techniques could help both you and your lover enjoy better sex.\")\n",
    "\n",
    "# matcher.add(\"test\", patterns=patterns)\n",
    "# result = matcher(test_2, as_spans=True)\n",
    "\n",
    "# result\n",
    "\n",
    "# # for tok in test:\n",
    "# #     print(tok.i, tok, tok.pos_, tok.dep_, tok.head.i, sep=\"\\t\")"
   ]
  },
  {
   "cell_type": "code",
   "execution_count": null,
   "metadata": {
    "pycharm": {
     "name": "#%%\n"
    }
   },
   "outputs": [],
   "source": [
    "### TARGETED RETRIEVAL: ATTACKING PEMISES ###\n",
    "\n",
    "# from BERT_adu_classifier import predict\n",
    "\n",
    "# premises = []\n",
    "# for sent in sentences:\n",
    "#     prediction = predict(sent)\n",
    "    \n",
    "#     if prediction == \"premise\":\n",
    "#         premises.append(sent)"
   ]
  }
 ],
 "metadata": {
  "kernelspec": {
   "name": "python3",
   "language": "python",
   "display_name": "Python 3 (ipykernel)"
  },
  "language_info": {
   "codemirror_mode": {
    "name": "ipython",
    "version": 3
   },
   "file_extension": ".py",
   "mimetype": "text/x-python",
   "name": "python",
   "nbconvert_exporter": "python",
   "pygments_lexer": "ipython3",
   "version": "3.10.6"
  },
  "orig_nbformat": 4,
  "vscode": {
   "interpreter": {
    "hash": "1b747fec5972a5a28202124dfae2950631b4721a6e18efe99aaae23c73408484"
   }
  }
 },
 "nbformat": 4,
 "nbformat_minor": 2
}