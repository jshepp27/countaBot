{
 "cells": [
  {
   "cell_type": "code",
   "execution_count": 1,
   "metadata": {
    "collapsed": true
   },
   "outputs": [],
   "source": [
    "# Pre-Process CMV Data\n",
    "# ====================\n",
    "\n",
    "import pandas as pd\n",
    "import json\n",
    "import re\n",
    "from IPython.display import Markdown\n",
    "import random"
   ]
  },
  {
   "cell_type": "code",
   "execution_count": 2,
   "outputs": [],
   "source": [
    "cmv = [json.loads(ln) for ln in open(\"./data/pairs.jsonl\", \"r\")]"
   ],
   "metadata": {
    "collapsed": false
   }
  },
  {
   "cell_type": "code",
   "execution_count": 3,
   "outputs": [],
   "source": [
    "id_ = []\n",
    "claims = []\n",
    "args = []\n",
    "counters = []\n",
    "\n",
    "for _ in cmv:\n",
    "    id_.append(_[\"submission\"][\"id\"])\n",
    "    claims.append(_[\"submission\"][\"title\"])\n",
    "    args.append(_[\"submission\"][\"selftext\"])\n",
    "    counters.append(_[\"delta_comment\"][\"comments\"][0][\"body\"])"
   ],
   "metadata": {
    "collapsed": false
   }
  },
  {
   "cell_type": "code",
   "execution_count": 4,
   "outputs": [
    {
     "name": "stdout",
     "output_type": "stream",
     "text": [
      "6561 / 10303\n"
     ]
    },
    {
     "data": {
      "text/plain": "\"I will confess, I don't think anyone *needs* to watch anything, but there are a few reasons to watch it with a different outlook.  It's actually a great story about resilience, making amends for past transgressions, and being courageous against the odds.  It really challenges the definition of what justice is and a transformation of a dude that had every reason to just fold.  It's set to some catchy tunes which you can sing to (and dance to, if you so wish).  If you can get yourself around these really powerful themes, I think you'll find it far from bland.\\n\\nEdit: minor grammar\""
     },
     "execution_count": 4,
     "metadata": {},
     "output_type": "execute_result"
    }
   ],
   "source": [
    "_ = random.randint(0, len(cmv))\n",
    "\n",
    "print(_, \"/\", len(counters))\n",
    "counters[_]"
   ],
   "metadata": {
    "collapsed": false
   }
  },
  {
   "cell_type": "code",
   "execution_count": 42,
   "outputs": [
    {
     "name": "stdout",
     "output_type": "stream",
     "text": [
      "10303\n"
     ]
    }
   ],
   "source": [
    "print(len(id_))"
   ],
   "metadata": {
    "collapsed": false
   }
  },
  {
   "cell_type": "code",
   "execution_count": 43,
   "outputs": [],
   "source": [
    "# Clean Post\n",
    "def cleanup(cmv_post):\n",
    "    lines = [\n",
    "        line for line in cmv_post.splitlines()\n",
    "        if not line.lstrip().startswith(\"&gt;\")\n",
    "        and not line.lstrip().startswith(\"____\")\n",
    "        and \"edit\" not in \" \".join(line.lower().split()[:2])\n",
    "    ]\n",
    "    return \"\\n\".join(lines)\n",
    "\n",
    "# Display Post IPython Markdown\n",
    "def show_post(title, cmv_post, counter):\n",
    "    cmv_post = cleanup(cmv_post)\n",
    "    md_format = \"**{}** \\n \\n {} \\n \\n **Counter** \\n \\n {}\".format(title, cmv_post, counter)\n",
    "    md_format = \"\\n\".join([\"> \" + line for line in md_format.splitlines()])\n",
    "\n",
    "    return Markdown(md_format)\n",
    "\n",
    "# Clean Text\n",
    "def full_clean(data):\n",
    "    # TODOs: Consider .strip()\n",
    "    cleaned = []\n",
    "\n",
    "    for i in data:\n",
    "        # CMV clean-up\n",
    "        i = i.lower()\n",
    "        clean = cleanup(i)\n",
    "\n",
    "        # RegEx clean-up\n",
    "        clean = re.sub(\"CMV:\", \" \", clean)\n",
    "        clean = re.sub(\"CMV\", \" \", clean)\n",
    "        clean = re.sub(\"cmv\", \" \", clean)\n",
    "        clean = re.sub(r'(\\.)(?:[A-Z])',r'\\1\\n', clean)\n",
    "        clean = re.sub(r\"http\\S+\", \"\", clean)\n",
    "        clean = re.sub(r\"\\n\", \"\", clean)\n",
    "        clean = re.sub(r'(?<=[a-z])\\'(?=[a-z])', '', clean)\n",
    "        clean = re.sub('([^a-zA-Z\\s.!?])', \"\", clean)\n",
    "        clean = re.sub('\\s+', ' ', clean)\n",
    "\n",
    "        clean = re.sub(r\"www\\S+\", \"\", clean)\n",
    "        cleaned.append(clean.strip())\n",
    "\n",
    "        #clean = re.sub(\"^\\s\", \"\", clean)\n",
    "\n",
    "    return cleaned"
   ],
   "metadata": {
    "collapsed": false
   }
  },
  {
   "cell_type": "code",
   "execution_count": 44,
   "outputs": [
    {
     "data": {
      "text/plain": "              id                                              claim  \\\n0      t3_30oi71  CMV: We should strengthen the traditional safe...   \n1      t3_30oi71  CMV: We should strengthen the traditional safe...   \n2      t3_30oi71  CMV: We should strengthen the traditional safe...   \n3      t3_30oi71  CMV: We should strengthen the traditional safe...   \n4      t3_4gdj35  CMV: Males and Females are socially and emotio...   \n...          ...                                                ...   \n10298  t3_3h69kp  CMV:The criticism of \"nice guys\" (as seen in r...   \n10299  t3_3h69kp  CMV:The criticism of \"nice guys\" (as seen in r...   \n10300  t3_1tqlde  I believe that people who say \"Why don't you j...   \n10301  t3_1qiccr  I don't see the point of feminism in the West....   \n10302  t3_1bc54q            I hold a deterministic view on life CMV   \n\n                                                argument  \\\n0      ## Section I: Why is Basic Income Increasingly...   \n1      ## Section I: Why is Basic Income Increasingly...   \n2      ## Section I: Why is Basic Income Increasingly...   \n3      ## Section I: Why is Basic Income Increasingly...   \n4      Hi CMV! \\n\\nI am of the belief that there cann...   \n...                                                  ...   \n10298  The reasoning behind this view is that everyon...   \n10299  The reasoning behind this view is that everyon...   \n10300  There have been a number of discussions on var...   \n10301  Feminism seems to me to be about acquiring equ...   \n10302  After thinking about it over and over again, I...   \n\n                                                 counter  \n0      The majority of your points seem predicated on...  \n1      &gt; Section V: Does the Welfare Trap Truly Ex...  \n2      First, your disagreements about different fund...  \n3      your position rests on the assumption that mos...  \n4      You seem to be basing your entire argument on ...  \n...                                                  ...  \n10298  &gt; everyone is entitled to human companionsh...  \n10299  Hey OP, so what WOULD change your view?\\nAre y...  \n10300  If you remove the entire religious aspect of C...  \n10301  &gt;Feminism seems to me to be about acquiring...  \n10302  One thing to consider is that free will and de...  \n\n[10303 rows x 4 columns]",
      "text/html": "<div>\n<style scoped>\n    .dataframe tbody tr th:only-of-type {\n        vertical-align: middle;\n    }\n\n    .dataframe tbody tr th {\n        vertical-align: top;\n    }\n\n    .dataframe thead th {\n        text-align: right;\n    }\n</style>\n<table border=\"1\" class=\"dataframe\">\n  <thead>\n    <tr style=\"text-align: right;\">\n      <th></th>\n      <th>id</th>\n      <th>claim</th>\n      <th>argument</th>\n      <th>counter</th>\n    </tr>\n  </thead>\n  <tbody>\n    <tr>\n      <th>0</th>\n      <td>t3_30oi71</td>\n      <td>CMV: We should strengthen the traditional safe...</td>\n      <td>## Section I: Why is Basic Income Increasingly...</td>\n      <td>The majority of your points seem predicated on...</td>\n    </tr>\n    <tr>\n      <th>1</th>\n      <td>t3_30oi71</td>\n      <td>CMV: We should strengthen the traditional safe...</td>\n      <td>## Section I: Why is Basic Income Increasingly...</td>\n      <td>&amp;gt; Section V: Does the Welfare Trap Truly Ex...</td>\n    </tr>\n    <tr>\n      <th>2</th>\n      <td>t3_30oi71</td>\n      <td>CMV: We should strengthen the traditional safe...</td>\n      <td>## Section I: Why is Basic Income Increasingly...</td>\n      <td>First, your disagreements about different fund...</td>\n    </tr>\n    <tr>\n      <th>3</th>\n      <td>t3_30oi71</td>\n      <td>CMV: We should strengthen the traditional safe...</td>\n      <td>## Section I: Why is Basic Income Increasingly...</td>\n      <td>your position rests on the assumption that mos...</td>\n    </tr>\n    <tr>\n      <th>4</th>\n      <td>t3_4gdj35</td>\n      <td>CMV: Males and Females are socially and emotio...</td>\n      <td>Hi CMV! \\n\\nI am of the belief that there cann...</td>\n      <td>You seem to be basing your entire argument on ...</td>\n    </tr>\n    <tr>\n      <th>...</th>\n      <td>...</td>\n      <td>...</td>\n      <td>...</td>\n      <td>...</td>\n    </tr>\n    <tr>\n      <th>10298</th>\n      <td>t3_3h69kp</td>\n      <td>CMV:The criticism of \"nice guys\" (as seen in r...</td>\n      <td>The reasoning behind this view is that everyon...</td>\n      <td>&amp;gt; everyone is entitled to human companionsh...</td>\n    </tr>\n    <tr>\n      <th>10299</th>\n      <td>t3_3h69kp</td>\n      <td>CMV:The criticism of \"nice guys\" (as seen in r...</td>\n      <td>The reasoning behind this view is that everyon...</td>\n      <td>Hey OP, so what WOULD change your view?\\nAre y...</td>\n    </tr>\n    <tr>\n      <th>10300</th>\n      <td>t3_1tqlde</td>\n      <td>I believe that people who say \"Why don't you j...</td>\n      <td>There have been a number of discussions on var...</td>\n      <td>If you remove the entire religious aspect of C...</td>\n    </tr>\n    <tr>\n      <th>10301</th>\n      <td>t3_1qiccr</td>\n      <td>I don't see the point of feminism in the West....</td>\n      <td>Feminism seems to me to be about acquiring equ...</td>\n      <td>&amp;gt;Feminism seems to me to be about acquiring...</td>\n    </tr>\n    <tr>\n      <th>10302</th>\n      <td>t3_1bc54q</td>\n      <td>I hold a deterministic view on life CMV</td>\n      <td>After thinking about it over and over again, I...</td>\n      <td>One thing to consider is that free will and de...</td>\n    </tr>\n  </tbody>\n</table>\n<p>10303 rows × 4 columns</p>\n</div>"
     },
     "execution_count": 44,
     "metadata": {},
     "output_type": "execute_result"
    }
   ],
   "source": [
    "### CONSTRUCT DATAFRAME OBJECTS ###\n",
    "\n",
    "args_obj = {\n",
    "    \"id\": id_,\n",
    "    \"claim\": claims,\n",
    "    \"argument\": args,\n",
    "    \"counter\": counters\n",
    "}\n",
    "\n",
    "args_df = pd.DataFrame(args_obj).astype(str)\n",
    "args_df"
   ],
   "metadata": {
    "collapsed": false
   }
  },
  {
   "cell_type": "code",
   "execution_count": 45,
   "outputs": [],
   "source": [
    "# ### CONSTRUCT DATAFRAME OBJECTS ###\n",
    "#\n",
    "# arg_load = []\n",
    "# for line in open('../data/train_cmv.jsonlist', 'r'):\n",
    "#     arg_load.append(json.loads(line))\n",
    "#\n",
    "# args = pd.DataFrame(arg_load)\n",
    "# titles = args[\"op_title\"]\n",
    "# props = args[\"op_text\"]\n",
    "# id = args[\"op_name\"]\n",
    "#\n",
    "# wins = [\n",
    "#     args[\"positive\"][i][\"comments\"][0][\"body\"] for i in range(0, len(args))\n",
    "# ]\n",
    "#\n",
    "# debate = {\n",
    "#     \"id\": id,\n",
    "#     \"Titles\": titles,\n",
    "#     \"Arguments\": props,\n",
    "#     \"Counters\": wins\n",
    "# }\n",
    "#\n",
    "# debate = pd.DataFrame(data = debate, columns = [\"id\", \"Titles\", \"Arguments\", \"Counters\"]).astype(str)"
   ],
   "metadata": {
    "collapsed": false
   }
  },
  {
   "cell_type": "code",
   "execution_count": 46,
   "outputs": [
    {
     "data": {
      "text/plain": "              id                                              claim  \\\n9      t3_5aceoz  CMV: Apple are falsely equating simplicity wit...   \n349    t3_31kfkt  CMV: It is MY right to decide my fate, and tha...   \n363    t3_2c0frm  CMV: /r/atheism should be renamed to /r/antith...   \n499    t3_6y8y6j  CMV: All our motivations ultimately do (and ma...   \n507    t3_4zoqt4                  CMV: Suicide by Aging is a thing.   \n...          ...                                                ...   \n10025  t3_4gmeoo  CMV: Black people need to begin accepting thei...   \n10041  t3_5qv6d6  CMV: There is no useful role for God/religion ...   \n10044  t3_5ohwa6  CMV: I don't understand people who deny evolution   \n10104  t3_1kmwmn  I believe Conservative stances and policies ar...   \n10107  t3_2n4aay  CMV: If a person is triggered by something, th...   \n\n                                                argument  \\\n9      **Update**\\n\\nThanks for all the replies, ther...   \n349    ***EDIT (please read)***: thank you all for yo...   \n363    If you go to /r/atheism or even /r/atheismrebo...   \n499    In my opinion, all our motivations and instinc...   \n507    So, I have this very acid opinion of the Abrah...   \n...                                                  ...   \n10025  **[This post is politically incorrect. This po...   \n10041  The concept of a creator explained why things ...   \n10044  What about the bacterias? Why do we get sick? ...   \n10104  My overall problem with conservatism, whether ...   \n10107  I say this as someone who has spent much of he...   \n\n                                                 counter  \n9      I'm not so much trying to change your view wit...  \n349    I won't try to change your view that ones righ...  \n363    There already is an /r/Antitheism which gets m...  \n499    Well slight correction here that actually is h...  \n507    OK.  Freed from the blinders of my suicide cul...  \n...                                                  ...  \n10025  While a large portion of people have made very...  \n10041  I'm going to need several sources and bibliogr...  \n10044  I was raised a creationist. I denied evolution...  \n10104  You're half right. Generally speaking, conserv...  \n10107  I'm arachnophobic. I have a serious, debilitat...  \n\n[165 rows x 4 columns]",
      "text/html": "<div>\n<style scoped>\n    .dataframe tbody tr th:only-of-type {\n        vertical-align: middle;\n    }\n\n    .dataframe tbody tr th {\n        vertical-align: top;\n    }\n\n    .dataframe thead th {\n        text-align: right;\n    }\n</style>\n<table border=\"1\" class=\"dataframe\">\n  <thead>\n    <tr style=\"text-align: right;\">\n      <th></th>\n      <th>id</th>\n      <th>claim</th>\n      <th>argument</th>\n      <th>counter</th>\n    </tr>\n  </thead>\n  <tbody>\n    <tr>\n      <th>9</th>\n      <td>t3_5aceoz</td>\n      <td>CMV: Apple are falsely equating simplicity wit...</td>\n      <td>**Update**\\n\\nThanks for all the replies, ther...</td>\n      <td>I'm not so much trying to change your view wit...</td>\n    </tr>\n    <tr>\n      <th>349</th>\n      <td>t3_31kfkt</td>\n      <td>CMV: It is MY right to decide my fate, and tha...</td>\n      <td>***EDIT (please read)***: thank you all for yo...</td>\n      <td>I won't try to change your view that ones righ...</td>\n    </tr>\n    <tr>\n      <th>363</th>\n      <td>t3_2c0frm</td>\n      <td>CMV: /r/atheism should be renamed to /r/antith...</td>\n      <td>If you go to /r/atheism or even /r/atheismrebo...</td>\n      <td>There already is an /r/Antitheism which gets m...</td>\n    </tr>\n    <tr>\n      <th>499</th>\n      <td>t3_6y8y6j</td>\n      <td>CMV: All our motivations ultimately do (and ma...</td>\n      <td>In my opinion, all our motivations and instinc...</td>\n      <td>Well slight correction here that actually is h...</td>\n    </tr>\n    <tr>\n      <th>507</th>\n      <td>t3_4zoqt4</td>\n      <td>CMV: Suicide by Aging is a thing.</td>\n      <td>So, I have this very acid opinion of the Abrah...</td>\n      <td>OK.  Freed from the blinders of my suicide cul...</td>\n    </tr>\n    <tr>\n      <th>...</th>\n      <td>...</td>\n      <td>...</td>\n      <td>...</td>\n      <td>...</td>\n    </tr>\n    <tr>\n      <th>10025</th>\n      <td>t3_4gmeoo</td>\n      <td>CMV: Black people need to begin accepting thei...</td>\n      <td>**[This post is politically incorrect. This po...</td>\n      <td>While a large portion of people have made very...</td>\n    </tr>\n    <tr>\n      <th>10041</th>\n      <td>t3_5qv6d6</td>\n      <td>CMV: There is no useful role for God/religion ...</td>\n      <td>The concept of a creator explained why things ...</td>\n      <td>I'm going to need several sources and bibliogr...</td>\n    </tr>\n    <tr>\n      <th>10044</th>\n      <td>t3_5ohwa6</td>\n      <td>CMV: I don't understand people who deny evolution</td>\n      <td>What about the bacterias? Why do we get sick? ...</td>\n      <td>I was raised a creationist. I denied evolution...</td>\n    </tr>\n    <tr>\n      <th>10104</th>\n      <td>t3_1kmwmn</td>\n      <td>I believe Conservative stances and policies ar...</td>\n      <td>My overall problem with conservatism, whether ...</td>\n      <td>You're half right. Generally speaking, conserv...</td>\n    </tr>\n    <tr>\n      <th>10107</th>\n      <td>t3_2n4aay</td>\n      <td>CMV: If a person is triggered by something, th...</td>\n      <td>I say this as someone who has spent much of he...</td>\n      <td>I'm arachnophobic. I have a serious, debilitat...</td>\n    </tr>\n  </tbody>\n</table>\n<p>165 rows × 4 columns</p>\n</div>"
     },
     "execution_count": 46,
     "metadata": {},
     "output_type": "execute_result"
    }
   ],
   "source": [
    "# Exploritory Keyword Search\n",
    "keyword = \"Philosophy\"\n",
    "args_df[args_df['counter'].str.contains(keyword,case=False)]"
   ],
   "metadata": {
    "collapsed": false
   }
  },
  {
   "cell_type": "code",
   "execution_count": 47,
   "outputs": [
    {
     "data": {
      "text/plain": "<IPython.core.display.Markdown object>",
      "text/markdown": "> **CMV: Males and Females are socially and emotionally incompatible and heterosexual relationships are unrealistic and farcical.** \n>  \n>  Hi CMV! \n> \n> I am of the belief that there cannot exist a legitimate emotional bond between a male and a female that lead to a loving relationship (that is - one of romance). Not once have I seen a couple that did not have an enormous gap in interests, composure, speech patterns, and emotional engagement. There's always and awkward disparity between each partner, and they seem to be tolerating each other, whilst there is little to grasp on why they are interested in each other aside from basic biology. \n> \n> As a result of this, homosexual relationships have always seemed purely the logical and socially optimal choice for anyone pursuing a relationship, and heterosexual relationships continue only because of a heteronormitive society and the biology of reproduction (which I believe is immoral, but that's another topic). I may be biased, but from my perspective and experience I've simply never seen a straight couple that was legitimately compatible in most ways. \n>  \n>  **Counter** \n>  \n>  &gt; Not once have I seen a couple that did not have an enormous gap in interests\n> \n> For what it's worth, there are two large biases here with you need to contend with.\n> \n> 1. The couples which you know and see will be influenced heavily with who you associate with and is not representative of relationships in general or the potential which some relationships can reach\n> \n> 2. This also depends heavily upon your judgment of those relationships. Which has the following problems \n> \n>   * You might not have complete indepth knowledge between the dynamics of these couples\n> \n>   * Even if you did, you might midjudge aspects of a relationship. Do you know exactly what the other person needs or is looking for? Do you know what elements create successful relationships? Can you judge those correctly 100% of the time?\n> \n> Also,\n> \n> &gt; and heterosexual relationships continue only because of a heteronormitive society and the biology of reproduction \n> \n> What about relationships which last past this stage? This statement obviously doesn't hold up either.\n> \n> &gt; I may be biased, but from my perspective and experience I've simply never seen a straight couple that was legitimately compatible in most ways.\n> \n> That's basically your argument \"i've never seen it work before therefore it cant work\". It's not a very good position to defend because, as you've already awknowledged, its covered in bias which prevents it from being logically valid.\n> \n> \n> \n> ___\n> \n> I'm personally in a working relationship and the differences between thinking which come from being different sexes is quite apparent, that doesn't mean we cant work with it though.\n> \n> &gt;they seem to be tolerating each other\n> \n> Yes, there's a lot of that in a relationship. After all of the love hormones wear off after a couple of years there is an element of toleration since your partners flaws begin to show and you become to get to know them. The point is though that we're also able to accept each others flaws and let on with our lives despite them.\n> \n> The reason why we can ignore them is because more of the time we are supportive of each other. We communicate openly and honestly and we are good listeners. We enjoy each others company much more often than not. We also accept that if the other falls short for some reason that they are only human and that's to be expected."
     },
     "execution_count": 47,
     "metadata": {},
     "output_type": "execute_result"
    }
   ],
   "source": [
    "# Explore Post\n",
    "show_post(args_df[\"claim\"][5], args_df[\"argument\"][5], args_df[\"counter\"][5])"
   ],
   "metadata": {
    "collapsed": false
   }
  },
  {
   "cell_type": "code",
   "execution_count": 37,
   "outputs": [
    {
     "data": {
      "text/plain": "              id                                              claim  \\\n0      t3_30oi71  we should strengthen the traditional safety ne...   \n1      t3_30oi71  we should strengthen the traditional safety ne...   \n2      t3_30oi71  we should strengthen the traditional safety ne...   \n3      t3_30oi71  we should strengthen the traditional safety ne...   \n4      t3_4gdj35  males and females are socially and emotionally...   \n...          ...                                                ...   \n10298  t3_3h69kp  the criticism of nice guys as seen in rniceguy...   \n10299  t3_3h69kp  the criticism of nice guys as seen in rniceguy...   \n10300  t3_1tqlde  i believe that people who say why dont you jus...   \n10301  t3_1qiccr      i dont see the point of feminism in the west.   \n10302  t3_1bc54q                i hold a deterministic view on life   \n\n                                                argument  \\\n0      section i why is basic income increasingly pop...   \n1      section i why is basic income increasingly pop...   \n2      section i why is basic income increasingly pop...   \n3      section i why is basic income increasingly pop...   \n4      hi ! i am of the belief that there cannot exis...   \n...                                                  ...   \n10298  the reasoning behind this view is that everyon...   \n10299  the reasoning behind this view is that everyon...   \n10300  there have been a number of discussions on var...   \n10301  feminism seems to me to be about acquiring equ...   \n10302  after thinking about it over and over again im...   \n\n                                                 counter  \n0      the majority of your points seem predicated on...  \n1      try searching for welfare trap welfare cliff u...  \n2      first your disagreements about different fundi...  \n3      your position rests on the assumption that mos...  \n4      you seem to be basing your entire argument on ...  \n...                                                  ...  \n10298  why? everyone should have it and society shoul...  \n10299  hey op so what would change your view?are you ...  \n10300  if you remove the entire religious aspect of c...  \n10301  this is not complete its not just about legal ...  \n10302  one thing to consider is that free will and de...  \n\n[10303 rows x 4 columns]",
      "text/html": "<div>\n<style scoped>\n    .dataframe tbody tr th:only-of-type {\n        vertical-align: middle;\n    }\n\n    .dataframe tbody tr th {\n        vertical-align: top;\n    }\n\n    .dataframe thead th {\n        text-align: right;\n    }\n</style>\n<table border=\"1\" class=\"dataframe\">\n  <thead>\n    <tr style=\"text-align: right;\">\n      <th></th>\n      <th>id</th>\n      <th>claim</th>\n      <th>argument</th>\n      <th>counter</th>\n    </tr>\n  </thead>\n  <tbody>\n    <tr>\n      <th>0</th>\n      <td>t3_30oi71</td>\n      <td>we should strengthen the traditional safety ne...</td>\n      <td>section i why is basic income increasingly pop...</td>\n      <td>the majority of your points seem predicated on...</td>\n    </tr>\n    <tr>\n      <th>1</th>\n      <td>t3_30oi71</td>\n      <td>we should strengthen the traditional safety ne...</td>\n      <td>section i why is basic income increasingly pop...</td>\n      <td>try searching for welfare trap welfare cliff u...</td>\n    </tr>\n    <tr>\n      <th>2</th>\n      <td>t3_30oi71</td>\n      <td>we should strengthen the traditional safety ne...</td>\n      <td>section i why is basic income increasingly pop...</td>\n      <td>first your disagreements about different fundi...</td>\n    </tr>\n    <tr>\n      <th>3</th>\n      <td>t3_30oi71</td>\n      <td>we should strengthen the traditional safety ne...</td>\n      <td>section i why is basic income increasingly pop...</td>\n      <td>your position rests on the assumption that mos...</td>\n    </tr>\n    <tr>\n      <th>4</th>\n      <td>t3_4gdj35</td>\n      <td>males and females are socially and emotionally...</td>\n      <td>hi ! i am of the belief that there cannot exis...</td>\n      <td>you seem to be basing your entire argument on ...</td>\n    </tr>\n    <tr>\n      <th>...</th>\n      <td>...</td>\n      <td>...</td>\n      <td>...</td>\n      <td>...</td>\n    </tr>\n    <tr>\n      <th>10298</th>\n      <td>t3_3h69kp</td>\n      <td>the criticism of nice guys as seen in rniceguy...</td>\n      <td>the reasoning behind this view is that everyon...</td>\n      <td>why? everyone should have it and society shoul...</td>\n    </tr>\n    <tr>\n      <th>10299</th>\n      <td>t3_3h69kp</td>\n      <td>the criticism of nice guys as seen in rniceguy...</td>\n      <td>the reasoning behind this view is that everyon...</td>\n      <td>hey op so what would change your view?are you ...</td>\n    </tr>\n    <tr>\n      <th>10300</th>\n      <td>t3_1tqlde</td>\n      <td>i believe that people who say why dont you jus...</td>\n      <td>there have been a number of discussions on var...</td>\n      <td>if you remove the entire religious aspect of c...</td>\n    </tr>\n    <tr>\n      <th>10301</th>\n      <td>t3_1qiccr</td>\n      <td>i dont see the point of feminism in the west.</td>\n      <td>feminism seems to me to be about acquiring equ...</td>\n      <td>this is not complete its not just about legal ...</td>\n    </tr>\n    <tr>\n      <th>10302</th>\n      <td>t3_1bc54q</td>\n      <td>i hold a deterministic view on life</td>\n      <td>after thinking about it over and over again im...</td>\n      <td>one thing to consider is that free will and de...</td>\n    </tr>\n  </tbody>\n</table>\n<p>10303 rows × 4 columns</p>\n</div>"
     },
     "execution_count": 37,
     "metadata": {},
     "output_type": "execute_result"
    }
   ],
   "source": [
    "titles_clean = full_clean(claims)\n",
    "args_clean = full_clean(args)\n",
    "counters_clean = full_clean(counters)\n",
    "\n",
    "args_clean = {\n",
    "    \"id\": id_,\n",
    "    \"claim\": titles_clean,\n",
    "    \"argument\": args_clean,\n",
    "    \"counter\": counters_clean\n",
    "}\n",
    "\n",
    "args_clean_df = pd.DataFrame(args_clean)\n",
    "args_clean_df"
   ],
   "metadata": {
    "collapsed": false
   }
  },
  {
   "cell_type": "code",
   "execution_count": 38,
   "outputs": [
    {
     "data": {
      "text/plain": "<IPython.core.display.Markdown object>",
      "text/markdown": "> **0        t3_30oi71\n> 1        t3_30oi71\n> 2        t3_30oi71\n> 3        t3_30oi71\n> 4        t3_4gdj35\n>            ...    \n> 10298    t3_3h69kp\n> 10299    t3_3h69kp\n> 10300    t3_1tqlde\n> 10301    t3_1qiccr\n> 10302    t3_1bc54q\n> Name: id, Length: 10303, dtype: object** \n>  \n>  i like musicals. when i was little i watched high school musical and loved it. i sing i dance and im in a show choir that performs showtunes. just from being around theatre geeks i know most of the words to can you hear the people sing...they all love this musical. ive only seen the first five minutes of it and i want to motivate myself to watch it again but it just seems so....bland. dull. please and convince me that i need to watch this. i am of course referring to the version. \n>  \n>  **Counter** \n>  \n>  i will confess i dont think anyone needs to watch anything but there are a few reasons to watch it with a different outlook. its actually a great story about resilience making amends for past transgressions and being courageous against the odds. it really challenges the definition of what justice is and a transformation of a dude that had every reason to just fold. its set to some catchy tunes which you can sing to and dance to if you so wish. if you can get yourself around these really powerful themes i think youll find it far from bland."
     },
     "execution_count": 38,
     "metadata": {},
     "output_type": "execute_result"
    }
   ],
   "source": [
    "# Explore Post\n",
    "show_post(args_clean_df[\"id\"], args_clean_df[\"argument\"][_], args_clean_df[\"counter\"][_])"
   ],
   "metadata": {
    "collapsed": false
   }
  },
  {
   "cell_type": "code",
   "execution_count": 39,
   "outputs": [
    {
     "data": {
      "text/plain": "Empty DataFrame\nColumns: [id, claim, argument, counter]\nIndex: []",
      "text/html": "<div>\n<style scoped>\n    .dataframe tbody tr th:only-of-type {\n        vertical-align: middle;\n    }\n\n    .dataframe tbody tr th {\n        vertical-align: top;\n    }\n\n    .dataframe thead th {\n        text-align: right;\n    }\n</style>\n<table border=\"1\" class=\"dataframe\">\n  <thead>\n    <tr style=\"text-align: right;\">\n      <th></th>\n      <th>id</th>\n      <th>claim</th>\n      <th>argument</th>\n      <th>counter</th>\n    </tr>\n  </thead>\n  <tbody>\n  </tbody>\n</table>\n</div>"
     },
     "execution_count": 39,
     "metadata": {},
     "output_type": "execute_result"
    }
   ],
   "source": [
    "# Exploritory Search Keywords; Assert Clean (URLs: 'http', 'www')\n",
    "keyword = \"www\"\n",
    "args_clean_df[args_clean_df['counter'].str.contains(keyword,case=False)]"
   ],
   "metadata": {
    "collapsed": false
   }
  },
  {
   "cell_type": "code",
   "execution_count": 40,
   "outputs": [
    {
     "data": {
      "text/plain": "              id                                              claim  \\\n354    t3_1i2u57  i believe that kids who are bullied are partia...   \n421    t3_3ia43m  it is neither derogatory nor a promotion of se...   \n582    t3_1zwqb4  i think that crimes committed while acting in ...   \n779    t3_54wr8w  you shouldnt have to pay more taxes just becau...   \n835    t3_2lqcby  catcalling and street harassment should be a t...   \n1118   t3_4n5nmv  there is a difference between being happy with...   \n1156   t3_1sw6ya  as a proud liberal i believe that framing left...   \n1239   t3_2131f9  banning picketing outside funerals is a good i...   \n1448   t3_2kk7pc     revenge porn should not be a criminal offence.   \n1590   t3_5cy2u9        porn only brings harm and should be banned.   \n1756   t3_6svs5m  i shouldnt have to respect your opinion if suc...   \n1886   t3_57qc4n  the idea that businesses or the government sho...   \n1928   t3_58vye0  students should not be expelled for rape accus...   \n1953   t3_466efe  facebooks new policy on deleting or shutting d...   \n2161   t3_1fsg25  i believe it is harder to come out and be acce...   \n2658   t3_216l8g  i dont think sexual objectification is abnorma...   \n2747   t3_68l3lh  at some point a law stating that people must u...   \n3074   t3_2j196u  that rape culture does not exist in a signific...   \n3176   t3_5sx30l            liberals should really be conservatives   \n3636   t3_3g1yem           im really happy that coontown was banned   \n4024   t3_5g4ehh                                 im not a feminist.   \n4057   t3_53uoe3  while a transgender person not disclosing thei...   \n4456   t3_4ojqql  i believe the trans community is taking the ch...   \n4489   t3_5jk7rb  i believe feminist or other similar womans rig...   \n4570   t3_4ith5c  transsexual people reinforce genders and gende...   \n4638   t3_4ttz6g  texting while driving is morally wrong and sho...   \n4738   t3_3cwzdr  weve gone way overboard lately with pcness and...   \n5114   t3_6jgl5x           universities should not have safe spaces   \n5279   t3_5j3cm3  i dont think it is correct to refer to women a...   \n5470   t3_3qpj9g  women insisting gaming be made into a safe spa...   \n6998   t3_2ehl9h                         zoe quinn is in the wrong.   \n7009   t3_1on0dg                        i think cyberbullying is bs   \n7324   t3_39jwup               i find it hard to take mra seriously   \n7453   t3_5zqpgb  there is no nonracist reason for people to say...   \n8054   t3_2llfy2  i dont really think bathrooms should be separa...   \n8055   t3_2llfy2  i dont really think bathrooms should be separa...   \n8058   t3_5zaon9  infringing on free speech rights is indefensible.   \n8149   t3_3cugmj  ellen pao shouldnt have quite her job and surr...   \n8156   t3_244kp1  i think my sons first car should look as much ...   \n8467   t3_5rh8tz  the left could never defeat the right with vio...   \n8608   t3_5bmsxa  whilst experienced hillary clinton has rarely ...   \n8720   t3_4trojz  twitter was wrong to ban milo yiannopoulos aft...   \n9085   t3_4guqdw  men from pakistansaudi arabia are more likely ...   \n9264   t3_5v2bqa                         public creepshots are okay   \n9459   t3_6r16uc  pranks arent funny and if you enjoy them you a...   \n9545   t3_39c0n3  reddit was wrong to ban rfatpeoplehate but not...   \n9620   t3_1kdvro  i believe bullying should be an expelable offe...   \n9673   t3_43mek5  there shouldnt be buffer zones around abortion...   \n9674   t3_43mek5  there shouldnt be buffer zones around abortion...   \n9805   t3_3foikg  gaston was the good guy in disneys beauty and ...   \n9934   t3_5gn5ve  anita sarkeesian and similar feminists actuall...   \n10271  t3_6fmb58  transgender people are perpetuating gender norms.   \n\n                                                argument  \\\n354    so since youre reading this you probably haven...   \n421    i believe that in our current society heterose...   \n582    i personally think betrayal of trust is one of...   \n779    im a firm believer in a meritocracy.financiall...   \n835    with the recent discussion of street harassmen...   \n1118   i came across the instagram user glitterandlaz...   \n1156   i believe that leftwingliberal parties are not...   \n1239   its hard to counterargue slippery slope critic...   \n1448   revenge porn can be extremely hurtful there is...   \n1590   im not saying from a specific country or regio...   \n1756   this thought came to me after a big controvers...   \n1886   i dont know you but on my list dating restrict...   \n1928   example amp similar cases of this are here her...   \n1953   facebook has supposedly always held a standard...   \n2161   i say this as someone who is bisexual and is h...   \n2658   so earlier i was reading this article about so...   \n2747   the amount of harassment stalking doxxing frau...   \n3074   i constantly hear about so called rape culture...   \n3176   the modern left are extremely regressive as op...   \n3636   i realise that this is a meme one itself nowad...   \n4024   ill start out with saying that im for equality...   \n4057   please read my entire post before responding. ...   \n4456   i understand that there is scarce scientific c...   \n4489   examples of what people mean when they say pos...   \n4570   hello. first off i wanted to clarify that i di...   \n4638   in regards to the first point texting or using...   \n4738   this may be surprising to some if you look at ...   \n5114   universities are a place for intellectual curi...   \n5279   during the election i heard women being referr...   \n5470   someone correct me if im wrong but the way i u...   \n6998   im a feminist. i support women being more invo...   \n7009   like a lot of people i was bullied all through...   \n7324   so i am a gay guy and i occasionally identify ...   \n7453   the phrases itself bring class back implies he...   \n8054   this isnt a strongly held view of mine and im ...   \n8055   this isnt a strongly held view of mine and im ...   \n8058   i dont believe any one or group has the right ...   \n8149   im seeing this shit a lot nowadays. internet p...   \n8156   if we stay around here for the next years it m...   \n8467   i see a lot of my leftist friends saying its t...   \n8608   im not a trump supporter i just do not like hi...   \n8720   yesterday twitter permanently suspended conser...   \n9085   i am so sorry for the horrible title. i do not...   \n9264   hey so to start off i know that my view is con...   \n9459   ive never enjoyed pulling pranks and ive never...   \n9545   i didnt like rfatpeoplehate. i thought it was ...   \n9620   good day. id like to present what i consider t...   \n9673   i am personally one hundred per cent for anyon...   \n9674   i am personally one hundred per cent for anyon...   \n9805   gaston the loud and boisterous dreamboat is kn...   \n9934   i play lots of video games and in most of them...   \n10271  let me preface by saying i support transgender...   \n\n                                                 counter  \n354    i was unaware that having puberty later than o...  \n421    harassment is nothing more than aggressive pre...  \n582    theres three basic reasons that this is frowne...  \n779    thats pretty much the point everyone wants fre...  \n835    well theres a pretty big free speech problem. ...  \n1118   society doesnt do anything to help anorexics b...  \n1156   they support more government involvement in pe...  \n1239   youre sort of right but i think for the wrong ...  \n1448   in several highprofile cases where gossip has ...  \n1590   youre forgetting that porn is a job that helps...  \n1756   there are two kinds of freedoms freedom to thi...  \n1886   i dont think workplace dating restrictions and...  \n1928   let me start by trying to summarize your premi...  \n1953   well unfortunately your belief is wrong. most ...  \n2161   a lot of people say the same thing about gays....  \n2658   there is a very big difference between a compl...  \n2747   i find the idea that using real names will pre...  \n3074   it sounds to me as though you have a somewhat ...  \n3176   are you talking about actual liberals and actu...  \n3636   in a vacuum getting rid of coontown is undenia...  \n4024   this isnt sufficient reasoning to discount an ...  \n4057   this is a cute teal deer but you are happily i...  \n4456   contrary to common misconception and the straw...  \n4489   so i think part of what can make dynamics of p...  \n4570   its just easier. im a trans guy. i was assigne...  \n4638   i agree with your first point but im going to ...  \n4738   im going to take a slightly different tack in ...  \n5114   what do you think safe spaces are? theyre ofte...  \n5279   its important to recognize the difference betw...  \n5470   . dude goes hahahah i fucked you in the ass! b...  \n6998   nearly all the people who are mad at zoe quinn...  \n7009   i dont know your age but there is one thing th...  \n7324   lets just go and throw the subreddit rmensrigh...  \n7453   class is a positive quality but not a morally ...  \n8054   its a fine ideal but there are some practical ...  \n8055   i would argue that most places are susceptible...  \n8058   you need to consider the paradox of tolerance ...  \n8149   you have to remember that pao is human too. de...  \n8156   if you make the car look too similar to a cop ...  \n8467   you know this was a lot of the attitude that t...  \n8608   hi gay person here. i take issue with where yo...  \n8720   first lets get this out of the way twitter is ...  \n9085   i wouldnt look into the statistics mentioned i...  \n9264   given there are plenty of pictures online to w...  \n9459   there are two components to your view that mus...  \n9545   fph would often post pictures of random people...  \n9620   a few problems former innercity teacher here b...  \n9673   anti abortion activists have done a number of ...  \n9674   other people have made excellent rights about ...  \n9805   hiya op.well id definitely like to contest poi...  \n9934   shes isnt heavily criticized at least by other...  \n10271  this isnt necessarily untrue but its important...  ",
      "text/html": "<div>\n<style scoped>\n    .dataframe tbody tr th:only-of-type {\n        vertical-align: middle;\n    }\n\n    .dataframe tbody tr th {\n        vertical-align: top;\n    }\n\n    .dataframe thead th {\n        text-align: right;\n    }\n</style>\n<table border=\"1\" class=\"dataframe\">\n  <thead>\n    <tr style=\"text-align: right;\">\n      <th></th>\n      <th>id</th>\n      <th>claim</th>\n      <th>argument</th>\n      <th>counter</th>\n    </tr>\n  </thead>\n  <tbody>\n    <tr>\n      <th>354</th>\n      <td>t3_1i2u57</td>\n      <td>i believe that kids who are bullied are partia...</td>\n      <td>so since youre reading this you probably haven...</td>\n      <td>i was unaware that having puberty later than o...</td>\n    </tr>\n    <tr>\n      <th>421</th>\n      <td>t3_3ia43m</td>\n      <td>it is neither derogatory nor a promotion of se...</td>\n      <td>i believe that in our current society heterose...</td>\n      <td>harassment is nothing more than aggressive pre...</td>\n    </tr>\n    <tr>\n      <th>582</th>\n      <td>t3_1zwqb4</td>\n      <td>i think that crimes committed while acting in ...</td>\n      <td>i personally think betrayal of trust is one of...</td>\n      <td>theres three basic reasons that this is frowne...</td>\n    </tr>\n    <tr>\n      <th>779</th>\n      <td>t3_54wr8w</td>\n      <td>you shouldnt have to pay more taxes just becau...</td>\n      <td>im a firm believer in a meritocracy.financiall...</td>\n      <td>thats pretty much the point everyone wants fre...</td>\n    </tr>\n    <tr>\n      <th>835</th>\n      <td>t3_2lqcby</td>\n      <td>catcalling and street harassment should be a t...</td>\n      <td>with the recent discussion of street harassmen...</td>\n      <td>well theres a pretty big free speech problem. ...</td>\n    </tr>\n    <tr>\n      <th>1118</th>\n      <td>t3_4n5nmv</td>\n      <td>there is a difference between being happy with...</td>\n      <td>i came across the instagram user glitterandlaz...</td>\n      <td>society doesnt do anything to help anorexics b...</td>\n    </tr>\n    <tr>\n      <th>1156</th>\n      <td>t3_1sw6ya</td>\n      <td>as a proud liberal i believe that framing left...</td>\n      <td>i believe that leftwingliberal parties are not...</td>\n      <td>they support more government involvement in pe...</td>\n    </tr>\n    <tr>\n      <th>1239</th>\n      <td>t3_2131f9</td>\n      <td>banning picketing outside funerals is a good i...</td>\n      <td>its hard to counterargue slippery slope critic...</td>\n      <td>youre sort of right but i think for the wrong ...</td>\n    </tr>\n    <tr>\n      <th>1448</th>\n      <td>t3_2kk7pc</td>\n      <td>revenge porn should not be a criminal offence.</td>\n      <td>revenge porn can be extremely hurtful there is...</td>\n      <td>in several highprofile cases where gossip has ...</td>\n    </tr>\n    <tr>\n      <th>1590</th>\n      <td>t3_5cy2u9</td>\n      <td>porn only brings harm and should be banned.</td>\n      <td>im not saying from a specific country or regio...</td>\n      <td>youre forgetting that porn is a job that helps...</td>\n    </tr>\n    <tr>\n      <th>1756</th>\n      <td>t3_6svs5m</td>\n      <td>i shouldnt have to respect your opinion if suc...</td>\n      <td>this thought came to me after a big controvers...</td>\n      <td>there are two kinds of freedoms freedom to thi...</td>\n    </tr>\n    <tr>\n      <th>1886</th>\n      <td>t3_57qc4n</td>\n      <td>the idea that businesses or the government sho...</td>\n      <td>i dont know you but on my list dating restrict...</td>\n      <td>i dont think workplace dating restrictions and...</td>\n    </tr>\n    <tr>\n      <th>1928</th>\n      <td>t3_58vye0</td>\n      <td>students should not be expelled for rape accus...</td>\n      <td>example amp similar cases of this are here her...</td>\n      <td>let me start by trying to summarize your premi...</td>\n    </tr>\n    <tr>\n      <th>1953</th>\n      <td>t3_466efe</td>\n      <td>facebooks new policy on deleting or shutting d...</td>\n      <td>facebook has supposedly always held a standard...</td>\n      <td>well unfortunately your belief is wrong. most ...</td>\n    </tr>\n    <tr>\n      <th>2161</th>\n      <td>t3_1fsg25</td>\n      <td>i believe it is harder to come out and be acce...</td>\n      <td>i say this as someone who is bisexual and is h...</td>\n      <td>a lot of people say the same thing about gays....</td>\n    </tr>\n    <tr>\n      <th>2658</th>\n      <td>t3_216l8g</td>\n      <td>i dont think sexual objectification is abnorma...</td>\n      <td>so earlier i was reading this article about so...</td>\n      <td>there is a very big difference between a compl...</td>\n    </tr>\n    <tr>\n      <th>2747</th>\n      <td>t3_68l3lh</td>\n      <td>at some point a law stating that people must u...</td>\n      <td>the amount of harassment stalking doxxing frau...</td>\n      <td>i find the idea that using real names will pre...</td>\n    </tr>\n    <tr>\n      <th>3074</th>\n      <td>t3_2j196u</td>\n      <td>that rape culture does not exist in a signific...</td>\n      <td>i constantly hear about so called rape culture...</td>\n      <td>it sounds to me as though you have a somewhat ...</td>\n    </tr>\n    <tr>\n      <th>3176</th>\n      <td>t3_5sx30l</td>\n      <td>liberals should really be conservatives</td>\n      <td>the modern left are extremely regressive as op...</td>\n      <td>are you talking about actual liberals and actu...</td>\n    </tr>\n    <tr>\n      <th>3636</th>\n      <td>t3_3g1yem</td>\n      <td>im really happy that coontown was banned</td>\n      <td>i realise that this is a meme one itself nowad...</td>\n      <td>in a vacuum getting rid of coontown is undenia...</td>\n    </tr>\n    <tr>\n      <th>4024</th>\n      <td>t3_5g4ehh</td>\n      <td>im not a feminist.</td>\n      <td>ill start out with saying that im for equality...</td>\n      <td>this isnt sufficient reasoning to discount an ...</td>\n    </tr>\n    <tr>\n      <th>4057</th>\n      <td>t3_53uoe3</td>\n      <td>while a transgender person not disclosing thei...</td>\n      <td>please read my entire post before responding. ...</td>\n      <td>this is a cute teal deer but you are happily i...</td>\n    </tr>\n    <tr>\n      <th>4456</th>\n      <td>t3_4ojqql</td>\n      <td>i believe the trans community is taking the ch...</td>\n      <td>i understand that there is scarce scientific c...</td>\n      <td>contrary to common misconception and the straw...</td>\n    </tr>\n    <tr>\n      <th>4489</th>\n      <td>t3_5jk7rb</td>\n      <td>i believe feminist or other similar womans rig...</td>\n      <td>examples of what people mean when they say pos...</td>\n      <td>so i think part of what can make dynamics of p...</td>\n    </tr>\n    <tr>\n      <th>4570</th>\n      <td>t3_4ith5c</td>\n      <td>transsexual people reinforce genders and gende...</td>\n      <td>hello. first off i wanted to clarify that i di...</td>\n      <td>its just easier. im a trans guy. i was assigne...</td>\n    </tr>\n    <tr>\n      <th>4638</th>\n      <td>t3_4ttz6g</td>\n      <td>texting while driving is morally wrong and sho...</td>\n      <td>in regards to the first point texting or using...</td>\n      <td>i agree with your first point but im going to ...</td>\n    </tr>\n    <tr>\n      <th>4738</th>\n      <td>t3_3cwzdr</td>\n      <td>weve gone way overboard lately with pcness and...</td>\n      <td>this may be surprising to some if you look at ...</td>\n      <td>im going to take a slightly different tack in ...</td>\n    </tr>\n    <tr>\n      <th>5114</th>\n      <td>t3_6jgl5x</td>\n      <td>universities should not have safe spaces</td>\n      <td>universities are a place for intellectual curi...</td>\n      <td>what do you think safe spaces are? theyre ofte...</td>\n    </tr>\n    <tr>\n      <th>5279</th>\n      <td>t3_5j3cm3</td>\n      <td>i dont think it is correct to refer to women a...</td>\n      <td>during the election i heard women being referr...</td>\n      <td>its important to recognize the difference betw...</td>\n    </tr>\n    <tr>\n      <th>5470</th>\n      <td>t3_3qpj9g</td>\n      <td>women insisting gaming be made into a safe spa...</td>\n      <td>someone correct me if im wrong but the way i u...</td>\n      <td>. dude goes hahahah i fucked you in the ass! b...</td>\n    </tr>\n    <tr>\n      <th>6998</th>\n      <td>t3_2ehl9h</td>\n      <td>zoe quinn is in the wrong.</td>\n      <td>im a feminist. i support women being more invo...</td>\n      <td>nearly all the people who are mad at zoe quinn...</td>\n    </tr>\n    <tr>\n      <th>7009</th>\n      <td>t3_1on0dg</td>\n      <td>i think cyberbullying is bs</td>\n      <td>like a lot of people i was bullied all through...</td>\n      <td>i dont know your age but there is one thing th...</td>\n    </tr>\n    <tr>\n      <th>7324</th>\n      <td>t3_39jwup</td>\n      <td>i find it hard to take mra seriously</td>\n      <td>so i am a gay guy and i occasionally identify ...</td>\n      <td>lets just go and throw the subreddit rmensrigh...</td>\n    </tr>\n    <tr>\n      <th>7453</th>\n      <td>t3_5zqpgb</td>\n      <td>there is no nonracist reason for people to say...</td>\n      <td>the phrases itself bring class back implies he...</td>\n      <td>class is a positive quality but not a morally ...</td>\n    </tr>\n    <tr>\n      <th>8054</th>\n      <td>t3_2llfy2</td>\n      <td>i dont really think bathrooms should be separa...</td>\n      <td>this isnt a strongly held view of mine and im ...</td>\n      <td>its a fine ideal but there are some practical ...</td>\n    </tr>\n    <tr>\n      <th>8055</th>\n      <td>t3_2llfy2</td>\n      <td>i dont really think bathrooms should be separa...</td>\n      <td>this isnt a strongly held view of mine and im ...</td>\n      <td>i would argue that most places are susceptible...</td>\n    </tr>\n    <tr>\n      <th>8058</th>\n      <td>t3_5zaon9</td>\n      <td>infringing on free speech rights is indefensible.</td>\n      <td>i dont believe any one or group has the right ...</td>\n      <td>you need to consider the paradox of tolerance ...</td>\n    </tr>\n    <tr>\n      <th>8149</th>\n      <td>t3_3cugmj</td>\n      <td>ellen pao shouldnt have quite her job and surr...</td>\n      <td>im seeing this shit a lot nowadays. internet p...</td>\n      <td>you have to remember that pao is human too. de...</td>\n    </tr>\n    <tr>\n      <th>8156</th>\n      <td>t3_244kp1</td>\n      <td>i think my sons first car should look as much ...</td>\n      <td>if we stay around here for the next years it m...</td>\n      <td>if you make the car look too similar to a cop ...</td>\n    </tr>\n    <tr>\n      <th>8467</th>\n      <td>t3_5rh8tz</td>\n      <td>the left could never defeat the right with vio...</td>\n      <td>i see a lot of my leftist friends saying its t...</td>\n      <td>you know this was a lot of the attitude that t...</td>\n    </tr>\n    <tr>\n      <th>8608</th>\n      <td>t3_5bmsxa</td>\n      <td>whilst experienced hillary clinton has rarely ...</td>\n      <td>im not a trump supporter i just do not like hi...</td>\n      <td>hi gay person here. i take issue with where yo...</td>\n    </tr>\n    <tr>\n      <th>8720</th>\n      <td>t3_4trojz</td>\n      <td>twitter was wrong to ban milo yiannopoulos aft...</td>\n      <td>yesterday twitter permanently suspended conser...</td>\n      <td>first lets get this out of the way twitter is ...</td>\n    </tr>\n    <tr>\n      <th>9085</th>\n      <td>t3_4guqdw</td>\n      <td>men from pakistansaudi arabia are more likely ...</td>\n      <td>i am so sorry for the horrible title. i do not...</td>\n      <td>i wouldnt look into the statistics mentioned i...</td>\n    </tr>\n    <tr>\n      <th>9264</th>\n      <td>t3_5v2bqa</td>\n      <td>public creepshots are okay</td>\n      <td>hey so to start off i know that my view is con...</td>\n      <td>given there are plenty of pictures online to w...</td>\n    </tr>\n    <tr>\n      <th>9459</th>\n      <td>t3_6r16uc</td>\n      <td>pranks arent funny and if you enjoy them you a...</td>\n      <td>ive never enjoyed pulling pranks and ive never...</td>\n      <td>there are two components to your view that mus...</td>\n    </tr>\n    <tr>\n      <th>9545</th>\n      <td>t3_39c0n3</td>\n      <td>reddit was wrong to ban rfatpeoplehate but not...</td>\n      <td>i didnt like rfatpeoplehate. i thought it was ...</td>\n      <td>fph would often post pictures of random people...</td>\n    </tr>\n    <tr>\n      <th>9620</th>\n      <td>t3_1kdvro</td>\n      <td>i believe bullying should be an expelable offe...</td>\n      <td>good day. id like to present what i consider t...</td>\n      <td>a few problems former innercity teacher here b...</td>\n    </tr>\n    <tr>\n      <th>9673</th>\n      <td>t3_43mek5</td>\n      <td>there shouldnt be buffer zones around abortion...</td>\n      <td>i am personally one hundred per cent for anyon...</td>\n      <td>anti abortion activists have done a number of ...</td>\n    </tr>\n    <tr>\n      <th>9674</th>\n      <td>t3_43mek5</td>\n      <td>there shouldnt be buffer zones around abortion...</td>\n      <td>i am personally one hundred per cent for anyon...</td>\n      <td>other people have made excellent rights about ...</td>\n    </tr>\n    <tr>\n      <th>9805</th>\n      <td>t3_3foikg</td>\n      <td>gaston was the good guy in disneys beauty and ...</td>\n      <td>gaston the loud and boisterous dreamboat is kn...</td>\n      <td>hiya op.well id definitely like to contest poi...</td>\n    </tr>\n    <tr>\n      <th>9934</th>\n      <td>t3_5gn5ve</td>\n      <td>anita sarkeesian and similar feminists actuall...</td>\n      <td>i play lots of video games and in most of them...</td>\n      <td>shes isnt heavily criticized at least by other...</td>\n    </tr>\n    <tr>\n      <th>10271</th>\n      <td>t3_6fmb58</td>\n      <td>transgender people are perpetuating gender norms.</td>\n      <td>let me preface by saying i support transgender...</td>\n      <td>this isnt necessarily untrue but its important...</td>\n    </tr>\n  </tbody>\n</table>\n</div>"
     },
     "execution_count": 40,
     "metadata": {},
     "output_type": "execute_result"
    }
   ],
   "source": [
    "# Search Keywords; Assert missing values at start of sentence (known argument issue)\n",
    "keyword = \"harassment\"\n",
    "args_clean_df[args_clean_df['counter'].str.contains(keyword,case=False)]"
   ],
   "metadata": {
    "collapsed": false
   }
  },
  {
   "cell_type": "code",
   "execution_count": 41,
   "outputs": [],
   "source": [
    "# Output JSON List .jsonl\n",
    "import json\n",
    "\n",
    "data = []\n",
    "for idx, row in args_clean_df.iterrows():\n",
    "    data.append({\n",
    "        \"id\": row[\"id\"],\n",
    "        \"claim\": row[\"claim\"],\n",
    "        \"argument\": row[\"argument\"],\n",
    "        \"counter\": row[\"counter\"]\n",
    "    })\n",
    "\n",
    "with open(\"./data/cmv_cleaned.jsonl\", \"w\", encoding='utf-8') as f:\n",
    "    for d in data:\n",
    "        f.write(json.dumps(d))\n",
    "        f.write(\"\\n\")"
   ],
   "metadata": {
    "collapsed": false
   }
  }
 ],
 "metadata": {
  "kernelspec": {
   "display_name": "Python 3",
   "language": "python",
   "name": "python3"
  },
  "language_info": {
   "codemirror_mode": {
    "name": "ipython",
    "version": 2
   },
   "file_extension": ".py",
   "mimetype": "text/x-python",
   "name": "python",
   "nbconvert_exporter": "python",
   "pygments_lexer": "ipython2",
   "version": "2.7.6"
  }
 },
 "nbformat": 4,
 "nbformat_minor": 0
}
