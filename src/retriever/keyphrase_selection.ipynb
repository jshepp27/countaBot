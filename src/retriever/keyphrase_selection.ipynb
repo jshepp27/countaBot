{
 "cells": [
  {
   "cell_type": "code",
   "execution_count": 2,
   "metadata": {
    "collapsed": true
   },
   "outputs": [],
   "source": [
    "import json\n",
    "import os\n",
    "import random\n",
    "import logging\n",
    "import re"
   ]
  },
  {
   "cell_type": "code",
   "execution_count": 36,
   "outputs": [],
   "source": [
    "### LOGGING ###\n",
    "logging.basicConfig(level=logging.INFO)\n",
    "logger = logging.getLogger(\"KEYPHRASE-SELECTOR\")"
   ],
   "metadata": {
    "collapsed": false
   }
  },
  {
   "cell_type": "code",
   "execution_count": 3,
   "outputs": [],
   "source": [
    "### INSPECT OUTPUT ###\n",
    "os.chdir(\"/Users/joshua.sheppard/PycharmProjects/countaBot\")\n",
    "\n",
    "rr_ = [json.loads(ln) for ln in open(\"./src/data/processed/cmv_rr.jsonl\", \"r\")][0]"
   ],
   "metadata": {
    "collapsed": false
   }
  },
  {
   "cell_type": "code",
   "execution_count": 24,
   "outputs": [
    {
     "name": "stdout",
     "output_type": "stream",
     "text": [
      "CLAIM:  situations where the world will end due to an artificial intelligence or super technology will never happen.\n",
      "===========================================\n",
      "\n",
      "ARG:  with our constant fast technological advancement people seem to think that we will lead our selves to destruction because we do not use technology with care but recently all new modern technologies that are being invented are completely beneficial towards society as a whole such as loreal teaming up with organovo to d print human skin to use in product tests and nasa announcing a new rover able to make autonomous decision on its next mission to mars. \n",
      "\n",
      "COUNTER:  depends on your definition of super technology fission technology were pretty super in s and have brought both good and evil.technology is at its core an amplifier of human behavior it makes doing good and evil easier and allows us to do more with fewer human resources all it takes to end the world is human flaw and sufficiently advanced technology. \n",
      "\n",
      "EVIDENCE:  the recognition of the impact of technology and inventions on people's lives has moved technology professionals to rethink the technology tools we use and seek a realignment of companies' goals to the social good finally the unintended consequences of technology are unanticipated effects and impact of technology technology  \n",
      "\n"
     ]
    }
   ],
   "source": [
    "def clean(phrase):\n",
    "    return re.sub(r\"[,.;@#?!&$]+\\ *\", \" \", phrase)\n",
    "\n",
    "subject = rr_[random.randint(0, len(rr_))]\n",
    "\n",
    "print(\"CLAIM: \", subject[\"claim\"][\"sentence\"])\n",
    "print(\"===========================================\\n\")\n",
    "for i, j, k in zip(subject[\"argument\"], subject[\"tgt_counter\"], subject[\"retrieved\"]):\n",
    "    print(\"ARG: \", i[\"sentence\"], \"\\n\")\n",
    "    print(\"COUNTER: \", j[\"sentence\"], \"\\n\")\n",
    "    print(\"EVIDENCE: \", clean(k[\"ranked_passages\"]).lower(), \"\\n\")"
   ],
   "metadata": {
    "collapsed": false
   }
  },
  {
   "cell_type": "code",
   "execution_count": 25,
   "outputs": [],
   "source": [
    "# DONE: Keyphrase Selection\n",
    "# TODOs: Full-run, arguments\n",
    "import copy\n",
    "\n",
    "### KEYPHRASE SELECTION OBJECT ###\n",
    "_rr = copy.deepcopy(rr_)"
   ],
   "metadata": {
    "collapsed": false
   }
  },
  {
   "cell_type": "code",
   "execution_count": 7,
   "outputs": [
    {
     "data": {
      "text/plain": "10303"
     },
     "execution_count": 7,
     "metadata": {},
     "output_type": "execute_result"
    }
   ],
   "source": [
    "len(_rr)"
   ],
   "metadata": {
    "collapsed": false
   }
  },
  {
   "cell_type": "code",
   "execution_count": 12,
   "outputs": [
    {
     "data": {
      "text/plain": "[{'sentence': 'the majority of your points seem predicated on the idea that a basic income requires a flat tax or rejects progressive taxation and b that absolutely every social program must be scrapped for a bi to take effect.neither of these are true.',\n  'selected_keyphrases': []},\n {'sentence': 'of course there are many conservatives or rightlibertarian who would prefer those outcomes but there are also many liberals and leftlibertarians who do not.the title of your is worded incorrectly.',\n  'selected_keyphrases': []},\n {'sentence': 'you are arguing against not basic income but the questions of how to pay for it and what exactly would be replaced.if that doesnt change your view im really not sure what would.',\n  'selected_keyphrases': []},\n {'sentence': 'the post is very well written and laid out its just a perfectly shot arrow aimed at the wrong target.',\n  'selected_keyphrases': []}]"
     },
     "execution_count": 12,
     "metadata": {},
     "output_type": "execute_result"
    }
   ],
   "source": [
    "_rr[0][\"tgt_counter\"]"
   ],
   "metadata": {
    "collapsed": false
   }
  },
  {
   "cell_type": "code",
   "execution_count": 8,
   "outputs": [],
   "source": [
    "from sentence_transformers import SentenceTransformer, util\n",
    "from sklearn.metrics.pairwise import cosine_similarity\n",
    "import torch\n",
    "\n",
    "model = SentenceTransformer('all-MiniLM-L6-v2')"
   ],
   "metadata": {
    "collapsed": false
   }
  },
  {
   "cell_type": "code",
   "execution_count": 38,
   "outputs": [],
   "source": [
    "import re\n",
    "def clean(phrase):\n",
    "    return re.sub(r\"[,.;@#?!&$]+\\ *\", \" \", phrase)\n",
    "\n",
    "def cosine_similarity_(sentences):\n",
    "    embeddings = model.encode(sentences, convert_to_tensor=True, show_progress_bar=False)\n",
    "\n",
    "    cos = torch.nn.CosineSimilarity()\n",
    "    scores = cos(embeddings[0], embeddings[1:])\n",
    "\n",
    "    scored = []\n",
    "    retrieved_sentences = sentences[1:]\n",
    "    for sent, similarity in zip(retrieved_sentences, scores):\n",
    "        scored.append((sent, similarity.numpy().item()))\n",
    "\n",
    "    return scored\n",
    "\n",
    "def selected_keyphrases(arg):\n",
    "    kps = [_[\"kp\"] for _ in arg[\"retrieved\"]]\n",
    "    tgt_sentences = [_[\"sentence\"] for _ in arg[\"tgt_counter\"]]\n",
    "\n",
    "    selected_kps = []\n",
    "    for tgt, kp in zip(tgt_sentences, kps):\n",
    "        vectors = [tgt]\n",
    "        vectors.extend(kp)\n",
    "\n",
    "        similarity = cosine_similarity_(vectors)\n",
    "        selected = [i[0] for i in similarity if i[1] > 0.35]\n",
    "\n",
    "        selected_kps.append(list(set(selected)))\n",
    "\n",
    "    return selected_kps\n"
   ],
   "metadata": {
    "collapsed": false
   }
  },
  {
   "cell_type": "code",
   "execution_count": 39,
   "outputs": [
    {
     "data": {
      "text/plain": "  0%|          | 0/10303 [00:00<?, ?it/s]",
      "application/vnd.jupyter.widget-view+json": {
       "version_major": 2,
       "version_minor": 0,
       "model_id": "3c301fe6905b421dad7cd49857c08ad5"
      },
      "application/json": {
       "n": 0,
       "total": 10303,
       "elapsed": 0.006963968276977539,
       "ncols": null,
       "nrows": null,
       "prefix": "",
       "ascii": false,
       "unit": "it",
       "unit_scale": false,
       "rate": null,
       "bar_format": null,
       "postfix": null,
       "unit_divisor": 1000,
       "initial": 0,
       "colour": null
      }
     },
     "metadata": {},
     "output_type": "display_data"
    }
   ],
   "source": [
    "from tqdm.notebook import tqdm\n",
    "selected_rr = copy.deepcopy(_rr)\n",
    "#SAMPLE = selected_rr[0:5]\n",
    "\n",
    "with tqdm(total=(len(rr_)), position=0, leave=True) as pbar:\n",
    "    for i in range(0, len(selected_rr)):\n",
    "        selected_kps = selected_keyphrases(_rr[i])\n",
    "\n",
    "        for sent, kp in zip(selected_rr[i][\"tgt_counter\"], selected_kps):\n",
    "            sent[\"selected_keyphrases\"] = kp\n",
    "        pbar.update()"
   ],
   "metadata": {
    "collapsed": false
   }
  },
  {
   "cell_type": "code",
   "execution_count": 54,
   "outputs": [],
   "source": [
    "selected_rr_ = copy.deepcopy(selected_rr)"
   ],
   "metadata": {
    "collapsed": false
   }
  },
  {
   "cell_type": "code",
   "execution_count": 57,
   "outputs": [
    {
     "data": {
      "text/plain": "[{'sentence': 'im currently a junior in collegeuniversity.',\n  'selected_keyphrases': ['Distinguished Junior Membership.',\n   'Junior or Senior year',\n   'University College.',\n   'Junior Membership.',\n   'Distinguished Junior']},\n {'sentence': 'i occasionally look back at things ive written a few years before and see that my writing was orders of magnitude worse then than it is now.',\n  'selected_keyphrases': ['practice in writing.']},\n {'sentence': 'i know that in a few years ill look back on the writing im doing today and be embarrassed about most of it.writing is not something you can master in a few years.',\n  'selected_keyphrases': ['started writing after college',\n   'read cursive writing',\n   'secretly writing.']},\n {'sentence': 'the best writers hone their craft over entire lifetimes.',\n  'selected_keyphrases': ['novice and experienced writers',\n   'Association of Science Writers']},\n {'sentence': 'even if you want to just write at a basic level of effectiveness youll find that people who write at an thgrade level are less persuasive than those who write at a thgrade level who themselves are less persuasive than those who write at thgrade and so on and so forth.communicating ideas is hard.',\n  'selected_keyphrases': ['read and write.', 'adults struggle to read']},\n {'sentence': 'writing effectively as with many subjects is not something that people are usually any good at when theyre or so.',\n  'selected_keyphrases': ['write different subjects simultaneously',\n   'people writing',\n   'students can write',\n   'Writing on science subjects']},\n {'sentence': 'if we are to teach people to write really effectively we need to keep going.',\n  'selected_keyphrases': ['people wanted to write']},\n {'sentence': 'ive seen a lot of terrible essays written by my peers and my university is generally regarded for producing good writers.',\n  'selected_keyphrases': ['cheap dissertation writers.']},\n {'sentence': 'people can always learn to write more effectively.',\n  'selected_keyphrases': ['makes people learn',\n   'people learn most effectively.']}]"
     },
     "execution_count": 57,
     "metadata": {},
     "output_type": "execute_result"
    }
   ],
   "source": [
    "### INSPECT ###\n",
    "_ = random.randint(0, len(selected_rr_))\n",
    "selected_rr_[_][\"tgt_counter\"]"
   ],
   "metadata": {
    "collapsed": false
   }
  },
  {
   "cell_type": "code",
   "execution_count": 58,
   "outputs": [
    {
     "data": {
      "text/plain": "  0%|          | 0/10303 [00:00<?, ?it/s]",
      "application/vnd.jupyter.widget-view+json": {
       "version_major": 2,
       "version_minor": 0,
       "model_id": "b10e759823064efdb66c54d955a6cffb"
      },
      "application/json": {
       "n": 0,
       "total": 10303,
       "elapsed": 0.013124942779541016,
       "ncols": null,
       "nrows": null,
       "prefix": "",
       "ascii": false,
       "unit": "it",
       "unit_scale": false,
       "rate": null,
       "bar_format": null,
       "postfix": null,
       "unit_divisor": 1000,
       "initial": 0,
       "colour": null
      }
     },
     "metadata": {},
     "output_type": "display_data"
    },
    {
     "name": "stderr",
     "output_type": "stream",
     "text": [
      "INFO:KEYPHRASE-SELECTOR:[10303 Data Stored as cmv_rr_selected.jsonl]\n"
     ]
    }
   ],
   "source": [
    "file_name = \"cmv_rr_selected\"\n",
    "fout = open(f\"./src/data/processed/{file_name}.jsonl\", \"w\")\n",
    "\n",
    "with tqdm(total=(len(selected_rr))) as pbar:\n",
    "    with fout:\n",
    "        fout.write(json.dumps(selected_rr))\n",
    "        # for ln in selected_rr:\n",
    "        #     fout.write(json.dumps(ln))\n",
    "        #     pbar.update()\n",
    "\n",
    "logger.info(f\"[{len(selected_rr)} Data Stored as {file_name}.jsonl]\")"
   ],
   "metadata": {
    "collapsed": false
   }
  },
  {
   "cell_type": "code",
   "execution_count": 4,
   "outputs": [],
   "source": [
    "review = [json.loads(ln) for ln in open(\"./src/data/processed/cmv_rr_selected.jsonl\", \"r\")][0]"
   ],
   "metadata": {
    "collapsed": false
   }
  },
  {
   "cell_type": "code",
   "execution_count": 5,
   "outputs": [
    {
     "data": {
      "text/plain": "10303"
     },
     "execution_count": 5,
     "metadata": {},
     "output_type": "execute_result"
    }
   ],
   "source": [
    "len(review)"
   ],
   "metadata": {
    "collapsed": false
   }
  }
 ],
 "metadata": {
  "kernelspec": {
   "display_name": "Python 3",
   "language": "python",
   "name": "python3"
  },
  "language_info": {
   "codemirror_mode": {
    "name": "ipython",
    "version": 2
   },
   "file_extension": ".py",
   "mimetype": "text/x-python",
   "name": "python",
   "nbconvert_exporter": "python",
   "pygments_lexer": "ipython2",
   "version": "2.7.6"
  }
 },
 "nbformat": 4,
 "nbformat_minor": 0
}
