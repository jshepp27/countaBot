{
 "cells": [
  {
   "cell_type": "code",
   "execution_count": 1,
   "metadata": {},
   "outputs": [],
   "source": [
    "### ZERO-SHOT CLASSIFICATION, TOPIC LABELLING ###\n",
    "\n",
    "# TODOs: Discovering Interpretable Topics by Leveraging Common Sense Knowledge (Facebook)\n",
    "# TODOs: https://towardsdatascience.com/zero-shot-text-classification-with-hugging-face-7f533ba83cd6\n",
    "# DONE: Extract args, ids for labelling\n",
    "# DONE: Get Labels\n",
    "# TODOs: NLI vs Semantic\n",
    "# TODOs: Zero-shot Classification ConceptNet (semantic extension)\n",
    "# TODOs: Expand: Concept Net synonyms"
   ]
  },
  {
   "cell_type": "code",
   "execution_count": 2,
   "outputs": [
    {
     "name": "stdout",
     "output_type": "stream",
     "text": [
      "/Users/joshua.sheppard/PycharmProjects/countaBot/src/detection\n"
     ]
    }
   ],
   "source": [
    "### ASSERT WORKING DIRECTORY FOR IMPORTS ###\n",
    "from src.utils.utils import clean\n",
    "import os\n",
    "print(os.getcwd())"
   ],
   "metadata": {
    "collapsed": false
   }
  },
  {
   "cell_type": "code",
   "execution_count": 3,
   "outputs": [],
   "source": [
    "import pandas as pd\n",
    "import json\n",
    "import random\n",
    "from tqdm.notebook import tqdm"
   ],
   "metadata": {
    "collapsed": false
   }
  },
  {
   "cell_type": "code",
   "execution_count": 10,
   "outputs": [],
   "source": [
    "### LOAD ###\n",
    "arg_ids = [json.loads(ln)[\"id\"] for ln in open(\"../data/processed/cmv_processed.jsonl\")]\n",
    "args = [json.loads(ln)[\"argument\"][\"argument\"] for ln in open(\"../data/processed/cmv_processed.jsonl\")]\n",
    "claims = [json.loads(ln)[\"claim\"] for ln in open(\"../data/processed/cmv_processed.jsonl\")]\n",
    "\n",
    "hate_speech = [json.loads(ln)[\"hate\"] for ln in open(\"../data/processed/hate_cleaned.jsonl\")]\n",
    "hate_ids = [json.loads(ln)[\"id\"] for ln in open(\"../data/processed/hate_cleaned.jsonl\")]"
   ],
   "metadata": {
    "collapsed": false
   }
  },
  {
   "cell_type": "code",
   "execution_count": 11,
   "outputs": [
    {
     "data": {
      "text/plain": "8867"
     },
     "execution_count": 11,
     "metadata": {},
     "output_type": "execute_result"
    }
   ],
   "source": [
    "len(hate_speech)"
   ],
   "metadata": {
    "collapsed": false
   }
  },
  {
   "cell_type": "code",
   "execution_count": 6,
   "metadata": {},
   "outputs": [
    {
     "data": {
      "text/plain": "(list, 5990)"
     },
     "execution_count": 6,
     "metadata": {},
     "output_type": "execute_result"
    }
   ],
   "source": [
    "### UNIQUE ARGUMENTS ###\n",
    "corpus = set()\n",
    "idx = set()\n",
    "\n",
    "for j, k in zip(args, arg_ids):\n",
    "    corpus.add((j, k))\n",
    "\n",
    "corpus = list(corpus)\n",
    "type(corpus), len(corpus)"
   ]
  },
  {
   "cell_type": "code",
   "execution_count": 7,
   "metadata": {},
   "outputs": [
    {
     "data": {
      "text/plain": "4780"
     },
     "execution_count": 7,
     "metadata": {},
     "output_type": "execute_result"
    }
   ],
   "source": [
    "### COMMON-SENSE POLARISED TOPIC LABELS ###\n",
    "\n",
    "#TODOs: Prune and Add CauseNet Topics\n",
    "controversial_topics = [clean(ln) for ln in open(\"../data/concepts/wiki_controversial_topics.txt\")]\n",
    "debate_topics = [clean(ln) for ln in open(\"../data/concepts/IBM_debate_topics_I.txt\")]\n",
    "debate_topics_ = [clean(ln) for ln in open(\"../data/concepts/IBM_debate_topics_II.txt\")]\n",
    "arg_kb_20 = [clean(ln) for ln in open(\"../data/concepts/argkb_20_topics.txt\")]\n",
    "wiki_race = [clean(ln) for ln in open(\"../data/concepts/wiki_racism_related.txt\")]\n",
    "wiki_ideologies = [clean(ln) for ln in open(\"../data/concepts/wiki_political_ideologies.txt\")]\n",
    "\n",
    "concepts = [clean(ln) for ln in open(\"../data/concepts/cause_concepts.txt\")]\n",
    "\n",
    "topics = []\n",
    "topics.extend(controversial_topics)\n",
    "topics.extend(debate_topics)\n",
    "#topics.extend(debate_topics_)\n",
    "topics.extend(wiki_ideologies)\n",
    "topics.extend(arg_kb_20)\n",
    "topics.extend(wiki_race)\n",
    "\n",
    "len(topics)"
   ]
  },
  {
   "cell_type": "code",
   "execution_count": 8,
   "outputs": [
    {
     "data": {
      "text/plain": "['invasion of iraq',\n 'abortion',\n 'affirmative action',\n 'african national congress',\n 'alberta separatism',\n 'american civil liberties union',\n 'american hunters and shooters association',\n 'history of the jews in the united states',\n 'american jews',\n 'anarchism',\n 'anarchocapitalism',\n 'antiamericanism',\n 'anticlericalism',\n 'antiirish racism',\n 'antisemitism',\n 'asian american',\n 'atheism',\n 'austrian school',\n 'bashar assad',\n 'syrian civil war',\n 'bidoon social class',\n 'black lives matter',\n 'black supremacy',\n 'boricua popular army',\n 'brexit',\n 'british national party',\n 'capitalism',\n 'capital punishment',\n 'catalonia',\n 'cbc news',\n 'cherokee',\n 'china',\n 'east turkestan independence movement',\n 'tibetan independence movement',\n 'human rights in china',\n 'chinese intelligence activity abroad',\n 'christian right',\n 'plame affair',\n 'plame affair timeline',\n 'communism',\n 'communist party of china',\n 'communist government',\n 'communist state',\n 'cnn',\n 'conservatism in the united states',\n 'controversy',\n 'copyright',\n 'free software',\n 'viral license',\n 'copyright infringement of software',\n 'dmca',\n 'sonny bono copyright term extension act',\n 'inducement devolves into unlawful child exploitation act of',\n 'corsica',\n 'crime in the united states',\n 'criticism of walmart',\n 'cuba',\n 'culture war',\n 'cyprus dispute',\n 'deaf culture in the united states',\n 'ethnic group',\n 'democratic party united states',\n 'demographics of europe',\n 'demographics of the united states',\n 'domestic violence',\n 'detroit',\n 'economy of japan',\n 'efforts to impeach george w. bush',\n 'european union',\n 'fascism',\n 'federal deposit insurance corporation',\n 'federal marriage amendment',\n 'feminism',\n 'fox news',\n 'fractional reserve banking',\n 'free trade',\n 'freedom fighter',\n 'gay rights',\n 'lgbt rights',\n 'genocide denial',\n 'gentrification',\n 'gun control',\n 'gun politics',\n 'hamas',\n 'hate crime',\n 'health care reform in the united states',\n 'health services union expenses affair',\n 'hezbollah',\n 'hispanics',\n 'latinos',\n 'adolf hitler',\n 'holodomor',\n 'human overpopulation',\n 'immigration',\n 'immigration reform',\n 'immigration reform in the united states',\n 'immigration reform in the united kingdom',\n 'insurance',\n 'israel',\n 'history of israel',\n 'israelipalestinian conflict',\n 'italian american',\n 'antiitalianism',\n 'japan',\n 'jewish americans',\n 'kashmir',\n 'killing of harambe',\n 'korean war',\n 'kosovo',\n 'louisiana',\n 'chicago',\n 'new jersey',\n 'lebanon',\n 'liberalism in the united states',\n 'libertarianism',\n 'macedonia',\n 'republic of macedonia',\n 'macedonian slavs',\n 'moldavia',\n 'moldovans',\n 'masculism',\n 'mens rights',\n 'mexico',\n 'morality',\n 'ethics',\n 'multiculturalism',\n 'muslim brotherhood',\n 'nato',\n 'national democratic party of germany',\n 'bombing of dresden',\n 'native american name controversy',\n 'nationalanarchism',\n 'national rifle association',\n 'nazi germany',\n 'gun control in the third reich book',\n 'neoconservatism',\n 'neoliberalism',\n 'new world order conspiracy theory',\n 'north korea',\n 'north korea and weapons of mass destruction',\n 'politics of north korea',\n 'northern ireland',\n 'occupy wall street',\n 'occupy movement',\n 'osama bin laden',\n 'alqaeda',\n 'open borders',\n 'pakkoruotsi',\n 'state of palestine',\n 'palestine liberation organization',\n 'park',\n 'world trade center site',\n 'patriotism',\n 'pegida',\n 'people for the ethical treatment of animals',\n 'pioneer fund',\n 'polish people',\n 'antipolish sentiment',\n 'political correctness',\n 'political parties',\n 'partisan political',\n 'postracial america',\n 'poverty',\n 'priceanderson nuclear industries indemnity act',\n 'public education',\n 'puerto ricans in the united states',\n 'quebec',\n 'canada',\n 'race relations',\n 'racial quota',\n 'race human classification',\n 'ethnicity',\n 'demographics of chile',\n 'racism',\n 'radical right united states',\n 'republican party united states',\n 'rightwing populism',\n 'recession',\n 'russian interference in the united states elections',\n 'salvador allende',\n 'samesex marriage',\n 'saskatchewan party',\n 'saudi arabia',\n 'sharia',\n 'laura schlessinger',\n 'school violence',\n 'seamus incident',\n 'republika srpska',\n 'republic of serbian krajina',\n 'sedition',\n 'separatism',\n 'september attacks',\n 'sexual harassment',\n 'ariel sharon',\n 'silesia',\n 'social credit system',\n 'social issues',\n 'socialism',\n 'southeastern united states',\n 'southern united states',\n 'texas',\n 'southern poverty law center',\n 'spain',\n 'sudan',\n 'south sudan',\n 'darfur',\n 'banking',\n 'switzerland',\n 'synarchism',\n 'syrian social nationalist party',\n 'tea party movement',\n 'tea party protests',\n 'taiwan',\n 'taliban',\n 'terrorism',\n 'terrorist groups',\n 'tibet',\n 'tobin tax',\n 'torture',\n 'medical torture',\n 'universal health care',\n 'united nations',\n 'usa patriot act',\n 'patriot act',\n 'united states',\n 'war on terror',\n 'valencian people',\n 'valencianism',\n 'catalan people',\n 'catalan nationalism',\n 'valencian language',\n 'catalan language',\n 'vector marketing',\n 'war on drugs',\n 'wells fargo',\n 'wells fargo account fraud scandal',\n 'western civilization',\n 'white american',\n 'white anglosaxon protestant',\n 'wiretapping',\n 'paul wolfowitz',\n 'womyn',\n 'women',\n 'xinjiang',\n 'sinkiang',\n 'xinjiang reeducation camps',\n 'yugoslavia',\n 'zaire',\n 'democratic republic of the congo',\n 'zimbabwe',\n 'edit section history',\n 'thoku earthquake and tsunami',\n 'iranian coup dtat',\n 'south vietnamese coup',\n 'coup in chile',\n 'los angeles riots',\n 'september terrorist attacks',\n 'american airlines flight',\n 'american revolution',\n 'apartheid',\n 'apollo moon landing hoax accusations',\n 'armenian genocide',\n 'aryan invasion theory',\n 'atomic bombings of hiroshima and nagasaki',\n 'battle of cuito cuanavale',\n 'berlin wall',\n 'biafra',\n 'black power',\n 'bloody sunday',\n 'bosnia and herzegovina',\n 'bromberg bloody sunday',\n 'cambodian genocide',\n 'centre party germany',\n 'chicano nationalism',\n 'mexican american',\n 'coand',\n 'cold war',\n 'cuban missile crisis',\n 'communism',\n 'confederate states of america',\n 'jim crow laws',\n 'racial segregation',\n 'constitutional law',\n 'crusades',\n 'cyprus dispute',\n 'dday',\n 'france',\n 'east germany',\n 'german democratic republic',\n 'politics of egypt',\n 'ethnicity',\n 'falkland islands',\n 'french revolution',\n 'the great purge',\n 'genocide',\n 'great depression',\n 'green revolution',\n 'heimatvertriebene',\n 'iran hostage crisis',\n 'ireland',\n 'irish potato famine',\n 'irredentism',\n 'italy',\n 'china',\n 'mexico',\n 'japanese american internment',\n 'jesus christ',\n 'jews',\n 'ukraine',\n 'poland',\n 'antisemitism',\n 'kennedy assassination',\n 'korean war',\n 'kosovo war',\n 'kurdish genocide',\n 'kuril islands',\n 'libyan civil war',\n 'louisiana purchase',\n 'majestic',\n 'maoism',\n 'marijuana',\n 'legality of cannabis',\n 'mexicanamerican war',\n 'history of mexican americans',\n 'middle ages',\n 'native americans in the united states',\n 'nazism',\n 'nordic race',\n 'aryan race',\n 'white race',\n 'okinawa',\n 'operation wetback',\n 'other losses',\n 'panama canal',\n 'panama canal zone',\n 'philippines',\n 'piprahwa',\n 'polandrussia relations',\n 'polandukraine relations',\n 'pope pius xii and the holocaust',\n 'prohibition',\n 'prussia',\n 'puerto rico',\n 'quebec sovereignty movement',\n 'political radicalism',\n 'rape during the occupation of germany',\n 'roswell ufo incident',\n 'russiaukraine relations',\n 'sanhedrin',\n 'scientology',\n 'silesia',\n 'slavery',\n 'soviet republics',\n 'soviet russia',\n 'soviet union',\n 'soviet war crimes',\n 'spanishamerican war',\n 'spanish civil war',\n 'spanish inquisition',\n 'stem cell research',\n 'texas revolution',\n 'battle of the alamo',\n 'the rape of nanking book',\n 'tiananmen square protests of',\n 'trail of tears',\n 'twa flight',\n 'u.s. civil war',\n 'latinos',\n 'hispanic',\n 'war of',\n 'united states presidential election',\n 'united states presidential election',\n 'unidentified flying object',\n 'ufos',\n 'ustae',\n 'vietnam war',\n 'warsaw pact',\n 'watergate scandal',\n 'white supremacy',\n 'womens rights',\n 'feminism',\n 'world war i',\n 'world war ii',\n 'edit section religion',\n '',\n 'phenomenon',\n 'mesoamerican long count calendar',\n 'adventism',\n 'agnosticism',\n 'american family association',\n 'answers in genesis',\n 'anticlericalism',\n 'antimuslim violence in india',\n 'antisemitism',\n 'apollo quiboloy',\n 'atheism',\n 'baptist',\n 'biblical literalism',\n 'book of enoch',\n 'bornagain',\n 'buddhism',\n 'catholicism',\n 'christian coalition of america',\n 'christian right',\n 'christian science',\n 'christianity',\n 'christophobia',\n 'conservative judaism',\n 'criticism of conservative judaism',\n 'creationism',\n 'cult',\n 'deism',\n 'dhimmi',\n 'divorce',\n 'dorje shugden',\n 'dorje shugden controversy',\n 'druze',\n 'eastern orthodoxy',\n 'eckankar',\n 'evangelicalism',\n 'falun gong',\n 'feminism',\n 'fundamentalism',\n 'gay marriage',\n 'gnosticism and the new testament',\n 'god',\n 'gospel for asia',\n 'guru',\n 'hare krishna',\n 'hate group',\n 'historicity of jesus',\n 'homosexuality',\n 'iglesia ni cristo',\n 'imperium warhammer',\n 'islamophobia',\n 'islam',\n 'jainism',\n 'jehovahs witnesses',\n 'jesus freaks',\n 'judas iscariot',\n 'kabbalah',\n 'kashrut',\n 'kosher',\n 'kokuchkai',\n 'ku klux klan',\n 'last supper',\n 'liberalism',\n 'liturgy',\n 'lutheranism',\n 'makkah',\n 'mecca',\n 'menachem mendel schneerson',\n 'mennonite',\n 'amish',\n 'modernism',\n 'mormonism',\n 'latter day saint movement',\n 'neocatechumenal way',\n 'new age',\n 'new kadampa tradition',\n 'nondenominational',\n 'ole nydahl',\n 'diamond way buddhism',\n 'opus dei',\n 'pacifism',\n 'paganism',\n 'paul and gnosticism',\n 'pentecostalism',\n 'politics',\n 'prem rawat',\n 'divine light mission',\n 'project chanology',\n 'protestant reformation',\n 'quran',\n 'reincarnation research',\n 'republican party united states',\n 'religious right',\n 'religion and sexuality',\n 'role of women in religion',\n 'religious feminism',\n 'separation of church and state',\n 'satanism',\n 'sathya sai baba',\n 'scientology',\n 'seventhday adventist church',\n 'sharia',\n 'sin',\n 'soka gakkai',\n 'sufism',\n 'syncretism',\n 'taboo',\n 'temple mount',\n 'united submitters international',\n 'quran alone',\n 'rashad khalifa',\n 'universal life church',\n 'universalism',\n 'westboro baptist church',\n 'edit section science biology and health',\n 'abortion',\n 'addadhd',\n 'aids',\n 'aids denialism',\n 'alcoholism',\n 'allergy',\n 'allopathic medicine',\n 'alzheimers disease',\n 'alternative medicine',\n 'anencephaly',\n 'answers in genesis',\n 'anthropology',\n 'assisted suicide',\n 'aspartame',\n 'aspartame controversy',\n 'aspergers syndrome',\n 'autism',\n 'astrology',\n 'bates method',\n 'bioethics',\n 'biology and sexual orientation',\n 'birth defect',\n 'black hole information paradox',\n 'blood transfusion',\n 'breast cancer',\n 'cancer',\n 'caesarean section',\n 'chakra',\n 'chiropractic',\n 'chromosome',\n 'circumcision',\n 'cloning',\n 'cochlear implant',\n 'cold fusion',\n 'conjoined twins',\n 'covid pandemic',\n 'cryonics',\n 'creation science',\n 'depleted uranium',\n 'clinical depression',\n 'disability',\n 'drug',\n 'dyslexia',\n 'ebola',\n 'albert einstein',\n 'electrical sensitivity',\n 'elitism',\n 'eugenics',\n 'euthanasia',\n 'evolution',\n 'extraterrestrial life',\n 'family planning',\n 'female genital mutilation',\n 'modern flat earth beliefs',\n 'genetic engineering',\n 'genetically modified food',\n 'gender',\n 'glyphosate',\n 'heredity',\n 'heritability of iq',\n 'high fructose corn syrup',\n 'hiv',\n 'aids',\n 'hmo',\n 'hodgkins disease',\n 'homeopathy',\n 'human cloning',\n 'human evolution',\n 'longevity',\n 'huntingtons disease',\n 'influenza',\n 'bird flu',\n 'institute for creation research',\n 'intelligent design',\n 'iq and the wealth of nations',\n 'jewish people',\n 'kombucha',\n 'lactose intolerance',\n 'life extension',\n 'lupus',\n 'master race',\n 'medical torture',\n 'menopause',\n 'mental disorder',\n 'mental retardation',\n 'michio kaku',\n 'mind control',\n 'ms',\n 'ccsvi',\n 'none',\n 'mucoid plaque',\n 'nutrition',\n 'obesity',\n 'organ donor',\n 'organ transplantation',\n 'ovarian cancer',\n 'overpopulation',\n 'dna paternity testing',\n 'pharmaceutical industry',\n 'pluto',\n 'iau definition of planet',\n 'poppers',\n 'alkyl nitrites',\n 'pregnancy',\n 'premature birth',\n 'prenatal care',\n 'psychiatry',\n 'race classification of human beings',\n 'race and intelligence',\n 'recapitulation theory',\n 'romani people',\n 'schizophrenia',\n 'selfharm',\n 'sex differences in intelligence',\n 'sex differences in psychology',\n 'sexually transmitted disease',\n 'smoking',\n 'tobacco',\n 'smoking bans',\n 'speciesism',\n 'sperm donor',\n 'egg donor',\n 'stem cell research',\n 'string theory',\n 'testability',\n 'surrogate mother',\n 'taysachs disease',\n 'nikola tesla',\n 'testtube babies',\n 'therapeutic touch',\n 'thiomersal',\n 'transgender',\n 'transsexualism',\n 'transabled',\n 'twin paradox',\n 'universe',\n 'big bang',\n 'warburg hypothesis',\n 'vaccine controversies',\n 'veganism',\n 'vegetarianism',\n 'vertebral subluxation',\n 'edit section sex sexuality and gender identity',\n 'ing',\n 'abortion',\n 'adultery',\n 'age of consent',\n 'aids',\n 'aids denialism',\n 'anal sex',\n 'antilgbt',\n 'asian fetish',\n 'racial fetishism',\n 'attraction to disability',\n 'abasiophilia',\n 'autoerotic asphyxiation',\n 'autogynephilia',\n 'bdsm',\n 'bestiality',\n 'biphobia',\n 'bisexuality',\n 'buggery',\n 'buggery act',\n 'child grooming',\n 'child pornography',\n 'child sexuality',\n 'chlamydia',\n 'circumcision',\n 'conversion therapy',\n 'legal status of drawn pornography depicting minors',\n 'lolicon',\n 'shotacon',\n 'ejaculation',\n 'fetishism',\n 'fingering sexual act',\n 'fisting',\n 'fornication',\n 'gspot',\n 'gay and lesbian kingdom of the coral sea islands',\n 'gay rights',\n 'genetic sexual attraction',\n 'genital modification and mutilation',\n 'gerontophilia',\n 'golden shower',\n 'hebephilia',\n 'hentai',\n 'heterophobia',\n 'heterosexism',\n 'homophobia',\n 'homosexuality',\n 'incest',\n 'internet pornography',\n 'intersex rights',\n 'lesbianism',\n 'lesbophobia',\n 'lgbt rights',\n 'masturbation',\n 'necrophilia',\n 'north american manboy love association',\n 'oral sex',\n 'orgasm',\n 'paraphilia',\n 'pederasty',\n 'paedophilia',\n 'polyamory',\n 'polygamy',\n 'pornhub',\n 'pornography',\n 'pregnancy fetishism',\n 'prostitution',\n 'rape',\n 'sadomasochism',\n 'safe schools coalition australia',\n 'safe sex',\n 'semen',\n 'sex offender',\n 'sexual abuse',\n 'sexual acts',\n 'sexuality of abraham lincoln',\n 'sexuality of adolf hitler',\n 'sexually transmitted diseases',\n 'stalking',\n 'suicide among lgbt youth',\n 'surrogacy',\n 'swinging sexual practice',\n 'transgender rights',\n 'transphobia',\n 'transsexuality',\n 'women',\n 'australian classification board',\n 'zoophilia',\n 'edit section entertainment',\n 'bullfighting',\n 'bumfights',\n 'disc jockey',\n 'duke nukem forever',\n 'development hell',\n 'entertainment software rating board',\n 'gambling',\n 'gamergate controversy',\n 'girls gone wild franchise',\n 'hip hop culture',\n 'hip hop music',\n 'rapping',\n 'rap music',\n 'list of bestselling albums',\n 'mpaa film rating system',\n 'playboy magazine',\n 'pop punk',\n 'pornographic magazine',\n 'hustler',\n 'penthouse magazine',\n 'psytrance',\n 'seaworld',\n 'smooth jazz',\n 'star wars the last jedi',\n 'strip club',\n 'video game controversies',\n 'world star hip hop',\n 'edit section environment',\n 'hurricane katrina',\n 'new orleans',\n 'chernobyl',\n 'deepwater horizon',\n 'deforestation',\n 'logging',\n 'dust bowl',\n 'intensive farming',\n 'ecofascism',\n 'ecoterrorism',\n 'environmental impact of hydraulic fracturing',\n 'environmental vegetarianism',\n 'fossil fuel',\n 'air pollution',\n 'greenhouse gas',\n 'natural gas',\n 'natural gas',\n 'coal',\n 'coal mining',\n 'petrol',\n 'oil spill',\n 'environmental impact of the oil shale industry',\n 'fukushimadaiichi',\n 'thoku earthquake and tsunami',\n 'global warming',\n 'global cooling',\n 'hydraulic fracturing',\n 'hydraulic fracturing by country',\n 'hydraulic fracturing in the united states',\n 'hydrogen bomb',\n 'atomic bomb',\n 'an inconvenient truth',\n 'climate change',\n 'mercury poisoning',\n 'minamata disease',\n 'mining',\n 'deep sea mining',\n 'nuclear power',\n 'wind farm',\n 'oil drilling',\n 'anwr',\n 'alaska',\n 'alaska north slope',\n 'overpopulation',\n 'population explosion',\n 'ozone depletion',\n 'ozone hole',\n 'pollution',\n 'recycling',\n 'sea level rise',\n 'three gorges dam',\n 'hydroelectric',\n 'water shortage',\n 'drought',\n 'flood',\n 'toxic waste',\n 'love canal',\n 'volkswagen emissions scandal',\n 'weather modification',\n 'edit section law and order',\n 'crime',\n 'double jeopardy',\n 'illegal drugs',\n 'judicial system',\n 'jury duty',\n 'law enforcement',\n 'minor law',\n 'public education',\n 'prison',\n 'selective service',\n 'military draft',\n 'tax',\n 'internal revenue service',\n 'edit section languages',\n 'afrikaans',\n 'afrikaners',\n 'south africa',\n 'ancient macedonian language',\n 'baltoslavic languages',\n 'basque language',\n 'bilingualism in canada',\n 'celtic revival',\n 'celtic languages',\n 'cornwall england',\n 'chinese language',\n 'creole language',\n 'dencaucasian languages',\n 'ebonics word',\n 'filipino language',\n 'tagalog language',\n 'french language in canada',\n 'graecoarmenian',\n 'hate crime',\n 'discrimination',\n 'indoeuropean',\n 'japanese language',\n 'korean language',\n 'ladin language',\n 'language revival',\n 'linguistics',\n 'macedonian language',\n 'norwegian language',\n 'occitan language',\n 'occitania',\n 'vergonha',\n 'linguicide',\n 'pidgin english',\n 'quebec',\n 'riksml',\n 'sapirwhorf hypothesis',\n 'sami language',\n 'sami people',\n 'spanish in the united states',\n 'turanism',\n 'turkic languages',\n 'welsh language',\n 'yiddish language',\n 'philosophy',\n 'meaning of life',\n 'friedrich nietzsche',\n 'plato',\n 'scientific method',\n 'socrates',\n 'truth',\n 'edit section psychiatry',\n 'sigmund freud',\n 'carl jung',\n 'phil mcgraw',\n 'thomas szasz',\n 'edit section technology',\n 'bittorrent',\n 'bluray disc',\n 'criticism of microsoft',\n 'criticism of windows vista',\n 'criticism of apple inc.',\n 'cryptocurrency',\n 'console wars',\n 'cyberstalking',\n 'digital rights management',\n 'electric car',\n 'electronic voting',\n 'facebook',\n 'factory farming',\n 'file sharing',\n 'ford pinto',\n 'gnulinux naming controversy',\n 'talklinux',\n 'han unification',\n 'hd dvd',\n 'holography',\n 'indent style',\n 'myspace',\n 'napster',\n 'net neutrality',\n 'norton antivirus',\n 'nuclear power',\n 'objectoriented programming',\n 'peertopeer file sharing',\n 'removal of internet explorer',\n 'smart meter',\n 'solar power',\n 'standardization of office open xml',\n 'the pirate bay',\n 'unmanned combat air vehicle',\n 'windows vista',\n 'edit section media and culture',\n 'bt',\n 'chan',\n 'gag',\n 'reddit',\n 'a current affair australian tv program',\n 'anime',\n 'beavis and butthead',\n 'black entertainment television',\n 'black metal',\n 'borat',\n 'cancel culture',\n 'cctv',\n 'cable news',\n 'cnn',\n 'msnbc',\n 'fox news channel',\n 'bbc',\n 'rt tv network',\n 'al jazeera',\n 'censorship',\n 'chinese television',\n 'da vinci code',\n 'digimon',\n 'pokmon',\n 'digital television',\n 'multiculturalism',\n 'disco',\n 'drawn together',\n 'emo',\n 'european culture',\n 'facebook',\n 'family guy',\n 'federal communications commission',\n 'furry subculture',\n 'game of thrones',\n 'gamergate controversy',\n 'gay culture',\n 'google',\n 'goth subculture',\n 'harry potter',\n 'hard rock',\n 'heavy metal music',\n 'misogyny',\n 'satan',\n 'hippie',\n 'ima korean',\n 'the innocence of muslims',\n 'internet forum',\n 'trolling',\n 'cyberbullying',\n 'hate speech',\n 'media bias',\n 'me too movement',\n 'netiquette',\n 'paw patrol',\n 'pentagon papers',\n 'the new york times',\n 'pewdiepie videography',\n 'political correctness',\n 'lgbt',\n 'saturday night live',\n 'south park',\n 'south park controversies',\n 'free speech',\n 'criticism of time warner',\n 'criticism of viacom',\n 'criticism of tiktok',\n 'trinity broadcasting network',\n 'televangelists',\n 'twilight series',\n 'criticism of twitter',\n 'americana',\n 'virgin records',\n 'the walt disney company',\n 'criticism of wikipedia',\n ...]"
     },
     "execution_count": 8,
     "metadata": {},
     "output_type": "execute_result"
    }
   ],
   "source": [
    "topics"
   ],
   "metadata": {
    "collapsed": false
   }
  },
  {
   "cell_type": "code",
   "execution_count": 16,
   "outputs": [],
   "source": [
    "# Semantic-Search, Cosine Similarity\n",
    "from sentence_transformers import SentenceTransformer, util\n",
    "import torch\n",
    "\n",
    "embedder = SentenceTransformer('all-MiniLM-L6-v2')\n",
    "def semantic_search(corpus, ids, query, threshold=0.10):\n",
    "    # Construct Corpus set\n",
    "    corpus_ = list(corpus)\n",
    "    id_ = list(ids)\n",
    "\n",
    "    # Embed the Corpus\n",
    "    corpus_embeddings = embedder.encode(corpus_, convert_to_tensor=True)\n",
    "\n",
    "    # Construct Query-Label set\n",
    "    queries = set(query)\n",
    "\n",
    "    mapped_dict = {}\n",
    "    for i in range(0, len(id_)):\n",
    "        mapped_dict[id_[i]] = {\"argument\": corpus_[i], \"label\": []}\n",
    "\n",
    "    # Return top k=1 argument for each Label via Cosine Similarity\n",
    "    top_k = min(1, len(corpus_))\n",
    "\n",
    "    with tqdm(total=len(queries)) as pbar:\n",
    "        for query in queries:\n",
    "            query_embedding = embedder.encode(query, convert_to_tensor=True)\n",
    "\n",
    "            cos_scores = util.cos_sim(query_embedding, corpus_embeddings)[0]\n",
    "            top_results = torch.topk(cos_scores, k=top_k)\n",
    "\n",
    "            for score, idx in zip(top_results[0], top_results[1]):\n",
    "                # 'Empirical' threshold\n",
    "                if score >= threshold:\n",
    "                    # Append Label\n",
    "                    #mapped_dict[id_][\"argument\"] = corpus_[idx]\n",
    "                    # Note: Can use the same idx index\n",
    "                    mapped_dict[id_[idx]][\"label\"] = query.lower()\n",
    "\n",
    "                #else: mapped_dict[id_][\"label\"] = \"None\"\n",
    "\n",
    "            pbar.update()\n",
    "\n",
    "    return mapped_dict"
   ],
   "metadata": {
    "collapsed": false
   }
  },
  {
   "cell_type": "code",
   "execution_count": 15,
   "outputs": [
    {
     "name": "stderr",
     "output_type": "stream",
     "text": [
      "\n",
      "KeyboardInterrupt\n",
      "\n"
     ]
    }
   ],
   "source": [
    "### LABELLING: ARGUMENT SPEECH ###\n",
    "topics = semantic_search(corpus=corpus, ids=arg_ids, query=topics, threshold=0)"
   ],
   "metadata": {
    "collapsed": false
   }
  },
  {
   "cell_type": "code",
   "execution_count": 17,
   "outputs": [
    {
     "data": {
      "text/plain": "  0%|          | 0/4499 [00:00<?, ?it/s]",
      "application/vnd.jupyter.widget-view+json": {
       "version_major": 2,
       "version_minor": 0,
       "model_id": "e8b428a9ea3b41aabdc5658a0bfdf101"
      },
      "application/json": {
       "n": 0,
       "total": 4499,
       "elapsed": 0.006927967071533203,
       "ncols": null,
       "nrows": null,
       "prefix": "",
       "ascii": false,
       "unit": "it",
       "unit_scale": false,
       "rate": null,
       "bar_format": null,
       "postfix": null,
       "unit_divisor": 1000,
       "initial": 0,
       "colour": null
      }
     },
     "metadata": {},
     "output_type": "display_data"
    }
   ],
   "source": [
    "### LABELLING: HATEFUL SPEECH ###\n",
    "hate_speech_topics = semantic_search(corpus=hate_speech, ids=hate_ids, query=topics, threshold=0)"
   ],
   "metadata": {
    "collapsed": false
   }
  },
  {
   "cell_type": "code",
   "execution_count": null,
   "outputs": [],
   "source": [
    "### LABELLING: CONTROVERSIAL TOPICS ###\n",
    "claim_topics = semantic_search(corpus=claim_corpus, query=topics, threshold=0)"
   ],
   "metadata": {
    "collapsed": false
   }
  },
  {
   "cell_type": "code",
   "execution_count": null,
   "outputs": [],
   "source": [
    "### EXTRACT LABELLED INSTANCES ###\n",
    "def extract_labelled(dict_):\n",
    "    res = []\n",
    "    for i in dict_.items():\n",
    "        j, k = i\n",
    "\n",
    "        if k[\"label\"] != []:\n",
    "            res.append({\"id\": i[0], \"argument\": k[\"argument\"], \"label\": k[\"label\"]})\n",
    "    return res"
   ],
   "metadata": {
    "collapsed": false
   }
  },
  {
   "cell_type": "code",
   "execution_count": null,
   "outputs": [],
   "source": [
    "print(len(topics), len(extract_labelled(topics)))\n",
    "topics"
   ],
   "metadata": {
    "collapsed": false
   }
  },
  {
   "cell_type": "code",
   "execution_count": null,
   "outputs": [],
   "source": [
    "### LABELLING: CONCEPTS ###\n",
    "arg_concepts = semantic_search(corpus=corpus, query=concepts)"
   ],
   "metadata": {
    "collapsed": false
   }
  },
  {
   "cell_type": "code",
   "execution_count": null,
   "outputs": [],
   "source": [
    "len(arg_concepts), len(extract_labelled(arg_concepts))"
   ],
   "metadata": {
    "collapsed": false
   }
  },
  {
   "cell_type": "code",
   "execution_count": null,
   "outputs": [],
   "source": [
    "### STORE TOPIC LABELS CONCEPTS AND LABELS ###\n",
    "fout = open(\"../data/argument_topic_concept.jsonl\", \"w\")\n",
    "\n",
    "for j, k in arg_topics.items():\n",
    "    fout.write(json.dumps({\n",
    "        \"id\": j,\n",
    "        \"argument\": k[\"argument\"],\n",
    "        \"topic_label\": k[\"label\"],\n",
    "        #\"concept_label\": k[\"label\"]\n",
    "    }))\n",
    "    fout.write(\"\\n\")"
   ],
   "metadata": {
    "collapsed": false
   }
  },
  {
   "cell_type": "code",
   "execution_count": null,
   "outputs": [],
   "source": [
    "### STORE CONCEPT LABELS CONCEPTS AND LABELS ###\n",
    "fout = open(\"../data/argument_concepts.jsonl\", \"w\")\n",
    "\n",
    "for j, k in arg_concepts.items():\n",
    "    fout.write(json.dumps({\n",
    "        \"id\": j,\n",
    "        \"argument\": k[\"argument\"],\n",
    "        \"concept_label\": k[\"label\"],\n",
    "    }))\n",
    "    fout.write(\"\\n\")"
   ],
   "metadata": {
    "collapsed": false
   }
  },
  {
   "cell_type": "code",
   "execution_count": null,
   "outputs": [],
   "source": [
    "for j, k in arg_topics.items():\n",
    "    if k[\"argument\"] == \"\":\n",
    "        print(\"blanks\", j)"
   ],
   "metadata": {
    "collapsed": false
   }
  },
  {
   "cell_type": "code",
   "execution_count": null,
   "outputs": [],
   "source": [
    "# ### FORM NEW ARGUMENT-SET ###\n",
    "#\n",
    "# # TODO: Return Domain Restricted\n",
    "# args = [json.loads(ln) for ln in open(\"../data/cmv_processed.jsonl\")]\n",
    "# extracts = [json.loads(ln) for ln in open(\"../data/argument_extracts.jsonl\")]\n",
    "# arg_ids = [json.loads(ln)[\"id\"] for ln in open(\"../data/cmv_processed.jsonl\")]\n",
    "#\n",
    "# def get_arg(id_):\n",
    "#     if id_ in arg_ids:\n",
    "#         arg_location = arg_ids.index(id_)\n",
    "#         arg = args[arg_location]\n",
    "#         return arg\n",
    "#\n",
    "#     else: return None\n",
    "#\n",
    "# args_w_extract = []\n",
    "# for i in extracts:\n",
    "#     extract_id = i[\"id\"]\n",
    "#\n",
    "#     arg = get_arg(extract_id)\n",
    "#     arg[\"extract\"] = i[\"extract\"]\n",
    "#\n",
    "#     args_w_extract.append(arg)"
   ],
   "metadata": {
    "collapsed": false
   }
  }
 ],
 "metadata": {
  "kernelspec": {
   "display_name": "Python 3.10.6 ('venv': venv)",
   "language": "python",
   "name": "python3"
  },
  "language_info": {
   "codemirror_mode": {
    "name": "ipython",
    "version": 3
   },
   "file_extension": ".py",
   "mimetype": "text/x-python",
   "name": "python",
   "nbconvert_exporter": "python",
   "pygments_lexer": "ipython3",
   "version": "3.10.6"
  },
  "orig_nbformat": 4,
  "vscode": {
   "interpreter": {
    "hash": "1b747fec5972a5a28202124dfae2950631b4721a6e18efe99aaae23c73408484"
   }
  }
 },
 "nbformat": 4,
 "nbformat_minor": 2
}
