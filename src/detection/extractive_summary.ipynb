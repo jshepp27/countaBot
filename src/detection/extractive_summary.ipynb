{
 "cells": [
  {
   "cell_type": "code",
   "execution_count": 2,
   "metadata": {
    "collapsed": true
   },
   "outputs": [],
   "source": [
    "import json\n",
    "from summarizer import Summarizer"
   ]
  },
  {
   "cell_type": "code",
   "execution_count": 3,
   "outputs": [],
   "source": [
    "args = [json.loads(ln)[\"argument\"][\"argument\"] for ln in open(\"../data/cmv_processed.jsonl\")]\n",
    "ids = [json.loads(ln)[\"id\"] for ln in open(\"../data/cmv_processed.jsonl\")]"
   ],
   "metadata": {
    "collapsed": false
   }
  },
  {
   "cell_type": "code",
   "execution_count": 4,
   "outputs": [
    {
     "data": {
      "text/plain": "(list, 5990)"
     },
     "execution_count": 4,
     "metadata": {},
     "output_type": "execute_result"
    }
   ],
   "source": [
    "corpus = set()\n",
    "idx = set()\n",
    "\n",
    "for j, k in zip(args, ids):\n",
    "    corpus.add((j, k))\n",
    "\n",
    "corpus = list(corpus)\n",
    "type(corpus), len(corpus)"
   ],
   "metadata": {
    "collapsed": false
   }
  },
  {
   "cell_type": "code",
   "execution_count": 5,
   "outputs": [
    {
     "name": "stderr",
     "output_type": "stream",
     "text": [
      "Some weights of the model checkpoint at bert-large-uncased were not used when initializing BertModel: ['cls.predictions.transform.LayerNorm.weight', 'cls.predictions.decoder.weight', 'cls.predictions.transform.LayerNorm.bias', 'cls.predictions.bias', 'cls.seq_relationship.weight', 'cls.predictions.transform.dense.bias', 'cls.predictions.transform.dense.weight', 'cls.seq_relationship.bias']\n",
      "- This IS expected if you are initializing BertModel from the checkpoint of a model trained on another task or with another architecture (e.g. initializing a BertForSequenceClassification model from a BertForPreTraining model).\n",
      "- This IS NOT expected if you are initializing BertModel from the checkpoint of a model that you expect to be exactly identical (initializing a BertForSequenceClassification model from a BertForSequenceClassification model).\n"
     ]
    }
   ],
   "source": [
    "model = Summarizer()"
   ],
   "metadata": {
    "collapsed": false
   }
  },
  {
   "cell_type": "code",
   "execution_count": 27,
   "outputs": [
    {
     "data": {
      "text/plain": "  0%|          | 0/10303 [00:00<?, ?it/s]",
      "application/vnd.jupyter.widget-view+json": {
       "version_major": 2,
       "version_minor": 0,
       "model_id": "5991fe5b0db94d8d897ebe7c220ba6fa"
      },
      "application/json": {
       "n": 0,
       "total": 10303,
       "elapsed": 0.012407064437866211,
       "ncols": null,
       "nrows": null,
       "prefix": "",
       "ascii": false,
       "unit": "it",
       "unit_scale": false,
       "rate": null,
       "bar_format": null,
       "postfix": null,
       "unit_divisor": 1000,
       "initial": 0,
       "colour": null
      }
     },
     "metadata": {},
     "output_type": "display_data"
    }
   ],
   "source": [
    "from tqdm.notebook import tqdm\n",
    "results = []\n",
    "\n",
    "with tqdm(total=(len(corpus)), position=0, leave=True) as pbar:\n",
    "    for i, j in corpus:\n",
    "        results.append((j, model(i, num_sentences = 3, min_length=10)))\n",
    "        pbar.update()"
   ],
   "metadata": {
    "collapsed": false
   }
  },
  {
   "cell_type": "code",
   "execution_count": 29,
   "outputs": [
    {
     "data": {
      "text/plain": "5990"
     },
     "execution_count": 29,
     "metadata": {},
     "output_type": "execute_result"
    }
   ],
   "source": [
    "len(results)"
   ],
   "metadata": {
    "collapsed": false
   }
  },
  {
   "cell_type": "code",
   "execution_count": 1,
   "outputs": [
    {
     "ename": "NameError",
     "evalue": "name 'corpus' is not defined",
     "output_type": "error",
     "traceback": [
      "\u001B[0;31m---------------------------------------------------------------------------\u001B[0m",
      "\u001B[0;31mNameError\u001B[0m                                 Traceback (most recent call last)",
      "Input \u001B[0;32mIn [1]\u001B[0m, in \u001B[0;36m<cell line: 1>\u001B[0;34m()\u001B[0m\n\u001B[0;32m----> 1\u001B[0m \u001B[38;5;28mlen\u001B[39m(\u001B[43mcorpus\u001B[49m)\n",
      "\u001B[0;31mNameError\u001B[0m: name 'corpus' is not defined"
     ]
    }
   ],
   "source": [
    "len(corpus)"
   ],
   "metadata": {
    "collapsed": false
   }
  },
  {
   "cell_type": "code",
   "execution_count": 31,
   "outputs": [],
   "source": [
    "fout = open(\"../data/argument_extracts.jsonl\", \"w\")\n",
    "for j, k in results:\n",
    "    fout.write(json.dumps({\n",
    "        \"id\": j,\n",
    "        \"extract\": k,\n",
    "    }))\n",
    "    fout.write(\"\\n\")"
   ],
   "metadata": {
    "collapsed": false
   }
  },
  {
   "cell_type": "code",
   "execution_count": 4,
   "outputs": [
    {
     "name": "stdout",
     "output_type": "stream",
     "text": [
      "/Users/joshua.sheppard/PycharmProjects/countaBot\n",
      "claim\n",
      "huggingface/tokenizers: The current process just got forked, after parallelism has already been used. Disabling parallelism to avoid deadlocks...\n",
      "To disable this warning, you can either:\n",
      "\t- Avoid using `tokenizers` before the fork if possible\n",
      "\t- Explicitly set the environment variable TOKENIZERS_PARALLELISM=(true | false)\n"
     ]
    },
    {
     "data": {
      "text/plain": "  0%|          | 0/5990 [00:00<?, ?it/s]",
      "application/vnd.jupyter.widget-view+json": {
       "version_major": 2,
       "version_minor": 0,
       "model_id": "f298e91075f44b579098377330551c54"
      },
      "application/json": {
       "n": 0,
       "total": 5990,
       "elapsed": 0.011305093765258789,
       "ncols": null,
       "nrows": null,
       "prefix": "",
       "ascii": false,
       "unit": "it",
       "unit_scale": false,
       "rate": null,
       "bar_format": null,
       "postfix": null,
       "unit_divisor": 1000,
       "initial": 0,
       "colour": null
      }
     },
     "metadata": {},
     "output_type": "display_data"
    }
   ],
   "source": [
    "from collections import defaultdict\n",
    "from tqdm.notebook import tqdm\n",
    "import os\n",
    "from src.utils_.utils import sentences_segment, tokeniser\n",
    "import sys\n",
    "\n",
    "os.chdir(\"/Users/joshua.sheppard/PycharmProjects/countaBot\")\n",
    "print(os.getcwd())\n",
    "\n",
    "from BERT_adu_classifier import predict\n",
    "\n",
    "sample = corpus\n",
    "adus = {}\n",
    "for i, j in corpus:\n",
    "    adus[j] = {\"argument\": [], \"label\": []}\n",
    "\n",
    "adu_lst = []\n",
    "\n",
    "# Detect Opinionated Sentences; Yield focused arguments\n",
    "with tqdm(total=len(sample), position=0, leave=True) as pbar:\n",
    "    for arg, idx in sample:\n",
    "        adu_lst = []\n",
    "        for sent in sentences_segment(arg):\n",
    "            # if predict(sent) == \"claim\":\n",
    "            #     adu_lst.append((sent, \"claim\"))\n",
    "\n",
    "            if predict(sent) == \"premise\":\n",
    "                adu_lst.append((sent, \"premise\"))-\n",
    "\n",
    "            else: continue\n",
    "\n",
    "        adus[idx] = {\"argument\": adu_lst, \"label\": \"premise\"}\n",
    "\n",
    "        pbar.update()"
   ],
   "metadata": {
    "collapsed": false
   }
  },
  {
   "cell_type": "code",
   "execution_count": 81,
   "outputs": [
    {
     "data": {
      "text/plain": "{'t3_2daybl': {'argument': [('Everyone deals with the lingering thoughts of suicide or has in the past.',\n    'premise'),\n   ('No one is immune to these thoughts.', 'premise'),\n   ('Many of you reading this right now deal with severe forms of depression bipolar schizophrenia addiction you name it.',\n    'premise'),\n   ('And guess what?', 'premise'),\n   ('YOURE ALIVE!', 'premise')],\n  'label': 'premise'},\n 't3_6udz7t': {'argument': [('Ill focus on the US for this because I have readily available data.I often hear the argument that we should legalize marijuana because it is less harmful than alcohol a substance already legal in the US.',\n    'premise'),\n   ('In people died in alcoholimpaired driving crashes accounting for nearly onethird of all traffic related deaths in the US This is before we even account for alcohol provoked fights domestic violence etc.Second alcohol does little good for our society.',\n    'premise'),\n   ('Heres a NY Times article from that ultimately shines a positive light on the era of Prohibition in the US.',\n    'premise'),\n   ('From this article I saw that Prohibition laws were not as far reaching as they should be.',\n    'premise')],\n  'label': 'premise'},\n 't3_25tb6s': {'argument': [('I recently stumbled upon this blog and it articulated a few sentiments that Ive had myself.',\n    'premise')],\n  'label': 'premise'},\n 't3_32jy1s': {'argument': [('I recently read this case on a legal website and decided to read the whole thing and it kindve irked me.',\n    'premise'),\n   ('The court may not have made the wrong decision per se but Maybe the petitioner messed up by even going to the court for permission at all.Basically a divorced woman with full custody of her children wanted to move to a different state for financial and educational reasons.. Respecting the divorce decree that granted her exhusband visitation rights with his kids but no custody she petitioned the court in IllinoisUSAwhere they lived to give her leave to relocate.',\n    'premise'),\n   ('She outlined a new visitation plan and told the court all the details of why she wanted to move and how it could be arranged to keep her kids in regular contact with their father and the Illinois side of their family.',\n    'premise'),\n   ('The petition was ultimately denied by the court and on an appeal because the father made claims that the move would obstruct his decreed visitation time and give the woman too much control over the nature of the visitation with the kids.',\n    'premise')],\n  'label': 'premise'},\n 't3_316gw1': {'argument': [('Here in Israel we are taught tanach Hebrew for Bible which is obviously the first testament and literature short stories songs poems novels etc.',\n    'premise'),\n   ('in highschool.', 'premise'),\n   ('They are part of a few required subjects along with English math history and Hebrew.',\n    'premise'),\n   ('Math is a subject used daily.', 'premise')],\n  'label': 'premise'},\n 't3_3ewva7': {'argument': [('Im posting this hoping that someone will point out what I might be missing or that I can begin to understand why Spirited Away for example sits so high in top movie list rankings.',\n    'premise'),\n   ('I am a westerner who has had exposure mainly to western film but also enjoys many other film types and cultures including Japanese and anime film.However I dont much care for Studio Ghibli stuff.',\n    'premise'),\n   ('Except for Hisaishis music which I think is beautiful.', 'premise')],\n  'label': 'premise'},\n 't3_536wg7': {'argument': [('Being homosexual is roughly defined as being attracted to the bodies of people of the same sex.',\n    'premise'),\n   ('If you are attracted to the bodies of males you are homosexual.',\n    'premise'),\n   ('Just because of what someone believes and feels more comfortable with gender does not change the way people are attracted and perceive someone physically.Transgender woman though having minds and thoughts that are unquestionably more female than male have mens bodies otherwise they would not be transgender.Therefore we can conclude that datingbeing attracted to transgender woman makes you homosexual for you would be attracted to a male body.Additionally a relationship between a male and a trans woman resembles a gay relationship more than a straight one.',\n    'premise'),\n   ('This is especially true for romantic relationships which straight men often expect to end in a relationship and more often than not children.This view is controversial but why else would it be here?',\n    'premise')],\n  'label': 'premise'},\n 't3_1hj6bs': {'argument': [('First off I have a dog and I absolutely love him.',\n    'premise'),\n   ('I could not imagine my life without him and I always recommend others to get a dog.',\n    'premise'),\n   ('You can say dogs are mans best friend and stuff but Im sure the other creatures we eat are capable of loving us similar to how a dog loves us.',\n    'premise')],\n  'label': 'premise'},\n 't3_60x08u': {'argument': [('If you bought a board game for and some of the pieces were missing youd be unhappy right?',\n    'premise'),\n   ('Youd take it right back to the store.', 'premise'),\n   ('When Skyrim came out for example there were full missions I wasnt able to play and one I couldnt even activate which prevented me from getting a house because I bought it on release.',\n    'premise'),\n   ('Even post patch these issues were only fixed if you started all over.',\n    'premise'),\n   ('Sadly this has become the norm if you buy a game on release you are helping to fix it.',\n    'premise')],\n  'label': 'premise'},\n 't3_2c0frm': {'argument': [('If you go to ratheism or even ratheismrebooted youre likely to find more posts denigrating religion than posts about atheism itself.',\n    'premise'),\n   ('Instead of discussing the reasons for atheism or what follows from it for example many of those on the subreddits focus on either laughing at theists or arguing against religious beliefs and for humanist ones.',\n    'premise'),\n   ('If the subreddits are to be used in these ways they shouldnt be named as if theyre about anything other than antitheism.',\n    'premise'),\n   ('It can be discussed but there is much more to that discussion than petty arguing against Abrahamic religion.',\n    'premise')],\n  'label': 'premise'},\n 't3_3epgkl': {'argument': [('Ive seen a few posts lately that refer to the lady who spilled coffee on herself and then sued McDonalds for medical expenses and I am completely bemused by the support for the lady.',\n    'premise'),\n   ('The jury found McDonalds to be responsible and awarded several million dollars compensation which was later reduced to about dollars and then later settled.Acording to wikipedia and another website here are the abridged facts of the incident as I understand them.',\n    'premise'),\n   ('coffee was ordered at a drive through window coffee was handed to Liebeck Liebecks son drove off they stopped so Liebeck could add sugar Liebeck spilled the entire cup over her lap hence severely injuring herMy argument that it is not McDonalds responsibility is that she had been safely handed the coffee.',\n    'premise'),\n   ('The transaction was complete and she had control.', 'premise')],\n  'label': 'premise'},\n 't3_1ni9rr': {'argument': [('Labeling oneself a News Organization should not be allowed if ANY of the following occurs.',\n    'premise'),\n   ('You knowingly air false information.. You refuse to correct an accidental airing of false information in the same segment and in the same manner that the original mistake was made Because were referring to serialized news the implementation is obvious for Newspaper and Television Wolf Blitzer states falsehood Wolf Blitzer states his correction but in the case of a oneoff or documentary or such at the end it could be stated verbally and shown in text if there were any falsehoods since those dont typically air live..',\n    'premise'),\n   ('In the case of Television More than of their early shows and more than of their primetime shows consist of nonnews.',\n    'premise'),\n   ('Earlytime and Primetime being defined here..', 'premise')],\n  'label': 'premise'},\n 't3_6im9dt': {'argument': [('The recent Georgia special election featured endless messaging from Republicans tying Nancy Pelosi to Jon Ossoff which was apparently quite effective.',\n    'premise'),\n   ('Pelosi has terrible national favorability ratings on high name recognition and is therefore an excellent foil onto which to levy attacks especially against Democrats in House races.Pelosi is years old and in one of the safest Democratic seats in the country.',\n    'premise'),\n   ('She can plausibly retire simply due to age and safe in the knowledge another Democrat will take her seat.',\n    'premise'),\n   ('Given her connections in the party and caucus she could even probably arrange a hand picked successor for both her seat and for the leadership of the House Democrats.A successor to her would not have the name recognitionpoor polling to be used as a bludgeon against House Democrats running in .',\n    'premise'),\n   ('The reaction of most Americans to seeing an attack linking a local candidate to Steny Hoyer would be who the heck is Steny Hoyer?',\n    'premise')],\n  'label': 'premise'},\n 't3_1xg9o8': {'argument': [('I live in Israel and at least in the area that I live WB I am not here to debate that though after many terror attacks at schools many teachers started carrying handguns this for example stopped the Mercaz HaRav massacre and could have stopped the Maalot massacreThis practice could help stop many school shootings around the world.Schools can pay for the purchase of the weapons and pay for the shooting courses and basic security measures safes.I do not see any reason not to allow teachers to defend students if the need arises.This can also help teachers defend themselves against violent studentsparaents.',\n    'premise')],\n  'label': 'premise'},\n 't3_2nrtzi': {'argument': [('I see it all the time and I dont believe that it is productive or useful to say to a poster.',\n    'premise'),\n   ('These people have not come to reddit to hear I urge you to seek therapy.',\n    'premise'),\n   ('There is a post going right now on rrelationships about a jealous MotherinLaw having conflicts with her sons fiance with comments on the post saying Convince her to seek therapy.',\n    'premise'),\n   ('They are on reddit asking for help!', 'premise')],\n  'label': 'premise'},\n 't3_5oufxq': {'argument': [], 'label': []},\n 't3_4ljqkg': {'argument': [], 'label': []},\n 't3_6a3wt8': {'argument': [], 'label': []},\n 't3_3nmflz': {'argument': [], 'label': []},\n 't3_6xg290': {'argument': [], 'label': []},\n 't3_6i4hip': {'argument': [], 'label': []},\n 't3_3rh99n': {'argument': [], 'label': []},\n 't3_6p38ql': {'argument': [], 'label': []},\n 't3_5d6sa7': {'argument': [], 'label': []},\n 't3_623i7i': {'argument': [], 'label': []},\n 't3_6jwn2i': {'argument': [], 'label': []},\n 't3_2a7f52': {'argument': [], 'label': []},\n 't3_5x12e3': {'argument': [], 'label': []},\n 't3_67r7uq': {'argument': [], 'label': []},\n 't3_1e4w3h': {'argument': [], 'label': []},\n 't3_5twa4h': {'argument': [], 'label': []},\n 't3_3trtpt': {'argument': [], 'label': []},\n 't3_5p2q6l': {'argument': [], 'label': []},\n 't3_6j379q': {'argument': [], 'label': []},\n 't3_6nmsv4': {'argument': [], 'label': []},\n 't3_2su8e2': {'argument': [], 'label': []},\n 't3_1h5k81': {'argument': [], 'label': []},\n 't3_5syr7v': {'argument': [], 'label': []},\n 't3_4x5skt': {'argument': [], 'label': []},\n 't3_3ch2dc': {'argument': [], 'label': []},\n 't3_6iartv': {'argument': [], 'label': []},\n 't3_71eo0p': {'argument': [], 'label': []},\n 't3_371jts': {'argument': [], 'label': []},\n 't3_6ghft1': {'argument': [], 'label': []},\n 't3_6qx5u7': {'argument': [], 'label': []},\n 't3_68vi42': {'argument': [], 'label': []},\n 't3_60rllv': {'argument': [], 'label': []},\n 't3_4ir5ss': {'argument': [], 'label': []},\n 't3_2lo786': {'argument': [], 'label': []},\n 't3_1ejwsi': {'argument': [], 'label': []},\n 't3_3pj95y': {'argument': [], 'label': []},\n 't3_1lfrfd': {'argument': [], 'label': []},\n 't3_5g17kg': {'argument': [], 'label': []},\n 't3_49r31z': {'argument': [], 'label': []},\n 't3_30059g': {'argument': [], 'label': []},\n 't3_6iawjb': {'argument': [], 'label': []},\n 't3_3c6hye': {'argument': [], 'label': []},\n 't3_6bzjgn': {'argument': [], 'label': []},\n 't3_2dg4c1': {'argument': [], 'label': []},\n 't3_2b3qli': {'argument': [], 'label': []},\n 't3_67vne6': {'argument': [], 'label': []},\n 't3_20lgw6': {'argument': [], 'label': []},\n 't3_28l9bo': {'argument': [], 'label': []},\n 't3_33ky08': {'argument': [], 'label': []},\n 't3_3lkz6a': {'argument': [], 'label': []},\n 't3_36olkz': {'argument': [], 'label': []},\n 't3_507bck': {'argument': [], 'label': []},\n 't3_58qw3e': {'argument': [], 'label': []},\n 't3_44bbsc': {'argument': [], 'label': []},\n 't3_3hkh5j': {'argument': [], 'label': []},\n 't3_1a6wgu': {'argument': [], 'label': []},\n 't3_35ko4r': {'argument': [], 'label': []},\n 't3_5bfi4d': {'argument': [], 'label': []},\n 't3_21qr73': {'argument': [], 'label': []},\n 't3_5o0onq': {'argument': [], 'label': []},\n 't3_1o5c1a': {'argument': [], 'label': []},\n 't3_5rgedc': {'argument': [], 'label': []},\n 't3_3fme5v': {'argument': [], 'label': []},\n 't3_6j5ta1': {'argument': [], 'label': []},\n 't3_5651b5': {'argument': [], 'label': []},\n 't3_24se6g': {'argument': [], 'label': []},\n 't3_4q9qng': {'argument': [], 'label': []},\n 't3_6rkz4g': {'argument': [], 'label': []},\n 't3_1xgop4': {'argument': [], 'label': []},\n 't3_32akhy': {'argument': [], 'label': []},\n 't3_3wb2n1': {'argument': [], 'label': []},\n 't3_2d6apa': {'argument': [], 'label': []},\n 't3_6bpf6v': {'argument': [], 'label': []},\n 't3_498dmi': {'argument': [], 'label': []},\n 't3_1kabrs': {'argument': [], 'label': []},\n 't3_4tab6c': {'argument': [], 'label': []},\n 't3_6xl7mm': {'argument': [], 'label': []},\n 't3_2rkzen': {'argument': [], 'label': []},\n 't3_6eevk9': {'argument': [], 'label': []},\n 't3_66erzq': {'argument': [], 'label': []},\n 't3_3mhbgl': {'argument': [], 'label': []},\n 't3_60dq07': {'argument': [], 'label': []},\n 't3_1wnvdn': {'argument': [], 'label': []},\n 't3_2n8psp': {'argument': [], 'label': []},\n 't3_2h4eyz': {'argument': [], 'label': []},\n 't3_1bk05x': {'argument': [], 'label': []},\n 't3_4bix0b': {'argument': [], 'label': []},\n 't3_23ou3x': {'argument': [], 'label': []},\n 't3_60i6r0': {'argument': [], 'label': []},\n 't3_70zqbq': {'argument': [], 'label': []},\n 't3_2g93v7': {'argument': [], 'label': []},\n 't3_55do4j': {'argument': [], 'label': []},\n 't3_3bjc78': {'argument': [], 'label': []},\n 't3_3xmnxq': {'argument': [], 'label': []},\n 't3_4oj04q': {'argument': [], 'label': []},\n 't3_35tpcu': {'argument': [], 'label': []},\n 't3_6tkjmm': {'argument': [], 'label': []},\n 't3_4geqrp': {'argument': [], 'label': []},\n 't3_728ltd': {'argument': [], 'label': []},\n 't3_1jaqjx': {'argument': [], 'label': []},\n 't3_2312o1': {'argument': [], 'label': []},\n 't3_4grvqa': {'argument': [], 'label': []},\n 't3_2q9fkx': {'argument': [], 'label': []},\n 't3_4yyu5v': {'argument': [], 'label': []},\n 't3_1fthzm': {'argument': [], 'label': []},\n 't3_4fdee1': {'argument': [], 'label': []},\n 't3_2wc5yt': {'argument': [], 'label': []},\n 't3_558fck': {'argument': [], 'label': []},\n 't3_4edll5': {'argument': [], 'label': []},\n 't3_4ba78r': {'argument': [], 'label': []},\n 't3_1h552f': {'argument': [], 'label': []},\n 't3_3mx5p0': {'argument': [], 'label': []},\n 't3_1x6lp7': {'argument': [], 'label': []},\n 't3_4tf91m': {'argument': [], 'label': []},\n 't3_5xvih5': {'argument': [], 'label': []},\n 't3_53dvav': {'argument': [], 'label': []},\n 't3_6htrd3': {'argument': [], 'label': []},\n 't3_2dnntx': {'argument': [], 'label': []},\n 't3_60z84n': {'argument': [], 'label': []},\n 't3_72otpo': {'argument': [], 'label': []},\n 't3_1r9tho': {'argument': [], 'label': []},\n 't3_6x6fn5': {'argument': [], 'label': []},\n 't3_6ew42y': {'argument': [], 'label': []},\n 't3_1tch8i': {'argument': [], 'label': []},\n 't3_6n3a67': {'argument': [], 'label': []},\n 't3_5gi02r': {'argument': [], 'label': []},\n 't3_2dj8x1': {'argument': [], 'label': []},\n 't3_6wvgb8': {'argument': [], 'label': []},\n 't3_3roewy': {'argument': [], 'label': []},\n 't3_6fz8d7': {'argument': [], 'label': []},\n 't3_5nxjyw': {'argument': [], 'label': []},\n 't3_4uif77': {'argument': [], 'label': []},\n 't3_5mcsy0': {'argument': [], 'label': []},\n 't3_1fpnku': {'argument': [], 'label': []},\n 't3_60sise': {'argument': [], 'label': []},\n 't3_1it8ez': {'argument': [], 'label': []},\n 't3_29pjwk': {'argument': [], 'label': []},\n 't3_5hyxwk': {'argument': [], 'label': []},\n 't3_1f3esr': {'argument': [], 'label': []},\n 't3_7049rc': {'argument': [], 'label': []},\n 't3_5g1rhv': {'argument': [], 'label': []},\n 't3_4b9hbz': {'argument': [], 'label': []},\n 't3_5uf9o4': {'argument': [], 'label': []},\n 't3_6lkxs5': {'argument': [], 'label': []},\n 't3_3auamg': {'argument': [], 'label': []},\n 't3_2247yl': {'argument': [], 'label': []},\n 't3_6txu15': {'argument': [], 'label': []},\n 't3_2a6vk3': {'argument': [], 'label': []},\n 't3_6xmlny': {'argument': [], 'label': []},\n 't3_2lzrmg': {'argument': [], 'label': []},\n 't3_3skr9m': {'argument': [], 'label': []},\n 't3_3s4eb6': {'argument': [], 'label': []},\n 't3_1hq0v5': {'argument': [], 'label': []},\n 't3_4nnr3x': {'argument': [], 'label': []},\n 't3_216c3c': {'argument': [], 'label': []},\n 't3_5cwht5': {'argument': [], 'label': []},\n 't3_4z62y4': {'argument': [], 'label': []},\n 't3_5mtn7t': {'argument': [], 'label': []},\n 't3_3afh6g': {'argument': [], 'label': []},\n 't3_6m7xtl': {'argument': [], 'label': []},\n 't3_6l4sxn': {'argument': [], 'label': []},\n 't3_51lx48': {'argument': [], 'label': []},\n 't3_5cvacv': {'argument': [], 'label': []},\n 't3_3461lk': {'argument': [], 'label': []},\n 't3_1tt5tb': {'argument': [], 'label': []},\n 't3_1u5vjh': {'argument': [], 'label': []},\n 't3_5byxvx': {'argument': [], 'label': []},\n 't3_6d3tb8': {'argument': [], 'label': []},\n 't3_5ftevt': {'argument': [], 'label': []},\n 't3_5uvkvl': {'argument': [], 'label': []},\n 't3_2jd1e2': {'argument': [], 'label': []},\n 't3_5ti7su': {'argument': [], 'label': []},\n 't3_1d93tu': {'argument': [], 'label': []},\n 't3_61zvnh': {'argument': [], 'label': []},\n 't3_3e2qbm': {'argument': [], 'label': []},\n 't3_6e0kbr': {'argument': [], 'label': []},\n 't3_1wsalo': {'argument': [], 'label': []},\n 't3_5snmbt': {'argument': [], 'label': []},\n 't3_341qpv': {'argument': [], 'label': []},\n 't3_63m7ia': {'argument': [], 'label': []},\n 't3_1sgl5a': {'argument': [], 'label': []},\n 't3_5h0y2v': {'argument': [], 'label': []},\n 't3_2begsn': {'argument': [], 'label': []},\n 't3_5ix5ke': {'argument': [], 'label': []},\n 't3_5u9j6o': {'argument': [], 'label': []},\n 't3_5rh8tz': {'argument': [], 'label': []},\n 't3_2uk6fx': {'argument': [], 'label': []},\n 't3_3t5wok': {'argument': [], 'label': []},\n 't3_1qwf5j': {'argument': [], 'label': []},\n 't3_2ylbub': {'argument': [], 'label': []},\n 't3_51fgno': {'argument': [], 'label': []},\n 't3_6m73wo': {'argument': [], 'label': []},\n 't3_219td6': {'argument': [], 'label': []},\n 't3_3f6xcn': {'argument': [], 'label': []},\n 't3_3anzqm': {'argument': [], 'label': []},\n 't3_4hm1co': {'argument': [], 'label': []},\n 't3_5jyewb': {'argument': [], 'label': []},\n 't3_37h2pb': {'argument': [], 'label': []},\n 't3_41n1mq': {'argument': [], 'label': []},\n 't3_56jjax': {'argument': [], 'label': []},\n 't3_73fe5i': {'argument': [], 'label': []},\n 't3_31qw5t': {'argument': [], 'label': []},\n 't3_72e8hs': {'argument': [], 'label': []},\n 't3_6ywql2': {'argument': [], 'label': []},\n 't3_2pa8qe': {'argument': [], 'label': []},\n 't3_6pkcbu': {'argument': [], 'label': []},\n 't3_39y3l4': {'argument': [], 'label': []},\n 't3_6opx9v': {'argument': [], 'label': []},\n 't3_2z0k1s': {'argument': [], 'label': []},\n 't3_2vc9nj': {'argument': [], 'label': []},\n 't3_4hkr7b': {'argument': [], 'label': []},\n 't3_5kzis0': {'argument': [], 'label': []},\n 't3_1o5321': {'argument': [], 'label': []},\n 't3_248s83': {'argument': [], 'label': []},\n 't3_3qntv4': {'argument': [], 'label': []},\n 't3_3apczi': {'argument': [], 'label': []},\n 't3_52iku5': {'argument': [], 'label': []},\n 't3_2f48co': {'argument': [], 'label': []},\n 't3_23qfwd': {'argument': [], 'label': []},\n 't3_28sivx': {'argument': [], 'label': []},\n 't3_5drih2': {'argument': [], 'label': []},\n 't3_6nlile': {'argument': [], 'label': []},\n 't3_35s5bb': {'argument': [], 'label': []},\n 't3_4z4ejv': {'argument': [], 'label': []},\n 't3_52ks64': {'argument': [], 'label': []},\n 't3_4if1he': {'argument': [], 'label': []},\n 't3_6mnotm': {'argument': [], 'label': []},\n 't3_3exng6': {'argument': [], 'label': []},\n 't3_4bw2jy': {'argument': [], 'label': []},\n 't3_1l48mt': {'argument': [], 'label': []},\n 't3_1fzbuj': {'argument': [], 'label': []},\n 't3_5wvsn8': {'argument': [], 'label': []},\n 't3_24509o': {'argument': [], 'label': []},\n 't3_1gzgyi': {'argument': [], 'label': []},\n 't3_3f6ga9': {'argument': [], 'label': []},\n 't3_2dqwmd': {'argument': [], 'label': []},\n 't3_38839s': {'argument': [], 'label': []},\n 't3_72wh6f': {'argument': [], 'label': []},\n 't3_5d96p7': {'argument': [], 'label': []},\n 't3_6xwhc9': {'argument': [], 'label': []},\n 't3_3rdnyj': {'argument': [], 'label': []},\n 't3_6bymu4': {'argument': [], 'label': []},\n 't3_4o1zhj': {'argument': [], 'label': []},\n 't3_1pwwvj': {'argument': [], 'label': []},\n 't3_2360n4': {'argument': [], 'label': []},\n 't3_30ikr2': {'argument': [], 'label': []},\n 't3_1xpli3': {'argument': [], 'label': []},\n 't3_2b3pi0': {'argument': [], 'label': []},\n 't3_2mv3n4': {'argument': [], 'label': []},\n 't3_3q53e4': {'argument': [], 'label': []},\n 't3_54a33k': {'argument': [], 'label': []},\n 't3_68307e': {'argument': [], 'label': []},\n 't3_3z9c0i': {'argument': [], 'label': []},\n 't3_5nzsld': {'argument': [], 'label': []},\n 't3_6du4c7': {'argument': [], 'label': []},\n 't3_5ik5kv': {'argument': [], 'label': []},\n 't3_5d8vfq': {'argument': [], 'label': []},\n 't3_2bev6f': {'argument': [], 'label': []},\n 't3_4qs8ms': {'argument': [], 'label': []},\n 't3_5owx9k': {'argument': [], 'label': []},\n 't3_225qcm': {'argument': [], 'label': []},\n 't3_588di3': {'argument': [], 'label': []},\n 't3_1ki1zh': {'argument': [], 'label': []},\n 't3_4j03by': {'argument': [], 'label': []},\n 't3_2ljn6y': {'argument': [], 'label': []},\n 't3_6fqyiz': {'argument': [], 'label': []},\n 't3_3h6p8v': {'argument': [], 'label': []},\n 't3_25xo3j': {'argument': [], 'label': []},\n 't3_4x2g84': {'argument': [], 'label': []},\n 't3_43fw85': {'argument': [], 'label': []},\n 't3_1u4fqn': {'argument': [], 'label': []},\n 't3_2f78ys': {'argument': [], 'label': []},\n 't3_2iu5ia': {'argument': [], 'label': []},\n 't3_5d00bf': {'argument': [], 'label': []},\n 't3_1u8iv1': {'argument': [], 'label': []},\n 't3_2faq4i': {'argument': [], 'label': []},\n 't3_6dc096': {'argument': [], 'label': []},\n 't3_5jj699': {'argument': [], 'label': []},\n 't3_2pxv61': {'argument': [], 'label': []},\n 't3_2w0xan': {'argument': [], 'label': []},\n 't3_2j4t8g': {'argument': [], 'label': []},\n 't3_3lus2z': {'argument': [], 'label': []},\n 't3_51x6xj': {'argument': [], 'label': []},\n 't3_6y8fi0': {'argument': [], 'label': []},\n 't3_1sji3o': {'argument': [], 'label': []},\n 't3_6eh4di': {'argument': [], 'label': []},\n 't3_5gty52': {'argument': [], 'label': []},\n 't3_1jukj2': {'argument': [], 'label': []},\n 't3_61v21v': {'argument': [], 'label': []},\n 't3_4fs1ce': {'argument': [], 'label': []},\n 't3_549bru': {'argument': [], 'label': []},\n 't3_6kz0rr': {'argument': [], 'label': []},\n 't3_4yda5x': {'argument': [], 'label': []},\n 't3_5ohwa6': {'argument': [], 'label': []},\n 't3_2yos3t': {'argument': [], 'label': []},\n 't3_65x4gx': {'argument': [], 'label': []},\n 't3_5zq686': {'argument': [], 'label': []},\n 't3_1wh80m': {'argument': [], 'label': []},\n 't3_6qlm5h': {'argument': [], 'label': []},\n 't3_4cgavf': {'argument': [], 'label': []},\n 't3_1c3zls': {'argument': [], 'label': []},\n 't3_6mf8mh': {'argument': [], 'label': []},\n 't3_63e8m1': {'argument': [], 'label': []},\n 't3_23jmyp': {'argument': [], 'label': []},\n 't3_54x418': {'argument': [], 'label': []},\n 't3_5yftc9': {'argument': [], 'label': []},\n 't3_65lruj': {'argument': [], 'label': []},\n 't3_27s2hg': {'argument': [], 'label': []},\n 't3_707224': {'argument': [], 'label': []},\n 't3_1j8dv1': {'argument': [], 'label': []},\n 't3_3fyt6x': {'argument': [], 'label': []},\n 't3_5muc5x': {'argument': [], 'label': []},\n 't3_4f4pif': {'argument': [], 'label': []},\n 't3_5411jl': {'argument': [], 'label': []},\n 't3_6jecb2': {'argument': [], 'label': []},\n 't3_26yktz': {'argument': [], 'label': []},\n 't3_3anfy4': {'argument': [], 'label': []},\n 't3_6r6qte': {'argument': [], 'label': []},\n 't3_34ew6y': {'argument': [], 'label': []},\n 't3_6msgu1': {'argument': [], 'label': []},\n 't3_3nhsu0': {'argument': [], 'label': []},\n 't3_6dnbni': {'argument': [], 'label': []},\n 't3_3plhq5': {'argument': [], 'label': []},\n 't3_4cb03l': {'argument': [], 'label': []},\n 't3_5rpz2d': {'argument': [], 'label': []},\n 't3_3d6eeo': {'argument': [], 'label': []},\n 't3_4qg6x0': {'argument': [], 'label': []},\n 't3_3h412u': {'argument': [], 'label': []},\n 't3_3l3hjg': {'argument': [], 'label': []},\n 't3_1y7dly': {'argument': [], 'label': []},\n 't3_4bcpxi': {'argument': [], 'label': []},\n 't3_49n8ku': {'argument': [], 'label': []},\n 't3_32ml8o': {'argument': [], 'label': []},\n 't3_6fxxqp': {'argument': [], 'label': []},\n 't3_4ophvt': {'argument': [], 'label': []},\n 't3_1y6r6n': {'argument': [], 'label': []},\n 't3_26rjpu': {'argument': [], 'label': []},\n 't3_42oaye': {'argument': [], 'label': []},\n 't3_216l8g': {'argument': [], 'label': []},\n 't3_3vxs49': {'argument': [], 'label': []},\n 't3_1xoq53': {'argument': [], 'label': []},\n 't3_2zow2m': {'argument': [], 'label': []},\n 't3_33umft': {'argument': [], 'label': []},\n 't3_1rddqv': {'argument': [], 'label': []},\n 't3_205wgp': {'argument': [], 'label': []},\n 't3_6ivsz9': {'argument': [], 'label': []},\n 't3_31oejp': {'argument': [], 'label': []},\n 't3_5skqeb': {'argument': [], 'label': []},\n 't3_25atfn': {'argument': [], 'label': []},\n 't3_6k281w': {'argument': [], 'label': []},\n 't3_2gzjw8': {'argument': [], 'label': []},\n 't3_67mv3i': {'argument': [], 'label': []},\n 't3_23uwl1': {'argument': [], 'label': []},\n 't3_2v3dbt': {'argument': [], 'label': []},\n 't3_3fql48': {'argument': [], 'label': []},\n 't3_6leh4s': {'argument': [], 'label': []},\n 't3_2d2as3': {'argument': [], 'label': []},\n 't3_5uyc20': {'argument': [], 'label': []},\n 't3_57tl4k': {'argument': [], 'label': []},\n 't3_3gt6bc': {'argument': [], 'label': []},\n 't3_37ug2e': {'argument': [], 'label': []},\n 't3_5g94ep': {'argument': [], 'label': []},\n 't3_2r17g1': {'argument': [], 'label': []},\n 't3_4oohtv': {'argument': [], 'label': []},\n 't3_5vpyic': {'argument': [], 'label': []},\n 't3_3d4z8m': {'argument': [], 'label': []},\n 't3_2zdsjs': {'argument': [], 'label': []},\n 't3_36l3do': {'argument': [], 'label': []},\n 't3_2c6m3v': {'argument': [], 'label': []},\n 't3_4n5nmv': {'argument': [], 'label': []},\n 't3_2llfy2': {'argument': [], 'label': []},\n 't3_3gvhnz': {'argument': [], 'label': []},\n 't3_24mzo8': {'argument': [], 'label': []},\n 't3_206k70': {'argument': [], 'label': []},\n 't3_3torqg': {'argument': [], 'label': []},\n 't3_29sbal': {'argument': [], 'label': []},\n 't3_3imwj8': {'argument': [], 'label': []},\n 't3_3kbjtc': {'argument': [], 'label': []},\n 't3_5ly5zp': {'argument': [], 'label': []},\n 't3_5cyvm1': {'argument': [], 'label': []},\n 't3_4udjom': {'argument': [], 'label': []},\n 't3_5ebgk8': {'argument': [], 'label': []},\n 't3_5pyzzu': {'argument': [], 'label': []},\n 't3_2irrk7': {'argument': [], 'label': []},\n 't3_5bcuxw': {'argument': [], 'label': []},\n 't3_3sn9k6': {'argument': [], 'label': []},\n 't3_48h0gv': {'argument': [], 'label': []},\n 't3_3f38fh': {'argument': [], 'label': []},\n 't3_57x9pz': {'argument': [], 'label': []},\n 't3_56t094': {'argument': [], 'label': []},\n 't3_6nfp57': {'argument': [], 'label': []},\n 't3_1vbtut': {'argument': [], 'label': []},\n 't3_4vd4h9': {'argument': [], 'label': []},\n 't3_5fsf29': {'argument': [], 'label': []},\n 't3_5e5jfv': {'argument': [], 'label': []},\n 't3_5jk7rb': {'argument': [], 'label': []},\n 't3_6n10ra': {'argument': [], 'label': []},\n 't3_2mm2dl': {'argument': [], 'label': []},\n 't3_328mdv': {'argument': [], 'label': []},\n 't3_6abq6c': {'argument': [], 'label': []},\n 't3_244kp1': {'argument': [], 'label': []},\n 't3_238afg': {'argument': [], 'label': []},\n 't3_1lbwhm': {'argument': [], 'label': []},\n 't3_1y5kpj': {'argument': [], 'label': []},\n 't3_6nexua': {'argument': [], 'label': []},\n 't3_18n2uc': {'argument': [], 'label': []},\n 't3_5fms6c': {'argument': [], 'label': []},\n 't3_37h70b': {'argument': [], 'label': []},\n 't3_6lql3w': {'argument': [], 'label': []},\n 't3_2qgpie': {'argument': [], 'label': []},\n 't3_3lsuv5': {'argument': [], 'label': []},\n 't3_6c3vwn': {'argument': [], 'label': []},\n 't3_5xff7i': {'argument': [], 'label': []},\n 't3_2q8fd1': {'argument': [], 'label': []},\n 't3_6wi4ka': {'argument': [], 'label': []},\n 't3_1l4di1': {'argument': [], 'label': []},\n 't3_1idtun': {'argument': [], 'label': []},\n 't3_36nz4d': {'argument': [], 'label': []},\n 't3_4i53ui': {'argument': [], 'label': []},\n 't3_31n763': {'argument': [], 'label': []},\n 't3_1ncq4g': {'argument': [], 'label': []},\n 't3_6wd8o6': {'argument': [], 'label': []},\n 't3_6ltnqs': {'argument': [], 'label': []},\n 't3_64klp6': {'argument': [], 'label': []},\n 't3_3e818h': {'argument': [], 'label': []},\n 't3_64tnan': {'argument': [], 'label': []},\n 't3_5brf3u': {'argument': [], 'label': []},\n 't3_34uhcs': {'argument': [], 'label': []},\n 't3_38wrju': {'argument': [], 'label': []},\n 't3_3w5bn0': {'argument': [], 'label': []},\n 't3_6vs2qo': {'argument': [], 'label': []},\n 't3_383qcb': {'argument': [], 'label': []},\n 't3_4l7860': {'argument': [], 'label': []},\n 't3_6p8cao': {'argument': [], 'label': []},\n 't3_5kwhu4': {'argument': [], 'label': []},\n 't3_22rciz': {'argument': [], 'label': []},\n 't3_3jn9lh': {'argument': [], 'label': []},\n 't3_3973q1': {'argument': [], 'label': []},\n 't3_58n2fd': {'argument': [], 'label': []},\n 't3_1gbzcr': {'argument': [], 'label': []},\n 't3_6godhm': {'argument': [], 'label': []},\n 't3_5c0iru': {'argument': [], 'label': []},\n 't3_3eso20': {'argument': [], 'label': []},\n 't3_1zradb': {'argument': [], 'label': []},\n 't3_6ddkmx': {'argument': [], 'label': []},\n 't3_40nadf': {'argument': [], 'label': []},\n 't3_6d8okw': {'argument': [], 'label': []},\n 't3_3w26m8': {'argument': [], 'label': []},\n 't3_403mtr': {'argument': [], 'label': []},\n 't3_3pe78y': {'argument': [], 'label': []},\n 't3_4ktcwk': {'argument': [], 'label': []},\n 't3_3pe7nq': {'argument': [], 'label': []},\n 't3_5pcg2f': {'argument': [], 'label': []},\n 't3_4zp59j': {'argument': [], 'label': []},\n 't3_5yw3u6': {'argument': [], 'label': []},\n 't3_2uyc2l': {'argument': [], 'label': []},\n 't3_5k5fpn': {'argument': [], 'label': []},\n 't3_2ls0mt': {'argument': [], 'label': []},\n 't3_23d19g': {'argument': [], 'label': []},\n 't3_2npkc0': {'argument': [], 'label': []},\n 't3_6fmb58': {'argument': [], 'label': []},\n 't3_1m5ckr': {'argument': [], 'label': []},\n 't3_5f7dqq': {'argument': [], 'label': []},\n 't3_5h1yvp': {'argument': [], 'label': []},\n 't3_5k3vgk': {'argument': [], 'label': []},\n 't3_6u4jwb': {'argument': [], 'label': []},\n 't3_20v70n': {'argument': [], 'label': []},\n 't3_1ksttp': {'argument': [], 'label': []},\n 't3_2xd5sv': {'argument': [], 'label': []},\n 't3_6okyl3': {'argument': [], 'label': []},\n 't3_6e86d1': {'argument': [], 'label': []},\n 't3_6j8e5y': {'argument': [], 'label': []},\n 't3_6p91il': {'argument': [], 'label': []},\n 't3_3k6wr6': {'argument': [], 'label': []},\n 't3_6bxaf7': {'argument': [], 'label': []},\n 't3_4ydr56': {'argument': [], 'label': []},\n 't3_29uigy': {'argument': [], 'label': []},\n 't3_3aztz8': {'argument': [], 'label': []},\n 't3_4tv1js': {'argument': [], 'label': []},\n 't3_2dxffr': {'argument': [], 'label': []},\n 't3_30dn4s': {'argument': [], 'label': []},\n 't3_1fvn1u': {'argument': [], 'label': []},\n 't3_3egbyk': {'argument': [], 'label': []},\n 't3_6upkf1': {'argument': [], 'label': []},\n 't3_2cwals': {'argument': [], 'label': []},\n 't3_292375': {'argument': [], 'label': []},\n 't3_6s38eg': {'argument': [], 'label': []},\n 't3_1nkqn7': {'argument': [], 'label': []},\n 't3_67tnwu': {'argument': [], 'label': []},\n 't3_1vasv1': {'argument': [], 'label': []},\n 't3_6uicd6': {'argument': [], 'label': []},\n 't3_2ovisr': {'argument': [], 'label': []},\n 't3_6ohnle': {'argument': [], 'label': []},\n 't3_5ytyac': {'argument': [], 'label': []},\n 't3_60awnh': {'argument': [], 'label': []},\n 't3_1ihnzp': {'argument': [], 'label': []},\n 't3_3kzi8e': {'argument': [], 'label': []},\n 't3_5511ji': {'argument': [], 'label': []},\n 't3_66ghvt': {'argument': [], 'label': []},\n 't3_22lgvs': {'argument': [], 'label': []},\n 't3_5siv8r': {'argument': [], 'label': []},\n 't3_5aheak': {'argument': [], 'label': []},\n 't3_4vhsdr': {'argument': [], 'label': []},\n 't3_6hmcdm': {'argument': [], 'label': []},\n 't3_6sgr1a': {'argument': [], 'label': []},\n 't3_477r15': {'argument': [], 'label': []},\n 't3_3maj6b': {'argument': [], 'label': []},\n 't3_4v1li0': {'argument': [], 'label': []},\n 't3_6qp9ki': {'argument': [], 'label': []},\n 't3_6z9dye': {'argument': [], 'label': []},\n 't3_2nccrb': {'argument': [], 'label': []},\n 't3_1w2q7h': {'argument': [], 'label': []},\n 't3_32tuwr': {'argument': [], 'label': []},\n 't3_3n8bjt': {'argument': [], 'label': []},\n 't3_1qncnw': {'argument': [], 'label': []},\n 't3_1cgo5k': {'argument': [], 'label': []},\n 't3_225l0l': {'argument': [], 'label': []},\n 't3_5kjrng': {'argument': [], 'label': []},\n 't3_5jh4kk': {'argument': [], 'label': []},\n 't3_21ea18': {'argument': [], 'label': []},\n 't3_45zsgz': {'argument': [], 'label': []},\n 't3_19d5j2': {'argument': [], 'label': []},\n 't3_2eqf4w': {'argument': [], 'label': []},\n 't3_1dxzgg': {'argument': [], 'label': []},\n 't3_6y4k97': {'argument': [], 'label': []},\n 't3_5ufu98': {'argument': [], 'label': []},\n 't3_37131i': {'argument': [], 'label': []},\n 't3_3gl352': {'argument': [], 'label': []},\n 't3_2gdd35': {'argument': [], 'label': []},\n 't3_5xnart': {'argument': [], 'label': []},\n 't3_5058ia': {'argument': [], 'label': []},\n 't3_3jrz7c': {'argument': [], 'label': []},\n 't3_2kboqy': {'argument': [], 'label': []},\n 't3_6hdjjc': {'argument': [], 'label': []},\n 't3_5lsfp2': {'argument': [], 'label': []},\n 't3_5fmsn8': {'argument': [], 'label': []},\n 't3_28mqyp': {'argument': [], 'label': []},\n 't3_2f0a4a': {'argument': [], 'label': []},\n 't3_2dn6tf': {'argument': [], 'label': []},\n 't3_4zem7v': {'argument': [], 'label': []},\n 't3_3fc3o6': {'argument': [], 'label': []},\n 't3_2izjkk': {'argument': [], 'label': []},\n 't3_2la3sj': {'argument': [], 'label': []},\n 't3_57ak8e': {'argument': [], 'label': []},\n 't3_25sopx': {'argument': [], 'label': []},\n 't3_35w8v2': {'argument': [], 'label': []},\n 't3_5t4gdm': {'argument': [], 'label': []},\n 't3_2s6mb4': {'argument': [], 'label': []},\n 't3_3bnflq': {'argument': [], 'label': []},\n 't3_6e6whx': {'argument': [], 'label': []},\n 't3_46glv1': {'argument': [], 'label': []},\n 't3_34dp1h': {'argument': [], 'label': []},\n 't3_2uogem': {'argument': [], 'label': []},\n 't3_5y58tv': {'argument': [], 'label': []},\n 't3_1zo5ym': {'argument': [], 'label': []},\n 't3_5v2sof': {'argument': [], 'label': []},\n 't3_4ob0qz': {'argument': [], 'label': []},\n 't3_4nvpyc': {'argument': [], 'label': []},\n 't3_1m0cg9': {'argument': [], 'label': []},\n 't3_4mjgqi': {'argument': [], 'label': []},\n 't3_3bxmo5': {'argument': [], 'label': []},\n 't3_3pzgmh': {'argument': [], 'label': []},\n 't3_1is4qd': {'argument': [], 'label': []},\n 't3_3jvun8': {'argument': [], 'label': []},\n 't3_3kf2uk': {'argument': [], 'label': []},\n 't3_2lwzlt': {'argument': [], 'label': []},\n 't3_3s5gwk': {'argument': [], 'label': []},\n 't3_5wczoh': {'argument': [], 'label': []},\n 't3_4tjnul': {'argument': [], 'label': []},\n 't3_3jn3dy': {'argument': [], 'label': []},\n 't3_2wcx6l': {'argument': [], 'label': []},\n 't3_18fnmc': {'argument': [], 'label': []},\n 't3_3smsxv': {'argument': [], 'label': []},\n 't3_3c5hdw': {'argument': [], 'label': []},\n 't3_2ehl9h': {'argument': [], 'label': []},\n 't3_2kqfel': {'argument': [], 'label': []},\n 't3_4bzr4u': {'argument': [], 'label': []},\n 't3_5xvlux': {'argument': [], 'label': []},\n 't3_19x40l': {'argument': [], 'label': []},\n 't3_5sm9g5': {'argument': [], 'label': []},\n 't3_3ve9z0': {'argument': [], 'label': []},\n 't3_3vgbel': {'argument': [], 'label': []},\n 't3_5ejvzk': {'argument': [], 'label': []},\n 't3_6c4p0l': {'argument': [], 'label': []},\n 't3_1jwep9': {'argument': [], 'label': []},\n 't3_48s5le': {'argument': [], 'label': []},\n 't3_2k2szz': {'argument': [], 'label': []},\n 't3_2yktwb': {'argument': [], 'label': []},\n 't3_6tnfcm': {'argument': [], 'label': []},\n 't3_5scb6w': {'argument': [], 'label': []},\n 't3_2zuuwb': {'argument': [], 'label': []},\n 't3_22z33y': {'argument': [], 'label': []},\n 't3_1c5s2j': {'argument': [], 'label': []},\n 't3_21l4k2': {'argument': [], 'label': []},\n 't3_4ta7gp': {'argument': [], 'label': []},\n 't3_52mxzh': {'argument': [], 'label': []},\n 't3_1s7e97': {'argument': [], 'label': []},\n 't3_1mor68': {'argument': [], 'label': []},\n 't3_30rc1i': {'argument': [], 'label': []},\n 't3_1se9qm': {'argument': [], 'label': []},\n 't3_47d7hc': {'argument': [], 'label': []},\n 't3_3c7vzs': {'argument': [], 'label': []},\n 't3_6h24wz': {'argument': [], 'label': []},\n 't3_1ga9it': {'argument': [], 'label': []},\n 't3_68nq2c': {'argument': [], 'label': []},\n 't3_6naz2n': {'argument': [], 'label': []},\n 't3_4k83qf': {'argument': [], 'label': []},\n 't3_3f0uzz': {'argument': [], 'label': []},\n 't3_36gs5s': {'argument': [], 'label': []},\n 't3_2rnfn0': {'argument': [], 'label': []},\n 't3_1q5tk4': {'argument': [], 'label': []},\n 't3_3qq33x': {'argument': [], 'label': []},\n 't3_1edx91': {'argument': [], 'label': []},\n 't3_2dzqgj': {'argument': [], 'label': []},\n 't3_1ks6p4': {'argument': [], 'label': []},\n 't3_1iuasi': {'argument': [], 'label': []},\n 't3_3ddw70': {'argument': [], 'label': []},\n 't3_4mxhav': {'argument': [], 'label': []},\n 't3_3cxq2m': {'argument': [], 'label': []},\n 't3_2j196u': {'argument': [], 'label': []},\n 't3_5n8p6q': {'argument': [], 'label': []},\n 't3_1n4xai': {'argument': [], 'label': []},\n 't3_6xbila': {'argument': [], 'label': []},\n 't3_6x16oi': {'argument': [], 'label': []},\n 't3_4vh7pp': {'argument': [], 'label': []},\n 't3_369z6x': {'argument': [], 'label': []},\n 't3_3yekcz': {'argument': [], 'label': []},\n 't3_36o9ws': {'argument': [], 'label': []},\n 't3_5yh81h': {'argument': [], 'label': []},\n 't3_4ptsmh': {'argument': [], 'label': []},\n 't3_44w1wn': {'argument': [], 'label': []},\n 't3_1szywc': {'argument': [], 'label': []},\n 't3_6tukfd': {'argument': [], 'label': []},\n 't3_6hgvr7': {'argument': [], 'label': []},\n 't3_1yc8z3': {'argument': [], 'label': []},\n 't3_1hajcc': {'argument': [], 'label': []},\n 't3_66chgn': {'argument': [], 'label': []},\n 't3_52r946': {'argument': [], 'label': []},\n 't3_36fvzi': {'argument': [], 'label': []},\n 't3_1veiwz': {'argument': [], 'label': []},\n 't3_67diqb': {'argument': [], 'label': []},\n 't3_37nv7l': {'argument': [], 'label': []},\n 't3_24c1q3': {'argument': [], 'label': []},\n 't3_6f51rl': {'argument': [], 'label': []},\n 't3_30addl': {'argument': [], 'label': []},\n 't3_4rkdi6': {'argument': [], 'label': []},\n 't3_20w0tt': {'argument': [], 'label': []},\n 't3_50ey5w': {'argument': [], 'label': []},\n 't3_27tb09': {'argument': [], 'label': []},\n 't3_1j9xnf': {'argument': [], 'label': []},\n 't3_30rmk0': {'argument': [], 'label': []},\n 't3_4h0o05': {'argument': [], 'label': []},\n 't3_287cab': {'argument': [], 'label': []},\n 't3_459klx': {'argument': [], 'label': []},\n 't3_21tk7p': {'argument': [], 'label': []},\n 't3_2u7i4q': {'argument': [], 'label': []},\n 't3_3jzwhj': {'argument': [], 'label': []},\n 't3_5l2ulg': {'argument': [], 'label': []},\n 't3_6n4zvm': {'argument': [], 'label': []},\n 't3_6ntko9': {'argument': [], 'label': []},\n 't3_3458ym': {'argument': [], 'label': []},\n 't3_3pejmt': {'argument': [], 'label': []},\n 't3_5xiwj3': {'argument': [], 'label': []},\n 't3_2cmtbr': {'argument': [], 'label': []},\n 't3_2bhed1': {'argument': [], 'label': []},\n 't3_1uss24': {'argument': [], 'label': []},\n 't3_66lr97': {'argument': [], 'label': []},\n 't3_2dqtab': {'argument': [], 'label': []},\n 't3_5t2ntv': {'argument': [], 'label': []},\n 't3_689gsi': {'argument': [], 'label': []},\n 't3_6g1rkg': {'argument': [], 'label': []},\n 't3_46o5gh': {'argument': [], 'label': []},\n 't3_1xdx0x': {'argument': [], 'label': []},\n 't3_2djvzv': {'argument': [], 'label': []},\n 't3_2uid44': {'argument': [], 'label': []},\n 't3_5dzxoq': {'argument': [], 'label': []},\n 't3_6o4b7b': {'argument': [], 'label': []},\n 't3_47rhko': {'argument': [], 'label': []},\n 't3_4xq7cm': {'argument': [], 'label': []},\n 't3_4ackqd': {'argument': [], 'label': []},\n 't3_5vqic0': {'argument': [], 'label': []},\n 't3_61njsn': {'argument': [], 'label': []},\n 't3_28b0tb': {'argument': [], 'label': []},\n 't3_2bsdbd': {'argument': [], 'label': []},\n 't3_3z7r3u': {'argument': [], 'label': []},\n 't3_4peys7': {'argument': [], 'label': []},\n 't3_6fq9sa': {'argument': [], 'label': []},\n 't3_4uoja8': {'argument': [], 'label': []},\n 't3_3fnkrz': {'argument': [], 'label': []},\n 't3_2fkhgs': {'argument': [], 'label': []},\n 't3_663f7x': {'argument': [], 'label': []},\n 't3_5ay84n': {'argument': [], 'label': []},\n 't3_4gblmi': {'argument': [], 'label': []},\n 't3_3fcrvd': {'argument': [], 'label': []},\n 't3_2k0t4m': {'argument': [], 'label': []},\n 't3_5nwnd4': {'argument': [], 'label': []},\n 't3_40sq1y': {'argument': [], 'label': []},\n 't3_2lqmp9': {'argument': [], 'label': []},\n 't3_5ueqpu': {'argument': [], 'label': []},\n 't3_2gegjn': {'argument': [], 'label': []},\n 't3_5r1d5o': {'argument': [], 'label': []},\n 't3_62bkt1': {'argument': [], 'label': []},\n 't3_39gzr7': {'argument': [], 'label': []},\n 't3_70vii5': {'argument': [], 'label': []},\n 't3_3sfvlv': {'argument': [], 'label': []},\n 't3_6dco9n': {'argument': [], 'label': []},\n 't3_63864z': {'argument': [], 'label': []},\n 't3_2zap64': {'argument': [], 'label': []},\n 't3_4w0cem': {'argument': [], 'label': []},\n 't3_59jutt': {'argument': [], 'label': []},\n 't3_70vtsl': {'argument': [], 'label': []},\n 't3_5uah7n': {'argument': [], 'label': []},\n 't3_3bgni1': {'argument': [], 'label': []},\n 't3_382uqn': {'argument': [], 'label': []},\n 't3_2wwm6s': {'argument': [], 'label': []},\n 't3_1pqyv7': {'argument': [], 'label': []},\n 't3_6p1cma': {'argument': [], 'label': []},\n 't3_6awp5w': {'argument': [], 'label': []},\n 't3_5pxz50': {'argument': [], 'label': []},\n 't3_5pwa9n': {'argument': [], 'label': []},\n 't3_1kt3r4': {'argument': [], 'label': []},\n 't3_6axldq': {'argument': [], 'label': []},\n 't3_5k85us': {'argument': [], 'label': []},\n 't3_2srk7i': {'argument': [], 'label': []},\n 't3_4lipa8': {'argument': [], 'label': []},\n 't3_48waq6': {'argument': [], 'label': []},\n 't3_56hykc': {'argument': [], 'label': []},\n 't3_2csr0e': {'argument': [], 'label': []},\n 't3_1q370k': {'argument': [], 'label': []},\n 't3_5a57sp': {'argument': [], 'label': []},\n 't3_29zmtz': {'argument': [], 'label': []},\n 't3_2rs57a': {'argument': [], 'label': []},\n 't3_4yin4z': {'argument': [], 'label': []},\n 't3_5shhx3': {'argument': [], 'label': []},\n 't3_2l6x4s': {'argument': [], 'label': []},\n 't3_1kag5w': {'argument': [], 'label': []},\n 't3_6jnlr7': {'argument': [], 'label': []},\n 't3_2arzvd': {'argument': [], 'label': []},\n 't3_5j5xns': {'argument': [], 'label': []},\n 't3_3rrmk0': {'argument': [], 'label': []},\n 't3_1c9lan': {'argument': [], 'label': []},\n 't3_4g8eku': {'argument': [], 'label': []},\n 't3_4xekt4': {'argument': [], 'label': []},\n 't3_5xukyy': {'argument': [], 'label': []},\n 't3_2w51ti': {'argument': [], 'label': []},\n 't3_2e9rt1': {'argument': [], 'label': []},\n 't3_67uay7': {'argument': [], 'label': []},\n 't3_3bv0tp': {'argument': [], 'label': []},\n 't3_2xi8c5': {'argument': [], 'label': []},\n 't3_4adwoy': {'argument': [], 'label': []},\n 't3_1p0cwf': {'argument': [], 'label': []},\n 't3_5zcos0': {'argument': [], 'label': []},\n 't3_1ugu8r': {'argument': [], 'label': []},\n 't3_1kpcy7': {'argument': [], 'label': []},\n 't3_2ro9ux': {'argument': [], 'label': []},\n 't3_2wskz7': {'argument': [], 'label': []},\n 't3_5n2i0w': {'argument': [], 'label': []},\n 't3_6ttbll': {'argument': [], 'label': []},\n 't3_4wls1a': {'argument': [], 'label': []},\n 't3_6j2hsc': {'argument': [], 'label': []},\n 't3_3ewjnh': {'argument': [], 'label': []},\n 't3_1rwxzp': {'argument': [], 'label': []},\n 't3_1lzt1v': {'argument': [], 'label': []},\n 't3_1xqnjx': {'argument': [], 'label': []},\n 't3_6yavqm': {'argument': [], 'label': []},\n 't3_36wmyv': {'argument': [], 'label': []},\n 't3_44qp7x': {'argument': [], 'label': []},\n 't3_1q261p': {'argument': [], 'label': []},\n 't3_2bbyzd': {'argument': [], 'label': []},\n 't3_4ap13r': {'argument': [], 'label': []},\n 't3_33yolt': {'argument': [], 'label': []},\n 't3_6du169': {'argument': [], 'label': []},\n 't3_49nwhz': {'argument': [], 'label': []},\n 't3_1n8542': {'argument': [], 'label': []},\n 't3_1qpa6p': {'argument': [], 'label': []},\n 't3_1h0dvp': {'argument': [], 'label': []},\n 't3_61a9ya': {'argument': [], 'label': []},\n 't3_4wwz1p': {'argument': [], 'label': []},\n 't3_5pm8vu': {'argument': [], 'label': []},\n 't3_296yik': {'argument': [], 'label': []},\n 't3_5aoldn': {'argument': [], 'label': []},\n 't3_1v8hly': {'argument': [], 'label': []},\n 't3_3cz50i': {'argument': [], 'label': []},\n 't3_4rmxwp': {'argument': [], 'label': []},\n 't3_5hzak4': {'argument': [], 'label': []},\n 't3_6wfnim': {'argument': [], 'label': []},\n 't3_1dsz4r': {'argument': [], 'label': []},\n 't3_4y0xuh': {'argument': [], 'label': []},\n 't3_51gh35': {'argument': [], 'label': []},\n 't3_360du5': {'argument': [], 'label': []},\n 't3_5r1mqe': {'argument': [], 'label': []},\n 't3_639eoc': {'argument': [], 'label': []},\n 't3_39kdu2': {'argument': [], 'label': []},\n 't3_3l8wcj': {'argument': [], 'label': []},\n 't3_3jqszu': {'argument': [], 'label': []},\n 't3_5vy76u': {'argument': [], 'label': []},\n 't3_3hgl6d': {'argument': [], 'label': []},\n 't3_69s3k8': {'argument': [], 'label': []},\n 't3_1f7m6o': {'argument': [], 'label': []},\n 't3_69ywee': {'argument': [], 'label': []},\n 't3_5cfrs1': {'argument': [], 'label': []},\n 't3_5y2dei': {'argument': [], 'label': []},\n 't3_4w7gbf': {'argument': [], 'label': []},\n 't3_5eyfbb': {'argument': [], 'label': []},\n 't3_6ei816': {'argument': [], 'label': []},\n 't3_5qfotl': {'argument': [], 'label': []},\n 't3_5m7p72': {'argument': [], 'label': []},\n 't3_340hb6': {'argument': [], 'label': []},\n 't3_5vjvm6': {'argument': [], 'label': []},\n 't3_1v44vp': {'argument': [], 'label': []},\n 't3_68sgva': {'argument': [], 'label': []},\n 't3_4vjcmw': {'argument': [], 'label': []},\n 't3_3yn5by': {'argument': [], 'label': []},\n 't3_701xry': {'argument': [], 'label': []},\n 't3_2vks7u': {'argument': [], 'label': []},\n 't3_34r42c': {'argument': [], 'label': []},\n 't3_2o0cgz': {'argument': [], 'label': []},\n 't3_371z42': {'argument': [], 'label': []},\n 't3_3leqxy': {'argument': [], 'label': []},\n 't3_2ghosx': {'argument': [], 'label': []},\n 't3_6o5h7d': {'argument': [], 'label': []},\n 't3_2t5d0k': {'argument': [], 'label': []},\n 't3_2xmiyf': {'argument': [], 'label': []},\n 't3_29xb4t': {'argument': [], 'label': []},\n 't3_21tdqe': {'argument': [], 'label': []},\n 't3_362xxo': {'argument': [], 'label': []},\n 't3_6fg8ks': {'argument': [], 'label': []},\n 't3_5ykpuq': {'argument': [], 'label': []},\n 't3_3hfjxc': {'argument': [], 'label': []},\n 't3_1uctm7': {'argument': [], 'label': []},\n 't3_287z9c': {'argument': [], 'label': []},\n 't3_4x8zvr': {'argument': [], 'label': []},\n 't3_5qqffe': {'argument': [], 'label': []},\n 't3_4q8suh': {'argument': [], 'label': []},\n 't3_1r69xi': {'argument': [], 'label': []},\n 't3_24v6pp': {'argument': [], 'label': []},\n 't3_1nnqv7': {'argument': [], 'label': []},\n 't3_3mrizv': {'argument': [], 'label': []},\n 't3_2ouj9f': {'argument': [], 'label': []},\n 't3_332jn0': {'argument': [], 'label': []},\n 't3_4eebnk': {'argument': [], 'label': []},\n 't3_5n813p': {'argument': [], 'label': []},\n 't3_2qqxoy': {'argument': [], 'label': []},\n 't3_3uh9ui': {'argument': [], 'label': []},\n 't3_5hsped': {'argument': [], 'label': []},\n 't3_5ddmju': {'argument': [], 'label': []},\n 't3_2bag31': {'argument': [], 'label': []},\n 't3_59b80t': {'argument': [], 'label': []},\n 't3_1hqewb': {'argument': [], 'label': []},\n 't3_3cemxp': {'argument': [], 'label': []},\n 't3_6mvowy': {'argument': [], 'label': []},\n 't3_3cyvok': {'argument': [], 'label': []},\n 't3_40ej01': {'argument': [], 'label': []},\n 't3_3u0w94': {'argument': [], 'label': []},\n 't3_2hr703': {'argument': [], 'label': []},\n 't3_3y04ae': {'argument': [], 'label': []},\n 't3_3plgbs': {'argument': [], 'label': []},\n 't3_4at7yp': {'argument': [], 'label': []},\n 't3_599qbx': {'argument': [], 'label': []},\n 't3_6acs7j': {'argument': [], 'label': []},\n 't3_2cpj4p': {'argument': [], 'label': []},\n 't3_5p8hrv': {'argument': [], 'label': []},\n 't3_6zmhxk': {'argument': [], 'label': []},\n 't3_3sbh83': {'argument': [], 'label': []},\n 't3_66lyl4': {'argument': [], 'label': []},\n 't3_1t5izv': {'argument': [], 'label': []},\n 't3_6bhccv': {'argument': [], 'label': []},\n 't3_6ki2vw': {'argument': [], 'label': []},\n 't3_2eahyl': {'argument': [], 'label': []},\n 't3_393acp': {'argument': [], 'label': []},\n 't3_5zjdh4': {'argument': [], 'label': []},\n 't3_3nuy9j': {'argument': [], 'label': []},\n 't3_2mwhwa': {'argument': [], 'label': []},\n 't3_2j6t16': {'argument': [], 'label': []},\n 't3_1ok44s': {'argument': [], 'label': []},\n 't3_5ttr0o': {'argument': [], 'label': []},\n 't3_2j6uq1': {'argument': [], 'label': []},\n 't3_72cx8c': {'argument': [], 'label': []},\n 't3_2kzhlz': {'argument': [], 'label': []},\n 't3_1qvm1n': {'argument': [], 'label': []},\n 't3_4sb38c': {'argument': [], 'label': []},\n 't3_3g1bgv': {'argument': [], 'label': []},\n 't3_2usr10': {'argument': [], 'label': []},\n 't3_547mv9': {'argument': [], 'label': []},\n 't3_49ty6s': {'argument': [], 'label': []},\n 't3_4edbdm': {'argument': [], 'label': []},\n 't3_1k9jlv': {'argument': [], 'label': []},\n 't3_68zzu1': {'argument': [], 'label': []},\n 't3_230xy7': {'argument': [], 'label': []},\n 't3_1wtvq6': {'argument': [], 'label': []},\n 't3_1t3wf5': {'argument': [], 'label': []},\n 't3_5gpze7': {'argument': [], 'label': []},\n 't3_4ozbn9': {'argument': [], 'label': []},\n 't3_2fjsjb': {'argument': [], 'label': []},\n 't3_6uwa62': {'argument': [], 'label': []},\n 't3_1k2m9c': {'argument': [], 'label': []},\n 't3_69ddo4': {'argument': [], 'label': []},\n 't3_1y93n4': {'argument': [], 'label': []},\n 't3_1re89d': {'argument': [], 'label': []},\n 't3_38s7v1': {'argument': [], 'label': []},\n 't3_5y89ym': {'argument': [], 'label': []},\n 't3_2y0q5v': {'argument': [], 'label': []},\n 't3_6k92nv': {'argument': [], 'label': []},\n 't3_6obu12': {'argument': [], 'label': []},\n 't3_35amyu': {'argument': [], 'label': []},\n 't3_6u79lj': {'argument': [], 'label': []},\n 't3_2yrv0y': {'argument': [], 'label': []},\n 't3_391syd': {'argument': [], 'label': []},\n 't3_1xml8r': {'argument': [], 'label': []},\n 't3_1bc7uw': {'argument': [], 'label': []},\n 't3_2n9vx2': {'argument': [], 'label': []},\n 't3_6sjlvt': {'argument': [], 'label': []},\n 't3_1n1zu0': {'argument': [], 'label': []},\n 't3_2ns94k': {'argument': [], 'label': []},\n 't3_3kfitf': {'argument': [], 'label': []},\n 't3_456af7': {'argument': [], 'label': []},\n 't3_2rcrkd': {'argument': [], 'label': []},\n 't3_3b3s26': {'argument': [], 'label': []},\n 't3_61udkf': {'argument': [], 'label': []},\n 't3_64g66e': {'argument': [], 'label': []},\n 't3_6czz9u': {'argument': [], 'label': []},\n 't3_1i7tnw': {'argument': [], 'label': []},\n 't3_2fg916': {'argument': [], 'label': []},\n 't3_4wtk91': {'argument': [], 'label': []},\n 't3_4pbwvb': {'argument': [], 'label': []},\n 't3_4o96ib': {'argument': [], 'label': []},\n 't3_68i18k': {'argument': [], 'label': []},\n 't3_32dcqp': {'argument': [], 'label': []},\n 't3_3c8jw2': {'argument': [], 'label': []},\n 't3_5d9p9q': {'argument': [], 'label': []},\n 't3_65inz6': {'argument': [], 'label': []},\n 't3_4ea563': {'argument': [], 'label': []},\n 't3_5mflv6': {'argument': [], 'label': []},\n 't3_474ti2': {'argument': [], 'label': []},\n 't3_1h1yj0': {'argument': [], 'label': []},\n 't3_632jab': {'argument': [], 'label': []},\n 't3_3nraau': {'argument': [], 'label': []},\n 't3_28a5fu': {'argument': [], 'label': []},\n 't3_4eqq6u': {'argument': [], 'label': []},\n 't3_2s8qu4': {'argument': [], 'label': []},\n 't3_68fihe': {'argument': [], 'label': []},\n 't3_2yo9nm': {'argument': [], 'label': []},\n 't3_4xavhq': {'argument': [], 'label': []},\n 't3_6se6od': {'argument': [], 'label': []},\n 't3_6rrq8x': {'argument': [], 'label': []},\n 't3_1ugfg7': {'argument': [], 'label': []},\n 't3_6wrj12': {'argument': [], 'label': []},\n 't3_6vo8h1': {'argument': [], 'label': []},\n 't3_29o2de': {'argument': [], 'label': []},\n 't3_2glrzf': {'argument': [], 'label': []},\n 't3_739ury': {'argument': [], 'label': []},\n 't3_5s4ajw': {'argument': [], 'label': []},\n 't3_6rabjm': {'argument': [], 'label': []},\n 't3_63vnpp': {'argument': [], 'label': []},\n 't3_4uaccs': {'argument': [], 'label': []},\n 't3_6lnuao': {'argument': [], 'label': []},\n 't3_46fzik': {'argument': [], 'label': []},\n 't3_4jyv1a': {'argument': [], 'label': []},\n 't3_2dqiwg': {'argument': [], 'label': []},\n 't3_2g0prj': {'argument': [], 'label': []},\n 't3_2o3imb': {'argument': [], 'label': []},\n 't3_1ob3rz': {'argument': [], 'label': []},\n 't3_6k4bzt': {'argument': [], 'label': []},\n 't3_2e2jug': {'argument': [], 'label': []},\n 't3_1l7npm': {'argument': [], 'label': []},\n 't3_4at6ha': {'argument': [], 'label': []},\n 't3_2rk7my': {'argument': [], 'label': []},\n 't3_65cbgt': {'argument': [], 'label': []},\n 't3_2p0xu8': {'argument': [], 'label': []},\n 't3_1k0rar': {'argument': [], 'label': []},\n 't3_2gpt1c': {'argument': [], 'label': []},\n 't3_3a6sfg': {'argument': [], 'label': []},\n 't3_609qvf': {'argument': [], 'label': []},\n 't3_48qrfa': {'argument': [], 'label': []},\n 't3_6155xj': {'argument': [], 'label': []},\n 't3_5tlcgx': {'argument': [], 'label': []},\n 't3_2nfgyu': {'argument': [], 'label': []},\n 't3_1uldzf': {'argument': [], 'label': []},\n 't3_3bxlje': {'argument': [], 'label': []},\n 't3_5u1aza': {'argument': [], 'label': []},\n 't3_26uqns': {'argument': [], 'label': []},\n 't3_2uobnf': {'argument': [], 'label': []},\n 't3_58h612': {'argument': [], 'label': []},\n 't3_64o2rs': {'argument': [], 'label': []},\n 't3_55543i': {'argument': [], 'label': []},\n ...}"
     },
     "execution_count": 81,
     "metadata": {},
     "output_type": "execute_result"
    }
   ],
   "source": [
    "adus"
   ],
   "metadata": {
    "collapsed": false
   }
  },
  {
   "cell_type": "code",
   "execution_count": null,
   "outputs": [],
   "source": [
    "fout = open(\"../data/argument_premises.jsonl\", \"w\")\n",
    "for j, k in adus:\n",
    "    fout.write(json.dumps({\n",
    "        \"id\": j,\n",
    "        \"premises\": k,\n",
    "    }))\n",
    "    fout.write(\"\\n\")"
   ],
   "metadata": {
    "collapsed": false
   }
  }
 ],
 "metadata": {
  "kernelspec": {
   "display_name": "Python 3",
   "language": "python",
   "name": "python3"
  },
  "language_info": {
   "codemirror_mode": {
    "name": "ipython",
    "version": 2
   },
   "file_extension": ".py",
   "mimetype": "text/x-python",
   "name": "python",
   "nbconvert_exporter": "python",
   "pygments_lexer": "ipython2",
   "version": "2.7.6"
  }
 },
 "nbformat": 4,
 "nbformat_minor": 0
}
