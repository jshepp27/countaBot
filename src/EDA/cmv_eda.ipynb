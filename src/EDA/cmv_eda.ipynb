{
 "cells": [
  {
   "cell_type": "code",
   "execution_count": null,
   "metadata": {
    "collapsed": true
   },
   "outputs": [],
   "source": [
    "# Pre-Process CMV Data\n",
    "# ====================\n",
    "\n",
    "import pandas as pd\n",
    "import json\n",
    "import re\n",
    "from IPython.display import Markdown\n",
    "import random"
   ]
  },
  {
   "cell_type": "code",
   "execution_count": null,
   "outputs": [],
   "source": [
    "cmv = [json.loads(ln) for ln in open(\"./data/pairs.jsonl\", \"r\")]"
   ],
   "metadata": {
    "collapsed": false
   }
  },
  {
   "cell_type": "code",
   "execution_count": null,
   "outputs": [],
   "source": [
    "id_ = []\n",
    "claims = []\n",
    "args = []\n",
    "counters = []\n",
    "\n",
    "for _ in cmv:\n",
    "    id_.append(_[\"submission\"][\"id\"])\n",
    "    claims.append(_[\"submission\"][\"title\"])\n",
    "    args.append(_[\"submission\"][\"selftext\"])\n",
    "    counters.append(_[\"delta_comment\"][\"comments\"][0][\"body\"])"
   ],
   "metadata": {
    "collapsed": false
   }
  },
  {
   "cell_type": "code",
   "execution_count": null,
   "outputs": [],
   "source": [
    "_ = random.randint(0, len(cmv))\n",
    "\n",
    "print(_, \"/\", len(counters))\n",
    "counters[_]"
   ],
   "metadata": {
    "collapsed": false
   }
  },
  {
   "cell_type": "code",
   "execution_count": null,
   "outputs": [],
   "source": [
    "print(len(id_))"
   ],
   "metadata": {
    "collapsed": false
   }
  },
  {
   "cell_type": "code",
   "execution_count": null,
   "outputs": [],
   "source": [
    "# Clean Post\n",
    "def cleanup(cmv_post):\n",
    "    lines = [\n",
    "        line for line in cmv_post.splitlines()\n",
    "        if not line.lstrip().startswith(\"&gt;\")\n",
    "        and not line.lstrip().startswith(\"____\")\n",
    "        and \"edit\" not in \" \".join(line.lower().split()[:2])\n",
    "    ]\n",
    "    return \"\\n\".join(lines)\n",
    "\n",
    "# Display Post IPython Markdown\n",
    "def show_post(title, cmv_post, counter):\n",
    "    cmv_post = cleanup(cmv_post)\n",
    "    md_format = \"**{}** \\n \\n {} \\n \\n **Counter** \\n \\n {}\".format(title, cmv_post, counter)\n",
    "    md_format = \"\\n\".join([\"> \" + line for line in md_format.splitlines()])\n",
    "\n",
    "    return Markdown(md_format)\n",
    "\n",
    "# Clean Text\n",
    "def full_clean(data):\n",
    "    # TODOs: Consider .strip()\n",
    "    cleaned = []\n",
    "\n",
    "    for i in data:\n",
    "        # CMV clean-up\n",
    "        i = i.lower()\n",
    "        clean = cleanup(i)\n",
    "\n",
    "        # RegEx clean-up\n",
    "        clean = re.sub(\"CMV:\", \" \", clean)\n",
    "        clean = re.sub(\"CMV\", \" \", clean)\n",
    "        clean = re.sub(\"cmv\", \" \", clean)\n",
    "        clean = re.sub(r'(\\.)(?:[A-Z])',r'\\1\\n', clean)\n",
    "        clean = re.sub(r\"http\\S+\", \"\", clean)\n",
    "        clean = re.sub(r\"\\n\", \"\", clean)\n",
    "        clean = re.sub(r'(?<=[a-z])\\'(?=[a-z])', '', clean)\n",
    "        clean = re.sub('([^a-zA-Z\\s.!?])', \"\", clean)\n",
    "        clean = re.sub('\\s+', ' ', clean)\n",
    "\n",
    "        clean = re.sub(r\"www\\S+\", \"\", clean)\n",
    "        cleaned.append(clean.strip())\n",
    "\n",
    "        #clean = re.sub(\"^\\s\", \"\", clean)\n",
    "\n",
    "    return cleaned"
   ],
   "metadata": {
    "collapsed": false
   }
  },
  {
   "cell_type": "code",
   "execution_count": null,
   "outputs": [],
   "source": [
    "### CONSTRUCT DATAFRAME OBJECTS ###\n",
    "\n",
    "args_obj = {\n",
    "    \"id\": id_,\n",
    "    \"claim\": claims,\n",
    "    \"argument\": args,\n",
    "    \"counter\": counters\n",
    "}\n",
    "\n",
    "args_df = pd.DataFrame(args_obj).astype(str)\n",
    "args_df"
   ],
   "metadata": {
    "collapsed": false
   }
  },
  {
   "cell_type": "code",
   "execution_count": null,
   "outputs": [],
   "source": [
    "# ### CONSTRUCT DATAFRAME OBJECTS ###\n",
    "#\n",
    "# arg_load = []\n",
    "# for line in open('../data/train_cmv.jsonlist', 'r'):\n",
    "#     arg_load.append(json.loads(line))\n",
    "#\n",
    "# args = pd.DataFrame(arg_load)\n",
    "# titles = args[\"op_title\"]\n",
    "# props = args[\"op_text\"]\n",
    "# id = args[\"op_name\"]\n",
    "#\n",
    "# wins = [\n",
    "#     args[\"positive\"][i][\"comments\"][0][\"body\"] for i in range(0, len(args))\n",
    "# ]\n",
    "#\n",
    "# debate = {\n",
    "#     \"id\": id,\n",
    "#     \"Titles\": titles,\n",
    "#     \"Arguments\": props,\n",
    "#     \"Counters\": wins\n",
    "# }\n",
    "#\n",
    "# debate = pd.DataFrame(data = debate, columns = [\"id\", \"Titles\", \"Arguments\", \"Counters\"]).astype(str)"
   ],
   "metadata": {
    "collapsed": false
   }
  },
  {
   "cell_type": "code",
   "execution_count": null,
   "outputs": [],
   "source": [
    "# Exploritory Keyword Search\n",
    "keyword = \"Philosophy\"\n",
    "args_df[args_df['counter'].str.contains(keyword,case=False)]"
   ],
   "metadata": {
    "collapsed": false
   }
  },
  {
   "cell_type": "code",
   "execution_count": null,
   "outputs": [],
   "source": [
    "# Explore Post\n",
    "show_post(args_df[\"claim\"][5], args_df[\"argument\"][5], args_df[\"counter\"][5])"
   ],
   "metadata": {
    "collapsed": false
   }
  },
  {
   "cell_type": "code",
   "execution_count": null,
   "outputs": [],
   "source": [
    "titles_clean = full_clean(claims)\n",
    "args_clean = full_clean(args)\n",
    "counters_clean = full_clean(counters)\n",
    "\n",
    "args_clean = {\n",
    "    \"id\": id_,\n",
    "    \"claim\": titles_clean,\n",
    "    \"argument\": args_clean,\n",
    "    \"counter\": counters_clean\n",
    "}\n",
    "\n",
    "args_clean_df = pd.DataFrame(args_clean)\n",
    "args_clean_df"
   ],
   "metadata": {
    "collapsed": false
   }
  },
  {
   "cell_type": "code",
   "execution_count": null,
   "outputs": [],
   "source": [
    "# Explore Post\n",
    "show_post(args_clean_df[\"id\"], args_clean_df[\"argument\"][_], args_clean_df[\"counter\"][_])"
   ],
   "metadata": {
    "collapsed": false
   }
  },
  {
   "cell_type": "code",
   "execution_count": null,
   "outputs": [],
   "source": [
    "# Exploritory Search Keywords; Assert Clean (URLs: 'http', 'www')\n",
    "keyword = \"www\"\n",
    "args_clean_df[args_clean_df['counter'].str.contains(keyword,case=False)]"
   ],
   "metadata": {
    "collapsed": false
   }
  },
  {
   "cell_type": "code",
   "execution_count": null,
   "outputs": [],
   "source": [
    "# Search Keywords; Assert missing values at start of sentence (known argument issue)\n",
    "keyword = \"harassment\"\n",
    "args_clean_df[args_clean_df['counter'].str.contains(keyword,case=False)]"
   ],
   "metadata": {
    "collapsed": false
   }
  },
  {
   "cell_type": "code",
   "execution_count": null,
   "outputs": [],
   "source": [
    "# Output JSON List .jsonl\n",
    "import json\n",
    "\n",
    "data = []\n",
    "for idx, row in args_clean_df.iterrows():\n",
    "    data.append({\n",
    "        \"id\": row[\"id\"],\n",
    "        \"claim\": row[\"claim\"],\n",
    "        \"argument\": row[\"argument\"],\n",
    "        \"counter\": row[\"counter\"]\n",
    "    })\n",
    "\n",
    "with open(\"./data/cmv_cleaned.jsonl\", \"w\", encoding='utf-8') as f:\n",
    "    for d in data:\n",
    "        f.write(json.dumps(d))\n",
    "        f.write(\"\\n\")"
   ],
   "metadata": {
    "collapsed": false
   }
  }
 ],
 "metadata": {
  "kernelspec": {
   "display_name": "Python 3",
   "language": "python",
   "name": "python3"
  },
  "language_info": {
   "codemirror_mode": {
    "name": "ipython",
    "version": 2
   },
   "file_extension": ".py",
   "mimetype": "text/x-python",
   "name": "python",
   "nbconvert_exporter": "python",
   "pygments_lexer": "ipython2",
   "version": "2.7.6"
  }
 },
 "nbformat": 4,
 "nbformat_minor": 0
}
