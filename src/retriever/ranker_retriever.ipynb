{
 "cells": [
  {
   "cell_type": "code",
   "execution_count": 225,
   "metadata": {
    "pycharm": {
     "name": "#%%\n"
    }
   },
   "outputs": [
    {
     "name": "stderr",
     "output_type": "stream",
     "text": [
      "INFO:src.utils_.elastic_db:Connecting to http://localhost:9200 \n",
      "INFO:src.utils_.elastic_db:Connected to <Elasticsearch(['http://localhost:9200'])> \n"
     ]
    }
   ],
   "source": [
    "from src.utils_.elastic_db import ElasticDB\n",
    "\n",
    "# INIT DB OBJECT\n",
    "PORT = \"http://localhost:9200\"\n",
    "db = ElasticDB(elastic_port=PORT)"
   ]
  },
  {
   "cell_type": "code",
   "execution_count": 227,
   "metadata": {
    "pycharm": {
     "name": "#%%\n"
    }
   },
   "outputs": [],
   "source": [
    "### LOAD DATASETS ###\n",
    "import json\n",
    "import random\n",
    "\n",
    "args = [json.loads(ln) for ln in open(\"../data/cmv_processed.jsonl\")]\n",
    "topics = [json.loads(ln) for ln in open(\"../data/argument_topic_concept.jsonl\")]\n",
    "concepts = [json.loads(ln) for ln in open(\"../data/argument_concept.jsonl\")]\n",
    "#extracts = [json.loads(ln) for ln in open(\"../data/argument_extracts.jsonl\")]"
   ]
  },
  {
   "cell_type": "code",
   "execution_count": 228,
   "outputs": [
    {
     "data": {
      "text/plain": "(5990, 10303)"
     },
     "execution_count": 228,
     "metadata": {},
     "output_type": "execute_result"
    }
   ],
   "source": [
    "len(topics), len(args)"
   ],
   "metadata": {
    "collapsed": false,
    "pycharm": {
     "name": "#%%\n"
    }
   }
  },
  {
   "cell_type": "code",
   "execution_count": 259,
   "outputs": [
    {
     "name": "stdout",
     "output_type": "stream",
     "text": [
      "blanks  t3_3cm6jy\n",
      "blanks  t3_1egv4k\n",
      "blanks  t3_1egv4k\n",
      "blanks  t3_5wjdve\n"
     ]
    }
   ],
   "source": [
    "### CHECK BLANKS ###\n",
    "args_ = [json.loads(ln)[\"argument\"][\"argument\"] for ln in open(\"../data/cmv_processed.jsonl\")]\n",
    "ids = [json.loads(ln)[\"id\"] for ln in open(\"../data/cmv_processed.jsonl\")]\n",
    "\n",
    "for j, k in zip(args_, ids):\n",
    "    if j == \"\":\n",
    "        print(\"blanks\", j, k)"
   ],
   "metadata": {
    "collapsed": false,
    "pycharm": {
     "name": "#%%\n"
    }
   }
  },
  {
   "cell_type": "code",
   "execution_count": 232,
   "metadata": {
    "pycharm": {
     "name": "#%%\n"
    }
   },
   "outputs": [
    {
     "name": "stdout",
     "output_type": "stream",
     "text": [
      "71 \n",
      "\n",
      "Single gender schools are discriminatory because there is no such thing as separate but equal \n",
      "\n",
      "I am a public high school teacher. Some of the people I work with favor singlesex education and even try experiments of singlegender classes. As far as I am concerned there is no such thing as separate but equal and separating genders reinforces gender stereotypes and inequality just as racially segregated schooling does.Much of the prestige associated with singlesex schools comes from the fact that many are highly selective private schools. The fact that they are successful owes more to their status as private and screened schools than it does to the fact that they admit only one gender.At its core segregation is wrong.In my school we have twice a week where we have about a half hour with girls only with female teachers and boys only with male teachers with occasional switching of the teachers so sometimes a male teacher has the girls group. This time is purportedly to deal with gender issues like selfesteem peer pressure and sexuality. \n",
      "\n"
     ]
    }
   ],
   "source": [
    "### SUBJECT ARG ###\n",
    "import random\n",
    "sample = random.randint(0, 99)\n",
    "\n",
    "arg = args[sample][\"argument\"][\"argument\"]\n",
    "claim = args[sample][\"claim\"]\n",
    "#topic = topics[sample]\n",
    "\n",
    "print(sample, \"\\n\")\n",
    "print(claim, \"\\n\")\n",
    "print(arg, \"\\n\")"
   ]
  },
  {
   "cell_type": "code",
   "execution_count": 233,
   "outputs": [],
   "source": [
    "### TODOs ###\n",
    "\n",
    "# IN-PROGRESS: News Data\n",
    "# TODOs: Add Concepts\n",
    "# TODOs: Commonsense Query and Concept Expansion: Topics, Concepts, Synonyms\n",
    "# DONE: Cosine Semantic Search\n",
    "# TODOs: Research: Evidence Retrieval, Info Retrieval, Context Aware, Neural Retrieval\n",
    "# TODOs: Targeted Retrieval with NLI over ADUs, Premises, Claims; discard non-ADUs.\n",
    "# TODOs: Parallel process\n",
    "# TODOs: Prior tokenization and sentence segmentation to speed processing\n",
    "# TODOs: Domain Restrict. Polarising social and political debate (Class labelling) only for higher-quality argument-knowledge set.\n",
    "# TODOs: News, Political, Sociology and 'Good', 'Positive' counter-evidence Knowledge Base.\n",
    "# TODOs: Bag of Topics Modelling\n",
    "# TODOs: Implement as a Class\n",
    "# TODOs: Implement Logging\n",
    "\n",
    "# TODOs: Implement Semantic Search: https://www.elastic.co/blog/text-similarity-search-with-vectors-in-elasticsearch\n",
    "# TODOs: Implement Semantic Ranking"
   ],
   "metadata": {
    "collapsed": false,
    "pycharm": {
     "name": "#%%\n"
    }
   }
  },
  {
   "cell_type": "code",
   "execution_count": 234,
   "metadata": {
    "pycharm": {
     "name": "#%%\n"
    }
   },
   "outputs": [
    {
     "name": "stdout",
     "output_type": "stream",
     "text": [
      "['hello', ',', 'my', 'name', 'is', 'Josh', '!']\n",
      "['hello, my name is Josh!', 'How are you doing today?', \"I'm curious ... will this line seperate?\", \"I'm not so sure Dr.\", 'Evil']\n"
     ]
    }
   ],
   "source": [
    "### NLP FUNCTIONS ###\n",
    "import re\n",
    "from nltk.tokenize import sent_tokenize, word_tokenize\n",
    "\n",
    "def tokeniser(doc):\n",
    "    return word_tokenize(doc)\n",
    "\n",
    "def sentences_segment(doc):\n",
    "    return sent_tokenize(doc)\n",
    "\n",
    "# Test Statements\n",
    "print(tokeniser(\"hello, my name is Josh!\"))\n",
    "print(sentences_segment(\"hello, my name is Josh! How are you doing today? I'm curious ... will this line seperate? I'm not so sure Dr. Evil\"))"
   ]
  },
  {
   "cell_type": "code",
   "execution_count": 284,
   "outputs": [
    {
     "name": "stderr",
     "output_type": "stream",
     "text": [
      "INFO:sentence_transformers.SentenceTransformer:Load pretrained SentenceTransformer: all-MiniLM-L6-v2\n",
      "INFO:sentence_transformers.SentenceTransformer:Use pytorch device: cpu\n"
     ]
    },
    {
     "name": "stdout",
     "output_type": "stream",
     "text": [
      "[' ']\n"
     ]
    },
    {
     "data": {
      "text/plain": "['minimum income', 'brazil', 'brazil minimum income']"
     },
     "execution_count": 284,
     "metadata": {},
     "output_type": "execute_result"
    }
   ],
   "source": [
    "from keybert import KeyBERT\n",
    "from keyphrase_vectorizers import KeyphraseCountVectorizer\n",
    "\n",
    "# TODOs: Fix Vectorizer Issue\n",
    "kb = KeyBERT()\n",
    "vectorizer = KeyphraseCountVectorizer()\n",
    "vectorizer_nouns = KeyphraseCountVectorizer(spacy_pipeline=\"<N. *>\")\n",
    "def extract_keyphrase(doc, n_gram=3, n_kp=3, use_mmr=\"False\", use_maxsum=\"False\"):\n",
    "    try:\n",
    "        kp_ = kb.extract_keywords(doc, keyphrase_ngram_range=(0, 3), stop_words=\"english\", diversity=0.2,)\n",
    "        kp = kb.extract_keywords(doc, vectorizer=vectorizer, stop_words=\"english\", diversity=0.3)\n",
    "\n",
    "    except:\n",
    "        return [\" \"]\n",
    "\n",
    "    return [i[0] for i in kp[0:n_kp]] + [kp_[0][0]]\n",
    "\n",
    "test = \"Brazil's minimum income has increasingly been accepted.\"\n",
    "\n",
    "evidence = \" \"\n",
    "ev_kp = extract_keyphrase(evidence)\n",
    "res = [i[0] for i in ev_kp]\n",
    "print(res)\n",
    "\n",
    "res_ = res[0]\n",
    "\n",
    "extract_keyphrase(test)"
   ],
   "metadata": {
    "collapsed": false,
    "pycharm": {
     "name": "#%%\n"
    }
   }
  },
  {
   "cell_type": "code",
   "execution_count": 247,
   "outputs": [],
   "source": [
    " # def get_topic(arg_id):\n",
    "#     topic_id = topic_ids.index(arg_id)\n",
    "#     topic = topics[topic_id][\"topic_label\"]\n",
    "#     return str(topic) if topic else None\n",
    "#\n",
    "# def get_concept(arg_id):\n",
    "#     concept_id = concept_ids.index(arg_id)\n",
    "#     concept = concepts[concept_id][\"concept_label\"]\n",
    "#     return str(concept) if concept else None"
   ],
   "metadata": {
    "collapsed": false,
    "pycharm": {
     "name": "#%%\n"
    }
   }
  },
  {
   "cell_type": "code",
   "execution_count": 285,
   "metadata": {
    "pycharm": {
     "name": "#%%\n"
    }
   },
   "outputs": [
    {
     "data": {
      "text/plain": "  0%|          | 0/100 [00:00<?, ?it/s]",
      "application/vnd.jupyter.widget-view+json": {
       "version_major": 2,
       "version_minor": 0,
       "model_id": "82ead40d82b3437ba27903f698731c6a"
      },
      "application/json": {
       "n": 0,
       "total": 100,
       "elapsed": 0.009463071823120117,
       "ncols": null,
       "nrows": null,
       "prefix": "",
       "ascii": false,
       "unit": "it",
       "unit_scale": false,
       "rate": null,
       "bar_format": null,
       "postfix": null,
       "unit_divisor": 1000,
       "initial": 0,
       "colour": null
      }
     },
     "metadata": {},
     "output_type": "display_data"
    },
    {
     "name": "stdout",
     "output_type": "stream",
     "text": [
      "t3_30oi71\n",
      "Causal Concept >>  increase in accumulated other comprehensive income Topic >>  incomes policy\n"
     ]
    },
    {
     "name": "stderr",
     "output_type": "stream",
     "text": [
      "INFO:elastic_transport.transport:POST http://localhost:9200/*/_search [status:200 duration:0.125s]\n"
     ]
    },
    {
     "name": "stdout",
     "output_type": "stream",
     "text": [
      "['basic income', 'section', 'basic income increasingly']\n",
      "basic income, section, basic income increasingly, incomes policy, increase in accumulated other comprehensive income\n"
     ]
    },
    {
     "name": "stderr",
     "output_type": "stream",
     "text": [
      "INFO:elastic_transport.transport:POST http://localhost:9200/*/_search [status:200 duration:0.102s]\n"
     ]
    },
    {
     "name": "stdout",
     "output_type": "stream",
     "text": [
      "['basic income', 'libertarian right', 'broad support', 'basic income']\n",
      "basic income, libertarian right, broad support, basic income, incomes policy, increase in accumulated other comprehensive income\n"
     ]
    },
    {
     "name": "stderr",
     "output_type": "stream",
     "text": [
      "INFO:elastic_transport.transport:POST http://localhost:9200/*/_search [status:200 duration:0.097s]\n"
     ]
    },
    {
     "name": "stdout",
     "output_type": "stream",
     "text": [
      "['centerleft economists', 'paul krugman', 'scheme', 'krugman endorsed scheme']\n",
      "centerleft economists, paul krugman, scheme, krugman endorsed scheme, incomes policy, increase in accumulated other comprehensive income\n"
     ]
    },
    {
     "name": "stderr",
     "output_type": "stream",
     "text": [
      "INFO:elastic_transport.transport:POST http://localhost:9200/*/_search [status:200 duration:0.076s]\n"
     ]
    },
    {
     "name": "stdout",
     "output_type": "stream",
     "text": [
      "['income', 'inequality', 'bi', 'bi reduces inequality']\n",
      "income, inequality, bi, bi reduces inequality, incomes policy, increase in accumulated other comprehensive income\n",
      "t3_30oi71\n",
      "Causal Concept >>  increase in accumulated other comprehensive income Topic >>  incomes policy\n"
     ]
    },
    {
     "name": "stderr",
     "output_type": "stream",
     "text": [
      "INFO:elastic_transport.transport:POST http://localhost:9200/*/_search [status:200 duration:0.081s]\n"
     ]
    },
    {
     "name": "stdout",
     "output_type": "stream",
     "text": [
      "['basic income', 'section', 'basic income increasingly']\n",
      "basic income, section, basic income increasingly, incomes policy, increase in accumulated other comprehensive income\n"
     ]
    },
    {
     "name": "stderr",
     "output_type": "stream",
     "text": [
      "INFO:elastic_transport.transport:POST http://localhost:9200/*/_search [status:200 duration:0.081s]\n"
     ]
    },
    {
     "name": "stdout",
     "output_type": "stream",
     "text": [
      "['basic income', 'libertarian right', 'broad support', 'basic income']\n",
      "basic income, libertarian right, broad support, basic income, incomes policy, increase in accumulated other comprehensive income\n"
     ]
    },
    {
     "name": "stderr",
     "output_type": "stream",
     "text": [
      "INFO:elastic_transport.transport:POST http://localhost:9200/*/_search [status:200 duration:0.075s]\n"
     ]
    },
    {
     "name": "stdout",
     "output_type": "stream",
     "text": [
      "['centerleft economists', 'paul krugman', 'scheme', 'krugman endorsed scheme']\n",
      "centerleft economists, paul krugman, scheme, krugman endorsed scheme, incomes policy, increase in accumulated other comprehensive income\n"
     ]
    },
    {
     "name": "stderr",
     "output_type": "stream",
     "text": [
      "INFO:elastic_transport.transport:POST http://localhost:9200/*/_search [status:200 duration:0.048s]\n"
     ]
    },
    {
     "name": "stdout",
     "output_type": "stream",
     "text": [
      "['income', 'inequality', 'bi', 'bi reduces inequality']\n",
      "income, inequality, bi, bi reduces inequality, incomes policy, increase in accumulated other comprehensive income\n",
      "t3_30oi71\n",
      "Causal Concept >>  increase in accumulated other comprehensive income Topic >>  incomes policy\n"
     ]
    },
    {
     "name": "stderr",
     "output_type": "stream",
     "text": [
      "INFO:elastic_transport.transport:POST http://localhost:9200/*/_search [status:200 duration:0.075s]\n"
     ]
    },
    {
     "name": "stdout",
     "output_type": "stream",
     "text": [
      "['basic income', 'section', 'basic income increasingly']\n",
      "basic income, section, basic income increasingly, incomes policy, increase in accumulated other comprehensive income\n"
     ]
    },
    {
     "name": "stderr",
     "output_type": "stream",
     "text": [
      "INFO:elastic_transport.transport:POST http://localhost:9200/*/_search [status:200 duration:0.138s]\n"
     ]
    },
    {
     "name": "stdout",
     "output_type": "stream",
     "text": [
      "['basic income', 'libertarian right', 'broad support', 'basic income']\n",
      "basic income, libertarian right, broad support, basic income, incomes policy, increase in accumulated other comprehensive income\n"
     ]
    },
    {
     "name": "stderr",
     "output_type": "stream",
     "text": [
      "INFO:elastic_transport.transport:POST http://localhost:9200/*/_search [status:200 duration:0.053s]\n"
     ]
    },
    {
     "name": "stdout",
     "output_type": "stream",
     "text": [
      "['centerleft economists', 'paul krugman', 'scheme', 'krugman endorsed scheme']\n",
      "centerleft economists, paul krugman, scheme, krugman endorsed scheme, incomes policy, increase in accumulated other comprehensive income\n"
     ]
    },
    {
     "name": "stderr",
     "output_type": "stream",
     "text": [
      "INFO:elastic_transport.transport:POST http://localhost:9200/*/_search [status:200 duration:0.035s]\n"
     ]
    },
    {
     "name": "stdout",
     "output_type": "stream",
     "text": [
      "['income', 'inequality', 'bi', 'bi reduces inequality']\n",
      "income, inequality, bi, bi reduces inequality, incomes policy, increase in accumulated other comprehensive income\n",
      "t3_30oi71\n",
      "Causal Concept >>  increase in accumulated other comprehensive income Topic >>  incomes policy\n"
     ]
    },
    {
     "name": "stderr",
     "output_type": "stream",
     "text": [
      "INFO:elastic_transport.transport:POST http://localhost:9200/*/_search [status:200 duration:0.065s]\n"
     ]
    },
    {
     "name": "stdout",
     "output_type": "stream",
     "text": [
      "['basic income', 'section', 'basic income increasingly']\n",
      "basic income, section, basic income increasingly, incomes policy, increase in accumulated other comprehensive income\n"
     ]
    },
    {
     "name": "stderr",
     "output_type": "stream",
     "text": [
      "INFO:elastic_transport.transport:POST http://localhost:9200/*/_search [status:200 duration:0.109s]\n"
     ]
    },
    {
     "name": "stdout",
     "output_type": "stream",
     "text": [
      "['basic income', 'libertarian right', 'broad support', 'basic income']\n",
      "basic income, libertarian right, broad support, basic income, incomes policy, increase in accumulated other comprehensive income\n"
     ]
    },
    {
     "name": "stderr",
     "output_type": "stream",
     "text": [
      "INFO:elastic_transport.transport:POST http://localhost:9200/*/_search [status:200 duration:0.076s]\n"
     ]
    },
    {
     "name": "stdout",
     "output_type": "stream",
     "text": [
      "['centerleft economists', 'paul krugman', 'scheme', 'krugman endorsed scheme']\n",
      "centerleft economists, paul krugman, scheme, krugman endorsed scheme, incomes policy, increase in accumulated other comprehensive income\n"
     ]
    },
    {
     "name": "stderr",
     "output_type": "stream",
     "text": [
      "INFO:elastic_transport.transport:POST http://localhost:9200/*/_search [status:200 duration:0.049s]\n"
     ]
    },
    {
     "name": "stdout",
     "output_type": "stream",
     "text": [
      "['income', 'inequality', 'bi', 'bi reduces inequality']\n",
      "income, inequality, bi, bi reduces inequality, incomes policy, increase in accumulated other comprehensive income\n",
      "t3_4gdj35\n",
      "Causal Concept >>  serious relations Topic >>  couples\n"
     ]
    },
    {
     "name": "stderr",
     "output_type": "stream",
     "text": [
      "INFO:elastic_transport.transport:POST http://localhost:9200/*/_search [status:200 duration:0.055s]\n"
     ]
    },
    {
     "name": "stdout",
     "output_type": "stream",
     "text": [
      "['romance', 'legitimate emotional bond', 'relationship', 'emotional bond male']\n",
      "romance, legitimate emotional bond, relationship, emotional bond male, couples, serious relations\n"
     ]
    },
    {
     "name": "stderr",
     "output_type": "stream",
     "text": [
      "INFO:elastic_transport.transport:POST http://localhost:9200/*/_search [status:200 duration:0.077s]\n"
     ]
    },
    {
     "name": "stdout",
     "output_type": "stream",
     "text": [
      "['interests composure speech patterns', 'emotional engagement', 'couple', 'composure speech patterns']\n",
      "interests composure speech patterns, emotional engagement, couple, composure speech patterns, couples, serious relations\n"
     ]
    },
    {
     "name": "stderr",
     "output_type": "stream",
     "text": [
      "INFO:elastic_transport.transport:POST http://localhost:9200/*/_search [status:200 duration:0.059s]\n"
     ]
    },
    {
     "name": "stdout",
     "output_type": "stream",
     "text": [
      "['partner', 'awkward disparity', 'basic biology', 'partner tolerating']\n",
      "partner, awkward disparity, basic biology, partner tolerating, couples, serious relations\n"
     ]
    },
    {
     "name": "stderr",
     "output_type": "stream",
     "text": [
      "INFO:elastic_transport.transport:POST http://localhost:9200/*/_search [status:200 duration:0.024s]\n"
     ]
    },
    {
     "name": "stdout",
     "output_type": "stream",
     "text": [
      "['homosexual relationships', 'heterosexual relationships', 'heteronormitive society', 'homosexual relationships purely']\n",
      "homosexual relationships, heterosexual relationships, heteronormitive society, homosexual relationships purely, couples, serious relations\n"
     ]
    },
    {
     "name": "stderr",
     "output_type": "stream",
     "text": [
      "INFO:elastic_transport.transport:POST http://localhost:9200/*/_search [status:200 duration:0.083s]\n"
     ]
    },
    {
     "name": "stdout",
     "output_type": "stream",
     "text": [
      "['straight couple', 'perspective', 'experience', 'straight couple legitimately']\n",
      "straight couple, perspective, experience, straight couple legitimately, couples, serious relations\n",
      "t3_4gdj35\n",
      "Causal Concept >>  serious relations Topic >>  couples\n"
     ]
    },
    {
     "name": "stderr",
     "output_type": "stream",
     "text": [
      "INFO:elastic_transport.transport:POST http://localhost:9200/*/_search [status:200 duration:0.051s]\n"
     ]
    },
    {
     "name": "stdout",
     "output_type": "stream",
     "text": [
      "['romance', 'legitimate emotional bond', 'relationship', 'emotional bond male']\n",
      "romance, legitimate emotional bond, relationship, emotional bond male, couples, serious relations\n"
     ]
    },
    {
     "name": "stderr",
     "output_type": "stream",
     "text": [
      "INFO:elastic_transport.transport:POST http://localhost:9200/*/_search [status:200 duration:0.047s]\n"
     ]
    },
    {
     "name": "stdout",
     "output_type": "stream",
     "text": [
      "['interests composure speech patterns', 'emotional engagement', 'couple', 'composure speech patterns']\n",
      "interests composure speech patterns, emotional engagement, couple, composure speech patterns, couples, serious relations\n"
     ]
    },
    {
     "name": "stderr",
     "output_type": "stream",
     "text": [
      "INFO:elastic_transport.transport:POST http://localhost:9200/*/_search [status:200 duration:0.032s]\n"
     ]
    },
    {
     "name": "stdout",
     "output_type": "stream",
     "text": [
      "['partner', 'awkward disparity', 'basic biology', 'partner tolerating']\n",
      "partner, awkward disparity, basic biology, partner tolerating, couples, serious relations\n"
     ]
    },
    {
     "name": "stderr",
     "output_type": "stream",
     "text": [
      "INFO:elastic_transport.transport:POST http://localhost:9200/*/_search [status:200 duration:0.043s]\n"
     ]
    },
    {
     "name": "stdout",
     "output_type": "stream",
     "text": [
      "['homosexual relationships', 'heterosexual relationships', 'heteronormitive society', 'homosexual relationships purely']\n",
      "homosexual relationships, heterosexual relationships, heteronormitive society, homosexual relationships purely, couples, serious relations\n"
     ]
    },
    {
     "name": "stderr",
     "output_type": "stream",
     "text": [
      "INFO:elastic_transport.transport:POST http://localhost:9200/*/_search [status:200 duration:0.043s]\n"
     ]
    },
    {
     "name": "stdout",
     "output_type": "stream",
     "text": [
      "['straight couple', 'perspective', 'experience', 'straight couple legitimately']\n",
      "straight couple, perspective, experience, straight couple legitimately, couples, serious relations\n",
      "t3_5aceoz\n",
      "Causal Concept >>  device driver Topic >>  None\n"
     ]
    },
    {
     "name": "stderr",
     "output_type": "stream",
     "text": [
      "INFO:elastic_transport.transport:POST http://localhost:9200/*/_search [status:200 duration:0.041s]\n"
     ]
    },
    {
     "name": "stdout",
     "output_type": "stream",
     "text": [
      "['deltas', 'useful points', 'replies', 'deltas appropriately']\n",
      "deltas, useful points, replies, deltas appropriately, device driver\n"
     ]
    },
    {
     "name": "stderr",
     "output_type": "stream",
     "text": [
      "INFO:elastic_transport.transport:POST http://localhost:9200/*/_search [status:200 duration:0.056s]\n"
     ]
    },
    {
     "name": "stdout",
     "output_type": "stream",
     "text": [
      "['apple', 'convincing argument', 'computer', 'apple trying build']\n",
      "apple, convincing argument, computer, apple trying build, device driver\n"
     ]
    },
    {
     "name": "stderr",
     "output_type": "stream",
     "text": [
      "INFO:elastic_transport.transport:POST http://localhost:9200/*/_search [status:200 duration:0.070s]\n"
     ]
    },
    {
     "name": "stdout",
     "output_type": "stream",
     "text": [
      "['future', 'anything', 'usbc future']\n",
      "future, anything, usbc future, device driver\n"
     ]
    },
    {
     "name": "stderr",
     "output_type": "stream",
     "text": [
      "INFO:elastic_transport.transport:POST http://localhost:9200/*/_search [status:200 duration:0.034s]\n"
     ]
    },
    {
     "name": "stdout",
     "output_type": "stream",
     "text": [
      "['dedicated power socket', 'usb', 'battery charger', 'dedicated power socket']\n",
      "dedicated power socket, usb, battery charger, dedicated power socket, device driver\n"
     ]
    },
    {
     "name": "stderr",
     "output_type": "stream",
     "text": [
      "INFO:elastic_transport.transport:POST http://localhost:9200/*/_search [status:200 duration:0.035s]\n"
     ]
    },
    {
     "name": "stdout",
     "output_type": "stream",
     "text": [
      "['sd support', 'wireless headphones', 'headphones', 'wireless support sd']\n",
      "sd support, wireless headphones, headphones, wireless support sd, device driver\n",
      "t3_5aceoz\n",
      "Causal Concept >>  device driver Topic >>  None\n"
     ]
    },
    {
     "name": "stderr",
     "output_type": "stream",
     "text": [
      "INFO:elastic_transport.transport:POST http://localhost:9200/*/_search [status:200 duration:0.020s]\n"
     ]
    },
    {
     "name": "stdout",
     "output_type": "stream",
     "text": [
      "['deltas', 'useful points', 'replies', 'deltas appropriately']\n",
      "deltas, useful points, replies, deltas appropriately, device driver\n"
     ]
    },
    {
     "name": "stderr",
     "output_type": "stream",
     "text": [
      "INFO:elastic_transport.transport:POST http://localhost:9200/*/_search [status:200 duration:0.030s]\n"
     ]
    },
    {
     "name": "stdout",
     "output_type": "stream",
     "text": [
      "['apple', 'convincing argument', 'computer', 'apple trying build']\n",
      "apple, convincing argument, computer, apple trying build, device driver\n"
     ]
    },
    {
     "name": "stderr",
     "output_type": "stream",
     "text": [
      "INFO:elastic_transport.transport:POST http://localhost:9200/*/_search [status:200 duration:0.051s]\n"
     ]
    },
    {
     "name": "stdout",
     "output_type": "stream",
     "text": [
      "['future', 'anything', 'usbc future']\n",
      "future, anything, usbc future, device driver\n"
     ]
    },
    {
     "name": "stderr",
     "output_type": "stream",
     "text": [
      "INFO:elastic_transport.transport:POST http://localhost:9200/*/_search [status:200 duration:0.046s]\n"
     ]
    },
    {
     "name": "stdout",
     "output_type": "stream",
     "text": [
      "['dedicated power socket', 'usb', 'battery charger', 'dedicated power socket']\n",
      "dedicated power socket, usb, battery charger, dedicated power socket, device driver\n"
     ]
    },
    {
     "name": "stderr",
     "output_type": "stream",
     "text": [
      "INFO:elastic_transport.transport:POST http://localhost:9200/*/_search [status:200 duration:0.030s]\n"
     ]
    },
    {
     "name": "stdout",
     "output_type": "stream",
     "text": [
      "['sd support', 'wireless headphones', 'headphones', 'wireless support sd']\n",
      "sd support, wireless headphones, headphones, wireless support sd, device driver\n",
      "t3_5aceoz\n",
      "Causal Concept >>  device driver Topic >>  None\n"
     ]
    },
    {
     "name": "stderr",
     "output_type": "stream",
     "text": [
      "INFO:elastic_transport.transport:POST http://localhost:9200/*/_search [status:200 duration:0.027s]\n"
     ]
    },
    {
     "name": "stdout",
     "output_type": "stream",
     "text": [
      "['deltas', 'useful points', 'replies', 'deltas appropriately']\n",
      "deltas, useful points, replies, deltas appropriately, device driver\n"
     ]
    },
    {
     "name": "stderr",
     "output_type": "stream",
     "text": [
      "INFO:elastic_transport.transport:POST http://localhost:9200/*/_search [status:200 duration:0.064s]\n"
     ]
    },
    {
     "name": "stdout",
     "output_type": "stream",
     "text": [
      "['apple', 'convincing argument', 'computer', 'apple trying build']\n",
      "apple, convincing argument, computer, apple trying build, device driver\n"
     ]
    },
    {
     "name": "stderr",
     "output_type": "stream",
     "text": [
      "INFO:elastic_transport.transport:POST http://localhost:9200/*/_search [status:200 duration:0.032s]\n"
     ]
    },
    {
     "name": "stdout",
     "output_type": "stream",
     "text": [
      "['future', 'anything', 'usbc future']\n",
      "future, anything, usbc future, device driver\n"
     ]
    },
    {
     "name": "stderr",
     "output_type": "stream",
     "text": [
      "INFO:elastic_transport.transport:POST http://localhost:9200/*/_search [status:200 duration:0.036s]\n"
     ]
    },
    {
     "name": "stdout",
     "output_type": "stream",
     "text": [
      "['dedicated power socket', 'usb', 'battery charger', 'dedicated power socket']\n",
      "dedicated power socket, usb, battery charger, dedicated power socket, device driver\n"
     ]
    },
    {
     "name": "stderr",
     "output_type": "stream",
     "text": [
      "INFO:elastic_transport.transport:POST http://localhost:9200/*/_search [status:200 duration:0.015s]\n"
     ]
    },
    {
     "name": "stdout",
     "output_type": "stream",
     "text": [
      "['sd support', 'wireless headphones', 'headphones', 'wireless support sd']\n",
      "sd support, wireless headphones, headphones, wireless support sd, device driver\n",
      "t3_5aceoz\n",
      "Causal Concept >>  device driver Topic >>  None\n"
     ]
    },
    {
     "name": "stderr",
     "output_type": "stream",
     "text": [
      "INFO:elastic_transport.transport:POST http://localhost:9200/*/_search [status:200 duration:0.021s]\n"
     ]
    },
    {
     "name": "stdout",
     "output_type": "stream",
     "text": [
      "['deltas', 'useful points', 'replies', 'deltas appropriately']\n",
      "deltas, useful points, replies, deltas appropriately, device driver\n"
     ]
    },
    {
     "name": "stderr",
     "output_type": "stream",
     "text": [
      "INFO:elastic_transport.transport:POST http://localhost:9200/*/_search [status:200 duration:0.042s]\n"
     ]
    },
    {
     "name": "stdout",
     "output_type": "stream",
     "text": [
      "['apple', 'convincing argument', 'computer', 'apple trying build']\n",
      "apple, convincing argument, computer, apple trying build, device driver\n"
     ]
    },
    {
     "name": "stderr",
     "output_type": "stream",
     "text": [
      "INFO:elastic_transport.transport:POST http://localhost:9200/*/_search [status:200 duration:0.040s]\n"
     ]
    },
    {
     "name": "stdout",
     "output_type": "stream",
     "text": [
      "['future', 'anything', 'usbc future']\n",
      "future, anything, usbc future, device driver\n"
     ]
    },
    {
     "name": "stderr",
     "output_type": "stream",
     "text": [
      "INFO:elastic_transport.transport:POST http://localhost:9200/*/_search [status:200 duration:0.046s]\n"
     ]
    },
    {
     "name": "stdout",
     "output_type": "stream",
     "text": [
      "['dedicated power socket', 'usb', 'battery charger', 'dedicated power socket']\n",
      "dedicated power socket, usb, battery charger, dedicated power socket, device driver\n"
     ]
    },
    {
     "name": "stderr",
     "output_type": "stream",
     "text": [
      "INFO:elastic_transport.transport:POST http://localhost:9200/*/_search [status:200 duration:0.015s]\n"
     ]
    },
    {
     "name": "stdout",
     "output_type": "stream",
     "text": [
      "['sd support', 'wireless headphones', 'headphones', 'wireless support sd']\n",
      "sd support, wireless headphones, headphones, wireless support sd, device driver\n",
      "t3_40uylb\n",
      "Causal Concept >>  None Topic >>  terrorist groups\n"
     ]
    },
    {
     "name": "stderr",
     "output_type": "stream",
     "text": [
      "INFO:elastic_transport.transport:POST http://localhost:9200/*/_search [status:200 duration:0.037s]\n"
     ]
    },
    {
     "name": "stdout",
     "output_type": "stream",
     "text": [
      "['terrorists', 'oregon', 'people', 'oregon considered terrorists']\n",
      "terrorists, oregon, people, oregon considered terrorists, terrorist groups\n"
     ]
    },
    {
     "name": "stderr",
     "output_type": "stream",
     "text": [
      "INFO:elastic_transport.transport:POST http://localhost:9200/*/_search [status:200 duration:0.102s]\n"
     ]
    },
    {
     "name": "stdout",
     "output_type": "stream",
     "text": [
      "['guns', 'building', 'media', 'building force guns']\n",
      "guns, building, media, building force guns, terrorist groups\n"
     ]
    },
    {
     "name": "stderr",
     "output_type": "stream",
     "text": [
      "INFO:elastic_transport.transport:POST http://localhost:9200/*/_search [status:200 duration:0.025s]\n"
     ]
    },
    {
     "name": "stdout",
     "output_type": "stream",
     "text": [
      "['terrorism', 'anyone', 'kill enters terrorism']\n",
      "terrorism, anyone, kill enters terrorism, terrorist groups\n",
      "t3_40uylb\n",
      "Causal Concept >>  None Topic >>  terrorist groups\n"
     ]
    },
    {
     "name": "stderr",
     "output_type": "stream",
     "text": [
      "INFO:elastic_transport.transport:POST http://localhost:9200/*/_search [status:200 duration:0.048s]\n"
     ]
    },
    {
     "name": "stdout",
     "output_type": "stream",
     "text": [
      "['terrorists', 'oregon', 'people', 'oregon considered terrorists']\n",
      "terrorists, oregon, people, oregon considered terrorists, terrorist groups\n"
     ]
    },
    {
     "name": "stderr",
     "output_type": "stream",
     "text": [
      "INFO:elastic_transport.transport:POST http://localhost:9200/*/_search [status:200 duration:0.076s]\n"
     ]
    },
    {
     "name": "stdout",
     "output_type": "stream",
     "text": [
      "['guns', 'building', 'media', 'building force guns']\n",
      "guns, building, media, building force guns, terrorist groups\n"
     ]
    },
    {
     "name": "stderr",
     "output_type": "stream",
     "text": [
      "INFO:elastic_transport.transport:POST http://localhost:9200/*/_search [status:200 duration:0.036s]\n"
     ]
    },
    {
     "name": "stdout",
     "output_type": "stream",
     "text": [
      "['terrorism', 'anyone', 'kill enters terrorism']\n",
      "terrorism, anyone, kill enters terrorism, terrorist groups\n",
      "t3_40uylb\n",
      "Causal Concept >>  None Topic >>  terrorist groups\n"
     ]
    },
    {
     "name": "stderr",
     "output_type": "stream",
     "text": [
      "INFO:elastic_transport.transport:POST http://localhost:9200/*/_search [status:200 duration:0.031s]\n"
     ]
    },
    {
     "name": "stdout",
     "output_type": "stream",
     "text": [
      "['terrorists', 'oregon', 'people', 'oregon considered terrorists']\n",
      "terrorists, oregon, people, oregon considered terrorists, terrorist groups\n"
     ]
    },
    {
     "name": "stderr",
     "output_type": "stream",
     "text": [
      "INFO:elastic_transport.transport:POST http://localhost:9200/*/_search [status:200 duration:0.067s]\n"
     ]
    },
    {
     "name": "stdout",
     "output_type": "stream",
     "text": [
      "['guns', 'building', 'media', 'building force guns']\n",
      "guns, building, media, building force guns, terrorist groups\n"
     ]
    },
    {
     "name": "stderr",
     "output_type": "stream",
     "text": [
      "INFO:elastic_transport.transport:POST http://localhost:9200/*/_search [status:200 duration:0.030s]\n"
     ]
    },
    {
     "name": "stdout",
     "output_type": "stream",
     "text": [
      "['terrorism', 'anyone', 'kill enters terrorism']\n",
      "terrorism, anyone, kill enters terrorism, terrorist groups\n",
      "t3_53j8hn\n",
      "Causal Concept >>  microsoft Topic >>  None\n"
     ]
    },
    {
     "name": "stderr",
     "output_type": "stream",
     "text": [
      "INFO:elastic_transport.transport:POST http://localhost:9200/*/_search [status:200 duration:0.035s]\n"
     ]
    },
    {
     "name": "stdout",
     "output_type": "stream",
     "text": [
      "['microsoft windows', 'microsoft', 'rant', 'windows schools quite']\n",
      "microsoft windows, microsoft, rant, windows schools quite, microsoft\n"
     ]
    },
    {
     "name": "stderr",
     "output_type": "stream",
     "text": [
      "INFO:elastic_transport.transport:POST http://localhost:9200/*/_search [status:200 duration:0.033s]\n"
     ]
    },
    {
     "name": "stdout",
     "output_type": "stream",
     "text": [
      "['microsoft fan', 'apple', 'linux', 'definitely microsoft fan']\n",
      "microsoft fan, apple, linux, definitely microsoft fan, microsoft\n"
     ]
    },
    {
     "name": "stderr",
     "output_type": "stream",
     "text": [
      "INFO:elastic_transport.transport:POST http://localhost:9200/*/_search [status:200 duration:0.085s]\n"
     ]
    },
    {
     "name": "stdout",
     "output_type": "stream",
     "text": [
      "['microsoft office', 'office', 'desk job', 'microsoft office school']\n",
      "microsoft office, office, desk job, microsoft office school, microsoft\n"
     ]
    },
    {
     "name": "stderr",
     "output_type": "stream",
     "text": [
      "INFO:elastic_transport.transport:POST http://localhost:9200/*/_search [status:200 duration:0.025s]\n"
     ]
    },
    {
     "name": "stdout",
     "output_type": "stream",
     "text": [
      "['office properlyyoure', 'office', 'programmers', 'learn office properlyyoure']\n",
      "office properlyyoure, office, programmers, learn office properlyyoure, microsoft\n"
     ]
    },
    {
     "name": "stderr",
     "output_type": "stream",
     "text": [
      "INFO:elastic_transport.transport:POST http://localhost:9200/*/_search [status:200 duration:0.041s]\n"
     ]
    },
    {
     "name": "stdout",
     "output_type": "stream",
     "text": [
      "['engineers', 'excel', 'ton', 'engineers use excel']\n",
      "engineers, excel, ton, engineers use excel, microsoft\n",
      "t3_53j8hn\n",
      "Causal Concept >>  microsoft Topic >>  None\n"
     ]
    },
    {
     "name": "stderr",
     "output_type": "stream",
     "text": [
      "INFO:elastic_transport.transport:POST http://localhost:9200/*/_search [status:200 duration:0.044s]\n"
     ]
    },
    {
     "name": "stdout",
     "output_type": "stream",
     "text": [
      "['microsoft windows', 'microsoft', 'rant', 'windows schools quite']\n",
      "microsoft windows, microsoft, rant, windows schools quite, microsoft\n"
     ]
    },
    {
     "name": "stderr",
     "output_type": "stream",
     "text": [
      "INFO:elastic_transport.transport:POST http://localhost:9200/*/_search [status:200 duration:0.015s]\n"
     ]
    },
    {
     "name": "stdout",
     "output_type": "stream",
     "text": [
      "['microsoft fan', 'apple', 'linux', 'definitely microsoft fan']\n",
      "microsoft fan, apple, linux, definitely microsoft fan, microsoft\n"
     ]
    },
    {
     "name": "stderr",
     "output_type": "stream",
     "text": [
      "INFO:elastic_transport.transport:POST http://localhost:9200/*/_search [status:200 duration:0.031s]\n"
     ]
    },
    {
     "name": "stdout",
     "output_type": "stream",
     "text": [
      "['microsoft office', 'office', 'desk job', 'microsoft office school']\n",
      "microsoft office, office, desk job, microsoft office school, microsoft\n"
     ]
    },
    {
     "name": "stderr",
     "output_type": "stream",
     "text": [
      "INFO:elastic_transport.transport:POST http://localhost:9200/*/_search [status:200 duration:0.014s]\n"
     ]
    },
    {
     "name": "stdout",
     "output_type": "stream",
     "text": [
      "['office properlyyoure', 'office', 'programmers', 'learn office properlyyoure']\n",
      "office properlyyoure, office, programmers, learn office properlyyoure, microsoft\n"
     ]
    },
    {
     "name": "stderr",
     "output_type": "stream",
     "text": [
      "INFO:elastic_transport.transport:POST http://localhost:9200/*/_search [status:200 duration:0.034s]\n"
     ]
    },
    {
     "name": "stdout",
     "output_type": "stream",
     "text": [
      "['engineers', 'excel', 'ton', 'engineers use excel']\n",
      "engineers, excel, ton, engineers use excel, microsoft\n",
      "t3_53j8hn\n",
      "Causal Concept >>  microsoft Topic >>  None\n"
     ]
    },
    {
     "name": "stderr",
     "output_type": "stream",
     "text": [
      "INFO:elastic_transport.transport:POST http://localhost:9200/*/_search [status:200 duration:0.032s]\n"
     ]
    },
    {
     "name": "stdout",
     "output_type": "stream",
     "text": [
      "['microsoft windows', 'microsoft', 'rant', 'windows schools quite']\n",
      "microsoft windows, microsoft, rant, windows schools quite, microsoft\n"
     ]
    },
    {
     "name": "stderr",
     "output_type": "stream",
     "text": [
      "INFO:elastic_transport.transport:POST http://localhost:9200/*/_search [status:200 duration:0.036s]\n"
     ]
    },
    {
     "name": "stdout",
     "output_type": "stream",
     "text": [
      "['microsoft fan', 'apple', 'linux', 'definitely microsoft fan']\n",
      "microsoft fan, apple, linux, definitely microsoft fan, microsoft\n"
     ]
    },
    {
     "name": "stderr",
     "output_type": "stream",
     "text": [
      "INFO:elastic_transport.transport:POST http://localhost:9200/*/_search [status:200 duration:0.038s]\n"
     ]
    },
    {
     "name": "stdout",
     "output_type": "stream",
     "text": [
      "['microsoft office', 'office', 'desk job', 'microsoft office school']\n",
      "microsoft office, office, desk job, microsoft office school, microsoft\n"
     ]
    },
    {
     "name": "stderr",
     "output_type": "stream",
     "text": [
      "INFO:elastic_transport.transport:POST http://localhost:9200/*/_search [status:200 duration:0.032s]\n"
     ]
    },
    {
     "name": "stdout",
     "output_type": "stream",
     "text": [
      "['office properlyyoure', 'office', 'programmers', 'learn office properlyyoure']\n",
      "office properlyyoure, office, programmers, learn office properlyyoure, microsoft\n"
     ]
    },
    {
     "name": "stderr",
     "output_type": "stream",
     "text": [
      "INFO:elastic_transport.transport:POST http://localhost:9200/*/_search [status:200 duration:0.013s]\n"
     ]
    },
    {
     "name": "stdout",
     "output_type": "stream",
     "text": [
      "['engineers', 'excel', 'ton', 'engineers use excel']\n",
      "engineers, excel, ton, engineers use excel, microsoft\n",
      "t3_53j8hn\n",
      "Causal Concept >>  microsoft Topic >>  None\n"
     ]
    },
    {
     "name": "stderr",
     "output_type": "stream",
     "text": [
      "INFO:elastic_transport.transport:POST http://localhost:9200/*/_search [status:200 duration:0.042s]\n"
     ]
    },
    {
     "name": "stdout",
     "output_type": "stream",
     "text": [
      "['microsoft windows', 'microsoft', 'rant', 'windows schools quite']\n",
      "microsoft windows, microsoft, rant, windows schools quite, microsoft\n"
     ]
    },
    {
     "name": "stderr",
     "output_type": "stream",
     "text": [
      "INFO:elastic_transport.transport:POST http://localhost:9200/*/_search [status:200 duration:0.035s]\n"
     ]
    },
    {
     "name": "stdout",
     "output_type": "stream",
     "text": [
      "['microsoft fan', 'apple', 'linux', 'definitely microsoft fan']\n",
      "microsoft fan, apple, linux, definitely microsoft fan, microsoft\n"
     ]
    },
    {
     "name": "stderr",
     "output_type": "stream",
     "text": [
      "INFO:elastic_transport.transport:POST http://localhost:9200/*/_search [status:200 duration:0.035s]\n"
     ]
    },
    {
     "name": "stdout",
     "output_type": "stream",
     "text": [
      "['microsoft office', 'office', 'desk job', 'microsoft office school']\n",
      "microsoft office, office, desk job, microsoft office school, microsoft\n"
     ]
    },
    {
     "name": "stderr",
     "output_type": "stream",
     "text": [
      "INFO:elastic_transport.transport:POST http://localhost:9200/*/_search [status:200 duration:0.019s]\n"
     ]
    },
    {
     "name": "stdout",
     "output_type": "stream",
     "text": [
      "['office properlyyoure', 'office', 'programmers', 'learn office properlyyoure']\n",
      "office properlyyoure, office, programmers, learn office properlyyoure, microsoft\n"
     ]
    },
    {
     "name": "stderr",
     "output_type": "stream",
     "text": [
      "INFO:elastic_transport.transport:POST http://localhost:9200/*/_search [status:200 duration:0.030s]\n"
     ]
    },
    {
     "name": "stdout",
     "output_type": "stream",
     "text": [
      "['engineers', 'excel', 'ton', 'engineers use excel']\n",
      "engineers, excel, ton, engineers use excel, microsoft\n",
      "t3_6jgnbe\n",
      "Causal Concept >>  None Topic >>  None\n"
     ]
    },
    {
     "name": "stderr",
     "output_type": "stream",
     "text": [
      "INFO:elastic_transport.transport:POST http://localhost:9200/*/_search [status:200 duration:0.072s]\n"
     ]
    },
    {
     "name": "stdout",
     "output_type": "stream",
     "text": [
      "['ubi', 'welfare system', 'wealth', 'think redistributing wealth']\n",
      "ubi, welfare system, wealth, think redistributing wealth\n"
     ]
    },
    {
     "name": "stderr",
     "output_type": "stream",
     "text": [
      "INFO:elastic_transport.transport:POST http://localhost:9200/*/_search [status:200 duration:0.019s]\n"
     ]
    },
    {
     "name": "stdout",
     "output_type": "stream",
     "text": [
      "['welfare system', 'ubi', 'defining ubi welfare']\n",
      "welfare system, ubi, defining ubi welfare\n"
     ]
    },
    {
     "name": "stderr",
     "output_type": "stream",
     "text": [
      "INFO:elastic_transport.transport:POST http://localhost:9200/*/_search [status:200 duration:0.041s]\n"
     ]
    },
    {
     "name": "stdout",
     "output_type": "stream",
     "text": [
      "['ubi', 'welfare system', 'income', 'ubi provide legal']\n",
      "ubi, welfare system, income, ubi provide legal\n"
     ]
    },
    {
     "name": "stderr",
     "output_type": "stream",
     "text": [
      "INFO:elastic_transport.transport:POST http://localhost:9200/*/_search [status:200 duration:0.033s]\n"
     ]
    },
    {
     "name": "stdout",
     "output_type": "stream",
     "text": [
      "['assistence', 'line', 'line deserve assistence']\n",
      "assistence, line, line deserve assistence\n"
     ]
    },
    {
     "name": "stderr",
     "output_type": "stream",
     "text": [
      "INFO:elastic_transport.transport:POST http://localhost:9200/*/_search [status:200 duration:0.064s]\n"
     ]
    },
    {
     "name": "stdout",
     "output_type": "stream",
     "text": [
      "['income limit', 'income', 'welfare', 'automation decide income']\n",
      "income limit, income, welfare, automation decide income\n"
     ]
    },
    {
     "name": "stderr",
     "output_type": "stream",
     "text": [
      "INFO:elastic_transport.transport:POST http://localhost:9200/*/_search [status:200 duration:0.060s]\n"
     ]
    },
    {
     "name": "stdout",
     "output_type": "stream",
     "text": [
      "['welfare system', 'reasons', 'parts', 'expanded welfare better']\n",
      "welfare system, reasons, parts, expanded welfare better\n",
      "t3_6jgnbe\n",
      "Causal Concept >>  None Topic >>  None\n"
     ]
    },
    {
     "name": "stderr",
     "output_type": "stream",
     "text": [
      "INFO:elastic_transport.transport:POST http://localhost:9200/*/_search [status:200 duration:0.040s]\n"
     ]
    },
    {
     "name": "stdout",
     "output_type": "stream",
     "text": [
      "['ubi', 'welfare system', 'wealth', 'think redistributing wealth']\n",
      "ubi, welfare system, wealth, think redistributing wealth\n"
     ]
    },
    {
     "name": "stderr",
     "output_type": "stream",
     "text": [
      "INFO:elastic_transport.transport:POST http://localhost:9200/*/_search [status:200 duration:0.027s]\n"
     ]
    },
    {
     "name": "stdout",
     "output_type": "stream",
     "text": [
      "['welfare system', 'ubi', 'defining ubi welfare']\n",
      "welfare system, ubi, defining ubi welfare\n"
     ]
    },
    {
     "name": "stderr",
     "output_type": "stream",
     "text": [
      "INFO:elastic_transport.transport:POST http://localhost:9200/*/_search [status:200 duration:0.042s]\n"
     ]
    },
    {
     "name": "stdout",
     "output_type": "stream",
     "text": [
      "['ubi', 'welfare system', 'income', 'ubi provide legal']\n",
      "ubi, welfare system, income, ubi provide legal\n"
     ]
    },
    {
     "name": "stderr",
     "output_type": "stream",
     "text": [
      "INFO:elastic_transport.transport:POST http://localhost:9200/*/_search [status:200 duration:0.035s]\n"
     ]
    },
    {
     "name": "stdout",
     "output_type": "stream",
     "text": [
      "['assistence', 'line', 'line deserve assistence']\n",
      "assistence, line, line deserve assistence\n"
     ]
    },
    {
     "name": "stderr",
     "output_type": "stream",
     "text": [
      "INFO:elastic_transport.transport:POST http://localhost:9200/*/_search [status:200 duration:0.041s]\n"
     ]
    },
    {
     "name": "stdout",
     "output_type": "stream",
     "text": [
      "['income limit', 'income', 'welfare', 'automation decide income']\n",
      "income limit, income, welfare, automation decide income\n"
     ]
    },
    {
     "name": "stderr",
     "output_type": "stream",
     "text": [
      "INFO:elastic_transport.transport:POST http://localhost:9200/*/_search [status:200 duration:0.043s]\n"
     ]
    },
    {
     "name": "stdout",
     "output_type": "stream",
     "text": [
      "['welfare system', 'reasons', 'parts', 'expanded welfare better']\n",
      "welfare system, reasons, parts, expanded welfare better\n",
      "t3_1jipi5\n",
      "Causal Concept >>  None Topic >>  None\n"
     ]
    },
    {
     "name": "stderr",
     "output_type": "stream",
     "text": [
      "INFO:elastic_transport.transport:POST http://localhost:9200/*/_search [status:200 duration:0.127s]\n"
     ]
    },
    {
     "name": "stdout",
     "output_type": "stream",
     "text": [
      "['intelligence', 'subsaharan african heritage', 'white people', 'intelligence compared whites']\n",
      "intelligence, subsaharan african heritage, white people, intelligence compared whites\n"
     ]
    },
    {
     "name": "stderr",
     "output_type": "stream",
     "text": [
      "INFO:elastic_transport.transport:POST http://localhost:9200/*/_search [status:200 duration:0.097s]\n"
     ]
    },
    {
     "name": "stdout",
     "output_type": "stream",
     "text": [
      "['outliers', 'black people', 'white people', 'black people intelligent']\n",
      "outliers, black people, white people, black people intelligent\n"
     ]
    },
    {
     "name": "stderr",
     "output_type": "stream",
     "text": [
      "INFO:elastic_transport.transport:POST http://localhost:9200/*/_search [status:200 duration:0.015s]\n"
     ]
    },
    {
     "name": "stdout",
     "output_type": "stream",
     "text": [
      "['iq tests', 'blacks', 'whites', 'lower iq tests']\n",
      "iq tests, blacks, whites, lower iq tests\n"
     ]
    },
    {
     "name": "stderr",
     "output_type": "stream",
     "text": [
      "INFO:elastic_transport.transport:POST http://localhost:9200/*/_search [status:200 duration:0.032s]\n"
     ]
    },
    {
     "name": "stdout",
     "output_type": "stream",
     "text": [
      "['apa', 'researchers', 'explanation', 'subject apa acknowledges']\n",
      "apa, researchers, explanation, subject apa acknowledges\n",
      "t3_4z8uwi\n",
      "Causal Concept >>  heavy handed policing Topic >>  None\n"
     ]
    },
    {
     "name": "stderr",
     "output_type": "stream",
     "text": [
      "INFO:elastic_transport.transport:POST http://localhost:9200/*/_search [status:200 duration:0.035s]\n"
     ]
    },
    {
     "name": "stdout",
     "output_type": "stream",
     "text": [
      "['police brutality', 'police', 'force', 'police brutality strongly']\n",
      "police brutality, police, force, police brutality strongly, heavy handed policing\n"
     ]
    },
    {
     "name": "stderr",
     "output_type": "stream",
     "text": [
      "INFO:elastic_transport.transport:POST http://localhost:9200/*/_search [status:200 duration:0.057s]\n"
     ]
    },
    {
     "name": "stdout",
     "output_type": "stream",
     "text": [
      "['adrenaline', 'highadrenaline situations', 'highstress situations', 'kill highadrenaline situations']\n",
      "adrenaline, highadrenaline situations, highstress situations, kill highadrenaline situations, heavy handed policing\n"
     ]
    },
    {
     "name": "stderr",
     "output_type": "stream",
     "text": [
      "INFO:elastic_transport.transport:POST http://localhost:9200/*/_search [status:200 duration:0.019s]\n"
     ]
    },
    {
     "name": "stdout",
     "output_type": "stream",
     "text": [
      "['militarygrade weaponry', 'especially militarygrade weaponry']\n",
      "militarygrade weaponry, especially militarygrade weaponry, heavy handed policing\n",
      "t3_30dn4s\n",
      "Causal Concept >>  nazis Topic >>  nazism\n"
     ]
    },
    {
     "name": "stderr",
     "output_type": "stream",
     "text": [
      "INFO:elastic_transport.transport:POST http://localhost:9200/*/_search [status:200 duration:0.019s]\n"
     ]
    },
    {
     "name": "stdout",
     "output_type": "stream",
     "text": [
      "['nazism', 'note', 'note believe nazism']\n",
      "nazism, note, note believe nazism, nazism, nazis\n"
     ]
    },
    {
     "name": "stderr",
     "output_type": "stream",
     "text": [
      "INFO:elastic_transport.transport:POST http://localhost:9200/*/_search [status:200 duration:0.039s]\n"
     ]
    },
    {
     "name": "stdout",
     "output_type": "stream",
     "text": [
      "['eugenics', 'lifelong belief', 'view', 'eugenics isnt bad']\n",
      "eugenics, lifelong belief, view, eugenics isnt bad, nazism, nazis\n"
     ]
    },
    {
     "name": "stderr",
     "output_type": "stream",
     "text": [
      "INFO:elastic_transport.transport:POST http://localhost:9200/*/_search [status:200 duration:0.049s]\n"
     ]
    },
    {
     "name": "stdout",
     "output_type": "stream",
     "text": [
      "['reproductive rights', 'welfare', 'drugs', 'welfare day drugs']\n",
      "reproductive rights, welfare, drugs, welfare day drugs, nazism, nazis\n"
     ]
    },
    {
     "name": "stderr",
     "output_type": "stream",
     "text": [
      "INFO:elastic_transport.transport:POST http://localhost:9200/*/_search [status:200 duration:0.076s]\n"
     ]
    },
    {
     "name": "stdout",
     "output_type": "stream",
     "text": [
      "['people', 'time', 'believed people die']\n",
      "people, time, believed people die, nazism, nazis\n",
      "t3_4y6hgj\n",
      "Causal Concept >>  el niufo event Topic >>  international development\n"
     ]
    },
    {
     "name": "stderr",
     "output_type": "stream",
     "text": [
      "INFO:elastic_transport.transport:POST http://localhost:9200/*/_search [status:200 duration:0.175s]\n"
     ]
    },
    {
     "name": "stdout",
     "output_type": "stream",
     "text": [
      "['complex social issues', 'general failure', 'tasteless trend', 'dismisses complex social']\n",
      "complex social issues, general failure, tasteless trend, dismisses complex social, international development, el niufo event\n"
     ]
    },
    {
     "name": "stderr",
     "output_type": "stream",
     "text": [
      "INFO:elastic_transport.transport:POST http://localhost:9200/*/_search [status:200 duration:0.083s]\n"
     ]
    },
    {
     "name": "stdout",
     "output_type": "stream",
     "text": [
      "['illusion', 'inaccurate picture', 'linear scale', 'planet illusion countries']\n",
      "illusion, inaccurate picture, linear scale, planet illusion countries, international development, el niufo event\n"
     ]
    },
    {
     "name": "stderr",
     "output_type": "stream",
     "text": [
      "INFO:elastic_transport.transport:POST http://localhost:9200/*/_search [status:200 duration:0.113s]\n"
     ]
    },
    {
     "name": "stdout",
     "output_type": "stream",
     "text": [
      "['international event', 'media', 'social networks', 'hosting international event']\n",
      "international event, media, social networks, hosting international event, international development, el niufo event\n"
     ]
    },
    {
     "name": "stderr",
     "output_type": "stream",
     "text": [
      "INFO:elastic_transport.transport:POST http://localhost:9200/*/_search [status:200 duration:0.087s]\n"
     ]
    },
    {
     "name": "stdout",
     "output_type": "stream",
     "text": [
      "['deep economic recession', 'richest nations', 'smooth event', 'lagged richest nations']\n",
      "deep economic recession, richest nations, smooth event, lagged richest nations, international development, el niufo event\n"
     ]
    },
    {
     "name": "stderr",
     "output_type": "stream",
     "text": [
      "INFO:elastic_transport.transport:POST http://localhost:9200/*/_search [status:200 duration:0.146s]\n"
     ]
    },
    {
     "name": "stdout",
     "output_type": "stream",
     "text": [
      "['unrealistic unadjusted firstworld standards', 'rio games', 'impeccable world cup', 'rio games doomed']\n",
      "unrealistic unadjusted firstworld standards, rio games, impeccable world cup, rio games doomed, international development, el niufo event\n",
      "t3_2lthip\n",
      "Causal Concept >>  creation of the week semester plan Topic >>  None\n",
      "['black culture awareness week', 'black history month', 'university', 'week black culture']\n",
      "black culture awareness week, black history month, university, week black culture, creation of the week semester plan\n"
     ]
    },
    {
     "name": "stderr",
     "output_type": "stream",
     "text": [
      "INFO:elastic_transport.transport:POST http://localhost:9200/*/_search [status:200 duration:0.199s]\n",
      "INFO:elastic_transport.transport:POST http://localhost:9200/*/_search [status:200 duration:0.075s]\n"
     ]
    },
    {
     "name": "stdout",
     "output_type": "stream",
     "text": [
      "['veterans week', 'veterans day', 'week', 'veterans day week']\n",
      "veterans week, veterans day, week, veterans day week, creation of the week semester plan\n"
     ]
    },
    {
     "name": "stderr",
     "output_type": "stream",
     "text": [
      "INFO:elastic_transport.transport:POST http://localhost:9200/*/_search [status:200 duration:0.073s]\n"
     ]
    },
    {
     "name": "stdout",
     "output_type": "stream",
     "text": [
      "['transsexual awareness week', 'week', 'year', 'transsexual awareness week']\n",
      "transsexual awareness week, week, year, transsexual awareness week, creation of the week semester plan\n"
     ]
    },
    {
     "name": "stderr",
     "output_type": "stream",
     "text": [
      "INFO:elastic_transport.transport:POST http://localhost:9200/*/_search [status:200 duration:0.154s]\n"
     ]
    },
    {
     "name": "stdout",
     "output_type": "stream",
     "text": [
      "['black culture week lgbt week', 'transsexual week', 'campus', 'liberal college campuses']\n",
      "black culture week lgbt week, transsexual week, campus, liberal college campuses, creation of the week semester plan\n"
     ]
    },
    {
     "name": "stderr",
     "output_type": "stream",
     "text": [
      "INFO:elastic_transport.transport:POST http://localhost:9200/*/_search [status:200 duration:0.065s]\n"
     ]
    },
    {
     "name": "stdout",
     "output_type": "stream",
     "text": [
      "['gay rights trans', 'other ethnicities', 'cultures', 'gay rights trans']\n",
      "gay rights trans, other ethnicities, cultures, gay rights trans, creation of the week semester plan\n",
      "t3_2bbbrd\n",
      "Causal Concept >>  None Topic >>  cheerleading\n"
     ]
    },
    {
     "name": "stderr",
     "output_type": "stream",
     "text": [
      "INFO:elastic_transport.transport:POST http://localhost:9200/*/_search [status:200 duration:0.014s]\n"
     ]
    },
    {
     "name": "stdout",
     "output_type": "stream",
     "text": [
      "['view', 'thoughts', 'way', 'devalue cheerleading way']\n",
      "view, thoughts, way, devalue cheerleading way, cheerleading\n"
     ]
    },
    {
     "name": "stderr",
     "output_type": "stream",
     "text": [
      "INFO:elastic_transport.transport:POST http://localhost:9200/*/_search [status:200 duration:0.027s]\n"
     ]
    },
    {
     "name": "stdout",
     "output_type": "stream",
     "text": [
      "['cheerleading', 'sport', 'competitions', 'cheerleading']\n",
      "cheerleading, sport, competitions, cheerleading, cheerleading\n"
     ]
    },
    {
     "name": "stderr",
     "output_type": "stream",
     "text": [
      "INFO:elastic_transport.transport:POST http://localhost:9200/*/_search [status:200 duration:0.030s]\n"
     ]
    },
    {
     "name": "stdout",
     "output_type": "stream",
     "text": [
      "['pejorative assertion', 'pushback', 'past', 'pejorative assertion experienced']\n",
      "pejorative assertion, pushback, past, pejorative assertion experienced, cheerleading\n"
     ]
    },
    {
     "name": "stderr",
     "output_type": "stream",
     "text": [
      "INFO:elastic_transport.transport:POST http://localhost:9200/*/_search [status:200 duration:0.036s]\n"
     ]
    },
    {
     "name": "stdout",
     "output_type": "stream",
     "text": [
      "['olympic definition', 'sport', 'dont subscribe olympic']\n",
      "olympic definition, sport, dont subscribe olympic, cheerleading\n"
     ]
    },
    {
     "name": "stderr",
     "output_type": "stream",
     "text": [
      "INFO:elastic_transport.transport:POST http://localhost:9200/*/_search [status:200 duration:0.051s]\n"
     ]
    },
    {
     "name": "stdout",
     "output_type": "stream",
     "text": [
      "['objective means', 'sport', 'view', 'won objective means']\n",
      "objective means, sport, view, won objective means, cheerleading\n",
      "t3_2bbbrd\n",
      "Causal Concept >>  None Topic >>  cheerleading\n"
     ]
    },
    {
     "name": "stderr",
     "output_type": "stream",
     "text": [
      "INFO:elastic_transport.transport:POST http://localhost:9200/*/_search [status:200 duration:0.029s]\n"
     ]
    },
    {
     "name": "stdout",
     "output_type": "stream",
     "text": [
      "['view', 'thoughts', 'way', 'devalue cheerleading way']\n",
      "view, thoughts, way, devalue cheerleading way, cheerleading\n"
     ]
    },
    {
     "name": "stderr",
     "output_type": "stream",
     "text": [
      "INFO:elastic_transport.transport:POST http://localhost:9200/*/_search [status:200 duration:0.006s]\n"
     ]
    },
    {
     "name": "stdout",
     "output_type": "stream",
     "text": [
      "['cheerleading', 'sport', 'competitions', 'cheerleading']\n",
      "cheerleading, sport, competitions, cheerleading, cheerleading\n"
     ]
    },
    {
     "name": "stderr",
     "output_type": "stream",
     "text": [
      "INFO:elastic_transport.transport:POST http://localhost:9200/*/_search [status:200 duration:0.009s]\n"
     ]
    },
    {
     "name": "stdout",
     "output_type": "stream",
     "text": [
      "['pejorative assertion', 'pushback', 'past', 'pejorative assertion experienced']\n",
      "pejorative assertion, pushback, past, pejorative assertion experienced, cheerleading\n"
     ]
    },
    {
     "name": "stderr",
     "output_type": "stream",
     "text": [
      "INFO:elastic_transport.transport:POST http://localhost:9200/*/_search [status:200 duration:0.016s]\n"
     ]
    },
    {
     "name": "stdout",
     "output_type": "stream",
     "text": [
      "['olympic definition', 'sport', 'dont subscribe olympic']\n",
      "olympic definition, sport, dont subscribe olympic, cheerleading\n"
     ]
    },
    {
     "name": "stderr",
     "output_type": "stream",
     "text": [
      "INFO:elastic_transport.transport:POST http://localhost:9200/*/_search [status:200 duration:0.035s]\n"
     ]
    },
    {
     "name": "stdout",
     "output_type": "stream",
     "text": [
      "['objective means', 'sport', 'view', 'won objective means']\n",
      "objective means, sport, view, won objective means, cheerleading\n",
      "t3_29dcy7\n",
      "Causal Concept >>  None Topic >>  heritability of iq\n"
     ]
    },
    {
     "name": "stderr",
     "output_type": "stream",
     "text": [
      "INFO:elastic_transport.transport:POST http://localhost:9200/*/_search [status:200 duration:0.024s]\n"
     ]
    },
    {
     "name": "stdout",
     "output_type": "stream",
     "text": [
      "['racial iq gap', 'bell curve', 'prominent races', 'book racial iq']\n",
      "racial iq gap, bell curve, prominent races, book racial iq, heritability of iq\n"
     ]
    },
    {
     "name": "stderr",
     "output_type": "stream",
     "text": [
      "INFO:elastic_transport.transport:POST http://localhost:9200/*/_search [status:200 duration:0.061s]\n"
     ]
    },
    {
     "name": "stdout",
     "output_type": "stream",
     "text": [
      "['murray', 'subsequent books', 'data', 'murray supporting data']\n",
      "murray, subsequent books, data, murray supporting data, heritability of iq\n"
     ]
    },
    {
     "name": "stderr",
     "output_type": "stream",
     "text": [
      "INFO:elastic_transport.transport:POST http://localhost:9200/*/_search [status:200 duration:0.042s]\n"
     ]
    },
    {
     "name": "stdout",
     "output_type": "stream",
     "text": [
      "['minnesota transracial adoption studies', 'iq test', 'white children', 'minnesota transracial adoption']\n",
      "minnesota transracial adoption studies, iq test, white children, minnesota transracial adoption, heritability of iq\n"
     ]
    },
    {
     "name": "stderr",
     "output_type": "stream",
     "text": [
      "INFO:elastic_transport.transport:POST http://localhost:9200/*/_search [status:200 duration:0.031s]\n"
     ]
    },
    {
     "name": "stdout",
     "output_type": "stream",
     "text": [
      "['iq', 'mixed children wether', 'iq hereditary']\n",
      "iq, mixed children wether, iq hereditary, heritability of iq\n",
      "t3_29dcy7\n",
      "Causal Concept >>  None Topic >>  heritability of iq\n"
     ]
    },
    {
     "name": "stderr",
     "output_type": "stream",
     "text": [
      "INFO:elastic_transport.transport:POST http://localhost:9200/*/_search [status:200 duration:0.017s]\n"
     ]
    },
    {
     "name": "stdout",
     "output_type": "stream",
     "text": [
      "['racial iq gap', 'bell curve', 'prominent races', 'book racial iq']\n",
      "racial iq gap, bell curve, prominent races, book racial iq, heritability of iq\n"
     ]
    },
    {
     "name": "stderr",
     "output_type": "stream",
     "text": [
      "INFO:elastic_transport.transport:POST http://localhost:9200/*/_search [status:200 duration:0.039s]\n"
     ]
    },
    {
     "name": "stdout",
     "output_type": "stream",
     "text": [
      "['murray', 'subsequent books', 'data', 'murray supporting data']\n",
      "murray, subsequent books, data, murray supporting data, heritability of iq\n"
     ]
    },
    {
     "name": "stderr",
     "output_type": "stream",
     "text": [
      "INFO:elastic_transport.transport:POST http://localhost:9200/*/_search [status:200 duration:0.039s]\n"
     ]
    },
    {
     "name": "stdout",
     "output_type": "stream",
     "text": [
      "['minnesota transracial adoption studies', 'iq test', 'white children', 'minnesota transracial adoption']\n",
      "minnesota transracial adoption studies, iq test, white children, minnesota transracial adoption, heritability of iq\n"
     ]
    },
    {
     "name": "stderr",
     "output_type": "stream",
     "text": [
      "INFO:elastic_transport.transport:POST http://localhost:9200/*/_search [status:200 duration:0.019s]\n"
     ]
    },
    {
     "name": "stdout",
     "output_type": "stream",
     "text": [
      "['iq', 'mixed children wether', 'iq hereditary']\n",
      "iq, mixed children wether, iq hereditary, heritability of iq\n",
      "t3_3pj95y\n",
      "Causal Concept >>  None Topic >>  right to silence\n"
     ]
    },
    {
     "name": "stderr",
     "output_type": "stream",
     "text": [
      "INFO:elastic_transport.transport:POST http://localhost:9200/*/_search [status:200 duration:0.088s]\n"
     ]
    },
    {
     "name": "stdout",
     "output_type": "stream",
     "text": [
      "['words', 'ideas', 'understand words important']\n",
      "words, ideas, understand words important, right to silence\n"
     ]
    },
    {
     "name": "stderr",
     "output_type": "stream",
     "text": [
      "INFO:elastic_transport.transport:POST http://localhost:9200/*/_search [status:200 duration:0.036s]\n"
     ]
    },
    {
     "name": "stdout",
     "output_type": "stream",
     "text": [
      "['racialreligious bigotry', 'hateful ideas', 'suggestion', 'ideas racialreligious bigotry']\n",
      "racialreligious bigotry, hateful ideas, suggestion, ideas racialreligious bigotry, right to silence\n"
     ]
    },
    {
     "name": "stderr",
     "output_type": "stream",
     "text": [
      "INFO:elastic_transport.transport:POST http://localhost:9200/*/_search [status:200 duration:0.056s]\n"
     ]
    },
    {
     "name": "stdout",
     "output_type": "stream",
     "text": [
      "['prolife supporters', 'antigay rights protesters', 'radical feminists', 'agree prolife supporters']\n",
      "prolife supporters, antigay rights protesters, radical feminists, agree prolife supporters, right to silence\n"
     ]
    },
    {
     "name": "stderr",
     "output_type": "stream",
     "text": [
      "INFO:elastic_transport.transport:POST http://localhost:9200/*/_search [status:200 duration:0.096s]\n"
     ]
    },
    {
     "name": "stdout",
     "output_type": "stream",
     "text": [
      "['same card racists antisemites', 'neonazis', 'public', 'card racists antisemites']\n",
      "same card racists antisemites, neonazis, public, card racists antisemites, right to silence\n"
     ]
    },
    {
     "name": "stderr",
     "output_type": "stream",
     "text": [
      "INFO:elastic_transport.transport:POST http://localhost:9200/*/_search [status:200 duration:0.089s]\n"
     ]
    },
    {
     "name": "stdout",
     "output_type": "stream",
     "text": [
      "['crowded theatre', 'immediate harm', 'exceptions', 'theatre exceptions']\n",
      "crowded theatre, immediate harm, exceptions, theatre exceptions, right to silence\n",
      "t3_2teulf\n",
      "Causal Concept >>  appoinment of urdu medium teacher though no urdu medium students in the school Topic >>  None\n"
     ]
    },
    {
     "name": "stderr",
     "output_type": "stream",
     "text": [
      "INFO:elastic_transport.transport:POST http://localhost:9200/*/_search [status:200 duration:0.136s]\n"
     ]
    },
    {
     "name": "stdout",
     "output_type": "stream",
     "text": [
      "['average english speaker', 'educators', 'accents', 'accents dont affect']\n",
      "average english speaker, educators, accents, accents dont affect, appoinment of urdu medium teacher though no urdu medium students in the school\n"
     ]
    },
    {
     "name": "stderr",
     "output_type": "stream",
     "text": [
      "INFO:elastic_transport.transport:POST http://localhost:9200/*/_search [status:200 duration:0.158s]\n"
     ]
    },
    {
     "name": "stdout",
     "output_type": "stream",
     "text": [
      "['math professors', 'professor', 'money', 'money invested professor']\n",
      "math professors, professor, money, money invested professor, appoinment of urdu medium teacher though no urdu medium students in the school\n"
     ]
    },
    {
     "name": "stderr",
     "output_type": "stream",
     "text": [
      "INFO:elastic_transport.transport:POST http://localhost:9200/*/_search [status:200 duration:0.175s]\n"
     ]
    },
    {
     "name": "stdout",
     "output_type": "stream",
     "text": [
      "['thick indian accent', 'science professor', 'time someone', 'professor spoke indian']\n",
      "thick indian accent, science professor, time someone, professor spoke indian, appoinment of urdu medium teacher though no urdu medium students in the school\n"
     ]
    },
    {
     "name": "stderr",
     "output_type": "stream",
     "text": [
      "INFO:elastic_transport.transport:POST http://localhost:9200/*/_search [status:200 duration:0.172s]\n"
     ]
    },
    {
     "name": "stdout",
     "output_type": "stream",
     "text": [
      "['math professor', 'certain mathematical terms', 'english', 'math professor little']\n",
      "math professor, certain mathematical terms, english, math professor little, appoinment of urdu medium teacher though no urdu medium students in the school\n"
     ]
    },
    {
     "name": "stderr",
     "output_type": "stream",
     "text": [
      "INFO:elastic_transport.transport:POST http://localhost:9200/*/_search [status:200 duration:0.145s]\n"
     ]
    },
    {
     "name": "stdout",
     "output_type": "stream",
     "text": [
      "['immigrants', 'indian one', 'nation', 'understand nation immigrants']\n",
      "immigrants, indian one, nation, understand nation immigrants, appoinment of urdu medium teacher though no urdu medium students in the school\n",
      "t3_6a7jka\n",
      "Causal Concept >>  hereditary spherocytosis Topic >>  supranational union\n"
     ]
    },
    {
     "name": "stderr",
     "output_type": "stream",
     "text": [
      "INFO:elastic_transport.transport:POST http://localhost:9200/*/_search [status:200 duration:0.043s]\n"
     ]
    },
    {
     "name": "stdout",
     "output_type": "stream",
     "text": [
      "['union', 'squib', 'significant likelihood', 'assuming union']\n",
      "union, squib, significant likelihood, assuming union, supranational union, hereditary spherocytosis\n"
     ]
    },
    {
     "name": "stderr",
     "output_type": "stream",
     "text": [
      "INFO:elastic_transport.transport:POST http://localhost:9200/*/_search [status:200 duration:0.027s]\n"
     ]
    },
    {
     "name": "stdout",
     "output_type": "stream",
     "text": [
      "['squib', 'incest', 'wizard gene', 'squib child muggle']\n",
      "squib, incest, wizard gene, squib child muggle, supranational union, hereditary spherocytosis\n"
     ]
    },
    {
     "name": "stderr",
     "output_type": "stream",
     "text": [
      "INFO:elastic_transport.transport:POST http://localhost:9200/*/_search [status:200 duration:0.023s]\n"
     ]
    },
    {
     "name": "stdout",
     "output_type": "stream",
     "text": [
      "['squib', 'wizard', 'serious birth defect', 'wizard squib birth']\n",
      "squib, wizard, serious birth defect, wizard squib birth, supranational union, hereditary spherocytosis\n"
     ]
    },
    {
     "name": "stderr",
     "output_type": "stream",
     "text": [
      "INFO:elastic_transport.transport:POST http://localhost:9200/*/_search [status:200 duration:0.025s]\n"
     ]
    },
    {
     "name": "stdout",
     "output_type": "stream",
     "text": [
      "['wizards', 'magical world', 'immense benefits', 'wizards live magical']\n",
      "wizards, magical world, immense benefits, wizards live magical, supranational union, hereditary spherocytosis\n"
     ]
    },
    {
     "name": "stderr",
     "output_type": "stream",
     "text": [
      "INFO:elastic_transport.transport:POST http://localhost:9200/*/_search [status:200 duration:0.025s]\n"
     ]
    },
    {
     "name": "stdout",
     "output_type": "stream",
     "text": [
      "['squib', 'benefits', 'joy', 'squib aware benefits']\n",
      "squib, benefits, joy, squib aware benefits, supranational union, hereditary spherocytosis\n",
      "t3_6a7jka\n",
      "Causal Concept >>  hereditary spherocytosis Topic >>  supranational union\n"
     ]
    },
    {
     "name": "stderr",
     "output_type": "stream",
     "text": [
      "INFO:elastic_transport.transport:POST http://localhost:9200/*/_search [status:200 duration:0.035s]\n"
     ]
    },
    {
     "name": "stdout",
     "output_type": "stream",
     "text": [
      "['union', 'squib', 'significant likelihood', 'assuming union']\n",
      "union, squib, significant likelihood, assuming union, supranational union, hereditary spherocytosis\n"
     ]
    },
    {
     "name": "stderr",
     "output_type": "stream",
     "text": [
      "INFO:elastic_transport.transport:POST http://localhost:9200/*/_search [status:200 duration:0.014s]\n"
     ]
    },
    {
     "name": "stdout",
     "output_type": "stream",
     "text": [
      "['squib', 'incest', 'wizard gene', 'squib child muggle']\n",
      "squib, incest, wizard gene, squib child muggle, supranational union, hereditary spherocytosis\n"
     ]
    },
    {
     "name": "stderr",
     "output_type": "stream",
     "text": [
      "INFO:elastic_transport.transport:POST http://localhost:9200/*/_search [status:200 duration:0.038s]\n"
     ]
    },
    {
     "name": "stdout",
     "output_type": "stream",
     "text": [
      "['squib', 'wizard', 'serious birth defect', 'wizard squib birth']\n",
      "squib, wizard, serious birth defect, wizard squib birth, supranational union, hereditary spherocytosis\n"
     ]
    },
    {
     "name": "stderr",
     "output_type": "stream",
     "text": [
      "INFO:elastic_transport.transport:POST http://localhost:9200/*/_search [status:200 duration:0.042s]\n"
     ]
    },
    {
     "name": "stdout",
     "output_type": "stream",
     "text": [
      "['wizards', 'magical world', 'immense benefits', 'wizards live magical']\n",
      "wizards, magical world, immense benefits, wizards live magical, supranational union, hereditary spherocytosis\n"
     ]
    },
    {
     "name": "stderr",
     "output_type": "stream",
     "text": [
      "INFO:elastic_transport.transport:POST http://localhost:9200/*/_search [status:200 duration:0.042s]\n"
     ]
    },
    {
     "name": "stdout",
     "output_type": "stream",
     "text": [
      "['squib', 'benefits', 'joy', 'squib aware benefits']\n",
      "squib, benefits, joy, squib aware benefits, supranational union, hereditary spherocytosis\n",
      "t3_6a7jka\n",
      "Causal Concept >>  hereditary spherocytosis Topic >>  supranational union\n"
     ]
    },
    {
     "name": "stderr",
     "output_type": "stream",
     "text": [
      "INFO:elastic_transport.transport:POST http://localhost:9200/*/_search [status:200 duration:0.048s]\n"
     ]
    },
    {
     "name": "stdout",
     "output_type": "stream",
     "text": [
      "['union', 'squib', 'significant likelihood', 'assuming union']\n",
      "union, squib, significant likelihood, assuming union, supranational union, hereditary spherocytosis\n"
     ]
    },
    {
     "name": "stderr",
     "output_type": "stream",
     "text": [
      "INFO:elastic_transport.transport:POST http://localhost:9200/*/_search [status:200 duration:0.021s]\n"
     ]
    },
    {
     "name": "stdout",
     "output_type": "stream",
     "text": [
      "['squib', 'incest', 'wizard gene', 'squib child muggle']\n",
      "squib, incest, wizard gene, squib child muggle, supranational union, hereditary spherocytosis\n"
     ]
    },
    {
     "name": "stderr",
     "output_type": "stream",
     "text": [
      "INFO:elastic_transport.transport:POST http://localhost:9200/*/_search [status:200 duration:0.026s]\n"
     ]
    },
    {
     "name": "stdout",
     "output_type": "stream",
     "text": [
      "['squib', 'wizard', 'serious birth defect', 'wizard squib birth']\n",
      "squib, wizard, serious birth defect, wizard squib birth, supranational union, hereditary spherocytosis\n"
     ]
    },
    {
     "name": "stderr",
     "output_type": "stream",
     "text": [
      "INFO:elastic_transport.transport:POST http://localhost:9200/*/_search [status:200 duration:0.032s]\n"
     ]
    },
    {
     "name": "stdout",
     "output_type": "stream",
     "text": [
      "['wizards', 'magical world', 'immense benefits', 'wizards live magical']\n",
      "wizards, magical world, immense benefits, wizards live magical, supranational union, hereditary spherocytosis\n"
     ]
    },
    {
     "name": "stderr",
     "output_type": "stream",
     "text": [
      "INFO:elastic_transport.transport:POST http://localhost:9200/*/_search [status:200 duration:0.036s]\n"
     ]
    },
    {
     "name": "stdout",
     "output_type": "stream",
     "text": [
      "['squib', 'benefits', 'joy', 'squib aware benefits']\n",
      "squib, benefits, joy, squib aware benefits, supranational union, hereditary spherocytosis\n",
      "t3_1gzgyi\n",
      "Causal Concept >>  None Topic >>  None\n"
     ]
    },
    {
     "name": "stderr",
     "output_type": "stream",
     "text": [
      "INFO:elastic_transport.transport:POST http://localhost:9200/*/_search [status:200 duration:0.063s]\n"
     ]
    },
    {
     "name": "stdout",
     "output_type": "stream",
     "text": [
      "['america', 'years', 'worth', 'turn im america']\n",
      "america, years, worth, turn im america\n"
     ]
    },
    {
     "name": "stderr",
     "output_type": "stream",
     "text": [
      "INFO:elastic_transport.transport:POST http://localhost:9200/*/_search [status:200 duration:0.032s]\n"
     ]
    },
    {
     "name": "stdout",
     "output_type": "stream",
     "text": [
      "['st birthday', 'thought', 'st birthday honest']\n",
      "st birthday, thought, st birthday honest\n"
     ]
    },
    {
     "name": "stderr",
     "output_type": "stream",
     "text": [
      "INFO:elastic_transport.transport:POST http://localhost:9200/*/_search [status:200 duration:0.065s]\n"
     ]
    },
    {
     "name": "stdout",
     "output_type": "stream",
     "text": [
      "['alcohol', 'stigma', 'friends', 'know celebrate friends']\n",
      "alcohol, stigma, friends, know celebrate friends\n"
     ]
    },
    {
     "name": "stderr",
     "output_type": "stream",
     "text": [
      "INFO:elastic_transport.transport:POST http://localhost:9200/*/_search [status:200 duration:0.047s]\n"
     ]
    },
    {
     "name": "stdout",
     "output_type": "stream",
     "text": [
      "['bunch', 'times', 'skip dont drink']\n",
      "bunch, times, skip dont drink\n"
     ]
    },
    {
     "name": "stderr",
     "output_type": "stream",
     "text": [
      "INFO:elastic_transport.transport:POST http://localhost:9200/*/_search [status:200 duration:0.042s]\n"
     ]
    },
    {
     "name": "stdout",
     "output_type": "stream",
     "text": [
      "['stuff', 'terrified stuff honest']\n",
      "stuff, terrified stuff honest\n",
      "t3_1gzgyi\n",
      "Causal Concept >>  None Topic >>  None\n"
     ]
    },
    {
     "name": "stderr",
     "output_type": "stream",
     "text": [
      "INFO:elastic_transport.transport:POST http://localhost:9200/*/_search [status:200 duration:0.045s]\n"
     ]
    },
    {
     "name": "stdout",
     "output_type": "stream",
     "text": [
      "['america', 'years', 'worth', 'turn im america']\n",
      "america, years, worth, turn im america\n"
     ]
    },
    {
     "name": "stderr",
     "output_type": "stream",
     "text": [
      "INFO:elastic_transport.transport:POST http://localhost:9200/*/_search [status:200 duration:0.035s]\n"
     ]
    },
    {
     "name": "stdout",
     "output_type": "stream",
     "text": [
      "['st birthday', 'thought', 'st birthday honest']\n",
      "st birthday, thought, st birthday honest\n"
     ]
    },
    {
     "name": "stderr",
     "output_type": "stream",
     "text": [
      "INFO:elastic_transport.transport:POST http://localhost:9200/*/_search [status:200 duration:0.024s]\n"
     ]
    },
    {
     "name": "stdout",
     "output_type": "stream",
     "text": [
      "['alcohol', 'stigma', 'friends', 'know celebrate friends']\n",
      "alcohol, stigma, friends, know celebrate friends\n"
     ]
    },
    {
     "name": "stderr",
     "output_type": "stream",
     "text": [
      "INFO:elastic_transport.transport:POST http://localhost:9200/*/_search [status:200 duration:0.016s]\n"
     ]
    },
    {
     "name": "stdout",
     "output_type": "stream",
     "text": [
      "['bunch', 'times', 'skip dont drink']\n",
      "bunch, times, skip dont drink\n"
     ]
    },
    {
     "name": "stderr",
     "output_type": "stream",
     "text": [
      "INFO:elastic_transport.transport:POST http://localhost:9200/*/_search [status:200 duration:0.009s]\n"
     ]
    },
    {
     "name": "stdout",
     "output_type": "stream",
     "text": [
      "['stuff', 'terrified stuff honest']\n",
      "stuff, terrified stuff honest\n",
      "t3_6246xa\n",
      "Causal Concept >>  religious conflicts Topic >>  crusades\n"
     ]
    },
    {
     "name": "stderr",
     "output_type": "stream",
     "text": [
      "INFO:elastic_transport.transport:POST http://localhost:9200/*/_search [status:200 duration:0.072s]\n"
     ]
    },
    {
     "name": "stdout",
     "output_type": "stream",
     "text": [
      "['religion', 'step', 'world', 'religion world negative']\n",
      "religion, step, world, religion world negative, crusades, religious conflicts\n"
     ]
    },
    {
     "name": "stderr",
     "output_type": "stream",
     "text": [
      "INFO:elastic_transport.transport:POST http://localhost:9200/*/_search [status:200 duration:0.059s]\n"
     ]
    },
    {
     "name": "stdout",
     "output_type": "stream",
     "text": [
      "['many wars', 'religion', 'count wars started']\n",
      "many wars, religion, count wars started, crusades, religious conflicts\n"
     ]
    },
    {
     "name": "stderr",
     "output_type": "stream",
     "text": [
      "INFO:elastic_transport.transport:POST http://localhost:9200/*/_search [status:200 duration:0.067s]\n"
     ]
    },
    {
     "name": "stdout",
     "output_type": "stream",
     "text": [
      "['crusades', 'religious warfare', 'period', 'crusades period time']\n",
      "crusades, religious warfare, period, crusades period time, crusades, religious conflicts\n"
     ]
    },
    {
     "name": "stderr",
     "output_type": "stream",
     "text": [
      "INFO:elastic_transport.transport:POST http://localhost:9200/*/_search [status:200 duration:0.093s]\n"
     ]
    },
    {
     "name": "stdout",
     "output_type": "stream",
     "text": [
      "['more bloodshed', 'religion', 'spread idea', 'religion caused people']\n",
      "more bloodshed, religion, spread idea, religion caused people, crusades, religious conflicts\n"
     ]
    },
    {
     "name": "stderr",
     "output_type": "stream",
     "text": [
      "INFO:elastic_transport.transport:POST http://localhost:9200/*/_search [status:200 duration:0.134s]\n"
     ]
    },
    {
     "name": "stdout",
     "output_type": "stream",
     "text": [
      "['modern day', 'issues', 'new plethora', 'modern day new']\n",
      "modern day, issues, new plethora, modern day new, crusades, religious conflicts\n",
      "t3_6246xa\n",
      "Causal Concept >>  religious conflicts Topic >>  crusades\n"
     ]
    },
    {
     "name": "stderr",
     "output_type": "stream",
     "text": [
      "INFO:elastic_transport.transport:POST http://localhost:9200/*/_search [status:200 duration:0.053s]\n"
     ]
    },
    {
     "name": "stdout",
     "output_type": "stream",
     "text": [
      "['religion', 'step', 'world', 'religion world negative']\n",
      "religion, step, world, religion world negative, crusades, religious conflicts\n"
     ]
    },
    {
     "name": "stderr",
     "output_type": "stream",
     "text": [
      "INFO:elastic_transport.transport:POST http://localhost:9200/*/_search [status:200 duration:0.042s]\n"
     ]
    },
    {
     "name": "stdout",
     "output_type": "stream",
     "text": [
      "['many wars', 'religion', 'count wars started']\n",
      "many wars, religion, count wars started, crusades, religious conflicts\n"
     ]
    },
    {
     "name": "stderr",
     "output_type": "stream",
     "text": [
      "INFO:elastic_transport.transport:POST http://localhost:9200/*/_search [status:200 duration:0.052s]\n"
     ]
    },
    {
     "name": "stdout",
     "output_type": "stream",
     "text": [
      "['crusades', 'religious warfare', 'period', 'crusades period time']\n",
      "crusades, religious warfare, period, crusades period time, crusades, religious conflicts\n"
     ]
    },
    {
     "name": "stderr",
     "output_type": "stream",
     "text": [
      "INFO:elastic_transport.transport:POST http://localhost:9200/*/_search [status:200 duration:0.104s]\n"
     ]
    },
    {
     "name": "stdout",
     "output_type": "stream",
     "text": [
      "['more bloodshed', 'religion', 'spread idea', 'religion caused people']\n",
      "more bloodshed, religion, spread idea, religion caused people, crusades, religious conflicts\n"
     ]
    },
    {
     "name": "stderr",
     "output_type": "stream",
     "text": [
      "INFO:elastic_transport.transport:POST http://localhost:9200/*/_search [status:200 duration:0.126s]\n"
     ]
    },
    {
     "name": "stdout",
     "output_type": "stream",
     "text": [
      "['modern day', 'issues', 'new plethora', 'modern day new']\n",
      "modern day, issues, new plethora, modern day new, crusades, religious conflicts\n",
      "t3_3ertdy\n",
      "Causal Concept >>  None Topic >>  None\n"
     ]
    },
    {
     "name": "stderr",
     "output_type": "stream",
     "text": [
      "INFO:elastic_transport.transport:POST http://localhost:9200/*/_search [status:200 duration:0.030s]\n"
     ]
    },
    {
     "name": "stdout",
     "output_type": "stream",
     "text": [
      "['younger readers', 'especially younger readers']\n",
      "younger readers, especially younger readers\n"
     ]
    },
    {
     "name": "stderr",
     "output_type": "stream",
     "text": [
      "INFO:elastic_transport.transport:POST http://localhost:9200/*/_search [status:200 duration:0.150s]\n"
     ]
    },
    {
     "name": "stdout",
     "output_type": "stream",
     "text": [
      "['sense', 'more people', 'say preposterous just']\n",
      "sense, more people, say preposterous just\n"
     ]
    },
    {
     "name": "stderr",
     "output_type": "stream",
     "text": [
      "INFO:elastic_transport.transport:POST http://localhost:9200/*/_search [status:200 duration:0.029s]\n"
     ]
    },
    {
     "name": "stdout",
     "output_type": "stream",
     "text": [
      "['fancy language', 'smart fancy language']\n",
      "fancy language, smart fancy language\n"
     ]
    },
    {
     "name": "stderr",
     "output_type": "stream",
     "text": [
      "INFO:elastic_transport.transport:POST http://localhost:9200/*/_search [status:200 duration:0.026s]\n"
     ]
    },
    {
     "name": "stdout",
     "output_type": "stream",
     "text": [
      "['other domainspecific words', 'exceptions', 'diseases', 'diseases domainspecific words']\n",
      "other domainspecific words, exceptions, diseases, diseases domainspecific words\n"
     ]
    },
    {
     "name": "stderr",
     "output_type": "stream",
     "text": [
      "INFO:elastic_transport.transport:POST http://localhost:9200/*/_search [status:200 duration:0.039s]\n"
     ]
    },
    {
     "name": "stdout",
     "output_type": "stream",
     "text": [
      "['writing', 'writings', 'elaboration', 'teachers encourage writing']\n",
      "writing, writings, elaboration, teachers encourage writing\n",
      "t3_3ertdy\n",
      "Causal Concept >>  None Topic >>  None\n"
     ]
    },
    {
     "name": "stderr",
     "output_type": "stream",
     "text": [
      "INFO:elastic_transport.transport:POST http://localhost:9200/*/_search [status:200 duration:0.026s]\n"
     ]
    },
    {
     "name": "stdout",
     "output_type": "stream",
     "text": [
      "['younger readers', 'especially younger readers']\n",
      "younger readers, especially younger readers\n"
     ]
    },
    {
     "name": "stderr",
     "output_type": "stream",
     "text": [
      "INFO:elastic_transport.transport:POST http://localhost:9200/*/_search [status:200 duration:0.079s]\n"
     ]
    },
    {
     "name": "stdout",
     "output_type": "stream",
     "text": [
      "['sense', 'more people', 'say preposterous just']\n",
      "sense, more people, say preposterous just\n"
     ]
    },
    {
     "name": "stderr",
     "output_type": "stream",
     "text": [
      "INFO:elastic_transport.transport:POST http://localhost:9200/*/_search [status:200 duration:0.012s]\n"
     ]
    },
    {
     "name": "stdout",
     "output_type": "stream",
     "text": [
      "['fancy language', 'smart fancy language']\n",
      "fancy language, smart fancy language\n"
     ]
    },
    {
     "name": "stderr",
     "output_type": "stream",
     "text": [
      "INFO:elastic_transport.transport:POST http://localhost:9200/*/_search [status:200 duration:0.037s]\n"
     ]
    },
    {
     "name": "stdout",
     "output_type": "stream",
     "text": [
      "['other domainspecific words', 'exceptions', 'diseases', 'diseases domainspecific words']\n",
      "other domainspecific words, exceptions, diseases, diseases domainspecific words\n"
     ]
    },
    {
     "name": "stderr",
     "output_type": "stream",
     "text": [
      "INFO:elastic_transport.transport:POST http://localhost:9200/*/_search [status:200 duration:0.060s]\n"
     ]
    },
    {
     "name": "stdout",
     "output_type": "stream",
     "text": [
      "['writing', 'writings', 'elaboration', 'teachers encourage writing']\n",
      "writing, writings, elaboration, teachers encourage writing\n",
      "t3_2fw6dg\n",
      "Causal Concept >>  deliberate defaults Topic >>  None\n"
     ]
    },
    {
     "name": "stderr",
     "output_type": "stream",
     "text": [
      "INFO:elastic_transport.transport:POST http://localhost:9200/*/_search [status:200 duration:0.024s]\n"
     ]
    },
    {
     "name": "stdout",
     "output_type": "stream",
     "text": [
      "['determinism compatibilism libertarianism', 'human actions', 'control', 'determinism']\n",
      "determinism compatibilism libertarianism, human actions, control, determinism, deliberate defaults\n"
     ]
    },
    {
     "name": "stderr",
     "output_type": "stream",
     "text": [
      "INFO:elastic_transport.transport:POST http://localhost:9200/*/_search [status:200 duration:0.086s]\n"
     ]
    },
    {
     "name": "stdout",
     "output_type": "stream",
     "text": [
      "['article', 'control', 'alternative answer', 'ive looked article']\n",
      "article, control, alternative answer, ive looked article, deliberate defaults\n"
     ]
    },
    {
     "name": "stderr",
     "output_type": "stream",
     "text": [
      "INFO:elastic_transport.transport:POST http://localhost:9200/*/_search [status:200 duration:0.024s]\n"
     ]
    },
    {
     "name": "stdout",
     "output_type": "stream",
     "text": [
      "['determinism', 'indeterminism randomness', 'fatalism', 'difference determinism fatalism']\n",
      "determinism, indeterminism randomness, fatalism, difference determinism fatalism, deliberate defaults\n",
      "t3_6yp87t\n",
      "Causal Concept >>  consumption patterns Topic >>  consumption\n"
     ]
    },
    {
     "name": "stderr",
     "output_type": "stream",
     "text": [
      "INFO:elastic_transport.transport:POST http://localhost:9200/*/_search [status:200 duration:0.074s]\n"
     ]
    },
    {
     "name": "stdout",
     "output_type": "stream",
     "text": [
      "['freshman', 'college', 'unchangeable view', 'im freshman college']\n",
      "freshman, college, unchangeable view, im freshman college, consumption, consumption patterns\n"
     ]
    },
    {
     "name": "stderr",
     "output_type": "stream",
     "text": [
      "INFO:elastic_transport.transport:POST http://localhost:9200/*/_search [status:200 duration:0.026s]\n"
     ]
    },
    {
     "name": "stdout",
     "output_type": "stream",
     "text": [
      "['leftover money', 'college tuition', 'checks', 'tuition leftover money']\n",
      "leftover money, college tuition, checks, tuition leftover money, consumption, consumption patterns\n"
     ]
    },
    {
     "name": "stderr",
     "output_type": "stream",
     "text": [
      "INFO:elastic_transport.transport:POST http://localhost:9200/*/_search [status:200 duration:0.075s]\n"
     ]
    },
    {
     "name": "stdout",
     "output_type": "stream",
     "text": [
      "['money', 'water', 'more water', 'money like water']\n",
      "money, water, more water, money like water, consumption, consumption patterns\n"
     ]
    },
    {
     "name": "stderr",
     "output_type": "stream",
     "text": [
      "INFO:elastic_transport.transport:POST http://localhost:9200/*/_search [status:200 duration:0.033s]\n"
     ]
    },
    {
     "name": "stdout",
     "output_type": "stream",
     "text": [
      "['spending', 'food clothes', 'habit', 'tempted spend food']\n",
      "spending, food clothes, habit, tempted spend food, consumption, consumption patterns\n"
     ]
    },
    {
     "name": "stderr",
     "output_type": "stream",
     "text": [
      "INFO:elastic_transport.transport:POST http://localhost:9200/*/_search [status:200 duration:0.036s]\n"
     ]
    },
    {
     "name": "stdout",
     "output_type": "stream",
     "text": [
      "['spending habit', 'renewable source', 'money', 'view money differently']\n",
      "spending habit, renewable source, money, view money differently, consumption, consumption patterns\n",
      "t3_6yp87t\n",
      "Causal Concept >>  consumption patterns Topic >>  consumption\n"
     ]
    },
    {
     "name": "stderr",
     "output_type": "stream",
     "text": [
      "INFO:elastic_transport.transport:POST http://localhost:9200/*/_search [status:200 duration:0.037s]\n"
     ]
    },
    {
     "name": "stdout",
     "output_type": "stream",
     "text": [
      "['freshman', 'college', 'unchangeable view', 'im freshman college']\n",
      "freshman, college, unchangeable view, im freshman college, consumption, consumption patterns\n"
     ]
    },
    {
     "name": "stderr",
     "output_type": "stream",
     "text": [
      "INFO:elastic_transport.transport:POST http://localhost:9200/*/_search [status:200 duration:0.026s]\n"
     ]
    },
    {
     "name": "stdout",
     "output_type": "stream",
     "text": [
      "['leftover money', 'college tuition', 'checks', 'tuition leftover money']\n",
      "leftover money, college tuition, checks, tuition leftover money, consumption, consumption patterns\n"
     ]
    },
    {
     "name": "stderr",
     "output_type": "stream",
     "text": [
      "INFO:elastic_transport.transport:POST http://localhost:9200/*/_search [status:200 duration:0.059s]\n"
     ]
    },
    {
     "name": "stdout",
     "output_type": "stream",
     "text": [
      "['money', 'water', 'more water', 'money like water']\n",
      "money, water, more water, money like water, consumption, consumption patterns\n"
     ]
    },
    {
     "name": "stderr",
     "output_type": "stream",
     "text": [
      "INFO:elastic_transport.transport:POST http://localhost:9200/*/_search [status:200 duration:0.045s]\n"
     ]
    },
    {
     "name": "stdout",
     "output_type": "stream",
     "text": [
      "['spending', 'food clothes', 'habit', 'tempted spend food']\n",
      "spending, food clothes, habit, tempted spend food, consumption, consumption patterns\n"
     ]
    },
    {
     "name": "stderr",
     "output_type": "stream",
     "text": [
      "INFO:elastic_transport.transport:POST http://localhost:9200/*/_search [status:200 duration:0.068s]\n"
     ]
    },
    {
     "name": "stdout",
     "output_type": "stream",
     "text": [
      "['spending habit', 'renewable source', 'money', 'view money differently']\n",
      "spending habit, renewable source, money, view money differently, consumption, consumption patterns\n",
      "t3_5glutk\n",
      "Causal Concept >>  similarity of names Topic >>  conjoined twins\n"
     ]
    },
    {
     "name": "stderr",
     "output_type": "stream",
     "text": [
      "INFO:elastic_transport.transport:POST http://localhost:9200/*/_search [status:200 duration:0.109s]\n"
     ]
    },
    {
     "name": "stdout",
     "output_type": "stream",
     "text": [
      "['family names', 'surnames', 'reliable fair gender', 'family names marriage']\n",
      "family names, surnames, reliable fair gender, family names marriage, conjoined twins, similarity of names\n"
     ]
    },
    {
     "name": "stderr",
     "output_type": "stream",
     "text": [
      "INFO:elastic_transport.transport:POST http://localhost:9200/*/_search [status:200 duration:0.158s]\n"
     ]
    },
    {
     "name": "stdout",
     "output_type": "stream",
     "text": [
      "['conjugatedoublebarrel mr amp mrs jonesjohnson', 'double barrels', 'action mr jones amp mrs johnsonmatrilineal', 'double barrels']\n",
      "conjugatedoublebarrel mr amp mrs jonesjohnson, double barrels, action mr jones amp mrs johnsonmatrilineal, double barrels, conjoined twins, similarity of names\n"
     ]
    },
    {
     "name": "stderr",
     "output_type": "stream",
     "text": [
      "INFO:elastic_transport.transport:POST http://localhost:9200/*/_search [status:200 duration:0.072s]\n"
     ]
    },
    {
     "name": "stdout",
     "output_type": "stream",
     "text": [
      "['surnames', 'new surname', 'doublebarrelled name', 'overcomplicated longwinded surnames']\n",
      "surnames, new surname, doublebarrelled name, overcomplicated longwinded surnames, conjoined twins, similarity of names\n"
     ]
    },
    {
     "name": "stderr",
     "output_type": "stream",
     "text": [
      "INFO:elastic_transport.transport:POST http://localhost:9200/*/_search [status:200 duration:0.097s]\n"
     ]
    },
    {
     "name": "stdout",
     "output_type": "stream",
     "text": [
      "['patrilineal marriage', 'traditional weight', 'partners', 'weight patrilineal marriage']\n",
      "patrilineal marriage, traditional weight, partners, weight patrilineal marriage, conjoined twins, similarity of names\n",
      "t3_5glutk\n",
      "Causal Concept >>  similarity of names Topic >>  conjoined twins\n"
     ]
    },
    {
     "name": "stderr",
     "output_type": "stream",
     "text": [
      "INFO:elastic_transport.transport:POST http://localhost:9200/*/_search [status:200 duration:0.080s]\n"
     ]
    },
    {
     "name": "stdout",
     "output_type": "stream",
     "text": [
      "['family names', 'surnames', 'reliable fair gender', 'family names marriage']\n",
      "family names, surnames, reliable fair gender, family names marriage, conjoined twins, similarity of names\n"
     ]
    },
    {
     "name": "stderr",
     "output_type": "stream",
     "text": [
      "INFO:elastic_transport.transport:POST http://localhost:9200/*/_search [status:200 duration:0.069s]\n"
     ]
    },
    {
     "name": "stdout",
     "output_type": "stream",
     "text": [
      "['conjugatedoublebarrel mr amp mrs jonesjohnson', 'double barrels', 'action mr jones amp mrs johnsonmatrilineal', 'double barrels']\n",
      "conjugatedoublebarrel mr amp mrs jonesjohnson, double barrels, action mr jones amp mrs johnsonmatrilineal, double barrels, conjoined twins, similarity of names\n"
     ]
    },
    {
     "name": "stderr",
     "output_type": "stream",
     "text": [
      "INFO:elastic_transport.transport:POST http://localhost:9200/*/_search [status:200 duration:0.036s]\n"
     ]
    },
    {
     "name": "stdout",
     "output_type": "stream",
     "text": [
      "['surnames', 'new surname', 'doublebarrelled name', 'overcomplicated longwinded surnames']\n",
      "surnames, new surname, doublebarrelled name, overcomplicated longwinded surnames, conjoined twins, similarity of names\n"
     ]
    },
    {
     "name": "stderr",
     "output_type": "stream",
     "text": [
      "INFO:elastic_transport.transport:POST http://localhost:9200/*/_search [status:200 duration:0.048s]\n"
     ]
    },
    {
     "name": "stdout",
     "output_type": "stream",
     "text": [
      "['patrilineal marriage', 'traditional weight', 'partners', 'weight patrilineal marriage']\n",
      "patrilineal marriage, traditional weight, partners, weight patrilineal marriage, conjoined twins, similarity of names\n",
      "t3_5glutk\n",
      "Causal Concept >>  similarity of names Topic >>  conjoined twins\n"
     ]
    },
    {
     "name": "stderr",
     "output_type": "stream",
     "text": [
      "INFO:elastic_transport.transport:POST http://localhost:9200/*/_search [status:200 duration:0.061s]\n"
     ]
    },
    {
     "name": "stdout",
     "output_type": "stream",
     "text": [
      "['family names', 'surnames', 'reliable fair gender', 'family names marriage']\n",
      "family names, surnames, reliable fair gender, family names marriage, conjoined twins, similarity of names\n"
     ]
    },
    {
     "name": "stderr",
     "output_type": "stream",
     "text": [
      "INFO:elastic_transport.transport:POST http://localhost:9200/*/_search [status:200 duration:0.077s]\n"
     ]
    },
    {
     "name": "stdout",
     "output_type": "stream",
     "text": [
      "['conjugatedoublebarrel mr amp mrs jonesjohnson', 'double barrels', 'action mr jones amp mrs johnsonmatrilineal', 'double barrels']\n",
      "conjugatedoublebarrel mr amp mrs jonesjohnson, double barrels, action mr jones amp mrs johnsonmatrilineal, double barrels, conjoined twins, similarity of names\n"
     ]
    },
    {
     "name": "stderr",
     "output_type": "stream",
     "text": [
      "INFO:elastic_transport.transport:POST http://localhost:9200/*/_search [status:200 duration:0.028s]\n"
     ]
    },
    {
     "name": "stdout",
     "output_type": "stream",
     "text": [
      "['surnames', 'new surname', 'doublebarrelled name', 'overcomplicated longwinded surnames']\n",
      "surnames, new surname, doublebarrelled name, overcomplicated longwinded surnames, conjoined twins, similarity of names\n"
     ]
    },
    {
     "name": "stderr",
     "output_type": "stream",
     "text": [
      "INFO:elastic_transport.transport:POST http://localhost:9200/*/_search [status:200 duration:0.056s]\n"
     ]
    },
    {
     "name": "stdout",
     "output_type": "stream",
     "text": [
      "['patrilineal marriage', 'traditional weight', 'partners', 'weight patrilineal marriage']\n",
      "patrilineal marriage, traditional weight, partners, weight patrilineal marriage, conjoined twins, similarity of names\n",
      "t3_2ucr50\n",
      "Causal Concept >>  watches Topic >>  copwatch\n"
     ]
    },
    {
     "name": "stderr",
     "output_type": "stream",
     "text": [
      "INFO:elastic_transport.transport:POST http://localhost:9200/*/_search [status:200 duration:0.066s]\n"
     ]
    },
    {
     "name": "stdout",
     "output_type": "stream",
     "text": [
      "['watches', 'time', 'many years', 'watches served purpose']\n",
      "watches, time, many years, watches served purpose, copwatch, watches\n"
     ]
    },
    {
     "name": "stderr",
     "output_type": "stream",
     "text": [
      "INFO:elastic_transport.transport:POST http://localhost:9200/*/_search [status:200 duration:0.056s]\n"
     ]
    },
    {
     "name": "stdout",
     "output_type": "stream",
     "text": [
      "['time watches', 'cell phones', 'other personal devices', 'time watches functionally']\n",
      "time watches, cell phones, other personal devices, time watches functionally, copwatch, watches\n"
     ]
    },
    {
     "name": "stderr",
     "output_type": "stream",
     "text": [
      "INFO:elastic_transport.transport:POST http://localhost:9200/*/_search [status:200 duration:0.059s]\n"
     ]
    },
    {
     "name": "stdout",
     "output_type": "stream",
     "text": [
      "['only reason watches', 'fashion appeal', 'opinion', 'watches exist fashion']\n",
      "only reason watches, fashion appeal, opinion, watches exist fashion, copwatch, watches\n"
     ]
    },
    {
     "name": "stderr",
     "output_type": "stream",
     "text": [
      "INFO:elastic_transport.transport:POST http://localhost:9200/*/_search [status:200 duration:0.045s]\n"
     ]
    },
    {
     "name": "stdout",
     "output_type": "stream",
     "text": [
      "['boots cost', 'niche purpose', 'item', 'yeah boots cost']\n",
      "boots cost, niche purpose, item, yeah boots cost, copwatch, watches\n"
     ]
    },
    {
     "name": "stderr",
     "output_type": "stream",
     "text": [
      "INFO:elastic_transport.transport:POST http://localhost:9200/*/_search [status:200 duration:0.019s]\n"
     ]
    },
    {
     "name": "stdout",
     "output_type": "stream",
     "text": [
      "['functional purpose', 'item', 'dollars', 'item functional purpose']\n",
      "functional purpose, item, dollars, item functional purpose, copwatch, watches\n",
      "t3_2ucr50\n",
      "Causal Concept >>  watches Topic >>  copwatch\n"
     ]
    },
    {
     "name": "stderr",
     "output_type": "stream",
     "text": [
      "INFO:elastic_transport.transport:POST http://localhost:9200/*/_search [status:200 duration:0.060s]\n"
     ]
    },
    {
     "name": "stdout",
     "output_type": "stream",
     "text": [
      "['watches', 'time', 'many years', 'watches served purpose']\n",
      "watches, time, many years, watches served purpose, copwatch, watches\n"
     ]
    },
    {
     "name": "stderr",
     "output_type": "stream",
     "text": [
      "INFO:elastic_transport.transport:POST http://localhost:9200/*/_search [status:200 duration:0.037s]\n"
     ]
    },
    {
     "name": "stdout",
     "output_type": "stream",
     "text": [
      "['time watches', 'cell phones', 'other personal devices', 'time watches functionally']\n",
      "time watches, cell phones, other personal devices, time watches functionally, copwatch, watches\n"
     ]
    },
    {
     "name": "stderr",
     "output_type": "stream",
     "text": [
      "INFO:elastic_transport.transport:POST http://localhost:9200/*/_search [status:200 duration:0.031s]\n"
     ]
    },
    {
     "name": "stdout",
     "output_type": "stream",
     "text": [
      "['only reason watches', 'fashion appeal', 'opinion', 'watches exist fashion']\n",
      "only reason watches, fashion appeal, opinion, watches exist fashion, copwatch, watches\n"
     ]
    },
    {
     "name": "stderr",
     "output_type": "stream",
     "text": [
      "INFO:elastic_transport.transport:POST http://localhost:9200/*/_search [status:200 duration:0.026s]\n"
     ]
    },
    {
     "name": "stdout",
     "output_type": "stream",
     "text": [
      "['boots cost', 'niche purpose', 'item', 'yeah boots cost']\n",
      "boots cost, niche purpose, item, yeah boots cost, copwatch, watches\n"
     ]
    },
    {
     "name": "stderr",
     "output_type": "stream",
     "text": [
      "INFO:elastic_transport.transport:POST http://localhost:9200/*/_search [status:200 duration:0.038s]\n"
     ]
    },
    {
     "name": "stdout",
     "output_type": "stream",
     "text": [
      "['functional purpose', 'item', 'dollars', 'item functional purpose']\n",
      "functional purpose, item, dollars, item functional purpose, copwatch, watches\n",
      "t3_6sahi4\n",
      "Causal Concept >>  None Topic >>  None\n"
     ]
    },
    {
     "name": "stderr",
     "output_type": "stream",
     "text": [
      "INFO:elastic_transport.transport:POST http://localhost:9200/*/_search [status:200 duration:0.033s]\n"
     ]
    },
    {
     "name": "stdout",
     "output_type": "stream",
     "text": [
      "['hormones', 'memo', 'men', 'memo wasnt scientifically']\n",
      "hormones, memo, men, memo wasnt scientifically\n"
     ]
    },
    {
     "name": "stderr",
     "output_type": "stream",
     "text": [
      "INFO:elastic_transport.transport:POST http://localhost:9200/*/_search [status:200 duration:0.028s]\n"
     ]
    },
    {
     "name": "stdout",
     "output_type": "stream",
     "text": [
      "['rudeness', 'polite way', 'argument', 'argument phrased thoughtful']\n",
      "rudeness, polite way, argument, argument phrased thoughtful\n"
     ]
    },
    {
     "name": "stderr",
     "output_type": "stream",
     "text": [
      "INFO:elastic_transport.transport:POST http://localhost:9200/*/_search [status:200 duration:0.037s]\n"
     ]
    },
    {
     "name": "stdout",
     "output_type": "stream",
     "text": [
      "['diversity', 'same political beliefs', 'ideology', 'new vp diversity']\n",
      "diversity, same political beliefs, ideology, new vp diversity\n"
     ]
    },
    {
     "name": "stderr",
     "output_type": "stream",
     "text": [
      "INFO:elastic_transport.transport:POST http://localhost:9200/*/_search [status:200 duration:0.072s]\n"
     ]
    },
    {
     "name": "stdout",
     "output_type": "stream",
     "text": [
      "['conservative company', 'something', 'conservative company did']\n",
      "conservative company, something, conservative company did\n"
     ]
    },
    {
     "name": "stderr",
     "output_type": "stream",
     "text": [
      "INFO:elastic_transport.transport:POST http://localhost:9200/*/_search [status:200 duration:0.036s]\n"
     ]
    },
    {
     "name": "stdout",
     "output_type": "stream",
     "text": [
      "['workplace discrimination', 'different jurisdictions', 'employee', 'workplace discrimination occurring']\n",
      "workplace discrimination, different jurisdictions, employee, workplace discrimination occurring\n",
      "t3_70vii5\n",
      "Causal Concept >>  None Topic >>  None\n"
     ]
    },
    {
     "name": "stderr",
     "output_type": "stream",
     "text": [
      "INFO:elastic_transport.transport:POST http://localhost:9200/*/_search [status:200 duration:0.075s]\n"
     ]
    },
    {
     "name": "stdout",
     "output_type": "stream",
     "text": [
      "['poor people', 'rich people', 'economic theory', 'immoral']\n",
      "poor people, rich people, economic theory, immoral\n"
     ]
    },
    {
     "name": "stderr",
     "output_type": "stream",
     "text": [
      "INFO:elastic_transport.transport:POST http://localhost:9200/*/_search [status:200 duration:0.040s]\n"
     ]
    },
    {
     "name": "stdout",
     "output_type": "stream",
     "text": [
      "['high rent prices nobody', 'rents', 'nobody', 'high rent prices']\n",
      "high rent prices nobody, rents, nobody, high rent prices\n"
     ]
    },
    {
     "name": "stderr",
     "output_type": "stream",
     "text": [
      "INFO:elastic_transport.transport:POST http://localhost:9200/*/_search [status:200 duration:0.030s]\n"
     ]
    },
    {
     "name": "stdout",
     "output_type": "stream",
     "text": [
      "['luxury housing', 'nobody', 'luxury housing afford']\n",
      "luxury housing, nobody, luxury housing afford\n"
     ]
    },
    {
     "name": "stderr",
     "output_type": "stream",
     "text": [
      "INFO:elastic_transport.transport:POST http://localhost:9200/*/_search [status:200 duration:0.054s]\n"
     ]
    },
    {
     "name": "stdout",
     "output_type": "stream",
     "text": [
      "['poor people', 'rich people', 'city', 'city rich people']\n",
      "poor people, rich people, city, city rich people\n"
     ]
    },
    {
     "name": "stderr",
     "output_type": "stream",
     "text": [
      "INFO:elastic_transport.transport:POST http://localhost:9200/*/_search [status:200 duration:0.033s]\n"
     ]
    },
    {
     "name": "stdout",
     "output_type": "stream",
     "text": [
      "['city', 'line', 'rich afford jump']\n",
      "city, line, rich afford jump\n",
      "t3_4t8mmw\n",
      "Causal Concept >>  None Topic >>  None\n"
     ]
    },
    {
     "name": "stderr",
     "output_type": "stream",
     "text": [
      "INFO:elastic_transport.transport:POST http://localhost:9200/*/_search [status:200 duration:0.013s]\n"
     ]
    },
    {
     "name": "stdout",
     "output_type": "stream",
     "text": [
      "['hrt', 'cousin', 'mind', 'cousin begins hrt']\n",
      "hrt, cousin, mind, cousin begins hrt\n"
     ]
    },
    {
     "name": "stderr",
     "output_type": "stream",
     "text": [
      "INFO:elastic_transport.transport:POST http://localhost:9200/*/_search [status:200 duration:0.018s]\n"
     ]
    },
    {
     "name": "stdout",
     "output_type": "stream",
     "text": [
      "['transgender individuals', 'gender roles', 'concept', 'concept transgender individuals']\n",
      "transgender individuals, gender roles, concept, concept transgender individuals\n"
     ]
    },
    {
     "name": "stderr",
     "output_type": "stream",
     "text": [
      "INFO:elastic_transport.transport:POST http://localhost:9200/*/_search [status:200 duration:0.034s]\n"
     ]
    },
    {
     "name": "stdout",
     "output_type": "stream",
     "text": [
      "['gender', 'bother changing gender']\n",
      "gender, bother changing gender\n"
     ]
    },
    {
     "name": "stderr",
     "output_type": "stream",
     "text": [
      "INFO:elastic_transport.transport:POST http://localhost:9200/*/_search [status:200 duration:0.034s]\n"
     ]
    },
    {
     "name": "stdout",
     "output_type": "stream",
     "text": [
      "['dysphoria', 'real issue', 'dysphoria real issue']\n",
      "dysphoria, real issue, dysphoria real issue\n"
     ]
    },
    {
     "name": "stderr",
     "output_type": "stream",
     "text": [
      "INFO:elastic_transport.transport:POST http://localhost:9200/*/_search [status:200 duration:0.061s]\n"
     ]
    },
    {
     "name": "stdout",
     "output_type": "stream",
     "text": [
      "['man woman', 'someone', 'need', 'believed man woman']\n",
      "man woman, someone, need, believed man woman\n"
     ]
    },
    {
     "name": "stderr",
     "output_type": "stream",
     "text": [
      "INFO:elastic_transport.transport:POST http://localhost:9200/*/_search [status:200 duration:0.047s]\n"
     ]
    },
    {
     "name": "stdout",
     "output_type": "stream",
     "text": [
      "['polish dresses', 'high heels', 'men', 'nail polish dresses']\n",
      "polish dresses, high heels, men, nail polish dresses\n",
      "t3_4t8mmw\n",
      "Causal Concept >>  None Topic >>  None\n"
     ]
    },
    {
     "name": "stderr",
     "output_type": "stream",
     "text": [
      "INFO:elastic_transport.transport:POST http://localhost:9200/*/_search [status:200 duration:0.028s]\n"
     ]
    },
    {
     "name": "stdout",
     "output_type": "stream",
     "text": [
      "['hrt', 'cousin', 'mind', 'cousin begins hrt']\n",
      "hrt, cousin, mind, cousin begins hrt\n"
     ]
    },
    {
     "name": "stderr",
     "output_type": "stream",
     "text": [
      "INFO:elastic_transport.transport:POST http://localhost:9200/*/_search [status:200 duration:0.017s]\n"
     ]
    },
    {
     "name": "stdout",
     "output_type": "stream",
     "text": [
      "['transgender individuals', 'gender roles', 'concept', 'concept transgender individuals']\n",
      "transgender individuals, gender roles, concept, concept transgender individuals\n"
     ]
    },
    {
     "name": "stderr",
     "output_type": "stream",
     "text": [
      "INFO:elastic_transport.transport:POST http://localhost:9200/*/_search [status:200 duration:0.023s]\n"
     ]
    },
    {
     "name": "stdout",
     "output_type": "stream",
     "text": [
      "['gender', 'bother changing gender']\n",
      "gender, bother changing gender\n"
     ]
    },
    {
     "name": "stderr",
     "output_type": "stream",
     "text": [
      "INFO:elastic_transport.transport:POST http://localhost:9200/*/_search [status:200 duration:0.029s]\n"
     ]
    },
    {
     "name": "stdout",
     "output_type": "stream",
     "text": [
      "['dysphoria', 'real issue', 'dysphoria real issue']\n",
      "dysphoria, real issue, dysphoria real issue\n"
     ]
    },
    {
     "name": "stderr",
     "output_type": "stream",
     "text": [
      "INFO:elastic_transport.transport:POST http://localhost:9200/*/_search [status:200 duration:0.065s]\n"
     ]
    },
    {
     "name": "stdout",
     "output_type": "stream",
     "text": [
      "['man woman', 'someone', 'need', 'believed man woman']\n",
      "man woman, someone, need, believed man woman\n"
     ]
    },
    {
     "name": "stderr",
     "output_type": "stream",
     "text": [
      "INFO:elastic_transport.transport:POST http://localhost:9200/*/_search [status:200 duration:0.031s]\n"
     ]
    },
    {
     "name": "stdout",
     "output_type": "stream",
     "text": [
      "['polish dresses', 'high heels', 'men', 'nail polish dresses']\n",
      "polish dresses, high heels, men, nail polish dresses\n",
      "t3_4t8mmw\n",
      "Causal Concept >>  None Topic >>  None\n"
     ]
    },
    {
     "name": "stderr",
     "output_type": "stream",
     "text": [
      "INFO:elastic_transport.transport:POST http://localhost:9200/*/_search [status:200 duration:0.013s]\n"
     ]
    },
    {
     "name": "stdout",
     "output_type": "stream",
     "text": [
      "['hrt', 'cousin', 'mind', 'cousin begins hrt']\n",
      "hrt, cousin, mind, cousin begins hrt\n"
     ]
    },
    {
     "name": "stderr",
     "output_type": "stream",
     "text": [
      "INFO:elastic_transport.transport:POST http://localhost:9200/*/_search [status:200 duration:0.035s]\n"
     ]
    },
    {
     "name": "stdout",
     "output_type": "stream",
     "text": [
      "['transgender individuals', 'gender roles', 'concept', 'concept transgender individuals']\n",
      "transgender individuals, gender roles, concept, concept transgender individuals\n"
     ]
    },
    {
     "name": "stderr",
     "output_type": "stream",
     "text": [
      "INFO:elastic_transport.transport:POST http://localhost:9200/*/_search [status:200 duration:0.026s]\n"
     ]
    },
    {
     "name": "stdout",
     "output_type": "stream",
     "text": [
      "['gender', 'bother changing gender']\n",
      "gender, bother changing gender\n"
     ]
    },
    {
     "name": "stderr",
     "output_type": "stream",
     "text": [
      "INFO:elastic_transport.transport:POST http://localhost:9200/*/_search [status:200 duration:0.035s]\n"
     ]
    },
    {
     "name": "stdout",
     "output_type": "stream",
     "text": [
      "['dysphoria', 'real issue', 'dysphoria real issue']\n",
      "dysphoria, real issue, dysphoria real issue\n"
     ]
    },
    {
     "name": "stderr",
     "output_type": "stream",
     "text": [
      "INFO:elastic_transport.transport:POST http://localhost:9200/*/_search [status:200 duration:0.046s]\n"
     ]
    },
    {
     "name": "stdout",
     "output_type": "stream",
     "text": [
      "['man woman', 'someone', 'need', 'believed man woman']\n",
      "man woman, someone, need, believed man woman\n"
     ]
    },
    {
     "name": "stderr",
     "output_type": "stream",
     "text": [
      "INFO:elastic_transport.transport:POST http://localhost:9200/*/_search [status:200 duration:0.033s]\n"
     ]
    },
    {
     "name": "stdout",
     "output_type": "stream",
     "text": [
      "['polish dresses', 'high heels', 'men', 'nail polish dresses']\n",
      "polish dresses, high heels, men, nail polish dresses\n",
      "t3_4t8mmw\n",
      "Causal Concept >>  None Topic >>  None\n"
     ]
    },
    {
     "name": "stderr",
     "output_type": "stream",
     "text": [
      "INFO:elastic_transport.transport:POST http://localhost:9200/*/_search [status:200 duration:0.027s]\n"
     ]
    },
    {
     "name": "stdout",
     "output_type": "stream",
     "text": [
      "['hrt', 'cousin', 'mind', 'cousin begins hrt']\n",
      "hrt, cousin, mind, cousin begins hrt\n"
     ]
    },
    {
     "name": "stderr",
     "output_type": "stream",
     "text": [
      "INFO:elastic_transport.transport:POST http://localhost:9200/*/_search [status:200 duration:0.023s]\n"
     ]
    },
    {
     "name": "stdout",
     "output_type": "stream",
     "text": [
      "['transgender individuals', 'gender roles', 'concept', 'concept transgender individuals']\n",
      "transgender individuals, gender roles, concept, concept transgender individuals\n"
     ]
    },
    {
     "name": "stderr",
     "output_type": "stream",
     "text": [
      "INFO:elastic_transport.transport:POST http://localhost:9200/*/_search [status:200 duration:0.027s]\n"
     ]
    },
    {
     "name": "stdout",
     "output_type": "stream",
     "text": [
      "['gender', 'bother changing gender']\n",
      "gender, bother changing gender\n"
     ]
    },
    {
     "name": "stderr",
     "output_type": "stream",
     "text": [
      "INFO:elastic_transport.transport:POST http://localhost:9200/*/_search [status:200 duration:0.035s]\n"
     ]
    },
    {
     "name": "stdout",
     "output_type": "stream",
     "text": [
      "['dysphoria', 'real issue', 'dysphoria real issue']\n",
      "dysphoria, real issue, dysphoria real issue\n"
     ]
    },
    {
     "name": "stderr",
     "output_type": "stream",
     "text": [
      "INFO:elastic_transport.transport:POST http://localhost:9200/*/_search [status:200 duration:0.056s]\n"
     ]
    },
    {
     "name": "stdout",
     "output_type": "stream",
     "text": [
      "['man woman', 'someone', 'need', 'believed man woman']\n",
      "man woman, someone, need, believed man woman\n"
     ]
    },
    {
     "name": "stderr",
     "output_type": "stream",
     "text": [
      "INFO:elastic_transport.transport:POST http://localhost:9200/*/_search [status:200 duration:0.029s]\n"
     ]
    },
    {
     "name": "stdout",
     "output_type": "stream",
     "text": [
      "['polish dresses', 'high heels', 'men', 'nail polish dresses']\n",
      "polish dresses, high heels, men, nail polish dresses\n",
      "t3_4t8mmw\n",
      "Causal Concept >>  None Topic >>  None\n"
     ]
    },
    {
     "name": "stderr",
     "output_type": "stream",
     "text": [
      "INFO:elastic_transport.transport:POST http://localhost:9200/*/_search [status:200 duration:0.027s]\n"
     ]
    },
    {
     "name": "stdout",
     "output_type": "stream",
     "text": [
      "['hrt', 'cousin', 'mind', 'cousin begins hrt']\n",
      "hrt, cousin, mind, cousin begins hrt\n"
     ]
    },
    {
     "name": "stderr",
     "output_type": "stream",
     "text": [
      "INFO:elastic_transport.transport:POST http://localhost:9200/*/_search [status:200 duration:0.017s]\n"
     ]
    },
    {
     "name": "stdout",
     "output_type": "stream",
     "text": [
      "['transgender individuals', 'gender roles', 'concept', 'concept transgender individuals']\n",
      "transgender individuals, gender roles, concept, concept transgender individuals\n"
     ]
    },
    {
     "name": "stderr",
     "output_type": "stream",
     "text": [
      "INFO:elastic_transport.transport:POST http://localhost:9200/*/_search [status:200 duration:0.012s]\n"
     ]
    },
    {
     "name": "stdout",
     "output_type": "stream",
     "text": [
      "['gender', 'bother changing gender']\n",
      "gender, bother changing gender\n"
     ]
    },
    {
     "name": "stderr",
     "output_type": "stream",
     "text": [
      "INFO:elastic_transport.transport:POST http://localhost:9200/*/_search [status:200 duration:0.036s]\n"
     ]
    },
    {
     "name": "stdout",
     "output_type": "stream",
     "text": [
      "['dysphoria', 'real issue', 'dysphoria real issue']\n",
      "dysphoria, real issue, dysphoria real issue\n"
     ]
    },
    {
     "name": "stderr",
     "output_type": "stream",
     "text": [
      "INFO:elastic_transport.transport:POST http://localhost:9200/*/_search [status:200 duration:0.052s]\n"
     ]
    },
    {
     "name": "stdout",
     "output_type": "stream",
     "text": [
      "['man woman', 'someone', 'need', 'believed man woman']\n",
      "man woman, someone, need, believed man woman\n"
     ]
    },
    {
     "name": "stderr",
     "output_type": "stream",
     "text": [
      "INFO:elastic_transport.transport:POST http://localhost:9200/*/_search [status:200 duration:0.048s]\n"
     ]
    },
    {
     "name": "stdout",
     "output_type": "stream",
     "text": [
      "['polish dresses', 'high heels', 'men', 'nail polish dresses']\n",
      "polish dresses, high heels, men, nail polish dresses\n",
      "t3_6l0sdy\n",
      "Causal Concept >>  None Topic >>  None\n"
     ]
    },
    {
     "name": "stderr",
     "output_type": "stream",
     "text": [
      "INFO:elastic_transport.transport:POST http://localhost:9200/*/_search [status:200 duration:0.028s]\n"
     ]
    },
    {
     "name": "stdout",
     "output_type": "stream",
     "text": [
      "['homosexuals', 'infertile people', 'older people', 'allowing homosexuals marry']\n",
      "homosexuals, infertile people, older people, allowing homosexuals marry\n"
     ]
    },
    {
     "name": "stderr",
     "output_type": "stream",
     "text": [
      "INFO:elastic_transport.transport:POST http://localhost:9200/*/_search [status:200 duration:0.025s]\n"
     ]
    },
    {
     "name": "stdout",
     "output_type": "stream",
     "text": [
      "['persons infertility', 'surgery', 'argument', 'persons infertility cured']\n",
      "persons infertility, surgery, argument, persons infertility cured\n"
     ]
    },
    {
     "name": "stderr",
     "output_type": "stream",
     "text": [
      "INFO:elastic_transport.transport:POST http://localhost:9200/*/_search [status:200 duration:0.067s]\n"
     ]
    },
    {
     "name": "stdout",
     "output_type": "stream",
     "text": [
      "['child', 'other means', 'person', 'person homosexual doesnt']\n",
      "child, other means, person, person homosexual doesnt\n"
     ]
    },
    {
     "name": "stderr",
     "output_type": "stream",
     "text": [
      "INFO:elastic_transport.transport:POST http://localhost:9200/*/_search [status:200 duration:0.043s]\n"
     ]
    },
    {
     "name": "stdout",
     "output_type": "stream",
     "text": [
      "['kids', 'point', 'person', 'homosexual doesnt mean']\n",
      "kids, point, person, homosexual doesnt mean\n",
      "t3_4nru7c\n",
      "Causal Concept >>  lack of privacy Topic >>  None\n"
     ]
    },
    {
     "name": "stderr",
     "output_type": "stream",
     "text": [
      "INFO:elastic_transport.transport:POST http://localhost:9200/*/_search [status:200 duration:0.038s]\n"
     ]
    },
    {
     "name": "stdout",
     "output_type": "stream",
     "text": [
      "['webcam', 'knowledge', 'opinion', 'webcam periodically knowledge']\n",
      "webcam, knowledge, opinion, webcam periodically knowledge, lack of privacy\n"
     ]
    },
    {
     "name": "stderr",
     "output_type": "stream",
     "text": [
      "INFO:elastic_transport.transport:POST http://localhost:9200/*/_search [status:200 duration:0.067s]\n"
     ]
    },
    {
     "name": "stdout",
     "output_type": "stream",
     "text": [
      "['fact', 'life', 'rest', 'completely unaware fact']\n",
      "fact, life, rest, completely unaware fact, lack of privacy\n"
     ]
    },
    {
     "name": "stderr",
     "output_type": "stream",
     "text": [
      "INFO:elastic_transport.transport:POST http://localhost:9200/*/_search [status:200 duration:0.023s]\n"
     ]
    },
    {
     "name": "stdout",
     "output_type": "stream",
     "text": [
      "['privacy', 'lack', 'way', 'privacy big deal']\n",
      "privacy, lack, way, privacy big deal, lack of privacy\n"
     ]
    },
    {
     "name": "stderr",
     "output_type": "stream",
     "text": [
      "INFO:elastic_transport.transport:POST http://localhost:9200/*/_search [status:200 duration:0.079s]\n"
     ]
    },
    {
     "name": "stdout",
     "output_type": "stream",
     "text": [
      "['lifetime', 'one', 'very moment', 'inevitable']\n",
      "lifetime, one, very moment, inevitable, lack of privacy\n"
     ]
    },
    {
     "name": "stderr",
     "output_type": "stream",
     "text": [
      "INFO:elastic_transport.transport:POST http://localhost:9200/*/_search [status:200 duration:0.092s]\n"
     ]
    },
    {
     "name": "stdout",
     "output_type": "stream",
     "text": [
      "['life', 'argument', 'way shape', 'impact life']\n",
      "life, argument, way shape, impact life, lack of privacy\n",
      "t3_2s311o\n",
      "Causal Concept >>  None Topic >>  public schools\n"
     ]
    },
    {
     "name": "stderr",
     "output_type": "stream",
     "text": [
      "INFO:elastic_transport.transport:POST http://localhost:9200/*/_search [status:200 duration:0.073s]\n"
     ]
    },
    {
     "name": "stdout",
     "output_type": "stream",
     "text": [
      "['public schools', 'poor families', 'education', 'public schools exist']\n",
      "public schools, poor families, education, public schools exist, public schools\n"
     ]
    },
    {
     "name": "stderr",
     "output_type": "stream",
     "text": [
      "INFO:elastic_transport.transport:POST http://localhost:9200/*/_search [status:200 duration:0.043s]\n"
     ]
    },
    {
     "name": "stdout",
     "output_type": "stream",
     "text": [
      "['incarceration', 'education', 'program', 'provided penalty incarceration']\n",
      "incarceration, education, program, provided penalty incarceration, public schools\n"
     ]
    },
    {
     "name": "stderr",
     "output_type": "stream",
     "text": [
      "INFO:elastic_transport.transport:POST http://localhost:9200/*/_search [status:200 duration:0.127s]\n"
     ]
    },
    {
     "name": "stdout",
     "output_type": "stream",
     "text": [
      "['public education', 'private school', 'parents', 'education isnt forced']\n",
      "public education, private school, parents, education isnt forced, public schools\n"
     ]
    },
    {
     "name": "stderr",
     "output_type": "stream",
     "text": [
      "INFO:elastic_transport.transport:POST http://localhost:9200/*/_search [status:200 duration:0.071s]\n"
     ]
    },
    {
     "name": "stdout",
     "output_type": "stream",
     "text": [
      "['school prayer advocates', 'christian schools', 'children', 'school prayer advocates']\n",
      "school prayer advocates, christian schools, children, school prayer advocates, public schools\n"
     ]
    },
    {
     "name": "stderr",
     "output_type": "stream",
     "text": [
      "INFO:elastic_transport.transport:POST http://localhost:9200/*/_search [status:200 duration:0.050s]\n"
     ]
    },
    {
     "name": "stdout",
     "output_type": "stream",
     "text": [
      "['beggars', 'parents', 'other peoples children', 'beggars']\n",
      "beggars, parents, other peoples children, beggars, public schools\n",
      "t3_2a54d2\n",
      "Causal Concept >>  promiscuity Topic >>  None\n"
     ]
    },
    {
     "name": "stderr",
     "output_type": "stream",
     "text": [
      "INFO:elastic_transport.transport:POST http://localhost:9200/*/_search [status:200 duration:0.036s]\n"
     ]
    },
    {
     "name": "stdout",
     "output_type": "stream",
     "text": [
      "['stereotypes', 'truth', 'kernel', 'stereotypes wrong contain']\n",
      "stereotypes, truth, kernel, stereotypes wrong contain, promiscuity\n"
     ]
    },
    {
     "name": "stderr",
     "output_type": "stream",
     "text": [
      "INFO:elastic_transport.transport:POST http://localhost:9200/*/_search [status:200 duration:0.017s]\n"
     ]
    },
    {
     "name": "stdout",
     "output_type": "stream",
     "text": [
      "['inexperienced people', 'sex', 'ime', 'ime inexperienced people']\n",
      "inexperienced people, sex, ime, ime inexperienced people, promiscuity\n"
     ]
    },
    {
     "name": "stderr",
     "output_type": "stream",
     "text": [
      "INFO:elastic_transport.transport:POST http://localhost:9200/*/_search [status:200 duration:0.063s]\n"
     ]
    },
    {
     "name": "stdout",
     "output_type": "stream",
     "text": [
      "['less stable partners', 'promiscuous people', 'promiscuous people tend']\n",
      "less stable partners, promiscuous people, promiscuous people tend, promiscuity\n"
     ]
    },
    {
     "name": "stderr",
     "output_type": "stream",
     "text": [
      "INFO:elastic_transport.transport:POST http://localhost:9200/*/_search [status:200 duration:0.052s]\n"
     ]
    },
    {
     "name": "stdout",
     "output_type": "stream",
     "text": [
      "['sexual history', 'good rules', 'cultures', 'reject sexual history']\n",
      "sexual history, good rules, cultures, reject sexual history, promiscuity\n"
     ]
    },
    {
     "name": "stderr",
     "output_type": "stream",
     "text": [
      "INFO:elastic_transport.transport:POST http://localhost:9200/*/_search [status:200 duration:0.041s]\n"
     ]
    },
    {
     "name": "stdout",
     "output_type": "stream",
     "text": [
      "['aesthetic preferences', 'someones history', 'history indicate aesthetic']\n",
      "aesthetic preferences, someones history, history indicate aesthetic, promiscuity\n",
      "t3_2had69\n",
      "Causal Concept >>  same sex marriage Topic >>  federal marriage amendment\n"
     ]
    },
    {
     "name": "stderr",
     "output_type": "stream",
     "text": [
      "INFO:elastic_transport.transport:POST http://localhost:9200/*/_search [status:200 duration:0.053s]\n"
     ]
    },
    {
     "name": "stdout",
     "output_type": "stream",
     "text": [
      "['samesex marriage bans', 'equal protection clause', 'discrimination', 'samesex marriage bans']\n",
      "samesex marriage bans, equal protection clause, discrimination, samesex marriage bans, federal marriage amendment, same sex marriage\n"
     ]
    },
    {
     "name": "stderr",
     "output_type": "stream",
     "text": [
      "INFO:elastic_transport.transport:POST http://localhost:9200/*/_search [status:200 duration:0.071s]\n"
     ]
    },
    {
     "name": "stdout",
     "output_type": "stream",
     "text": [
      "['marriage', 'government', 'government involved marriage']\n",
      "marriage, government, government involved marriage, federal marriage amendment, same sex marriage\n"
     ]
    },
    {
     "name": "stderr",
     "output_type": "stream",
     "text": [
      "INFO:elastic_transport.transport:POST http://localhost:9200/*/_search [status:200 duration:0.084s]\n"
     ]
    },
    {
     "name": "stdout",
     "output_type": "stream",
     "text": [
      "['marriage', 'alternate sexual preferences', 'property andor procreation', 'use marriage defined']\n",
      "marriage, alternate sexual preferences, property andor procreation, use marriage defined, federal marriage amendment, same sex marriage\n"
     ]
    },
    {
     "name": "stderr",
     "output_type": "stream",
     "text": [
      "INFO:elastic_transport.transport:POST http://localhost:9200/*/_search [status:200 duration:0.073s]\n"
     ]
    },
    {
     "name": "stdout",
     "output_type": "stream",
     "text": [
      "['available means', 'opposite gender', 'person', 'discriminated choosing marry']\n",
      "available means, opposite gender, person, discriminated choosing marry, federal marriage amendment, same sex marriage\n",
      "t3_6pondh\n",
      "Causal Concept >>  None Topic >>  None\n"
     ]
    },
    {
     "name": "stderr",
     "output_type": "stream",
     "text": [
      "INFO:elastic_transport.transport:POST http://localhost:9200/*/_search [status:200 duration:0.041s]\n"
     ]
    },
    {
     "name": "stdout",
     "output_type": "stream",
     "text": [
      "['clear something', 'guys', 'thinking im transphobic']\n",
      "clear something, guys, thinking im transphobic\n"
     ]
    },
    {
     "name": "stderr",
     "output_type": "stream",
     "text": [
      "INFO:elastic_transport.transport:POST http://localhost:9200/*/_search [status:200 duration:0.029s]\n"
     ]
    },
    {
     "name": "stdout",
     "output_type": "stream",
     "text": [
      "['genders', 'sexes', 'sex changes', 'changes choose genders']\n",
      "genders, sexes, sex changes, changes choose genders\n"
     ]
    },
    {
     "name": "stderr",
     "output_type": "stream",
     "text": [
      "INFO:elastic_transport.transport:POST http://localhost:9200/*/_search [status:200 duration:0.036s]\n"
     ]
    },
    {
     "name": "stdout",
     "output_type": "stream",
     "text": [
      "['masculine females', 'feminine males', 'feminine males masculine']\n",
      "masculine females, feminine males, feminine males masculine\n"
     ]
    },
    {
     "name": "stderr",
     "output_type": "stream",
     "text": [
      "INFO:elastic_transport.transport:POST http://localhost:9200/*/_search [status:200 duration:0.059s]\n"
     ]
    },
    {
     "name": "stdout",
     "output_type": "stream",
     "text": [
      "['other feminine products', 'absolutelymales', 'genitalia', 'pink like feminine']\n",
      "other feminine products, absolutelymales, genitalia, pink like feminine\n"
     ]
    },
    {
     "name": "stderr",
     "output_type": "stream",
     "text": [
      "INFO:elastic_transport.transport:POST http://localhost:9200/*/_search [status:200 duration:0.049s]\n"
     ]
    },
    {
     "name": "stdout",
     "output_type": "stream",
     "text": [
      "['other masculine things', 'female', 'females', 'masculine things female']\n",
      "other masculine things, female, females, masculine things female\n",
      "t3_6rrq8x\n",
      "Causal Concept >>  prolonged labour Topic >>  None\n"
     ]
    },
    {
     "name": "stderr",
     "output_type": "stream",
     "text": [
      "INFO:elastic_transport.transport:POST http://localhost:9200/*/_search [status:200 duration:0.040s]\n"
     ]
    },
    {
     "name": "stdout",
     "output_type": "stream",
     "text": [
      "['maternity leave', 'parental leave', 'valid discussion', 'incorporate maternity leave']\n",
      "maternity leave, parental leave, valid discussion, incorporate maternity leave, prolonged labour\n"
     ]
    },
    {
     "name": "stderr",
     "output_type": "stream",
     "text": [
      "INFO:elastic_transport.transport:POST http://localhost:9200/*/_search [status:200 duration:0.043s]\n"
     ]
    },
    {
     "name": "stdout",
     "output_type": "stream",
     "text": [
      "['maternity leave', 'valid discussion', 'subject', 'maternity leave implemented']\n",
      "maternity leave, valid discussion, subject, maternity leave implemented, prolonged labour\n"
     ]
    },
    {
     "name": "stderr",
     "output_type": "stream",
     "text": [
      "INFO:elastic_transport.transport:POST http://localhost:9200/*/_search [status:200 duration:0.018s]\n"
     ]
    },
    {
     "name": "stdout",
     "output_type": "stream",
     "text": [
      "['maternity leave', 'paternity', 'issue', 'paternity leave long']\n",
      "maternity leave, paternity, issue, paternity leave long, prolonged labour\n"
     ]
    },
    {
     "name": "stderr",
     "output_type": "stream",
     "text": [
      "INFO:elastic_transport.transport:POST http://localhost:9200/*/_search [status:200 duration:0.016s]\n"
     ]
    },
    {
     "name": "stdout",
     "output_type": "stream",
     "text": [
      "['sexism', 'employers', 'women', 'sexism women employers']\n",
      "sexism, employers, women, sexism women employers, prolonged labour\n",
      "t3_6rrq8x\n",
      "Causal Concept >>  prolonged labour Topic >>  None\n"
     ]
    },
    {
     "name": "stderr",
     "output_type": "stream",
     "text": [
      "INFO:elastic_transport.transport:POST http://localhost:9200/*/_search [status:200 duration:0.037s]\n"
     ]
    },
    {
     "name": "stdout",
     "output_type": "stream",
     "text": [
      "['maternity leave', 'parental leave', 'valid discussion', 'incorporate maternity leave']\n",
      "maternity leave, parental leave, valid discussion, incorporate maternity leave, prolonged labour\n"
     ]
    },
    {
     "name": "stderr",
     "output_type": "stream",
     "text": [
      "INFO:elastic_transport.transport:POST http://localhost:9200/*/_search [status:200 duration:0.028s]\n"
     ]
    },
    {
     "name": "stdout",
     "output_type": "stream",
     "text": [
      "['maternity leave', 'valid discussion', 'subject', 'maternity leave implemented']\n",
      "maternity leave, valid discussion, subject, maternity leave implemented, prolonged labour\n"
     ]
    },
    {
     "name": "stderr",
     "output_type": "stream",
     "text": [
      "INFO:elastic_transport.transport:POST http://localhost:9200/*/_search [status:200 duration:0.032s]\n"
     ]
    },
    {
     "name": "stdout",
     "output_type": "stream",
     "text": [
      "['maternity leave', 'paternity', 'issue', 'paternity leave long']\n",
      "maternity leave, paternity, issue, paternity leave long, prolonged labour\n"
     ]
    },
    {
     "name": "stderr",
     "output_type": "stream",
     "text": [
      "INFO:elastic_transport.transport:POST http://localhost:9200/*/_search [status:200 duration:0.028s]\n"
     ]
    },
    {
     "name": "stdout",
     "output_type": "stream",
     "text": [
      "['sexism', 'employers', 'women', 'sexism women employers']\n",
      "sexism, employers, women, sexism women employers, prolonged labour\n",
      "t3_5gpze7\n",
      "Causal Concept >>  rumors Topic >>  None\n"
     ]
    },
    {
     "name": "stderr",
     "output_type": "stream",
     "text": [
      "INFO:elastic_transport.transport:POST http://localhost:9200/*/_search [status:200 duration:0.036s]\n"
     ]
    },
    {
     "name": "stdout",
     "output_type": "stream",
     "text": [
      "['fake news', 'talk', 'talk fake news']\n",
      "fake news, talk, talk fake news, rumors\n"
     ]
    },
    {
     "name": "stderr",
     "output_type": "stream",
     "text": [
      "INFO:elastic_transport.transport:POST http://localhost:9200/*/_search [status:200 duration:0.039s]\n"
     ]
    },
    {
     "name": "stdout",
     "output_type": "stream",
     "text": [
      "['marching orders', 'msm', 'proliferation', 'msm recieved marching']\n",
      "marching orders, msm, proliferation, msm recieved marching, rumors\n"
     ]
    },
    {
     "name": "stderr",
     "output_type": "stream",
     "text": [
      "INFO:elastic_transport.transport:POST http://localhost:9200/*/_search [status:200 duration:0.017s]\n"
     ]
    },
    {
     "name": "stdout",
     "output_type": "stream",
     "text": [
      "['google trends', 'term', 'popularity', 'google trends term']\n",
      "google trends, term, popularity, google trends term, rumors\n"
     ]
    },
    {
     "name": "stderr",
     "output_type": "stream",
     "text": [
      "INFO:elastic_transport.transport:POST http://localhost:9200/*/_search [status:200 duration:0.033s]\n"
     ]
    },
    {
     "name": "stdout",
     "output_type": "stream",
     "text": [
      "['fake news', 'nothing', 'called fake news']\n",
      "fake news, nothing, called fake news, rumors\n",
      "t3_3s5gwk\n",
      "Causal Concept >>  backaches Topic >>  None\n"
     ]
    },
    {
     "name": "stderr",
     "output_type": "stream",
     "text": [
      "INFO:elastic_transport.transport:POST http://localhost:9200/*/_search [status:200 duration:0.033s]\n"
     ]
    },
    {
     "name": "stdout",
     "output_type": "stream",
     "text": [
      "['wallets', 'confusion', 'confusion comes wallets']\n",
      "wallets, confusion, confusion comes wallets, backaches\n"
     ]
    },
    {
     "name": "stderr",
     "output_type": "stream",
     "text": [
      "INFO:elastic_transport.transport:POST http://localhost:9200/*/_search [status:200 duration:0.054s]\n"
     ]
    },
    {
     "name": "stdout",
     "output_type": "stream",
     "text": [
      "['wallets', 'back pocket', 'people', 'people wallets pocket']\n",
      "wallets, back pocket, people, people wallets pocket, backaches\n"
     ]
    },
    {
     "name": "stderr",
     "output_type": "stream",
     "text": [
      "INFO:elastic_transport.transport:POST http://localhost:9200/*/_search [status:200 duration:0.022s]\n"
     ]
    },
    {
     "name": "stdout",
     "output_type": "stream",
     "text": [
      "[' ']\n",
      " , backaches\n"
     ]
    },
    {
     "name": "stderr",
     "output_type": "stream",
     "text": [
      "INFO:elastic_transport.transport:POST http://localhost:9200/*/_search [status:200 duration:0.123s]\n"
     ]
    },
    {
     "name": "stdout",
     "output_type": "stream",
     "text": [
      "['front pocket', 'other normal pocket items', 'phones', 'keys pocket generally']\n",
      "front pocket, other normal pocket items, phones, keys pocket generally, backaches\n"
     ]
    },
    {
     "name": "stderr",
     "output_type": "stream",
     "text": [
      "INFO:elastic_transport.transport:POST http://localhost:9200/*/_search [status:200 duration:0.068s]\n"
     ]
    },
    {
     "name": "stdout",
     "output_type": "stream",
     "text": [
      "['wallet', 'gum', 'phone', 'damage phone sitting']\n",
      "wallet, gum, phone, damage phone sitting, backaches\n",
      "t3_3s5gwk\n",
      "Causal Concept >>  backaches Topic >>  None\n"
     ]
    },
    {
     "name": "stderr",
     "output_type": "stream",
     "text": [
      "INFO:elastic_transport.transport:POST http://localhost:9200/*/_search [status:200 duration:0.024s]\n"
     ]
    },
    {
     "name": "stdout",
     "output_type": "stream",
     "text": [
      "['wallets', 'confusion', 'confusion comes wallets']\n",
      "wallets, confusion, confusion comes wallets, backaches\n"
     ]
    },
    {
     "name": "stderr",
     "output_type": "stream",
     "text": [
      "INFO:elastic_transport.transport:POST http://localhost:9200/*/_search [status:200 duration:0.015s]\n"
     ]
    },
    {
     "name": "stdout",
     "output_type": "stream",
     "text": [
      "['wallets', 'back pocket', 'people', 'people wallets pocket']\n",
      "wallets, back pocket, people, people wallets pocket, backaches\n"
     ]
    },
    {
     "name": "stderr",
     "output_type": "stream",
     "text": [
      "INFO:elastic_transport.transport:POST http://localhost:9200/*/_search [status:200 duration:0.005s]\n"
     ]
    },
    {
     "name": "stdout",
     "output_type": "stream",
     "text": [
      "[' ']\n",
      " , backaches\n"
     ]
    },
    {
     "name": "stderr",
     "output_type": "stream",
     "text": [
      "INFO:elastic_transport.transport:POST http://localhost:9200/*/_search [status:200 duration:0.036s]\n"
     ]
    },
    {
     "name": "stdout",
     "output_type": "stream",
     "text": [
      "['front pocket', 'other normal pocket items', 'phones', 'keys pocket generally']\n",
      "front pocket, other normal pocket items, phones, keys pocket generally, backaches\n"
     ]
    },
    {
     "name": "stderr",
     "output_type": "stream",
     "text": [
      "INFO:elastic_transport.transport:POST http://localhost:9200/*/_search [status:200 duration:0.017s]\n"
     ]
    },
    {
     "name": "stdout",
     "output_type": "stream",
     "text": [
      "['wallet', 'gum', 'phone', 'damage phone sitting']\n",
      "wallet, gum, phone, damage phone sitting, backaches\n",
      "t3_3ya934\n",
      "Causal Concept >>  machine gun Topic >>  None\n",
      "['american gun owners', 'guns', 'government overreach presumes', 'guns check government']\n",
      "american gun owners, guns, government overreach presumes, guns check government, machine gun\n"
     ]
    },
    {
     "name": "stderr",
     "output_type": "stream",
     "text": [
      "INFO:elastic_transport.transport:POST http://localhost:9200/*/_search [status:200 duration:0.269s]\n",
      "INFO:elastic_transport.transport:POST http://localhost:9200/*/_search [status:200 duration:0.117s]\n"
     ]
    },
    {
     "name": "stdout",
     "output_type": "stream",
     "text": [
      "['revolutionary cause', 'military', 'human beings', 'beings sympathetic revolutionary']\n",
      "revolutionary cause, military, human beings, beings sympathetic revolutionary, machine gun\n"
     ]
    },
    {
     "name": "stderr",
     "output_type": "stream",
     "text": [
      "INFO:elastic_transport.transport:POST http://localhost:9200/*/_search [status:200 duration:0.142s]\n"
     ]
    },
    {
     "name": "stdout",
     "output_type": "stream",
     "text": [
      "['government overreach', 'nra', 'autonomous military robots', 'nra autonomous military']\n",
      "government overreach, nra, autonomous military robots, nra autonomous military, machine gun\n",
      "t3_3up1kl\n",
      "Causal Concept >>  coaching Topic >>  None\n"
     ]
    },
    {
     "name": "stderr",
     "output_type": "stream",
     "text": [
      "INFO:elastic_transport.transport:POST http://localhost:9200/*/_search [status:200 duration:0.080s]\n"
     ]
    },
    {
     "name": "stdout",
     "output_type": "stream",
     "text": [
      "['nfl', 'nba', 'college', 'nba essentially college']\n",
      "nfl, nba, college, nba essentially college, coaching\n"
     ]
    },
    {
     "name": "stderr",
     "output_type": "stream",
     "text": [
      "INFO:elastic_transport.transport:POST http://localhost:9200/*/_search [status:200 duration:0.056s]\n"
     ]
    },
    {
     "name": "stdout",
     "output_type": "stream",
     "text": [
      "['college scout', 'high school', 'hope', 'college scout']\n",
      "college scout, high school, hope, college scout, coaching\n"
     ]
    },
    {
     "name": "stderr",
     "output_type": "stream",
     "text": [
      "INFO:elastic_transport.transport:POST http://localhost:9200/*/_search [status:200 duration:0.045s]\n"
     ]
    },
    {
     "name": "stdout",
     "output_type": "stream",
     "text": [
      "['pro scout', 'college', 'god', 'pro scout']\n",
      "pro scout, college, god, pro scout, coaching\n"
     ]
    },
    {
     "name": "stderr",
     "output_type": "stream",
     "text": [
      "INFO:elastic_transport.transport:POST http://localhost:9200/*/_search [status:200 duration:0.085s]\n"
     ]
    },
    {
     "name": "stdout",
     "output_type": "stream",
     "text": [
      "['leagues', 'other real way', 'way make leagues']\n",
      "leagues, other real way, way make leagues, coaching\n"
     ]
    },
    {
     "name": "stderr",
     "output_type": "stream",
     "text": [
      "INFO:elastic_transport.transport:POST http://localhost:9200/*/_search [status:200 duration:0.064s]\n"
     ]
    },
    {
     "name": "stdout",
     "output_type": "stream",
     "text": [
      "['college', 'wrong reasons', 'desire', 'people desire college']\n",
      "college, wrong reasons, desire, people desire college, coaching\n",
      "t3_5htqk2\n",
      "Causal Concept >>  None Topic >>  animal rights\n"
     ]
    },
    {
     "name": "stderr",
     "output_type": "stream",
     "text": [
      "INFO:elastic_transport.transport:POST http://localhost:9200/*/_search [status:200 duration:0.078s]\n"
     ]
    },
    {
     "name": "stdout",
     "output_type": "stream",
     "text": [
      "['animal rights', 'animals', 'anthropomorphic ways', 'rights treat animals']\n",
      "animal rights, animals, anthropomorphic ways, rights treat animals, animal rights\n"
     ]
    },
    {
     "name": "stderr",
     "output_type": "stream",
     "text": [
      "INFO:elastic_transport.transport:POST http://localhost:9200/*/_search [status:200 duration:0.156s]\n"
     ]
    },
    {
     "name": "stdout",
     "output_type": "stream",
     "text": [
      "['different species', 'animal', 'something', 'assume animal feels']\n",
      "different species, animal, something, assume animal feels, animal rights\n"
     ]
    },
    {
     "name": "stderr",
     "output_type": "stream",
     "text": [
      "INFO:elastic_transport.transport:POST http://localhost:9200/*/_search [status:200 duration:0.068s]\n"
     ]
    },
    {
     "name": "stdout",
     "output_type": "stream",
     "text": [
      "['species', 'applies species doesnt']\n",
      "species, applies species doesnt, animal rights\n"
     ]
    },
    {
     "name": "stderr",
     "output_type": "stream",
     "text": [
      "INFO:elastic_transport.transport:POST http://localhost:9200/*/_search [status:200 duration:0.077s]\n"
     ]
    },
    {
     "name": "stdout",
     "output_type": "stream",
     "text": [
      "['animal rights activists', 'animals', 'human values', 'animal rights activists']\n",
      "animal rights activists, animals, human values, animal rights activists, animal rights\n",
      "['captive animals', 'captivity', 'such issuehumans', 'captivity say animals']\n",
      "captive animals, captivity, such issuehumans, captivity say animals, animal rights\n"
     ]
    },
    {
     "name": "stderr",
     "output_type": "stream",
     "text": [
      "INFO:elastic_transport.transport:POST http://localhost:9200/*/_search [status:200 duration:0.274s]\n"
     ]
    },
    {
     "name": "stdout",
     "output_type": "stream",
     "text": [
      "t3_4vegfc\n",
      "Causal Concept >>  None Topic >>  None\n"
     ]
    },
    {
     "name": "stderr",
     "output_type": "stream",
     "text": [
      "INFO:elastic_transport.transport:POST http://localhost:9200/*/_search [status:200 duration:0.033s]\n"
     ]
    },
    {
     "name": "stdout",
     "output_type": "stream",
     "text": [
      "['job', 'lets', 'say applied job']\n",
      "job, lets, say applied job\n"
     ]
    },
    {
     "name": "stderr",
     "output_type": "stream",
     "text": [
      "INFO:elastic_transport.transport:POST http://localhost:9200/*/_search [status:200 duration:0.075s]\n"
     ]
    },
    {
     "name": "stdout",
     "output_type": "stream",
     "text": [
      "['facebook', 'other social media', 'others', 'hire look facebook']\n",
      "facebook, other social media, others, hire look facebook\n"
     ]
    },
    {
     "name": "stderr",
     "output_type": "stream",
     "text": [
      "INFO:elastic_transport.transport:POST http://localhost:9200/*/_search [status:200 duration:0.034s]\n"
     ]
    },
    {
     "name": "stdout",
     "output_type": "stream",
     "text": [
      "['discrimination', 'hiring', 'social media', 'discrimination hiring just']\n",
      "discrimination, hiring, social media, discrimination hiring just\n"
     ]
    },
    {
     "name": "stderr",
     "output_type": "stream",
     "text": [
      "INFO:elastic_transport.transport:POST http://localhost:9200/*/_search [status:200 duration:0.064s]\n"
     ]
    },
    {
     "name": "stdout",
     "output_type": "stream",
     "text": [
      "['corporation', 'workplaces', 'fake persona', 'working corporation means']\n",
      "corporation, workplaces, fake persona, working corporation means\n",
      "t3_2kmgdw\n",
      "Causal Concept >>  unfair taxes Topic >>  taxpayer\n"
     ]
    },
    {
     "name": "stderr",
     "output_type": "stream",
     "text": [
      "INFO:elastic_transport.transport:POST http://localhost:9200/*/_search [status:200 duration:0.104s]\n"
     ]
    },
    {
     "name": "stdout",
     "output_type": "stream",
     "text": [
      "['government services', 'public libraries', 'police forces', 'forces public libraries']\n",
      "government services, public libraries, police forces, forces public libraries, taxpayer, unfair taxes\n",
      "['examples war electricity', 'taxes', 'accent lighting', 'uses taxes disapprove']\n",
      "examples war electricity, taxes, accent lighting, uses taxes disapprove, taxpayer, unfair taxes\n"
     ]
    },
    {
     "name": "stderr",
     "output_type": "stream",
     "text": [
      "INFO:elastic_transport.transport:POST http://localhost:9200/*/_search [status:200 duration:0.211s]\n",
      "INFO:elastic_transport.transport:POST http://localhost:9200/*/_search [status:200 duration:0.105s]\n"
     ]
    },
    {
     "name": "stdout",
     "output_type": "stream",
     "text": [
      "['money', 'conditions', 'way', 'consented conditions born']\n",
      "money, conditions, way, consented conditions born, taxpayer, unfair taxes\n"
     ]
    },
    {
     "name": "stderr",
     "output_type": "stream",
     "text": [
      "INFO:elastic_transport.transport:POST http://localhost:9200/*/_search [status:200 duration:0.024s]\n"
     ]
    },
    {
     "name": "stdout",
     "output_type": "stream",
     "text": [
      "['taxes', 'taxes im fined']\n",
      "taxes, taxes im fined, taxpayer, unfair taxes\n"
     ]
    },
    {
     "name": "stderr",
     "output_type": "stream",
     "text": [
      "INFO:elastic_transport.transport:POST http://localhost:9200/*/_search [status:200 duration:0.067s]\n"
     ]
    },
    {
     "name": "stdout",
     "output_type": "stream",
     "text": [
      "['prison', 'fine', 'refuse pay fine']\n",
      "prison, fine, refuse pay fine, taxpayer, unfair taxes\n",
      "t3_5spe6x\n",
      "Causal Concept >>  None Topic >>  None\n"
     ]
    },
    {
     "name": "stderr",
     "output_type": "stream",
     "text": [
      "INFO:elastic_transport.transport:POST http://localhost:9200/*/_search [status:200 duration:0.100s]\n"
     ]
    },
    {
     "name": "stdout",
     "output_type": "stream",
     "text": [
      "['terrible female characters', 'male authors', 'flack', 'writing terrible female']\n",
      "terrible female characters, male authors, flack, writing terrible female\n"
     ]
    },
    {
     "name": "stderr",
     "output_type": "stream",
     "text": [
      "INFO:elastic_transport.transport:POST http://localhost:9200/*/_search [status:200 duration:0.028s]\n"
     ]
    },
    {
     "name": "stdout",
     "output_type": "stream",
     "text": [
      "['jk rowling', 'male characters', 'jk', 'jk rowling just']\n",
      "jk rowling, male characters, jk, jk rowling just\n"
     ]
    },
    {
     "name": "stderr",
     "output_type": "stream",
     "text": [
      "INFO:elastic_transport.transport:POST http://localhost:9200/*/_search [status:200 duration:0.038s]\n"
     ]
    },
    {
     "name": "stdout",
     "output_type": "stream",
     "text": [
      "['opposite gender', 'people', 'trouble', 'connecting opposite gender']\n",
      "opposite gender, people, trouble, connecting opposite gender\n"
     ]
    },
    {
     "name": "stderr",
     "output_type": "stream",
     "text": [
      "INFO:elastic_transport.transport:POST http://localhost:9200/*/_search [status:200 duration:0.042s]\n"
     ]
    },
    {
     "name": "stdout",
     "output_type": "stream",
     "text": [
      "['jk rowling', 'male characters', 'one', 'rowling bad writing']\n",
      "jk rowling, male characters, one, rowling bad writing\n"
     ]
    },
    {
     "name": "stderr",
     "output_type": "stream",
     "text": [
      "INFO:elastic_transport.transport:POST http://localhost:9200/*/_search [status:200 duration:0.106s]\n"
     ]
    },
    {
     "name": "stdout",
     "output_type": "stream",
     "text": [
      "['themharry harry', 'harry potter', 'mary sue', 'adore harry potter']\n",
      "themharry harry, harry potter, mary sue, adore harry potter\n",
      "t3_5ij1mv\n",
      "Causal Concept >>  school segregation Topic >>  singlesex education\n"
     ]
    },
    {
     "name": "stderr",
     "output_type": "stream",
     "text": [
      "INFO:elastic_transport.transport:POST http://localhost:9200/*/_search [status:200 duration:0.115s]\n"
     ]
    },
    {
     "name": "stdout",
     "output_type": "stream",
     "text": [
      "['favor singlesex education', 'singlegender classes', 'experiments', 'favor singlesex education']\n",
      "favor singlesex education, singlegender classes, experiments, favor singlesex education, singlesex education, school segregation\n"
     ]
    },
    {
     "name": "stderr",
     "output_type": "stream",
     "text": [
      "INFO:elastic_transport.transport:POST http://localhost:9200/*/_search [status:200 duration:0.119s]\n"
     ]
    },
    {
     "name": "stdout",
     "output_type": "stream",
     "text": [
      "['singlesex schools', 'selective private schools', 'gender stereotypes', 'equal separating genders']\n",
      "singlesex schools, selective private schools, gender stereotypes, equal separating genders, singlesex education, school segregation\n"
     ]
    },
    {
     "name": "stderr",
     "output_type": "stream",
     "text": [
      "INFO:elastic_transport.transport:POST http://localhost:9200/*/_search [status:200 duration:0.158s]\n"
     ]
    },
    {
     "name": "stdout",
     "output_type": "stream",
     "text": [
      "['female teachers', 'male teachers', 'girls group', 'female teachers boys']\n",
      "female teachers, male teachers, girls group, female teachers boys, singlesex education, school segregation\n"
     ]
    },
    {
     "name": "stderr",
     "output_type": "stream",
     "text": [
      "INFO:elastic_transport.transport:POST http://localhost:9200/*/_search [status:200 duration:0.051s]\n"
     ]
    },
    {
     "name": "stdout",
     "output_type": "stream",
     "text": [
      "['gender issues', 'peer pressure', 'sexuality', 'peer pressure sexuality']\n",
      "gender issues, peer pressure, sexuality, peer pressure sexuality, singlesex education, school segregation\n",
      "t3_5ij1mv\n",
      "Causal Concept >>  school segregation Topic >>  singlesex education\n"
     ]
    },
    {
     "name": "stderr",
     "output_type": "stream",
     "text": [
      "INFO:elastic_transport.transport:POST http://localhost:9200/*/_search [status:200 duration:0.043s]\n"
     ]
    },
    {
     "name": "stdout",
     "output_type": "stream",
     "text": [
      "['favor singlesex education', 'singlegender classes', 'experiments', 'favor singlesex education']\n",
      "favor singlesex education, singlegender classes, experiments, favor singlesex education, singlesex education, school segregation\n"
     ]
    },
    {
     "name": "stderr",
     "output_type": "stream",
     "text": [
      "INFO:elastic_transport.transport:POST http://localhost:9200/*/_search [status:200 duration:0.054s]\n"
     ]
    },
    {
     "name": "stdout",
     "output_type": "stream",
     "text": [
      "['singlesex schools', 'selective private schools', 'gender stereotypes', 'equal separating genders']\n",
      "singlesex schools, selective private schools, gender stereotypes, equal separating genders, singlesex education, school segregation\n"
     ]
    },
    {
     "name": "stderr",
     "output_type": "stream",
     "text": [
      "INFO:elastic_transport.transport:POST http://localhost:9200/*/_search [status:200 duration:0.063s]\n"
     ]
    },
    {
     "name": "stdout",
     "output_type": "stream",
     "text": [
      "['female teachers', 'male teachers', 'girls group', 'female teachers boys']\n",
      "female teachers, male teachers, girls group, female teachers boys, singlesex education, school segregation\n"
     ]
    },
    {
     "name": "stderr",
     "output_type": "stream",
     "text": [
      "INFO:elastic_transport.transport:POST http://localhost:9200/*/_search [status:200 duration:0.046s]\n"
     ]
    },
    {
     "name": "stdout",
     "output_type": "stream",
     "text": [
      "['gender issues', 'peer pressure', 'sexuality', 'peer pressure sexuality']\n",
      "gender issues, peer pressure, sexuality, peer pressure sexuality, singlesex education, school segregation\n",
      "t3_5ij1mv\n",
      "Causal Concept >>  school segregation Topic >>  singlesex education\n"
     ]
    },
    {
     "name": "stderr",
     "output_type": "stream",
     "text": [
      "INFO:elastic_transport.transport:POST http://localhost:9200/*/_search [status:200 duration:0.050s]\n"
     ]
    },
    {
     "name": "stdout",
     "output_type": "stream",
     "text": [
      "['favor singlesex education', 'singlegender classes', 'experiments', 'favor singlesex education']\n",
      "favor singlesex education, singlegender classes, experiments, favor singlesex education, singlesex education, school segregation\n"
     ]
    },
    {
     "name": "stderr",
     "output_type": "stream",
     "text": [
      "INFO:elastic_transport.transport:POST http://localhost:9200/*/_search [status:200 duration:0.054s]\n"
     ]
    },
    {
     "name": "stdout",
     "output_type": "stream",
     "text": [
      "['singlesex schools', 'selective private schools', 'gender stereotypes', 'equal separating genders']\n",
      "singlesex schools, selective private schools, gender stereotypes, equal separating genders, singlesex education, school segregation\n"
     ]
    },
    {
     "name": "stderr",
     "output_type": "stream",
     "text": [
      "INFO:elastic_transport.transport:POST http://localhost:9200/*/_search [status:200 duration:0.043s]\n"
     ]
    },
    {
     "name": "stdout",
     "output_type": "stream",
     "text": [
      "['female teachers', 'male teachers', 'girls group', 'female teachers boys']\n",
      "female teachers, male teachers, girls group, female teachers boys, singlesex education, school segregation\n"
     ]
    },
    {
     "name": "stderr",
     "output_type": "stream",
     "text": [
      "INFO:elastic_transport.transport:POST http://localhost:9200/*/_search [status:200 duration:0.046s]\n"
     ]
    },
    {
     "name": "stdout",
     "output_type": "stream",
     "text": [
      "['gender issues', 'peer pressure', 'sexuality', 'peer pressure sexuality']\n",
      "gender issues, peer pressure, sexuality, peer pressure sexuality, singlesex education, school segregation\n",
      "t3_1e7dc0\n",
      "Causal Concept >>  double mutant combinations of egfr and gro hypomorphic alleles Topic >>  None\n",
      "['gay child', 'parents', 'claims', 'majority parents believe']\n",
      "gay child, parents, claims, majority parents believe, double mutant combinations of egfr and gro hypomorphic alleles\n"
     ]
    },
    {
     "name": "stderr",
     "output_type": "stream",
     "text": [
      "INFO:elastic_transport.transport:POST http://localhost:9200/*/_search [status:200 duration:0.680s]\n"
     ]
    },
    {
     "name": "stdout",
     "output_type": "stream",
     "text": [
      "['gay people', 'several gay people', 'hate gay people']\n",
      "gay people, several gay people, hate gay people, double mutant combinations of egfr and gro hypomorphic alleles\n"
     ]
    },
    {
     "name": "stderr",
     "output_type": "stream",
     "text": [
      "INFO:elastic_transport.transport:POST http://localhost:9200/*/_search [status:200 duration:0.218s]\n",
      "INFO:elastic_transport.transport:POST http://localhost:9200/*/_search [status:200 duration:0.168s]\n"
     ]
    },
    {
     "name": "stdout",
     "output_type": "stream",
     "text": [
      "['own unborn children', 'comes unborn children']\n",
      "own unborn children, comes unborn children, double mutant combinations of egfr and gro hypomorphic alleles\n"
     ]
    },
    {
     "name": "stderr",
     "output_type": "stream",
     "text": [
      "INFO:elastic_transport.transport:POST http://localhost:9200/*/_search [status:200 duration:0.112s]\n"
     ]
    },
    {
     "name": "stdout",
     "output_type": "stream",
     "text": [
      "['genetic features', 'child', 'parent', 'wouldnt want gay']\n",
      "genetic features, child, parent, wouldnt want gay, double mutant combinations of egfr and gro hypomorphic alleles\n",
      "t3_1e7dc0\n",
      "Causal Concept >>  double mutant combinations of egfr and gro hypomorphic alleles Topic >>  None\n"
     ]
    },
    {
     "name": "stderr",
     "output_type": "stream",
     "text": [
      "INFO:elastic_transport.transport:POST http://localhost:9200/*/_search [status:200 duration:0.127s]\n"
     ]
    },
    {
     "name": "stdout",
     "output_type": "stream",
     "text": [
      "['gay child', 'parents', 'claims', 'majority parents believe']\n",
      "gay child, parents, claims, majority parents believe, double mutant combinations of egfr and gro hypomorphic alleles\n"
     ]
    },
    {
     "name": "stderr",
     "output_type": "stream",
     "text": [
      "INFO:elastic_transport.transport:POST http://localhost:9200/*/_search [status:200 duration:0.069s]\n"
     ]
    },
    {
     "name": "stdout",
     "output_type": "stream",
     "text": [
      "['gay people', 'several gay people', 'hate gay people']\n",
      "gay people, several gay people, hate gay people, double mutant combinations of egfr and gro hypomorphic alleles\n"
     ]
    },
    {
     "name": "stderr",
     "output_type": "stream",
     "text": [
      "INFO:elastic_transport.transport:POST http://localhost:9200/*/_search [status:200 duration:0.074s]\n"
     ]
    },
    {
     "name": "stdout",
     "output_type": "stream",
     "text": [
      "['own unborn children', 'comes unborn children']\n",
      "own unborn children, comes unborn children, double mutant combinations of egfr and gro hypomorphic alleles\n"
     ]
    },
    {
     "name": "stderr",
     "output_type": "stream",
     "text": [
      "INFO:elastic_transport.transport:POST http://localhost:9200/*/_search [status:200 duration:0.076s]\n"
     ]
    },
    {
     "name": "stdout",
     "output_type": "stream",
     "text": [
      "['genetic features', 'child', 'parent', 'wouldnt want gay']\n",
      "genetic features, child, parent, wouldnt want gay, double mutant combinations of egfr and gro hypomorphic alleles\n",
      "t3_1e7dc0\n",
      "Causal Concept >>  double mutant combinations of egfr and gro hypomorphic alleles Topic >>  None\n"
     ]
    },
    {
     "name": "stderr",
     "output_type": "stream",
     "text": [
      "INFO:elastic_transport.transport:POST http://localhost:9200/*/_search [status:200 duration:0.130s]\n"
     ]
    },
    {
     "name": "stdout",
     "output_type": "stream",
     "text": [
      "['gay child', 'parents', 'claims', 'majority parents believe']\n",
      "gay child, parents, claims, majority parents believe, double mutant combinations of egfr and gro hypomorphic alleles\n"
     ]
    },
    {
     "name": "stderr",
     "output_type": "stream",
     "text": [
      "INFO:elastic_transport.transport:POST http://localhost:9200/*/_search [status:200 duration:0.064s]\n"
     ]
    },
    {
     "name": "stdout",
     "output_type": "stream",
     "text": [
      "['gay people', 'several gay people', 'hate gay people']\n",
      "gay people, several gay people, hate gay people, double mutant combinations of egfr and gro hypomorphic alleles\n"
     ]
    },
    {
     "name": "stderr",
     "output_type": "stream",
     "text": [
      "INFO:elastic_transport.transport:POST http://localhost:9200/*/_search [status:200 duration:0.060s]\n"
     ]
    },
    {
     "name": "stdout",
     "output_type": "stream",
     "text": [
      "['own unborn children', 'comes unborn children']\n",
      "own unborn children, comes unborn children, double mutant combinations of egfr and gro hypomorphic alleles\n"
     ]
    },
    {
     "name": "stderr",
     "output_type": "stream",
     "text": [
      "INFO:elastic_transport.transport:POST http://localhost:9200/*/_search [status:200 duration:0.075s]\n"
     ]
    },
    {
     "name": "stdout",
     "output_type": "stream",
     "text": [
      "['genetic features', 'child', 'parent', 'wouldnt want gay']\n",
      "genetic features, child, parent, wouldnt want gay, double mutant combinations of egfr and gro hypomorphic alleles\n",
      "t3_6qzn18\n",
      "Causal Concept >>  discouragement Topic >>  None\n",
      "['bad communication skills nonconstructive empiricists', 'low comprehension skills nonconstructive empiricists', 'constructive empiricist', 'communicate constructive empiricistsendless']\n",
      "bad communication skills nonconstructive empiricists, low comprehension skills nonconstructive empiricists, constructive empiricist, communicate constructive empiricistsendless, discouragement\n"
     ]
    },
    {
     "name": "stderr",
     "output_type": "stream",
     "text": [
      "INFO:elastic_transport.transport:POST http://localhost:9200/*/_search [status:200 duration:0.252s]\n"
     ]
    },
    {
     "name": "stdout",
     "output_type": "stream",
     "text": [
      "t3_3z9c0i\n",
      "Causal Concept >>  optic nerve hypoplasia Topic >>  None\n"
     ]
    },
    {
     "name": "stderr",
     "output_type": "stream",
     "text": [
      "INFO:elastic_transport.transport:POST http://localhost:9200/*/_search [status:200 duration:0.159s]\n"
     ]
    },
    {
     "name": "stdout",
     "output_type": "stream",
     "text": [
      "['daredevil universe', 'daredevil show', 'netflix', 'experience watching daredevil']\n",
      "daredevil universe, daredevil show, netflix, experience watching daredevil, optic nerve hypoplasia\n"
     ]
    },
    {
     "name": "stderr",
     "output_type": "stream",
     "text": [
      "INFO:elastic_transport.transport:POST http://localhost:9200/*/_search [status:200 duration:0.097s]\n"
     ]
    },
    {
     "name": "stdout",
     "output_type": "stream",
     "text": [
      "['matt murdoch daredevils', 'view', 'ego pretends', 'conventionally blind']\n",
      "matt murdoch daredevils, view, ego pretends, conventionally blind, optic nerve hypoplasia\n"
     ]
    },
    {
     "name": "stderr",
     "output_type": "stream",
     "text": [
      "INFO:elastic_transport.transport:POST http://localhost:9200/*/_search [status:200 duration:0.034s]\n"
     ]
    },
    {
     "name": "stdout",
     "output_type": "stream",
     "text": [
      "['blindness', 'surroundings', 'people', 'deal blindness']\n",
      "blindness, surroundings, people, deal blindness, optic nerve hypoplasia\n"
     ]
    },
    {
     "name": "stderr",
     "output_type": "stream",
     "text": [
      "INFO:elastic_transport.transport:POST http://localhost:9200/*/_search [status:200 duration:0.046s]\n"
     ]
    },
    {
     "name": "stdout",
     "output_type": "stream",
     "text": [
      "['chair', 'cane', 'room', 'cane pretend chair']\n",
      "chair, cane, room, cane pretend chair, optic nerve hypoplasia\n"
     ]
    },
    {
     "name": "stderr",
     "output_type": "stream",
     "text": [
      "INFO:elastic_transport.transport:POST http://localhost:9200/*/_search [status:200 duration:0.054s]\n"
     ]
    },
    {
     "name": "stdout",
     "output_type": "stream",
     "text": [
      "['annoying way', 'additional benefit', 'life', 'life additional benefit']\n",
      "annoying way, additional benefit, life, life additional benefit, optic nerve hypoplasia\n",
      "t3_50cmhw\n",
      "Causal Concept >>  None Topic >>  None\n"
     ]
    },
    {
     "name": "stderr",
     "output_type": "stream",
     "text": [
      "INFO:elastic_transport.transport:POST http://localhost:9200/*/_search [status:200 duration:0.041s]\n"
     ]
    },
    {
     "name": "stdout",
     "output_type": "stream",
     "text": [
      "['pot', 'positives', 'society', 'pot brings positives']\n",
      "pot, positives, society, pot brings positives\n"
     ]
    },
    {
     "name": "stderr",
     "output_type": "stream",
     "text": [
      "INFO:elastic_transport.transport:POST http://localhost:9200/*/_search [status:200 duration:0.061s]\n"
     ]
    },
    {
     "name": "stdout",
     "output_type": "stream",
     "text": [
      "['desire', 'positives', 'job', 'hooked want legalized']\n",
      "desire, positives, job, hooked want legalized\n"
     ]
    },
    {
     "name": "stderr",
     "output_type": "stream",
     "text": [
      "INFO:elastic_transport.transport:POST http://localhost:9200/*/_search [status:200 duration:0.085s]\n"
     ]
    },
    {
     "name": "stdout",
     "output_type": "stream",
     "text": [
      "['pot sales', 'medicinal use', 'tax revenue', 'tax revenue pot']\n",
      "pot sales, medicinal use, tax revenue, tax revenue pot\n"
     ]
    },
    {
     "name": "stderr",
     "output_type": "stream",
     "text": [
      "INFO:elastic_transport.transport:POST http://localhost:9200/*/_search [status:200 duration:0.068s]\n"
     ]
    },
    {
     "name": "stdout",
     "output_type": "stream",
     "text": [
      "['many drug dealers', 'legalized businesses', 'pot', 'selling pot drug']\n",
      "many drug dealers, legalized businesses, pot, selling pot drug\n",
      "['pot', 'illegal criminal activity', 'income', 'reason pot legal']\n",
      "pot, illegal criminal activity, income, reason pot legal\n"
     ]
    },
    {
     "name": "stderr",
     "output_type": "stream",
     "text": [
      "INFO:elastic_transport.transport:POST http://localhost:9200/*/_search [status:200 duration:0.195s]\n"
     ]
    },
    {
     "name": "stdout",
     "output_type": "stream",
     "text": [
      "t3_50cmhw\n",
      "Causal Concept >>  None Topic >>  None\n"
     ]
    },
    {
     "name": "stderr",
     "output_type": "stream",
     "text": [
      "INFO:elastic_transport.transport:POST http://localhost:9200/*/_search [status:200 duration:0.029s]\n"
     ]
    },
    {
     "name": "stdout",
     "output_type": "stream",
     "text": [
      "['pot', 'positives', 'society', 'pot brings positives']\n",
      "pot, positives, society, pot brings positives\n"
     ]
    },
    {
     "name": "stderr",
     "output_type": "stream",
     "text": [
      "INFO:elastic_transport.transport:POST http://localhost:9200/*/_search [status:200 duration:0.029s]\n"
     ]
    },
    {
     "name": "stdout",
     "output_type": "stream",
     "text": [
      "['desire', 'positives', 'job', 'hooked want legalized']\n",
      "desire, positives, job, hooked want legalized\n"
     ]
    },
    {
     "name": "stderr",
     "output_type": "stream",
     "text": [
      "INFO:elastic_transport.transport:POST http://localhost:9200/*/_search [status:200 duration:0.018s]\n"
     ]
    },
    {
     "name": "stdout",
     "output_type": "stream",
     "text": [
      "['pot sales', 'medicinal use', 'tax revenue', 'tax revenue pot']\n",
      "pot sales, medicinal use, tax revenue, tax revenue pot\n"
     ]
    },
    {
     "name": "stderr",
     "output_type": "stream",
     "text": [
      "INFO:elastic_transport.transport:POST http://localhost:9200/*/_search [status:200 duration:0.024s]\n"
     ]
    },
    {
     "name": "stdout",
     "output_type": "stream",
     "text": [
      "['many drug dealers', 'legalized businesses', 'pot', 'selling pot drug']\n",
      "many drug dealers, legalized businesses, pot, selling pot drug\n"
     ]
    },
    {
     "name": "stderr",
     "output_type": "stream",
     "text": [
      "INFO:elastic_transport.transport:POST http://localhost:9200/*/_search [status:200 duration:0.044s]\n"
     ]
    },
    {
     "name": "stdout",
     "output_type": "stream",
     "text": [
      "['pot', 'illegal criminal activity', 'income', 'reason pot legal']\n",
      "pot, illegal criminal activity, income, reason pot legal\n",
      "t3_1qj032\n",
      "Causal Concept >>  to support the umbrella movement of hong kong after a fullmonth duration Topic >>  growth\n",
      "['chinese rd plenum', 'news', 'place yesterday', 'chinese rd plenum']\n",
      "chinese rd plenum, news, place yesterday, chinese rd plenum, growth, to support the umbrella movement of hong kong after a fullmonth duration\n"
     ]
    },
    {
     "name": "stderr",
     "output_type": "stream",
     "text": [
      "INFO:elastic_transport.transport:POST http://localhost:9200/*/_search [status:200 duration:0.639s]\n",
      "INFO:elastic_transport.transport:POST http://localhost:9200/*/_search [status:200 duration:0.175s]\n"
     ]
    },
    {
     "name": "stdout",
     "output_type": "stream",
     "text": [
      "['china', 'breakneck pace', 'china growing breakneck']\n",
      "china, breakneck pace, china growing breakneck, growth, to support the umbrella movement of hong kong after a fullmonth duration\n",
      "['chinese gdp growth', 'growth', 'us manufacturingchina', 'chinese gdp growth']\n",
      "chinese gdp growth, growth, us manufacturingchina, chinese gdp growth, growth, to support the umbrella movement of hong kong after a fullmonth duration\n"
     ]
    },
    {
     "name": "stderr",
     "output_type": "stream",
     "text": [
      "INFO:elastic_transport.transport:POST http://localhost:9200/*/_search [status:200 duration:0.206s]\n"
     ]
    },
    {
     "name": "stdout",
     "output_type": "stream",
     "text": [
      "['countrys economy matures', 'growth', 'slowing', 'growth slows']\n",
      "countrys economy matures, growth, slowing, growth slows, growth, to support the umbrella movement of hong kong after a fullmonth duration\n"
     ]
    },
    {
     "name": "stderr",
     "output_type": "stream",
     "text": [
      "INFO:elastic_transport.transport:POST http://localhost:9200/*/_search [status:200 duration:0.206s]\n"
     ]
    },
    {
     "name": "stdout",
     "output_type": "stream",
     "text": [
      "['chinas leadership', 'reforms', 'challenges', 'chinas leadership']\n",
      "chinas leadership, reforms, challenges, chinas leadership, growth, to support the umbrella movement of hong kong after a fullmonth duration\n"
     ]
    },
    {
     "name": "stderr",
     "output_type": "stream",
     "text": [
      "INFO:elastic_transport.transport:POST http://localhost:9200/*/_search [status:200 duration:0.270s]\n"
     ]
    },
    {
     "name": "stdout",
     "output_type": "stream",
     "text": [
      "t3_55ms3y\n",
      "Causal Concept >>  None Topic >>  None\n"
     ]
    },
    {
     "name": "stderr",
     "output_type": "stream",
     "text": [
      "INFO:elastic_transport.transport:POST http://localhost:9200/*/_search [status:200 duration:0.115s]\n"
     ]
    },
    {
     "name": "stdout",
     "output_type": "stream",
     "text": [
      "['sexual orientation', 'body language', 'speech', 'sexual orientation']\n",
      "sexual orientation, body language, speech, sexual orientation\n"
     ]
    },
    {
     "name": "stderr",
     "output_type": "stream",
     "text": [
      "INFO:elastic_transport.transport:POST http://localhost:9200/*/_search [status:200 duration:0.072s]\n"
     ]
    },
    {
     "name": "stdout",
     "output_type": "stream",
     "text": [
      "['prejudice', 'flag', 'civilised society', 'laugh kind prejudice']\n",
      "prejudice, flag, civilised society, laugh kind prejudice\n"
     ]
    },
    {
     "name": "stderr",
     "output_type": "stream",
     "text": [
      "INFO:elastic_transport.transport:POST http://localhost:9200/*/_search [status:200 duration:0.038s]\n"
     ]
    },
    {
     "name": "stdout",
     "output_type": "stream",
     "text": [
      "['gaydar', 'homosexual person', 'stereotypes', 'make seen homosexual']\n",
      "gaydar, homosexual person, stereotypes, make seen homosexual\n",
      "t3_55ms3y\n",
      "Causal Concept >>  None Topic >>  None\n"
     ]
    },
    {
     "name": "stderr",
     "output_type": "stream",
     "text": [
      "INFO:elastic_transport.transport:POST http://localhost:9200/*/_search [status:200 duration:0.035s]\n"
     ]
    },
    {
     "name": "stdout",
     "output_type": "stream",
     "text": [
      "['sexual orientation', 'body language', 'speech', 'sexual orientation']\n",
      "sexual orientation, body language, speech, sexual orientation\n"
     ]
    },
    {
     "name": "stderr",
     "output_type": "stream",
     "text": [
      "INFO:elastic_transport.transport:POST http://localhost:9200/*/_search [status:200 duration:0.033s]\n"
     ]
    },
    {
     "name": "stdout",
     "output_type": "stream",
     "text": [
      "['prejudice', 'flag', 'civilised society', 'laugh kind prejudice']\n",
      "prejudice, flag, civilised society, laugh kind prejudice\n"
     ]
    },
    {
     "name": "stderr",
     "output_type": "stream",
     "text": [
      "INFO:elastic_transport.transport:POST http://localhost:9200/*/_search [status:200 duration:0.019s]\n"
     ]
    },
    {
     "name": "stdout",
     "output_type": "stream",
     "text": [
      "['gaydar', 'homosexual person', 'stereotypes', 'make seen homosexual']\n",
      "gaydar, homosexual person, stereotypes, make seen homosexual\n",
      "t3_1xny71\n",
      "Causal Concept >>  None Topic >>  star trek\n"
     ]
    },
    {
     "name": "stderr",
     "output_type": "stream",
     "text": [
      "INFO:elastic_transport.transport:POST http://localhost:9200/*/_search [status:200 duration:0.045s]\n"
     ]
    },
    {
     "name": "stdout",
     "output_type": "stream",
     "text": [
      "['star treks', 'star trek', 'future generations', 'watch star trek']\n",
      "star treks, star trek, future generations, watch star trek, star trek\n"
     ]
    },
    {
     "name": "stderr",
     "output_type": "stream",
     "text": [
      "INFO:elastic_transport.transport:POST http://localhost:9200/*/_search [status:200 duration:0.072s]\n"
     ]
    },
    {
     "name": "stdout",
     "output_type": "stream",
     "text": [
      "['science', 'tv franchise', 'basic science', 'science good tv']\n",
      "science, tv franchise, basic science, science good tv, star trek\n"
     ]
    },
    {
     "name": "stderr",
     "output_type": "stream",
     "text": [
      "INFO:elastic_transport.transport:POST http://localhost:9200/*/_search [status:200 duration:0.107s]\n"
     ]
    },
    {
     "name": "stdout",
     "output_type": "stream",
     "text": [
      "['sustainability', 'reservations', 'only reservation', 'view promote sustainability']\n",
      "sustainability, reservations, only reservation, view promote sustainability, star trek\n"
     ]
    },
    {
     "name": "stderr",
     "output_type": "stream",
     "text": [
      "INFO:elastic_transport.transport:POST http://localhost:9200/*/_search [status:200 duration:0.038s]\n"
     ]
    },
    {
     "name": "stdout",
     "output_type": "stream",
     "text": [
      "['star trek mantra', 'new civilizations', 'ethnocentric view', 'culturally star trek']\n",
      "star trek mantra, new civilizations, ethnocentric view, culturally star trek, star trek\n"
     ]
    },
    {
     "name": "stderr",
     "output_type": "stream",
     "text": [
      "INFO:elastic_transport.transport:POST http://localhost:9200/*/_search [status:200 duration:0.030s]\n"
     ]
    },
    {
     "name": "stdout",
     "output_type": "stream",
     "text": [
      "['civilization', 'humanity', 'underlying implication', 'implication civilization new']\n",
      "civilization, humanity, underlying implication, implication civilization new, star trek\n",
      "t3_446n6a\n",
      "Causal Concept >>  None Topic >>  None\n"
     ]
    },
    {
     "name": "stderr",
     "output_type": "stream",
     "text": [
      "INFO:elastic_transport.transport:POST http://localhost:9200/*/_search [status:200 duration:0.047s]\n"
     ]
    },
    {
     "name": "stdout",
     "output_type": "stream",
     "text": [
      "['conspiracy theories', 'truth', 'people', 'people like conspiracy']\n",
      "conspiracy theories, truth, people, people like conspiracy\n"
     ]
    },
    {
     "name": "stderr",
     "output_type": "stream",
     "text": [
      "INFO:elastic_transport.transport:POST http://localhost:9200/*/_search [status:200 duration:0.089s]\n"
     ]
    },
    {
     "name": "stdout",
     "output_type": "stream",
     "text": [
      "['belief spectrum', 'parts', 'spectrum theyre comforting']\n",
      "belief spectrum, parts, spectrum theyre comforting\n"
     ]
    },
    {
     "name": "stderr",
     "output_type": "stream",
     "text": [
      "INFO:elastic_transport.transport:POST http://localhost:9200/*/_search [status:200 duration:0.039s]\n"
     ]
    },
    {
     "name": "stdout",
     "output_type": "stream",
     "text": [
      "['newtown', 'false flag', 'kindergarten children', 'newtown false flag']\n",
      "newtown, false flag, kindergarten children, newtown false flag\n"
     ]
    },
    {
     "name": "stderr",
     "output_type": "stream",
     "text": [
      "INFO:elastic_transport.transport:POST http://localhost:9200/*/_search [status:200 duration:0.082s]\n"
     ]
    },
    {
     "name": "stdout",
     "output_type": "stream",
     "text": [
      "['conspiracy', 'civilians', 'aggressive attack', 'accept conspiracy aggressive']\n",
      "conspiracy, civilians, aggressive attack, accept conspiracy aggressive\n"
     ]
    },
    {
     "name": "stderr",
     "output_type": "stream",
     "text": [
      "INFO:elastic_transport.transport:POST http://localhost:9200/*/_search [status:200 duration:0.020s]\n"
     ]
    },
    {
     "name": "stdout",
     "output_type": "stream",
     "text": [
      "['autism', 'faulty gene', 'child', 'autism caused faulty']\n",
      "autism, faulty gene, child, autism caused faulty\n"
     ]
    },
    {
     "name": "stderr",
     "output_type": "stream",
     "text": [
      "INFO:elastic_transport.transport:POST http://localhost:9200/*/_search [status:200 duration:0.168s]\n"
     ]
    },
    {
     "name": "stdout",
     "output_type": "stream",
     "text": [
      "['shadow organizations', 'great plan', 'world', 'shadow organizations world']\n",
      "shadow organizations, great plan, world, shadow organizations world\n",
      "t3_5dgy81\n",
      "Causal Concept >>  neuritis Topic >>  None\n"
     ]
    },
    {
     "name": "stderr",
     "output_type": "stream",
     "text": [
      "INFO:elastic_transport.transport:POST http://localhost:9200/*/_search [status:200 duration:0.114s]\n"
     ]
    },
    {
     "name": "stdout",
     "output_type": "stream",
     "text": [
      "['trumps policy', 'narcissist', 'donald trump', 'raskreddit trump']\n",
      "trumps policy, narcissist, donald trump, raskreddit trump, neuritis\n"
     ]
    },
    {
     "name": "stderr",
     "output_type": "stream",
     "text": [
      "INFO:elastic_transport.transport:POST http://localhost:9200/*/_search [status:200 duration:0.053s]\n"
     ]
    },
    {
     "name": "stdout",
     "output_type": "stream",
     "text": [
      "['interviews', 'personality', 'election', 'personality interviews election']\n",
      "interviews, personality, election, personality interviews election, neuritis\n"
     ]
    },
    {
     "name": "stderr",
     "output_type": "stream",
     "text": [
      "INFO:elastic_transport.transport:POST http://localhost:9200/*/_search [status:200 duration:0.041s]\n"
     ]
    },
    {
     "name": "stdout",
     "output_type": "stream",
     "text": [
      "['nice guy', 'like nice guy']\n",
      "nice guy, like nice guy, neuritis\n"
     ]
    },
    {
     "name": "stderr",
     "output_type": "stream",
     "text": [
      "INFO:elastic_transport.transport:POST http://localhost:9200/*/_search [status:200 duration:0.064s]\n"
     ]
    },
    {
     "name": "stdout",
     "output_type": "stream",
     "text": [
      "['stories', 'aforementioned reddit thread', 'stories told aforementioned']\n",
      "stories, aforementioned reddit thread, stories told aforementioned, neuritis\n",
      "t3_4s5eo0\n",
      "Causal Concept >>  reconfiguration of roles and responsibilities Topic >>  None\n"
     ]
    },
    {
     "name": "stderr",
     "output_type": "stream",
     "text": [
      "INFO:elastic_transport.transport:POST http://localhost:9200/*/_search [status:200 duration:0.119s]\n"
     ]
    },
    {
     "name": "stdout",
     "output_type": "stream",
     "text": [
      "['basic ideas', 'topic', 'depths', 'basic ideas']\n",
      "basic ideas, topic, depths, basic ideas, reconfiguration of roles and responsibilities\n"
     ]
    },
    {
     "name": "stderr",
     "output_type": "stream",
     "text": [
      "INFO:elastic_transport.transport:POST http://localhost:9200/*/_search [status:200 duration:0.107s]\n"
     ]
    },
    {
     "name": "stdout",
     "output_type": "stream",
     "text": [
      "['gender roles', 'male acts', 'biological sex', 'gender roles humans']\n",
      "gender roles, male acts, biological sex, gender roles humans, reconfiguration of roles and responsibilities\n"
     ]
    },
    {
     "name": "stderr",
     "output_type": "stream",
     "text": [
      "INFO:elastic_transport.transport:POST http://localhost:9200/*/_search [status:200 duration:0.112s]\n"
     ]
    },
    {
     "name": "stdout",
     "output_type": "stream",
     "text": [
      "['genders', 'problems people', 'same problems', 'genders isnt creating']\n",
      "genders, problems people, same problems, genders isnt creating, reconfiguration of roles and responsibilities\n"
     ]
    },
    {
     "name": "stderr",
     "output_type": "stream",
     "text": [
      "INFO:elastic_transport.transport:POST http://localhost:9200/*/_search [status:200 duration:0.172s]\n"
     ]
    },
    {
     "name": "stdout",
     "output_type": "stream",
     "text": [
      "['other categories', 'human', 'complete individuel', 'having thousand categories']\n",
      "other categories, human, complete individuel, having thousand categories, reconfiguration of roles and responsibilities\n"
     ]
    },
    {
     "name": "stderr",
     "output_type": "stream",
     "text": [
      "INFO:elastic_transport.transport:POST http://localhost:9200/*/_search [status:200 duration:0.164s]\n"
     ]
    },
    {
     "name": "stdout",
     "output_type": "stream",
     "text": [
      "['view', 'whole thing', 'paradox change view']\n",
      "view, whole thing, paradox change view, reconfiguration of roles and responsibilities\n",
      "t3_3iymd6\n",
      "Causal Concept >>  abnormal facial development Topic >>  None\n"
     ]
    },
    {
     "name": "stderr",
     "output_type": "stream",
     "text": [
      "INFO:elastic_transport.transport:POST http://localhost:9200/*/_search [status:200 duration:0.085s]\n"
     ]
    },
    {
     "name": "stdout",
     "output_type": "stream",
     "text": [
      "['extreme facial asymmetry', 'fault', 'only times', 'fault disfigured born']\n",
      "extreme facial asymmetry, fault, only times, fault disfigured born, abnormal facial development\n"
     ]
    },
    {
     "name": "stderr",
     "output_type": "stream",
     "text": [
      "INFO:elastic_transport.transport:POST http://localhost:9200/*/_search [status:200 duration:0.116s]\n"
     ]
    },
    {
     "name": "stdout",
     "output_type": "stream",
     "text": [
      "['issues', 'cases', 'change issues']\n",
      "issues, cases, change issues, abnormal facial development\n"
     ]
    },
    {
     "name": "stderr",
     "output_type": "stream",
     "text": [
      "INFO:elastic_transport.transport:POST http://localhost:9200/*/_search [status:200 duration:0.069s]\n"
     ]
    },
    {
     "name": "stdout",
     "output_type": "stream",
     "text": [
      "['eye socket', 'nose', 'inches', 'eye socket yes']\n",
      "eye socket, nose, inches, eye socket yes, abnormal facial development\n"
     ]
    },
    {
     "name": "stderr",
     "output_type": "stream",
     "text": [
      "INFO:elastic_transport.transport:POST http://localhost:9200/*/_search [status:200 duration:0.020s]\n"
     ]
    },
    {
     "name": "stdout",
     "output_type": "stream",
     "text": [
      "['facial syemetry', 'fault', 'disfigured facial syemetry']\n",
      "facial syemetry, fault, disfigured facial syemetry, abnormal facial development\n",
      "t3_3iymd6\n",
      "Causal Concept >>  abnormal facial development Topic >>  None\n"
     ]
    },
    {
     "name": "stderr",
     "output_type": "stream",
     "text": [
      "INFO:elastic_transport.transport:POST http://localhost:9200/*/_search [status:200 duration:0.050s]\n"
     ]
    },
    {
     "name": "stdout",
     "output_type": "stream",
     "text": [
      "['extreme facial asymmetry', 'fault', 'only times', 'fault disfigured born']\n",
      "extreme facial asymmetry, fault, only times, fault disfigured born, abnormal facial development\n"
     ]
    },
    {
     "name": "stderr",
     "output_type": "stream",
     "text": [
      "INFO:elastic_transport.transport:POST http://localhost:9200/*/_search [status:200 duration:0.088s]\n"
     ]
    },
    {
     "name": "stdout",
     "output_type": "stream",
     "text": [
      "['issues', 'cases', 'change issues']\n",
      "issues, cases, change issues, abnormal facial development\n"
     ]
    },
    {
     "name": "stderr",
     "output_type": "stream",
     "text": [
      "INFO:elastic_transport.transport:POST http://localhost:9200/*/_search [status:200 duration:0.032s]\n"
     ]
    },
    {
     "name": "stdout",
     "output_type": "stream",
     "text": [
      "['eye socket', 'nose', 'inches', 'eye socket yes']\n",
      "eye socket, nose, inches, eye socket yes, abnormal facial development\n"
     ]
    },
    {
     "name": "stderr",
     "output_type": "stream",
     "text": [
      "INFO:elastic_transport.transport:POST http://localhost:9200/*/_search [status:200 duration:0.027s]\n"
     ]
    },
    {
     "name": "stdout",
     "output_type": "stream",
     "text": [
      "['facial syemetry', 'fault', 'disfigured facial syemetry']\n",
      "facial syemetry, fault, disfigured facial syemetry, abnormal facial development\n",
      "t3_2rcrkd\n",
      "Causal Concept >>  None Topic >>  None\n"
     ]
    },
    {
     "name": "stderr",
     "output_type": "stream",
     "text": [
      "INFO:elastic_transport.transport:POST http://localhost:9200/*/_search [status:200 duration:0.058s]\n"
     ]
    },
    {
     "name": "stdout",
     "output_type": "stream",
     "text": [
      "['assumptions', 'title', 'attention', 'title attention']\n",
      "assumptions, title, attention, title attention\n"
     ]
    },
    {
     "name": "stderr",
     "output_type": "stream",
     "text": [
      "INFO:elastic_transport.transport:POST http://localhost:9200/*/_search [status:200 duration:0.101s]\n"
     ]
    },
    {
     "name": "stdout",
     "output_type": "stream",
     "text": [
      "['veganvegetarian diet', 'demand meat farmers', 'animal welfare', 'adopting veganvegetarian diet']\n",
      "veganvegetarian diet, demand meat farmers, animal welfare, adopting veganvegetarian diet\n"
     ]
    },
    {
     "name": "stderr",
     "output_type": "stream",
     "text": [
      "INFO:elastic_transport.transport:POST http://localhost:9200/*/_search [status:200 duration:0.025s]\n"
     ]
    },
    {
     "name": "stdout",
     "output_type": "stream",
     "text": [
      "['vegetarian diet', 'animal welfare', 'vegan', 'vegan vegetarian diet']\n",
      "vegetarian diet, animal welfare, vegan, vegan vegetarian diet\n"
     ]
    },
    {
     "name": "stderr",
     "output_type": "stream",
     "text": [
      "INFO:elastic_transport.transport:POST http://localhost:9200/*/_search [status:200 duration:0.032s]\n"
     ]
    },
    {
     "name": "stdout",
     "output_type": "stream",
     "text": [
      "['ethical meatgrowing', 'animal welfare', 'less meat', 'produce meat ethical']\n",
      "ethical meatgrowing, animal welfare, less meat, produce meat ethical\n"
     ]
    },
    {
     "name": "stderr",
     "output_type": "stream",
     "text": [
      "INFO:elastic_transport.transport:POST http://localhost:9200/*/_search [status:200 duration:0.069s]\n"
     ]
    },
    {
     "name": "stdout",
     "output_type": "stream",
     "text": [
      "['vegan diet', 'practice', 'easier evangelize vegetarian']\n",
      "vegan diet, practice, easier evangelize vegetarian\n",
      "t3_20ba8v\n",
      "Causal Concept >>  orbital resonance Topic >>  None\n"
     ]
    },
    {
     "name": "stderr",
     "output_type": "stream",
     "text": [
      "INFO:elastic_transport.transport:POST http://localhost:9200/*/_search [status:200 duration:0.067s]\n"
     ]
    },
    {
     "name": "stdout",
     "output_type": "stream",
     "text": [
      "['umberto eco', 'foucaults pendulum', 'exceptions', 'pendulum happen agree']\n",
      "umberto eco, foucaults pendulum, exceptions, pendulum happen agree, orbital resonance\n",
      "t3_1r0hue\n",
      "Causal Concept >>  None Topic >>  None\n"
     ]
    },
    {
     "name": "stderr",
     "output_type": "stream",
     "text": [
      "INFO:elastic_transport.transport:POST http://localhost:9200/*/_search [status:200 duration:0.164s]\n"
     ]
    },
    {
     "name": "stdout",
     "output_type": "stream",
     "text": [
      "['hypocritical christians', 'homeless', 'goto accusation', 'idea serving homeless']\n",
      "hypocritical christians, homeless, goto accusation, idea serving homeless\n"
     ]
    },
    {
     "name": "stderr",
     "output_type": "stream",
     "text": [
      "INFO:elastic_transport.transport:POST http://localhost:9200/*/_search [status:200 duration:0.035s]\n"
     ]
    },
    {
     "name": "stdout",
     "output_type": "stream",
     "text": [
      "['homeless people', 'jesus', 'physicalemotionalsocial support', 'jesus avoid homeless']\n",
      "homeless people, jesus, physicalemotionalsocial support, jesus avoid homeless\n"
     ]
    },
    {
     "name": "stderr",
     "output_type": "stream",
     "text": [
      "INFO:elastic_transport.transport:POST http://localhost:9200/*/_search [status:200 duration:0.072s]\n"
     ]
    },
    {
     "name": "stdout",
     "output_type": "stream",
     "text": [
      "['punchline', 'homeless person', 'drugs', 'spend drugs know']\n",
      "punchline, homeless person, drugs, spend drugs know\n"
     ]
    },
    {
     "name": "stderr",
     "output_type": "stream",
     "text": [
      "INFO:elastic_transport.transport:POST http://localhost:9200/*/_search [status:200 duration:0.065s]\n"
     ]
    },
    {
     "name": "stdout",
     "output_type": "stream",
     "text": [
      "['houses', 'family', 'friends', 'houses anymore steal']\n",
      "houses, family, friends, houses anymore steal\n"
     ]
    },
    {
     "name": "stderr",
     "output_type": "stream",
     "text": [
      "INFO:elastic_transport.transport:POST http://localhost:9200/*/_search [status:200 duration:0.058s]\n"
     ]
    },
    {
     "name": "stdout",
     "output_type": "stream",
     "text": [
      "['freeway offramp', 'everyones', 'guys', 'limp freeway offramp']\n",
      "freeway offramp, everyones, guys, limp freeway offramp\n",
      "t3_1r0hue\n",
      "Causal Concept >>  None Topic >>  None\n"
     ]
    },
    {
     "name": "stderr",
     "output_type": "stream",
     "text": [
      "INFO:elastic_transport.transport:POST http://localhost:9200/*/_search [status:200 duration:0.015s]\n"
     ]
    },
    {
     "name": "stdout",
     "output_type": "stream",
     "text": [
      "['hypocritical christians', 'homeless', 'goto accusation', 'idea serving homeless']\n",
      "hypocritical christians, homeless, goto accusation, idea serving homeless\n"
     ]
    },
    {
     "name": "stderr",
     "output_type": "stream",
     "text": [
      "INFO:elastic_transport.transport:POST http://localhost:9200/*/_search [status:200 duration:0.029s]\n"
     ]
    },
    {
     "name": "stdout",
     "output_type": "stream",
     "text": [
      "['homeless people', 'jesus', 'physicalemotionalsocial support', 'jesus avoid homeless']\n",
      "homeless people, jesus, physicalemotionalsocial support, jesus avoid homeless\n"
     ]
    },
    {
     "name": "stderr",
     "output_type": "stream",
     "text": [
      "INFO:elastic_transport.transport:POST http://localhost:9200/*/_search [status:200 duration:0.037s]\n"
     ]
    },
    {
     "name": "stdout",
     "output_type": "stream",
     "text": [
      "['punchline', 'homeless person', 'drugs', 'spend drugs know']\n",
      "punchline, homeless person, drugs, spend drugs know\n"
     ]
    },
    {
     "name": "stderr",
     "output_type": "stream",
     "text": [
      "INFO:elastic_transport.transport:POST http://localhost:9200/*/_search [status:200 duration:0.045s]\n"
     ]
    },
    {
     "name": "stdout",
     "output_type": "stream",
     "text": [
      "['houses', 'family', 'friends', 'houses anymore steal']\n",
      "houses, family, friends, houses anymore steal\n"
     ]
    },
    {
     "name": "stderr",
     "output_type": "stream",
     "text": [
      "INFO:elastic_transport.transport:POST http://localhost:9200/*/_search [status:200 duration:0.007s]\n"
     ]
    },
    {
     "name": "stdout",
     "output_type": "stream",
     "text": [
      "['freeway offramp', 'everyones', 'guys', 'limp freeway offramp']\n",
      "freeway offramp, everyones, guys, limp freeway offramp\n",
      "t3_3rdnyj\n",
      "Causal Concept >>  power Topic >>  None\n"
     ]
    },
    {
     "name": "stderr",
     "output_type": "stream",
     "text": [
      "INFO:elastic_transport.transport:POST http://localhost:9200/*/_search [status:200 duration:0.066s]\n"
     ]
    },
    {
     "name": "stdout",
     "output_type": "stream",
     "text": [
      "['superpower', 'fun discussing', 'topic', 'discussing imagine superpower']\n",
      "superpower, fun discussing, topic, discussing imagine superpower, power\n"
     ]
    },
    {
     "name": "stderr",
     "output_type": "stream",
     "text": [
      "INFO:elastic_transport.transport:POST http://localhost:9200/*/_search [status:200 duration:0.136s]\n"
     ]
    },
    {
     "name": "stdout",
     "output_type": "stream",
     "text": [
      "['power', 'many implications', 'daily lives', 'power affect']\n",
      "power, many implications, daily lives, power affect, power\n"
     ]
    },
    {
     "name": "stderr",
     "output_type": "stream",
     "text": [
      "INFO:elastic_transport.transport:POST http://localhost:9200/*/_search [status:200 duration:0.081s]\n"
     ]
    },
    {
     "name": "stdout",
     "output_type": "stream",
     "text": [
      "['superpowers', 'power', 'rewind', 'superpowers starting topic']\n",
      "superpowers, power, rewind, superpowers starting topic, power\n"
     ]
    },
    {
     "name": "stderr",
     "output_type": "stream",
     "text": [
      "INFO:elastic_transport.transport:POST http://localhost:9200/*/_search [status:200 duration:0.137s]\n"
     ]
    },
    {
     "name": "stdout",
     "output_type": "stream",
     "text": [
      "['topic', 'thing ptldr', 'damn', 'topic massive hypothetical']\n",
      "topic, thing ptldr, damn, topic massive hypothetical, power\n"
     ]
    },
    {
     "name": "stderr",
     "output_type": "stream",
     "text": [
      "INFO:elastic_transport.transport:POST http://localhost:9200/*/_search [status:200 duration:0.028s]\n"
     ]
    },
    {
     "name": "stdout",
     "output_type": "stream",
     "text": [
      "[' ']\n",
      " , power\n",
      "t3_3rdnyj\n",
      "Causal Concept >>  power Topic >>  None\n"
     ]
    },
    {
     "name": "stderr",
     "output_type": "stream",
     "text": [
      "INFO:elastic_transport.transport:POST http://localhost:9200/*/_search [status:200 duration:0.013s]\n"
     ]
    },
    {
     "name": "stdout",
     "output_type": "stream",
     "text": [
      "['superpower', 'fun discussing', 'topic', 'discussing imagine superpower']\n",
      "superpower, fun discussing, topic, discussing imagine superpower, power\n"
     ]
    },
    {
     "name": "stderr",
     "output_type": "stream",
     "text": [
      "INFO:elastic_transport.transport:POST http://localhost:9200/*/_search [status:200 duration:0.072s]\n"
     ]
    },
    {
     "name": "stdout",
     "output_type": "stream",
     "text": [
      "['power', 'many implications', 'daily lives', 'power affect']\n",
      "power, many implications, daily lives, power affect, power\n"
     ]
    },
    {
     "name": "stderr",
     "output_type": "stream",
     "text": [
      "INFO:elastic_transport.transport:POST http://localhost:9200/*/_search [status:200 duration:0.033s]\n"
     ]
    },
    {
     "name": "stdout",
     "output_type": "stream",
     "text": [
      "['superpowers', 'power', 'rewind', 'superpowers starting topic']\n",
      "superpowers, power, rewind, superpowers starting topic, power\n"
     ]
    },
    {
     "name": "stderr",
     "output_type": "stream",
     "text": [
      "INFO:elastic_transport.transport:POST http://localhost:9200/*/_search [status:200 duration:0.021s]\n"
     ]
    },
    {
     "name": "stdout",
     "output_type": "stream",
     "text": [
      "['topic', 'thing ptldr', 'damn', 'topic massive hypothetical']\n",
      "topic, thing ptldr, damn, topic massive hypothetical, power\n"
     ]
    },
    {
     "name": "stderr",
     "output_type": "stream",
     "text": [
      "INFO:elastic_transport.transport:POST http://localhost:9200/*/_search [status:200 duration:0.017s]\n"
     ]
    },
    {
     "name": "stdout",
     "output_type": "stream",
     "text": [
      "[' ']\n",
      " , power\n",
      "t3_3rdnyj\n",
      "Causal Concept >>  power Topic >>  None\n"
     ]
    },
    {
     "name": "stderr",
     "output_type": "stream",
     "text": [
      "INFO:elastic_transport.transport:POST http://localhost:9200/*/_search [status:200 duration:0.028s]\n"
     ]
    },
    {
     "name": "stdout",
     "output_type": "stream",
     "text": [
      "['superpower', 'fun discussing', 'topic', 'discussing imagine superpower']\n",
      "superpower, fun discussing, topic, discussing imagine superpower, power\n"
     ]
    },
    {
     "name": "stderr",
     "output_type": "stream",
     "text": [
      "INFO:elastic_transport.transport:POST http://localhost:9200/*/_search [status:200 duration:0.067s]\n"
     ]
    },
    {
     "name": "stdout",
     "output_type": "stream",
     "text": [
      "['power', 'many implications', 'daily lives', 'power affect']\n",
      "power, many implications, daily lives, power affect, power\n"
     ]
    },
    {
     "name": "stderr",
     "output_type": "stream",
     "text": [
      "INFO:elastic_transport.transport:POST http://localhost:9200/*/_search [status:200 duration:0.014s]\n"
     ]
    },
    {
     "name": "stdout",
     "output_type": "stream",
     "text": [
      "['superpowers', 'power', 'rewind', 'superpowers starting topic']\n",
      "superpowers, power, rewind, superpowers starting topic, power\n"
     ]
    },
    {
     "name": "stderr",
     "output_type": "stream",
     "text": [
      "INFO:elastic_transport.transport:POST http://localhost:9200/*/_search [status:200 duration:0.039s]\n"
     ]
    },
    {
     "name": "stdout",
     "output_type": "stream",
     "text": [
      "['topic', 'thing ptldr', 'damn', 'topic massive hypothetical']\n",
      "topic, thing ptldr, damn, topic massive hypothetical, power\n"
     ]
    },
    {
     "name": "stderr",
     "output_type": "stream",
     "text": [
      "INFO:elastic_transport.transport:POST http://localhost:9200/*/_search [status:200 duration:0.010s]\n"
     ]
    },
    {
     "name": "stdout",
     "output_type": "stream",
     "text": [
      "[' ']\n",
      " , power\n",
      "t3_3rdnyj\n",
      "Causal Concept >>  power Topic >>  None\n"
     ]
    },
    {
     "name": "stderr",
     "output_type": "stream",
     "text": [
      "INFO:elastic_transport.transport:POST http://localhost:9200/*/_search [status:200 duration:0.029s]\n"
     ]
    },
    {
     "name": "stdout",
     "output_type": "stream",
     "text": [
      "['superpower', 'fun discussing', 'topic', 'discussing imagine superpower']\n",
      "superpower, fun discussing, topic, discussing imagine superpower, power\n"
     ]
    },
    {
     "name": "stderr",
     "output_type": "stream",
     "text": [
      "INFO:elastic_transport.transport:POST http://localhost:9200/*/_search [status:200 duration:0.074s]\n"
     ]
    },
    {
     "name": "stdout",
     "output_type": "stream",
     "text": [
      "['power', 'many implications', 'daily lives', 'power affect']\n",
      "power, many implications, daily lives, power affect, power\n"
     ]
    },
    {
     "name": "stderr",
     "output_type": "stream",
     "text": [
      "INFO:elastic_transport.transport:POST http://localhost:9200/*/_search [status:200 duration:0.026s]\n"
     ]
    },
    {
     "name": "stdout",
     "output_type": "stream",
     "text": [
      "['superpowers', 'power', 'rewind', 'superpowers starting topic']\n",
      "superpowers, power, rewind, superpowers starting topic, power\n"
     ]
    },
    {
     "name": "stderr",
     "output_type": "stream",
     "text": [
      "INFO:elastic_transport.transport:POST http://localhost:9200/*/_search [status:200 duration:0.042s]\n"
     ]
    },
    {
     "name": "stdout",
     "output_type": "stream",
     "text": [
      "['topic', 'thing ptldr', 'damn', 'topic massive hypothetical']\n",
      "topic, thing ptldr, damn, topic massive hypothetical, power\n"
     ]
    },
    {
     "name": "stderr",
     "output_type": "stream",
     "text": [
      "INFO:elastic_transport.transport:POST http://localhost:9200/*/_search [status:200 duration:0.005s]\n"
     ]
    },
    {
     "name": "stdout",
     "output_type": "stream",
     "text": [
      "[' ']\n",
      " , power\n",
      "t3_3rdnyj\n",
      "Causal Concept >>  power Topic >>  None\n"
     ]
    },
    {
     "name": "stderr",
     "output_type": "stream",
     "text": [
      "INFO:elastic_transport.transport:POST http://localhost:9200/*/_search [status:200 duration:0.014s]\n"
     ]
    },
    {
     "name": "stdout",
     "output_type": "stream",
     "text": [
      "['superpower', 'fun discussing', 'topic', 'discussing imagine superpower']\n",
      "superpower, fun discussing, topic, discussing imagine superpower, power\n"
     ]
    },
    {
     "name": "stderr",
     "output_type": "stream",
     "text": [
      "INFO:elastic_transport.transport:POST http://localhost:9200/*/_search [status:200 duration:0.050s]\n"
     ]
    },
    {
     "name": "stdout",
     "output_type": "stream",
     "text": [
      "['power', 'many implications', 'daily lives', 'power affect']\n",
      "power, many implications, daily lives, power affect, power\n"
     ]
    },
    {
     "name": "stderr",
     "output_type": "stream",
     "text": [
      "INFO:elastic_transport.transport:POST http://localhost:9200/*/_search [status:200 duration:0.013s]\n"
     ]
    },
    {
     "name": "stdout",
     "output_type": "stream",
     "text": [
      "['superpowers', 'power', 'rewind', 'superpowers starting topic']\n",
      "superpowers, power, rewind, superpowers starting topic, power\n"
     ]
    },
    {
     "name": "stderr",
     "output_type": "stream",
     "text": [
      "INFO:elastic_transport.transport:POST http://localhost:9200/*/_search [status:200 duration:0.038s]\n"
     ]
    },
    {
     "name": "stdout",
     "output_type": "stream",
     "text": [
      "['topic', 'thing ptldr', 'damn', 'topic massive hypothetical']\n",
      "topic, thing ptldr, damn, topic massive hypothetical, power\n"
     ]
    },
    {
     "name": "stderr",
     "output_type": "stream",
     "text": [
      "INFO:elastic_transport.transport:POST http://localhost:9200/*/_search [status:200 duration:0.014s]\n"
     ]
    },
    {
     "name": "stdout",
     "output_type": "stream",
     "text": [
      "[' ']\n",
      " , power\n",
      "t3_3rdnyj\n",
      "Causal Concept >>  power Topic >>  None\n"
     ]
    },
    {
     "name": "stderr",
     "output_type": "stream",
     "text": [
      "INFO:elastic_transport.transport:POST http://localhost:9200/*/_search [status:200 duration:0.018s]\n"
     ]
    },
    {
     "name": "stdout",
     "output_type": "stream",
     "text": [
      "['superpower', 'fun discussing', 'topic', 'discussing imagine superpower']\n",
      "superpower, fun discussing, topic, discussing imagine superpower, power\n"
     ]
    },
    {
     "name": "stderr",
     "output_type": "stream",
     "text": [
      "INFO:elastic_transport.transport:POST http://localhost:9200/*/_search [status:200 duration:0.069s]\n"
     ]
    },
    {
     "name": "stdout",
     "output_type": "stream",
     "text": [
      "['power', 'many implications', 'daily lives', 'power affect']\n",
      "power, many implications, daily lives, power affect, power\n"
     ]
    },
    {
     "name": "stderr",
     "output_type": "stream",
     "text": [
      "INFO:elastic_transport.transport:POST http://localhost:9200/*/_search [status:200 duration:0.031s]\n"
     ]
    },
    {
     "name": "stdout",
     "output_type": "stream",
     "text": [
      "['superpowers', 'power', 'rewind', 'superpowers starting topic']\n",
      "superpowers, power, rewind, superpowers starting topic, power\n"
     ]
    },
    {
     "name": "stderr",
     "output_type": "stream",
     "text": [
      "INFO:elastic_transport.transport:POST http://localhost:9200/*/_search [status:200 duration:0.034s]\n"
     ]
    },
    {
     "name": "stdout",
     "output_type": "stream",
     "text": [
      "['topic', 'thing ptldr', 'damn', 'topic massive hypothetical']\n",
      "topic, thing ptldr, damn, topic massive hypothetical, power\n"
     ]
    },
    {
     "name": "stderr",
     "output_type": "stream",
     "text": [
      "INFO:elastic_transport.transport:POST http://localhost:9200/*/_search [status:200 duration:0.012s]\n"
     ]
    },
    {
     "name": "stdout",
     "output_type": "stream",
     "text": [
      "[' ']\n",
      " , power\n"
     ]
    }
   ],
   "source": [
    "from tqdm.notebook import tqdm\n",
    "from src.detection.stance_classifier import sentence_stance, compare_stance\n",
    "from src.utils_.word_net_expansion import expand_query\n",
    "from src.detection.stance_classifier import sentence_stance\n",
    "import time\n",
    "\n",
    "### RETRIEVER ###\n",
    "db = db\n",
    "queries = []\n",
    "retrieved_ev = []\n",
    "\n",
    "topic_ids = [json.loads(ln)[\"id\"] for ln in open(\"../data/argument_topic_concept.jsonl\")]\n",
    "concept_ids = [json.loads(ln)[\"id\"] for ln in open(\"../data/argument_concept.jsonl\")]\n",
    "#extract_ids = [json.loads(ln)[\"id\"] for ln in open(\"../data/argument_extracts.jsonl\")]\n",
    "\n",
    "def get_notion(notions_ids, notions_lst, arg_id, label):\n",
    "    notion_id = notions_ids.index(arg_id)\n",
    "    notion = notions_lst[notion_id][label]\n",
    "    return str(notion) if notion else None\n",
    "\n",
    "# DONE: Sentential Ranking\n",
    "# DONE: Include Topic Label\n",
    "# DONE: Include Concept Label\n",
    "# DONE: Add News\n",
    "# TODOs: Targeted Retreival with Semantic Graphs\n",
    "# TODOs: Target Argumentative Content Only\n",
    "# TODOs: Targeted Argument Content: Adus + Extractive Summary\n",
    "# TODOs: Query Expansion\n",
    "# TODOs: Multi-Field Search\n",
    "# TODOs: Additional News and Knowledge Sources\n",
    "\n",
    "# EXPERIMENT: Full Argument vs Extract\n",
    "def retrieved_evidence(arg, query_expansion=True, retrieve_len=5):\n",
    "    \"\"\" Retrieves Evidence from Knowledge base, returning a well-formed Retrieved Evidence Object\n",
    "    given an input Argument\"\"\"\n",
    "\n",
    "    id_ = arg[\"id\"]\n",
    "    topic = get_notion(topic_ids, topics, id_, \"topic_label\")\n",
    "    concept = get_notion(concept_ids, concepts, id_, \"concept_label\")\n",
    "    print(id_)\n",
    "    #extract = get_notion(extract_ids, extracts, id_, \"extract\")\n",
    "\n",
    "    print(\"Causal Concept >> \", concept, \"Topic >> \", topic)\n",
    "    #counters_sents = sentences_segment(arg[\"counter\"][\"counter\"])\n",
    "    adu_sents = sentences_segment(arg[\"argument\"][\"argument\"])\n",
    "\n",
    "    # Retrieve per ADU\n",
    "    # results = []\n",
    "    retrieved = []\n",
    "    adus = []\n",
    "    # Note: Sentenital Analysis\n",
    "    for _ in adu_sents:\n",
    "        if len(tokeniser(_)) <= 8:\n",
    "            continue\n",
    "\n",
    "        kp = extract_keyphrase(_)\n",
    "        print(kp)\n",
    "        adu = {\"sentence\": _, \"kp\": [i for i in kp], \"stance\": sentence_stance(_, kp[0])}\n",
    "\n",
    "        kp.append(topic) if topic else kp\n",
    "        kp.append(concept) if concept else kp\n",
    "\n",
    "        query = \", \".join(i for i in kp)\n",
    "        print(query)\n",
    "\n",
    "        # TODOs: Add title field for all ES indices to enable multi-field search\n",
    "        # search = [(i[\"_source\"][\"document\"][\"title\"], i[\"_source\"][\"document\"][\"text\"])for i in db.search(query_=query, k=retrieve_len]\n",
    "        search = [(i[\"_source\"][\"document\"][\"source\"], i[\"_source\"][\"document\"][\"text\"]) for i in db.search(query_=query, k=retrieve_len)]\n",
    "\n",
    "        evidence = [i[1] for i in search]\n",
    "        source = [i[0] for i in search]\n",
    "\n",
    "        ev_kp = extract_keyphrase(evidence)\n",
    "\n",
    "        retrieved.append({\"passages\": evidence, \"kp\": [i[0] for i in ev_kp], \"source\": source})\n",
    "        adus.append(adu)\n",
    "\n",
    "    return ({\n",
    "        \"id\": arg[\"id\"],\n",
    "        \"argument\": [i for i in adus],\n",
    "        \"retrieved\": [i for i in retrieved]\n",
    "    })\n",
    "\n",
    "\n",
    "retrieved_ev = []\n",
    "#sample = 100\n",
    "\n",
    "# TODOs: Save and Load as Checkpoints\n",
    "tic = time.time()\n",
    "with tqdm(total=(sample), position=0, leave=True) as pbar:\n",
    "    for arg in args:\n",
    "        # TODOs: Handel Blanks\n",
    "        #if arg[\"argument\"][\"argument\"] != \"\":\n",
    "        retrieved_ev.append(retrieved_evidence(arg))\n",
    "        pbar.update()\n",
    "\n",
    "toc = time.time()\n",
    "duration = toc - tic"
   ]
  },
  {
   "cell_type": "code",
   "execution_count": 286,
   "outputs": [
    {
     "name": "stdout",
     "output_type": "stream",
     "text": [
      "100\n"
     ]
    },
    {
     "data": {
      "text/plain": "{'id': 't3_30oi71',\n 'argument': [{'sentence': 'Section I Why is Basic Income Increasingly Popular?',\n   'kp': ['basic income', 'section', 'basic income increasingly'],\n   'stance': 'NEUTRAL'},\n  {'sentence': 'Basic income is a policy that has broad support from both the progressive left and libertarian right.',\n   'kp': ['basic income',\n    'libertarian right',\n    'broad support',\n    'basic income'],\n   'stance': 'PRO'},\n  {'sentence': 'Centerleft economists including Paul Krugman have endorsed the scheme for various reasons.',\n   'kp': ['centerleft economists',\n    'paul krugman',\n    'scheme',\n    'krugman endorsed scheme'],\n   'stance': 'PRO'},\n  {'sentence': 'BI also reduces inequality by redistributing income from capital to labor.',\n   'kp': ['income', 'inequality', 'bi', 'bi reduces inequality'],\n   'stance': 'CON'}],\n 'retrieved': [{'passages': [\"A few special types of gains and losses are not shown in the income statement but as special items in shareholder equity section of the balance sheet. Since these comprehensive income items are not closed to retained earnings each period they accumulate as shareholder equity items and thus are entitled 'Accumulated Other Comprehensive Income' and is sometimes referred to as 'AOCI'. Accumulated other comprehensive income is a subsection in equity where 'other comprehensive income' is accumulated (summed or 'aggregated').\",\n    \"Committee member Lady Rhys-Williams argued that the incomes for adults should be more like a basic income. She was also the first to develop the negative income tax model. Her son Brandon Rhys Williams proposed a basic income to a parliamentary committee in 1982, and soon after that in 1984, the Basic Income Research Group, now the Citizen's Basic Income Trust, began to conduct and disseminate research on basic income.\",\n    \"Accumulated other comprehensive income is a subsection in equity where 'other comprehensive income' is accumulated (summed or 'aggregated'). The balance of AOCI is presented in the Equity section of the Balance Sheet as is the Retained Earnings balance, which aggregates past and current Earnings, and past and current Dividends. Other comprehensive income.\",\n    \"Items included in comprehensive income, but not net income are reported under the accumulated other comprehensive income section of shareholder's equity. Financial analysis. Comprehensive income attempts to measure the sum total of all operating and financial events that have changed the value of an owner's interest in a business.\",\n    \"Several British academics have been involved in the basic income debate. Among them the following:Organisations. The organisation Basic Income UK is 'a collective of independent people promoting unconditional basic income as a progressive social policy for the United Kingdom, and beyond'.\"],\n   'kp': ['accumulated other comprehensive income',\n    'basic income',\n    'accumulated other comprehensive income',\n    'equity comprehensive income'],\n   'source': ['wikipedia',\n    'wikipedia',\n    'wikipedia',\n    'wikipedia',\n    'wikipedia']},\n  {'passages': [\"But although conservative and libertarian support was a central part of support for the negative income tax in the 1970s, it remains a small part today. But far more of the contemporary support for basic income in the United States has come from the left of center, driving by people who see it as a major expansion of support for low-income people, as the late, Al Sheahan argued in his 2012 book, 'the Basic Income Guarantee': 'Your right' 'to economic security'. Former Labor Secretary Robert Reich has argued forceful for basic income.\",\n    \"Committee member Lady Rhys-Williams argued that the incomes for adults should be more like a basic income. She was also the first to develop the negative income tax model. Her son Brandon Rhys Williams proposed a basic income to a parliamentary committee in 1982, and soon after that in 1984, the Basic Income Research Group, now the Citizen's Basic Income Trust, began to conduct and disseminate research on basic income.\",\n    \"2018 California gubernatorial campaign. Istvan emphasized science, technology, longevity, transhumanism and Libertarian values in his California gubernatorial run, along with support for basic income. He suggested basic income could be paid for without raising taxes through a 'Federal Land Dividend'.\",\n    'The British Columbia Basic Income Expert Panel Report assesses a basic income for British Columbia. Among the types of basic income examined is a universal basic income (UBI). The BC Green Party made a study of basic income a requirement before it would support the NDP’s minority government and, in July 2018, the BC Basic Income Expert Panel was appointed.',\n    \"Right to Laziness, or Right to Survival?'). In 2013, activists and social scientists joined the European Citizens' Initiative for Unconditional Basic Income, and have created a campaign to support unconditional basic income. In the Czech Republic, unconditional basic income is supported by many individuals, NGOs (Alternativa zdola, ProAlt, Levá perspektiva, for example), and political parties.\"],\n   'kp': ['basic income',\n    'basic income',\n    'gubernatorial campaign',\n    'support basic income'],\n   'source': ['wikipedia',\n    'wikipedia',\n    'wikipedia',\n    'wikipedia',\n    'wikipedia']},\n  {'passages': ['Increasing demand for labor (lower income or skills) would increase incomes. Income changes. Another narrative described by Paul Krugman is that a resurgence of movement conservatism since the 1970s, embodied by Reaganomics in the United States during the 1980s, resulted in a variety of policies that favored owners of capital and natural resources over laborers.',\n    \"Compression and divergence in tax code changes. Princeton economics professor, Nobel laureate, and John Bates Clarke Award winner Paul Krugman argues that politics not economic conditions have made income inequality in the United States 'unique' and to a degree that 'other advanced countries have not seen.' According to Krugman, government action can either compress or widen income inequality through tax policy and other redistributive or transfer policies.\",\n    \"Other causes. Shifts in political power. Paul Krugman wrote in 2015 that: 'Economists struggling to make sense of economic polarization are, increasingly, talking not about technology but about power.'\",\n    'This emerged as a consensus among some policy makers and economists for Keynesian solutions. Figures in this school included Dominique Strauss-Kahn, Olivier Blanchard, Gordon Brown, Paul Krugman, and Martin Wolf. Austerity was another response, the policy of reducing government budget deficits.',\n    'Additionally, Krugman does not comment on the technical and financial limitations of policy implementation in a global financial market. Once an economy has recovered, Krugman advocates that preventative measures should be placed in the financial system, but implementing these reforms may be challenging when financial players are operating in their usual profit-maximising way. Krugman suggests stimulating demand via increasing consumption, investment, and government expenditure, but does not explain how to fund an increase in income.'],\n   'kp': ['reaganomics',\n    'widen income inequality',\n    'economic polarization',\n    'movement conservatism 1970s'],\n   'source': ['wikipedia',\n    'wikipedia',\n    'wikipedia',\n    'wikipedia',\n    'wikipedia']},\n  {'passages': ['Among low-income households the difference between incomes do not significantly vary. Thus, income inequality is generally stronger among high-income households – i.e., upper- tail income inequality. In other words, there is little or no significant impact of the income inequality on income segregation among low-income households.',\n    'Taxes. Income taxes provide one mechanism for addressing after-tax inequality. Increasing the effective progressivity of income taxes reduces the gap between higher and lower incomes.',\n    'Because these income inequality metrics are summary statistics that seek to aggregate an entire distribution of incomes into a single index, the information on the measured inequality is reduced. This information reduction of course is the goal of computing inequality measures, as it reduces complexity. A weaker reduction of complexity is achieved if income distributions are described by shares of total income.',\n    'Income inequality and the Segregation of Poverty and Affluence. Income inequality affects income segregation. Among low-income households the difference between incomes do not significantly vary.',\n    \"Rural households' incomes increase as a result, and income inequality decreases. Results of this study can assist in reducing poverty and inequality among socioeconomic groups as well as reducing income gaps between them during economic transitions. An analysis of industrialization in rural China connects three major phenomena: industrial clustering, poverty reduction, and income inequality.\"],\n   'kp': ['income inequality',\n    'tax inequality',\n    'income inequality metrics',\n    'inequality income segregation'],\n   'source': ['wikipedia',\n    'wikipedia',\n    'wikipedia',\n    'wikipedia',\n    'wikipedia']}]}"
     },
     "execution_count": 286,
     "metadata": {},
     "output_type": "execute_result"
    }
   ],
   "source": [
    "print(len(retrieved_ev))\n",
    "retrieved_ev[0]"
   ],
   "metadata": {
    "collapsed": false,
    "pycharm": {
     "name": "#%%\n"
    }
   }
  },
  {
   "cell_type": "code",
   "execution_count": 240,
   "outputs": [
    {
     "name": "stderr",
     "output_type": "stream",
     "text": [
      "INFO:sentence_transformers.SentenceTransformer:Load pretrained SentenceTransformer: all-MiniLM-L6-v2\n",
      "INFO:sentence_transformers.SentenceTransformer:Use pytorch device: cpu\n"
     ]
    },
    {
     "data": {
      "text/plain": "  0%|          | 0/10 [00:00<?, ?it/s]",
      "application/vnd.jupyter.widget-view+json": {
       "version_major": 2,
       "version_minor": 0,
       "model_id": "8a7ef3c4f6b14576b9a388888adf206d"
      },
      "application/json": {
       "n": 0,
       "total": 10,
       "elapsed": 0.00724482536315918,
       "ncols": null,
       "nrows": null,
       "prefix": "",
       "ascii": false,
       "unit": "it",
       "unit_scale": false,
       "rate": null,
       "bar_format": null,
       "postfix": null,
       "unit_divisor": 1000,
       "initial": 0,
       "colour": null
      }
     },
     "metadata": {},
     "output_type": "display_data"
    },
    {
     "data": {
      "text/plain": "[{'id': 't3_30oi71',\n  'argument': [{'sentence': 'Section I Why is Basic Income Increasingly Popular?',\n    'kp': ['basic income', 'section', 'basic income increasingly'],\n    'stance': 'NEUTRAL'},\n   {'sentence': 'Basic income is a policy that has broad support from both the progressive left and libertarian right.',\n    'kp': ['basic income',\n     'libertarian right',\n     'broad support',\n     'basic income'],\n    'stance': 'PRO'},\n   {'sentence': 'Centerleft economists including Paul Krugman have endorsed the scheme for various reasons.',\n    'kp': ['centerleft economists',\n     'paul krugman',\n     'scheme',\n     'krugman endorsed scheme'],\n    'stance': 'PRO'},\n   {'sentence': 'BI also reduces inequality by redistributing income from capital to labor.',\n    'kp': ['income', 'inequality', 'bi', 'bi reduces inequality'],\n    'stance': 'CON'}],\n  'retrieved': [{'ranked_passages': \"The organisation Basic Income UK is 'a collective of independent people promoting unconditional basic income as a progressive social policy for the United Kingdom, and beyond'., Several British academics have been involved in the basic income debate., Her son Brandon Rhys Williams proposed a basic income to a parliamentary committee in 1982, and soon after that in 1984, the Basic Income Research Group, now the Citizen's Basic Income Trust, began to conduct and disseminate research on basic income.\",\n    'kp': ['organisation basic income uk',\n     'basic income',\n     'basic income debate',\n     'basic income uk']},\n   {'ranked_passages': \"But far more of the contemporary support for basic income in the United States has come from the left of center, driving by people who see it as a major expansion of support for low-income people, as the late, Al Sheahan argued in his 2012 book, 'the Basic Income Guarantee': 'Your right' 'to economic security'., In the Czech Republic, unconditional basic income is supported by many individuals, NGOs (Alternativa zdola, ProAlt, Levá perspektiva, for example), and political parties., In 2013, activists and social scientists joined the European Citizens' Initiative for Unconditional Basic Income, and have created a campaign to support unconditional basic income.\",\n    'kp': ['unconditional basic income',\n     'basic income',\n     'basic income guarantee',\n     'basic income supported']},\n   {'ranked_passages': \"This emerged as a consensus among some policy makers and economists for Keynesian solutions., Paul Krugman wrote in 2015 that: 'Economists struggling to make sense of economic polarization are, increasingly, talking not about technology but about power.', Another narrative described by Paul Krugman is that a resurgence of movement conservatism since the 1970s, embodied by Reaganomics in the United States during the 1980s, resulted in a variety of policies that favored owners of capital and natural resources over laborers.\",\n    'kp': ['reaganomics',\n     'movement conservatism',\n     'economists',\n     '1970s embodied reaganomics']},\n   {'ranked_passages': \"Income inequality affects income segregation., Rural households' incomes increase as a result, and income inequality decreases., Thus, income inequality is generally stronger among high-income households – i.e., upper- tail income inequality.\",\n    'kp': ['income inequality',\n     'income segregation',\n     'income households',\n     'inequality affects income']}]},\n {'id': 't3_30oi71',\n  'argument': [{'sentence': 'Section I Why is Basic Income Increasingly Popular?',\n    'kp': ['basic income', 'section', 'basic income increasingly'],\n    'stance': 'NEUTRAL'},\n   {'sentence': 'Basic income is a policy that has broad support from both the progressive left and libertarian right.',\n    'kp': ['basic income',\n     'libertarian right',\n     'broad support',\n     'basic income'],\n    'stance': 'PRO'},\n   {'sentence': 'Centerleft economists including Paul Krugman have endorsed the scheme for various reasons.',\n    'kp': ['centerleft economists',\n     'paul krugman',\n     'scheme',\n     'krugman endorsed scheme'],\n    'stance': 'PRO'},\n   {'sentence': 'BI also reduces inequality by redistributing income from capital to labor.',\n    'kp': ['income', 'inequality', 'bi', 'bi reduces inequality'],\n    'stance': 'CON'}],\n  'retrieved': [{'ranked_passages': \"The organisation Basic Income UK is 'a collective of independent people promoting unconditional basic income as a progressive social policy for the United Kingdom, and beyond'., Several British academics have been involved in the basic income debate., Her son Brandon Rhys Williams proposed a basic income to a parliamentary committee in 1982, and soon after that in 1984, the Basic Income Research Group, now the Citizen's Basic Income Trust, began to conduct and disseminate research on basic income.\",\n    'kp': ['organisation basic income uk',\n     'basic income',\n     'basic income debate',\n     'basic income uk']},\n   {'ranked_passages': \"But far more of the contemporary support for basic income in the United States has come from the left of center, driving by people who see it as a major expansion of support for low-income people, as the late, Al Sheahan argued in his 2012 book, 'the Basic Income Guarantee': 'Your right' 'to economic security'., In the Czech Republic, unconditional basic income is supported by many individuals, NGOs (Alternativa zdola, ProAlt, Levá perspektiva, for example), and political parties., In 2013, activists and social scientists joined the European Citizens' Initiative for Unconditional Basic Income, and have created a campaign to support unconditional basic income.\",\n    'kp': ['unconditional basic income',\n     'basic income',\n     'basic income guarantee',\n     'basic income supported']},\n   {'ranked_passages': \"This emerged as a consensus among some policy makers and economists for Keynesian solutions., Paul Krugman wrote in 2015 that: 'Economists struggling to make sense of economic polarization are, increasingly, talking not about technology but about power.', Another narrative described by Paul Krugman is that a resurgence of movement conservatism since the 1970s, embodied by Reaganomics in the United States during the 1980s, resulted in a variety of policies that favored owners of capital and natural resources over laborers.\",\n    'kp': ['reaganomics',\n     'movement conservatism',\n     'economists',\n     '1970s embodied reaganomics']},\n   {'ranked_passages': \"Income inequality affects income segregation., Rural households' incomes increase as a result, and income inequality decreases., Thus, income inequality is generally stronger among high-income households – i.e., upper- tail income inequality.\",\n    'kp': ['income inequality',\n     'income segregation',\n     'income households',\n     'inequality affects income']}]},\n {'id': 't3_30oi71',\n  'argument': [{'sentence': 'Section I Why is Basic Income Increasingly Popular?',\n    'kp': ['basic income', 'section', 'basic income increasingly'],\n    'stance': 'NEUTRAL'},\n   {'sentence': 'Basic income is a policy that has broad support from both the progressive left and libertarian right.',\n    'kp': ['basic income',\n     'libertarian right',\n     'broad support',\n     'basic income'],\n    'stance': 'PRO'},\n   {'sentence': 'Centerleft economists including Paul Krugman have endorsed the scheme for various reasons.',\n    'kp': ['centerleft economists',\n     'paul krugman',\n     'scheme',\n     'krugman endorsed scheme'],\n    'stance': 'PRO'},\n   {'sentence': 'BI also reduces inequality by redistributing income from capital to labor.',\n    'kp': ['income', 'inequality', 'bi', 'bi reduces inequality'],\n    'stance': 'CON'}],\n  'retrieved': [{'ranked_passages': \"The organisation Basic Income UK is 'a collective of independent people promoting unconditional basic income as a progressive social policy for the United Kingdom, and beyond'., Several British academics have been involved in the basic income debate., Her son Brandon Rhys Williams proposed a basic income to a parliamentary committee in 1982, and soon after that in 1984, the Basic Income Research Group, now the Citizen's Basic Income Trust, began to conduct and disseminate research on basic income.\",\n    'kp': ['organisation basic income uk',\n     'basic income',\n     'basic income debate',\n     'basic income uk']},\n   {'ranked_passages': \"But far more of the contemporary support for basic income in the United States has come from the left of center, driving by people who see it as a major expansion of support for low-income people, as the late, Al Sheahan argued in his 2012 book, 'the Basic Income Guarantee': 'Your right' 'to economic security'., In the Czech Republic, unconditional basic income is supported by many individuals, NGOs (Alternativa zdola, ProAlt, Levá perspektiva, for example), and political parties., In 2013, activists and social scientists joined the European Citizens' Initiative for Unconditional Basic Income, and have created a campaign to support unconditional basic income.\",\n    'kp': ['unconditional basic income',\n     'basic income',\n     'basic income guarantee',\n     'basic income supported']},\n   {'ranked_passages': \"This emerged as a consensus among some policy makers and economists for Keynesian solutions., Paul Krugman wrote in 2015 that: 'Economists struggling to make sense of economic polarization are, increasingly, talking not about technology but about power.', Another narrative described by Paul Krugman is that a resurgence of movement conservatism since the 1970s, embodied by Reaganomics in the United States during the 1980s, resulted in a variety of policies that favored owners of capital and natural resources over laborers.\",\n    'kp': ['reaganomics',\n     'movement conservatism',\n     'economists',\n     '1970s embodied reaganomics']},\n   {'ranked_passages': \"Income inequality affects income segregation., Rural households' incomes increase as a result, and income inequality decreases., Thus, income inequality is generally stronger among high-income households – i.e., upper- tail income inequality.\",\n    'kp': ['income inequality',\n     'income segregation',\n     'income households',\n     'inequality affects income']}]},\n {'id': 't3_30oi71',\n  'argument': [{'sentence': 'Section I Why is Basic Income Increasingly Popular?',\n    'kp': ['basic income', 'section', 'basic income increasingly'],\n    'stance': 'NEUTRAL'},\n   {'sentence': 'Basic income is a policy that has broad support from both the progressive left and libertarian right.',\n    'kp': ['basic income',\n     'libertarian right',\n     'broad support',\n     'basic income'],\n    'stance': 'PRO'},\n   {'sentence': 'Centerleft economists including Paul Krugman have endorsed the scheme for various reasons.',\n    'kp': ['centerleft economists',\n     'paul krugman',\n     'scheme',\n     'krugman endorsed scheme'],\n    'stance': 'PRO'},\n   {'sentence': 'BI also reduces inequality by redistributing income from capital to labor.',\n    'kp': ['income', 'inequality', 'bi', 'bi reduces inequality'],\n    'stance': 'CON'}],\n  'retrieved': [{'ranked_passages': \"The organisation Basic Income UK is 'a collective of independent people promoting unconditional basic income as a progressive social policy for the United Kingdom, and beyond'., Several British academics have been involved in the basic income debate., Her son Brandon Rhys Williams proposed a basic income to a parliamentary committee in 1982, and soon after that in 1984, the Basic Income Research Group, now the Citizen's Basic Income Trust, began to conduct and disseminate research on basic income.\",\n    'kp': ['organisation basic income uk',\n     'basic income',\n     'basic income debate',\n     'basic income uk']},\n   {'ranked_passages': \"But far more of the contemporary support for basic income in the United States has come from the left of center, driving by people who see it as a major expansion of support for low-income people, as the late, Al Sheahan argued in his 2012 book, 'the Basic Income Guarantee': 'Your right' 'to economic security'., In the Czech Republic, unconditional basic income is supported by many individuals, NGOs (Alternativa zdola, ProAlt, Levá perspektiva, for example), and political parties., In 2013, activists and social scientists joined the European Citizens' Initiative for Unconditional Basic Income, and have created a campaign to support unconditional basic income.\",\n    'kp': ['unconditional basic income',\n     'basic income',\n     'basic income guarantee',\n     'basic income supported']},\n   {'ranked_passages': \"This emerged as a consensus among some policy makers and economists for Keynesian solutions., Paul Krugman wrote in 2015 that: 'Economists struggling to make sense of economic polarization are, increasingly, talking not about technology but about power.', Another narrative described by Paul Krugman is that a resurgence of movement conservatism since the 1970s, embodied by Reaganomics in the United States during the 1980s, resulted in a variety of policies that favored owners of capital and natural resources over laborers.\",\n    'kp': ['reaganomics',\n     'movement conservatism',\n     'economists',\n     '1970s embodied reaganomics']},\n   {'ranked_passages': \"Income inequality affects income segregation., Rural households' incomes increase as a result, and income inequality decreases., Thus, income inequality is generally stronger among high-income households – i.e., upper- tail income inequality.\",\n    'kp': ['income inequality',\n     'income segregation',\n     'income households',\n     'inequality affects income']}]},\n {'id': 't3_4gdj35',\n  'argument': [{'sentence': 'I am of the belief that there cannot exist a legitimate emotional bond between a male and a female that lead to a loving relationship that is one of romance.',\n    'kp': ['romance',\n     'legitimate emotional bond',\n     'relationship',\n     'emotional bond male'],\n    'stance': 'PRO'},\n   {'sentence': 'Not once have I seen a couple that did not have an enormous gap in interests composure speech patterns and emotional engagement.',\n    'kp': ['interests composure speech patterns',\n     'emotional engagement',\n     'couple',\n     'composure speech patterns'],\n    'stance': 'PRO'},\n   {'sentence': 'Theres always and awkward disparity between each partner and they seem to be tolerating each other whilst there is little to grasp on why they are interested in each other aside from basic biology.',\n    'kp': ['partner',\n     'awkward disparity',\n     'basic biology',\n     'partner tolerating'],\n    'stance': 'CON'},\n   {'sentence': 'As a result of this homosexual relationships have always seemed purely the logical and socially optimal choice for anyone pursuing a relationship and heterosexual relationships continue only because of a heteronormitive society and the biology of reproduction which I believe is immoral but thats another topic.',\n    'kp': ['homosexual relationships',\n     'heterosexual relationships',\n     'heteronormitive society',\n     'homosexual relationships purely'],\n    'stance': 'PRO'},\n   {'sentence': 'I may be biased but from my perspective and experience Ive simply never seen a straight couple that was legitimately compatible in most ways.',\n    'kp': ['straight couple',\n     'perspective',\n     'experience',\n     'straight couple legitimately'],\n    'stance': 'CON'}],\n  'retrieved': [{'ranked_passages': 'The term often describes a bond between two people that mimics or matches the closeness and emotional intimacy of a romantic relationship while not being physically consummated., An emotional bond develops between the two., Couples share an emotional and intellectual bond on top of the sexual one.',\n    'kp': ['emotional bond',\n     'emotional intimacy',\n     'romantic relationship',\n     'consummated emotional bond']},\n   {'ranked_passages': \"Emotional speech processing recognizes the user's emotional state by analyzing speech patterns., Churchill praised Herbert for his 'composure and aplomb' and famously said: 'Call that a maiden speech?, It was a brazen hussy of a speech.\",\n    'kp': ['emotional speech processing',\n     'speech',\n     'maiden speech',\n     'emotional speech']},\n   {'ranked_passages': \"The term 'partner' includes same-sex couples., The studies demonstrating U=U are: Opposites Attract, PARTNER 1, PARTNER 2, (for male-male couples) and HPTN052 (for heterosexual couples) when 'the partner living with HIV had a durably suppressed viral load.', The studies demonstrating that U=U is an effective strategy for preventing HIV transmission in serodiscordant couples so long as 'the partner living with HIV [has] a durably suppressed viral load' include: Opposites Attract, PARTNER 1, PARTNER 2, (for male-male couples) and HPTN052 (for heterosexual couples).\",\n    'kp': ['heterosexual couples',\n     'male couples',\n     'hiv',\n     'partner living hiv']},\n   {'ranked_passages': 'Many gay and lesbian people are in committed same-sex relationships., Results found that more heterosexual than homosexual individuals picked sexual infidelity as worse than emotional infidelity, with heterosexual men being the highest, and that when forced to choose, gay men overwhelmingly predicted emotional infidelity would be more troubling than sexual infidelity., Though he never published his research, it showed that homosexual relationships were just as stable as heterosexual relationships, despite the stereotype that homosexuals cannot have stable relationships.',\n    'kp': ['homosexual relationships',\n     'sexual infidelity',\n     'heterosexual relationships',\n     'emotional infidelity heterosexual']},\n   {'ranked_passages': \"Can straight couples learn from same-sex relationships?, 'She shouldnâ\\x80\\x99t just see straight couples like that.', 'She shouldn't just see straight couples like that.'\",\n    'kp': ['straight couples',\n     'sex relationships',\n     'straight couples learn']}]},\n {'id': 't3_4gdj35',\n  'argument': [{'sentence': 'I am of the belief that there cannot exist a legitimate emotional bond between a male and a female that lead to a loving relationship that is one of romance.',\n    'kp': ['romance',\n     'legitimate emotional bond',\n     'relationship',\n     'emotional bond male'],\n    'stance': 'PRO'},\n   {'sentence': 'Not once have I seen a couple that did not have an enormous gap in interests composure speech patterns and emotional engagement.',\n    'kp': ['interests composure speech patterns',\n     'emotional engagement',\n     'couple',\n     'composure speech patterns'],\n    'stance': 'PRO'},\n   {'sentence': 'Theres always and awkward disparity between each partner and they seem to be tolerating each other whilst there is little to grasp on why they are interested in each other aside from basic biology.',\n    'kp': ['partner',\n     'awkward disparity',\n     'basic biology',\n     'partner tolerating'],\n    'stance': 'CON'},\n   {'sentence': 'As a result of this homosexual relationships have always seemed purely the logical and socially optimal choice for anyone pursuing a relationship and heterosexual relationships continue only because of a heteronormitive society and the biology of reproduction which I believe is immoral but thats another topic.',\n    'kp': ['homosexual relationships',\n     'heterosexual relationships',\n     'heteronormitive society',\n     'homosexual relationships purely'],\n    'stance': 'PRO'},\n   {'sentence': 'I may be biased but from my perspective and experience Ive simply never seen a straight couple that was legitimately compatible in most ways.',\n    'kp': ['straight couple',\n     'perspective',\n     'experience',\n     'straight couple legitimately'],\n    'stance': 'CON'}],\n  'retrieved': [{'ranked_passages': 'The term often describes a bond between two people that mimics or matches the closeness and emotional intimacy of a romantic relationship while not being physically consummated., An emotional bond develops between the two., Couples share an emotional and intellectual bond on top of the sexual one.',\n    'kp': ['emotional bond',\n     'emotional intimacy',\n     'romantic relationship',\n     'consummated emotional bond']},\n   {'ranked_passages': \"Emotional speech processing recognizes the user's emotional state by analyzing speech patterns., Churchill praised Herbert for his 'composure and aplomb' and famously said: 'Call that a maiden speech?, It was a brazen hussy of a speech.\",\n    'kp': ['emotional speech processing',\n     'speech',\n     'maiden speech',\n     'emotional speech']},\n   {'ranked_passages': \"The term 'partner' includes same-sex couples., The studies demonstrating U=U are: Opposites Attract, PARTNER 1, PARTNER 2, (for male-male couples) and HPTN052 (for heterosexual couples) when 'the partner living with HIV had a durably suppressed viral load.', The studies demonstrating that U=U is an effective strategy for preventing HIV transmission in serodiscordant couples so long as 'the partner living with HIV [has] a durably suppressed viral load' include: Opposites Attract, PARTNER 1, PARTNER 2, (for male-male couples) and HPTN052 (for heterosexual couples).\",\n    'kp': ['heterosexual couples',\n     'male couples',\n     'hiv',\n     'partner living hiv']},\n   {'ranked_passages': 'Many gay and lesbian people are in committed same-sex relationships., Results found that more heterosexual than homosexual individuals picked sexual infidelity as worse than emotional infidelity, with heterosexual men being the highest, and that when forced to choose, gay men overwhelmingly predicted emotional infidelity would be more troubling than sexual infidelity., Though he never published his research, it showed that homosexual relationships were just as stable as heterosexual relationships, despite the stereotype that homosexuals cannot have stable relationships.',\n    'kp': ['homosexual relationships',\n     'sexual infidelity',\n     'heterosexual relationships',\n     'emotional infidelity heterosexual']},\n   {'ranked_passages': \"Can straight couples learn from same-sex relationships?, 'She shouldnâ\\x80\\x99t just see straight couples like that.', 'She shouldn't just see straight couples like that.'\",\n    'kp': ['straight couples',\n     'sex relationships',\n     'straight couples learn']}]},\n {'id': 't3_5aceoz',\n  'argument': [{'sentence': 'UpdateThanks for all the replies theres been some really useful points and Ill dish out the deltas appropriately.',\n    'kp': ['deltas', 'useful points', 'replies', 'deltas appropriately'],\n    'stance': 'PRO'},\n   {'sentence': 'The most convincing argument Ive heard is that Apple is trying to build a computer for the near future and if it doesnt work for you then you dont have to buy it.',\n    'kp': ['apple', 'convincing argument', 'computer', 'apple trying build'],\n    'stance': 'PRO'},\n   {'sentence': 'USBC is the future so why bother putting anything else in?',\n    'kp': ['future', 'anything', 'usbc future'],\n    'stance': 'CON'},\n   {'sentence': 'USB lets you charge from a battery charger which is an extra convenience even if it comes at the loss of MagSafe so why have a dedicated power socket?',\n    'kp': ['dedicated power socket',\n     'usb',\n     'battery charger',\n     'dedicated power socket'],\n    'stance': 'PRO'},\n   {'sentence': 'Most people take pictures with their phone and the latest camera models are coming with wireless support so SD support wont be important.I do think theyve made a mistake with how theyre handling headphones across devices but I have been convinced that their logic for this is an attempt to move to the future of wireless headphones not stripping things away for the sake of it.',\n    'kp': ['sd support',\n     'wireless headphones',\n     'headphones',\n     'wireless support sd'],\n    'stance': 'PRO'}],\n  'retrieved': [{'ranked_passages': \"Deltas., Deltas., 'Some big fraction of the population lives on deltas,' he noted.\",\n    'kp': ['deltas', 'population', 'big fraction', 'population lives deltas']},\n   {'ranked_passages': \"As with software, Apple provided little hardware technical information with the computer but Apple III-specific products became available, such as one that made the computer compatible with the Apple IIe., Apple W2., In 2006 the phrase was used in legal argument in the case of 'Apple Corps v Apple Computer', between Apple Corps (the record label started by the Beatles in 1968) and Apple Computer Inc. (makers of Macintosh computers).\",\n    'kp': ['apple iii', 'apple computer', 'apple w2', 'computer apple iii']},\n   {'ranked_passages': 'The basic kernel can thus allow the userspace to access a device driver without knowing anything about the facilities supported by the device, and without needing an unmanageably large collection of system calls., Computers and their operating systems cannot be expected to know how to control every device, both now and in the future., Uses.',\n    'kp': ['device driver',\n     'operating systems',\n     'basic kernel',\n     'basic kernel allow']},\n   {'ranked_passages': 'This standard describes the electromechanical requirements for a common mobile device battery charger equipped with a USB type-A socket providing power at 5\\xa0V DC., Installing a dedicated vehicle-charging socket and system is recommended., The charger connects into any 12V vehicle power socket and it comes with two USB ports to charge almost any electronic device.',\n    'kp': ['common mobile device battery charger',\n     'charger',\n     'vehicle power socket',\n     'device battery charger']},\n   {'ranked_passages': 'At launch, the Switch did not support Bluetooth wireless headphones, though they can also be connected if a Bluetooth adaptor is connected to the headphone jack., You’ll get wireless Beats headphones when you buy an eligible Mac, iPad, or iPhone for university., If you buy an eligible iPad or iPhone, meanwhile, you’ll get a free pair of either the Powerbeats2 Wireless Headphones, or the Beats Solo2 Wireless Headphones.',\n    'kp': ['beats solo2 wireless headphones',\n     'wireless beats headphones',\n     'powerbeats2 wireless headphones',\n     'wireless beats headphones']}]},\n {'id': 't3_5aceoz',\n  'argument': [{'sentence': 'UpdateThanks for all the replies theres been some really useful points and Ill dish out the deltas appropriately.',\n    'kp': ['deltas', 'useful points', 'replies', 'deltas appropriately'],\n    'stance': 'PRO'},\n   {'sentence': 'The most convincing argument Ive heard is that Apple is trying to build a computer for the near future and if it doesnt work for you then you dont have to buy it.',\n    'kp': ['apple', 'convincing argument', 'computer', 'apple trying build'],\n    'stance': 'PRO'},\n   {'sentence': 'USBC is the future so why bother putting anything else in?',\n    'kp': ['future', 'anything', 'usbc future'],\n    'stance': 'CON'},\n   {'sentence': 'USB lets you charge from a battery charger which is an extra convenience even if it comes at the loss of MagSafe so why have a dedicated power socket?',\n    'kp': ['dedicated power socket',\n     'usb',\n     'battery charger',\n     'dedicated power socket'],\n    'stance': 'PRO'},\n   {'sentence': 'Most people take pictures with their phone and the latest camera models are coming with wireless support so SD support wont be important.I do think theyve made a mistake with how theyre handling headphones across devices but I have been convinced that their logic for this is an attempt to move to the future of wireless headphones not stripping things away for the sake of it.',\n    'kp': ['sd support',\n     'wireless headphones',\n     'headphones',\n     'wireless support sd'],\n    'stance': 'PRO'}],\n  'retrieved': [{'ranked_passages': \"Deltas., Deltas., 'Some big fraction of the population lives on deltas,' he noted.\",\n    'kp': ['deltas', 'population', 'big fraction', 'population lives deltas']},\n   {'ranked_passages': \"As with software, Apple provided little hardware technical information with the computer but Apple III-specific products became available, such as one that made the computer compatible with the Apple IIe., Apple W2., In 2006 the phrase was used in legal argument in the case of 'Apple Corps v Apple Computer', between Apple Corps (the record label started by the Beatles in 1968) and Apple Computer Inc. (makers of Macintosh computers).\",\n    'kp': ['apple iii', 'apple computer', 'apple w2', 'computer apple iii']},\n   {'ranked_passages': 'The basic kernel can thus allow the userspace to access a device driver without knowing anything about the facilities supported by the device, and without needing an unmanageably large collection of system calls., Computers and their operating systems cannot be expected to know how to control every device, both now and in the future., Uses.',\n    'kp': ['device driver',\n     'operating systems',\n     'basic kernel',\n     'basic kernel allow']},\n   {'ranked_passages': 'This standard describes the electromechanical requirements for a common mobile device battery charger equipped with a USB type-A socket providing power at 5\\xa0V DC., Installing a dedicated vehicle-charging socket and system is recommended., The charger connects into any 12V vehicle power socket and it comes with two USB ports to charge almost any electronic device.',\n    'kp': ['common mobile device battery charger',\n     'charger',\n     'vehicle power socket',\n     'device battery charger']},\n   {'ranked_passages': 'At launch, the Switch did not support Bluetooth wireless headphones, though they can also be connected if a Bluetooth adaptor is connected to the headphone jack., You’ll get wireless Beats headphones when you buy an eligible Mac, iPad, or iPhone for university., If you buy an eligible iPad or iPhone, meanwhile, you’ll get a free pair of either the Powerbeats2 Wireless Headphones, or the Beats Solo2 Wireless Headphones.',\n    'kp': ['beats solo2 wireless headphones',\n     'wireless beats headphones',\n     'powerbeats2 wireless headphones',\n     'wireless beats headphones']}]},\n {'id': 't3_5aceoz',\n  'argument': [{'sentence': 'UpdateThanks for all the replies theres been some really useful points and Ill dish out the deltas appropriately.',\n    'kp': ['deltas', 'useful points', 'replies', 'deltas appropriately'],\n    'stance': 'PRO'},\n   {'sentence': 'The most convincing argument Ive heard is that Apple is trying to build a computer for the near future and if it doesnt work for you then you dont have to buy it.',\n    'kp': ['apple', 'convincing argument', 'computer', 'apple trying build'],\n    'stance': 'PRO'},\n   {'sentence': 'USBC is the future so why bother putting anything else in?',\n    'kp': ['future', 'anything', 'usbc future'],\n    'stance': 'CON'},\n   {'sentence': 'USB lets you charge from a battery charger which is an extra convenience even if it comes at the loss of MagSafe so why have a dedicated power socket?',\n    'kp': ['dedicated power socket',\n     'usb',\n     'battery charger',\n     'dedicated power socket'],\n    'stance': 'PRO'},\n   {'sentence': 'Most people take pictures with their phone and the latest camera models are coming with wireless support so SD support wont be important.I do think theyve made a mistake with how theyre handling headphones across devices but I have been convinced that their logic for this is an attempt to move to the future of wireless headphones not stripping things away for the sake of it.',\n    'kp': ['sd support',\n     'wireless headphones',\n     'headphones',\n     'wireless support sd'],\n    'stance': 'PRO'}],\n  'retrieved': [{'ranked_passages': \"Deltas., Deltas., 'Some big fraction of the population lives on deltas,' he noted.\",\n    'kp': ['deltas', 'population', 'big fraction', 'population lives deltas']},\n   {'ranked_passages': \"As with software, Apple provided little hardware technical information with the computer but Apple III-specific products became available, such as one that made the computer compatible with the Apple IIe., Apple W2., In 2006 the phrase was used in legal argument in the case of 'Apple Corps v Apple Computer', between Apple Corps (the record label started by the Beatles in 1968) and Apple Computer Inc. (makers of Macintosh computers).\",\n    'kp': ['apple iii', 'apple computer', 'apple w2', 'computer apple iii']},\n   {'ranked_passages': 'The basic kernel can thus allow the userspace to access a device driver without knowing anything about the facilities supported by the device, and without needing an unmanageably large collection of system calls., Computers and their operating systems cannot be expected to know how to control every device, both now and in the future., Uses.',\n    'kp': ['device driver',\n     'operating systems',\n     'basic kernel',\n     'basic kernel allow']},\n   {'ranked_passages': 'This standard describes the electromechanical requirements for a common mobile device battery charger equipped with a USB type-A socket providing power at 5\\xa0V DC., Installing a dedicated vehicle-charging socket and system is recommended., The charger connects into any 12V vehicle power socket and it comes with two USB ports to charge almost any electronic device.',\n    'kp': ['common mobile device battery charger',\n     'charger',\n     'vehicle power socket',\n     'device battery charger']},\n   {'ranked_passages': 'At launch, the Switch did not support Bluetooth wireless headphones, though they can also be connected if a Bluetooth adaptor is connected to the headphone jack., You’ll get wireless Beats headphones when you buy an eligible Mac, iPad, or iPhone for university., If you buy an eligible iPad or iPhone, meanwhile, you’ll get a free pair of either the Powerbeats2 Wireless Headphones, or the Beats Solo2 Wireless Headphones.',\n    'kp': ['beats solo2 wireless headphones',\n     'wireless beats headphones',\n     'powerbeats2 wireless headphones',\n     'wireless beats headphones']}]},\n {'id': 't3_5aceoz',\n  'argument': [{'sentence': 'UpdateThanks for all the replies theres been some really useful points and Ill dish out the deltas appropriately.',\n    'kp': ['deltas', 'useful points', 'replies', 'deltas appropriately'],\n    'stance': 'PRO'},\n   {'sentence': 'The most convincing argument Ive heard is that Apple is trying to build a computer for the near future and if it doesnt work for you then you dont have to buy it.',\n    'kp': ['apple', 'convincing argument', 'computer', 'apple trying build'],\n    'stance': 'PRO'},\n   {'sentence': 'USBC is the future so why bother putting anything else in?',\n    'kp': ['future', 'anything', 'usbc future'],\n    'stance': 'CON'},\n   {'sentence': 'USB lets you charge from a battery charger which is an extra convenience even if it comes at the loss of MagSafe so why have a dedicated power socket?',\n    'kp': ['dedicated power socket',\n     'usb',\n     'battery charger',\n     'dedicated power socket'],\n    'stance': 'PRO'},\n   {'sentence': 'Most people take pictures with their phone and the latest camera models are coming with wireless support so SD support wont be important.I do think theyve made a mistake with how theyre handling headphones across devices but I have been convinced that their logic for this is an attempt to move to the future of wireless headphones not stripping things away for the sake of it.',\n    'kp': ['sd support',\n     'wireless headphones',\n     'headphones',\n     'wireless support sd'],\n    'stance': 'PRO'}],\n  'retrieved': [{'ranked_passages': \"Deltas., Deltas., 'Some big fraction of the population lives on deltas,' he noted.\",\n    'kp': ['deltas', 'population', 'big fraction', 'population lives deltas']},\n   {'ranked_passages': \"As with software, Apple provided little hardware technical information with the computer but Apple III-specific products became available, such as one that made the computer compatible with the Apple IIe., Apple W2., In 2006 the phrase was used in legal argument in the case of 'Apple Corps v Apple Computer', between Apple Corps (the record label started by the Beatles in 1968) and Apple Computer Inc. (makers of Macintosh computers).\",\n    'kp': ['apple iii', 'apple computer', 'apple w2', 'computer apple iii']},\n   {'ranked_passages': 'The basic kernel can thus allow the userspace to access a device driver without knowing anything about the facilities supported by the device, and without needing an unmanageably large collection of system calls., Computers and their operating systems cannot be expected to know how to control every device, both now and in the future., Uses.',\n    'kp': ['device driver',\n     'operating systems',\n     'basic kernel',\n     'basic kernel allow']},\n   {'ranked_passages': 'This standard describes the electromechanical requirements for a common mobile device battery charger equipped with a USB type-A socket providing power at 5\\xa0V DC., Installing a dedicated vehicle-charging socket and system is recommended., The charger connects into any 12V vehicle power socket and it comes with two USB ports to charge almost any electronic device.',\n    'kp': ['common mobile device battery charger',\n     'charger',\n     'vehicle power socket',\n     'device battery charger']},\n   {'ranked_passages': 'At launch, the Switch did not support Bluetooth wireless headphones, though they can also be connected if a Bluetooth adaptor is connected to the headphone jack., You’ll get wireless Beats headphones when you buy an eligible Mac, iPad, or iPhone for university., If you buy an eligible iPad or iPhone, meanwhile, you’ll get a free pair of either the Powerbeats2 Wireless Headphones, or the Beats Solo2 Wireless Headphones.',\n    'kp': ['beats solo2 wireless headphones',\n     'wireless beats headphones',\n     'powerbeats2 wireless headphones',\n     'wireless beats headphones']}]}]"
     },
     "execution_count": 240,
     "metadata": {},
     "output_type": "execute_result"
    }
   ],
   "source": [
    "from sentence_transformers import SentenceTransformer, util\n",
    "from sklearn.metrics.pairwise import cosine_similarity\n",
    "import torch\n",
    "import time\n",
    "import copy\n",
    "\n",
    "model = SentenceTransformer('all-MiniLM-L6-v2')\n",
    "def cosine_similarity_(sentences):\n",
    "    embeddings = model.encode(sentences, convert_to_tensor=True, show_progress_bar=False)\n",
    "\n",
    "    cos = torch.nn.CosineSimilarity()\n",
    "    scores = cos(embeddings[0], embeddings[1:])\n",
    "\n",
    "    scored = []\n",
    "    retrieved_sentences = sentences[1:]\n",
    "    for sent, similarity in zip(retrieved_sentences, scores):\n",
    "        scored.append((sent, similarity.numpy().item()))\n",
    "\n",
    "    return scored\n",
    "\n",
    "def rank_passages(ev, k=3):\n",
    "    adus = [i[\"sentence\"] for i in ev[\"argument\"]]\n",
    "    retrieved_passages = [i[\"passages\"] for i in ev[\"retrieved\"]]\n",
    "\n",
    "    # Merge\n",
    "    # Output 1 x merged sentences object per ADU sentence, with k=5 collected passages as a list of sentences\n",
    "    merged_passages = []\n",
    "    for passages in retrieved_passages:\n",
    "        merged_sents = []\n",
    "        # Iterate n x sentences for each k=5 retrieved passages\n",
    "        for passage in passages:\n",
    "            # Segment as a list of sentences\n",
    "            sents = sentences_segment(passage)\n",
    "            # Add sentences to merged_sentences object\n",
    "            merged_sents.extend(sents)\n",
    "\n",
    "        # Store merged sentence object for each ADU\n",
    "        merged_passages.append(merged_sents)\n",
    "\n",
    "    rank_retrieved = []\n",
    "    # Rank n x merged sentences for each 1 x ADU\n",
    "    for adu, merged in zip(adus, merged_passages):\n",
    "        scored = []\n",
    "        sentences = [adu]\n",
    "        sentences.extend(merged)\n",
    "        scored = cosine_similarity_(sentences)\n",
    "\n",
    "        ranked_sents = sorted(scored, key=lambda x: x[1], reverse=True)\n",
    "\n",
    "        # Select top-k sentences\n",
    "        ranked_sents = ranked_sents[0:k]\n",
    "\n",
    "        merged = \", \".join(i[0] for i in ranked_sents)\n",
    "        merged_kp = extract_keyphrase(merged)\n",
    "        rank_retrieved.append({\"ranked_passages\": merged, \"kp\": merged_kp})\n",
    "\n",
    "    return rank_retrieved\n",
    "\n",
    "# TODOs: Join passages and sentence rank\n",
    "### SCORE COSINE SIMILARITY ###\n",
    "tic = time.time()\n",
    "retrieved_ranked = copy.deepcopy(retrieved_ev)\n",
    "with tqdm(total=(len(retrieved_ev)), position=0, leave=True) as pbar:\n",
    "    for i in range(0, len(retrieved_ev)):\n",
    "        retrieved_ranked[i][\"retrieved\"] = [i for i in rank_passages(retrieved_ev[i])]\n",
    "        pbar.update()\n",
    "toc = time.time()\n",
    "\n",
    "retrieved_ranked"
   ],
   "metadata": {
    "collapsed": false,
    "pycharm": {
     "name": "#%%\n"
    }
   }
  },
  {
   "cell_type": "code",
   "execution_count": 241,
   "outputs": [
    {
     "name": "stdout",
     "output_type": "stream",
     "text": [
      "33.27585506439209\n"
     ]
    },
    {
     "data": {
      "text/plain": "10"
     },
     "execution_count": 241,
     "metadata": {},
     "output_type": "execute_result"
    }
   ],
   "source": [
    "print(toc - tic)\n",
    "len(retrieved_ranked)"
   ],
   "metadata": {
    "collapsed": false,
    "pycharm": {
     "name": "#%%\n"
    }
   }
  },
  {
   "cell_type": "code",
   "execution_count": 244,
   "outputs": [
    {
     "data": {
      "text/plain": "{'id': 't3_5aceoz',\n 'argument': [{'sentence': 'UpdateThanks for all the replies theres been some really useful points and Ill dish out the deltas appropriately.',\n   'kp': ['deltas', 'useful points', 'replies', 'deltas appropriately'],\n   'stance': 'PRO'},\n  {'sentence': 'The most convincing argument Ive heard is that Apple is trying to build a computer for the near future and if it doesnt work for you then you dont have to buy it.',\n   'kp': ['apple', 'convincing argument', 'computer', 'apple trying build'],\n   'stance': 'PRO'},\n  {'sentence': 'USBC is the future so why bother putting anything else in?',\n   'kp': ['future', 'anything', 'usbc future'],\n   'stance': 'CON'},\n  {'sentence': 'USB lets you charge from a battery charger which is an extra convenience even if it comes at the loss of MagSafe so why have a dedicated power socket?',\n   'kp': ['dedicated power socket',\n    'usb',\n    'battery charger',\n    'dedicated power socket'],\n   'stance': 'PRO'},\n  {'sentence': 'Most people take pictures with their phone and the latest camera models are coming with wireless support so SD support wont be important.I do think theyve made a mistake with how theyre handling headphones across devices but I have been convinced that their logic for this is an attempt to move to the future of wireless headphones not stripping things away for the sake of it.',\n   'kp': ['sd support',\n    'wireless headphones',\n    'headphones',\n    'wireless support sd'],\n   'stance': 'PRO'}],\n 'retrieved': [{'ranked_passages': \"Deltas., Deltas., 'Some big fraction of the population lives on deltas,' he noted.\",\n   'kp': ['deltas', 'population', 'big fraction', 'population lives deltas']},\n  {'ranked_passages': \"As with software, Apple provided little hardware technical information with the computer but Apple III-specific products became available, such as one that made the computer compatible with the Apple IIe., Apple W2., In 2006 the phrase was used in legal argument in the case of 'Apple Corps v Apple Computer', between Apple Corps (the record label started by the Beatles in 1968) and Apple Computer Inc. (makers of Macintosh computers).\",\n   'kp': ['apple iii', 'apple computer', 'apple w2', 'computer apple iii']},\n  {'ranked_passages': 'The basic kernel can thus allow the userspace to access a device driver without knowing anything about the facilities supported by the device, and without needing an unmanageably large collection of system calls., Computers and their operating systems cannot be expected to know how to control every device, both now and in the future., Uses.',\n   'kp': ['device driver',\n    'operating systems',\n    'basic kernel',\n    'basic kernel allow']},\n  {'ranked_passages': 'This standard describes the electromechanical requirements for a common mobile device battery charger equipped with a USB type-A socket providing power at 5\\xa0V DC., Installing a dedicated vehicle-charging socket and system is recommended., The charger connects into any 12V vehicle power socket and it comes with two USB ports to charge almost any electronic device.',\n   'kp': ['common mobile device battery charger',\n    'charger',\n    'vehicle power socket',\n    'device battery charger']},\n  {'ranked_passages': 'At launch, the Switch did not support Bluetooth wireless headphones, though they can also be connected if a Bluetooth adaptor is connected to the headphone jack., You’ll get wireless Beats headphones when you buy an eligible Mac, iPad, or iPhone for university., If you buy an eligible iPad or iPhone, meanwhile, you’ll get a free pair of either the Powerbeats2 Wireless Headphones, or the Beats Solo2 Wireless Headphones.',\n   'kp': ['beats solo2 wireless headphones',\n    'wireless beats headphones',\n    'powerbeats2 wireless headphones',\n    'wireless beats headphones']}]}"
     },
     "execution_count": 244,
     "metadata": {},
     "output_type": "execute_result"
    }
   ],
   "source": [
    "len(retrieved_ranked)\n",
    "retrieved_ranked[6]"
   ],
   "metadata": {
    "collapsed": false,
    "pycharm": {
     "name": "#%%\n"
    }
   }
  },
  {
   "cell_type": "code",
   "execution_count": 16,
   "outputs": [
    {
     "name": "stdout",
     "output_type": "stream",
     "text": [
      "1 1\n"
     ]
    }
   ],
   "source": [
    "# NOTE: Zipping retrieved evidence, args\n",
    "print(len(retrieved_ranked), len(args[0:sample]))"
   ],
   "metadata": {
    "collapsed": false,
    "pycharm": {
     "name": "#%%\n"
    }
   }
  },
  {
   "cell_type": "markdown",
   "source": [],
   "metadata": {
    "collapsed": false,
    "pycharm": {
     "name": "#%% md\n"
    }
   }
  },
  {
   "cell_type": "code",
   "execution_count": 267,
   "outputs": [],
   "source": [
    "fout = open(\"../data/cmv_rr.jsonl\", \"w\")\n",
    "\n",
    "args = [json.loads(ln) for ln in open(\"../data/cmv_processed.jsonl\")]\n",
    "sample = args[0:sample]\n",
    "\n",
    "# for i, j in zip(retrieved_ranked, sample):\n",
    "#     # Add counter to the dictionary (implicitly, i)\n",
    "#     i[\"counter\"] = j[\"counter\"]\n",
    "#     fout.write(json.dumps(i))\n",
    "#     fout.write(\"\\n\")"
   ],
   "metadata": {
    "collapsed": false,
    "pycharm": {
     "name": "#%%\n"
    }
   }
  },
  {
   "cell_type": "code",
   "execution_count": 17,
   "outputs": [],
   "source": [
    "### EVALUATE OUTPUT ###\n",
    "train = [json.loads(ln) for ln in open(\"../data/cmv_rr.jsonl\", \"r\")]"
   ],
   "metadata": {
    "collapsed": false,
    "pycharm": {
     "name": "#%%\n"
    }
   }
  },
  {
   "cell_type": "code",
   "execution_count": 18,
   "outputs": [
    {
     "name": "stdout",
     "output_type": "stream",
     "text": [
      "[{'sentence': 'I recently got married and one thing my wife and I have discussed at great lengths is what we should do with our surnames.I have come to the conclusion that we currently do not have a reliable fair gender equal convention for dealing with family names in marriage.Example case Groom Jones and Bride JohnsonTheir options are Patrilineal Mr amp Mrs Jones.', 'kp': ['dealing family names marriage', 'family names marriage', 'convention dealing family names'], 'stance': 'PRO'}, {'sentence': 'ConjugateDoubleBarrel Mr amp Mrs JonesJohnson or vice versa No action Mr Jones amp Mrs JohnsonMatrilineal or Patrilineal naming conventions are inherently unbalanced as they require one partner to lose their name for the others.Double Barrels offer a potential solution to this imbalance but I do not think that this is an adequate compromise.', 'kp': ['conjugatedoublebarrel mr amp mrs', 'partner lose double barrels', 'double barrels'], 'stance': 'CON'}, {'sentence': 'If everyone used this form of naming we would end up with overcomplicated and longwinded surnames within a few generations.If our example couple have children and they marry someone who also has a doublebarrelled name you may end up with something likeMr amp Mrs JonesJohnsonHamptonGoldsmithThe only alternative we have thought of is creating a cadet branch with a new surname however this will still leave our theoretical children in the same position once they are married and if this were the norm surnames would essentially be discarded with each generation.Although I am using a heterosexual couple in my example this issue becomes even better demonstrated when both partners are of the same sex.', 'kp': ['surnames generations example couple', 'overcomplicated longwinded surnames', 'overcomplicated longwinded surnames generations'], 'stance': 'PRO'}, {'sentence': 'In this case the traditional weight of Patrilineal marriage does not make sense as either both partners are male or neither are.', 'kp': ['weight patrilineal marriage does', 'traditional weight patrilineal marriage', 'weight patrilineal marriage'], 'stance': 'NEUTRAL'}] \n",
      "\n",
      "[{'ranked_passages': \"In modern time, a woman keeps her father's family name for life until marriage then husband's family name is used. In official documents in modern Russia, people are given three names: a given name, a patronymic and a family name. Given names., It's a rule in principle that the two shall have the family name in common following their marriage. However, if one of them is a non-Japanese, this rule does not apply. They can use one of the spouse’s names as their family name or keep their names after marriage.\", 'kp': ['use spouse names family', 'family names marriage', 'spouse names family names']}, {'ranked_passages': 'The double-barreled shotgun is still the primary choice for most shotgun sporting events, as well as hunting of game birds. The double rifle, due to the difficulty involved in regulating the two barrels to impact at the same point of aim, is prohibitively expensive; for example, a Purdey, Parker or Holland &amp; Holland double rifle sells between US$40,000 - 150,000. Combination guns, containing two, three, four, or five barrels, most often with a mix of rifle and shotgun barrels, and are popular choices for hunting in Europe., Prominent users. In the course of his career, Taylor owned and used two .600 Nitro Express double rifles, the first was regulated for loadings, the second was a W.J. Jeffery &amp; Co double rifle that weighed with barrels and was regulated for 100 gr loadings.', 'kp': ['holland double rifle sells', 'holland double rifle', 'double rifle weighed barrels']}, {'ranked_passages': \"Surnames. There is a great variety of Dutch surnames (over 100,000), partly because of an influx due to a forced official registration of surnames in 1811, hence there have been few generations in which names could become extinct. In practice, the great majority of Dutch people had family surnames for centuries, and the adoption of new names was limited to some Jewish citizens and some people in rural communities in the north east of the country., In most cases, such patronymics were already in use so they were simply 'frozen' and turned into surnames that carried on into future generations. This swift introduction of surnames is one of the reasons why, in comparison to other regions where Serbs live, there is less variation in forms of surnames within central Serbia, where vast majority of surnames ends with suffixes -ović (in patronymic surnames) and -ić (can be used both for patronymic and for matronymic surnames). Among Serbs that lived across the rivers Drina, Sava and Danube, in addition to surnames with these most common suffixes there were many surnames based on professions, nicknames, toponymics, traits, etc.\", 'kp': ['serbia vast majority surnames', 'patronymic matronymic surnames serbs', 'surnames serbs']}, {'ranked_passages': 'Barman Kacharis are patrilineal. Marriage within a clan is prohibited among the Barman Kachari tribe. Barman Kacharis have their traditional dresses and attires., Kettu Kalyanam (mock marriage ceremony/ auspicious ceremony), Thirandu Kalyanam (menstrual ceremony) and Gunadosha-Sambandham/Pudamuri/Pudavakoda (cloth-giving ceremony, actual union). Kettu Kalyanam (mock marriage ceremony). Elaborate auspicious ceremony that resembles real marriage of patrilineal castes.', 'kp': ['barman kacharis patrilineal marriage', 'tribe barman kacharis traditional', 'barman kacharis traditional']}] \n",
      "\n",
      "{'counter': 'For a societal standard I suggest that all people change their name upon marriage to something new. It symbolizes leaving the family of birth and creating a new one with a chosen partner. Any produced children are given that same name and they too hold that name until they choose to build a new family with someone else and change it to symbolize that new start. It is totally up to each couple what new name they wish. They could pick something that sounds nice or symbolizes something to them or they could use some sort of incorporation of one or both of their parents names to indicate an attachment to the history.', 'counter_keyphrases': ['societal standard', 'standard I suggest', 'people change', 'chosen partner', 'societal']} \n",
      "\n"
     ]
    }
   ],
   "source": [
    "_ = random.randint(0, len(train))\n",
    "print(train[_][\"argument\"], \"\\n\")\n",
    "print(train[_][\"retrieved\"], \"\\n\")\n",
    "print(train[_][\"counter\"], \"\\n\")"
   ],
   "metadata": {
    "collapsed": false,
    "pycharm": {
     "name": "#%%\n"
    }
   }
  },
  {
   "cell_type": "code",
   "execution_count": 224,
   "outputs": [
    {
     "name": "stderr",
     "output_type": "stream",
     "text": [
      "INFO:sentence_transformers.SentenceTransformer:Load pretrained SentenceTransformer: all-MiniLM-L6-v2\n",
      "INFO:sentence_transformers.SentenceTransformer:Use pytorch device: cpu\n"
     ]
    },
    {
     "data": {
      "text/plain": "[{'ranked_passages': \"The organisation Basic Income UK is 'a collective of independent people promoting unconditional basic income as a progressive social policy for the United Kingdom, and beyond'., Several British academics have been involved in the basic income debate., Her son Brandon Rhys Williams proposed a basic income to a parliamentary committee in 1982, and soon after that in 1984, the Basic Income Research Group, now the Citizen's Basic Income Trust, began to conduct and disseminate research on basic income.\",\n  'kp': ['organisation basic income uk',\n   'basic income',\n   'basic income debate',\n   'basic income uk']},\n {'ranked_passages': \"But far more of the contemporary support for basic income in the United States has come from the left of center, driving by people who see it as a major expansion of support for low-income people, as the late, Al Sheahan argued in his 2012 book, 'the Basic Income Guarantee': 'Your right' 'to economic security'., In the Czech Republic, unconditional basic income is supported by many individuals, NGOs (Alternativa zdola, ProAlt, Levá perspektiva, for example), and political parties., In 2013, activists and social scientists joined the European Citizens' Initiative for Unconditional Basic Income, and have created a campaign to support unconditional basic income.\",\n  'kp': ['unconditional basic income',\n   'basic income',\n   'basic income guarantee',\n   'basic income supported']},\n {'ranked_passages': \"This emerged as a consensus among some policy makers and economists for Keynesian solutions., Paul Krugman wrote in 2015 that: 'Economists struggling to make sense of economic polarization are, increasingly, talking not about technology but about power.', Another narrative described by Paul Krugman is that a resurgence of movement conservatism since the 1970s, embodied by Reaganomics in the United States during the 1980s, resulted in a variety of policies that favored owners of capital and natural resources over laborers.\",\n  'kp': ['reaganomics',\n   'movement conservatism',\n   'economists',\n   '1970s embodied reaganomics']},\n {'ranked_passages': \"Income inequality affects income segregation., Rural households' incomes increase as a result, and income inequality decreases., Thus, income inequality is generally stronger among high-income households – i.e., upper- tail income inequality.\",\n  'kp': ['income inequality',\n   'income segregation',\n   'income households',\n   'inequality affects income']}]"
     },
     "execution_count": 224,
     "metadata": {},
     "output_type": "execute_result"
    }
   ],
   "source": [
    "# from sentence_transformers import SentenceTransformer, util\n",
    "# from sklearn.metrics.pairwise import cosine_similarity\n",
    "# import torch\n",
    "# import time\n",
    "#\n",
    "# model = SentenceTransformer('all-MiniLM-L6-v2')\n",
    "# def cosine_similarity_(sentences):\n",
    "#     embeddings = model.encode(sentences, convert_to_tensor=True, show_progress_bar=False)\n",
    "#\n",
    "#     cos = torch.nn.CosineSimilarity()\n",
    "#     scores = cos(embeddings[0], embeddings[1:])\n",
    "#\n",
    "#     scored = []\n",
    "#     retrieved_sentences = sentences[1:]\n",
    "#     for sent, similarity in zip(retrieved_sentences, scores):\n",
    "#         scored.append((sent, similarity.numpy().item()))\n",
    "#\n",
    "#     return scored\n",
    "#\n",
    "# def rank_passages(ev, k=3):\n",
    "#     adus = [i[\"sentence\"] for i in ev[\"argument\"]]\n",
    "#     retrieved_passages = [i[\"passages\"] for i in ev[\"retrieved\"]]\n",
    "#\n",
    "#     # Merge\n",
    "#     # Output 1 x merged sentences object per ADU sentence, with k=5 collected passages as a list of sentences\n",
    "#     merged_passages = []\n",
    "#     for passages in retrieved_passages:\n",
    "#         merged_sents = []\n",
    "#         # Iterate n x sentences for each k=5 retrieved passages\n",
    "#         for passage in passages:\n",
    "#             # Segment as a list of sentences\n",
    "#             sents = sentences_segment(passage)\n",
    "#             # Add sentences to merged_sentences object\n",
    "#             merged_sents.extend(sents)\n",
    "#\n",
    "#         # Store merged sentence object for each ADU\n",
    "#         merged_passages.append(merged_sents)\n",
    "#\n",
    "#     rank_retrieved = []\n",
    "#     # Rank n x merged sentences for each 1 x ADU\n",
    "#     for adu, merged in zip(adus, merged_passages):\n",
    "#         scored = []\n",
    "#         sentences = [adu]\n",
    "#         sentences.extend(merged)\n",
    "#         scored = cosine_similarity_(sentences)\n",
    "#\n",
    "#         ranked_sents = sorted(scored, key=lambda x: x[1], reverse=True)\n",
    "#\n",
    "#         # Select top-k sentences\n",
    "#         ranked_sents = ranked_sents[0:k]\n",
    "#\n",
    "#         merged = \", \".join(i[0] for i in ranked_sents)\n",
    "#         merged_kp = extract_keyphrase(merged)\n",
    "#         rank_retrieved.append({\"ranked_passages\": merged, \"kp\": merged_kp})\n",
    "#\n",
    "#     return rank_retrieved\n",
    "#\n",
    "# # TODO: Clean text\n",
    "# # TODO: Collect unique Keyphrases per Argument\n",
    "# rank_passages(retrieved_ev[0])\n",
    "# #print(len(test[\"ranked_passages\"][0]))"
   ],
   "metadata": {
    "collapsed": false,
    "pycharm": {
     "name": "#%%\n"
    }
   }
  },
  {
   "cell_type": "code",
   "execution_count": 62,
   "outputs": [
    {
     "name": "stdout",
     "output_type": "stream",
     "text": [
      "4 4\n",
      "4\n",
      "[[{'evidence': 'Many technology experts and technology entrepreneurs have begun endorsing basic income in the 2000s and 2010s. These include Marshal Brain, Sam Altman, James Hughes, Facebook co-founder Chris Hughes, Elon Musk, and Mark Zuckerberg (in his 2017 Harvard commencement speech), and Jeremy Rifkin. The overriding theme among technologists who favor basic income is the belief that automation is creating an increasingly unstable labor market.', 'kp': ('technologists favor basic income', 0.6414), 'similarity': 0.3174712657928467}, {'evidence': \"Committee member Lady Rhys-Williams argued that the incomes for adults should be more like a basic income. She was also the first to develop the negative income tax model. Her son Brandon Rhys Williams proposed a basic income to a parliamentary committee in 1982, and soon after that in 1984, the Basic Income Research Group, now the Citizen's Basic Income Trust, began to conduct and disseminate research on basic income.\", 'kp': ('williams proposed basic income', 0.7498), 'similarity': 0.3011493682861328}, {'evidence': 'Brazil. Minimum income has been increasingly accepted by the Brazilian government. In 2004, President\\xa0Lula da Silva signed into law a bill to establish a universal basic income.', 'kp': ('brazil minimum income increasingly', 0.7746), 'similarity': 0.2683749198913574}], [{'evidence': \"Several British academics have been involved in the basic income debate. Among them the following:Organisations. The organisation Basic Income UK is 'a collective of independent people promoting unconditional basic income as a progressive social policy for the United Kingdom, and beyond'.\", 'kp': ('organisation basic income uk', 0.8251), 'similarity': 0.559151828289032}, {'evidence': 'A basic income is defined in the report as a policy that guarantees all members of a society a minimum amount of income. One type of basic income considered is the most well-known: a universal basic income (UBI). With a UBI, everyone receives a cash transfer at regular intervals, with no conditions, and no eligibility requirements except residency in the jurisdiction.', 'kp': ('basic income ubi', 0.8611), 'similarity': 0.4547910690307617}, {'evidence': \"In May 2019, a report by Professor Guy Standing, commissioned by the Progressive Economic Forum and forwarded to John McDonnell (the acting Shadow Chancellor of the Exchequer) suggested different models for piloting basic income. Standing's report ('Basic Income as Common Dividends: Piloting a Transformative Policy. A Report for the Shadow Chancellor of the Exchequer)' cites a 'perfect storm' of factors that lead to the need for a basic income: Broad ethical justifications for basic income, which Standing cites as 'social justice, security, freedom and solidarity' are now working in combination with urgent socio-economic demands.\", 'kp': ('basic income standing cites', 0.7328), 'similarity': 0.43910565972328186}], [{'evidence': 'Strategic Trade Policy and the New International Economics, ed. Paul Krugman. MIT Press, Cambridge Mass.', 'kp': ('strategic trade policy new', 0.8215), 'similarity': 0.4906909763813019}, {'evidence': 'Paul Krugman. Paul Krugman obtained his B.A. from Yale in 1974 and a PhD in economics from MIT in 1977.', 'kp': ('paul krugman obtained yale', 0.7841), 'similarity': 0.44324031472206116}, {'evidence': \"(with Paul Krugman and Daniel Tsiddon), American Economic Review, December 1993, pp. 1211 1219. 'Technology and Life Cycle of Cities'(with Paul Krugman), Journal of Economic Growth, December 1997, pp.\", 'kp': ('cities paul krugman journal', 0.7116), 'similarity': 0.3929845988750458}], [{'evidence': 'Income taxes and cash benefits traditionally play an important role in redistributing income in Sweden, reducing inequality among the working-age population by about 28% (the OECD average [Of what?] is 25%). This redistributive effect has diminished over time, however, as it [What?]', 'kp': ('redistributing income sweden reducing', 0.8186), 'similarity': 0.3666048049926758}, {'evidence': \"Debate continues over whether a public policy response is appropriate to income inequality. For example, Federal Reserve Economist Thomas Garrett wrote in 2010: 'It is important to understand that income inequality is a byproduct of a well-functioning capitalist economy. Individuals' earnings are directly related to their productivity ... A wary eye should be cast on policies that aim to shrink the income distribution by redistributing income from the more productive to the less productive simply for the sake of 'fairness.''\", 'kp': ('income inequality byproduct functioning', 0.6669), 'similarity': 0.35747021436691284}, {'evidence': 'Taxes. Income taxes provide one mechanism for addressing after-tax inequality. Increasing the effective progressivity of income taxes reduces the gap between higher and lower incomes.', 'kp': ('mechanism addressing tax inequality', 0.7644), 'similarity': 0.28418540954589844}]]\n"
     ]
    }
   ],
   "source": [
    "# Handle duplicates\n",
    "# def rank_passages(ev, k=3):\n",
    "#     \"\"\" Handles a Retrieved Evidence Object, returning the top-k passages for each ADU \"\"\"\n",
    "#     # Per Argument\n",
    "#     # Index into Retrieved Evidence Object\n",
    "#     adus = [i for i in ev[0][\"argument\"]]\n",
    "#     retrieved = [i for i in ev[0][\"retrieved\"]]\n",
    "#\n",
    "#     #print(len(retrieved), len(adus))\n",
    "#\n",
    "#     # Rank k-returned passages for each ADU\n",
    "#     r_retrieved = []\n",
    "#     for adu, passage in zip(adus, retrieved):\n",
    "#         scored = []\n",
    "#         ranked_ev = []\n",
    "#         for _, kp in zip(passage[\"evidence\"], passage[\"kp\"]):\n",
    "#             scored.append((_, kp, cosine_similarity(str(adu), str(_))))\n",
    "#\n",
    "#         scored = sorted(scored, key=lambda x: x[2], reverse=True)[0:3]\n",
    "#         for i, j, k in scored:\n",
    "#             ranked_ev.append({\"evidence\": i, \"kp\": j, \"similarity\": k})\n",
    "#\n",
    "#         r_retrieved.append(ranked_ev)\n",
    "#\n",
    "#     return r_retrieved\n",
    "\n",
    "# 1 Argument x 4 ADUs x 5 Retrieved Passages\n",
    "# ranked = [i for i in rank_passages(retrieved_ev[3])]\n",
    "# print(len(ranked))\n",
    "# print(ranked)"
   ],
   "metadata": {
    "collapsed": false,
    "pycharm": {
     "name": "#%%\n"
    }
   }
  },
  {
   "cell_type": "code",
   "execution_count": 13,
   "outputs": [
    {
     "name": "stderr",
     "output_type": "stream",
     "text": [
      "INFO:sentence_transformers.SentenceTransformer:Load pretrained SentenceTransformer: all-MiniLM-L6-v2\n",
      "INFO:sentence_transformers.SentenceTransformer:Use pytorch device: cpu\n"
     ]
    },
    {
     "data": {
      "text/plain": "  0%|          | 0/10 [00:00<?, ?it/s]",
      "application/vnd.jupyter.widget-view+json": {
       "version_major": 2,
       "version_minor": 0,
       "model_id": "f628334203704fbfb104db2b3333354e"
      },
      "application/json": {
       "n": 0,
       "total": 10,
       "elapsed": 0.008111715316772461,
       "ncols": null,
       "nrows": null,
       "prefix": "",
       "ascii": false,
       "unit": "it",
       "unit_scale": false,
       "rate": null,
       "bar_format": null,
       "postfix": null,
       "unit_divisor": 1000,
       "initial": 0,
       "colour": null
      }
     },
     "metadata": {},
     "output_type": "display_data"
    },
    {
     "data": {
      "text/plain": "[{'id': 't3_30oi71',\n  'argument': [{'sentence': 'Section I Why is Basic Income Increasingly Popular?',\n    'kp': ['basic income increasingly',\n     'basic income',\n     'section basic income'],\n    'stance': 'NEUTRAL'},\n   {'sentence': 'Basic income is a policy that has broad support from both the progressive left and libertarian right.',\n    'kp': ['basic income', 'basic income policy', 'income policy'],\n    'stance': 'PRO'},\n   {'sentence': 'Centerleft economists including Paul Krugman have endorsed the scheme for various reasons.',\n    'kp': ['krugman endorsed scheme',\n     'centerleft economists including',\n     'centerleft economists'],\n    'stance': 'PRO'},\n   {'sentence': 'BI also reduces inequality by redistributing income from capital to labor.',\n    'kp': ['bi reduces inequality',\n     'inequality redistributing income',\n     'reduces inequality redistributing'],\n    'stance': 'CON'}],\n  'retrieved': [{'ranked_passages': \"Several British academics have been involved in the basic income debate. Among them the following:Organisations. The organisation Basic Income UK is 'a collective of independent people promoting unconditional basic income as a progressive social policy for the United Kingdom, and beyond'., Global basic income or world basic income is the concept of giving everyone in the world a guaranteed minimum income of money on a regular basis. The proposal usually suggests that the basic income be unconditional. Global basic income is part of the wider discussion on basic income, which typically implemented or proposed at the national level.\",\n    'kp': ['global basic income', 'basic income uk', 'basic income world']},\n   {'ranked_passages': \"Several British academics have been involved in the basic income debate. Among them the following:Organisations. The organisation Basic Income UK is 'a collective of independent people promoting unconditional basic income as a progressive social policy for the United Kingdom, and beyond'., A basic income is defined in the report as a policy that guarantees all members of a society a minimum amount of income. One type of basic income considered is the most well-known: a universal basic income (UBI). With a UBI, everyone receives a cash transfer at regular intervals, with no conditions, and no eligibility requirements except residency in the jurisdiction.\",\n    'kp': ['basic income uk', 'basic income ubi', 'basic income considered']},\n   {'ranked_passages': \"Krugman challenges the dominant neoclassical paradigm's ability to predict the business cycle, but Rankin acknowledges a more constructive critique is required. Economists that endorse Krugman's policy recommendation acknowledge that little is mentioned about the adverse implications of his policy including increasing debt, risk of hyperinflation, speculative threat, and opportunists. Additionally, Krugman does not comment on the technical and financial limitations of policy implementation in a global financial market., This emerged as a consensus among some policy makers and economists for Keynesian solutions. Figures in this school included Dominique Strauss-Kahn, Olivier Blanchard, Gordon Brown, Paul Krugman, and Martin Wolf. Austerity was another response, the policy of reducing government budget deficits.\",\n    'kp': ['economists endorse krugman',\n     'endorse krugman policy',\n     'economists keynesian']},\n   {'ranked_passages': \"Income measures: pre-and post-tax. Inequality can be measured before and after the effects of taxes and transfer payments such as social security and unemployment insurance. Measuring inequality after accounting for taxes and transfers reduces observed inequality, because both the income tax system and transfer systems are designed to do so., Debate continues over whether a public policy response is appropriate to income inequality. For example, Federal Reserve Economist Thomas Garrett wrote in 2010: 'It is important to understand that income inequality is a byproduct of a well-functioning capitalist economy. Individuals' earnings are directly related to their productivity ... A wary eye should be cast on policies that aim to shrink the income distribution by redistributing income from the more productive to the less productive simply for the sake of 'fairness.''\",\n    'kp': ['understand income inequality',\n     'income inequality',\n     'inequality income']}]},\n {'id': 't3_30oi71',\n  'argument': [{'sentence': 'Section I Why is Basic Income Increasingly Popular?',\n    'kp': ['basic income increasingly',\n     'basic income',\n     'section basic income'],\n    'stance': 'NEUTRAL'},\n   {'sentence': 'Basic income is a policy that has broad support from both the progressive left and libertarian right.',\n    'kp': ['basic income', 'basic income policy', 'income policy'],\n    'stance': 'PRO'},\n   {'sentence': 'Centerleft economists including Paul Krugman have endorsed the scheme for various reasons.',\n    'kp': ['krugman endorsed scheme',\n     'centerleft economists including',\n     'centerleft economists'],\n    'stance': 'PRO'},\n   {'sentence': 'BI also reduces inequality by redistributing income from capital to labor.',\n    'kp': ['bi reduces inequality',\n     'inequality redistributing income',\n     'reduces inequality redistributing'],\n    'stance': 'CON'}],\n  'retrieved': [{'ranked_passages': \"Several British academics have been involved in the basic income debate. Among them the following:Organisations. The organisation Basic Income UK is 'a collective of independent people promoting unconditional basic income as a progressive social policy for the United Kingdom, and beyond'., Global basic income or world basic income is the concept of giving everyone in the world a guaranteed minimum income of money on a regular basis. The proposal usually suggests that the basic income be unconditional. Global basic income is part of the wider discussion on basic income, which typically implemented or proposed at the national level.\",\n    'kp': ['global basic income', 'basic income uk', 'basic income world']},\n   {'ranked_passages': \"Several British academics have been involved in the basic income debate. Among them the following:Organisations. The organisation Basic Income UK is 'a collective of independent people promoting unconditional basic income as a progressive social policy for the United Kingdom, and beyond'., A basic income is defined in the report as a policy that guarantees all members of a society a minimum amount of income. One type of basic income considered is the most well-known: a universal basic income (UBI). With a UBI, everyone receives a cash transfer at regular intervals, with no conditions, and no eligibility requirements except residency in the jurisdiction.\",\n    'kp': ['basic income uk', 'basic income ubi', 'basic income considered']},\n   {'ranked_passages': \"Krugman challenges the dominant neoclassical paradigm's ability to predict the business cycle, but Rankin acknowledges a more constructive critique is required. Economists that endorse Krugman's policy recommendation acknowledge that little is mentioned about the adverse implications of his policy including increasing debt, risk of hyperinflation, speculative threat, and opportunists. Additionally, Krugman does not comment on the technical and financial limitations of policy implementation in a global financial market., This emerged as a consensus among some policy makers and economists for Keynesian solutions. Figures in this school included Dominique Strauss-Kahn, Olivier Blanchard, Gordon Brown, Paul Krugman, and Martin Wolf. Austerity was another response, the policy of reducing government budget deficits.\",\n    'kp': ['economists endorse krugman',\n     'endorse krugman policy',\n     'economists keynesian']},\n   {'ranked_passages': \"Income measures: pre-and post-tax. Inequality can be measured before and after the effects of taxes and transfer payments such as social security and unemployment insurance. Measuring inequality after accounting for taxes and transfers reduces observed inequality, because both the income tax system and transfer systems are designed to do so., Debate continues over whether a public policy response is appropriate to income inequality. For example, Federal Reserve Economist Thomas Garrett wrote in 2010: 'It is important to understand that income inequality is a byproduct of a well-functioning capitalist economy. Individuals' earnings are directly related to their productivity ... A wary eye should be cast on policies that aim to shrink the income distribution by redistributing income from the more productive to the less productive simply for the sake of 'fairness.''\",\n    'kp': ['understand income inequality',\n     'income inequality',\n     'inequality income']}]},\n {'id': 't3_30oi71',\n  'argument': [{'sentence': 'Section I Why is Basic Income Increasingly Popular?',\n    'kp': ['basic income increasingly',\n     'basic income',\n     'section basic income'],\n    'stance': 'NEUTRAL'},\n   {'sentence': 'Basic income is a policy that has broad support from both the progressive left and libertarian right.',\n    'kp': ['basic income', 'basic income policy', 'income policy'],\n    'stance': 'PRO'},\n   {'sentence': 'Centerleft economists including Paul Krugman have endorsed the scheme for various reasons.',\n    'kp': ['krugman endorsed scheme',\n     'centerleft economists including',\n     'centerleft economists'],\n    'stance': 'PRO'},\n   {'sentence': 'BI also reduces inequality by redistributing income from capital to labor.',\n    'kp': ['bi reduces inequality',\n     'inequality redistributing income',\n     'reduces inequality redistributing'],\n    'stance': 'CON'}],\n  'retrieved': [{'ranked_passages': \"Several British academics have been involved in the basic income debate. Among them the following:Organisations. The organisation Basic Income UK is 'a collective of independent people promoting unconditional basic income as a progressive social policy for the United Kingdom, and beyond'., Global basic income or world basic income is the concept of giving everyone in the world a guaranteed minimum income of money on a regular basis. The proposal usually suggests that the basic income be unconditional. Global basic income is part of the wider discussion on basic income, which typically implemented or proposed at the national level.\",\n    'kp': ['global basic income', 'basic income uk', 'basic income world']},\n   {'ranked_passages': \"Several British academics have been involved in the basic income debate. Among them the following:Organisations. The organisation Basic Income UK is 'a collective of independent people promoting unconditional basic income as a progressive social policy for the United Kingdom, and beyond'., A basic income is defined in the report as a policy that guarantees all members of a society a minimum amount of income. One type of basic income considered is the most well-known: a universal basic income (UBI). With a UBI, everyone receives a cash transfer at regular intervals, with no conditions, and no eligibility requirements except residency in the jurisdiction.\",\n    'kp': ['basic income uk', 'basic income ubi', 'basic income considered']},\n   {'ranked_passages': \"Krugman challenges the dominant neoclassical paradigm's ability to predict the business cycle, but Rankin acknowledges a more constructive critique is required. Economists that endorse Krugman's policy recommendation acknowledge that little is mentioned about the adverse implications of his policy including increasing debt, risk of hyperinflation, speculative threat, and opportunists. Additionally, Krugman does not comment on the technical and financial limitations of policy implementation in a global financial market., This emerged as a consensus among some policy makers and economists for Keynesian solutions. Figures in this school included Dominique Strauss-Kahn, Olivier Blanchard, Gordon Brown, Paul Krugman, and Martin Wolf. Austerity was another response, the policy of reducing government budget deficits.\",\n    'kp': ['economists endorse krugman',\n     'endorse krugman policy',\n     'economists keynesian']},\n   {'ranked_passages': \"Income measures: pre-and post-tax. Inequality can be measured before and after the effects of taxes and transfer payments such as social security and unemployment insurance. Measuring inequality after accounting for taxes and transfers reduces observed inequality, because both the income tax system and transfer systems are designed to do so., Debate continues over whether a public policy response is appropriate to income inequality. For example, Federal Reserve Economist Thomas Garrett wrote in 2010: 'It is important to understand that income inequality is a byproduct of a well-functioning capitalist economy. Individuals' earnings are directly related to their productivity ... A wary eye should be cast on policies that aim to shrink the income distribution by redistributing income from the more productive to the less productive simply for the sake of 'fairness.''\",\n    'kp': ['understand income inequality',\n     'income inequality',\n     'inequality income']}]},\n {'id': 't3_30oi71',\n  'argument': [{'sentence': 'Section I Why is Basic Income Increasingly Popular?',\n    'kp': ['basic income increasingly',\n     'basic income',\n     'section basic income'],\n    'stance': 'NEUTRAL'},\n   {'sentence': 'Basic income is a policy that has broad support from both the progressive left and libertarian right.',\n    'kp': ['basic income', 'basic income policy', 'income policy'],\n    'stance': 'PRO'},\n   {'sentence': 'Centerleft economists including Paul Krugman have endorsed the scheme for various reasons.',\n    'kp': ['krugman endorsed scheme',\n     'centerleft economists including',\n     'centerleft economists'],\n    'stance': 'PRO'},\n   {'sentence': 'BI also reduces inequality by redistributing income from capital to labor.',\n    'kp': ['bi reduces inequality',\n     'inequality redistributing income',\n     'reduces inequality redistributing'],\n    'stance': 'CON'}],\n  'retrieved': [{'ranked_passages': \"Several British academics have been involved in the basic income debate. Among them the following:Organisations. The organisation Basic Income UK is 'a collective of independent people promoting unconditional basic income as a progressive social policy for the United Kingdom, and beyond'., Global basic income or world basic income is the concept of giving everyone in the world a guaranteed minimum income of money on a regular basis. The proposal usually suggests that the basic income be unconditional. Global basic income is part of the wider discussion on basic income, which typically implemented or proposed at the national level.\",\n    'kp': ['global basic income', 'basic income uk', 'basic income world']},\n   {'ranked_passages': \"Several British academics have been involved in the basic income debate. Among them the following:Organisations. The organisation Basic Income UK is 'a collective of independent people promoting unconditional basic income as a progressive social policy for the United Kingdom, and beyond'., A basic income is defined in the report as a policy that guarantees all members of a society a minimum amount of income. One type of basic income considered is the most well-known: a universal basic income (UBI). With a UBI, everyone receives a cash transfer at regular intervals, with no conditions, and no eligibility requirements except residency in the jurisdiction.\",\n    'kp': ['basic income uk', 'basic income ubi', 'basic income considered']},\n   {'ranked_passages': \"Krugman challenges the dominant neoclassical paradigm's ability to predict the business cycle, but Rankin acknowledges a more constructive critique is required. Economists that endorse Krugman's policy recommendation acknowledge that little is mentioned about the adverse implications of his policy including increasing debt, risk of hyperinflation, speculative threat, and opportunists. Additionally, Krugman does not comment on the technical and financial limitations of policy implementation in a global financial market., This emerged as a consensus among some policy makers and economists for Keynesian solutions. Figures in this school included Dominique Strauss-Kahn, Olivier Blanchard, Gordon Brown, Paul Krugman, and Martin Wolf. Austerity was another response, the policy of reducing government budget deficits.\",\n    'kp': ['economists endorse krugman',\n     'endorse krugman policy',\n     'economists keynesian']},\n   {'ranked_passages': \"Income measures: pre-and post-tax. Inequality can be measured before and after the effects of taxes and transfer payments such as social security and unemployment insurance. Measuring inequality after accounting for taxes and transfers reduces observed inequality, because both the income tax system and transfer systems are designed to do so., Debate continues over whether a public policy response is appropriate to income inequality. For example, Federal Reserve Economist Thomas Garrett wrote in 2010: 'It is important to understand that income inequality is a byproduct of a well-functioning capitalist economy. Individuals' earnings are directly related to their productivity ... A wary eye should be cast on policies that aim to shrink the income distribution by redistributing income from the more productive to the less productive simply for the sake of 'fairness.''\",\n    'kp': ['understand income inequality',\n     'income inequality',\n     'inequality income']}]},\n {'id': 't3_4gdj35',\n  'argument': [{'sentence': 'I am of the belief that there cannot exist a legitimate emotional bond between a male and a female that lead to a loving relationship that is one of romance.',\n    'kp': ['emotional bond male',\n     'relationship romance',\n     'loving relationship romance'],\n    'stance': 'PRO'},\n   {'sentence': 'Not once have I seen a couple that did not have an enormous gap in interests composure speech patterns and emotional engagement.',\n    'kp': ['composure speech patterns',\n     'interests composure speech',\n     'patterns emotional engagement'],\n    'stance': 'PRO'},\n   {'sentence': 'Theres always and awkward disparity between each partner and they seem to be tolerating each other whilst there is little to grasp on why they are interested in each other aside from basic biology.',\n    'kp': ['partner tolerating',\n     'awkward disparity partner',\n     'disparity partner tolerating'],\n    'stance': 'CON'},\n   {'sentence': 'As a result of this homosexual relationships have always seemed purely the logical and socially optimal choice for anyone pursuing a relationship and heterosexual relationships continue only because of a heteronormitive society and the biology of reproduction which I believe is immoral but thats another topic.',\n    'kp': ['homosexual relationships purely',\n     'result homosexual relationships',\n     'homosexual relationships'],\n    'stance': 'PRO'},\n   {'sentence': 'I may be biased but from my perspective and experience Ive simply never seen a straight couple that was legitimately compatible in most ways.',\n    'kp': ['straight couple legitimately',\n     'couple legitimately compatible',\n     'straight couple'],\n    'stance': 'CON'}],\n  'retrieved': [{'ranked_passages': \"One definition of the word 'romance' is: 'the feelings and behavior of two people who are in a loving and sexual relationship with each other.' According to the Romance Writers of America, the main plot of a mass-market romance novel must revolve about the two people as they develop romantic love for each other and work to build a relationship. Both the conflict and the climax of the novel should be directly related to that core theme of developing a romantic relationship, although the novel can also contain subplots that do not specifically relate to the main characters' romantic love., Participants in cross-sex friendships face many challenges, including learning how to navigate the particular type of friendship. The four types of cross-sex friendship as defined by Guerrero and Chavez (2005) referenced earlier are: strictly platonic, mutual romance, desires romance, and rejects romance. In addition, O’Meara (1989) originally stated that the four essential challenges cross-sex friends face are: 1) determining the type of emotional bond experienced in the relationship, 2) confronting the issue of sexuality, 3) dealing with the issue of relationship equality within a cultural context of gender inequality, and 4) the challenge of public relationships — presenting the relationship as authentic to relevant audiences.\",\n    'kp': ['cross sex friendship',\n     'cross sex friendships',\n     'definition word romance']},\n   {'ranked_passages': \"She also helped people with speech and hearing difficulties before she closed her school. Patterns. An extensive collection of her patterns is available online., Therefore, a speaker's speech is a reflection of speech patterns acquired during language learning as a child. Overview. Methodology.\",\n    'kp': ['speech patterns acquired',\n     'speech patterns',\n     'reflection speech patterns']},\n   {'ranked_passages': \"'A sign that a partner is tolerating rather than accepting of your behavior would be how they approach it directly through conversation or indirectly via body language.' A partner who's intolerant would make comments regarding your behavior, even if it's not negative. For instance, if you like calling your partner during your lunch break every single day, they might say something like, 'Wow, you really like these lunch time phone calls.', If they're not making the effort to make you feel like you're part of a loving relationship, they they may just be tolerating you. According to Wise, if you feel like your partner really is just tolerating you, bring it up. If nothing changes, then Wise suggests moving on to someone who embraces you.\",\n    'kp': ['partner intolerant',\n     'partner tolerating accepting',\n     'partner tolerating']},\n   {'ranked_passages': \"The State may feel in justice that the rights of people in these relationships need to be protected.' He emphasised he was not thinking mainly of homosexual relationships, but rather of caring, dependent relationships in general. At the same time, he said, he did not exclude homosexual relationships., Some stories, for example that of Tutanekai and Tiki, centre on same-sex couples. A British missionary, Richard Davis, found homosexual relationships between men to be a familiar part of Māori life, and although homosexual relationships between women have not been well documented, they were certainly not condemned. Colonisation and criminalisation.\",\n    'kp': ['māori life homosexual',\n     'davis homosexual relationships',\n     'homosexual relationships men']},\n   {'ranked_passages': \"'She saw just a straight couple in love, and she should see everybody like that,' Colen said. 'She shouldn't just see straight couples like that.' The couple said they wanted to come forward earlier, but had safety concerns for their 6-month-old daughter., Can straight couples learn from same-sex relationships? 'In general, when a couple is not 'out,' both partners feel invisible, invalidated as people and as a couple,' Nichols said. 'It makes the relationship seem 'less than' opposite-sex relationships.\",\n    'kp': ['straight couples learn',\n     'straight couple love',\n     'straight couples']}]},\n {'id': 't3_4gdj35',\n  'argument': [{'sentence': 'I am of the belief that there cannot exist a legitimate emotional bond between a male and a female that lead to a loving relationship that is one of romance.',\n    'kp': ['emotional bond male',\n     'relationship romance',\n     'loving relationship romance'],\n    'stance': 'PRO'},\n   {'sentence': 'Not once have I seen a couple that did not have an enormous gap in interests composure speech patterns and emotional engagement.',\n    'kp': ['composure speech patterns',\n     'interests composure speech',\n     'patterns emotional engagement'],\n    'stance': 'PRO'},\n   {'sentence': 'Theres always and awkward disparity between each partner and they seem to be tolerating each other whilst there is little to grasp on why they are interested in each other aside from basic biology.',\n    'kp': ['partner tolerating',\n     'awkward disparity partner',\n     'disparity partner tolerating'],\n    'stance': 'CON'},\n   {'sentence': 'As a result of this homosexual relationships have always seemed purely the logical and socially optimal choice for anyone pursuing a relationship and heterosexual relationships continue only because of a heteronormitive society and the biology of reproduction which I believe is immoral but thats another topic.',\n    'kp': ['homosexual relationships purely',\n     'result homosexual relationships',\n     'homosexual relationships'],\n    'stance': 'PRO'},\n   {'sentence': 'I may be biased but from my perspective and experience Ive simply never seen a straight couple that was legitimately compatible in most ways.',\n    'kp': ['straight couple legitimately',\n     'couple legitimately compatible',\n     'straight couple'],\n    'stance': 'CON'}],\n  'retrieved': [{'ranked_passages': \"One definition of the word 'romance' is: 'the feelings and behavior of two people who are in a loving and sexual relationship with each other.' According to the Romance Writers of America, the main plot of a mass-market romance novel must revolve about the two people as they develop romantic love for each other and work to build a relationship. Both the conflict and the climax of the novel should be directly related to that core theme of developing a romantic relationship, although the novel can also contain subplots that do not specifically relate to the main characters' romantic love., Participants in cross-sex friendships face many challenges, including learning how to navigate the particular type of friendship. The four types of cross-sex friendship as defined by Guerrero and Chavez (2005) referenced earlier are: strictly platonic, mutual romance, desires romance, and rejects romance. In addition, O’Meara (1989) originally stated that the four essential challenges cross-sex friends face are: 1) determining the type of emotional bond experienced in the relationship, 2) confronting the issue of sexuality, 3) dealing with the issue of relationship equality within a cultural context of gender inequality, and 4) the challenge of public relationships — presenting the relationship as authentic to relevant audiences.\",\n    'kp': ['cross sex friendship',\n     'cross sex friendships',\n     'definition word romance']},\n   {'ranked_passages': \"She also helped people with speech and hearing difficulties before she closed her school. Patterns. An extensive collection of her patterns is available online., Therefore, a speaker's speech is a reflection of speech patterns acquired during language learning as a child. Overview. Methodology.\",\n    'kp': ['speech patterns acquired',\n     'speech patterns',\n     'reflection speech patterns']},\n   {'ranked_passages': \"'A sign that a partner is tolerating rather than accepting of your behavior would be how they approach it directly through conversation or indirectly via body language.' A partner who's intolerant would make comments regarding your behavior, even if it's not negative. For instance, if you like calling your partner during your lunch break every single day, they might say something like, 'Wow, you really like these lunch time phone calls.', If they're not making the effort to make you feel like you're part of a loving relationship, they they may just be tolerating you. According to Wise, if you feel like your partner really is just tolerating you, bring it up. If nothing changes, then Wise suggests moving on to someone who embraces you.\",\n    'kp': ['partner intolerant',\n     'partner tolerating accepting',\n     'partner tolerating']},\n   {'ranked_passages': \"The State may feel in justice that the rights of people in these relationships need to be protected.' He emphasised he was not thinking mainly of homosexual relationships, but rather of caring, dependent relationships in general. At the same time, he said, he did not exclude homosexual relationships., Some stories, for example that of Tutanekai and Tiki, centre on same-sex couples. A British missionary, Richard Davis, found homosexual relationships between men to be a familiar part of Māori life, and although homosexual relationships between women have not been well documented, they were certainly not condemned. Colonisation and criminalisation.\",\n    'kp': ['māori life homosexual',\n     'davis homosexual relationships',\n     'homosexual relationships men']},\n   {'ranked_passages': \"'She saw just a straight couple in love, and she should see everybody like that,' Colen said. 'She shouldn't just see straight couples like that.' The couple said they wanted to come forward earlier, but had safety concerns for their 6-month-old daughter., Can straight couples learn from same-sex relationships? 'In general, when a couple is not 'out,' both partners feel invisible, invalidated as people and as a couple,' Nichols said. 'It makes the relationship seem 'less than' opposite-sex relationships.\",\n    'kp': ['straight couples learn',\n     'straight couple love',\n     'straight couples']}]},\n {'id': 't3_5aceoz',\n  'argument': [{'sentence': 'UpdateThanks for all the replies theres been some really useful points and Ill dish out the deltas appropriately.',\n    'kp': ['deltas appropriately', 'deltas', 'dish deltas appropriately'],\n    'stance': 'PRO'},\n   {'sentence': 'The most convincing argument Ive heard is that Apple is trying to build a computer for the near future and if it doesnt work for you then you dont have to buy it.',\n    'kp': ['apple trying build', 'apple trying', 'apple'],\n    'stance': 'PRO'},\n   {'sentence': 'USBC is the future so why bother putting anything else in?',\n    'kp': ['usbc future', 'usbc future bother', 'usbc'],\n    'stance': 'CON'},\n   {'sentence': 'USB lets you charge from a battery charger which is an extra convenience even if it comes at the loss of MagSafe so why have a dedicated power socket?',\n    'kp': ['dedicated power socket',\n     'magsafe dedicated power',\n     'charger extra convenience'],\n    'stance': 'PRO'},\n   {'sentence': 'Most people take pictures with their phone and the latest camera models are coming with wireless support so SD support wont be important.I do think theyve made a mistake with how theyre handling headphones across devices but I have been convinced that their logic for this is an attempt to move to the future of wireless headphones not stripping things away for the sake of it.',\n    'kp': ['wireless support sd', 'sd support', 'support sd support'],\n    'stance': 'PRO'}],\n  'retrieved': [{'ranked_passages': 'Deltas are important ecosystems, where freshwater meets the sea, and where people for centuries have been engaged in agriculture and fishing. Today, most of the deltas in the world are drowning because of increased human exploitation and a rise in the global sea level. In an article just published in Nature, a research team led by researchers at the University of Copenhagen has shown that deltas in Greenland, unlike most other deltas, are growing., In warmer climates, Greenlandic deltas have grownby Staff WritersBoulder CO (SPX) Oct 06, 2017The study investigates changes to the deltas since the 1940s and up until today. In the period between 1940 and 1980, the deltas did not change much, but as the climate became warmer, the deltas started to grow. The photo on the left shows a delta in West Greenland photographed in 1985 and on the right the same delta in 2010.',\n    'kp': ['climates greenlandic deltas',\n     'greenland unlike deltas',\n     'greenlandic deltas grownby']},\n   {'ranked_passages': \"'Trying' is the second co-production between Apple and the BBC after a reboot 'Prehistoric Planet' was announced two months prior. On 19 January 2020, Apple Inc. formally announced the series in a press release with the official title 'Trying'. On 1 May 2020, Esther Smith confirmed in an interview with Metro that a second season had been commissioned by Apple., He argued that the practice 'borders on malware distribution practices' and 'undermines the trust that we're all trying to build with users.' Apple spokesman Bill Evans sidestepped Lilly's statement, saying that Apple was only 'using Software Update to make it easy and convenient for both Mac and Windows users to get the latest Safari update from Apple.' Apple also released a new version of Apple Software Update that puts new software in its own section, though still selected for installation by default.\",\n    'kp': ['new version apple', 'apple released new', 'production apple bbc']},\n   {'ranked_passages': 'All USBC competitors must first qualify at a CoffeeChamps Qualifying Competition, which is an abbreviated version of the USBC. Two Qualifying Competitions are held each year, the top eighteen competitors from each Qualifying Competition move on to USBC. Places 7-18 move into Round One of USBC., Team NABR of Fairport, New York, is the team to beat this year with a 3,266 total. For more information on the Open Championships, click here. Related ArticlesFather and son top Regular Doubles standings at Open ChampionshipsChicago bowler disqualified at USBC Open ChampionshipsNew friends lead Regular Doubles at 2017 USBC Open ChampionshipFather, son grab lead at 2017 USBC Open ChampionshipsFirst-time bowler rolls perfect game at 2017 USBC Open ChampionshipsMitch Beasley rolls perfect game at USBC Open ChampionshipsLast-minute partners lead Regular Doubles at 2017 USBC Open Championships2015 Regular Team champion back on top at 2017 USBC Open ChampionshipsBrandon Novak unable to repeat at USBC Open ChampionshipsNew leaders in Regular Team, Doubles at 2017 USBC Open ChampionshipsImmediate schedule and policy changes ahead for USBC Open ChampionshipsMatt Gasn shoots first 800 series at 2017 USBC Open ChampionshipsLes Zikes celebrates 65 years at USBC Open ChampionshipsDisqualifications at USBC Open ChampionshipsDoubles leaders emerge in all three divisions at USBC Open ChampionshipsWisconsin group leads every event at USBC Open ChampionshipsRegistration opens for 115th USBC Open Championships 20182017 USBC Open Championships – Regular DivisionTop 10 division leaders with hometown and pinfallTeam(Combined averages of 1,046 and above)1, Team NABR (Adam Barta, Anthony Pepe, Mike Rose Jr., Scott Pohl, Brian Waliczek), Fairport, N.Y., 3,266.',\n    'kp': ['usbc open championshipsmatt',\n     'usbc open championships',\n     'usbc open championshipsdoubles']},\n   {'ranked_passages': 'Apple recommends a 20 W power adapter. Users have reported MagSafe Chargers leaving circular imprints on leather cases. MagSafe Duo Charger., It provides up to 15\\xa0W of power and is backwards-compatible with the open Qi standard for up to 7.5\\xa0W of power. The connector also enables connecting non-charger accessories such as card holders and cases with communication through an integrated NFC loop. Apple released two chargers using the MagSafe standard in 2020: the MagSafe Charger, a single charging pad for iPhone, and the MagSafe Duo Charger, a charging mat with MagSafe and an Apple Watch charger.',\n    'kp': ['magsafe chargers', 'magsafe charger', 'chargers using magsafe']},\n   {'ranked_passages': 'The SDIO family comprises Low-Speed and Full-Speed cards. Both types of SDIO cards support SPI and one-bit SD bus types. Low-Speed SDIO cards are allowed to also support the four-bit SD bus; Full-Speed SDIO cards are required to support the four-bit SD bus., On 20 April 2020, Canon announced that the EOS R5, a hybrid mirrorless camera, will support CFexpress and SD UHS-II. On 28 July 2020, Sony announced the α7S III, a mirrorless camera that will support dual CFexpress Type A and SD cards. On 26 January 2021, Sony announced the α 1, a mirrorless camera that will support dual CFexpress Type A and SD cards.',\n    'kp': ['mirrorless camera support',\n     'sony announced mirrorless',\n     'sony announced α7s']}]},\n {'id': 't3_5aceoz',\n  'argument': [{'sentence': 'UpdateThanks for all the replies theres been some really useful points and Ill dish out the deltas appropriately.',\n    'kp': ['deltas appropriately', 'deltas', 'dish deltas appropriately'],\n    'stance': 'PRO'},\n   {'sentence': 'The most convincing argument Ive heard is that Apple is trying to build a computer for the near future and if it doesnt work for you then you dont have to buy it.',\n    'kp': ['apple trying build', 'apple trying', 'apple'],\n    'stance': 'PRO'},\n   {'sentence': 'USBC is the future so why bother putting anything else in?',\n    'kp': ['usbc future', 'usbc future bother', 'usbc'],\n    'stance': 'CON'},\n   {'sentence': 'USB lets you charge from a battery charger which is an extra convenience even if it comes at the loss of MagSafe so why have a dedicated power socket?',\n    'kp': ['dedicated power socket',\n     'magsafe dedicated power',\n     'charger extra convenience'],\n    'stance': 'PRO'},\n   {'sentence': 'Most people take pictures with their phone and the latest camera models are coming with wireless support so SD support wont be important.I do think theyve made a mistake with how theyre handling headphones across devices but I have been convinced that their logic for this is an attempt to move to the future of wireless headphones not stripping things away for the sake of it.',\n    'kp': ['wireless support sd', 'sd support', 'support sd support'],\n    'stance': 'PRO'}],\n  'retrieved': [{'ranked_passages': 'Deltas are important ecosystems, where freshwater meets the sea, and where people for centuries have been engaged in agriculture and fishing. Today, most of the deltas in the world are drowning because of increased human exploitation and a rise in the global sea level. In an article just published in Nature, a research team led by researchers at the University of Copenhagen has shown that deltas in Greenland, unlike most other deltas, are growing., In warmer climates, Greenlandic deltas have grownby Staff WritersBoulder CO (SPX) Oct 06, 2017The study investigates changes to the deltas since the 1940s and up until today. In the period between 1940 and 1980, the deltas did not change much, but as the climate became warmer, the deltas started to grow. The photo on the left shows a delta in West Greenland photographed in 1985 and on the right the same delta in 2010.',\n    'kp': ['climates greenlandic deltas',\n     'greenland unlike deltas',\n     'greenlandic deltas grownby']},\n   {'ranked_passages': \"'Trying' is the second co-production between Apple and the BBC after a reboot 'Prehistoric Planet' was announced two months prior. On 19 January 2020, Apple Inc. formally announced the series in a press release with the official title 'Trying'. On 1 May 2020, Esther Smith confirmed in an interview with Metro that a second season had been commissioned by Apple., He argued that the practice 'borders on malware distribution practices' and 'undermines the trust that we're all trying to build with users.' Apple spokesman Bill Evans sidestepped Lilly's statement, saying that Apple was only 'using Software Update to make it easy and convenient for both Mac and Windows users to get the latest Safari update from Apple.' Apple also released a new version of Apple Software Update that puts new software in its own section, though still selected for installation by default.\",\n    'kp': ['new version apple', 'apple released new', 'production apple bbc']},\n   {'ranked_passages': 'All USBC competitors must first qualify at a CoffeeChamps Qualifying Competition, which is an abbreviated version of the USBC. Two Qualifying Competitions are held each year, the top eighteen competitors from each Qualifying Competition move on to USBC. Places 7-18 move into Round One of USBC., Team NABR of Fairport, New York, is the team to beat this year with a 3,266 total. For more information on the Open Championships, click here. Related ArticlesFather and son top Regular Doubles standings at Open ChampionshipsChicago bowler disqualified at USBC Open ChampionshipsNew friends lead Regular Doubles at 2017 USBC Open ChampionshipFather, son grab lead at 2017 USBC Open ChampionshipsFirst-time bowler rolls perfect game at 2017 USBC Open ChampionshipsMitch Beasley rolls perfect game at USBC Open ChampionshipsLast-minute partners lead Regular Doubles at 2017 USBC Open Championships2015 Regular Team champion back on top at 2017 USBC Open ChampionshipsBrandon Novak unable to repeat at USBC Open ChampionshipsNew leaders in Regular Team, Doubles at 2017 USBC Open ChampionshipsImmediate schedule and policy changes ahead for USBC Open ChampionshipsMatt Gasn shoots first 800 series at 2017 USBC Open ChampionshipsLes Zikes celebrates 65 years at USBC Open ChampionshipsDisqualifications at USBC Open ChampionshipsDoubles leaders emerge in all three divisions at USBC Open ChampionshipsWisconsin group leads every event at USBC Open ChampionshipsRegistration opens for 115th USBC Open Championships 20182017 USBC Open Championships – Regular DivisionTop 10 division leaders with hometown and pinfallTeam(Combined averages of 1,046 and above)1, Team NABR (Adam Barta, Anthony Pepe, Mike Rose Jr., Scott Pohl, Brian Waliczek), Fairport, N.Y., 3,266.',\n    'kp': ['usbc open championshipsmatt',\n     'usbc open championships',\n     'usbc open championshipsdoubles']},\n   {'ranked_passages': 'Apple recommends a 20 W power adapter. Users have reported MagSafe Chargers leaving circular imprints on leather cases. MagSafe Duo Charger., It provides up to 15\\xa0W of power and is backwards-compatible with the open Qi standard for up to 7.5\\xa0W of power. The connector also enables connecting non-charger accessories such as card holders and cases with communication through an integrated NFC loop. Apple released two chargers using the MagSafe standard in 2020: the MagSafe Charger, a single charging pad for iPhone, and the MagSafe Duo Charger, a charging mat with MagSafe and an Apple Watch charger.',\n    'kp': ['magsafe chargers', 'magsafe charger', 'chargers using magsafe']},\n   {'ranked_passages': 'The SDIO family comprises Low-Speed and Full-Speed cards. Both types of SDIO cards support SPI and one-bit SD bus types. Low-Speed SDIO cards are allowed to also support the four-bit SD bus; Full-Speed SDIO cards are required to support the four-bit SD bus., On 20 April 2020, Canon announced that the EOS R5, a hybrid mirrorless camera, will support CFexpress and SD UHS-II. On 28 July 2020, Sony announced the α7S III, a mirrorless camera that will support dual CFexpress Type A and SD cards. On 26 January 2021, Sony announced the α 1, a mirrorless camera that will support dual CFexpress Type A and SD cards.',\n    'kp': ['mirrorless camera support',\n     'sony announced mirrorless',\n     'sony announced α7s']}]},\n {'id': 't3_5aceoz',\n  'argument': [{'sentence': 'UpdateThanks for all the replies theres been some really useful points and Ill dish out the deltas appropriately.',\n    'kp': ['deltas appropriately', 'deltas', 'dish deltas appropriately'],\n    'stance': 'PRO'},\n   {'sentence': 'The most convincing argument Ive heard is that Apple is trying to build a computer for the near future and if it doesnt work for you then you dont have to buy it.',\n    'kp': ['apple trying build', 'apple trying', 'apple'],\n    'stance': 'PRO'},\n   {'sentence': 'USBC is the future so why bother putting anything else in?',\n    'kp': ['usbc future', 'usbc future bother', 'usbc'],\n    'stance': 'CON'},\n   {'sentence': 'USB lets you charge from a battery charger which is an extra convenience even if it comes at the loss of MagSafe so why have a dedicated power socket?',\n    'kp': ['dedicated power socket',\n     'magsafe dedicated power',\n     'charger extra convenience'],\n    'stance': 'PRO'},\n   {'sentence': 'Most people take pictures with their phone and the latest camera models are coming with wireless support so SD support wont be important.I do think theyve made a mistake with how theyre handling headphones across devices but I have been convinced that their logic for this is an attempt to move to the future of wireless headphones not stripping things away for the sake of it.',\n    'kp': ['wireless support sd', 'sd support', 'support sd support'],\n    'stance': 'PRO'}],\n  'retrieved': [{'ranked_passages': 'Deltas are important ecosystems, where freshwater meets the sea, and where people for centuries have been engaged in agriculture and fishing. Today, most of the deltas in the world are drowning because of increased human exploitation and a rise in the global sea level. In an article just published in Nature, a research team led by researchers at the University of Copenhagen has shown that deltas in Greenland, unlike most other deltas, are growing., In warmer climates, Greenlandic deltas have grownby Staff WritersBoulder CO (SPX) Oct 06, 2017The study investigates changes to the deltas since the 1940s and up until today. In the period between 1940 and 1980, the deltas did not change much, but as the climate became warmer, the deltas started to grow. The photo on the left shows a delta in West Greenland photographed in 1985 and on the right the same delta in 2010.',\n    'kp': ['climates greenlandic deltas',\n     'greenland unlike deltas',\n     'greenlandic deltas grownby']},\n   {'ranked_passages': \"'Trying' is the second co-production between Apple and the BBC after a reboot 'Prehistoric Planet' was announced two months prior. On 19 January 2020, Apple Inc. formally announced the series in a press release with the official title 'Trying'. On 1 May 2020, Esther Smith confirmed in an interview with Metro that a second season had been commissioned by Apple., He argued that the practice 'borders on malware distribution practices' and 'undermines the trust that we're all trying to build with users.' Apple spokesman Bill Evans sidestepped Lilly's statement, saying that Apple was only 'using Software Update to make it easy and convenient for both Mac and Windows users to get the latest Safari update from Apple.' Apple also released a new version of Apple Software Update that puts new software in its own section, though still selected for installation by default.\",\n    'kp': ['new version apple', 'apple released new', 'production apple bbc']},\n   {'ranked_passages': 'All USBC competitors must first qualify at a CoffeeChamps Qualifying Competition, which is an abbreviated version of the USBC. Two Qualifying Competitions are held each year, the top eighteen competitors from each Qualifying Competition move on to USBC. Places 7-18 move into Round One of USBC., Team NABR of Fairport, New York, is the team to beat this year with a 3,266 total. For more information on the Open Championships, click here. Related ArticlesFather and son top Regular Doubles standings at Open ChampionshipsChicago bowler disqualified at USBC Open ChampionshipsNew friends lead Regular Doubles at 2017 USBC Open ChampionshipFather, son grab lead at 2017 USBC Open ChampionshipsFirst-time bowler rolls perfect game at 2017 USBC Open ChampionshipsMitch Beasley rolls perfect game at USBC Open ChampionshipsLast-minute partners lead Regular Doubles at 2017 USBC Open Championships2015 Regular Team champion back on top at 2017 USBC Open ChampionshipsBrandon Novak unable to repeat at USBC Open ChampionshipsNew leaders in Regular Team, Doubles at 2017 USBC Open ChampionshipsImmediate schedule and policy changes ahead for USBC Open ChampionshipsMatt Gasn shoots first 800 series at 2017 USBC Open ChampionshipsLes Zikes celebrates 65 years at USBC Open ChampionshipsDisqualifications at USBC Open ChampionshipsDoubles leaders emerge in all three divisions at USBC Open ChampionshipsWisconsin group leads every event at USBC Open ChampionshipsRegistration opens for 115th USBC Open Championships 20182017 USBC Open Championships – Regular DivisionTop 10 division leaders with hometown and pinfallTeam(Combined averages of 1,046 and above)1, Team NABR (Adam Barta, Anthony Pepe, Mike Rose Jr., Scott Pohl, Brian Waliczek), Fairport, N.Y., 3,266.',\n    'kp': ['usbc open championshipsmatt',\n     'usbc open championships',\n     'usbc open championshipsdoubles']},\n   {'ranked_passages': 'Apple recommends a 20 W power adapter. Users have reported MagSafe Chargers leaving circular imprints on leather cases. MagSafe Duo Charger., It provides up to 15\\xa0W of power and is backwards-compatible with the open Qi standard for up to 7.5\\xa0W of power. The connector also enables connecting non-charger accessories such as card holders and cases with communication through an integrated NFC loop. Apple released two chargers using the MagSafe standard in 2020: the MagSafe Charger, a single charging pad for iPhone, and the MagSafe Duo Charger, a charging mat with MagSafe and an Apple Watch charger.',\n    'kp': ['magsafe chargers', 'magsafe charger', 'chargers using magsafe']},\n   {'ranked_passages': 'The SDIO family comprises Low-Speed and Full-Speed cards. Both types of SDIO cards support SPI and one-bit SD bus types. Low-Speed SDIO cards are allowed to also support the four-bit SD bus; Full-Speed SDIO cards are required to support the four-bit SD bus., On 20 April 2020, Canon announced that the EOS R5, a hybrid mirrorless camera, will support CFexpress and SD UHS-II. On 28 July 2020, Sony announced the α7S III, a mirrorless camera that will support dual CFexpress Type A and SD cards. On 26 January 2021, Sony announced the α 1, a mirrorless camera that will support dual CFexpress Type A and SD cards.',\n    'kp': ['mirrorless camera support',\n     'sony announced mirrorless',\n     'sony announced α7s']}]},\n {'id': 't3_5aceoz',\n  'argument': [{'sentence': 'UpdateThanks for all the replies theres been some really useful points and Ill dish out the deltas appropriately.',\n    'kp': ['deltas appropriately', 'deltas', 'dish deltas appropriately'],\n    'stance': 'PRO'},\n   {'sentence': 'The most convincing argument Ive heard is that Apple is trying to build a computer for the near future and if it doesnt work for you then you dont have to buy it.',\n    'kp': ['apple trying build', 'apple trying', 'apple'],\n    'stance': 'PRO'},\n   {'sentence': 'USBC is the future so why bother putting anything else in?',\n    'kp': ['usbc future', 'usbc future bother', 'usbc'],\n    'stance': 'CON'},\n   {'sentence': 'USB lets you charge from a battery charger which is an extra convenience even if it comes at the loss of MagSafe so why have a dedicated power socket?',\n    'kp': ['dedicated power socket',\n     'magsafe dedicated power',\n     'charger extra convenience'],\n    'stance': 'PRO'},\n   {'sentence': 'Most people take pictures with their phone and the latest camera models are coming with wireless support so SD support wont be important.I do think theyve made a mistake with how theyre handling headphones across devices but I have been convinced that their logic for this is an attempt to move to the future of wireless headphones not stripping things away for the sake of it.',\n    'kp': ['wireless support sd', 'sd support', 'support sd support'],\n    'stance': 'PRO'}],\n  'retrieved': [{'ranked_passages': 'Deltas are important ecosystems, where freshwater meets the sea, and where people for centuries have been engaged in agriculture and fishing. Today, most of the deltas in the world are drowning because of increased human exploitation and a rise in the global sea level. In an article just published in Nature, a research team led by researchers at the University of Copenhagen has shown that deltas in Greenland, unlike most other deltas, are growing., In warmer climates, Greenlandic deltas have grownby Staff WritersBoulder CO (SPX) Oct 06, 2017The study investigates changes to the deltas since the 1940s and up until today. In the period between 1940 and 1980, the deltas did not change much, but as the climate became warmer, the deltas started to grow. The photo on the left shows a delta in West Greenland photographed in 1985 and on the right the same delta in 2010.',\n    'kp': ['climates greenlandic deltas',\n     'greenland unlike deltas',\n     'greenlandic deltas grownby']},\n   {'ranked_passages': \"'Trying' is the second co-production between Apple and the BBC after a reboot 'Prehistoric Planet' was announced two months prior. On 19 January 2020, Apple Inc. formally announced the series in a press release with the official title 'Trying'. On 1 May 2020, Esther Smith confirmed in an interview with Metro that a second season had been commissioned by Apple., He argued that the practice 'borders on malware distribution practices' and 'undermines the trust that we're all trying to build with users.' Apple spokesman Bill Evans sidestepped Lilly's statement, saying that Apple was only 'using Software Update to make it easy and convenient for both Mac and Windows users to get the latest Safari update from Apple.' Apple also released a new version of Apple Software Update that puts new software in its own section, though still selected for installation by default.\",\n    'kp': ['new version apple', 'apple released new', 'production apple bbc']},\n   {'ranked_passages': 'All USBC competitors must first qualify at a CoffeeChamps Qualifying Competition, which is an abbreviated version of the USBC. Two Qualifying Competitions are held each year, the top eighteen competitors from each Qualifying Competition move on to USBC. Places 7-18 move into Round One of USBC., Team NABR of Fairport, New York, is the team to beat this year with a 3,266 total. For more information on the Open Championships, click here. Related ArticlesFather and son top Regular Doubles standings at Open ChampionshipsChicago bowler disqualified at USBC Open ChampionshipsNew friends lead Regular Doubles at 2017 USBC Open ChampionshipFather, son grab lead at 2017 USBC Open ChampionshipsFirst-time bowler rolls perfect game at 2017 USBC Open ChampionshipsMitch Beasley rolls perfect game at USBC Open ChampionshipsLast-minute partners lead Regular Doubles at 2017 USBC Open Championships2015 Regular Team champion back on top at 2017 USBC Open ChampionshipsBrandon Novak unable to repeat at USBC Open ChampionshipsNew leaders in Regular Team, Doubles at 2017 USBC Open ChampionshipsImmediate schedule and policy changes ahead for USBC Open ChampionshipsMatt Gasn shoots first 800 series at 2017 USBC Open ChampionshipsLes Zikes celebrates 65 years at USBC Open ChampionshipsDisqualifications at USBC Open ChampionshipsDoubles leaders emerge in all three divisions at USBC Open ChampionshipsWisconsin group leads every event at USBC Open ChampionshipsRegistration opens for 115th USBC Open Championships 20182017 USBC Open Championships – Regular DivisionTop 10 division leaders with hometown and pinfallTeam(Combined averages of 1,046 and above)1, Team NABR (Adam Barta, Anthony Pepe, Mike Rose Jr., Scott Pohl, Brian Waliczek), Fairport, N.Y., 3,266.',\n    'kp': ['usbc open championshipsmatt',\n     'usbc open championships',\n     'usbc open championshipsdoubles']},\n   {'ranked_passages': 'Apple recommends a 20 W power adapter. Users have reported MagSafe Chargers leaving circular imprints on leather cases. MagSafe Duo Charger., It provides up to 15\\xa0W of power and is backwards-compatible with the open Qi standard for up to 7.5\\xa0W of power. The connector also enables connecting non-charger accessories such as card holders and cases with communication through an integrated NFC loop. Apple released two chargers using the MagSafe standard in 2020: the MagSafe Charger, a single charging pad for iPhone, and the MagSafe Duo Charger, a charging mat with MagSafe and an Apple Watch charger.',\n    'kp': ['magsafe chargers', 'magsafe charger', 'chargers using magsafe']},\n   {'ranked_passages': 'The SDIO family comprises Low-Speed and Full-Speed cards. Both types of SDIO cards support SPI and one-bit SD bus types. Low-Speed SDIO cards are allowed to also support the four-bit SD bus; Full-Speed SDIO cards are required to support the four-bit SD bus., On 20 April 2020, Canon announced that the EOS R5, a hybrid mirrorless camera, will support CFexpress and SD UHS-II. On 28 July 2020, Sony announced the α7S III, a mirrorless camera that will support dual CFexpress Type A and SD cards. On 26 January 2021, Sony announced the α 1, a mirrorless camera that will support dual CFexpress Type A and SD cards.',\n    'kp': ['mirrorless camera support',\n     'sony announced mirrorless',\n     'sony announced α7s']}]}]"
     },
     "execution_count": 13,
     "metadata": {},
     "output_type": "execute_result"
    }
   ],
   "source": [
    "# from sentence_transformers import SentenceTransformer, util\n",
    "# import torch\n",
    "# import time\n",
    "#\n",
    "# model = SentenceTransformer('all-MiniLM-L6-v2')\n",
    "#\n",
    "# # TODOs: Join passages and sentence rank\n",
    "# ### SCORE COSINE SIMILARITY ###\n",
    "# def cosine_similarity(sent_1, sent_2):\n",
    "#     sentences = [sent_1, sent_2]\n",
    "#     embeddings = model.encode(sentences, convert_to_tensor=True, show_progress_bar=False)\n",
    "#\n",
    "#     cos = torch.nn.CosineSimilarity(dim=0)\n",
    "#     score = cos(embeddings[0], embeddings[1])\n",
    "#\n",
    "#     return score.numpy().item()\n",
    "#\n",
    "# ### SCORE TF-KEYWORD OVERLAP ###\n",
    "# def overlap_score(evidence_kp, adu_kp):\n",
    "#     score = 0\n",
    "#     # Split Keyphrase into components, scoring partial units as overlap\n",
    "#     for i in evidence_kp:\n",
    "#         for j in i.split():\n",
    "#             # Ensure string value, to enact .find\n",
    "#             if \", \".join([i for i in adu_kp]).find(j) != -1: score += 1\n",
    "#\n",
    "#             else: continue\n",
    "#     return score\n",
    "#\n",
    "# ### RANK PASSAGES ###\n",
    "# def score_passages(ev):\n",
    "#     for _ in range(0, len(ev[\"argument\"])):\n",
    "#         print(_)\n",
    "#\n",
    "# from collections import defaultdict\n",
    "# def rank_passages(ev, k=2):\n",
    "#     adus = [i for i in ev[\"argument\"]]\n",
    "#     retrieved = [i for i in ev[\"retrieved\"]]\n",
    "#\n",
    "#     rank_retrieved = []\n",
    "#     count = 0\n",
    "#\n",
    "#     for adu, passages in zip(adus, retrieved):\n",
    "#         count += 1\n",
    "#         scored = []\n",
    "#\n",
    "#         # 5 passages\n",
    "#         for passage in passages[\"passages\"]:\n",
    "#             score = cosine_similarity(str(adu), str(passage))\n",
    "#             scored.append((passage, score))\n",
    "#\n",
    "#         ranked_passages = sorted(scored, key=lambda x: x[1], reverse=True)\n",
    "#         ranked_passages = ranked_passages[0:k]\n",
    "#\n",
    "#         merged = \", \".join(i[0] for i in ranked_passages)\n",
    "#         merged_kp = extract_keyphrase(merged)\n",
    "#         rank_retrieved.append({\"ranked_passages\": merged, \"kp\": merged_kp})\n",
    "#\n",
    "#     return rank_retrieved\n",
    "#\n",
    "# import copy\n",
    "# ### UPDATE RETRIEVED OBJECT ###\n",
    "# # for i in range(0, len(retrieved_ev)):\n",
    "# #     retrieved_ranked[i][\"retrieved\"] = [i for i in rank_passages(retrieved_ev[i])]\n",
    "#\n",
    "# tic = time.time()\n",
    "# retrieved_ranked = copy.deepcopy(retrieved_ev)\n",
    "# with tqdm(total=(len(retrieved_ev)), position=0, leave=True) as pbar:\n",
    "#     for i in range(0, len(retrieved_ev)):\n",
    "#         retrieved_ranked[i][\"retrieved\"] = [i for i in rank_passages(retrieved_ev[i])]\n",
    "#     pbar.update()\n",
    "#\n",
    "# toc = time.time()\n",
    "# # duration = toc - tic\n",
    "#\n",
    "# retrieved_ranked"
   ],
   "metadata": {
    "collapsed": false,
    "pycharm": {
     "name": "#%%\n"
    }
   }
  },
  {
   "cell_type": "code",
   "execution_count": 202,
   "outputs": [
    {
     "data": {
      "text/plain": "[{'ranked_passages': \"Several British academics have been involved in the basic income debate. Among them the following:Organisations. The organisation Basic Income UK is 'a collective of independent people promoting unconditional basic income as a progressive social policy for the United Kingdom, and beyond'., Basic Income. Delaney opposes implementing a basic income (also known as a universal basic income). Minimum wage.\",\n  'kp': ['organisation basic income uk',\n   'basic income uk',\n   'united kingdom basic income']},\n {'ranked_passages': \"Several British academics have been involved in the basic income debate. Among them the following:Organisations. The organisation Basic Income UK is 'a collective of independent people promoting unconditional basic income as a progressive social policy for the United Kingdom, and beyond'., A basic income is defined in the report as a policy that guarantees all members of a society a minimum amount of income. One type of basic income considered is the most well-known: a universal basic income (UBI). With a UBI, everyone receives a cash transfer at regular intervals, with no conditions, and no eligibility requirements except residency in the jurisdiction.\",\n  'kp': ['basic income uk', 'basic income ubi', 'universal basic income ubi']},\n {'ranked_passages': \"Later in 2011, Krugman publicly endorsed market monetarist policy recommendations, suggesting 'a Fed regime shift' to 'expectations-based monetary policy,' and commending market monetarism for its focus on nominal GDP. Krugman used the term 'market monetarism' in his widely read blog. Also, in the fourth quarter of 2011, The Milken Institute released a study by Clark Johnson, advocating market monetarist approaches., Strategic Trade Policy and the New International Economics, ed. Paul Krugman. MIT Press, Cambridge Mass.\",\n  'kp': ['endorsed market monetarist policy',\n   'policy commending market monetarism',\n   'market monetarist policy']},\n {'ranked_passages': \"Income taxes and cash benefits traditionally play an important role in redistributing income in Sweden, reducing inequality among the working-age population by about 28% (the OECD average [Of what?] is 25%). This redistributive effect has diminished over time, however, as it [What?], Debate continues over whether a public policy response is appropriate to income inequality. For example, Federal Reserve Economist Thomas Garrett wrote in 2010: 'It is important to understand that income inequality is a byproduct of a well-functioning capitalist economy. Individuals' earnings are directly related to their productivity ... A wary eye should be cast on policies that aim to shrink the income distribution by redistributing income from the more productive to the less productive simply for the sake of 'fairness.''\",\n  'kp': ['redistributing income sweden reducing',\n   'income sweden reducing inequality',\n   'redistributing income sweden']}]"
     },
     "execution_count": 202,
     "metadata": {},
     "output_type": "execute_result"
    }
   ],
   "source": [
    "# Fix KW extraction\n",
    "# Fix Duplicates\n",
    "# def rank_passages(ev, k=2):\n",
    "#     adus = [i for i in ev[\"argument\"]]\n",
    "#     retrieved = [i for i in ev[\"retrieved\"]]\n",
    "#\n",
    "#     rank_retrieved = []\n",
    "#     count = 0\n",
    "#\n",
    "#     for adu, passages in zip(adus, retrieved):\n",
    "#         count += 1\n",
    "#         scored = []\n",
    "#\n",
    "#         # 5 passages\n",
    "#         for passage in passages[\"passages\"]:\n",
    "#             score = cosine_similarity(str(adu), str(passage))\n",
    "#             scored.append((passage, score))\n",
    "#\n",
    "#         ranked_passages = sorted(scored, key=lambda x: x[1], reverse=True)\n",
    "#         ranked_passages = ranked_passages[0:k]\n",
    "#\n",
    "#         merged = \", \".join(i[0] for i in ranked_passages)\n",
    "#         merged_kp = extract_keyphrase(merged)\n",
    "#         rank_retrieved.append({\"ranked_passages\": merged, \"kp\": merged_kp})\n",
    "#\n",
    "#     return rank_retrieved\n",
    "#\n",
    "# ev = retrieved_ev[0]\n",
    "# rank_passages(ev)"
   ],
   "metadata": {
    "collapsed": false,
    "pycharm": {
     "name": "#%%\n"
    }
   }
  },
  {
   "cell_type": "code",
   "execution_count": 458,
   "outputs": [],
   "source": [
    "# def fuck_you():\n",
    "#     print(\"fuck you\")\n",
    "#\n",
    "# fuck_you()\n",
    "#\n",
    "# def rank_(ev):\n",
    "#     # Index into Retrieved Evidence Object\n",
    "#     ev = ev[0]\n",
    "#     adus = [i for i in ev[0][\"argument\"]]\n",
    "#     retrieved = [i for i in ev[0][\"retrieved\"]]\n",
    "#     k = 3\n",
    "#     print(\"hello\")\n",
    "#     # # Rank k-returned passages for each ADU\n",
    "#     # count = 0\n",
    "#     # r_retrieved = []\n",
    "#     # for adu, passage in zip(adus, retrieved):\n",
    "#     #     count += 1\n",
    "#     #     ranked_passages = []\n",
    "#     #     for _ in passage[\"evidence\"]:\n",
    "#     #         print(_)\n",
    "#     #         ranked_passages.append((_, cosine_similarity(adu, _)))\n",
    "#     #         r_retrieved.append({\"evidence\": i, \"similarity\": k} for i, k in sorted(ranked_passages, key=lambda x: x[1], reverse=True)[0:k])\n",
    "#     #         print(r_retrieved)\n",
    "#\n",
    "#     # return {\n",
    "#     #     \"r_retrieved\": r_retrieved\n",
    "#     # }\n",
    "#\n",
    "# #print(rank_(retrieved_ev[0:1]))"
   ],
   "metadata": {
    "collapsed": false,
    "pycharm": {
     "name": "#%%\n"
    }
   }
  },
  {
   "cell_type": "code",
   "execution_count": 116,
   "outputs": [
    {
     "name": "stderr",
     "output_type": "stream",
     "text": [
      "100%|██████████| 100/100 [00:30<00:00,  3.23it/s]"
     ]
    },
    {
     "name": "stdout",
     "output_type": "stream",
     "text": [
      "30.97145128250122\n"
     ]
    },
    {
     "name": "stderr",
     "output_type": "stream",
     "text": [
      "\n"
     ]
    }
   ],
   "source": [
    "# from multiprocessing.pool import ThreadPool as Pool\n",
    "# from yake import KeywordExtractor\n",
    "# import tqdm.notebook as tqdm\n",
    "# import time\n",
    "# from summa import keywords\n",
    "# from tqdm import tqdm\n",
    "#\n",
    "# ### PASSAGE RANKING; KEYWORD OVERLAP ###\n",
    "# kw_extractor = KeywordExtractor(lan=\"en\", n=3, top=5)\n",
    "#\n",
    "# # TODOs: For each ADU, Rank Merged Evidence using Keyword Overlap and Filter for Contrasting Stance\n",
    "# # TODOs: Handel Multiple Keywords\n",
    "#\n",
    "# def overlap_score(evidence_kp, adu_kp):\n",
    "#     score = 0\n",
    "#     # TODOs: Robust 'None' handeling\n",
    "#     if adu_kp == None:\n",
    "#         return score\n",
    "#     # Split Keyphrase into components, scoring partial units as overlap\n",
    "#     else:\n",
    "#         for i in evidence_kp:\n",
    "#             for j in i.split():\n",
    "#                 # Ensure string value, to enact .find\n",
    "#                 if \", \".join([i for i in adu_kp]).find(j) != -1: score += 1\n",
    "#\n",
    "#                 else: continue\n",
    "#\n",
    "#     return score\n",
    "#\n",
    "# def calculate_overlap(merged_ev, adu_kp):\n",
    "#\n",
    "#     for ev_unit in sentences_segment(merged_ev):\n",
    "#         toks = tokeniser(ev_unit)\n",
    "#         kp_overlap = 0\n",
    "#\n",
    "#         if len(toks) <= 8: continue\n",
    "#\n",
    "#         #ev_unit_kp = [i for i in keywords.keywords(ev_unit).split(\"\\n\")]\n",
    "#         ev_unit_kp = [i[0] for i in kw_extractor.extract_keywords(ev_unit)]\n",
    "#\n",
    "#         if ev_unit_kp:\n",
    "#             kp_overlap = overlap_score(evidence_kp=ev_unit_kp, adu_kp=adu_kp)\n",
    "#\n",
    "#         else: ev_unit_kp = None\n",
    "#         yield ev_unit, ev_unit_kp, kp_overlap\n",
    "#\n",
    "# # pool = Pool(8)\n",
    "# ### RANK PASSAGES ###\n",
    "# def score_passages(ev_):\n",
    "#     adu = ev_[0][\"argument_discourse_unit\"]\n",
    "#     adu_stance = ev_[0][\"adu_stance\"]\n",
    "#     merged_ev = ev_[0][\"merged_evidence\"]\n",
    "#     adu_kp = ev_[0][\"adu_keyphrases\"]\n",
    "#\n",
    "#     ### CALCULATE OVERLAP ###\n",
    "#     for ev_unit, ev_unit_kp, kp_overlap in calculate_overlap(merged_ev, adu_kp):\n",
    "#         target = adu_kp[0]\n",
    "#\n",
    "#         compared_stace = compare_stance(ev_unit, target)\n",
    "#         if compared_stace != adu_stance:\n",
    "#             yield {\n",
    "#                 \"adu\": adu,\n",
    "#                 \"adu_kp\": adu_kp,\n",
    "#                 \"evidence_unit\": ev_unit,\n",
    "#                 \"evidence_kps\": ev_unit_kp,\n",
    "#                 \"overlap\": kp_overlap,\n",
    "#                 \"evidence_stance\": compare_stance(ev_unit, target),\n",
    "#                 \"adu_stance\": adu_stance\n",
    "#             }\n",
    "#\n",
    "#         else: continue\n",
    "#\n",
    "# ### SCORED EVIDENCE ###\n",
    "# def score_evidence(retrieved_evidence):\n",
    "#     for ev_ in retrieved_ev:\n",
    "#         yield [i for i in score_passages(ev_)]\n",
    "#\n",
    "# ### RANKED EVIDENCE ###\n",
    "# def rank_filter_counter_evidence(retireved_evidence, k=3):\n",
    "#     with tqdm(total=(len(retrieved_ev))) as pbar:\n",
    "#         for i in score_evidence(retrieved_ev):\n",
    "#             yield sorted(i, key=lambda y: y[\"overlap\"], reverse=True)[0:k]\n",
    "#\n",
    "#             pbar.update()\n",
    "#\n",
    "#\n",
    "# ### SELECT TOP-K COUNTER-EVIDENCE ###\n",
    "# tic = time.time()\n",
    "# ranked_sorted_evidence = [i for i in rank_filter_counter_evidence(retrieved_ev)]\n",
    "# ranked_sorted_evidence\n",
    "# toc = time.time()\n",
    "#\n",
    "# print(toc - tic)\n",
    "# # TIME 1:20M"
   ],
   "metadata": {
    "collapsed": false,
    "pycharm": {
     "name": "#%%\n"
    }
   }
  },
  {
   "cell_type": "code",
   "execution_count": 250,
   "outputs": [
    {
     "name": "stdout",
     "output_type": "stream",
     "text": [
      "Section I Why is Basic Income Increasingly Popular?\n",
      "['basic income increasingly popular', 'basic income increasingly', 'section basic income increasingly']\n",
      "\n",
      "Brazil. Minimum income has been increasingly accepted by the Brazilian government. In 2004, President Lula da Silva signed into law a bill to establish a universal basic income. Committee member Lady Rhys-Williams argued that the incomes for adults should be more like a basic income. She was also the first to develop the negative income tax model. Her son Brandon Rhys Williams proposed a basic income to a parliamentary committee in 1982, and soon after that in 1984, the Basic Income Research Group, now the Citizen's Basic Income Trust, began to conduct and disseminate research on basic income. Many technology experts and technology entrepreneurs have begun endorsing basic income in the 2000s and 2010s. These include Marshal Brain, Sam Altman, James Hughes, Facebook co-founder Chris Hughes, Elon Musk, and Mark Zuckerberg (in his 2017 Harvard commencement speech), and Jeremy Rifkin. The overriding theme among technologists who favor basic income is the belief that automation is creating an increasingly unstable labor market. Several British academics have been involved in the basic income debate. Among them the following:Organisations. The organisation Basic Income UK is 'a collective of independent people promoting unconditional basic income as a progressive social policy for the United Kingdom, and beyond'. Basic Income. Delaney opposes implementing a basic income (also known as a universal basic income). Minimum wage.\n",
      "['proposed basic income', 'basic income develop', 'basic income uk']\n",
      "Basic income is a policy that has broad support from both the progressive left and libertarian right.\n",
      "['basic income', 'basic income policy', 'basic income policy broad']\n",
      "\n",
      "Several British academics have been involved in the basic income debate. Among them the following:Organisations. The organisation Basic Income UK is 'a collective of independent people promoting unconditional basic income as a progressive social policy for the United Kingdom, and beyond'. In May 2019, a report by Professor Guy Standing, commissioned by the Progressive Economic Forum and forwarded to John McDonnell (the acting Shadow Chancellor of the Exchequer) suggested different models for piloting basic income. Standing's report ('Basic Income as Common Dividends: Piloting a Transformative Policy. A Report for the Shadow Chancellor of the Exchequer)' cites a 'perfect storm' of factors that lead to the need for a basic income: Broad ethical justifications for basic income, which Standing cites as 'social justice, security, freedom and solidarity' are now working in combination with urgent socio-economic demands. A basic income is defined in the report as a policy that guarantees all members of a society a minimum amount of income. One type of basic income considered is the most well-known: a universal basic income (UBI). With a UBI, everyone receives a cash transfer at regular intervals, with no conditions, and no eligibility requirements except residency in the jurisdiction. Congress eventually approved a guaranteed minimum income for the elderly and the disabled. In the mid-1970s the main competitor to basic income and negative income tax, the Earned income tax credit (EITC), or its advocates, won over enough legislators for the US Congress to pass laws on that policy. In 1986, the Basic Income European Network, later renamed to Basic Income Earth Network (BIEN), was founded, with academic conferences every second year. The Queensland Greens were the first Australian party to adopt a Guaranteed Adequate Income (GAI) policy in 1999. Basic Income Guarantee Australia was accepted into the Basic Income Earth Network in 2006 as an affiliate member. In August 2014, ACOSS made a recommendation to simplify the welfare system via a basic income support payment; however, this differs from a universal guaranteed income in that it would still be means-tested.\n",
      "['basic income uk', 'organisation basic income uk', 'basic income uk collective']\n",
      "Centerleft economists including Paul Krugman have endorsed the scheme for various reasons.\n",
      "['paul krugman endorsed scheme', 'economists including paul krugman', 'krugman endorsed scheme various']\n",
      "\n",
      "Paul Krugman. Paul Krugman obtained his B.A. from Yale in 1974 and a PhD in economics from MIT in 1977. Strategic Trade Policy and the New International Economics, ed. Paul Krugman. MIT Press, Cambridge Mass. (with Paul Krugman and Daniel Tsiddon), American Economic Review, December 1993, pp. 1211 1219. 'Technology and Life Cycle of Cities'(with Paul Krugman), Journal of Economic Growth, December 1997, pp. But it's their 'right' to behave like a bunch of utter morons.' On the other hand, many economists and business analysts endorsed the coin as a way to counter threats by congressional Republicans to force the country into default by refusing to raise the debt limit. Paul Krugman said, 'So minting the coin would be undignified, but so what? Later in 2011, Krugman publicly endorsed market monetarist policy recommendations, suggesting 'a Fed regime shift' to 'expectations-based monetary policy,' and commending market monetarism for its focus on nominal GDP. Krugman used the term 'market monetarism' in his widely read blog. Also, in the fourth quarter of 2011, The Milken Institute released a study by Clark Johnson, advocating market monetarist approaches.\n",
      "['krugman said minting coin', 'economics ed paul krugman', 'paul krugman journal economic']\n",
      "BI also reduces inequality by redistributing income from capital to labor.\n",
      "['bi reduces inequality redistributing', 'reduces inequality redistributing income', 'inequality redistributing income capital']\n",
      "\n",
      "Income taxes and cash benefits traditionally play an important role in redistributing income in Sweden, reducing inequality among the working-age population by about 28% (the OECD average [Of what?] is 25%). This redistributive effect has diminished over time, however, as it [What?] Debate continues over whether a public policy response is appropriate to income inequality. For example, Federal Reserve Economist Thomas Garrett wrote in 2010: 'It is important to understand that income inequality is a byproduct of a well-functioning capitalist economy. Individuals' earnings are directly related to their productivity ... A wary eye should be cast on policies that aim to shrink the income distribution by redistributing income from the more productive to the less productive simply for the sake of 'fairness.'' Taxes. Income taxes provide one mechanism for addressing after-tax inequality. Increasing the effective progressivity of income taxes reduces the gap between higher and lower incomes. This suggests that non-EU workers may have a tougher time finding high-skilled jobs than getting low-skilled work. Although income inequality between low-skilled and high-skilled workers is increasing, low-skilled workers are generally very well paid, inequality remains low and the lower and higher classes alike enjoy a very generous universal welfare state. Income taxes and cash benefits traditionally play an important role in redistributing income in Sweden, reducing inequality among the working-age population by about 28% (the OECD average [Of what?] NYU economist William Baumol found that substantial inequality does not stimulate growth because poverty reduces labor force productivity. Economists Dierk Herzer and Sebastian Vollmer found that increased income inequality reduces economic growth, but growth itself increases income inequality. A 1996 study by Perotti examined the channels through which inequality may affect economic growth.\n",
      "['income sweden reducing inequality', 'redistributing income sweden reducing', 'redistributing income sweden']\n"
     ]
    }
   ],
   "source": [
    "# idx = 2\n",
    "# for ln in retrieved_ev:\n",
    "#     r = ln[0]\n",
    "#     for _ in range(0, len(r[\"argument\"])):\n",
    "#         print(r[\"argument\"][_][\"sentence\"])\n",
    "#         print(r[\"argument\"][_][\"kp\"])\n",
    "#         print(\"\")\n",
    "#         print(r[\"retrieved\"][_][\"evidence\"])\n",
    "#         print(r[\"retrieved\"][_][\"kp\"])\n",
    "\n",
    "#\"counter\": {\"counter\": arg[\"counter\"][\"counter\"], \"counter_kp\": arg[\"counter\"][\"counter_keyphrases\"]}\n",
    "# \"argument_discourse_unit\": adu,\n",
    "# \"query\": query,\n",
    "# \"adu_keyphrases\": [i for i in kp],\n",
    "# \"adu_stance\": sentence_stance(adu, kp),\n",
    "# \"merged_evidence\": \", \".join(ln for ln in evidence)\n",
    "# \"retrieved_documents_titles\": titles,\n",
    "# \"retrieved_evidence\": evidence,"
   ],
   "metadata": {
    "collapsed": false,
    "pycharm": {
     "name": "#%%\n"
    }
   }
  },
  {
   "cell_type": "code",
   "execution_count": null,
   "outputs": [],
   "source": [
    "# # TODOs: Speed-up, Parrelleise, Yield\n",
    "# def overlap_score(evidence_kp, adu_kp):\n",
    "#     score = 0\n",
    "\n",
    "#     # Split Keyphrase into components, scoring partial units as overlap\n",
    "#     for i in evidence_kp:\n",
    "#         for j in i.split():\n",
    "#             # Ensure string value, to enact .find\n",
    "#             if \" \".join(adu_kp).find(j) != -1: score += 1\n",
    "\n",
    "#             else: continue\n",
    "\n",
    "#     return score\n",
    "\n",
    "# ev_units = evidence\n",
    "# adu_kp = extract_keyphrase(adu)\n",
    "\n",
    "# adu_ev_overlap = []\n",
    "\n",
    "# kp_1 = ['sex', 'relationship', 'opportunity']\n",
    "# kp_2 = ['better sex']\n",
    "\n",
    "# overlap_score(kp_2, kp_1)\n",
    "\n",
    "# for ev_unit in evidence:\n",
    "#     #print(ev_unit)\n",
    "#     toks = tokeniser(ev_unit)\n",
    "\n",
    "#     # Exprimental Value\n",
    "#     if len(toks) <= 8:\n",
    "#         continue\n",
    "\n",
    "#     ev_unit_kp = extract_keyphrase(ev_unit)\n",
    "#     kp_overlap = overlap_score(evidence_kp=ev_unit_kp, adu_kp=adu_kp)\n",
    "\n",
    "#     adu_ev_overlap.append({\n",
    "#         \"adu\": adu,\n",
    "#         \"adu_kp\": adu_kp,\n",
    "#         \"ev_unit\": ev_unit,\n",
    "#         \"ev_unit_kp\": ev_unit_kp,\n",
    "#         \"kp_overlap\": kp_overlap\n",
    "\n",
    "#         })\n",
    "\n",
    "# adu_ev_overlap"
   ],
   "metadata": {
    "collapsed": false,
    "pycharm": {
     "name": "#%%\n"
    }
   }
  },
  {
   "cell_type": "code",
   "execution_count": null,
   "metadata": {
    "pycharm": {
     "name": "#%%\n"
    }
   },
   "outputs": [],
   "source": [
    "# ### OVERLAP RANKED EVIDENCE ###\n",
    "\n",
    "# adu_ev_overlap.sort(key=lambda y: y[\"kp_overlap\"], reverse=True)\n",
    "# adu_ev_overlap\n",
    "\n",
    "# ### FILTER IRRELEVANT EVIDENCE ###\n",
    "# overlapping = [i for i in adu_ev_overlap if i[\"kp_overlap\"] !=0]\n",
    "\n",
    "# len(adu_ev_overlap), len(overlapping)\n",
    "# overlapping\n"
   ]
  },
  {
   "cell_type": "code",
   "execution_count": 15,
   "outputs": [
    {
     "data": {
      "text/plain": "'PRO'"
     },
     "execution_count": 15,
     "metadata": {},
     "output_type": "execute_result"
    }
   ],
   "source": [
    "# Stance Test\n",
    "# adu = 'I cant remember the topic that spurred this discussion but a friend and I were debating whether manmade things were natural.'\n",
    "# ev_unit = 'In this essay, Mill argues the idea that the morality of an action can be judged by whether it is natural or unnatural.'\n",
    "# target = 'natural things'\n",
    "#\n",
    "# stance = compare_stance(ev_unit, target)\n",
    "# stance"
   ],
   "metadata": {
    "collapsed": false,
    "pycharm": {
     "name": "#%%\n"
    }
   }
  },
  {
   "cell_type": "code",
   "execution_count": null,
   "metadata": {
    "pycharm": {
     "name": "#%%\n"
    }
   },
   "outputs": [],
   "source": [
    "# ### ASSERT SAME STANCE ###\n",
    "# from detection.stance_classifier import sentence_stance, compare_stance\n",
    "#\n",
    "# # TODOs: Ensure KPs Extracts are constrained to 1 unit\n",
    "# opposing_stance = []\n",
    "# for i in overlapping:\n",
    "#     adu = i[\"adu\"]\n",
    "#     target = \" \".join(i for i in i[\"adu_kp\"])\n",
    "#     ev_unit = i[\"ev_unit\"]\n",
    "#\n",
    "#     ev_stance = compare_stance(ev_unit, ev_unit, target)\n",
    "#     adu_stance = sentence_stance(adu, target)\n",
    "#\n",
    "#     if ev_stance != adu_stance:\n",
    "#         opposing_stance.append((ev_unit, ev_stance, adu_stance))\n",
    "#\n",
    "#     else: continue\n",
    "#\n",
    "# opposing_stance"
   ]
  },
  {
   "cell_type": "code",
   "execution_count": null,
   "metadata": {
    "pycharm": {
     "name": "#%%\n"
    }
   },
   "outputs": [],
   "source": [
    "### RANKING ###\n",
    "\n",
    "# TODOs: Speed-up, Parrelleise, Yield\n",
    "# ev_units = evidence\n",
    "# adu_kp = extract_keyphrase(adu)\n",
    "\n",
    "# adu_ev_overlap = []\n",
    "\n",
    "# kp_1 = ['sex', 'relationship', 'opportunity'] \n",
    "# kp_2 = ['better sex']\n",
    "\n",
    "# overlap_score(kp_2, kp_1)\n",
    "\n",
    "# for ev_unit in evidence:\n",
    "#     #print(ev_unit)\n",
    "#     toks = tokeniser(ev_unit)\n",
    "\n",
    "#     # Exprimental Value\n",
    "#     if len(toks) <= 8:\n",
    "#         continue\n",
    "    \n",
    "#     ev_unit_kp = extract_keyphrase(ev_unit)\n",
    "#     kp_overlap = overlap_score(evidence_kp=ev_unit_kp, adu_kp=adu_kp)\n",
    "    \n",
    "#     adu_ev_overlap.append({\n",
    "#         \"adu\": adu, \n",
    "#         \"adu_kp\": adu_kp,\n",
    "#         \"ev_unit\": ev_unit,\n",
    "#         \"ev_unit_kp\": ev_unit_kp, \n",
    "#         \"kp_overlap\": kp_overlap\n",
    "        \n",
    "#         })\n",
    "        \n",
    "# adu_ev_overlap\n",
    "\n",
    "\n",
    "#rank_passages(retrieved_ev)"
   ]
  },
  {
   "cell_type": "code",
   "execution_count": null,
   "metadata": {
    "pycharm": {
     "name": "#%%\n"
    }
   },
   "outputs": [],
   "source": [
    "# import spacy\n",
    "# from spacy.matcher import PhraseMatcher\n",
    "# from fuzzywuzzy import fuzz, process\n",
    "\n",
    "# # TODOs: Package as a Module\n",
    "# # TODOs: Handle Negation (Polarity shifters)\n",
    "# # TODOs: Review Unsuperived Approach; Consider adveanced patterns and common-sence knowledge\n",
    "\n",
    "# nlp = spacy.load(\"en_core_web_sm\")\n",
    "\n",
    "# sentence = \"I hate abortion rights. Abortions should be banned.\"\n",
    "# sentence_2 = \"I like abortion rights. I belive we should keep them.\"\n",
    "# sentence_3 = \"I hate tennis. People should play tennis more often\"\n",
    "\n",
    "# ### STANCE SCORING ###\n",
    "\n",
    "# # TODOs: https://www.cs.uic.edu/~liub/FBS/opinion-mining-final-WSDM.pdf \n",
    "# # TODOs: Pattern based Negation\n",
    "# # TODOs: Semantic Orientation of an opinion (Claim)\n",
    "# # TODOs:Group synonyms of 'features', 'targets'\n",
    "\n",
    "# phrase_matcher = PhraseMatcher(nlp.vocab)\n",
    "\n",
    "# ### SENTIMENT LEXICONS ###\n",
    "# pos = [w.replace(\"\\n\", \"\") for w in open(\"../../data/lexicon/positive_lex.txt\")]\n",
    "# neg = [w.replace(\"\\n\", \"\") for w in open(\"../../data/lexicon/negative_lex.txt\")]\n",
    "# polarity_shifters = [w.replace(\"\\n\", \"\") for w in open(\"../../data/lexicon/shifter_lexicon.txt\")]\n",
    "\n",
    "# ### STANCE: ASPECT-SEMANTIC ORIENTATION ###\n",
    "# def extract_aspect(sentence, n_gram):\n",
    "#     aspects = extract_keyphrase(str(sentence))[0]\n",
    "\n",
    "#     return nlp(aspects)\n",
    "\n",
    "# def index_aspect(phrase, aspect, sentence):    \n",
    "#     patterns = [nlp(aspect)]\n",
    "#     phrase_matcher.add(phrase, None, *patterns)\n",
    "\n",
    "#     start = 0\n",
    "#     stop = 0\n",
    "\n",
    "#     matched_phrases = phrase_matcher(sentence)\n",
    "#     for i in matched_phrases:\n",
    "#         _, start, stop = i\n",
    "        \n",
    "#     return start, stop\n",
    "\n",
    "# # TODOs: Implement Polarity Shifters, Simple\n",
    "# # TODOs: Implement Polarity Shifters, Complex, Verb Patterns\n",
    "# def stance_score(start, stop, sentence):\n",
    "#     pos_score = 0.0\n",
    "#     neg_score = 0.0\n",
    "\n",
    "#     score = 0\n",
    "#     for idx, tok in enumerate(sentence):\n",
    "#         if idx == start or idx == stop:\n",
    "#             continue\n",
    "\n",
    "#         # TODOs: Implement Polarity Shift\n",
    "#         # TODOs: Experiement with descriptive term + keyphrase aspects\n",
    "#         # TODOs: ABSA https://www.kaggle.com/code/phiitm/aspect-based-sentiment-analysis\n",
    "#         # Use external libaray: Textblob\n",
    "        \n",
    "#         k = 8\n",
    "#         # Negation Rules\n",
    "#         shifted_tok = None\n",
    "#         shifted_toks = []\n",
    "\n",
    "#         if (tok.dep_ == \"neg\") or (tok.dep_ in polarity_shifters):\n",
    "#             #Shift to Negative\n",
    "#             if idx <= k:\n",
    "#                 if idx < start: neg_score += 1/(start - idx)\n",
    "#                 else: neg_score += 1/(idx - stop)**0.5\n",
    "\n",
    "#             if shifted_tok != None and shifted_tok in neg:\n",
    "#                 print(shifted_tok.text)\n",
    "#                 # Shift to Positive\n",
    "#                 if idx < start: pos_score += 1/(start - idx)\n",
    "#                 elif idx > start: pos_score += 1/(idx - stop)**0.5\n",
    "#                 else: continue\n",
    "\n",
    "#         # Aspect Sentement Orientation\n",
    "#         if tok.text in pos:\n",
    "#             if tok in shifted_toks:\n",
    "#                 continue\n",
    "            \n",
    "#             if idx < start: pos_score += 1/(start - idx)\n",
    "#             else: pos_score += 1/(idx - stop)**0.5\n",
    "\n",
    "#         if tok.text in neg:\n",
    "#             if tok in shifted_toks:\n",
    "#                 continue\n",
    "\n",
    "#             if idx <= start: neg_score += 1/(start - idx)\n",
    "#             else: neg_score += 1/(idx - stop)**0.5\n",
    "    \n",
    "#     score = pos_score - neg_score /(pos_score + neg_score + 1)\n",
    "\n",
    "#     return score\n",
    "\n",
    "# def overlap_score(evidence_kp, adu_kp):\n",
    "#     score = 0\n",
    "    \n",
    "#     # Split Keyphrase into components, scoring partial units as overlap\n",
    "#     for i in evidence_kp:\n",
    "#         for j in i.split():\n",
    "#             # Ensure string value, to enact .find\n",
    "#             if \" \".join(adu_kp).find(j) != -1: \n",
    "#                 score += 1\n",
    "#                 token = j\n",
    "            \n",
    "#             else: continue\n",
    "    \n",
    "#     return score\n",
    "\n",
    "# def get_overlapping_token(evidence_kp, adu_kp):\n",
    "#     for i in evidence_kp:\n",
    "#         overlap_tokens = []\n",
    "#         for j in i.split():\n",
    "#             if \" \".join(adu_kp).find(j) != -1: \n",
    "#                 overlap_tokens.append(j) \n",
    "            \n",
    "#         return \" \".join(i for i in overlap_tokens)\n",
    "\n",
    "# def sentence_stance(sentence, aspect):\n",
    "#     sentence = nlp(sentence)\n",
    "\n",
    "#     start, stop = index_aspect(\"aspects\", aspect, sentence)\n",
    "#     score = stance_score(start, stop, sentence)\n",
    "\n",
    "#     # Add Neutral\n",
    "#     #stance = {\"claim\": sentence, \"stance\": \"PRO\", \"aspect\": aspect} if score > 0 else {\"claim\": sentence, \"stance\": \"CON\", \"aspect\": aspect}\n",
    "    \n",
    "#     return \"PRO\" if score > 0 else \"CON\"\n",
    "\n",
    "# def fuzzy_match(target, evidence_unit):\n",
    "\n",
    "#     overlapping_aspect = process.extractOne(target, ev.split())[0]\n",
    "#     score = overlapping_aspect[1]\n",
    "\n",
    "#     overlapping_aspect = nlp(re.sub(r'[^\\w]', ' ', overlapping_aspect))\n",
    "\n",
    "#     return overlapping_aspect, score\n",
    "\n",
    "# def compare_stance(ev_unit, evidence_aspect, adu_target):\n",
    "#     # Note: Already identified mathcing or partially matching Aspects. \n",
    "\n",
    "#     # Get the overlapping evidence aspect-target.\n",
    "#     overlapping_target, score = fuzzy_match(target=adu_aspect, evidence_unit=ev)\n",
    "    \n",
    "#     # Get position of the overlapping_target\n",
    "#     start, stop = index_aspect(\"OVERLAP\", nlp(overlapping_target), nlp(ev_unit))\n",
    "\n",
    "#     # Assert Stance towards evidence aspect\n",
    "#     score = stance_score(start, stop, nlp(ev_unit))\n",
    "    \n",
    "#     return \"PRO\" if score > 0 else \"CON\"\n",
    "\n",
    "# ev = \"These simple ideas and techniques could help both you and your lover enjoy sex. 1 / 10 Getty Images/Caiaimage Think beyond the thrust.\"\n",
    "# ev_aspect = \"sex\", \"relationship\", \"opportunity\"\n",
    "\n",
    "# adu = 'Hello! Let me preface by saying I dont believe there is a better sex.'\n",
    "# adu_aspect = \"better sex\"\n",
    "\n",
    "# print(sentence_stance(\"The mutual trust and understanding you share with your partner will lead to better sex, but that's not the only reason sex can be better when you're not in a relationship.\", adu_aspect))\n",
    "# print(compare_stance(ev, ev_aspect, adu_aspect))\n"
   ]
  },
  {
   "cell_type": "code",
   "execution_count": null,
   "metadata": {
    "pycharm": {
     "name": "#%%\n"
    }
   },
   "outputs": [],
   "source": [
    "# from spacy.matcher import DependencyMatcher, Matcher\n",
    "# matcher = Matcher(vocab=nlp.vocab)\n",
    "# matcher\n",
    "\n",
    "# # Matching Rule: Pronouns with Verbs that follow them\n",
    "# aspect = \"better sex\"\n",
    "# patterns = [\n",
    "#     [{\"DEP\": \"neg\"}, {\"LOWER\": aspect}],\n",
    "#     [{\"DEP\": \"neg\"}, {\"POS\": \"ADJ\"}, {\"LOWER\": aspect}],\n",
    "#     [{\"POS\": \"VERB\"}, {\"POS\": \"ADJ\"}, {\"LOWER\": aspect}],\n",
    "#     [{\"LOWER\": aspect.lower()}]\n",
    "# ]\n",
    "\n",
    "# test = nlp(\"Hello! Let me preface by saying I dont believe there is a not better sex.\")\n",
    "# test_2 = nlp(\"These simple ideas and techniques could help both you and your lover enjoy better sex.\")\n",
    "\n",
    "# matcher.add(\"test\", patterns=patterns)\n",
    "# result = matcher(test_2, as_spans=True)\n",
    "\n",
    "# result\n",
    "\n",
    "# # for tok in test:\n",
    "# #     print(tok.i, tok, tok.pos_, tok.dep_, tok.head.i, sep=\"\\t\")"
   ]
  },
  {
   "cell_type": "code",
   "execution_count": null,
   "metadata": {
    "pycharm": {
     "name": "#%%\n"
    }
   },
   "outputs": [],
   "source": [
    "### TARGETED RETRIEVAL: ATTACKING PEMISES ###\n",
    "\n",
    "# from BERT_adu_classifier import predict\n",
    "\n",
    "# premises = []\n",
    "# for sent in sentences:\n",
    "#     prediction = predict(sent)\n",
    "    \n",
    "#     if prediction == \"premise\":\n",
    "#         premises.append(sent)"
   ]
  }
 ],
 "metadata": {
  "kernelspec": {
   "name": "python3",
   "language": "python",
   "display_name": "Python 3 (ipykernel)"
  },
  "language_info": {
   "codemirror_mode": {
    "name": "ipython",
    "version": 3
   },
   "file_extension": ".py",
   "mimetype": "text/x-python",
   "name": "python",
   "nbconvert_exporter": "python",
   "pygments_lexer": "ipython3",
   "version": "3.10.6"
  },
  "orig_nbformat": 4,
  "vscode": {
   "interpreter": {
    "hash": "1b747fec5972a5a28202124dfae2950631b4721a6e18efe99aaae23c73408484"
   }
  }
 },
 "nbformat": 4,
 "nbformat_minor": 2
}