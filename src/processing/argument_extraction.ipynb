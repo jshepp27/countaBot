{
 "cells": [
  {
   "cell_type": "code",
   "execution_count": null,
   "outputs": [],
   "source": [
    "### TODOs ###\n",
    "\n",
    "# TODOs: Commonsense Query and Concept Expansion: Topics, Concepts, Synonyms\n",
    "# TODOs: Domain Restrict. Polarising social and political debate (Class labelling) only for higher-quality\n",
    "# TODO: Enhance Stance Module; Determine stance over entire argument. Only implicate stance for Noun\n",
    "# TODOs: Targeted Retrieval with Semantic Graphs\n",
    "# TODOs: Multi-Field Search\n",
    "\n",
    "# DONE: Mine Args\n",
    "# DONE: Mine Counters\n",
    "# DONE: Add Concepts\n",
    "# DONE: Prior tokenization and sentence segmentation to speed processing\n",
    "# DONE: Adu, Counter + KP Extraction as 'Argument Mining' preprocessing module\n",
    "# DONE: Manage Duplicate Keywords\n",
    "# DONE: Sentential Ranking\n",
    "# DONE: Include Topic Label\n",
    "# DONE: Include Concept Label\n",
    "# DONE: Add News\n",
    "\n",
    "# TODOs: (1) coverage of topic signature words in the input statement; (2) a weighted summation of the coverage of n-grams in the argu- ment4; (3) the magnitude of stance score, where we keep the passages of the same polarity as the argument; (4) content word overlap with the argument; and (5) coverage of topic signature words in the argument."
   ],
   "metadata": {
    "collapsed": false,
    "pycharm": {
     "is_executing": true
    }
   }
  },
  {
   "cell_type": "code",
   "execution_count": 18,
   "outputs": [
    {
     "name": "stdout",
     "output_type": "stream",
     "text": [
      "/Users/joshua.sheppard/PycharmProjects/countaBot\n"
     ]
    }
   ],
   "source": [
    "import os\n",
    "root = \"/Users/joshua.sheppard/PycharmProjects/countaBot\"\n",
    "os.chdir(root)\n",
    "print(os.getcwd())\n",
    "\n",
    "### INIT LOGGING ###\n",
    "import logging\n",
    "logging.basicConfig(level=logging.INFO)\n",
    "logger = logging.getLogger(\"ARGUMENT-EXTRACTOR\")\n",
    "\n",
    "### NLP FUNCTIONS ###\n",
    "from src.utils_.utils import tokeniser, sentences_segment"
   ],
   "metadata": {
    "collapsed": false
   }
  },
  {
   "cell_type": "code",
   "execution_count": 20,
   "outputs": [
    {
     "name": "stdout",
     "output_type": "stream",
     "text": [
      "/Users/joshua.sheppard/PycharmProjects/countaBot\n"
     ]
    }
   ],
   "source": [
    "### LOAD DATASETS ###\n",
    "import json\n",
    "import os\n",
    "import random\n",
    "\n",
    "print(os.getcwd())\n",
    "args = [json.loads(ln) for ln in open(\"./src/data/cmv_processed.jsonl\")]\n",
    "topics = [json.loads(ln) for ln in open(\"./src/data/argument_topic_concept.jsonl\")]\n",
    "concepts = [json.loads(ln) for ln in open(\"./src/data/argument_concept.jsonl\")]"
   ],
   "metadata": {
    "collapsed": false
   }
  },
  {
   "cell_type": "code",
   "execution_count": 21,
   "outputs": [
    {
     "data": {
      "text/plain": "(5990, 5990, 10303)"
     },
     "execution_count": 21,
     "metadata": {},
     "output_type": "execute_result"
    }
   ],
   "source": [
    "len(topics), len(concepts), len(args)"
   ],
   "metadata": {
    "collapsed": false
   }
  },
  {
   "cell_type": "code",
   "execution_count": 23,
   "outputs": [
    {
     "name": "stdout",
     "output_type": "stream",
     "text": [
      "blanks  t3_3cm6jy\n",
      "blanks  t3_1egv4k\n",
      "blanks  t3_1egv4k\n",
      "blanks  t3_5wjdve\n"
     ]
    }
   ],
   "source": [
    "### ASSERT BLANKS ###\n",
    "args_ = [json.loads(ln)[\"argument\"][\"argument\"] for ln in open(\"./src/data/cmv_processed.jsonl\")]\n",
    "ids = [json.loads(ln)[\"id\"] for ln in open(\"./src/data/cmv_processed.jsonl\")]\n",
    "\n",
    "for j, k in zip(args_, ids):\n",
    "    if j == \"\":\n",
    "        print(\"blanks\", j, k)"
   ],
   "metadata": {
    "collapsed": false
   }
  },
  {
   "cell_type": "code",
   "execution_count": 24,
   "outputs": [
    {
     "name": "stdout",
     "output_type": "stream",
     "text": [
      "99 \n",
      "\n",
      "rewinding time is the best superpower for daily life \n",
      "\n",
      "a topic that ive had fun discussing is to imagine what could be done with a superpower. with so many choices and so many implications for each power this little game can spark long conversations on how each power would affect our daily lives. from all of these discussions ive come away with the view that one power is better than all others by the most metrics a power that i like to call rewind.disclaimer if youve never found yourself wondering what your life could be like with superpowers and have no interest in starting then this topic is definitely not for you. the topic is one massive hypothetical so that better be your thing ptldr because damn! i wrote way too much to ask you to read it all \n",
      "\n"
     ]
    }
   ],
   "source": [
    "### INSPECT ARG ###\n",
    "import random\n",
    "sample = random.randint(0, 99)\n",
    "\n",
    "arg = args[sample][\"argument\"][\"argument\"]\n",
    "claim = args[sample][\"claim\"]\n",
    "\n",
    "print(sample, \"\\n\")\n",
    "print(claim, \"\\n\")\n",
    "print(arg, \"\\n\")"
   ],
   "metadata": {
    "collapsed": false
   }
  },
  {
   "cell_type": "code",
   "execution_count": 95,
   "outputs": [
    {
     "name": "stderr",
     "output_type": "stream",
     "text": [
      "INFO:sentence_transformers.SentenceTransformer:Load pretrained SentenceTransformer: all-MiniLM-L6-v2\n",
      "INFO:sentence_transformers.SentenceTransformer:Use pytorch device: cpu\n"
     ]
    },
    {
     "name": "stdout",
     "output_type": "stream",
     "text": [
      "['Brazil minimum income']\n",
      "['Brazil minimum income']\n",
      "['minimum']\n",
      "[]\n",
      "[]\n",
      "['brazil minimum income increasingly', 'minimum income increasingly accepted', 'income increasingly accepted', 'brazil', 'increasingly accepted']\n"
     ]
    }
   ],
   "source": [
    "### EXTRACTORS ###\n",
    "from src.utils_.keyphrase_extraction import yake_extract_keyphrase, summa_extract_keyphrase\n",
    "from yake import KeywordExtractor\n",
    "import re\n",
    "\n",
    "### PHRASE CLEANER ###\n",
    "def clean(phrase):\n",
    "    return re.sub(r\"[,.;@#?!&$]+\\ *\", \" \", phrase)\n",
    "\n",
    "### YAKE PARAMS ###\n",
    "language = \"en\"\n",
    "max_ngram_size = 3\n",
    "deduplication_thresold = 0.9\n",
    "deduplication_algo = 'seqm'\n",
    "\n",
    "### YAKE ####\n",
    "yake_extractor = KeywordExtractor(lan=language, dedupLim=deduplication_thresold, dedupFunc=deduplication_algo, n=3)\n",
    "\n",
    "def yake_extract_keyphrase(doc, k=1):\n",
    "    kp = yake_extractor.extract_keywords(doc)\n",
    "\n",
    "    return [clean(i[0]) for i in kp][0:k]\n",
    "\n",
    "### KEYBERT ###\n",
    "from keybert import KeyBERT\n",
    "\n",
    "kb = KeyBERT()\n",
    "def extract_keyphrase(doc, n_gram=3, n_kp=3, use_mmr=\"False\", use_maxsum=\"False\"):\n",
    "    kp = kb.extract_keywords(doc, keyphrase_ngram_range=(1, 4), stop_words='english', use_mmr=True, diversity=0.5)\n",
    "\n",
    "    #return kp\n",
    "    return [clean(i[0]) for i in kp]\n",
    "\n",
    "### TEST CASES ###\n",
    "test = \"Brazil's minimum income has increasingly been accepted.\"\n",
    "ev_kp = yake_extract_keyphrase(test, k=1)\n",
    "print(ev_kp)\n",
    "\n",
    "ev_kp = yake_extract_keyphrase(test)\n",
    "ev_kp_ = summa_extract_keyphrase(test)\n",
    "\n",
    "test_2 = \" \"\n",
    "ev_kp_2 = yake_extract_keyphrase(test_2)\n",
    "ev_kp_2_ = summa_extract_keyphrase(test_2)\n",
    "\n",
    "test_3 = \"Brazil's minimum income has increasingly been accepted.\"\n",
    "ev_kp_3 = extract_keyphrase(test_3)\n",
    "\n",
    "print(ev_kp)\n",
    "print(ev_kp_)\n",
    "\n",
    "print(ev_kp_2)\n",
    "print(ev_kp_2_)\n",
    "\n",
    "print(ev_kp_3)"
   ],
   "metadata": {
    "collapsed": false
   }
  },
  {
   "cell_type": "code",
   "execution_count": null,
   "outputs": [
    {
     "data": {
      "text/plain": "  0%|          | 0/10303 [00:00<?, ?it/s]",
      "application/vnd.jupyter.widget-view+json": {
       "version_major": 2,
       "version_minor": 0,
       "model_id": "6b0c40d30a2d4357bffa3a8a65dc8a6e"
      },
      "application/json": {
       "n": 0,
       "total": 10303,
       "elapsed": 0.017802953720092773,
       "ncols": null,
       "nrows": null,
       "prefix": "",
       "ascii": false,
       "unit": "it",
       "unit_scale": false,
       "rate": null,
       "bar_format": null,
       "postfix": null,
       "unit_divisor": 1000,
       "initial": 0,
       "colour": null
      }
     },
     "metadata": {},
     "output_type": "display_data"
    }
   ],
   "source": [
    "from tqdm.notebook import tqdm\n",
    "#from src.utils_.common_sense_expansion import wordNet_expansion\n",
    "from src.detection.stance_classifier import sentence_stance, compare_stance\n",
    "import multiprocessing\n",
    "import json\n",
    "import time\n",
    "\n",
    "# Disable Huggingface Logging\n",
    "os.environ[\"TOKENIZERS_PARALLELISM\"] = \"false\"\n",
    "\n",
    "topic_ids = [json.loads(ln)[\"id\"] for ln in open(\"./src/data/processed/argument_topic_concept.jsonl\")]\n",
    "concept_ids = [json.loads(ln)[\"id\"] for ln in open(\"./src/data/processed/argument_concept.jsonl\")]\n",
    "\n",
    "# Where notion == topic or concept\n",
    "def get_notion(notions_ids, notions_lst, arg_id, label):\n",
    "    notion_id = notions_ids.index(arg_id)\n",
    "    notion = notions_lst[notion_id][label]\n",
    "    return str(notion) if notion else None\n",
    "\n",
    "# Extract Argument Discourse as Sentences, Keyphrases, Topics and Concepts\n",
    "def extract_adus(arg_):\n",
    "\n",
    "    id_ = arg_[\"id\"]\n",
    "    arg = arg_[\"argument\"][\"argument\"]\n",
    "\n",
    "    topic = get_notion(topic_ids, topics, id_, \"topic_label\")\n",
    "    concept = get_notion(concept_ids, concepts, id_, \"concept_label\")\n",
    "\n",
    "    adu_sents = sentences_segment(arg)\n",
    "\n",
    "    extract_adus = []\n",
    "    for _ in adu_sents:\n",
    "\n",
    "        # Limit irrelevant sentences\n",
    "        if len(tokeniser(_)) <= 5:\n",
    "            continue\n",
    "\n",
    "        kp = extract_keyphrase(_)\n",
    "\n",
    "        singleton = yake_extract_keyphrase(_, 1)\n",
    "        kp.extend(singleton)\n",
    "\n",
    "        aspect = \" \" if kp == [] else kp[0]\n",
    "\n",
    "        try:\n",
    "            stance = sentence_stance(_, aspect)\n",
    "        except:\n",
    "            stance = \" \"\n",
    "\n",
    "        adu = {\"sentence\": _, \"kp\": [i.lower() for i in kp], \"stance\": stance, \"aspect\": aspect, \"topic\": topic, \"concept\": concept}\n",
    "\n",
    "        extract_adus.append(adu)\n",
    "\n",
    "    claim = arg_[\"claim\"]\n",
    "    claim_kp = yake_extract_keyphrase(claim)\n",
    "    claim_adu = {\"sentence\": claim, \"kp\": [i for i in claim_kp]}\n",
    "\n",
    "    return ({\n",
    "        \"id\": id_,\n",
    "        \"claim\": claim_adu,\n",
    "        \"argument\": [i for i in extract_adus]\n",
    "    })\n",
    "\n",
    "mined_args = []\n",
    "\n",
    "with multiprocessing.Pool(8) as pool:\n",
    "    with tqdm(total=(len(args)), position=0, leave=True) as pbar:\n",
    "        for arg in args:\n",
    "            mined_args.append(extract_adus(arg))\n",
    "            pbar.update()"
   ],
   "metadata": {
    "collapsed": false,
    "pycharm": {
     "is_executing": true
    }
   }
  },
  {
   "cell_type": "code",
   "execution_count": 85,
   "outputs": [
    {
     "data": {
      "text/plain": "  0%|          | 0/10 [00:00<?, ?it/s]",
      "application/vnd.jupyter.widget-view+json": {
       "version_major": 2,
       "version_minor": 0,
       "model_id": "39ba0a1be66a4321ac5d2e2bf9033a3b"
      },
      "application/json": {
       "n": 0,
       "total": 10,
       "elapsed": 0.011139154434204102,
       "ncols": null,
       "nrows": null,
       "prefix": "",
       "ascii": false,
       "unit": "it",
       "unit_scale": false,
       "rate": null,
       "bar_format": null,
       "postfix": null,
       "unit_divisor": 1000,
       "initial": 0,
       "colour": null
      }
     },
     "metadata": {},
     "output_type": "display_data"
    }
   ],
   "source": [
    "# test = []\n",
    "#\n",
    "# with multiprocessing.Pool(8) as pool:\n",
    "#     with tqdm(total=(len(args[0:10])), position=0, leave=True) as pbar:\n",
    "#         for arg in args[0:10]:\n",
    "#             test.append(extract_adus(arg))\n",
    "#             pbar.update()"
   ],
   "metadata": {
    "collapsed": false
   }
  },
  {
   "cell_type": "code",
   "execution_count": 86,
   "outputs": [
    {
     "data": {
      "text/plain": "[{'id': 't3_30oi71',\n  'claim': {'sentence': 'we should strengthen the traditional safety net rather than replace it with basic income',\n   'kp': ['traditional safety net']},\n  'argument': [{'sentence': 'section i why is basic income increasingly popular?',\n    'kp': ['basic income increasingly popular',\n     'section basic income',\n     'basic',\n     'increasingly',\n     'section',\n     'income increasingly popular'],\n    'stance': 'PRO',\n    'aspect': 'basic income increasingly popular',\n    'topic': 'incomes policy',\n    'concept': 'increase in accumulated other comprehensive income'},\n   {'sentence': 'basic income is a policy that has broad support from both the progressive left and libertarian right.',\n    'kp': ['basic income',\n     'basic income policy',\n     'basic income policy broad',\n     'income policy broad support',\n     'support progressive left libertarian',\n     'basic income'],\n    'stance': 'PRO',\n    'aspect': 'basic income',\n    'topic': 'incomes policy',\n    'concept': 'increase in accumulated other comprehensive income'},\n   {'sentence': 'centerleft economists including paul krugman have endorsed the scheme for various reasons.',\n    'kp': ['paul krugman endorsed scheme',\n     'economists including paul krugman',\n     'centerleft economists including',\n     'endorsed scheme various reasons',\n     'various reasons',\n     'centerleft economists including'],\n    'stance': 'PRO',\n    'aspect': 'paul krugman endorsed scheme',\n    'topic': 'incomes policy',\n    'concept': 'increase in accumulated other comprehensive income'},\n   {'sentence': 'first bi is an effective antipoverty measure.',\n    'kp': ['bi effective antipoverty measure',\n     'bi effective antipoverty',\n     'bi effective',\n     'bi',\n     'measure',\n     'effective antipoverty measure'],\n    'stance': 'PRO',\n    'aspect': 'bi effective antipoverty measure',\n    'topic': 'incomes policy',\n    'concept': 'increase in accumulated other comprehensive income'},\n   {'sentence': 'bi also reduces inequality by redistributing income from capital to labor.',\n    'kp': ['bi reduces inequality redistributing',\n     'reduces inequality redistributing income',\n     'income capital labor',\n     'reduces',\n     'redistributing',\n     'capital to labor'],\n    'stance': 'CON',\n    'aspect': 'bi reduces inequality redistributing',\n    'topic': 'incomes policy',\n    'concept': 'increase in accumulated other comprehensive income'},\n   {'sentence': 'perhaps most importantly to some on the left is the notion that bi provides people with freedom.',\n    'kp': ['bi provides people freedom',\n     'left notion',\n     'freedom',\n     'notion bi provides',\n     'importantly',\n     'people with freedom'],\n    'stance': 'PRO',\n    'aspect': 'bi provides people freedom',\n    'topic': 'incomes policy',\n    'concept': 'increase in accumulated other comprehensive income'},\n   {'sentence': 'leftlibertarian political economist philippe van parijs argues that to be truly free people have to have access to the means that people need for doing what they might want to do.',\n    'kp': ['parijs argues truly free',\n     'free people access means',\n     'political economist philippe van',\n     'people need doing want',\n     'leftlibertarian',\n     'leftlibertarian political economist'],\n    'stance': 'PRO',\n    'aspect': 'parijs argues truly free',\n    'topic': 'incomes policy',\n    'concept': 'increase in accumulated other comprehensive income'},\n   {'sentence': 'bi provides people those means.',\n    'kp': ['bi provides people means',\n     'bi provides people',\n     'bi provides',\n     'bi',\n     'means',\n     'people'],\n    'stance': 'NEUTRAL',\n    'aspect': 'bi provides people means',\n    'topic': 'incomes policy',\n    'concept': 'increase in accumulated other comprehensive income'},\n   {'sentence': 'some have made a feminist case for bi.',\n    'kp': ['feminist case bi',\n     'feminist case',\n     'case bi',\n     'bi',\n     'feminist',\n     'made a feminist'],\n    'stance': 'NEUTRAL',\n    'aspect': 'feminist case bi',\n    'topic': 'incomes policy',\n    'concept': 'increase in accumulated other comprehensive income'},\n   {'sentence': 'philosopher carole pateman writes bi would for the first time provide women with lifelong modest economic independence and security a major reason why it is central to democratization.basic income particularly in the form of a negative income tax is also popular among the libertarian right.',\n    'kp': ['democratization basic income particularly',\n     'popular libertarian',\n     'independence security major reason',\n     'bi time provide women',\n     'philosopher carole pateman writes',\n     'philosopher carole pateman'],\n    'stance': 'PRO',\n    'aspect': 'democratization basic income particularly',\n    'topic': 'incomes policy',\n    'concept': 'increase in accumulated other comprehensive income'},\n   {'sentence': 'with a nit in place much of the welfare state would be obsolete you could get rid of food stamps child nutrition programs public housing cash welfare community development programs medicaid and a host of meanstested welfare programs.',\n    'kp': ['nit place welfare state',\n     'welfare state obsolete rid',\n     'rid food stamps child',\n     'community development programs medicaid',\n     'obsolete rid food',\n     'food stamps child'],\n    'stance': 'CON',\n    'aspect': 'nit place welfare state',\n    'topic': 'incomes policy',\n    'concept': 'increase in accumulated other comprehensive income'},\n   {'sentence': 'it would simplify the bureaucracy and get rid of the unemployment trap that occurs under the existing system.',\n    'kp': ['simplify bureaucracy rid unemployment',\n     'unemployment trap occurs existing',\n     'rid unemployment',\n     'occurs existing',\n     'rid',\n     'existing system'],\n    'stance': 'PRO',\n    'aspect': 'simplify bureaucracy rid unemployment',\n    'topic': 'incomes policy',\n    'concept': 'increase in accumulated other comprehensive income'}]},\n {'id': 't3_30oi71',\n  'claim': {'sentence': 'we should strengthen the traditional safety net rather than replace it with basic income',\n   'kp': ['traditional safety net']},\n  'argument': [{'sentence': 'section i why is basic income increasingly popular?',\n    'kp': ['basic income increasingly popular',\n     'section basic income',\n     'basic',\n     'increasingly',\n     'section',\n     'income increasingly popular'],\n    'stance': 'PRO',\n    'aspect': 'basic income increasingly popular',\n    'topic': 'incomes policy',\n    'concept': 'increase in accumulated other comprehensive income'},\n   {'sentence': 'basic income is a policy that has broad support from both the progressive left and libertarian right.',\n    'kp': ['basic income',\n     'basic income policy',\n     'basic income policy broad',\n     'income policy broad support',\n     'support progressive left libertarian',\n     'basic income'],\n    'stance': 'PRO',\n    'aspect': 'basic income',\n    'topic': 'incomes policy',\n    'concept': 'increase in accumulated other comprehensive income'},\n   {'sentence': 'centerleft economists including paul krugman have endorsed the scheme for various reasons.',\n    'kp': ['paul krugman endorsed scheme',\n     'economists including paul krugman',\n     'centerleft economists including',\n     'endorsed scheme various reasons',\n     'various reasons',\n     'centerleft economists including'],\n    'stance': 'PRO',\n    'aspect': 'paul krugman endorsed scheme',\n    'topic': 'incomes policy',\n    'concept': 'increase in accumulated other comprehensive income'},\n   {'sentence': 'first bi is an effective antipoverty measure.',\n    'kp': ['bi effective antipoverty measure',\n     'bi effective antipoverty',\n     'bi effective',\n     'bi',\n     'measure',\n     'effective antipoverty measure'],\n    'stance': 'PRO',\n    'aspect': 'bi effective antipoverty measure',\n    'topic': 'incomes policy',\n    'concept': 'increase in accumulated other comprehensive income'},\n   {'sentence': 'bi also reduces inequality by redistributing income from capital to labor.',\n    'kp': ['bi reduces inequality redistributing',\n     'reduces inequality redistributing income',\n     'income capital labor',\n     'reduces',\n     'redistributing',\n     'capital to labor'],\n    'stance': 'CON',\n    'aspect': 'bi reduces inequality redistributing',\n    'topic': 'incomes policy',\n    'concept': 'increase in accumulated other comprehensive income'},\n   {'sentence': 'perhaps most importantly to some on the left is the notion that bi provides people with freedom.',\n    'kp': ['bi provides people freedom',\n     'left notion',\n     'freedom',\n     'notion bi provides',\n     'importantly',\n     'people with freedom'],\n    'stance': 'PRO',\n    'aspect': 'bi provides people freedom',\n    'topic': 'incomes policy',\n    'concept': 'increase in accumulated other comprehensive income'},\n   {'sentence': 'leftlibertarian political economist philippe van parijs argues that to be truly free people have to have access to the means that people need for doing what they might want to do.',\n    'kp': ['parijs argues truly free',\n     'free people access means',\n     'political economist philippe van',\n     'people need doing want',\n     'leftlibertarian',\n     'leftlibertarian political economist'],\n    'stance': 'PRO',\n    'aspect': 'parijs argues truly free',\n    'topic': 'incomes policy',\n    'concept': 'increase in accumulated other comprehensive income'},\n   {'sentence': 'bi provides people those means.',\n    'kp': ['bi provides people means',\n     'bi provides people',\n     'bi provides',\n     'bi',\n     'means',\n     'people'],\n    'stance': 'NEUTRAL',\n    'aspect': 'bi provides people means',\n    'topic': 'incomes policy',\n    'concept': 'increase in accumulated other comprehensive income'},\n   {'sentence': 'some have made a feminist case for bi.',\n    'kp': ['feminist case bi',\n     'feminist case',\n     'case bi',\n     'bi',\n     'feminist',\n     'made a feminist'],\n    'stance': 'NEUTRAL',\n    'aspect': 'feminist case bi',\n    'topic': 'incomes policy',\n    'concept': 'increase in accumulated other comprehensive income'},\n   {'sentence': 'philosopher carole pateman writes bi would for the first time provide women with lifelong modest economic independence and security a major reason why it is central to democratization.basic income particularly in the form of a negative income tax is also popular among the libertarian right.',\n    'kp': ['democratization basic income particularly',\n     'popular libertarian',\n     'independence security major reason',\n     'bi time provide women',\n     'philosopher carole pateman writes',\n     'philosopher carole pateman'],\n    'stance': 'PRO',\n    'aspect': 'democratization basic income particularly',\n    'topic': 'incomes policy',\n    'concept': 'increase in accumulated other comprehensive income'},\n   {'sentence': 'with a nit in place much of the welfare state would be obsolete you could get rid of food stamps child nutrition programs public housing cash welfare community development programs medicaid and a host of meanstested welfare programs.',\n    'kp': ['nit place welfare state',\n     'welfare state obsolete rid',\n     'rid food stamps child',\n     'community development programs medicaid',\n     'obsolete rid food',\n     'food stamps child'],\n    'stance': 'CON',\n    'aspect': 'nit place welfare state',\n    'topic': 'incomes policy',\n    'concept': 'increase in accumulated other comprehensive income'},\n   {'sentence': 'it would simplify the bureaucracy and get rid of the unemployment trap that occurs under the existing system.',\n    'kp': ['simplify bureaucracy rid unemployment',\n     'unemployment trap occurs existing',\n     'rid unemployment',\n     'occurs existing',\n     'rid',\n     'existing system'],\n    'stance': 'PRO',\n    'aspect': 'simplify bureaucracy rid unemployment',\n    'topic': 'incomes policy',\n    'concept': 'increase in accumulated other comprehensive income'}]},\n {'id': 't3_30oi71',\n  'claim': {'sentence': 'we should strengthen the traditional safety net rather than replace it with basic income',\n   'kp': ['traditional safety net']},\n  'argument': [{'sentence': 'section i why is basic income increasingly popular?',\n    'kp': ['basic income increasingly popular',\n     'section basic income',\n     'basic',\n     'increasingly',\n     'section',\n     'income increasingly popular'],\n    'stance': 'PRO',\n    'aspect': 'basic income increasingly popular',\n    'topic': 'incomes policy',\n    'concept': 'increase in accumulated other comprehensive income'},\n   {'sentence': 'basic income is a policy that has broad support from both the progressive left and libertarian right.',\n    'kp': ['basic income',\n     'basic income policy',\n     'basic income policy broad',\n     'income policy broad support',\n     'support progressive left libertarian',\n     'basic income'],\n    'stance': 'PRO',\n    'aspect': 'basic income',\n    'topic': 'incomes policy',\n    'concept': 'increase in accumulated other comprehensive income'},\n   {'sentence': 'centerleft economists including paul krugman have endorsed the scheme for various reasons.',\n    'kp': ['paul krugman endorsed scheme',\n     'economists including paul krugman',\n     'centerleft economists including',\n     'endorsed scheme various reasons',\n     'various reasons',\n     'centerleft economists including'],\n    'stance': 'PRO',\n    'aspect': 'paul krugman endorsed scheme',\n    'topic': 'incomes policy',\n    'concept': 'increase in accumulated other comprehensive income'},\n   {'sentence': 'first bi is an effective antipoverty measure.',\n    'kp': ['bi effective antipoverty measure',\n     'bi effective antipoverty',\n     'bi effective',\n     'bi',\n     'measure',\n     'effective antipoverty measure'],\n    'stance': 'PRO',\n    'aspect': 'bi effective antipoverty measure',\n    'topic': 'incomes policy',\n    'concept': 'increase in accumulated other comprehensive income'},\n   {'sentence': 'bi also reduces inequality by redistributing income from capital to labor.',\n    'kp': ['bi reduces inequality redistributing',\n     'reduces inequality redistributing income',\n     'income capital labor',\n     'reduces',\n     'redistributing',\n     'capital to labor'],\n    'stance': 'CON',\n    'aspect': 'bi reduces inequality redistributing',\n    'topic': 'incomes policy',\n    'concept': 'increase in accumulated other comprehensive income'},\n   {'sentence': 'perhaps most importantly to some on the left is the notion that bi provides people with freedom.',\n    'kp': ['bi provides people freedom',\n     'left notion',\n     'freedom',\n     'notion bi provides',\n     'importantly',\n     'people with freedom'],\n    'stance': 'PRO',\n    'aspect': 'bi provides people freedom',\n    'topic': 'incomes policy',\n    'concept': 'increase in accumulated other comprehensive income'},\n   {'sentence': 'leftlibertarian political economist philippe van parijs argues that to be truly free people have to have access to the means that people need for doing what they might want to do.',\n    'kp': ['parijs argues truly free',\n     'free people access means',\n     'political economist philippe van',\n     'people need doing want',\n     'leftlibertarian',\n     'leftlibertarian political economist'],\n    'stance': 'PRO',\n    'aspect': 'parijs argues truly free',\n    'topic': 'incomes policy',\n    'concept': 'increase in accumulated other comprehensive income'},\n   {'sentence': 'bi provides people those means.',\n    'kp': ['bi provides people means',\n     'bi provides people',\n     'bi provides',\n     'bi',\n     'means',\n     'people'],\n    'stance': 'NEUTRAL',\n    'aspect': 'bi provides people means',\n    'topic': 'incomes policy',\n    'concept': 'increase in accumulated other comprehensive income'},\n   {'sentence': 'some have made a feminist case for bi.',\n    'kp': ['feminist case bi',\n     'feminist case',\n     'case bi',\n     'bi',\n     'feminist',\n     'made a feminist'],\n    'stance': 'NEUTRAL',\n    'aspect': 'feminist case bi',\n    'topic': 'incomes policy',\n    'concept': 'increase in accumulated other comprehensive income'},\n   {'sentence': 'philosopher carole pateman writes bi would for the first time provide women with lifelong modest economic independence and security a major reason why it is central to democratization.basic income particularly in the form of a negative income tax is also popular among the libertarian right.',\n    'kp': ['democratization basic income particularly',\n     'popular libertarian',\n     'independence security major reason',\n     'bi time provide women',\n     'philosopher carole pateman writes',\n     'philosopher carole pateman'],\n    'stance': 'PRO',\n    'aspect': 'democratization basic income particularly',\n    'topic': 'incomes policy',\n    'concept': 'increase in accumulated other comprehensive income'},\n   {'sentence': 'with a nit in place much of the welfare state would be obsolete you could get rid of food stamps child nutrition programs public housing cash welfare community development programs medicaid and a host of meanstested welfare programs.',\n    'kp': ['nit place welfare state',\n     'welfare state obsolete rid',\n     'rid food stamps child',\n     'community development programs medicaid',\n     'obsolete rid food',\n     'food stamps child'],\n    'stance': 'CON',\n    'aspect': 'nit place welfare state',\n    'topic': 'incomes policy',\n    'concept': 'increase in accumulated other comprehensive income'},\n   {'sentence': 'it would simplify the bureaucracy and get rid of the unemployment trap that occurs under the existing system.',\n    'kp': ['simplify bureaucracy rid unemployment',\n     'unemployment trap occurs existing',\n     'rid unemployment',\n     'occurs existing',\n     'rid',\n     'existing system'],\n    'stance': 'PRO',\n    'aspect': 'simplify bureaucracy rid unemployment',\n    'topic': 'incomes policy',\n    'concept': 'increase in accumulated other comprehensive income'}]},\n {'id': 't3_30oi71',\n  'claim': {'sentence': 'we should strengthen the traditional safety net rather than replace it with basic income',\n   'kp': ['traditional safety net']},\n  'argument': [{'sentence': 'section i why is basic income increasingly popular?',\n    'kp': ['basic income increasingly popular',\n     'section basic income',\n     'basic',\n     'increasingly',\n     'section',\n     'income increasingly popular'],\n    'stance': 'PRO',\n    'aspect': 'basic income increasingly popular',\n    'topic': 'incomes policy',\n    'concept': 'increase in accumulated other comprehensive income'},\n   {'sentence': 'basic income is a policy that has broad support from both the progressive left and libertarian right.',\n    'kp': ['basic income',\n     'basic income policy',\n     'basic income policy broad',\n     'income policy broad support',\n     'support progressive left libertarian',\n     'basic income'],\n    'stance': 'PRO',\n    'aspect': 'basic income',\n    'topic': 'incomes policy',\n    'concept': 'increase in accumulated other comprehensive income'},\n   {'sentence': 'centerleft economists including paul krugman have endorsed the scheme for various reasons.',\n    'kp': ['paul krugman endorsed scheme',\n     'economists including paul krugman',\n     'centerleft economists including',\n     'endorsed scheme various reasons',\n     'various reasons',\n     'centerleft economists including'],\n    'stance': 'PRO',\n    'aspect': 'paul krugman endorsed scheme',\n    'topic': 'incomes policy',\n    'concept': 'increase in accumulated other comprehensive income'},\n   {'sentence': 'first bi is an effective antipoverty measure.',\n    'kp': ['bi effective antipoverty measure',\n     'bi effective antipoverty',\n     'bi effective',\n     'bi',\n     'measure',\n     'effective antipoverty measure'],\n    'stance': 'PRO',\n    'aspect': 'bi effective antipoverty measure',\n    'topic': 'incomes policy',\n    'concept': 'increase in accumulated other comprehensive income'},\n   {'sentence': 'bi also reduces inequality by redistributing income from capital to labor.',\n    'kp': ['bi reduces inequality redistributing',\n     'reduces inequality redistributing income',\n     'income capital labor',\n     'reduces',\n     'redistributing',\n     'capital to labor'],\n    'stance': 'CON',\n    'aspect': 'bi reduces inequality redistributing',\n    'topic': 'incomes policy',\n    'concept': 'increase in accumulated other comprehensive income'},\n   {'sentence': 'perhaps most importantly to some on the left is the notion that bi provides people with freedom.',\n    'kp': ['bi provides people freedom',\n     'left notion',\n     'freedom',\n     'notion bi provides',\n     'importantly',\n     'people with freedom'],\n    'stance': 'PRO',\n    'aspect': 'bi provides people freedom',\n    'topic': 'incomes policy',\n    'concept': 'increase in accumulated other comprehensive income'},\n   {'sentence': 'leftlibertarian political economist philippe van parijs argues that to be truly free people have to have access to the means that people need for doing what they might want to do.',\n    'kp': ['parijs argues truly free',\n     'free people access means',\n     'political economist philippe van',\n     'people need doing want',\n     'leftlibertarian',\n     'leftlibertarian political economist'],\n    'stance': 'PRO',\n    'aspect': 'parijs argues truly free',\n    'topic': 'incomes policy',\n    'concept': 'increase in accumulated other comprehensive income'},\n   {'sentence': 'bi provides people those means.',\n    'kp': ['bi provides people means',\n     'bi provides people',\n     'bi provides',\n     'bi',\n     'means',\n     'people'],\n    'stance': 'NEUTRAL',\n    'aspect': 'bi provides people means',\n    'topic': 'incomes policy',\n    'concept': 'increase in accumulated other comprehensive income'},\n   {'sentence': 'some have made a feminist case for bi.',\n    'kp': ['feminist case bi',\n     'feminist case',\n     'case bi',\n     'bi',\n     'feminist',\n     'made a feminist'],\n    'stance': 'NEUTRAL',\n    'aspect': 'feminist case bi',\n    'topic': 'incomes policy',\n    'concept': 'increase in accumulated other comprehensive income'},\n   {'sentence': 'philosopher carole pateman writes bi would for the first time provide women with lifelong modest economic independence and security a major reason why it is central to democratization.basic income particularly in the form of a negative income tax is also popular among the libertarian right.',\n    'kp': ['democratization basic income particularly',\n     'popular libertarian',\n     'independence security major reason',\n     'bi time provide women',\n     'philosopher carole pateman writes',\n     'philosopher carole pateman'],\n    'stance': 'PRO',\n    'aspect': 'democratization basic income particularly',\n    'topic': 'incomes policy',\n    'concept': 'increase in accumulated other comprehensive income'},\n   {'sentence': 'with a nit in place much of the welfare state would be obsolete you could get rid of food stamps child nutrition programs public housing cash welfare community development programs medicaid and a host of meanstested welfare programs.',\n    'kp': ['nit place welfare state',\n     'welfare state obsolete rid',\n     'rid food stamps child',\n     'community development programs medicaid',\n     'obsolete rid food',\n     'food stamps child'],\n    'stance': 'CON',\n    'aspect': 'nit place welfare state',\n    'topic': 'incomes policy',\n    'concept': 'increase in accumulated other comprehensive income'},\n   {'sentence': 'it would simplify the bureaucracy and get rid of the unemployment trap that occurs under the existing system.',\n    'kp': ['simplify bureaucracy rid unemployment',\n     'unemployment trap occurs existing',\n     'rid unemployment',\n     'occurs existing',\n     'rid',\n     'existing system'],\n    'stance': 'PRO',\n    'aspect': 'simplify bureaucracy rid unemployment',\n    'topic': 'incomes policy',\n    'concept': 'increase in accumulated other comprehensive income'}]},\n {'id': 't3_4gdj35',\n  'claim': {'sentence': 'males and females are socially and emotionally incompatible and heterosexual relationships are unrealistic and farcical.',\n   'kp': ['males and females']},\n  'argument': [{'sentence': 'i am of the belief that there cannot exist a legitimate emotional bond between a male and a female that lead to a loving relationship that is one of romance.',\n    'kp': ['legitimate emotional bond male',\n     'loving relationship romance',\n     'exist legitimate emotional',\n     'female lead loving',\n     'belief exist',\n     'legitimate emotional bond'],\n    'stance': 'PRO',\n    'aspect': 'legitimate emotional bond male',\n    'topic': 'couples',\n    'concept': 'serious relations'},\n   {'sentence': 'not once have i seen a couple that did not have an enormous gap in interests composure speech patterns and emotional engagement.',\n    'kp': ['composure speech patterns emotional',\n     'gap interests composure speech',\n     'seen couple did',\n     'engagement',\n     'did enormous gap interests',\n     'interests composure speech'],\n    'stance': 'PRO',\n    'aspect': 'composure speech patterns emotional',\n    'topic': 'couples',\n    'concept': 'serious relations'},\n   {'sentence': 'theres always and awkward disparity between each partner and they seem to be tolerating each other whilst there is little to grasp on why they are interested in each other aside from basic biology.',\n    'kp': ['theres awkward disparity partner',\n     'partner tolerating',\n     'interested aside basic biology',\n     'little grasp interested aside',\n     'theres',\n     'basic biology'],\n    'stance': 'CON',\n    'aspect': 'theres awkward disparity partner',\n    'topic': 'couples',\n    'concept': 'serious relations'},\n   {'sentence': 'as a result of this homosexual relationships have always seemed purely the logical and socially optimal choice for anyone pursuing a relationship and heterosexual relationships continue only because of a heteronormitive society and the biology of reproduction which i believe is immoral but thats another topic.',\n    'kp': ['choice pursuing relationship heterosexual',\n     'homosexual relationships purely logical',\n     'biology reproduction believe immoral',\n     'heteronormitive society',\n     'purely logical socially optimal',\n     'socially optimal choice'],\n    'stance': 'PRO',\n    'aspect': 'choice pursuing relationship heterosexual',\n    'topic': 'couples',\n    'concept': 'serious relations'},\n   {'sentence': 'i may be biased but from my perspective and experience ive simply never seen a straight couple that was legitimately compatible in most ways.',\n    'kp': ['straight couple legitimately compatible',\n     'seen straight couple legitimately',\n     'experience ive simply seen',\n     'legitimately',\n     'biased',\n     'experience ive simply'],\n    'stance': 'CON',\n    'aspect': 'straight couple legitimately compatible',\n    'topic': 'couples',\n    'concept': 'serious relations'}]},\n {'id': 't3_4gdj35',\n  'claim': {'sentence': 'males and females are socially and emotionally incompatible and heterosexual relationships are unrealistic and farcical.',\n   'kp': ['males and females']},\n  'argument': [{'sentence': 'i am of the belief that there cannot exist a legitimate emotional bond between a male and a female that lead to a loving relationship that is one of romance.',\n    'kp': ['legitimate emotional bond male',\n     'loving relationship romance',\n     'exist legitimate emotional',\n     'female lead loving',\n     'belief exist',\n     'legitimate emotional bond'],\n    'stance': 'PRO',\n    'aspect': 'legitimate emotional bond male',\n    'topic': 'couples',\n    'concept': 'serious relations'},\n   {'sentence': 'not once have i seen a couple that did not have an enormous gap in interests composure speech patterns and emotional engagement.',\n    'kp': ['composure speech patterns emotional',\n     'gap interests composure speech',\n     'seen couple did',\n     'engagement',\n     'did enormous gap interests',\n     'interests composure speech'],\n    'stance': 'PRO',\n    'aspect': 'composure speech patterns emotional',\n    'topic': 'couples',\n    'concept': 'serious relations'},\n   {'sentence': 'theres always and awkward disparity between each partner and they seem to be tolerating each other whilst there is little to grasp on why they are interested in each other aside from basic biology.',\n    'kp': ['theres awkward disparity partner',\n     'partner tolerating',\n     'interested aside basic biology',\n     'little grasp interested aside',\n     'theres',\n     'basic biology'],\n    'stance': 'CON',\n    'aspect': 'theres awkward disparity partner',\n    'topic': 'couples',\n    'concept': 'serious relations'},\n   {'sentence': 'as a result of this homosexual relationships have always seemed purely the logical and socially optimal choice for anyone pursuing a relationship and heterosexual relationships continue only because of a heteronormitive society and the biology of reproduction which i believe is immoral but thats another topic.',\n    'kp': ['choice pursuing relationship heterosexual',\n     'homosexual relationships purely logical',\n     'biology reproduction believe immoral',\n     'heteronormitive society',\n     'purely logical socially optimal',\n     'socially optimal choice'],\n    'stance': 'PRO',\n    'aspect': 'choice pursuing relationship heterosexual',\n    'topic': 'couples',\n    'concept': 'serious relations'},\n   {'sentence': 'i may be biased but from my perspective and experience ive simply never seen a straight couple that was legitimately compatible in most ways.',\n    'kp': ['straight couple legitimately compatible',\n     'seen straight couple legitimately',\n     'experience ive simply seen',\n     'legitimately',\n     'biased',\n     'experience ive simply'],\n    'stance': 'CON',\n    'aspect': 'straight couple legitimately compatible',\n    'topic': 'couples',\n    'concept': 'serious relations'}]},\n {'id': 't3_5aceoz',\n  'claim': {'sentence': 'apple are falsely equating simplicity with minimalism in their hardware design',\n   'kp': ['falsely equating simplicity']},\n  'argument': [{'sentence': 'updatethanks for all the replies theres been some really useful points and ill dish out the deltas appropriately.',\n    'kp': ['deltas appropriately',\n     'points ill dish deltas',\n     'theres really useful points',\n     'updatethanks replies theres really',\n     'ill',\n     'deltas appropriately'],\n    'stance': 'PRO',\n    'aspect': 'deltas appropriately',\n    'topic': None,\n    'concept': 'device driver'},\n   {'sentence': 'the most convincing argument ive heard is that apple is trying to build a computer for the near future and if it doesnt work for you then you dont have to buy it.',\n    'kp': ['argument ive heard apple',\n     'apple trying build computer',\n     'computer near future doesnt',\n     'convincing',\n     'buy',\n     'convincing argument ive'],\n    'stance': 'PRO',\n    'aspect': 'argument ive heard apple',\n    'topic': None,\n    'concept': 'device driver'},\n   {'sentence': 'usbc is the future so why bother putting anything else in?',\n    'kp': ['usbc future bother putting',\n     'usbc future',\n     'usbc',\n     'future',\n     'bother',\n     'bother putting'],\n    'stance': 'CON',\n    'aspect': 'usbc future bother putting',\n    'topic': None,\n    'concept': 'device driver'},\n   {'sentence': 'usb lets you charge from a battery charger which is an extra convenience even if it comes at the loss of magsafe so why have a dedicated power socket?',\n    'kp': ['magsafe dedicated power socket',\n     'usb lets charge battery',\n     'charger extra convenience',\n     'convenience comes loss magsafe',\n     'usb lets',\n     'dedicated power socket'],\n    'stance': 'PRO',\n    'aspect': 'magsafe dedicated power socket',\n    'topic': None,\n    'concept': 'device driver'},\n   {'sentence': 'most people take pictures with their phone and the latest camera models are coming with wireless support so sd support wont be important.i do think theyve made a mistake with how theyre handling headphones across devices but i have been convinced that their logic for this is an attempt to move to the future of wireless headphones not stripping things away for the sake of it.',\n    'kp': ['wireless support sd support',\n     'camera models coming wireless',\n     'people pictures phone',\n     'headphones stripping things away',\n     'devices convinced logic',\n     'latest camera models'],\n    'stance': 'PRO',\n    'aspect': 'wireless support sd support',\n    'topic': None,\n    'concept': 'device driver'},\n   {'sentence': 'while i think wireless headphones can be great im still not convinced that theyre going to replace wired headphones but thats a separate debate.another good point was made that apple has shifted from being for power users and creatives to a more mainstream consumer level product albeit still at a high price point.',\n    'kp': ['think wireless headphones great',\n     'debate good point apple',\n     'creatives mainstream consumer level',\n     'apple shifted power users',\n     'convinced theyre going replace',\n     'separate debate another good'],\n    'stance': 'PRO',\n    'aspect': 'think wireless headphones great',\n    'topic': None,\n    'concept': 'device driver'},\n   {'sentence': 'this helps understand that some of their changes will alienate some of their longterm customers and remove what some consider vital functionality.',\n    'kp': ['changes alienate longterm customers',\n     'helps understand changes',\n     'customers remove consider',\n     'changes alienate',\n     'remove consider vital functionality',\n     'vital functionality'],\n    'stance': 'CON',\n    'aspect': 'changes alienate longterm customers',\n    'topic': None,\n    'concept': 'device driver'},\n   {'sentence': 'again im not convinced by how well that will play out as power users are broadly the demographic most willing to embrace new technology and the expense that comes with it but im happy to be proven wrong.so allinall ive been convinced that minimalism isnt the driving force of apples hardware designs its an attempt to shape the direction of the the market and speed up the process.',\n    'kp': ['apples hardware designs attempt',\n     'minimalism isnt driving force',\n     'power users broadly demographic',\n     'new technology expense',\n     'allinall ive convinced',\n     'proven wrong so allinall'],\n    'stance': 'PRO',\n    'aspect': 'apples hardware designs attempt',\n    'topic': None,\n    'concept': 'device driver'},\n   {'sentence': 'mixed metaphor?theres a massive antiapple circlejerk going on right now so im looking for people to actually stick their neck out and defend apple.apple have been very proud of their history of cutting out the unnecessary and providing a better experience for the user.',\n    'kp': ['defend apple apple',\n     'theres massive antiapple circlejerk',\n     'mixed metaphor',\n     'proud history cutting unnecessary',\n     'providing better experience user',\n     'massive antiapple circlejerk'],\n    'stance': 'PRO',\n    'aspect': 'defend apple apple',\n    'topic': None,\n    'concept': 'device driver'},\n   {'sentence': 'this has lead to hugely successful products such as the ipod and the iphone that took existing markets and offered a revolutionary and innovative solution.',\n    'kp': ['successful products ipod iphone',\n     'revolutionary innovative solution',\n     'iphone took existing markets',\n     'iphone',\n     'lead hugely successful products',\n     'hugely successful products'],\n    'stance': 'PRO',\n    'aspect': 'successful products ipod iphone',\n    'topic': None,\n    'concept': 'device driver'},\n   {'sentence': 'they achieved this in small ways too e.g.',\n    'kp': ['achieved small ways',\n     'small ways',\n     'achieved small',\n     'achieved',\n     'ways',\n     'achieved'],\n    'stance': 'NEUTRAL',\n    'aspect': 'achieved small ways',\n    'topic': None,\n    'concept': 'device driver'}]},\n {'id': 't3_5aceoz',\n  'claim': {'sentence': 'apple are falsely equating simplicity with minimalism in their hardware design',\n   'kp': ['falsely equating simplicity']},\n  'argument': [{'sentence': 'updatethanks for all the replies theres been some really useful points and ill dish out the deltas appropriately.',\n    'kp': ['deltas appropriately',\n     'points ill dish deltas',\n     'theres really useful points',\n     'updatethanks replies theres really',\n     'ill',\n     'deltas appropriately'],\n    'stance': 'PRO',\n    'aspect': 'deltas appropriately',\n    'topic': None,\n    'concept': 'device driver'},\n   {'sentence': 'the most convincing argument ive heard is that apple is trying to build a computer for the near future and if it doesnt work for you then you dont have to buy it.',\n    'kp': ['argument ive heard apple',\n     'apple trying build computer',\n     'computer near future doesnt',\n     'convincing',\n     'buy',\n     'convincing argument ive'],\n    'stance': 'PRO',\n    'aspect': 'argument ive heard apple',\n    'topic': None,\n    'concept': 'device driver'},\n   {'sentence': 'usbc is the future so why bother putting anything else in?',\n    'kp': ['usbc future bother putting',\n     'usbc future',\n     'usbc',\n     'future',\n     'bother',\n     'bother putting'],\n    'stance': 'CON',\n    'aspect': 'usbc future bother putting',\n    'topic': None,\n    'concept': 'device driver'},\n   {'sentence': 'usb lets you charge from a battery charger which is an extra convenience even if it comes at the loss of magsafe so why have a dedicated power socket?',\n    'kp': ['magsafe dedicated power socket',\n     'usb lets charge battery',\n     'charger extra convenience',\n     'convenience comes loss magsafe',\n     'usb lets',\n     'dedicated power socket'],\n    'stance': 'PRO',\n    'aspect': 'magsafe dedicated power socket',\n    'topic': None,\n    'concept': 'device driver'},\n   {'sentence': 'most people take pictures with their phone and the latest camera models are coming with wireless support so sd support wont be important.i do think theyve made a mistake with how theyre handling headphones across devices but i have been convinced that their logic for this is an attempt to move to the future of wireless headphones not stripping things away for the sake of it.',\n    'kp': ['wireless support sd support',\n     'camera models coming wireless',\n     'people pictures phone',\n     'headphones stripping things away',\n     'devices convinced logic',\n     'latest camera models'],\n    'stance': 'PRO',\n    'aspect': 'wireless support sd support',\n    'topic': None,\n    'concept': 'device driver'},\n   {'sentence': 'while i think wireless headphones can be great im still not convinced that theyre going to replace wired headphones but thats a separate debate.another good point was made that apple has shifted from being for power users and creatives to a more mainstream consumer level product albeit still at a high price point.',\n    'kp': ['think wireless headphones great',\n     'debate good point apple',\n     'creatives mainstream consumer level',\n     'apple shifted power users',\n     'convinced theyre going replace',\n     'separate debate another good'],\n    'stance': 'PRO',\n    'aspect': 'think wireless headphones great',\n    'topic': None,\n    'concept': 'device driver'},\n   {'sentence': 'this helps understand that some of their changes will alienate some of their longterm customers and remove what some consider vital functionality.',\n    'kp': ['changes alienate longterm customers',\n     'helps understand changes',\n     'customers remove consider',\n     'changes alienate',\n     'remove consider vital functionality',\n     'vital functionality'],\n    'stance': 'CON',\n    'aspect': 'changes alienate longterm customers',\n    'topic': None,\n    'concept': 'device driver'},\n   {'sentence': 'again im not convinced by how well that will play out as power users are broadly the demographic most willing to embrace new technology and the expense that comes with it but im happy to be proven wrong.so allinall ive been convinced that minimalism isnt the driving force of apples hardware designs its an attempt to shape the direction of the the market and speed up the process.',\n    'kp': ['apples hardware designs attempt',\n     'minimalism isnt driving force',\n     'power users broadly demographic',\n     'new technology expense',\n     'allinall ive convinced',\n     'proven wrong so allinall'],\n    'stance': 'PRO',\n    'aspect': 'apples hardware designs attempt',\n    'topic': None,\n    'concept': 'device driver'},\n   {'sentence': 'mixed metaphor?theres a massive antiapple circlejerk going on right now so im looking for people to actually stick their neck out and defend apple.apple have been very proud of their history of cutting out the unnecessary and providing a better experience for the user.',\n    'kp': ['defend apple apple',\n     'theres massive antiapple circlejerk',\n     'mixed metaphor',\n     'proud history cutting unnecessary',\n     'providing better experience user',\n     'massive antiapple circlejerk'],\n    'stance': 'PRO',\n    'aspect': 'defend apple apple',\n    'topic': None,\n    'concept': 'device driver'},\n   {'sentence': 'this has lead to hugely successful products such as the ipod and the iphone that took existing markets and offered a revolutionary and innovative solution.',\n    'kp': ['successful products ipod iphone',\n     'revolutionary innovative solution',\n     'iphone took existing markets',\n     'iphone',\n     'lead hugely successful products',\n     'hugely successful products'],\n    'stance': 'PRO',\n    'aspect': 'successful products ipod iphone',\n    'topic': None,\n    'concept': 'device driver'},\n   {'sentence': 'they achieved this in small ways too e.g.',\n    'kp': ['achieved small ways',\n     'small ways',\n     'achieved small',\n     'achieved',\n     'ways',\n     'achieved'],\n    'stance': 'NEUTRAL',\n    'aspect': 'achieved small ways',\n    'topic': None,\n    'concept': 'device driver'}]},\n {'id': 't3_5aceoz',\n  'claim': {'sentence': 'apple are falsely equating simplicity with minimalism in their hardware design',\n   'kp': ['falsely equating simplicity']},\n  'argument': [{'sentence': 'updatethanks for all the replies theres been some really useful points and ill dish out the deltas appropriately.',\n    'kp': ['deltas appropriately',\n     'points ill dish deltas',\n     'theres really useful points',\n     'updatethanks replies theres really',\n     'ill',\n     'deltas appropriately'],\n    'stance': 'PRO',\n    'aspect': 'deltas appropriately',\n    'topic': None,\n    'concept': 'device driver'},\n   {'sentence': 'the most convincing argument ive heard is that apple is trying to build a computer for the near future and if it doesnt work for you then you dont have to buy it.',\n    'kp': ['argument ive heard apple',\n     'apple trying build computer',\n     'computer near future doesnt',\n     'convincing',\n     'buy',\n     'convincing argument ive'],\n    'stance': 'PRO',\n    'aspect': 'argument ive heard apple',\n    'topic': None,\n    'concept': 'device driver'},\n   {'sentence': 'usbc is the future so why bother putting anything else in?',\n    'kp': ['usbc future bother putting',\n     'usbc future',\n     'usbc',\n     'future',\n     'bother',\n     'bother putting'],\n    'stance': 'CON',\n    'aspect': 'usbc future bother putting',\n    'topic': None,\n    'concept': 'device driver'},\n   {'sentence': 'usb lets you charge from a battery charger which is an extra convenience even if it comes at the loss of magsafe so why have a dedicated power socket?',\n    'kp': ['magsafe dedicated power socket',\n     'usb lets charge battery',\n     'charger extra convenience',\n     'convenience comes loss magsafe',\n     'usb lets',\n     'dedicated power socket'],\n    'stance': 'PRO',\n    'aspect': 'magsafe dedicated power socket',\n    'topic': None,\n    'concept': 'device driver'},\n   {'sentence': 'most people take pictures with their phone and the latest camera models are coming with wireless support so sd support wont be important.i do think theyve made a mistake with how theyre handling headphones across devices but i have been convinced that their logic for this is an attempt to move to the future of wireless headphones not stripping things away for the sake of it.',\n    'kp': ['wireless support sd support',\n     'camera models coming wireless',\n     'people pictures phone',\n     'headphones stripping things away',\n     'devices convinced logic',\n     'latest camera models'],\n    'stance': 'PRO',\n    'aspect': 'wireless support sd support',\n    'topic': None,\n    'concept': 'device driver'},\n   {'sentence': 'while i think wireless headphones can be great im still not convinced that theyre going to replace wired headphones but thats a separate debate.another good point was made that apple has shifted from being for power users and creatives to a more mainstream consumer level product albeit still at a high price point.',\n    'kp': ['think wireless headphones great',\n     'debate good point apple',\n     'creatives mainstream consumer level',\n     'apple shifted power users',\n     'convinced theyre going replace',\n     'separate debate another good'],\n    'stance': 'PRO',\n    'aspect': 'think wireless headphones great',\n    'topic': None,\n    'concept': 'device driver'},\n   {'sentence': 'this helps understand that some of their changes will alienate some of their longterm customers and remove what some consider vital functionality.',\n    'kp': ['changes alienate longterm customers',\n     'helps understand changes',\n     'customers remove consider',\n     'changes alienate',\n     'remove consider vital functionality',\n     'vital functionality'],\n    'stance': 'CON',\n    'aspect': 'changes alienate longterm customers',\n    'topic': None,\n    'concept': 'device driver'},\n   {'sentence': 'again im not convinced by how well that will play out as power users are broadly the demographic most willing to embrace new technology and the expense that comes with it but im happy to be proven wrong.so allinall ive been convinced that minimalism isnt the driving force of apples hardware designs its an attempt to shape the direction of the the market and speed up the process.',\n    'kp': ['apples hardware designs attempt',\n     'minimalism isnt driving force',\n     'power users broadly demographic',\n     'new technology expense',\n     'allinall ive convinced',\n     'proven wrong so allinall'],\n    'stance': 'PRO',\n    'aspect': 'apples hardware designs attempt',\n    'topic': None,\n    'concept': 'device driver'},\n   {'sentence': 'mixed metaphor?theres a massive antiapple circlejerk going on right now so im looking for people to actually stick their neck out and defend apple.apple have been very proud of their history of cutting out the unnecessary and providing a better experience for the user.',\n    'kp': ['defend apple apple',\n     'theres massive antiapple circlejerk',\n     'mixed metaphor',\n     'proud history cutting unnecessary',\n     'providing better experience user',\n     'massive antiapple circlejerk'],\n    'stance': 'PRO',\n    'aspect': 'defend apple apple',\n    'topic': None,\n    'concept': 'device driver'},\n   {'sentence': 'this has lead to hugely successful products such as the ipod and the iphone that took existing markets and offered a revolutionary and innovative solution.',\n    'kp': ['successful products ipod iphone',\n     'revolutionary innovative solution',\n     'iphone took existing markets',\n     'iphone',\n     'lead hugely successful products',\n     'hugely successful products'],\n    'stance': 'PRO',\n    'aspect': 'successful products ipod iphone',\n    'topic': None,\n    'concept': 'device driver'},\n   {'sentence': 'they achieved this in small ways too e.g.',\n    'kp': ['achieved small ways',\n     'small ways',\n     'achieved small',\n     'achieved',\n     'ways',\n     'achieved'],\n    'stance': 'NEUTRAL',\n    'aspect': 'achieved small ways',\n    'topic': None,\n    'concept': 'device driver'}]},\n {'id': 't3_5aceoz',\n  'claim': {'sentence': 'apple are falsely equating simplicity with minimalism in their hardware design',\n   'kp': ['falsely equating simplicity']},\n  'argument': [{'sentence': 'updatethanks for all the replies theres been some really useful points and ill dish out the deltas appropriately.',\n    'kp': ['deltas appropriately',\n     'points ill dish deltas',\n     'theres really useful points',\n     'updatethanks replies theres really',\n     'ill',\n     'deltas appropriately'],\n    'stance': 'PRO',\n    'aspect': 'deltas appropriately',\n    'topic': None,\n    'concept': 'device driver'},\n   {'sentence': 'the most convincing argument ive heard is that apple is trying to build a computer for the near future and if it doesnt work for you then you dont have to buy it.',\n    'kp': ['argument ive heard apple',\n     'apple trying build computer',\n     'computer near future doesnt',\n     'convincing',\n     'buy',\n     'convincing argument ive'],\n    'stance': 'PRO',\n    'aspect': 'argument ive heard apple',\n    'topic': None,\n    'concept': 'device driver'},\n   {'sentence': 'usbc is the future so why bother putting anything else in?',\n    'kp': ['usbc future bother putting',\n     'usbc future',\n     'usbc',\n     'future',\n     'bother',\n     'bother putting'],\n    'stance': 'CON',\n    'aspect': 'usbc future bother putting',\n    'topic': None,\n    'concept': 'device driver'},\n   {'sentence': 'usb lets you charge from a battery charger which is an extra convenience even if it comes at the loss of magsafe so why have a dedicated power socket?',\n    'kp': ['magsafe dedicated power socket',\n     'usb lets charge battery',\n     'charger extra convenience',\n     'convenience comes loss magsafe',\n     'usb lets',\n     'dedicated power socket'],\n    'stance': 'PRO',\n    'aspect': 'magsafe dedicated power socket',\n    'topic': None,\n    'concept': 'device driver'},\n   {'sentence': 'most people take pictures with their phone and the latest camera models are coming with wireless support so sd support wont be important.i do think theyve made a mistake with how theyre handling headphones across devices but i have been convinced that their logic for this is an attempt to move to the future of wireless headphones not stripping things away for the sake of it.',\n    'kp': ['wireless support sd support',\n     'camera models coming wireless',\n     'people pictures phone',\n     'headphones stripping things away',\n     'devices convinced logic',\n     'latest camera models'],\n    'stance': 'PRO',\n    'aspect': 'wireless support sd support',\n    'topic': None,\n    'concept': 'device driver'},\n   {'sentence': 'while i think wireless headphones can be great im still not convinced that theyre going to replace wired headphones but thats a separate debate.another good point was made that apple has shifted from being for power users and creatives to a more mainstream consumer level product albeit still at a high price point.',\n    'kp': ['think wireless headphones great',\n     'debate good point apple',\n     'creatives mainstream consumer level',\n     'apple shifted power users',\n     'convinced theyre going replace',\n     'separate debate another good'],\n    'stance': 'PRO',\n    'aspect': 'think wireless headphones great',\n    'topic': None,\n    'concept': 'device driver'},\n   {'sentence': 'this helps understand that some of their changes will alienate some of their longterm customers and remove what some consider vital functionality.',\n    'kp': ['changes alienate longterm customers',\n     'helps understand changes',\n     'customers remove consider',\n     'changes alienate',\n     'remove consider vital functionality',\n     'vital functionality'],\n    'stance': 'CON',\n    'aspect': 'changes alienate longterm customers',\n    'topic': None,\n    'concept': 'device driver'},\n   {'sentence': 'again im not convinced by how well that will play out as power users are broadly the demographic most willing to embrace new technology and the expense that comes with it but im happy to be proven wrong.so allinall ive been convinced that minimalism isnt the driving force of apples hardware designs its an attempt to shape the direction of the the market and speed up the process.',\n    'kp': ['apples hardware designs attempt',\n     'minimalism isnt driving force',\n     'power users broadly demographic',\n     'new technology expense',\n     'allinall ive convinced',\n     'proven wrong so allinall'],\n    'stance': 'PRO',\n    'aspect': 'apples hardware designs attempt',\n    'topic': None,\n    'concept': 'device driver'},\n   {'sentence': 'mixed metaphor?theres a massive antiapple circlejerk going on right now so im looking for people to actually stick their neck out and defend apple.apple have been very proud of their history of cutting out the unnecessary and providing a better experience for the user.',\n    'kp': ['defend apple apple',\n     'theres massive antiapple circlejerk',\n     'mixed metaphor',\n     'proud history cutting unnecessary',\n     'providing better experience user',\n     'massive antiapple circlejerk'],\n    'stance': 'PRO',\n    'aspect': 'defend apple apple',\n    'topic': None,\n    'concept': 'device driver'},\n   {'sentence': 'this has lead to hugely successful products such as the ipod and the iphone that took existing markets and offered a revolutionary and innovative solution.',\n    'kp': ['successful products ipod iphone',\n     'revolutionary innovative solution',\n     'iphone took existing markets',\n     'iphone',\n     'lead hugely successful products',\n     'hugely successful products'],\n    'stance': 'PRO',\n    'aspect': 'successful products ipod iphone',\n    'topic': None,\n    'concept': 'device driver'},\n   {'sentence': 'they achieved this in small ways too e.g.',\n    'kp': ['achieved small ways',\n     'small ways',\n     'achieved small',\n     'achieved',\n     'ways',\n     'achieved'],\n    'stance': 'NEUTRAL',\n    'aspect': 'achieved small ways',\n    'topic': None,\n    'concept': 'device driver'}]}]"
     },
     "execution_count": 86,
     "metadata": {},
     "output_type": "execute_result"
    }
   ],
   "source": [
    "test"
   ],
   "metadata": {
    "collapsed": false
   }
  },
  {
   "cell_type": "code",
   "execution_count": 33,
   "outputs": [],
   "source": [
    "# STORE DEEP-COPY\n",
    "import copy\n",
    "mined_args_ = copy.deepcopy(mined_args)"
   ],
   "metadata": {
    "collapsed": false
   }
  },
  {
   "cell_type": "code",
   "execution_count": 35,
   "outputs": [
    {
     "name": "stdout",
     "output_type": "stream",
     "text": [
      "10303\n"
     ]
    },
    {
     "data": {
      "text/plain": "{'id': 't3_30oi71',\n 'claim': {'sentence': 'we should strengthen the traditional safety net rather than replace it with basic income',\n  'kp': ['strengthen the traditional safety',\n   'traditional safety net',\n   'basic income',\n   'strengthen the traditional',\n   'traditional safety']},\n 'argument': [{'sentence': 'section i why is basic income increasingly popular?',\n   'kp': ['basic income increasingly popular',\n    'section basic income',\n    'basic',\n    'increasingly',\n    'section'],\n   'stance': 'PRO',\n   'aspect': 'basic income increasingly popular',\n   'topic': 'incomes policy',\n   'concept': 'increase in accumulated other comprehensive income'},\n  {'sentence': 'basic income is a policy that has broad support from both the progressive left and libertarian right.',\n   'kp': ['basic income',\n    'basic income policy',\n    'basic income policy broad',\n    'income policy broad support',\n    'support progressive left libertarian'],\n   'stance': 'PRO',\n   'aspect': 'basic income',\n   'topic': 'incomes policy',\n   'concept': 'increase in accumulated other comprehensive income'},\n  {'sentence': 'centerleft economists including paul krugman have endorsed the scheme for various reasons.',\n   'kp': ['paul krugman endorsed scheme',\n    'economists including paul krugman',\n    'centerleft economists including',\n    'endorsed scheme various reasons',\n    'various reasons'],\n   'stance': 'PRO',\n   'aspect': 'paul krugman endorsed scheme',\n   'topic': 'incomes policy',\n   'concept': 'increase in accumulated other comprehensive income'},\n  {'sentence': 'first bi is an effective antipoverty measure.',\n   'kp': ['bi effective antipoverty measure',\n    'bi effective antipoverty',\n    'bi effective',\n    'bi',\n    'measure'],\n   'stance': 'PRO',\n   'aspect': 'bi effective antipoverty measure',\n   'topic': 'incomes policy',\n   'concept': 'increase in accumulated other comprehensive income'},\n  {'sentence': 'bi also reduces inequality by redistributing income from capital to labor.',\n   'kp': ['bi reduces inequality redistributing',\n    'reduces inequality redistributing income',\n    'income capital labor',\n    'reduces',\n    'redistributing'],\n   'stance': 'CON',\n   'aspect': 'bi reduces inequality redistributing',\n   'topic': 'incomes policy',\n   'concept': 'increase in accumulated other comprehensive income'},\n  {'sentence': 'perhaps most importantly to some on the left is the notion that bi provides people with freedom.',\n   'kp': ['bi provides people freedom',\n    'left notion',\n    'freedom',\n    'notion bi provides',\n    'importantly'],\n   'stance': 'PRO',\n   'aspect': 'bi provides people freedom',\n   'topic': 'incomes policy',\n   'concept': 'increase in accumulated other comprehensive income'},\n  {'sentence': 'leftlibertarian political economist philippe van parijs argues that to be truly free people have to have access to the means that people need for doing what they might want to do.',\n   'kp': ['parijs argues truly free',\n    'free people access means',\n    'political economist philippe van',\n    'people need doing want',\n    'leftlibertarian'],\n   'stance': 'PRO',\n   'aspect': 'parijs argues truly free',\n   'topic': 'incomes policy',\n   'concept': 'increase in accumulated other comprehensive income'},\n  {'sentence': 'bi provides people those means.',\n   'kp': ['bi provides people means',\n    'bi provides people',\n    'bi provides',\n    'bi',\n    'means'],\n   'stance': 'NEUTRAL',\n   'aspect': 'bi provides people means',\n   'topic': 'incomes policy',\n   'concept': 'increase in accumulated other comprehensive income'},\n  {'sentence': 'some have made a feminist case for bi.',\n   'kp': ['feminist case bi', 'feminist case', 'case bi', 'bi', 'feminist'],\n   'stance': 'NEUTRAL',\n   'aspect': 'feminist case bi',\n   'topic': 'incomes policy',\n   'concept': 'increase in accumulated other comprehensive income'},\n  {'sentence': 'philosopher carole pateman writes bi would for the first time provide women with lifelong modest economic independence and security a major reason why it is central to democratization.basic income particularly in the form of a negative income tax is also popular among the libertarian right.',\n   'kp': ['democratization basic income particularly',\n    'popular libertarian',\n    'independence security major reason',\n    'bi time provide women',\n    'philosopher carole pateman writes'],\n   'stance': 'PRO',\n   'aspect': 'democratization basic income particularly',\n   'topic': 'incomes policy',\n   'concept': 'increase in accumulated other comprehensive income'},\n  {'sentence': 'with a nit in place much of the welfare state would be obsolete you could get rid of food stamps child nutrition programs public housing cash welfare community development programs medicaid and a host of meanstested welfare programs.',\n   'kp': ['nit place welfare state',\n    'welfare state obsolete rid',\n    'rid food stamps child',\n    'community development programs medicaid',\n    'obsolete rid food'],\n   'stance': 'CON',\n   'aspect': 'nit place welfare state',\n   'topic': 'incomes policy',\n   'concept': 'increase in accumulated other comprehensive income'},\n  {'sentence': 'it would simplify the bureaucracy and get rid of the unemployment trap that occurs under the existing system.',\n   'kp': ['simplify bureaucracy rid unemployment',\n    'unemployment trap occurs existing',\n    'rid unemployment',\n    'occurs existing',\n    'rid'],\n   'stance': 'PRO',\n   'aspect': 'simplify bureaucracy rid unemployment',\n   'topic': 'incomes policy',\n   'concept': 'increase in accumulated other comprehensive income'}]}"
     },
     "execution_count": 35,
     "metadata": {},
     "output_type": "execute_result"
    }
   ],
   "source": [
    "# mined_args\n",
    "print(len(mined_args))\n",
    "\n",
    "import random\n",
    "#_ = random.randint(0, len(sample))\n",
    "example = mined_args[1]\n",
    "example"
   ],
   "metadata": {
    "collapsed": false
   }
  },
  {
   "cell_type": "code",
   "execution_count": 37,
   "outputs": [
    {
     "data": {
      "text/plain": "10303"
     },
     "execution_count": 37,
     "metadata": {},
     "output_type": "execute_result"
    }
   ],
   "source": [
    "len(mined_args_)"
   ],
   "metadata": {
    "collapsed": false
   }
  },
  {
   "cell_type": "code",
   "execution_count": 38,
   "outputs": [
    {
     "data": {
      "text/plain": "  0%|          | 0/10303 [00:00<?, ?it/s]",
      "application/vnd.jupyter.widget-view+json": {
       "version_major": 2,
       "version_minor": 0,
       "model_id": "414317915aa04b4b9833feb25b85fd2a"
      },
      "application/json": {
       "n": 0,
       "total": 10303,
       "elapsed": 0.01591205596923828,
       "ncols": null,
       "nrows": null,
       "prefix": "",
       "ascii": false,
       "unit": "it",
       "unit_scale": false,
       "rate": null,
       "bar_format": null,
       "postfix": null,
       "unit_divisor": 1000,
       "initial": 0,
       "colour": null
      }
     },
     "metadata": {},
     "output_type": "display_data"
    }
   ],
   "source": [
    "### COUNTER-ARGS ###\n",
    "def extract_counters(arg_):\n",
    "    id_ = arg_[\"id\"]\n",
    "    counter = arg_[\"tgt_counter\"][\"tgt_counter\"]\n",
    "\n",
    "    counter_sents = sentences_segment(counter)\n",
    "\n",
    "    extract_counters = []\n",
    "    for _ in counter_sents:\n",
    "        if len(tokeniser(_)) <= 5:\n",
    "            continue\n",
    "\n",
    "        kp = extract_keyphrase(_)\n",
    "        #kp = yake_extract_keyphrase(_)\n",
    "\n",
    "        aspect = \" \" if kp == [] else kp[0]\n",
    "\n",
    "        try:\n",
    "            stance = sentence_stance(_, aspect)\n",
    "        except:\n",
    "            stance = \" \"\n",
    "\n",
    "        counter_unit = {\"sentence\": _, \"kp\": [i for i in kp], \"stance\": stance, \"aspect\": aspect}\n",
    "\n",
    "        extract_counters.append(counter_unit)\n",
    "\n",
    "    return ({\n",
    "        \"id\": id_,\n",
    "        \"tgt_counter\": [i for i in extract_counters]\n",
    "    })\n",
    "\n",
    "mined_counters = []\n",
    "\n",
    "sample = args\n",
    "with multiprocessing.Pool(8) as pool:\n",
    "    with tqdm(total=(len(args)), position=0, leave=True) as pbar:\n",
    "        for arg in args:\n",
    "            mined_counters.append(extract_counters(arg))\n",
    "            pbar.update()"
   ],
   "metadata": {
    "collapsed": false
   }
  },
  {
   "cell_type": "code",
   "execution_count": 39,
   "outputs": [],
   "source": [
    "import copy\n",
    "mined_counters_ = copy.deepcopy(mined_counters)"
   ],
   "metadata": {
    "collapsed": false
   }
  },
  {
   "cell_type": "code",
   "execution_count": 40,
   "outputs": [
    {
     "name": "stdout",
     "output_type": "stream",
     "text": [
      "10303\n"
     ]
    },
    {
     "data": {
      "text/plain": "{'id': 't3_26nhjw',\n 'tgt_counter': [{'sentence': 'it seems like your main problem with poetry is the repetition.',\n   'kp': ['problem poetry repetition',\n    'poetry repetition',\n    'problem poetry',\n    'like main problem poetry',\n    'poetry'],\n   'stance': 'PRO',\n   'aspect': 'problem poetry repetition'},\n  {'sentence': 'its true most of poetry is about love and hardship.',\n   'kp': ['true poetry love hardship',\n    'poetry love hardship',\n    'true poetry love',\n    'poetry',\n    'true'],\n   'stance': 'PRO',\n   'aspect': 'true poetry love hardship'},\n  {'sentence': 'so are most paintings so is most of literature as is most of television most of cinema and most of life.',\n   'kp': ['paintings literature television cinema',\n    'paintings literature',\n    'cinema life',\n    'literature',\n    'life'],\n   'stance': 'NEUTRAL',\n   'aspect': 'paintings literature television cinema'},\n  {'sentence': 'theyre two incredibly powerful incredibly broad topics that are inextricably linked to humanity so it makes sense that a lot of art would touch on these topics.',\n   'kp': ['art touch topics',\n    'broad topics inextricably linked',\n    'linked humanity makes sense',\n    'incredibly powerful incredibly broad',\n    'makes sense lot art'],\n   'stance': 'PRO',\n   'aspect': 'art touch topics'},\n  {'sentence': 'its not fair to single out poetry alone for going back to this rather deep well.',\n   'kp': ['single poetry going deep',\n    'fair single poetry',\n    'poetry going',\n    'fair',\n    'going'],\n   'stance': 'PRO',\n   'aspect': 'single poetry going deep'},\n  {'sentence': 'what other topics do you feel get ignored in most poetry that are not ignored in most of any other medium?poetry can do in a few stanzas what it takes many essays pages to do.',\n   'kp': ['topics feel ignored poetry',\n    'medium poetry stanzas takes',\n    'ignored',\n    'takes essays pages',\n    'medium'],\n   'stance': 'NEUTRAL',\n   'aspect': 'topics feel ignored poetry'},\n  {'sentence': 'in many poems the meaning is something that must be constructed by the reader while essays are much more explicit about their meaning.',\n   'kp': ['poems meaning',\n    'poems meaning constructed reader',\n    'essays explicit meaning',\n    'constructed reader essays explicit',\n    'meaning'],\n   'stance': 'NEUTRAL',\n   'aspect': 'poems meaning'},\n  {'sentence': 'when you synthesize your own interpretation of a poem the message you take away from it ends up being much more personal and because of this often stronger.',\n   'kp': ['interpretation poem message away',\n    'synthesize interpretation poem',\n    'message away ends personal',\n    'personal stronger',\n    'synthesize'],\n   'stance': 'PRO',\n   'aspect': 'interpretation poem message away'},\n  {'sentence': 'for example the message of futility that you take away from shelleys ozymandias conveys in lines what it takes some authors hundreds of pages to get across.',\n   'kp': ['message futility away shelleys',\n    'conveys lines takes authors',\n    'takes authors hundreds pages',\n    'ozymandias conveys',\n    'example'],\n   'stance': 'CON',\n   'aspect': 'message futility away shelleys'},\n  {'sentence': 'in terms of artistry no form of prose can compare to poetry.',\n   'kp': ['artistry form prose compare',\n    'form prose compare poetry',\n    'compare poetry',\n    'prose',\n    'terms'],\n   'stance': 'NEUTRAL',\n   'aspect': 'artistry form prose compare'},\n  {'sentence': 'in terms of use of language and rhythm poetry blows all forms of prose out of the water.',\n   'kp': ['poetry blows forms prose',\n    'forms prose water',\n    'use language rhythm',\n    'water',\n    'terms use'],\n   'stance': 'NEUTRAL',\n   'aspect': 'poetry blows forms prose'},\n  {'sentence': 'it is common to see that only very rare sections of prose compare favorably to similar sized samples of poems.',\n   'kp': ['rare sections prose compare',\n    'sized samples poems',\n    'prose compare favorably similar',\n    'common rare',\n    'compare favorably similar sized'],\n   'stance': 'NEUTRAL',\n   'aspect': 'rare sections prose compare'}]}"
     },
     "execution_count": 40,
     "metadata": {},
     "output_type": "execute_result"
    }
   ],
   "source": [
    "# mined_args\n",
    "print(len(mined_counters))\n",
    "\n",
    "import random\n",
    "_ = random.randint(0, len(sample))\n",
    "example = mined_counters[_]\n",
    "example"
   ],
   "metadata": {
    "collapsed": false
   }
  },
  {
   "cell_type": "code",
   "execution_count": 41,
   "outputs": [
    {
     "data": {
      "text/plain": "(10303, 10303)"
     },
     "execution_count": 41,
     "metadata": {},
     "output_type": "execute_result"
    }
   ],
   "source": [
    "len(mined_args), len(mined_counters)"
   ],
   "metadata": {
    "collapsed": false
   }
  },
  {
   "cell_type": "code",
   "execution_count": 42,
   "outputs": [
    {
     "data": {
      "text/plain": "(10303, 10303)"
     },
     "execution_count": 42,
     "metadata": {},
     "output_type": "execute_result"
    }
   ],
   "source": [
    "len(mined_args_), len(mined_counters_)"
   ],
   "metadata": {
    "collapsed": false
   }
  },
  {
   "cell_type": "code",
   "execution_count": 43,
   "outputs": [
    {
     "name": "stdout",
     "output_type": "stream",
     "text": [
      "/Users/joshua.sheppard/PycharmProjects/countaBot\n"
     ]
    }
   ],
   "source": [
    "import os\n",
    "print(os.getcwd())"
   ],
   "metadata": {
    "collapsed": false
   }
  },
  {
   "cell_type": "code",
   "execution_count": 44,
   "outputs": [
    {
     "data": {
      "text/plain": "  0%|          | 0/10303 [00:00<?, ?it/s]",
      "application/vnd.jupyter.widget-view+json": {
       "version_major": 2,
       "version_minor": 0,
       "model_id": "76b8c45060a54afd8db05731c6f8b607"
      },
      "application/json": {
       "n": 0,
       "total": 10303,
       "elapsed": 0.007095813751220703,
       "ncols": null,
       "nrows": null,
       "prefix": "",
       "ascii": false,
       "unit": "it",
       "unit_scale": false,
       "rate": null,
       "bar_format": null,
       "postfix": null,
       "unit_divisor": 1000,
       "initial": 0,
       "colour": null
      }
     },
     "metadata": {},
     "output_type": "display_data"
    },
    {
     "name": "stderr",
     "output_type": "stream",
     "text": [
      "INFO:ARGUMENT-EXTRACTOR:[10303 Data Stored as cmv_argument_extraction.jsonl]\n"
     ]
    }
   ],
   "source": [
    "file_name = \"cmv_argument_extraction\"\n",
    "fout = open(f\"./src/data/{file_name}.jsonl\", \"w\")\n",
    "\n",
    "# Deep_copies\n",
    "mined_args_ = copy.deepcopy(mined_args)\n",
    "mined_counters_ = copy.deepcopy(mined_counters)\n",
    "\n",
    "with tqdm(total=(len(mined_args_))) as pbar:\n",
    "    with fout:\n",
    "        for mined_arg, mined_counter in zip(mined_args_, mined_counters_):\n",
    "            # Extended pre-formatted mined object\n",
    "            # mined_arg[\"original_post\"] = original_post[\"argument\"]\n",
    "            mined_arg[\"tgt_counter\"] = [_ for _ in mined_counter[\"tgt_counter\"]]\n",
    "\n",
    "            fout.write(json.dumps(mined_arg))\n",
    "\n",
    "            fout.write(\"\\n\")\n",
    "            pbar.update()\n",
    "\n",
    "logger.info(f\"[{len(mined_args_)} Data Stored as {file_name}.jsonl]\")"
   ],
   "metadata": {
    "collapsed": false
   }
  },
  {
   "cell_type": "code",
   "execution_count": 47,
   "outputs": [],
   "source": [
    "### EVALUATE OUTPUT ###\n",
    "train = [json.loads(ln) for ln in open(f\"./src/data/{file_name}.jsonl\", \"r\")]"
   ],
   "metadata": {
    "collapsed": false
   }
  },
  {
   "cell_type": "code",
   "execution_count": 48,
   "outputs": [
    {
     "data": {
      "text/plain": "10303"
     },
     "execution_count": 48,
     "metadata": {},
     "output_type": "execute_result"
    }
   ],
   "source": [
    "len(train)"
   ],
   "metadata": {
    "collapsed": false
   }
  },
  {
   "cell_type": "code",
   "execution_count": 49,
   "outputs": [
    {
     "name": "stdout",
     "output_type": "stream",
     "text": [
      "t3_2wwm6s \n",
      "\n",
      "[{'sentence': 'several reasons a giant meteor impact will make the planet uninhabitable killing all life this has already happened six times to earth according to scientists some disease will evolve to the point where it can longer be treated or controlled by vaccines and create a worldwide outbreak nuclear war worldwide starvation or dehydration due to diminishing resources and population increase an ice age or hot period so severe making earth uninhabitablemy first one of these so i hope i provided the correct and enough content in a clear and concise manner.', 'kp': ['reasons giant meteor impact', 'planet uninhabitable killing life', 'earth according scientists disease', 'vaccines create worldwide outbreak', 'increase ice age'], 'stance': 'PRO', 'aspect': 'reasons giant meteor impact', 'topic': 'thoku earthquake and tsunami', 'concept': 'natural calamity'}] \n",
      "\n",
      "[{'sentence': 'its a strangely fun thing to imagine these sorts of situations and i think its actually quite healthy to do in some ways.', 'kp': ['think actually quite healthy', 'strangely fun thing', 'thing imagine sorts situations', 'ways', 'actually'], 'stance': 'PRO', 'aspect': 'think actually quite healthy'}, {'sentence': 'it helps us imagine the greatest risks to our society how we can improve our chances and what we should be sincerely worried about.while humanity is in general experiencing a level of health wealth and stability that we really havent experienced at any point in the past this comes with its own set of problems.', 'kp': ['greatest risks society improve', 'health wealth stability really', 'worried humanity', 'general experiencing level health', 'helps imagine'], 'stance': 'PRO', 'aspect': 'greatest risks society improve'}, {'sentence': 'first off we have never experienced the kind of population growth that were experiencing today and each persons lifestyle demands more resources from the earth than it ever has.', 'kp': ['lifestyle demands resources earth', 'population growth experiencing today', 'experienced kind population', 'today persons', 'experienced'], 'stance': 'NEUTRAL', 'aspect': 'lifestyle demands resources earth'}, {'sentence': 'so we have more people demanding more resources.', 'kp': ['people demanding resources', 'demanding resources', 'people demanding', 'resources', 'people'], 'stance': 'NEUTRAL', 'aspect': 'people demanding resources'}, {'sentence': 'thats the part where you start talking about food shortages as a result of population increase.to be sure food is going to be a serious consideration in the future.', 'kp': ['food shortages result population', 'population increase sure food', 'food going consideration future', 'consideration future', 'increase sure'], 'stance': 'NEUTRAL', 'aspect': 'food shortages result population'}, {'sentence': 'however with genetically modified organisms and advanced farming techniques our agricultural surpluses are the highest theyve ever been which is why we can sustain billion people and counting.', 'kp': ['sustain billion people', 'agricultural surpluses highest', 'genetically modified organisms advanced', 'advanced farming', 'highest theyve sustain'], 'stance': 'PRO', 'aspect': 'sustain billion people'}, {'sentence': 'its also important to remember that these advances often grow exponentially.', 'kp': ['remember advances grow exponentially', 'important remember advances grow', 'advances', 'exponentially', 'important'], 'stance': 'PRO', 'aspect': 'remember advances grow exponentially'}, {'sentence': 'as the population increases and more people are given access to education our ability to create larger and larger agricultural surpluses tends to increase as well as we have more minds working on these problems.', 'kp': ['agricultural surpluses tends increase', 'population increases people', 'create larger larger agricultural', 'education ability create', 'increase minds working problems'], 'stance': 'PRO', 'aspect': 'agricultural surpluses tends increase'}, {'sentence': 'it works dialectically.that said the introduction of manmade climate change is going to be a new challenge.', 'kp': ['manmade climate change going', 'climate change going new', 'works dialectically', 'new challenge', 'said introduction'], 'stance': 'PRO', 'aspect': 'manmade climate change going'}, {'sentence': 'previously fertile land will be made largely infertile.', 'kp': ['fertile land largely infertile', 'previously fertile land', 'infertile', 'previously fertile', 'previously'], 'stance': 'PRO', 'aspect': 'fertile land largely infertile'}, {'sentence': 'however the growing periods in northern regions are going to increase while this happens.', 'kp': ['growing periods northern regions', 'northern regions going increase', 'regions going increase', 'northern regions going', 'going increase happens'], 'stance': 'NEUTRAL', 'aspect': 'growing periods northern regions'}, {'sentence': 'whether or not that will make up for the loss of agriculture in other regions isnt a certainty but its worth considering that climate change will affect different parts of the world differently.', 'kp': ['loss agriculture regions isnt', 'considering climate change affect', 'different parts world differently', 'isnt certainty worth considering', 'make'], 'stance': 'PRO', 'aspect': 'loss agriculture regions isnt'}] \n",
      "\n"
     ]
    }
   ],
   "source": [
    "_ = random.randint(0, len(train))\n",
    "print(train[_][\"id\"], \"\\n\")\n",
    "print(train[_][\"argument\"], \"\\n\")\n",
    "print(train[_][\"tgt_counter\"], \"\\n\")"
   ],
   "metadata": {
    "collapsed": false
   }
  },
  {
   "cell_type": "code",
   "execution_count": null,
   "outputs": [],
   "source": [
    "# for i, j in zip(retrieved_ranked, sample):\n",
    "#     # Add counter to the dictionary (implicitly, i)\n",
    "#     i[\"counter\"] = j[\"counter\"]\n",
    "#     fout.write(json.dumps(i))\n",
    "#     fout.write(\"\\n\")"
   ],
   "metadata": {
    "collapsed": false
   }
  },
  {
   "cell_type": "code",
   "execution_count": null,
   "outputs": [],
   "source": [
    "# Working Loop\n",
    "# for i in mined_counters_:\n",
    "#     test = {\n",
    "#         \"test\": [j for j in i[\"counter\"]]\n",
    "#     }"
   ],
   "metadata": {
    "collapsed": false
   }
  },
  {
   "cell_type": "code",
   "execution_count": null,
   "outputs": [],
   "source": [
    "# BATCH LOADING\n",
    "\n",
    "# STEPS = 10\n",
    "# STEP = max(int(len(SAMPLE) / STEPS), 1)\n",
    "# BATCHES = [sample[i:i + STEP] for i in range(0, len(SAMPLE), STEP)]\n",
    "#\n",
    "# mined_counters = []\n",
    "# for idx, batch in enumerate(BATCHES):\n",
    "#     print('-' * 25 + 'Batch %d/%d' % (idx + 1, len(BATCHES)) + '-' * 25)\n",
    "#\n",
    "#     with multiprocessing.Pool(8) as pool:\n",
    "#         with tqdm(total=(len(batch))) as pbar:\n",
    "#             for counter in batch:\n",
    "#                 mined_counters.append(extract_counters(counter))\n",
    "#                 pbar.update()"
   ],
   "metadata": {
    "collapsed": false
   }
  }
 ],
 "metadata": {
  "kernelspec": {
   "display_name": "Python 3",
   "language": "python",
   "name": "python3"
  },
  "language_info": {
   "codemirror_mode": {
    "name": "ipython",
    "version": 2
   },
   "file_extension": ".py",
   "mimetype": "text/x-python",
   "name": "python",
   "nbconvert_exporter": "python",
   "pygments_lexer": "ipython2",
   "version": "2.7.6"
  }
 },
 "nbformat": 4,
 "nbformat_minor": 0
}
