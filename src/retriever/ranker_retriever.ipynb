{
 "cells": [
  {
   "cell_type": "code",
   "execution_count": 1,
   "metadata": {
    "pycharm": {
     "name": "#%%\n"
    }
   },
   "outputs": [
    {
     "name": "stderr",
     "output_type": "stream",
     "text": [
      "INFO:src.utils_.elastic_db:Connecting to http://localhost:9200 \n",
      "INFO:src.utils_.elastic_db:Connected to <Elasticsearch(['http://localhost:9200'])> \n"
     ]
    }
   ],
   "source": [
    "from src.utils_.elastic_db import ElasticDB\n",
    "\n",
    "# INIT DB OBJECT\n",
    "PORT = \"http://localhost:9200\"\n",
    "db = ElasticDB(elastic_port=PORT)"
   ]
  },
  {
   "cell_type": "code",
   "execution_count": 2,
   "metadata": {
    "pycharm": {
     "name": "#%%\n"
    }
   },
   "outputs": [],
   "source": [
    "### LOAD DATASETS ###\n",
    "import json\n",
    "import random\n",
    "\n",
    "args = [json.loads(ln) for ln in open(\"../data/cmv_processed.jsonl\")]\n",
    "topics = [json.loads(ln) for ln in open(\"../data/argument_topic_concept.jsonl\")]"
   ]
  },
  {
   "cell_type": "code",
   "execution_count": 3,
   "outputs": [
    {
     "data": {
      "text/plain": "(5990, 10303)"
     },
     "execution_count": 3,
     "metadata": {},
     "output_type": "execute_result"
    }
   ],
   "source": [
    "len(topics), len(args)"
   ],
   "metadata": {
    "collapsed": false,
    "pycharm": {
     "name": "#%%\n"
    }
   }
  },
  {
   "cell_type": "code",
   "execution_count": 4,
   "metadata": {
    "pycharm": {
     "name": "#%%\n"
    }
   },
   "outputs": [
    {
     "name": "stdout",
     "output_type": "stream",
     "text": [
      "87 \n",
      "\n",
      "Instead of creating new genders there should be no genders at all \n",
      "\n",
      "First of im far away from being an expert on this topic i guess i understand the basic ideas but im not familiar with depths of this topic. So the problem with gender roles is that we put humans in categories based on their biological sex and connect those categories with certain behaviours and claims but humans are more complex than that and not every male will behave like society expects how a male acts and vice versa. To solve this problems people claim that there should be more than genders but isnt that creating the same problems and make things way more complicated than they should be? Wouldnt it be easier and better just to treat every human as a complete individuel in that aspect instead of having thousand other categories? The whole thing looks completely paradox to me so please change my view \n",
      "\n",
      "{'id': 't3_3cm04x', 'argument': 'Bernie Sanders is running a campaign on promises like free college and getting money out of politics. Nearly everything Ive heard his campaign promise requires congressional action. As a congressman Bernie Sanders knows that.From the Huffington Post Among the specific items on his campaign platform include establishing a minimum wage closing the gender pay gap investing trillion over five years to rebuild infrastructure and overturning the Supreme Courts Citizens United decisionEach of those things requires new legislation. With years in the House and terms in the Senate Sanders should be familiar with the limits of each branch of government. This makes me think he knows he cant win so he is recklessly promising absurd things.', 'topic_label': []}\n"
     ]
    }
   ],
   "source": [
    "### SUBJECT ARG ###\n",
    "import random\n",
    "sample = random.randint(0, 99)\n",
    "\n",
    "arg = args[sample][\"argument\"][\"argument\"]\n",
    "claim = args[sample][\"claim\"]\n",
    "topic = topics[sample]\n",
    "\n",
    "print(sample, \"\\n\")\n",
    "print(claim, \"\\n\")\n",
    "print(arg, \"\\n\")\n",
    "print(topic)"
   ]
  },
  {
   "cell_type": "code",
   "execution_count": 5,
   "outputs": [],
   "source": [
    "### TODOs ###\n",
    "\n",
    "# IN-PROGRESS: News Data\n",
    "# TODOs: Add Concepts\n",
    "# TODOs: Commonsense Query and Concept Expansion: Topics, Concepts, Synonyms\n",
    "# DONE: Cosine Semantic Search\n",
    "# TODOs: Research: Evidence Retrieval, Info Retrieval, Context Aware, Neural Retrieval\n",
    "# TODOs: Targeted Retrieval with NLI over ADUs, Premises, Claims; discard non-ADUs.\n",
    "# TODOs: Parallel process\n",
    "# TODOs: Prior tokenization and sentence segmentation to speed processing\n",
    "# TODOs: Domain Restrict. Polarising social and political debate (Class labelling) only for higher-quality argument-knowledge set.\n",
    "# TODOs: News, Political, Sociology and 'Good', 'Positive' counter-evidence Knowledge Base.\n",
    "# TODOs: Bag of Topics Modelling\n",
    "# TODOs: Implement as a Class\n",
    "# TODOs: Implement Logging\n",
    "\n",
    "# TODOs: Implement Semantic Search: https://www.elastic.co/blog/text-similarity-search-with-vectors-in-elasticsearch\n",
    "# TODOs: Implement Semantic Ranking"
   ],
   "metadata": {
    "collapsed": false,
    "pycharm": {
     "name": "#%%\n"
    }
   }
  },
  {
   "cell_type": "code",
   "execution_count": 6,
   "metadata": {
    "pycharm": {
     "name": "#%%\n"
    }
   },
   "outputs": [
    {
     "name": "stdout",
     "output_type": "stream",
     "text": [
      "['hello', ',', 'my', 'name', 'is', 'Josh', '!']\n",
      "['hello, my name is Josh!', 'How are you doing today?', \"I'm curious ... will this line seperate?\", \"I'm not so sure Dr.\", 'Evil']\n"
     ]
    }
   ],
   "source": [
    "### NLP FUNCTIONS ###\n",
    "import re\n",
    "from nltk.tokenize import sent_tokenize, word_tokenize\n",
    "\n",
    "def tokeniser(doc):\n",
    "    return word_tokenize(doc)\n",
    "\n",
    "def sentences_segment(doc):\n",
    "    return sent_tokenize(doc)\n",
    "\n",
    "# Test Statements\n",
    "print(tokeniser(\"hello, my name is Josh!\"))\n",
    "print(sentences_segment(\"hello, my name is Josh! How are you doing today? I'm curious ... will this line seperate? I'm not so sure Dr. Evil\"))"
   ]
  },
  {
   "cell_type": "code",
   "execution_count": 7,
   "outputs": [
    {
     "name": "stderr",
     "output_type": "stream",
     "text": [
      "INFO:sentence_transformers.SentenceTransformer:Load pretrained SentenceTransformer: all-MiniLM-L6-v2\n",
      "INFO:sentence_transformers.SentenceTransformer:Use pytorch device: cpu\n"
     ]
    },
    {
     "data": {
      "text/plain": "['brazil minimum income', 'minimum income increasingly', 'brazil minimum']"
     },
     "execution_count": 7,
     "metadata": {},
     "output_type": "execute_result"
    }
   ],
   "source": [
    "from keybert import KeyBERT\n",
    "from keyphrase_vectorizers import KeyphraseCountVectorizer\n",
    "\n",
    "# TODOs: Fix Vectorizer Issue\n",
    "kb = KeyBERT()\n",
    "def extract_keyphrase(doc, n_gram=3, n_kp=3, use_mmr=\"False\", use_maxsum=\"False\"):\n",
    "    #kp = kb.extract_keywords(doc, vectorizer=KeyphraseCountVectorizer(), stop_words=\"english\", diversity=0.2,)\n",
    "\n",
    "    kp = kb.extract_keywords(doc, keyphrase_ngram_range=(0, 3), stop_words=\"english\", diversity=0.2,)\n",
    "\n",
    "    return [i[0] for i in kp[0:n_kp]] if kp else None\n",
    "\n",
    "test = \"Brazil's minimum income has increasingly been accepted.\"\n",
    "\n",
    "extract_keyphrase(test)"
   ],
   "metadata": {
    "collapsed": false,
    "pycharm": {
     "name": "#%%\n"
    }
   }
  },
  {
   "cell_type": "code",
   "execution_count": 11,
   "metadata": {
    "pycharm": {
     "name": "#%%\n"
    }
   },
   "outputs": [
    {
     "data": {
      "text/plain": "  0%|          | 0/1 [00:00<?, ?it/s]",
      "application/vnd.jupyter.widget-view+json": {
       "version_major": 2,
       "version_minor": 0,
       "model_id": "9be3bdc009d94f2a8f4abd2faaebcdaf"
      },
      "application/json": {
       "n": 0,
       "total": 1,
       "elapsed": 0.008077859878540039,
       "ncols": null,
       "nrows": null,
       "prefix": "",
       "ascii": false,
       "unit": "it",
       "unit_scale": false,
       "rate": null,
       "bar_format": null,
       "postfix": null,
       "unit_divisor": 1000,
       "initial": 0,
       "colour": null
      }
     },
     "metadata": {},
     "output_type": "display_data"
    },
    {
     "name": "stderr",
     "output_type": "stream",
     "text": [
      "INFO:elastic_transport.transport:POST http://localhost:9200/*/_search [status:200 duration:0.037s]\n"
     ]
    },
    {
     "name": "stdout",
     "output_type": "stream",
     "text": [
      "incomes policy\n",
      "['basic income increasingly', 'basic income', 'section basic income']\n"
     ]
    },
    {
     "name": "stderr",
     "output_type": "stream",
     "text": [
      "INFO:elastic_transport.transport:POST http://localhost:9200/*/_search [status:200 duration:0.037s]\n"
     ]
    },
    {
     "name": "stdout",
     "output_type": "stream",
     "text": [
      "['basic income', 'basic income policy', 'income policy']\n"
     ]
    },
    {
     "name": "stderr",
     "output_type": "stream",
     "text": [
      "INFO:elastic_transport.transport:POST http://localhost:9200/*/_search [status:200 duration:0.028s]\n"
     ]
    },
    {
     "name": "stdout",
     "output_type": "stream",
     "text": [
      "['krugman endorsed scheme', 'centerleft economists including', 'centerleft economists']\n"
     ]
    },
    {
     "name": "stderr",
     "output_type": "stream",
     "text": [
      "INFO:elastic_transport.transport:POST http://localhost:9200/*/_search [status:200 duration:0.033s]\n"
     ]
    },
    {
     "name": "stdout",
     "output_type": "stream",
     "text": [
      "['bi reduces inequality', 'inequality redistributing income', 'reduces inequality redistributing']\n"
     ]
    }
   ],
   "source": [
    "from tqdm.notebook import tqdm\n",
    "from src.detection.stance_classifier import sentence_stance, compare_stance\n",
    "from src.utils_.word_net_expansion import expand_query\n",
    "from src.detection.stance_classifier import sentence_stance\n",
    "import time\n",
    "\n",
    "### RETRIEVER ###\n",
    "db = db\n",
    "queries = []\n",
    "retrieved_ev = []\n",
    "\n",
    "topic_ids = [json.loads(ln)[\"id\"] for ln in open(\"../data/argument_topic_concept.jsonl\")]\n",
    "def get_topic(arg_id):\n",
    "    topic_id = topic_ids.index(arg_id)\n",
    "    topic = topics[topic_id][\"topic_label\"]\n",
    "    return str(topic) if topic else None\n",
    "\n",
    "# TODOs: Add News\n",
    "# TODOs: Include Topic Label\n",
    "# TODOs: Include Concept Label\n",
    "# TODOs: Query Expansion\n",
    "# TODOs: Multi-Field Search\n",
    "def retrieved_evidence(arg, query_expansion=True, retrieve_len=5):\n",
    "    \"\"\" Retrieves Evidence from Knowledge base, returning a well-formed Retrieved Evidence Object\n",
    "    given an input Argument\"\"\"\n",
    "\n",
    "    id_ = arg[\"id\"]\n",
    "    topic = get_topic(id_)\n",
    "    print(topic)\n",
    "\n",
    "    counters_sents = sentences_segment(arg[\"counter\"][\"counter\"])\n",
    "    adu_sents = sentences_segment(arg[\"argument\"][\"argument\"])\n",
    "\n",
    "    # Retrieve per ADU\n",
    "    # results = []\n",
    "    retrieved = []\n",
    "    adus = []\n",
    "    for _ in adu_sents:\n",
    "        if len(tokeniser(_)) <= 8:\n",
    "            continue\n",
    "\n",
    "        kp = extract_keyphrase(_)\n",
    "        print(kp)\n",
    "        adu = {\"sentence\": _, \"kp\": [i for i in kp], \"stance\": sentence_stance(_, kp[0])}\n",
    "\n",
    "        kp.append(topic) if topic else kp\n",
    "        query = \", \".join(i for i in kp)\n",
    "        # TODOs: Add title field for all ES indices to enable multi-field search\n",
    "        # search = [(i[\"_source\"][\"document\"][\"title\"], i[\"_source\"][\"document\"][\"text\"])for i in db.search(query_=query, k=retrieve_len]\n",
    "        search = [i[\"_source\"][\"document\"][\"text\"] for i in db.search(query_=query, k=retrieve_len)]\n",
    "\n",
    "        evidence = [i for i in search]\n",
    "        ev_kp = extract_keyphrase(evidence)\n",
    "\n",
    "        retrieved.append({\"passages\": evidence, \"kp\": [i[0] for i in ev_kp]})\n",
    "        adus.append(adu)\n",
    "\n",
    "    return ({\n",
    "        \"id\": arg[\"id\"],\n",
    "        \"argument\": [i for i in adus],\n",
    "        \"retrieved\": [i for i in retrieved]\n",
    "    })\n",
    "\n",
    "\n",
    "retrieved_ev = []\n",
    "sample = 1\n",
    "\n",
    "tic = time.time()\n",
    "with tqdm(total=(sample), position=0, leave=True) as pbar:\n",
    "    for arg in args[0:sample]:\n",
    "        retrieved_ev.append(retrieved_evidence(arg))\n",
    "        pbar.update()\n",
    "\n",
    "toc = time.time()\n",
    "duration = toc - tic"
   ]
  },
  {
   "cell_type": "code",
   "execution_count": 12,
   "outputs": [
    {
     "name": "stdout",
     "output_type": "stream",
     "text": [
      "1\n"
     ]
    },
    {
     "data": {
      "text/plain": "{'id': 't3_30oi71',\n 'argument': [{'sentence': 'Section I Why is Basic Income Increasingly Popular?',\n   'kp': ['basic income increasingly', 'basic income', 'section basic income'],\n   'stance': 'NEUTRAL'},\n  {'sentence': 'Basic income is a policy that has broad support from both the progressive left and libertarian right.',\n   'kp': ['basic income', 'basic income policy', 'income policy'],\n   'stance': 'PRO'},\n  {'sentence': 'Centerleft economists including Paul Krugman have endorsed the scheme for various reasons.',\n   'kp': ['krugman endorsed scheme',\n    'centerleft economists including',\n    'centerleft economists'],\n   'stance': 'PRO'},\n  {'sentence': 'BI also reduces inequality by redistributing income from capital to labor.',\n   'kp': ['bi reduces inequality',\n    'inequality redistributing income',\n    'reduces inequality redistributing'],\n   'stance': 'CON'}],\n 'retrieved': [{'passages': [\"Committee member Lady Rhys-Williams argued that the incomes for adults should be more like a basic income. She was also the first to develop the negative income tax model. Her son Brandon Rhys Williams proposed a basic income to a parliamentary committee in 1982, and soon after that in 1984, the Basic Income Research Group, now the Citizen's Basic Income Trust, began to conduct and disseminate research on basic income.\",\n    \"Several British academics have been involved in the basic income debate. Among them the following:Organisations. The organisation Basic Income UK is 'a collective of independent people promoting unconditional basic income as a progressive social policy for the United Kingdom, and beyond'.\",\n    'Basic Income. Delaney opposes implementing a basic income (also known as a universal basic income). Minimum wage.',\n    'The British Columbia Basic Income Expert Panel Report assesses a basic income for British Columbia. Among the types of basic income examined is a universal basic income (UBI). The BC Green Party made a study of basic income a requirement before it would support the NDP’s minority government and, in July 2018, the BC Basic Income Expert Panel was appointed.',\n    'Global basic income or world basic income is the concept of giving everyone in the world a guaranteed minimum income of money on a regular basis. The proposal usually suggests that the basic income be unconditional. Global basic income is part of the wider discussion on basic income, which typically implemented or proposed at the national level.'],\n   'kp': ['proposed basic income', 'basic income uk', 'basic income delaney']},\n  {'passages': [\"Several British academics have been involved in the basic income debate. Among them the following:Organisations. The organisation Basic Income UK is 'a collective of independent people promoting unconditional basic income as a progressive social policy for the United Kingdom, and beyond'.\",\n    'A basic income is defined in the report as a policy that guarantees all members of a society a minimum amount of income. One type of basic income considered is the most well-known: a universal basic income (UBI). With a UBI, everyone receives a cash transfer at regular intervals, with no conditions, and no eligibility requirements except residency in the jurisdiction.',\n    'Congress eventually approved a guaranteed minimum income for the elderly and the disabled. In the mid-1970s the main competitor to basic income and negative income tax, the Earned income tax credit (EITC), or its advocates, won over enough legislators for the US Congress to pass laws on that policy. In 1986, the Basic Income European Network, later renamed to Basic Income Earth Network (BIEN), was founded, with academic conferences every second year.',\n    'The Queensland Greens were the first Australian party to adopt a Guaranteed Adequate Income (GAI) policy in 1999. Basic Income Guarantee Australia was accepted into the Basic Income Earth Network in 2006 as an affiliate member. In August 2014, ACOSS made a recommendation to simplify the welfare system via a basic income support payment; however, this differs from a universal guaranteed income in that it would still be means-tested.',\n    'They advocate a basic income on the following grounds:Health policy. The V-Partei³ supports the legalization of cannabis. None'],\n   'kp': ['basic income uk', 'basic income ubi', 'basic income earth']},\n  {'passages': [\"Krugman challenges the dominant neoclassical paradigm's ability to predict the business cycle, but Rankin acknowledges a more constructive critique is required. Economists that endorse Krugman's policy recommendation acknowledge that little is mentioned about the adverse implications of his policy including increasing debt, risk of hyperinflation, speculative threat, and opportunists. Additionally, Krugman does not comment on the technical and financial limitations of policy implementation in a global financial market.\",\n    \"I'm an anti-Keynesian because I want smaller government.' Krugman quoted this statement in his response and then said that 'Keynesianism is not and never has been about promoting bigger government,' and also that 'you find conservative economists promoting quite Keynesian views of stabilization policy.' In subsequent posts, the two economists disagreed on many things, but neither one contested one central idea: Krugman was content to be characterized as a Keynesian, while Roberts was not.\",\n    'Some American economists like Paul Krugman claim not to understand the benefits of a single currency and allege that poor economic performance is the result of membership of the single currency. These economists do not, however, advocate separate currencies for the states of the United States, many of which have quite disparate economies. Public policy.',\n    \"Agreement for the Future – CenterLeft (Polish 'Porozumienie dla Przyszłości – CentroLewica') was a short-lived center-left electoral alliance of Sociodemocracy Poland Party, Democratic Party and Greens 2004 founded by Dariusz Rosati on 1 February 2009 and dissolved 7 June 2009. None None\",\n    'This emerged as a consensus among some policy makers and economists for Keynesian solutions. Figures in this school included Dominique Strauss-Kahn, Olivier Blanchard, Gordon Brown, Paul Krugman, and Martin Wolf. Austerity was another response, the policy of reducing government budget deficits.'],\n   'kp': ['economists endorse krugman',\n    'keynesianism promoting bigger',\n    'single currency economists']},\n  {'passages': ['Taxes. Income taxes provide one mechanism for addressing after-tax inequality. Increasing the effective progressivity of income taxes reduces the gap between higher and lower incomes.',\n    'NYU economist William Baumol found that substantial inequality does not stimulate growth because poverty reduces labor force productivity. Economists Dierk Herzer and Sebastian Vollmer found that increased income inequality reduces economic growth, but growth itself increases income inequality. A 1996 study by Perotti examined the channels through which inequality may affect economic growth.',\n    'Because these income inequality metrics are summary statistics that seek to aggregate an entire distribution of incomes into a single index, the information on the measured inequality is reduced. This information reduction of course is the goal of computing inequality measures, as it reduces complexity. A weaker reduction of complexity is achieved if income distributions are described by shares of total income.',\n    \"Debate continues over whether a public policy response is appropriate to income inequality. For example, Federal Reserve Economist Thomas Garrett wrote in 2010: 'It is important to understand that income inequality is a byproduct of a well-functioning capitalist economy. Individuals' earnings are directly related to their productivity ... A wary eye should be cast on policies that aim to shrink the income distribution by redistributing income from the more productive to the less productive simply for the sake of 'fairness.''\",\n    'Income measures: pre-and post-tax. Inequality can be measured before and after the effects of taxes and transfer payments such as social security and unemployment insurance. Measuring inequality after accounting for taxes and transfers reduces observed inequality, because both the income tax system and transfer systems are designed to do so.'],\n   'kp': ['addressing tax inequality',\n    'increases income inequality',\n    'income inequality metrics']}]}"
     },
     "execution_count": 12,
     "metadata": {},
     "output_type": "execute_result"
    }
   ],
   "source": [
    "print(len(retrieved_ev))\n",
    "retrieved_ev[0]"
   ],
   "metadata": {
    "collapsed": false,
    "pycharm": {
     "name": "#%%\n"
    }
   }
  },
  {
   "cell_type": "code",
   "execution_count": 13,
   "outputs": [
    {
     "name": "stderr",
     "output_type": "stream",
     "text": [
      "INFO:sentence_transformers.SentenceTransformer:Load pretrained SentenceTransformer: all-MiniLM-L6-v2\n",
      "INFO:sentence_transformers.SentenceTransformer:Use pytorch device: cpu\n"
     ]
    },
    {
     "data": {
      "text/plain": "  0%|          | 0/1 [00:00<?, ?it/s]",
      "application/vnd.jupyter.widget-view+json": {
       "version_major": 2,
       "version_minor": 0,
       "model_id": "54630a81441a46c7a40db606f659a693"
      },
      "application/json": {
       "n": 0,
       "total": 1,
       "elapsed": 0.006900787353515625,
       "ncols": null,
       "nrows": null,
       "prefix": "",
       "ascii": false,
       "unit": "it",
       "unit_scale": false,
       "rate": null,
       "bar_format": null,
       "postfix": null,
       "unit_divisor": 1000,
       "initial": 0,
       "colour": null
      }
     },
     "metadata": {},
     "output_type": "display_data"
    },
    {
     "data": {
      "text/plain": "[{'id': 't3_30oi71',\n  'argument': [{'sentence': 'Section I Why is Basic Income Increasingly Popular?',\n    'kp': ['basic income increasingly',\n     'basic income',\n     'section basic income'],\n    'stance': 'NEUTRAL'},\n   {'sentence': 'Basic income is a policy that has broad support from both the progressive left and libertarian right.',\n    'kp': ['basic income', 'basic income policy', 'income policy'],\n    'stance': 'PRO'},\n   {'sentence': 'Centerleft economists including Paul Krugman have endorsed the scheme for various reasons.',\n    'kp': ['krugman endorsed scheme',\n     'centerleft economists including',\n     'centerleft economists'],\n    'stance': 'PRO'},\n   {'sentence': 'BI also reduces inequality by redistributing income from capital to labor.',\n    'kp': ['bi reduces inequality',\n     'inequality redistributing income',\n     'reduces inequality redistributing'],\n    'stance': 'CON'}],\n  'retrieved': [{'ranked_passages': \"Several British academics have been involved in the basic income debate. Among them the following:Organisations. The organisation Basic Income UK is 'a collective of independent people promoting unconditional basic income as a progressive social policy for the United Kingdom, and beyond'., Global basic income or world basic income is the concept of giving everyone in the world a guaranteed minimum income of money on a regular basis. The proposal usually suggests that the basic income be unconditional. Global basic income is part of the wider discussion on basic income, which typically implemented or proposed at the national level.\",\n    'kp': ['global basic income', 'basic income uk', 'basic income world']},\n   {'ranked_passages': \"Several British academics have been involved in the basic income debate. Among them the following:Organisations. The organisation Basic Income UK is 'a collective of independent people promoting unconditional basic income as a progressive social policy for the United Kingdom, and beyond'., A basic income is defined in the report as a policy that guarantees all members of a society a minimum amount of income. One type of basic income considered is the most well-known: a universal basic income (UBI). With a UBI, everyone receives a cash transfer at regular intervals, with no conditions, and no eligibility requirements except residency in the jurisdiction.\",\n    'kp': ['basic income uk', 'basic income ubi', 'basic income considered']},\n   {'ranked_passages': \"Krugman challenges the dominant neoclassical paradigm's ability to predict the business cycle, but Rankin acknowledges a more constructive critique is required. Economists that endorse Krugman's policy recommendation acknowledge that little is mentioned about the adverse implications of his policy including increasing debt, risk of hyperinflation, speculative threat, and opportunists. Additionally, Krugman does not comment on the technical and financial limitations of policy implementation in a global financial market., This emerged as a consensus among some policy makers and economists for Keynesian solutions. Figures in this school included Dominique Strauss-Kahn, Olivier Blanchard, Gordon Brown, Paul Krugman, and Martin Wolf. Austerity was another response, the policy of reducing government budget deficits.\",\n    'kp': ['economists endorse krugman',\n     'endorse krugman policy',\n     'economists keynesian']},\n   {'ranked_passages': \"Income measures: pre-and post-tax. Inequality can be measured before and after the effects of taxes and transfer payments such as social security and unemployment insurance. Measuring inequality after accounting for taxes and transfers reduces observed inequality, because both the income tax system and transfer systems are designed to do so., Debate continues over whether a public policy response is appropriate to income inequality. For example, Federal Reserve Economist Thomas Garrett wrote in 2010: 'It is important to understand that income inequality is a byproduct of a well-functioning capitalist economy. Individuals' earnings are directly related to their productivity ... A wary eye should be cast on policies that aim to shrink the income distribution by redistributing income from the more productive to the less productive simply for the sake of 'fairness.''\",\n    'kp': ['understand income inequality',\n     'income inequality',\n     'inequality income']}]}]"
     },
     "execution_count": 13,
     "metadata": {},
     "output_type": "execute_result"
    }
   ],
   "source": [
    "from sentence_transformers import SentenceTransformer, util\n",
    "import torch\n",
    "import time\n",
    "\n",
    "model = SentenceTransformer('all-MiniLM-L6-v2')\n",
    "\n",
    "### SCORE COSINE SIMILARITY ###\n",
    "def cosine_similarity(sent_1, sent_2):\n",
    "    sentences = [sent_1, sent_2]\n",
    "    embeddings = model.encode(sentences, convert_to_tensor=True, show_progress_bar=False)\n",
    "\n",
    "    cos = torch.nn.CosineSimilarity(dim=0)\n",
    "    score = cos(embeddings[0], embeddings[1])\n",
    "\n",
    "    return score.numpy().item()\n",
    "\n",
    "### SCORE TF-KEYWORD OVERLAP ###\n",
    "def overlap_score(evidence_kp, adu_kp):\n",
    "    score = 0\n",
    "    # Split Keyphrase into components, scoring partial units as overlap\n",
    "    for i in evidence_kp:\n",
    "        for j in i.split():\n",
    "            # Ensure string value, to enact .find\n",
    "            if \", \".join([i for i in adu_kp]).find(j) != -1: score += 1\n",
    "\n",
    "            else: continue\n",
    "    return score\n",
    "\n",
    "### RANK PASSAGES ###\n",
    "def score_passages(ev):\n",
    "    for _ in range(0, len(ev[\"argument\"])):\n",
    "        print(_)\n",
    "\n",
    "from collections import defaultdict\n",
    "def rank_passages(ev, k=2):\n",
    "    adus = [i for i in ev[\"argument\"]]\n",
    "    retrieved = [i for i in ev[\"retrieved\"]]\n",
    "\n",
    "    rank_retrieved = []\n",
    "    count = 0\n",
    "\n",
    "    for adu, passages in zip(adus, retrieved):\n",
    "        count += 1\n",
    "        scored = []\n",
    "\n",
    "        # 5 passages\n",
    "        for passage in passages[\"passages\"]:\n",
    "            score = cosine_similarity(str(adu), str(passage))\n",
    "            scored.append((passage, score))\n",
    "\n",
    "        ranked_passages = sorted(scored, key=lambda x: x[1], reverse=True)\n",
    "        ranked_passages = ranked_passages[0:k]\n",
    "\n",
    "        merged = \", \".join(i[0] for i in ranked_passages)\n",
    "        merged_kp = extract_keyphrase(merged)\n",
    "        rank_retrieved.append({\"ranked_passages\": merged, \"kp\": merged_kp})\n",
    "\n",
    "    return rank_retrieved\n",
    "\n",
    "import copy\n",
    "### UPDATE RETRIEVED OBJECT ###\n",
    "# for i in range(0, len(retrieved_ev)):\n",
    "#     retrieved_ranked[i][\"retrieved\"] = [i for i in rank_passages(retrieved_ev[i])]\n",
    "\n",
    "tic = time.time()\n",
    "retrieved_ranked = copy.deepcopy(retrieved_ev)\n",
    "with tqdm(total=(len(retrieved_ev)), position=0, leave=True) as pbar:\n",
    "    for i in range(0, len(retrieved_ev)):\n",
    "        retrieved_ranked[i][\"retrieved\"] = [i for i in rank_passages(retrieved_ev[i])]\n",
    "    pbar.update()\n",
    "\n",
    "toc = time.time()\n",
    "# duration = toc - tic\n",
    "\n",
    "retrieved_ranked"
   ],
   "metadata": {
    "collapsed": false,
    "pycharm": {
     "name": "#%%\n"
    }
   }
  },
  {
   "cell_type": "code",
   "execution_count": 14,
   "outputs": [
    {
     "name": "stdout",
     "output_type": "stream",
     "text": [
      "2.246089220046997\n"
     ]
    },
    {
     "data": {
      "text/plain": "1"
     },
     "execution_count": 14,
     "metadata": {},
     "output_type": "execute_result"
    }
   ],
   "source": [
    "print(toc - tic)\n",
    "len(retrieved_ranked)"
   ],
   "metadata": {
    "collapsed": false,
    "pycharm": {
     "name": "#%%\n"
    }
   }
  },
  {
   "cell_type": "code",
   "execution_count": 15,
   "outputs": [
    {
     "data": {
      "text/plain": "{'id': 't3_30oi71',\n 'argument': [{'sentence': 'Section I Why is Basic Income Increasingly Popular?',\n   'kp': ['basic income increasingly', 'basic income', 'section basic income'],\n   'stance': 'NEUTRAL'},\n  {'sentence': 'Basic income is a policy that has broad support from both the progressive left and libertarian right.',\n   'kp': ['basic income', 'basic income policy', 'income policy'],\n   'stance': 'PRO'},\n  {'sentence': 'Centerleft economists including Paul Krugman have endorsed the scheme for various reasons.',\n   'kp': ['krugman endorsed scheme',\n    'centerleft economists including',\n    'centerleft economists'],\n   'stance': 'PRO'},\n  {'sentence': 'BI also reduces inequality by redistributing income from capital to labor.',\n   'kp': ['bi reduces inequality',\n    'inequality redistributing income',\n    'reduces inequality redistributing'],\n   'stance': 'CON'}],\n 'retrieved': [{'ranked_passages': \"Several British academics have been involved in the basic income debate. Among them the following:Organisations. The organisation Basic Income UK is 'a collective of independent people promoting unconditional basic income as a progressive social policy for the United Kingdom, and beyond'., Global basic income or world basic income is the concept of giving everyone in the world a guaranteed minimum income of money on a regular basis. The proposal usually suggests that the basic income be unconditional. Global basic income is part of the wider discussion on basic income, which typically implemented or proposed at the national level.\",\n   'kp': ['global basic income', 'basic income uk', 'basic income world']},\n  {'ranked_passages': \"Several British academics have been involved in the basic income debate. Among them the following:Organisations. The organisation Basic Income UK is 'a collective of independent people promoting unconditional basic income as a progressive social policy for the United Kingdom, and beyond'., A basic income is defined in the report as a policy that guarantees all members of a society a minimum amount of income. One type of basic income considered is the most well-known: a universal basic income (UBI). With a UBI, everyone receives a cash transfer at regular intervals, with no conditions, and no eligibility requirements except residency in the jurisdiction.\",\n   'kp': ['basic income uk', 'basic income ubi', 'basic income considered']},\n  {'ranked_passages': \"Krugman challenges the dominant neoclassical paradigm's ability to predict the business cycle, but Rankin acknowledges a more constructive critique is required. Economists that endorse Krugman's policy recommendation acknowledge that little is mentioned about the adverse implications of his policy including increasing debt, risk of hyperinflation, speculative threat, and opportunists. Additionally, Krugman does not comment on the technical and financial limitations of policy implementation in a global financial market., This emerged as a consensus among some policy makers and economists for Keynesian solutions. Figures in this school included Dominique Strauss-Kahn, Olivier Blanchard, Gordon Brown, Paul Krugman, and Martin Wolf. Austerity was another response, the policy of reducing government budget deficits.\",\n   'kp': ['economists endorse krugman',\n    'endorse krugman policy',\n    'economists keynesian']},\n  {'ranked_passages': \"Income measures: pre-and post-tax. Inequality can be measured before and after the effects of taxes and transfer payments such as social security and unemployment insurance. Measuring inequality after accounting for taxes and transfers reduces observed inequality, because both the income tax system and transfer systems are designed to do so., Debate continues over whether a public policy response is appropriate to income inequality. For example, Federal Reserve Economist Thomas Garrett wrote in 2010: 'It is important to understand that income inequality is a byproduct of a well-functioning capitalist economy. Individuals' earnings are directly related to their productivity ... A wary eye should be cast on policies that aim to shrink the income distribution by redistributing income from the more productive to the less productive simply for the sake of 'fairness.''\",\n   'kp': ['understand income inequality',\n    'income inequality',\n    'inequality income']}]}"
     },
     "execution_count": 15,
     "metadata": {},
     "output_type": "execute_result"
    }
   ],
   "source": [
    "len(retrieved_ranked)\n",
    "retrieved_ranked[0]"
   ],
   "metadata": {
    "collapsed": false,
    "pycharm": {
     "name": "#%%\n"
    }
   }
  },
  {
   "cell_type": "code",
   "execution_count": 16,
   "outputs": [
    {
     "name": "stdout",
     "output_type": "stream",
     "text": [
      "1 1\n"
     ]
    }
   ],
   "source": [
    "# NOTE: Zipping retrieved evidence, args\n",
    "print(len(retrieved_ranked), len(args[0:sample]))"
   ],
   "metadata": {
    "collapsed": false,
    "pycharm": {
     "name": "#%%\n"
    }
   }
  },
  {
   "cell_type": "markdown",
   "source": [],
   "metadata": {
    "collapsed": false,
    "pycharm": {
     "name": "#%% md\n"
    }
   }
  },
  {
   "cell_type": "code",
   "execution_count": 267,
   "outputs": [],
   "source": [
    "fout = open(\"../data/cmv_rr.jsonl\", \"w\")\n",
    "\n",
    "args = [json.loads(ln) for ln in open(\"../data/cmv_processed.jsonl\")]\n",
    "sample = args[0:sample]\n",
    "\n",
    "for i, j in zip(retrieved_ranked, sample):\n",
    "    # Add counter to the dictionary (implicitly, i)\n",
    "    i[\"counter\"] = j[\"counter\"]\n",
    "    fout.write(json.dumps(i))\n",
    "    fout.write(\"\\n\")"
   ],
   "metadata": {
    "collapsed": false,
    "pycharm": {
     "name": "#%%\n"
    }
   }
  },
  {
   "cell_type": "code",
   "execution_count": 268,
   "outputs": [],
   "source": [
    "### EVALUATE OUTPUT ###\n",
    "train = [json.loads(ln) for ln in open(\"../data/cmv_rr.jsonl\", \"r\")]"
   ],
   "metadata": {
    "collapsed": false,
    "pycharm": {
     "name": "#%%\n"
    }
   }
  },
  {
   "cell_type": "code",
   "execution_count": 251,
   "outputs": [
    {
     "name": "stdout",
     "output_type": "stream",
     "text": [
      "[{'sentence': 'This view is probably a bit controversial given the wide use of Microsoft Windows in schools in the US and quite a few countries all over the world and might seem as a bit of a rant against Microsoft but bear with me.', 'kp': ['microsoft windows schools quite', 'windows schools quite', 'microsoft windows schools'], 'stance': 'CON'}, {'sentence': 'Im definitely not a Microsoft fan but Im not exactly an Apple or Linux fanboy either.', 'kp': ['im definitely microsoft fan', 'definitely microsoft fan im', 'microsoft fan im exactly'], 'stance': 'NEUTRAL'}, {'sentence': 'Having an emphasis on Microsoft Office in school is geared to a desk job that uses Office.', 'kp': ['emphasis microsoft office school', 'microsoft office school geared', 'microsoft office school'], 'stance': 'NEUTRAL'}, {'sentence': 'And you dont even learn Office properlyYoure ignoring the programmers engineers arts and literally any one who does not use Office on a regular basis.', 'kp': ['learn office properlyyoure ignoring', 'learn office properlyyoure', 'dont learn office properlyyoure'], 'stance': 'NEUTRAL'}, {'sentence': 'Except engineers who might use Excel a ton.', 'kp': ['engineers use excel', 'engineers use excel ton', 'engineers use'], 'stance': 'NEUTRAL'}] \n",
      "\n",
      "[{'ranked_passages': 'Microsoft Office for Windows. Microsoft Office for Windows started in October 1990 as a bundle of three applications designed for Microsoft Windows 3.0: Microsoft Word for Windows 1.1, Microsoft Excel for Windows 2.0, and Microsoft PowerPoint for Windows 2.0. Microsoft Office for Windows 1.5 updated the suite with Microsoft Excel 3.0., Windows DNA has been largely superseded by the Microsoft .NET Framework, and Microsoft no longer uses the term. To support web-based applications, Microsoft has tried to add Internet features into the operating system using COM. However, developing a web-based application using COM-based Windows DNA is quite complex, because Windows DNA requires the use of numerous technologies and languages.', 'kp': ['excel windows dna largely', 'dna largely superseded microsoft', 'com based windows dna']}, {'ranked_passages': 'Connectivity. The protocol plugins included with Miranda IM are AIM, Gadu-Gadu, ICQ, IRC, Microsoft Messenger service (a.k.a. MSN, .NET, Live, etc., E-mail supports Microsoft Exchange services and direct push, as well as POP3, IMAP, Yahoo! Mail, Gmail, AOL and Microsoft Outlook. Messaging features include IM, SMS and MMS.', 'kp': ['protocol plugins included miranda', 'plugins included miranda im', 'messaging features include im']}, {'ranked_passages': \"Microsoft Office 2013 (codenamed Office 15) is a version of Microsoft Office, a productivity suite for Microsoft Windows. It is the successor to Microsoft Office 2010 and the predecessor to Microsoft Office 2016. Unlike with Office 2010, no OS X equivalent was released., Microsoft Works would later be sold with other Microsoft products including Microsoft Word and Microsoft Bookshelf, a reference collection introduced in 1987 that was the company's first CD-ROM product. Later, on August 8, 1989, Microsoft introduced its most successful office product, Microsoft Office. Unlike the model of Microsoft Works, Microsoft Office was a bundle of separate office productivity applications, such as Microsoft Word, Microsoft Excel and so forth.\", 'kp': ['office 15 version microsoft', 'codenamed office 15 version', 'office product microsoft office']}, {'ranked_passages': \"He rushes into Clemente's office and finds Clemente's lifeless body sprawled on the floor, a gun in his hand. 'The last assassin,' he says, 'and they never learn. They never seem to learn.', Later life and family. After leaving office he planned to learn to play a musical instrument, learn to use a computer, and take some college level history classes. Faber suffered a heart attack a few years after leaving office, but survived.\", 'kp': ['faber suffered heart attack', 'faber suffered heart', 'classes faber suffered heart']}, {'ranked_passages': \"Engineers that are certified as a Professional Engineer in his or her state will use the suffix P.E. (P.Eng in Canada), Certified Professional Geologists use P.G., Certified Professional Logisticians use CPL, and Chartered Engineers use CEng. Likewise, Registered Architects sometimes use the suffix R.A., or more often a suffix such as AIA or RIBA that refers to their professional society., Graduated engineers who are members of either Institution of Engineers, Bangladesh (IEB) or Institution of Textile Engineers and Technologists (ITET) are legally and formally allowed to use the title 'Engr.' before their names. India.\", 'kp': ['suffix eng canada certified', 'engineers certified professional', 'engineers certified professional engineer']}] \n",
      "\n",
      "{'counter': 'First off it is WAY easier to set up and maintain an active directory environment than a Linux environment. With AD you get all of the other spiffy integrations like exchange group policy that you can link to usercomputer profiles powerful deployment tools like MDT and SCCM. The list goes on and on. Now most of this CAN be done in Linux but I challenge you to build it secure it and keep it updated. Im a pretty decent Linux admin yrs and work for a Fortune company and I can tell you that it would be a nightmare to maintain. Additionally all it takes is a decent windows admin to maintain an AD environment for a school.', 'counter_keyphrases': ['active directory environment', 'easier to set', 'active directory', 'MDT and SCCM', 'Linux']} \n",
      "\n"
     ]
    }
   ],
   "source": [
    "_ = random.randint(0, len(train))\n",
    "print(train[_][\"argument\"], \"\\n\")\n",
    "print(train[_][\"retrieved\"], \"\\n\")\n",
    "print(train[_][\"counter\"], \"\\n\")"
   ],
   "metadata": {
    "collapsed": false,
    "pycharm": {
     "name": "#%%\n"
    }
   }
  },
  {
   "cell_type": "code",
   "execution_count": 62,
   "outputs": [
    {
     "name": "stdout",
     "output_type": "stream",
     "text": [
      "4 4\n",
      "4\n",
      "[[{'evidence': 'Many technology experts and technology entrepreneurs have begun endorsing basic income in the 2000s and 2010s. These include Marshal Brain, Sam Altman, James Hughes, Facebook co-founder Chris Hughes, Elon Musk, and Mark Zuckerberg (in his 2017 Harvard commencement speech), and Jeremy Rifkin. The overriding theme among technologists who favor basic income is the belief that automation is creating an increasingly unstable labor market.', 'kp': ('technologists favor basic income', 0.6414), 'similarity': 0.3174712657928467}, {'evidence': \"Committee member Lady Rhys-Williams argued that the incomes for adults should be more like a basic income. She was also the first to develop the negative income tax model. Her son Brandon Rhys Williams proposed a basic income to a parliamentary committee in 1982, and soon after that in 1984, the Basic Income Research Group, now the Citizen's Basic Income Trust, began to conduct and disseminate research on basic income.\", 'kp': ('williams proposed basic income', 0.7498), 'similarity': 0.3011493682861328}, {'evidence': 'Brazil. Minimum income has been increasingly accepted by the Brazilian government. In 2004, President\\xa0Lula da Silva signed into law a bill to establish a universal basic income.', 'kp': ('brazil minimum income increasingly', 0.7746), 'similarity': 0.2683749198913574}], [{'evidence': \"Several British academics have been involved in the basic income debate. Among them the following:Organisations. The organisation Basic Income UK is 'a collective of independent people promoting unconditional basic income as a progressive social policy for the United Kingdom, and beyond'.\", 'kp': ('organisation basic income uk', 0.8251), 'similarity': 0.559151828289032}, {'evidence': 'A basic income is defined in the report as a policy that guarantees all members of a society a minimum amount of income. One type of basic income considered is the most well-known: a universal basic income (UBI). With a UBI, everyone receives a cash transfer at regular intervals, with no conditions, and no eligibility requirements except residency in the jurisdiction.', 'kp': ('basic income ubi', 0.8611), 'similarity': 0.4547910690307617}, {'evidence': \"In May 2019, a report by Professor Guy Standing, commissioned by the Progressive Economic Forum and forwarded to John McDonnell (the acting Shadow Chancellor of the Exchequer) suggested different models for piloting basic income. Standing's report ('Basic Income as Common Dividends: Piloting a Transformative Policy. A Report for the Shadow Chancellor of the Exchequer)' cites a 'perfect storm' of factors that lead to the need for a basic income: Broad ethical justifications for basic income, which Standing cites as 'social justice, security, freedom and solidarity' are now working in combination with urgent socio-economic demands.\", 'kp': ('basic income standing cites', 0.7328), 'similarity': 0.43910565972328186}], [{'evidence': 'Strategic Trade Policy and the New International Economics, ed. Paul Krugman. MIT Press, Cambridge Mass.', 'kp': ('strategic trade policy new', 0.8215), 'similarity': 0.4906909763813019}, {'evidence': 'Paul Krugman. Paul Krugman obtained his B.A. from Yale in 1974 and a PhD in economics from MIT in 1977.', 'kp': ('paul krugman obtained yale', 0.7841), 'similarity': 0.44324031472206116}, {'evidence': \"(with Paul Krugman and Daniel Tsiddon), American Economic Review, December 1993, pp. 1211 1219. 'Technology and Life Cycle of Cities'(with Paul Krugman), Journal of Economic Growth, December 1997, pp.\", 'kp': ('cities paul krugman journal', 0.7116), 'similarity': 0.3929845988750458}], [{'evidence': 'Income taxes and cash benefits traditionally play an important role in redistributing income in Sweden, reducing inequality among the working-age population by about 28% (the OECD average [Of what?] is 25%). This redistributive effect has diminished over time, however, as it [What?]', 'kp': ('redistributing income sweden reducing', 0.8186), 'similarity': 0.3666048049926758}, {'evidence': \"Debate continues over whether a public policy response is appropriate to income inequality. For example, Federal Reserve Economist Thomas Garrett wrote in 2010: 'It is important to understand that income inequality is a byproduct of a well-functioning capitalist economy. Individuals' earnings are directly related to their productivity ... A wary eye should be cast on policies that aim to shrink the income distribution by redistributing income from the more productive to the less productive simply for the sake of 'fairness.''\", 'kp': ('income inequality byproduct functioning', 0.6669), 'similarity': 0.35747021436691284}, {'evidence': 'Taxes. Income taxes provide one mechanism for addressing after-tax inequality. Increasing the effective progressivity of income taxes reduces the gap between higher and lower incomes.', 'kp': ('mechanism addressing tax inequality', 0.7644), 'similarity': 0.28418540954589844}]]\n"
     ]
    }
   ],
   "source": [
    "# Handle duplicates\n",
    "# def rank_passages(ev, k=3):\n",
    "#     \"\"\" Handles a Retrieved Evidence Object, returning the top-k passages for each ADU \"\"\"\n",
    "#     # Per Argument\n",
    "#     # Index into Retrieved Evidence Object\n",
    "#     adus = [i for i in ev[0][\"argument\"]]\n",
    "#     retrieved = [i for i in ev[0][\"retrieved\"]]\n",
    "#\n",
    "#     #print(len(retrieved), len(adus))\n",
    "#\n",
    "#     # Rank k-returned passages for each ADU\n",
    "#     r_retrieved = []\n",
    "#     for adu, passage in zip(adus, retrieved):\n",
    "#         scored = []\n",
    "#         ranked_ev = []\n",
    "#         for _, kp in zip(passage[\"evidence\"], passage[\"kp\"]):\n",
    "#             scored.append((_, kp, cosine_similarity(str(adu), str(_))))\n",
    "#\n",
    "#         scored = sorted(scored, key=lambda x: x[2], reverse=True)[0:3]\n",
    "#         for i, j, k in scored:\n",
    "#             ranked_ev.append({\"evidence\": i, \"kp\": j, \"similarity\": k})\n",
    "#\n",
    "#         r_retrieved.append(ranked_ev)\n",
    "#\n",
    "#     return r_retrieved\n",
    "\n",
    "# 1 Argument x 4 ADUs x 5 Retrieved Passages\n",
    "# ranked = [i for i in rank_passages(retrieved_ev[3])]\n",
    "# print(len(ranked))\n",
    "# print(ranked)"
   ],
   "metadata": {
    "collapsed": false,
    "pycharm": {
     "name": "#%%\n"
    }
   }
  },
  {
   "cell_type": "code",
   "execution_count": 202,
   "outputs": [
    {
     "data": {
      "text/plain": "[{'ranked_passages': \"Several British academics have been involved in the basic income debate. Among them the following:Organisations. The organisation Basic Income UK is 'a collective of independent people promoting unconditional basic income as a progressive social policy for the United Kingdom, and beyond'., Basic Income. Delaney opposes implementing a basic income (also known as a universal basic income). Minimum wage.\",\n  'kp': ['organisation basic income uk',\n   'basic income uk',\n   'united kingdom basic income']},\n {'ranked_passages': \"Several British academics have been involved in the basic income debate. Among them the following:Organisations. The organisation Basic Income UK is 'a collective of independent people promoting unconditional basic income as a progressive social policy for the United Kingdom, and beyond'., A basic income is defined in the report as a policy that guarantees all members of a society a minimum amount of income. One type of basic income considered is the most well-known: a universal basic income (UBI). With a UBI, everyone receives a cash transfer at regular intervals, with no conditions, and no eligibility requirements except residency in the jurisdiction.\",\n  'kp': ['basic income uk', 'basic income ubi', 'universal basic income ubi']},\n {'ranked_passages': \"Later in 2011, Krugman publicly endorsed market monetarist policy recommendations, suggesting 'a Fed regime shift' to 'expectations-based monetary policy,' and commending market monetarism for its focus on nominal GDP. Krugman used the term 'market monetarism' in his widely read blog. Also, in the fourth quarter of 2011, The Milken Institute released a study by Clark Johnson, advocating market monetarist approaches., Strategic Trade Policy and the New International Economics, ed. Paul Krugman. MIT Press, Cambridge Mass.\",\n  'kp': ['endorsed market monetarist policy',\n   'policy commending market monetarism',\n   'market monetarist policy']},\n {'ranked_passages': \"Income taxes and cash benefits traditionally play an important role in redistributing income in Sweden, reducing inequality among the working-age population by about 28% (the OECD average [Of what?] is 25%). This redistributive effect has diminished over time, however, as it [What?], Debate continues over whether a public policy response is appropriate to income inequality. For example, Federal Reserve Economist Thomas Garrett wrote in 2010: 'It is important to understand that income inequality is a byproduct of a well-functioning capitalist economy. Individuals' earnings are directly related to their productivity ... A wary eye should be cast on policies that aim to shrink the income distribution by redistributing income from the more productive to the less productive simply for the sake of 'fairness.''\",\n  'kp': ['redistributing income sweden reducing',\n   'income sweden reducing inequality',\n   'redistributing income sweden']}]"
     },
     "execution_count": 202,
     "metadata": {},
     "output_type": "execute_result"
    }
   ],
   "source": [
    "# Fix KW extraction\n",
    "# Fix Duplicates\n",
    "# def rank_passages(ev, k=2):\n",
    "#     adus = [i for i in ev[\"argument\"]]\n",
    "#     retrieved = [i for i in ev[\"retrieved\"]]\n",
    "#\n",
    "#     rank_retrieved = []\n",
    "#     count = 0\n",
    "#\n",
    "#     for adu, passages in zip(adus, retrieved):\n",
    "#         count += 1\n",
    "#         scored = []\n",
    "#\n",
    "#         # 5 passages\n",
    "#         for passage in passages[\"passages\"]:\n",
    "#             score = cosine_similarity(str(adu), str(passage))\n",
    "#             scored.append((passage, score))\n",
    "#\n",
    "#         ranked_passages = sorted(scored, key=lambda x: x[1], reverse=True)\n",
    "#         ranked_passages = ranked_passages[0:k]\n",
    "#\n",
    "#         merged = \", \".join(i[0] for i in ranked_passages)\n",
    "#         merged_kp = extract_keyphrase(merged)\n",
    "#         rank_retrieved.append({\"ranked_passages\": merged, \"kp\": merged_kp})\n",
    "#\n",
    "#     return rank_retrieved\n",
    "#\n",
    "# ev = retrieved_ev[0]\n",
    "# rank_passages(ev)"
   ],
   "metadata": {
    "collapsed": false,
    "pycharm": {
     "name": "#%%\n"
    }
   }
  },
  {
   "cell_type": "code",
   "execution_count": 458,
   "outputs": [],
   "source": [
    "# def fuck_you():\n",
    "#     print(\"fuck you\")\n",
    "#\n",
    "# fuck_you()\n",
    "#\n",
    "# def rank_(ev):\n",
    "#     # Index into Retrieved Evidence Object\n",
    "#     ev = ev[0]\n",
    "#     adus = [i for i in ev[0][\"argument\"]]\n",
    "#     retrieved = [i for i in ev[0][\"retrieved\"]]\n",
    "#     k = 3\n",
    "#     print(\"hello\")\n",
    "#     # # Rank k-returned passages for each ADU\n",
    "#     # count = 0\n",
    "#     # r_retrieved = []\n",
    "#     # for adu, passage in zip(adus, retrieved):\n",
    "#     #     count += 1\n",
    "#     #     ranked_passages = []\n",
    "#     #     for _ in passage[\"evidence\"]:\n",
    "#     #         print(_)\n",
    "#     #         ranked_passages.append((_, cosine_similarity(adu, _)))\n",
    "#     #         r_retrieved.append({\"evidence\": i, \"similarity\": k} for i, k in sorted(ranked_passages, key=lambda x: x[1], reverse=True)[0:k])\n",
    "#     #         print(r_retrieved)\n",
    "#\n",
    "#     # return {\n",
    "#     #     \"r_retrieved\": r_retrieved\n",
    "#     # }\n",
    "#\n",
    "# #print(rank_(retrieved_ev[0:1]))"
   ],
   "metadata": {
    "collapsed": false,
    "pycharm": {
     "name": "#%%\n"
    }
   }
  },
  {
   "cell_type": "code",
   "execution_count": 116,
   "outputs": [
    {
     "name": "stderr",
     "output_type": "stream",
     "text": [
      "100%|██████████| 100/100 [00:30<00:00,  3.23it/s]"
     ]
    },
    {
     "name": "stdout",
     "output_type": "stream",
     "text": [
      "30.97145128250122\n"
     ]
    },
    {
     "name": "stderr",
     "output_type": "stream",
     "text": [
      "\n"
     ]
    }
   ],
   "source": [
    "# from multiprocessing.pool import ThreadPool as Pool\n",
    "# from yake import KeywordExtractor\n",
    "# import tqdm.notebook as tqdm\n",
    "# import time\n",
    "# from summa import keywords\n",
    "# from tqdm import tqdm\n",
    "#\n",
    "# ### PASSAGE RANKING; KEYWORD OVERLAP ###\n",
    "# kw_extractor = KeywordExtractor(lan=\"en\", n=3, top=5)\n",
    "#\n",
    "# # TODOs: For each ADU, Rank Merged Evidence using Keyword Overlap and Filter for Contrasting Stance\n",
    "# # TODOs: Handel Multiple Keywords\n",
    "#\n",
    "# def overlap_score(evidence_kp, adu_kp):\n",
    "#     score = 0\n",
    "#     # TODOs: Robust 'None' handeling\n",
    "#     if adu_kp == None:\n",
    "#         return score\n",
    "#     # Split Keyphrase into components, scoring partial units as overlap\n",
    "#     else:\n",
    "#         for i in evidence_kp:\n",
    "#             for j in i.split():\n",
    "#                 # Ensure string value, to enact .find\n",
    "#                 if \", \".join([i for i in adu_kp]).find(j) != -1: score += 1\n",
    "#\n",
    "#                 else: continue\n",
    "#\n",
    "#     return score\n",
    "#\n",
    "# def calculate_overlap(merged_ev, adu_kp):\n",
    "#\n",
    "#     for ev_unit in sentences_segment(merged_ev):\n",
    "#         toks = tokeniser(ev_unit)\n",
    "#         kp_overlap = 0\n",
    "#\n",
    "#         if len(toks) <= 8: continue\n",
    "#\n",
    "#         #ev_unit_kp = [i for i in keywords.keywords(ev_unit).split(\"\\n\")]\n",
    "#         ev_unit_kp = [i[0] for i in kw_extractor.extract_keywords(ev_unit)]\n",
    "#\n",
    "#         if ev_unit_kp:\n",
    "#             kp_overlap = overlap_score(evidence_kp=ev_unit_kp, adu_kp=adu_kp)\n",
    "#\n",
    "#         else: ev_unit_kp = None\n",
    "#         yield ev_unit, ev_unit_kp, kp_overlap\n",
    "#\n",
    "# # pool = Pool(8)\n",
    "# ### RANK PASSAGES ###\n",
    "# def score_passages(ev_):\n",
    "#     adu = ev_[0][\"argument_discourse_unit\"]\n",
    "#     adu_stance = ev_[0][\"adu_stance\"]\n",
    "#     merged_ev = ev_[0][\"merged_evidence\"]\n",
    "#     adu_kp = ev_[0][\"adu_keyphrases\"]\n",
    "#\n",
    "#     ### CALCULATE OVERLAP ###\n",
    "#     for ev_unit, ev_unit_kp, kp_overlap in calculate_overlap(merged_ev, adu_kp):\n",
    "#         target = adu_kp[0]\n",
    "#\n",
    "#         compared_stace = compare_stance(ev_unit, target)\n",
    "#         if compared_stace != adu_stance:\n",
    "#             yield {\n",
    "#                 \"adu\": adu,\n",
    "#                 \"adu_kp\": adu_kp,\n",
    "#                 \"evidence_unit\": ev_unit,\n",
    "#                 \"evidence_kps\": ev_unit_kp,\n",
    "#                 \"overlap\": kp_overlap,\n",
    "#                 \"evidence_stance\": compare_stance(ev_unit, target),\n",
    "#                 \"adu_stance\": adu_stance\n",
    "#             }\n",
    "#\n",
    "#         else: continue\n",
    "#\n",
    "# ### SCORED EVIDENCE ###\n",
    "# def score_evidence(retrieved_evidence):\n",
    "#     for ev_ in retrieved_ev:\n",
    "#         yield [i for i in score_passages(ev_)]\n",
    "#\n",
    "# ### RANKED EVIDENCE ###\n",
    "# def rank_filter_counter_evidence(retireved_evidence, k=3):\n",
    "#     with tqdm(total=(len(retrieved_ev))) as pbar:\n",
    "#         for i in score_evidence(retrieved_ev):\n",
    "#             yield sorted(i, key=lambda y: y[\"overlap\"], reverse=True)[0:k]\n",
    "#\n",
    "#             pbar.update()\n",
    "#\n",
    "#\n",
    "# ### SELECT TOP-K COUNTER-EVIDENCE ###\n",
    "# tic = time.time()\n",
    "# ranked_sorted_evidence = [i for i in rank_filter_counter_evidence(retrieved_ev)]\n",
    "# ranked_sorted_evidence\n",
    "# toc = time.time()\n",
    "#\n",
    "# print(toc - tic)\n",
    "# # TIME 1:20M"
   ],
   "metadata": {
    "collapsed": false,
    "pycharm": {
     "name": "#%%\n"
    }
   }
  },
  {
   "cell_type": "code",
   "execution_count": 250,
   "outputs": [
    {
     "name": "stdout",
     "output_type": "stream",
     "text": [
      "Section I Why is Basic Income Increasingly Popular?\n",
      "['basic income increasingly popular', 'basic income increasingly', 'section basic income increasingly']\n",
      "\n",
      "Brazil. Minimum income has been increasingly accepted by the Brazilian government. In 2004, President Lula da Silva signed into law a bill to establish a universal basic income. Committee member Lady Rhys-Williams argued that the incomes for adults should be more like a basic income. She was also the first to develop the negative income tax model. Her son Brandon Rhys Williams proposed a basic income to a parliamentary committee in 1982, and soon after that in 1984, the Basic Income Research Group, now the Citizen's Basic Income Trust, began to conduct and disseminate research on basic income. Many technology experts and technology entrepreneurs have begun endorsing basic income in the 2000s and 2010s. These include Marshal Brain, Sam Altman, James Hughes, Facebook co-founder Chris Hughes, Elon Musk, and Mark Zuckerberg (in his 2017 Harvard commencement speech), and Jeremy Rifkin. The overriding theme among technologists who favor basic income is the belief that automation is creating an increasingly unstable labor market. Several British academics have been involved in the basic income debate. Among them the following:Organisations. The organisation Basic Income UK is 'a collective of independent people promoting unconditional basic income as a progressive social policy for the United Kingdom, and beyond'. Basic Income. Delaney opposes implementing a basic income (also known as a universal basic income). Minimum wage.\n",
      "['proposed basic income', 'basic income develop', 'basic income uk']\n",
      "Basic income is a policy that has broad support from both the progressive left and libertarian right.\n",
      "['basic income', 'basic income policy', 'basic income policy broad']\n",
      "\n",
      "Several British academics have been involved in the basic income debate. Among them the following:Organisations. The organisation Basic Income UK is 'a collective of independent people promoting unconditional basic income as a progressive social policy for the United Kingdom, and beyond'. In May 2019, a report by Professor Guy Standing, commissioned by the Progressive Economic Forum and forwarded to John McDonnell (the acting Shadow Chancellor of the Exchequer) suggested different models for piloting basic income. Standing's report ('Basic Income as Common Dividends: Piloting a Transformative Policy. A Report for the Shadow Chancellor of the Exchequer)' cites a 'perfect storm' of factors that lead to the need for a basic income: Broad ethical justifications for basic income, which Standing cites as 'social justice, security, freedom and solidarity' are now working in combination with urgent socio-economic demands. A basic income is defined in the report as a policy that guarantees all members of a society a minimum amount of income. One type of basic income considered is the most well-known: a universal basic income (UBI). With a UBI, everyone receives a cash transfer at regular intervals, with no conditions, and no eligibility requirements except residency in the jurisdiction. Congress eventually approved a guaranteed minimum income for the elderly and the disabled. In the mid-1970s the main competitor to basic income and negative income tax, the Earned income tax credit (EITC), or its advocates, won over enough legislators for the US Congress to pass laws on that policy. In 1986, the Basic Income European Network, later renamed to Basic Income Earth Network (BIEN), was founded, with academic conferences every second year. The Queensland Greens were the first Australian party to adopt a Guaranteed Adequate Income (GAI) policy in 1999. Basic Income Guarantee Australia was accepted into the Basic Income Earth Network in 2006 as an affiliate member. In August 2014, ACOSS made a recommendation to simplify the welfare system via a basic income support payment; however, this differs from a universal guaranteed income in that it would still be means-tested.\n",
      "['basic income uk', 'organisation basic income uk', 'basic income uk collective']\n",
      "Centerleft economists including Paul Krugman have endorsed the scheme for various reasons.\n",
      "['paul krugman endorsed scheme', 'economists including paul krugman', 'krugman endorsed scheme various']\n",
      "\n",
      "Paul Krugman. Paul Krugman obtained his B.A. from Yale in 1974 and a PhD in economics from MIT in 1977. Strategic Trade Policy and the New International Economics, ed. Paul Krugman. MIT Press, Cambridge Mass. (with Paul Krugman and Daniel Tsiddon), American Economic Review, December 1993, pp. 1211 1219. 'Technology and Life Cycle of Cities'(with Paul Krugman), Journal of Economic Growth, December 1997, pp. But it's their 'right' to behave like a bunch of utter morons.' On the other hand, many economists and business analysts endorsed the coin as a way to counter threats by congressional Republicans to force the country into default by refusing to raise the debt limit. Paul Krugman said, 'So minting the coin would be undignified, but so what? Later in 2011, Krugman publicly endorsed market monetarist policy recommendations, suggesting 'a Fed regime shift' to 'expectations-based monetary policy,' and commending market monetarism for its focus on nominal GDP. Krugman used the term 'market monetarism' in his widely read blog. Also, in the fourth quarter of 2011, The Milken Institute released a study by Clark Johnson, advocating market monetarist approaches.\n",
      "['krugman said minting coin', 'economics ed paul krugman', 'paul krugman journal economic']\n",
      "BI also reduces inequality by redistributing income from capital to labor.\n",
      "['bi reduces inequality redistributing', 'reduces inequality redistributing income', 'inequality redistributing income capital']\n",
      "\n",
      "Income taxes and cash benefits traditionally play an important role in redistributing income in Sweden, reducing inequality among the working-age population by about 28% (the OECD average [Of what?] is 25%). This redistributive effect has diminished over time, however, as it [What?] Debate continues over whether a public policy response is appropriate to income inequality. For example, Federal Reserve Economist Thomas Garrett wrote in 2010: 'It is important to understand that income inequality is a byproduct of a well-functioning capitalist economy. Individuals' earnings are directly related to their productivity ... A wary eye should be cast on policies that aim to shrink the income distribution by redistributing income from the more productive to the less productive simply for the sake of 'fairness.'' Taxes. Income taxes provide one mechanism for addressing after-tax inequality. Increasing the effective progressivity of income taxes reduces the gap between higher and lower incomes. This suggests that non-EU workers may have a tougher time finding high-skilled jobs than getting low-skilled work. Although income inequality between low-skilled and high-skilled workers is increasing, low-skilled workers are generally very well paid, inequality remains low and the lower and higher classes alike enjoy a very generous universal welfare state. Income taxes and cash benefits traditionally play an important role in redistributing income in Sweden, reducing inequality among the working-age population by about 28% (the OECD average [Of what?] NYU economist William Baumol found that substantial inequality does not stimulate growth because poverty reduces labor force productivity. Economists Dierk Herzer and Sebastian Vollmer found that increased income inequality reduces economic growth, but growth itself increases income inequality. A 1996 study by Perotti examined the channels through which inequality may affect economic growth.\n",
      "['income sweden reducing inequality', 'redistributing income sweden reducing', 'redistributing income sweden']\n"
     ]
    }
   ],
   "source": [
    "# idx = 2\n",
    "# for ln in retrieved_ev:\n",
    "#     r = ln[0]\n",
    "#     for _ in range(0, len(r[\"argument\"])):\n",
    "#         print(r[\"argument\"][_][\"sentence\"])\n",
    "#         print(r[\"argument\"][_][\"kp\"])\n",
    "#         print(\"\")\n",
    "#         print(r[\"retrieved\"][_][\"evidence\"])\n",
    "#         print(r[\"retrieved\"][_][\"kp\"])\n",
    "\n",
    "#\"counter\": {\"counter\": arg[\"counter\"][\"counter\"], \"counter_kp\": arg[\"counter\"][\"counter_keyphrases\"]}\n",
    "# \"argument_discourse_unit\": adu,\n",
    "# \"query\": query,\n",
    "# \"adu_keyphrases\": [i for i in kp],\n",
    "# \"adu_stance\": sentence_stance(adu, kp),\n",
    "# \"merged_evidence\": \", \".join(ln for ln in evidence)\n",
    "# \"retrieved_documents_titles\": titles,\n",
    "# \"retrieved_evidence\": evidence,"
   ],
   "metadata": {
    "collapsed": false,
    "pycharm": {
     "name": "#%%\n"
    }
   }
  },
  {
   "cell_type": "code",
   "execution_count": null,
   "outputs": [],
   "source": [
    "# # TODOs: Speed-up, Parrelleise, Yield\n",
    "# def overlap_score(evidence_kp, adu_kp):\n",
    "#     score = 0\n",
    "\n",
    "#     # Split Keyphrase into components, scoring partial units as overlap\n",
    "#     for i in evidence_kp:\n",
    "#         for j in i.split():\n",
    "#             # Ensure string value, to enact .find\n",
    "#             if \" \".join(adu_kp).find(j) != -1: score += 1\n",
    "\n",
    "#             else: continue\n",
    "\n",
    "#     return score\n",
    "\n",
    "# ev_units = evidence\n",
    "# adu_kp = extract_keyphrase(adu)\n",
    "\n",
    "# adu_ev_overlap = []\n",
    "\n",
    "# kp_1 = ['sex', 'relationship', 'opportunity']\n",
    "# kp_2 = ['better sex']\n",
    "\n",
    "# overlap_score(kp_2, kp_1)\n",
    "\n",
    "# for ev_unit in evidence:\n",
    "#     #print(ev_unit)\n",
    "#     toks = tokeniser(ev_unit)\n",
    "\n",
    "#     # Exprimental Value\n",
    "#     if len(toks) <= 8:\n",
    "#         continue\n",
    "\n",
    "#     ev_unit_kp = extract_keyphrase(ev_unit)\n",
    "#     kp_overlap = overlap_score(evidence_kp=ev_unit_kp, adu_kp=adu_kp)\n",
    "\n",
    "#     adu_ev_overlap.append({\n",
    "#         \"adu\": adu,\n",
    "#         \"adu_kp\": adu_kp,\n",
    "#         \"ev_unit\": ev_unit,\n",
    "#         \"ev_unit_kp\": ev_unit_kp,\n",
    "#         \"kp_overlap\": kp_overlap\n",
    "\n",
    "#         })\n",
    "\n",
    "# adu_ev_overlap"
   ],
   "metadata": {
    "collapsed": false,
    "pycharm": {
     "name": "#%%\n"
    }
   }
  },
  {
   "cell_type": "code",
   "execution_count": null,
   "metadata": {
    "pycharm": {
     "name": "#%%\n"
    }
   },
   "outputs": [],
   "source": [
    "# ### OVERLAP RANKED EVIDENCE ###\n",
    "\n",
    "# adu_ev_overlap.sort(key=lambda y: y[\"kp_overlap\"], reverse=True)\n",
    "# adu_ev_overlap\n",
    "\n",
    "# ### FILTER IRRELEVANT EVIDENCE ###\n",
    "# overlapping = [i for i in adu_ev_overlap if i[\"kp_overlap\"] !=0]\n",
    "\n",
    "# len(adu_ev_overlap), len(overlapping)\n",
    "# overlapping\n"
   ]
  },
  {
   "cell_type": "code",
   "execution_count": 15,
   "outputs": [
    {
     "data": {
      "text/plain": "'PRO'"
     },
     "execution_count": 15,
     "metadata": {},
     "output_type": "execute_result"
    }
   ],
   "source": [
    "# Stance Test\n",
    "# adu = 'I cant remember the topic that spurred this discussion but a friend and I were debating whether manmade things were natural.'\n",
    "# ev_unit = 'In this essay, Mill argues the idea that the morality of an action can be judged by whether it is natural or unnatural.'\n",
    "# target = 'natural things'\n",
    "#\n",
    "# stance = compare_stance(ev_unit, target)\n",
    "# stance"
   ],
   "metadata": {
    "collapsed": false,
    "pycharm": {
     "name": "#%%\n"
    }
   }
  },
  {
   "cell_type": "code",
   "execution_count": null,
   "metadata": {
    "pycharm": {
     "name": "#%%\n"
    }
   },
   "outputs": [],
   "source": [
    "# ### ASSERT SAME STANCE ###\n",
    "# from detection.stance_classifier import sentence_stance, compare_stance\n",
    "#\n",
    "# # TODOs: Ensure KPs Extracts are constrained to 1 unit\n",
    "# opposing_stance = []\n",
    "# for i in overlapping:\n",
    "#     adu = i[\"adu\"]\n",
    "#     target = \" \".join(i for i in i[\"adu_kp\"])\n",
    "#     ev_unit = i[\"ev_unit\"]\n",
    "#\n",
    "#     ev_stance = compare_stance(ev_unit, ev_unit, target)\n",
    "#     adu_stance = sentence_stance(adu, target)\n",
    "#\n",
    "#     if ev_stance != adu_stance:\n",
    "#         opposing_stance.append((ev_unit, ev_stance, adu_stance))\n",
    "#\n",
    "#     else: continue\n",
    "#\n",
    "# opposing_stance"
   ]
  },
  {
   "cell_type": "code",
   "execution_count": null,
   "metadata": {
    "pycharm": {
     "name": "#%%\n"
    }
   },
   "outputs": [],
   "source": [
    "### RANKING ###\n",
    "\n",
    "# TODOs: Speed-up, Parrelleise, Yield\n",
    "# ev_units = evidence\n",
    "# adu_kp = extract_keyphrase(adu)\n",
    "\n",
    "# adu_ev_overlap = []\n",
    "\n",
    "# kp_1 = ['sex', 'relationship', 'opportunity'] \n",
    "# kp_2 = ['better sex']\n",
    "\n",
    "# overlap_score(kp_2, kp_1)\n",
    "\n",
    "# for ev_unit in evidence:\n",
    "#     #print(ev_unit)\n",
    "#     toks = tokeniser(ev_unit)\n",
    "\n",
    "#     # Exprimental Value\n",
    "#     if len(toks) <= 8:\n",
    "#         continue\n",
    "    \n",
    "#     ev_unit_kp = extract_keyphrase(ev_unit)\n",
    "#     kp_overlap = overlap_score(evidence_kp=ev_unit_kp, adu_kp=adu_kp)\n",
    "    \n",
    "#     adu_ev_overlap.append({\n",
    "#         \"adu\": adu, \n",
    "#         \"adu_kp\": adu_kp,\n",
    "#         \"ev_unit\": ev_unit,\n",
    "#         \"ev_unit_kp\": ev_unit_kp, \n",
    "#         \"kp_overlap\": kp_overlap\n",
    "        \n",
    "#         })\n",
    "        \n",
    "# adu_ev_overlap\n",
    "\n",
    "\n",
    "#rank_passages(retrieved_ev)"
   ]
  },
  {
   "cell_type": "code",
   "execution_count": null,
   "metadata": {
    "pycharm": {
     "name": "#%%\n"
    }
   },
   "outputs": [],
   "source": [
    "# import spacy\n",
    "# from spacy.matcher import PhraseMatcher\n",
    "# from fuzzywuzzy import fuzz, process\n",
    "\n",
    "# # TODOs: Package as a Module\n",
    "# # TODOs: Handle Negation (Polarity shifters)\n",
    "# # TODOs: Review Unsuperived Approach; Consider adveanced patterns and common-sence knowledge\n",
    "\n",
    "# nlp = spacy.load(\"en_core_web_sm\")\n",
    "\n",
    "# sentence = \"I hate abortion rights. Abortions should be banned.\"\n",
    "# sentence_2 = \"I like abortion rights. I belive we should keep them.\"\n",
    "# sentence_3 = \"I hate tennis. People should play tennis more often\"\n",
    "\n",
    "# ### STANCE SCORING ###\n",
    "\n",
    "# # TODOs: https://www.cs.uic.edu/~liub/FBS/opinion-mining-final-WSDM.pdf \n",
    "# # TODOs: Pattern based Negation\n",
    "# # TODOs: Semantic Orientation of an opinion (Claim)\n",
    "# # TODOs:Group synonyms of 'features', 'targets'\n",
    "\n",
    "# phrase_matcher = PhraseMatcher(nlp.vocab)\n",
    "\n",
    "# ### SENTIMENT LEXICONS ###\n",
    "# pos = [w.replace(\"\\n\", \"\") for w in open(\"../../data/lexicon/positive_lex.txt\")]\n",
    "# neg = [w.replace(\"\\n\", \"\") for w in open(\"../../data/lexicon/negative_lex.txt\")]\n",
    "# polarity_shifters = [w.replace(\"\\n\", \"\") for w in open(\"../../data/lexicon/shifter_lexicon.txt\")]\n",
    "\n",
    "# ### STANCE: ASPECT-SEMANTIC ORIENTATION ###\n",
    "# def extract_aspect(sentence, n_gram):\n",
    "#     aspects = extract_keyphrase(str(sentence))[0]\n",
    "\n",
    "#     return nlp(aspects)\n",
    "\n",
    "# def index_aspect(phrase, aspect, sentence):    \n",
    "#     patterns = [nlp(aspect)]\n",
    "#     phrase_matcher.add(phrase, None, *patterns)\n",
    "\n",
    "#     start = 0\n",
    "#     stop = 0\n",
    "\n",
    "#     matched_phrases = phrase_matcher(sentence)\n",
    "#     for i in matched_phrases:\n",
    "#         _, start, stop = i\n",
    "        \n",
    "#     return start, stop\n",
    "\n",
    "# # TODOs: Implement Polarity Shifters, Simple\n",
    "# # TODOs: Implement Polarity Shifters, Complex, Verb Patterns\n",
    "# def stance_score(start, stop, sentence):\n",
    "#     pos_score = 0.0\n",
    "#     neg_score = 0.0\n",
    "\n",
    "#     score = 0\n",
    "#     for idx, tok in enumerate(sentence):\n",
    "#         if idx == start or idx == stop:\n",
    "#             continue\n",
    "\n",
    "#         # TODOs: Implement Polarity Shift\n",
    "#         # TODOs: Experiement with descriptive term + keyphrase aspects\n",
    "#         # TODOs: ABSA https://www.kaggle.com/code/phiitm/aspect-based-sentiment-analysis\n",
    "#         # Use external libaray: Textblob\n",
    "        \n",
    "#         k = 8\n",
    "#         # Negation Rules\n",
    "#         shifted_tok = None\n",
    "#         shifted_toks = []\n",
    "\n",
    "#         if (tok.dep_ == \"neg\") or (tok.dep_ in polarity_shifters):\n",
    "#             #Shift to Negative\n",
    "#             if idx <= k:\n",
    "#                 if idx < start: neg_score += 1/(start - idx)\n",
    "#                 else: neg_score += 1/(idx - stop)**0.5\n",
    "\n",
    "#             if shifted_tok != None and shifted_tok in neg:\n",
    "#                 print(shifted_tok.text)\n",
    "#                 # Shift to Positive\n",
    "#                 if idx < start: pos_score += 1/(start - idx)\n",
    "#                 elif idx > start: pos_score += 1/(idx - stop)**0.5\n",
    "#                 else: continue\n",
    "\n",
    "#         # Aspect Sentement Orientation\n",
    "#         if tok.text in pos:\n",
    "#             if tok in shifted_toks:\n",
    "#                 continue\n",
    "            \n",
    "#             if idx < start: pos_score += 1/(start - idx)\n",
    "#             else: pos_score += 1/(idx - stop)**0.5\n",
    "\n",
    "#         if tok.text in neg:\n",
    "#             if tok in shifted_toks:\n",
    "#                 continue\n",
    "\n",
    "#             if idx <= start: neg_score += 1/(start - idx)\n",
    "#             else: neg_score += 1/(idx - stop)**0.5\n",
    "    \n",
    "#     score = pos_score - neg_score /(pos_score + neg_score + 1)\n",
    "\n",
    "#     return score\n",
    "\n",
    "# def overlap_score(evidence_kp, adu_kp):\n",
    "#     score = 0\n",
    "    \n",
    "#     # Split Keyphrase into components, scoring partial units as overlap\n",
    "#     for i in evidence_kp:\n",
    "#         for j in i.split():\n",
    "#             # Ensure string value, to enact .find\n",
    "#             if \" \".join(adu_kp).find(j) != -1: \n",
    "#                 score += 1\n",
    "#                 token = j\n",
    "            \n",
    "#             else: continue\n",
    "    \n",
    "#     return score\n",
    "\n",
    "# def get_overlapping_token(evidence_kp, adu_kp):\n",
    "#     for i in evidence_kp:\n",
    "#         overlap_tokens = []\n",
    "#         for j in i.split():\n",
    "#             if \" \".join(adu_kp).find(j) != -1: \n",
    "#                 overlap_tokens.append(j) \n",
    "            \n",
    "#         return \" \".join(i for i in overlap_tokens)\n",
    "\n",
    "# def sentence_stance(sentence, aspect):\n",
    "#     sentence = nlp(sentence)\n",
    "\n",
    "#     start, stop = index_aspect(\"aspects\", aspect, sentence)\n",
    "#     score = stance_score(start, stop, sentence)\n",
    "\n",
    "#     # Add Neutral\n",
    "#     #stance = {\"claim\": sentence, \"stance\": \"PRO\", \"aspect\": aspect} if score > 0 else {\"claim\": sentence, \"stance\": \"CON\", \"aspect\": aspect}\n",
    "    \n",
    "#     return \"PRO\" if score > 0 else \"CON\"\n",
    "\n",
    "# def fuzzy_match(target, evidence_unit):\n",
    "\n",
    "#     overlapping_aspect = process.extractOne(target, ev.split())[0]\n",
    "#     score = overlapping_aspect[1]\n",
    "\n",
    "#     overlapping_aspect = nlp(re.sub(r'[^\\w]', ' ', overlapping_aspect))\n",
    "\n",
    "#     return overlapping_aspect, score\n",
    "\n",
    "# def compare_stance(ev_unit, evidence_aspect, adu_target):\n",
    "#     # Note: Already identified mathcing or partially matching Aspects. \n",
    "\n",
    "#     # Get the overlapping evidence aspect-target.\n",
    "#     overlapping_target, score = fuzzy_match(target=adu_aspect, evidence_unit=ev)\n",
    "    \n",
    "#     # Get position of the overlapping_target\n",
    "#     start, stop = index_aspect(\"OVERLAP\", nlp(overlapping_target), nlp(ev_unit))\n",
    "\n",
    "#     # Assert Stance towards evidence aspect\n",
    "#     score = stance_score(start, stop, nlp(ev_unit))\n",
    "    \n",
    "#     return \"PRO\" if score > 0 else \"CON\"\n",
    "\n",
    "# ev = \"These simple ideas and techniques could help both you and your lover enjoy sex. 1 / 10 Getty Images/Caiaimage Think beyond the thrust.\"\n",
    "# ev_aspect = \"sex\", \"relationship\", \"opportunity\"\n",
    "\n",
    "# adu = 'Hello! Let me preface by saying I dont believe there is a better sex.'\n",
    "# adu_aspect = \"better sex\"\n",
    "\n",
    "# print(sentence_stance(\"The mutual trust and understanding you share with your partner will lead to better sex, but that's not the only reason sex can be better when you're not in a relationship.\", adu_aspect))\n",
    "# print(compare_stance(ev, ev_aspect, adu_aspect))\n"
   ]
  },
  {
   "cell_type": "code",
   "execution_count": null,
   "metadata": {
    "pycharm": {
     "name": "#%%\n"
    }
   },
   "outputs": [],
   "source": [
    "# from spacy.matcher import DependencyMatcher, Matcher\n",
    "# matcher = Matcher(vocab=nlp.vocab)\n",
    "# matcher\n",
    "\n",
    "# # Matching Rule: Pronouns with Verbs that follow them\n",
    "# aspect = \"better sex\"\n",
    "# patterns = [\n",
    "#     [{\"DEP\": \"neg\"}, {\"LOWER\": aspect}],\n",
    "#     [{\"DEP\": \"neg\"}, {\"POS\": \"ADJ\"}, {\"LOWER\": aspect}],\n",
    "#     [{\"POS\": \"VERB\"}, {\"POS\": \"ADJ\"}, {\"LOWER\": aspect}],\n",
    "#     [{\"LOWER\": aspect.lower()}]\n",
    "# ]\n",
    "\n",
    "# test = nlp(\"Hello! Let me preface by saying I dont believe there is a not better sex.\")\n",
    "# test_2 = nlp(\"These simple ideas and techniques could help both you and your lover enjoy better sex.\")\n",
    "\n",
    "# matcher.add(\"test\", patterns=patterns)\n",
    "# result = matcher(test_2, as_spans=True)\n",
    "\n",
    "# result\n",
    "\n",
    "# # for tok in test:\n",
    "# #     print(tok.i, tok, tok.pos_, tok.dep_, tok.head.i, sep=\"\\t\")"
   ]
  },
  {
   "cell_type": "code",
   "execution_count": null,
   "metadata": {
    "pycharm": {
     "name": "#%%\n"
    }
   },
   "outputs": [],
   "source": [
    "### TARGETED RETRIEVAL: ATTACKING PEMISES ###\n",
    "\n",
    "# from BERT_adu_classifier import predict\n",
    "\n",
    "# premises = []\n",
    "# for sent in sentences:\n",
    "#     prediction = predict(sent)\n",
    "    \n",
    "#     if prediction == \"premise\":\n",
    "#         premises.append(sent)"
   ]
  }
 ],
 "metadata": {
  "kernelspec": {
   "name": "python3",
   "language": "python",
   "display_name": "Python 3 (ipykernel)"
  },
  "language_info": {
   "codemirror_mode": {
    "name": "ipython",
    "version": 3
   },
   "file_extension": ".py",
   "mimetype": "text/x-python",
   "name": "python",
   "nbconvert_exporter": "python",
   "pygments_lexer": "ipython3",
   "version": "3.10.6"
  },
  "orig_nbformat": 4,
  "vscode": {
   "interpreter": {
    "hash": "1b747fec5972a5a28202124dfae2950631b4721a6e18efe99aaae23c73408484"
   }
  }
 },
 "nbformat": 4,
 "nbformat_minor": 2
}