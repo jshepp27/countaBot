{
 "cells": [
  {
   "cell_type": "code",
   "execution_count": 1,
   "metadata": {
    "pycharm": {
     "name": "#%%\n"
    }
   },
   "outputs": [
    {
     "name": "stderr",
     "output_type": "stream",
     "text": [
      "INFO:src.utils_.elastic_db:Connecting to http://localhost:9200 \n",
      "INFO:src.utils_.elastic_db:Connected to <Elasticsearch(['http://localhost:9200'])> \n"
     ]
    }
   ],
   "source": [
    "from src.utils_.elastic_db import ElasticDB\n",
    "\n",
    "# INIT DB OBJECT\n",
    "PORT = \"http://localhost:9200\"\n",
    "db = ElasticDB(elastic_port=PORT)"
   ]
  },
  {
   "cell_type": "code",
   "execution_count": 34,
   "metadata": {
    "pycharm": {
     "name": "#%%\n"
    }
   },
   "outputs": [],
   "source": [
    "### LOAD DATASETS ###\n",
    "import json\n",
    "import random\n",
    "\n",
    "args = [json.loads(ln) for ln in open(\"../data/cmv_processed.jsonl\")]\n",
    "topics = [json.loads(ln) for ln in open(\"../data/argument_topic_concept.jsonl\")]"
   ]
  },
  {
   "cell_type": "code",
   "execution_count": 3,
   "outputs": [
    {
     "data": {
      "text/plain": "(5990, 10303)"
     },
     "execution_count": 3,
     "metadata": {},
     "output_type": "execute_result"
    }
   ],
   "source": [
    "len(topics), len(args)"
   ],
   "metadata": {
    "collapsed": false,
    "pycharm": {
     "name": "#%%\n"
    }
   }
  },
  {
   "cell_type": "code",
   "execution_count": 4,
   "metadata": {
    "pycharm": {
     "name": "#%%\n"
    }
   },
   "outputs": [
    {
     "name": "stdout",
     "output_type": "stream",
     "text": [
      "59\n",
      "There Are Only Two Genders \n",
      "\n",
      "So to go ahead and clear something before you guys start thinking Im transphobic Im not. I support females having sex changes and males having sex changes if they choose to do so.There are only two genders and sexes. Can there be feminine males and masculine females? Yes absolutelyMales can like the color pink and like other feminine products but they are still a man because of their genitalia. Females can like trucks and like hunting and other masculine things but they are still a female.Now can a female become a male?\n"
     ]
    }
   ],
   "source": [
    "### SUBJECT ARG ###\n",
    "import random\n",
    "_ = random.randint(0, 99)\n",
    "\n",
    "claim = args[_][\"claim\"]\n",
    "arg = args[_][\"argument\"][\"argument\"]\n",
    "\n",
    "print(_)\n",
    "print(claim, \"\\n\")\n",
    "print(arg)"
   ]
  },
  {
   "cell_type": "code",
   "execution_count": 5,
   "outputs": [],
   "source": [
    "### TODOs ###\n",
    "\n",
    "# TODOs: News Data\n",
    "# TODOs: Commonsense Query and Concept Expansion: Topics, Concepts, Synonyms\n",
    "# TODOs: Cosine Semantic Search\n",
    "# TODOs: Research: Evidence Retrieval, Infor Retrieval, Context Aware, Neural Retrieval\n",
    "# TODOs: Targeted Retrieval with NLI over ADUs, Premises, Claims; discard non-ADUs.\n",
    "# TODOs: Parallel process\n",
    "# TODOs: Prior tokenization and sentence segmentation to speed processing\n",
    "# TODOs: Domain Restrict. Polarising social and political debate (Class labelling) only for higher-quality argument-knowledge set.\n",
    "# TODOs: News, Political, Sociology and 'Good', 'Positive' counter-evidence Knowledge Base.\n",
    "# TODOs: Bag of Topics Modelling\n",
    "\n",
    "# TODOs: Implement as a Class\n",
    "# TODOs: Implement Logging\n",
    "\n",
    "# TODOs: Implement Semantic Search: https://www.elastic.co/blog/text-similarity-search-with-vectors-in-elasticsearch\n",
    "# TODOs: Implement Semantic Ranking"
   ],
   "metadata": {
    "collapsed": false,
    "pycharm": {
     "name": "#%%\n"
    }
   }
  },
  {
   "cell_type": "code",
   "execution_count": 6,
   "metadata": {
    "pycharm": {
     "name": "#%%\n"
    }
   },
   "outputs": [
    {
     "name": "stdout",
     "output_type": "stream",
     "text": [
      "['hello', ',', 'my', 'name', 'is', 'Josh', '!']\n",
      "['hello, my name is Josh!', 'How are you doing today?', \"I'm curious ... will this line seperate?\", \"I'm not so sure Dr.\", 'Evil']\n"
     ]
    }
   ],
   "source": [
    "### NLP FUNCTIONS ###\n",
    "import re\n",
    "from nltk.tokenize import sent_tokenize, word_tokenize\n",
    "\n",
    "def tokeniser(doc):\n",
    "    return word_tokenize(doc)\n",
    "\n",
    "def sentences_segment(doc):\n",
    "    return sent_tokenize(doc)\n",
    "\n",
    "# Test Statements\n",
    "print(tokeniser(\"hello, my name is Josh!\"))\n",
    "print(sentences_segment(\"hello, my name is Josh! How are you doing today? I'm curious ... will this line seperate? I'm not so sure Dr. Evil\"))"
   ]
  },
  {
   "cell_type": "code",
   "execution_count": 7,
   "outputs": [
    {
     "name": "stderr",
     "output_type": "stream",
     "text": [
      "INFO:sentence_transformers.SentenceTransformer:Load pretrained SentenceTransformer: all-MiniLM-L6-v2\n",
      "INFO:sentence_transformers.SentenceTransformer:Use pytorch device: cpu\n"
     ]
    }
   ],
   "source": [
    "from keybert import KeyBERT\n",
    "from keyphrase_vectorizers import KeyphraseCountVectorizer\n",
    "\n",
    "kb = KeyBERT()\n",
    "def extract_keyphrase(doc, n_gram=3, n_kp=3, use_mmr=\"False\", use_maxsum=\"False\"):\n",
    "    kp = kb.extract_keywords(doc, vectorizer=KeyphraseCountVectorizer(), stop_words=\"english\", diversity=0.2,)\n",
    "\n",
    "    return [i[0] for i in kp[0:n_kp]] if kp else None"
   ],
   "metadata": {
    "collapsed": false,
    "pycharm": {
     "name": "#%%\n"
    }
   }
  },
  {
   "cell_type": "code",
   "execution_count": 24,
   "metadata": {
    "pycharm": {
     "name": "#%%\n"
    }
   },
   "outputs": [
    {
     "name": "stderr",
     "output_type": "stream",
     "text": [
      "INFO:elastic_transport.transport:POST http://localhost:9200/*/_search [status:200 duration:0.047s]\n"
     ]
    },
    {
     "name": "stdout",
     "output_type": "stream",
     "text": [
      "['incomes policy', 'basic income', 'section']\n"
     ]
    },
    {
     "name": "stderr",
     "output_type": "stream",
     "text": [
      "INFO:elastic_transport.transport:POST http://localhost:9200/*/_search [status:200 duration:0.033s]\n"
     ]
    },
    {
     "name": "stdout",
     "output_type": "stream",
     "text": [
      "['incomes policy', 'basic income', 'section']\n"
     ]
    },
    {
     "name": "stderr",
     "output_type": "stream",
     "text": [
      "INFO:elastic_transport.transport:POST http://localhost:9200/*/_search [status:200 duration:0.040s]\n"
     ]
    },
    {
     "name": "stdout",
     "output_type": "stream",
     "text": [
      "['incomes policy', 'basic income', 'section']\n"
     ]
    },
    {
     "name": "stderr",
     "output_type": "stream",
     "text": [
      "INFO:elastic_transport.transport:POST http://localhost:9200/*/_search [status:200 duration:0.024s]\n"
     ]
    },
    {
     "name": "stdout",
     "output_type": "stream",
     "text": [
      "['incomes policy', 'basic income', 'section']\n"
     ]
    },
    {
     "name": "stderr",
     "output_type": "stream",
     "text": [
      "INFO:elastic_transport.transport:POST http://localhost:9200/*/_search [status:200 duration:0.016s]\n"
     ]
    },
    {
     "name": "stdout",
     "output_type": "stream",
     "text": [
      "['couples', 'romance', 'legitimate emotional bond', 'relationship']\n"
     ]
    },
    {
     "name": "stderr",
     "output_type": "stream",
     "text": [
      "INFO:elastic_transport.transport:POST http://localhost:9200/*/_search [status:200 duration:0.029s]\n"
     ]
    },
    {
     "name": "stdout",
     "output_type": "stream",
     "text": [
      "['couples', 'romance', 'legitimate emotional bond', 'relationship']\n",
      "['deltas', 'useful points', 'replies']\n"
     ]
    },
    {
     "name": "stderr",
     "output_type": "stream",
     "text": [
      "INFO:elastic_transport.transport:POST http://localhost:9200/*/_search [status:200 duration:0.451s]\n",
      "INFO:elastic_transport.transport:POST http://localhost:9200/*/_search [status:200 duration:0.031s]\n"
     ]
    },
    {
     "name": "stdout",
     "output_type": "stream",
     "text": [
      "['deltas', 'useful points', 'replies']\n"
     ]
    },
    {
     "name": "stderr",
     "output_type": "stream",
     "text": [
      "INFO:elastic_transport.transport:POST http://localhost:9200/*/_search [status:200 duration:0.029s]\n"
     ]
    },
    {
     "name": "stdout",
     "output_type": "stream",
     "text": [
      "['deltas', 'useful points', 'replies']\n"
     ]
    },
    {
     "name": "stderr",
     "output_type": "stream",
     "text": [
      "INFO:elastic_transport.transport:POST http://localhost:9200/*/_search [status:200 duration:0.031s]\n"
     ]
    },
    {
     "name": "stdout",
     "output_type": "stream",
     "text": [
      "['deltas', 'useful points', 'replies']\n",
      "['terrorist groups', 'terrorists', 'oregon', 'people']\n"
     ]
    },
    {
     "name": "stderr",
     "output_type": "stream",
     "text": [
      "INFO:elastic_transport.transport:POST http://localhost:9200/*/_search [status:200 duration:0.696s]\n",
      "INFO:elastic_transport.transport:POST http://localhost:9200/*/_search [status:200 duration:0.038s]\n"
     ]
    },
    {
     "name": "stdout",
     "output_type": "stream",
     "text": [
      "['terrorist groups', 'terrorists', 'oregon', 'people']\n"
     ]
    },
    {
     "name": "stderr",
     "output_type": "stream",
     "text": [
      "INFO:elastic_transport.transport:POST http://localhost:9200/*/_search [status:200 duration:0.040s]\n"
     ]
    },
    {
     "name": "stdout",
     "output_type": "stream",
     "text": [
      "['terrorist groups', 'terrorists', 'oregon', 'people']\n",
      "['microsoft windows', 'microsoft', 'rant']\n"
     ]
    },
    {
     "name": "stderr",
     "output_type": "stream",
     "text": [
      "INFO:elastic_transport.transport:POST http://localhost:9200/*/_search [status:200 duration:0.417s]\n",
      "INFO:elastic_transport.transport:POST http://localhost:9200/*/_search [status:200 duration:0.028s]\n"
     ]
    },
    {
     "name": "stdout",
     "output_type": "stream",
     "text": [
      "['microsoft windows', 'microsoft', 'rant']\n"
     ]
    },
    {
     "name": "stderr",
     "output_type": "stream",
     "text": [
      "INFO:elastic_transport.transport:POST http://localhost:9200/*/_search [status:200 duration:0.010s]\n"
     ]
    },
    {
     "name": "stdout",
     "output_type": "stream",
     "text": [
      "['microsoft windows', 'microsoft', 'rant']\n"
     ]
    },
    {
     "name": "stderr",
     "output_type": "stream",
     "text": [
      "INFO:elastic_transport.transport:POST http://localhost:9200/*/_search [status:200 duration:0.025s]\n"
     ]
    },
    {
     "name": "stdout",
     "output_type": "stream",
     "text": [
      "['microsoft windows', 'microsoft', 'rant']\n",
      "['ubi', 'welfare system', 'wealth']\n"
     ]
    },
    {
     "name": "stderr",
     "output_type": "stream",
     "text": [
      "INFO:elastic_transport.transport:POST http://localhost:9200/*/_search [status:200 duration:0.435s]\n",
      "INFO:elastic_transport.transport:POST http://localhost:9200/*/_search [status:200 duration:0.012s]\n"
     ]
    },
    {
     "name": "stdout",
     "output_type": "stream",
     "text": [
      "['ubi', 'welfare system', 'wealth']\n",
      "['intelligence', 'subsaharan african heritage', 'white people']\n"
     ]
    },
    {
     "name": "stderr",
     "output_type": "stream",
     "text": [
      "INFO:elastic_transport.transport:POST http://localhost:9200/*/_search [status:200 duration:0.712s]\n"
     ]
    },
    {
     "name": "stdout",
     "output_type": "stream",
     "text": [
      "['police brutality', 'police', 'force']\n"
     ]
    },
    {
     "name": "stderr",
     "output_type": "stream",
     "text": [
      "INFO:elastic_transport.transport:POST http://localhost:9200/*/_search [status:200 duration:0.385s]\n"
     ]
    },
    {
     "name": "stdout",
     "output_type": "stream",
     "text": [
      "['nazism', 'nazism', 'note']\n"
     ]
    },
    {
     "name": "stderr",
     "output_type": "stream",
     "text": [
      "INFO:elastic_transport.transport:POST http://localhost:9200/*/_search [status:200 duration:0.207s]\n"
     ]
    },
    {
     "name": "stdout",
     "output_type": "stream",
     "text": [
      "['international development', 'complex social issues', 'general failure', 'tasteless trend']\n"
     ]
    },
    {
     "name": "stderr",
     "output_type": "stream",
     "text": [
      "INFO:elastic_transport.transport:POST http://localhost:9200/*/_search [status:200 duration:1.276s]\n"
     ]
    },
    {
     "name": "stdout",
     "output_type": "stream",
     "text": [
      "['black culture awareness week', 'black history month', 'university']\n"
     ]
    },
    {
     "name": "stderr",
     "output_type": "stream",
     "text": [
      "INFO:elastic_transport.transport:POST http://localhost:9200/*/_search [status:200 duration:0.867s]\n"
     ]
    },
    {
     "name": "stdout",
     "output_type": "stream",
     "text": [
      "['cheerleading', 'view', 'thoughts', 'way']\n"
     ]
    },
    {
     "name": "stderr",
     "output_type": "stream",
     "text": [
      "INFO:elastic_transport.transport:POST http://localhost:9200/*/_search [status:200 duration:0.494s]\n",
      "INFO:elastic_transport.transport:POST http://localhost:9200/*/_search [status:200 duration:0.042s]\n"
     ]
    },
    {
     "name": "stdout",
     "output_type": "stream",
     "text": [
      "['cheerleading', 'view', 'thoughts', 'way']\n",
      "['heritability of iq', 'racial iq gap', 'bell curve', 'prominent races']\n"
     ]
    },
    {
     "name": "stderr",
     "output_type": "stream",
     "text": [
      "INFO:elastic_transport.transport:POST http://localhost:9200/*/_search [status:200 duration:1.190s]\n",
      "INFO:elastic_transport.transport:POST http://localhost:9200/*/_search [status:200 duration:0.032s]\n"
     ]
    },
    {
     "name": "stdout",
     "output_type": "stream",
     "text": [
      "['heritability of iq', 'racial iq gap', 'bell curve', 'prominent races']\n",
      "['right to silence', 'words', 'ideas']\n"
     ]
    },
    {
     "name": "stderr",
     "output_type": "stream",
     "text": [
      "INFO:elastic_transport.transport:POST http://localhost:9200/*/_search [status:200 duration:1.505s]\n"
     ]
    },
    {
     "name": "stdout",
     "output_type": "stream",
     "text": [
      "['average english speaker', 'educators', 'accents']\n"
     ]
    },
    {
     "name": "stderr",
     "output_type": "stream",
     "text": [
      "INFO:elastic_transport.transport:POST http://localhost:9200/*/_search [status:200 duration:0.409s]\n"
     ]
    },
    {
     "name": "stdout",
     "output_type": "stream",
     "text": [
      "['supranational union', 'union', 'squib', 'significant likelihood']\n"
     ]
    },
    {
     "name": "stderr",
     "output_type": "stream",
     "text": [
      "INFO:elastic_transport.transport:POST http://localhost:9200/*/_search [status:200 duration:0.345s]\n",
      "INFO:elastic_transport.transport:POST http://localhost:9200/*/_search [status:200 duration:0.035s]\n"
     ]
    },
    {
     "name": "stdout",
     "output_type": "stream",
     "text": [
      "['supranational union', 'union', 'squib', 'significant likelihood']\n"
     ]
    },
    {
     "name": "stderr",
     "output_type": "stream",
     "text": [
      "INFO:elastic_transport.transport:POST http://localhost:9200/*/_search [status:200 duration:0.043s]\n"
     ]
    },
    {
     "name": "stdout",
     "output_type": "stream",
     "text": [
      "['supranational union', 'union', 'squib', 'significant likelihood']\n",
      "['america', 'years', 'worth']\n"
     ]
    },
    {
     "name": "stderr",
     "output_type": "stream",
     "text": [
      "INFO:elastic_transport.transport:POST http://localhost:9200/*/_search [status:200 duration:0.491s]\n",
      "INFO:elastic_transport.transport:POST http://localhost:9200/*/_search [status:200 duration:0.026s]\n"
     ]
    },
    {
     "name": "stdout",
     "output_type": "stream",
     "text": [
      "['america', 'years', 'worth']\n",
      "['crusades', 'religion', 'step', 'world']\n"
     ]
    },
    {
     "name": "stderr",
     "output_type": "stream",
     "text": [
      "INFO:elastic_transport.transport:POST http://localhost:9200/*/_search [status:200 duration:0.364s]\n",
      "INFO:elastic_transport.transport:POST http://localhost:9200/*/_search [status:200 duration:0.037s]\n"
     ]
    },
    {
     "name": "stdout",
     "output_type": "stream",
     "text": [
      "['crusades', 'religion', 'step', 'world']\n"
     ]
    },
    {
     "name": "stderr",
     "output_type": "stream",
     "text": [
      "INFO:elastic_transport.transport:POST http://localhost:9200/*/_search [status:200 duration:0.142s]\n"
     ]
    },
    {
     "name": "stdout",
     "output_type": "stream",
     "text": [
      "['younger readers']\n"
     ]
    },
    {
     "name": "stderr",
     "output_type": "stream",
     "text": [
      "INFO:elastic_transport.transport:POST http://localhost:9200/*/_search [status:200 duration:0.024s]\n"
     ]
    },
    {
     "name": "stdout",
     "output_type": "stream",
     "text": [
      "['younger readers']\n",
      "['determinism compatibilism libertarianism', 'human actions', 'control']\n"
     ]
    },
    {
     "name": "stderr",
     "output_type": "stream",
     "text": [
      "INFO:elastic_transport.transport:POST http://localhost:9200/*/_search [status:200 duration:0.337s]\n"
     ]
    },
    {
     "name": "stdout",
     "output_type": "stream",
     "text": [
      "['consumption', 'freshman', 'college', 'unchangeable view']\n"
     ]
    },
    {
     "name": "stderr",
     "output_type": "stream",
     "text": [
      "INFO:elastic_transport.transport:POST http://localhost:9200/*/_search [status:200 duration:0.374s]\n",
      "INFO:elastic_transport.transport:POST http://localhost:9200/*/_search [status:200 duration:0.048s]\n"
     ]
    },
    {
     "name": "stdout",
     "output_type": "stream",
     "text": [
      "['consumption', 'freshman', 'college', 'unchangeable view']\n",
      "['conjoined twins', 'family names', 'surnames', 'reliable fair gender']\n"
     ]
    },
    {
     "name": "stderr",
     "output_type": "stream",
     "text": [
      "INFO:elastic_transport.transport:POST http://localhost:9200/*/_search [status:200 duration:0.487s]\n",
      "INFO:elastic_transport.transport:POST http://localhost:9200/*/_search [status:200 duration:0.024s]\n"
     ]
    },
    {
     "name": "stdout",
     "output_type": "stream",
     "text": [
      "['conjoined twins', 'family names', 'surnames', 'reliable fair gender']\n"
     ]
    },
    {
     "name": "stderr",
     "output_type": "stream",
     "text": [
      "INFO:elastic_transport.transport:POST http://localhost:9200/*/_search [status:200 duration:0.042s]\n"
     ]
    },
    {
     "name": "stdout",
     "output_type": "stream",
     "text": [
      "['conjoined twins', 'family names', 'surnames', 'reliable fair gender']\n",
      "['copwatch', 'watches', 'time', 'many years']\n"
     ]
    },
    {
     "name": "stderr",
     "output_type": "stream",
     "text": [
      "INFO:elastic_transport.transport:POST http://localhost:9200/*/_search [status:200 duration:0.587s]\n",
      "INFO:elastic_transport.transport:POST http://localhost:9200/*/_search [status:200 duration:0.109s]\n"
     ]
    },
    {
     "name": "stdout",
     "output_type": "stream",
     "text": [
      "['copwatch', 'watches', 'time', 'many years']\n"
     ]
    },
    {
     "name": "stderr",
     "output_type": "stream",
     "text": [
      "INFO:elastic_transport.transport:POST http://localhost:9200/*/_search [status:200 duration:0.191s]\n"
     ]
    },
    {
     "name": "stdout",
     "output_type": "stream",
     "text": [
      "['hormones', 'memo', 'men']\n",
      "['poor people', 'rich people', 'economic theory']\n"
     ]
    },
    {
     "name": "stderr",
     "output_type": "stream",
     "text": [
      "INFO:elastic_transport.transport:POST http://localhost:9200/*/_search [status:200 duration:0.397s]\n",
      "INFO:elastic_transport.transport:POST http://localhost:9200/*/_search [status:200 duration:0.153s]\n"
     ]
    },
    {
     "name": "stdout",
     "output_type": "stream",
     "text": [
      "['hrt', 'cousin', 'mind']\n"
     ]
    },
    {
     "name": "stderr",
     "output_type": "stream",
     "text": [
      "INFO:elastic_transport.transport:POST http://localhost:9200/*/_search [status:200 duration:0.028s]\n"
     ]
    },
    {
     "name": "stdout",
     "output_type": "stream",
     "text": [
      "['hrt', 'cousin', 'mind']\n"
     ]
    },
    {
     "name": "stderr",
     "output_type": "stream",
     "text": [
      "INFO:elastic_transport.transport:POST http://localhost:9200/*/_search [status:200 duration:0.018s]\n"
     ]
    },
    {
     "name": "stdout",
     "output_type": "stream",
     "text": [
      "['hrt', 'cousin', 'mind']\n"
     ]
    },
    {
     "name": "stderr",
     "output_type": "stream",
     "text": [
      "INFO:elastic_transport.transport:POST http://localhost:9200/*/_search [status:200 duration:0.008s]\n"
     ]
    },
    {
     "name": "stdout",
     "output_type": "stream",
     "text": [
      "['hrt', 'cousin', 'mind']\n"
     ]
    },
    {
     "name": "stderr",
     "output_type": "stream",
     "text": [
      "INFO:elastic_transport.transport:POST http://localhost:9200/*/_search [status:200 duration:0.008s]\n"
     ]
    },
    {
     "name": "stdout",
     "output_type": "stream",
     "text": [
      "['hrt', 'cousin', 'mind']\n",
      "['homosexuals', 'infertile people', 'older people']\n"
     ]
    },
    {
     "name": "stderr",
     "output_type": "stream",
     "text": [
      "INFO:elastic_transport.transport:POST http://localhost:9200/*/_search [status:200 duration:0.207s]\n",
      "INFO:elastic_transport.transport:POST http://localhost:9200/*/_search [status:200 duration:0.184s]\n"
     ]
    },
    {
     "name": "stdout",
     "output_type": "stream",
     "text": [
      "['webcam', 'knowledge', 'opinion']\n",
      "['school prayer', 'public schools', 'poor families', 'education']\n"
     ]
    },
    {
     "name": "stderr",
     "output_type": "stream",
     "text": [
      "INFO:elastic_transport.transport:POST http://localhost:9200/*/_search [status:200 duration:0.546s]\n"
     ]
    },
    {
     "name": "stdout",
     "output_type": "stream",
     "text": [
      "['stereotypes', 'truth', 'kernel']\n"
     ]
    },
    {
     "name": "stderr",
     "output_type": "stream",
     "text": [
      "INFO:elastic_transport.transport:POST http://localhost:9200/*/_search [status:200 duration:0.243s]\n"
     ]
    },
    {
     "name": "stdout",
     "output_type": "stream",
     "text": [
      "['federal marriage amendment', 'samesex marriage bans', 'equal protection clause', 'discrimination']\n"
     ]
    },
    {
     "name": "stderr",
     "output_type": "stream",
     "text": [
      "INFO:elastic_transport.transport:POST http://localhost:9200/*/_search [status:200 duration:0.612s]\n",
      "INFO:elastic_transport.transport:POST http://localhost:9200/*/_search [status:200 duration:0.189s]\n"
     ]
    },
    {
     "name": "stdout",
     "output_type": "stream",
     "text": [
      "['clear something', 'guys']\n",
      "['maternity leave', 'parental leave', 'valid discussion']\n"
     ]
    },
    {
     "name": "stderr",
     "output_type": "stream",
     "text": [
      "INFO:elastic_transport.transport:POST http://localhost:9200/*/_search [status:200 duration:0.243s]\n",
      "INFO:elastic_transport.transport:POST http://localhost:9200/*/_search [status:200 duration:0.014s]\n"
     ]
    },
    {
     "name": "stdout",
     "output_type": "stream",
     "text": [
      "['maternity leave', 'parental leave', 'valid discussion']\n",
      "['fake news', 'talk']\n"
     ]
    },
    {
     "name": "stderr",
     "output_type": "stream",
     "text": [
      "INFO:elastic_transport.transport:POST http://localhost:9200/*/_search [status:200 duration:0.209s]\n",
      "INFO:elastic_transport.transport:POST http://localhost:9200/*/_search [status:200 duration:0.125s]\n"
     ]
    },
    {
     "name": "stdout",
     "output_type": "stream",
     "text": [
      "['wallets', 'confusion']\n"
     ]
    },
    {
     "name": "stderr",
     "output_type": "stream",
     "text": [
      "INFO:elastic_transport.transport:POST http://localhost:9200/*/_search [status:200 duration:0.012s]\n"
     ]
    },
    {
     "name": "stdout",
     "output_type": "stream",
     "text": [
      "['wallets', 'confusion']\n",
      "['american gun owners', 'guns', 'government overreach presumes']\n"
     ]
    },
    {
     "name": "stderr",
     "output_type": "stream",
     "text": [
      "INFO:elastic_transport.transport:POST http://localhost:9200/*/_search [status:200 duration:0.403s]\n",
      "INFO:elastic_transport.transport:POST http://localhost:9200/*/_search [status:200 duration:0.098s]\n"
     ]
    },
    {
     "name": "stdout",
     "output_type": "stream",
     "text": [
      "['nfl', 'nba', 'college']\n",
      "['animal rights', 'animal rights', 'animals', 'anthropomorphic ways']\n"
     ]
    },
    {
     "name": "stderr",
     "output_type": "stream",
     "text": [
      "INFO:elastic_transport.transport:POST http://localhost:9200/*/_search [status:200 duration:0.329s]\n"
     ]
    },
    {
     "name": "stdout",
     "output_type": "stream",
     "text": [
      "['job', 'lets']\n"
     ]
    },
    {
     "name": "stderr",
     "output_type": "stream",
     "text": [
      "INFO:elastic_transport.transport:POST http://localhost:9200/*/_search [status:200 duration:0.235s]\n"
     ]
    },
    {
     "name": "stdout",
     "output_type": "stream",
     "text": [
      "['taxpayer', 'government services', 'public libraries', 'police forces']\n"
     ]
    },
    {
     "name": "stderr",
     "output_type": "stream",
     "text": [
      "INFO:elastic_transport.transport:POST http://localhost:9200/*/_search [status:200 duration:0.321s]\n"
     ]
    },
    {
     "name": "stdout",
     "output_type": "stream",
     "text": [
      "['terrible female characters', 'male authors', 'flack']\n"
     ]
    },
    {
     "name": "stderr",
     "output_type": "stream",
     "text": [
      "INFO:elastic_transport.transport:POST http://localhost:9200/*/_search [status:200 duration:0.427s]\n"
     ]
    },
    {
     "name": "stdout",
     "output_type": "stream",
     "text": [
      "['single-sex education', 'favor singlesex education', 'singlegender classes', 'experiments']\n"
     ]
    },
    {
     "name": "stderr",
     "output_type": "stream",
     "text": [
      "INFO:elastic_transport.transport:POST http://localhost:9200/*/_search [status:200 duration:0.266s]\n",
      "INFO:elastic_transport.transport:POST http://localhost:9200/*/_search [status:200 duration:0.063s]\n"
     ]
    },
    {
     "name": "stdout",
     "output_type": "stream",
     "text": [
      "['single-sex education', 'favor singlesex education', 'singlegender classes', 'experiments']\n"
     ]
    },
    {
     "name": "stderr",
     "output_type": "stream",
     "text": [
      "INFO:elastic_transport.transport:POST http://localhost:9200/*/_search [status:200 duration:0.066s]\n"
     ]
    },
    {
     "name": "stdout",
     "output_type": "stream",
     "text": [
      "['single-sex education', 'favor singlesex education', 'singlegender classes', 'experiments']\n"
     ]
    },
    {
     "name": "stderr",
     "output_type": "stream",
     "text": [
      "INFO:elastic_transport.transport:POST http://localhost:9200/*/_search [status:200 duration:0.199s]\n"
     ]
    },
    {
     "name": "stdout",
     "output_type": "stream",
     "text": [
      "['gay child', 'parents', 'claims']\n"
     ]
    },
    {
     "name": "stderr",
     "output_type": "stream",
     "text": [
      "INFO:elastic_transport.transport:POST http://localhost:9200/*/_search [status:200 duration:0.036s]\n"
     ]
    },
    {
     "name": "stdout",
     "output_type": "stream",
     "text": [
      "['gay child', 'parents', 'claims']\n"
     ]
    },
    {
     "name": "stderr",
     "output_type": "stream",
     "text": [
      "INFO:elastic_transport.transport:POST http://localhost:9200/*/_search [status:200 duration:0.047s]\n"
     ]
    },
    {
     "name": "stdout",
     "output_type": "stream",
     "text": [
      "['gay child', 'parents', 'claims']\n",
      "['bad communication skills nonconstructive empiricists', 'low comprehension skills nonconstructive empiricists', 'constructive empiricist']\n"
     ]
    },
    {
     "name": "stderr",
     "output_type": "stream",
     "text": [
      "INFO:elastic_transport.transport:POST http://localhost:9200/*/_search [status:200 duration:0.583s]\n"
     ]
    },
    {
     "name": "stdout",
     "output_type": "stream",
     "text": [
      "['daredevil universe', 'daredevil show', 'netflix']\n"
     ]
    },
    {
     "name": "stderr",
     "output_type": "stream",
     "text": [
      "INFO:elastic_transport.transport:POST http://localhost:9200/*/_search [status:200 duration:0.264s]\n",
      "INFO:elastic_transport.transport:POST http://localhost:9200/*/_search [status:200 duration:0.162s]\n"
     ]
    },
    {
     "name": "stdout",
     "output_type": "stream",
     "text": [
      "['pot', 'positives', 'society']\n"
     ]
    },
    {
     "name": "stderr",
     "output_type": "stream",
     "text": [
      "INFO:elastic_transport.transport:POST http://localhost:9200/*/_search [status:200 duration:0.026s]\n"
     ]
    },
    {
     "name": "stdout",
     "output_type": "stream",
     "text": [
      "['pot', 'positives', 'society']\n",
      "['growth', 'chinese rd plenum', 'news', 'place yesterday']\n"
     ]
    },
    {
     "name": "stderr",
     "output_type": "stream",
     "text": [
      "INFO:elastic_transport.transport:POST http://localhost:9200/*/_search [status:200 duration:0.344s]\n"
     ]
    },
    {
     "name": "stdout",
     "output_type": "stream",
     "text": [
      "['sexual orientation', 'body language', 'speech']\n"
     ]
    },
    {
     "name": "stderr",
     "output_type": "stream",
     "text": [
      "INFO:elastic_transport.transport:POST http://localhost:9200/*/_search [status:200 duration:0.351s]\n",
      "INFO:elastic_transport.transport:POST http://localhost:9200/*/_search [status:200 duration:0.026s]\n"
     ]
    },
    {
     "name": "stdout",
     "output_type": "stream",
     "text": [
      "['sexual orientation', 'body language', 'speech']\n",
      "['star trek', 'star treks', 'star trek', 'future generations']\n"
     ]
    },
    {
     "name": "stderr",
     "output_type": "stream",
     "text": [
      "INFO:elastic_transport.transport:POST http://localhost:9200/*/_search [status:200 duration:0.386s]\n",
      "INFO:elastic_transport.transport:POST http://localhost:9200/*/_search [status:200 duration:0.090s]\n"
     ]
    },
    {
     "name": "stdout",
     "output_type": "stream",
     "text": [
      "['conspiracy theories', 'truth', 'people']\n"
     ]
    },
    {
     "name": "stderr",
     "output_type": "stream",
     "text": [
      "INFO:elastic_transport.transport:POST http://localhost:9200/*/_search [status:200 duration:0.160s]\n"
     ]
    },
    {
     "name": "stdout",
     "output_type": "stream",
     "text": [
      "['trumps policy', 'narcissist', 'donald trump']\n"
     ]
    },
    {
     "name": "stderr",
     "output_type": "stream",
     "text": [
      "INFO:elastic_transport.transport:POST http://localhost:9200/*/_search [status:200 duration:0.123s]\n"
     ]
    },
    {
     "name": "stdout",
     "output_type": "stream",
     "text": [
      "['basic ideas', 'topic', 'depths']\n",
      "['extreme facial asymmetry', 'fault', 'only times']\n"
     ]
    },
    {
     "name": "stderr",
     "output_type": "stream",
     "text": [
      "INFO:elastic_transport.transport:POST http://localhost:9200/*/_search [status:200 duration:0.489s]\n",
      "INFO:elastic_transport.transport:POST http://localhost:9200/*/_search [status:200 duration:0.035s]\n"
     ]
    },
    {
     "name": "stdout",
     "output_type": "stream",
     "text": [
      "['extreme facial asymmetry', 'fault', 'only times']\n"
     ]
    },
    {
     "name": "stderr",
     "output_type": "stream",
     "text": [
      "INFO:elastic_transport.transport:POST http://localhost:9200/*/_search [status:200 duration:0.184s]\n"
     ]
    },
    {
     "name": "stdout",
     "output_type": "stream",
     "text": [
      "['assumptions', 'title', 'attention']\n"
     ]
    },
    {
     "name": "stderr",
     "output_type": "stream",
     "text": [
      "INFO:elastic_transport.transport:POST http://localhost:9200/*/_search [status:200 duration:0.174s]\n"
     ]
    },
    {
     "name": "stdout",
     "output_type": "stream",
     "text": [
      "['umberto eco', 'foucaults pendulum', 'exceptions']\n",
      "['hypocritical christians', 'homeless', 'goto accusation']\n"
     ]
    },
    {
     "name": "stderr",
     "output_type": "stream",
     "text": [
      "INFO:elastic_transport.transport:POST http://localhost:9200/*/_search [status:200 duration:0.211s]\n",
      "INFO:elastic_transport.transport:POST http://localhost:9200/*/_search [status:200 duration:0.020s]\n"
     ]
    },
    {
     "name": "stdout",
     "output_type": "stream",
     "text": [
      "['hypocritical christians', 'homeless', 'goto accusation']\n"
     ]
    },
    {
     "name": "stderr",
     "output_type": "stream",
     "text": [
      "INFO:elastic_transport.transport:POST http://localhost:9200/*/_search [status:200 duration:0.122s]\n"
     ]
    },
    {
     "name": "stdout",
     "output_type": "stream",
     "text": [
      "['superpower', 'fun discussing', 'topic']\n"
     ]
    },
    {
     "name": "stderr",
     "output_type": "stream",
     "text": [
      "INFO:elastic_transport.transport:POST http://localhost:9200/*/_search [status:200 duration:0.026s]\n"
     ]
    },
    {
     "name": "stdout",
     "output_type": "stream",
     "text": [
      "['superpower', 'fun discussing', 'topic']\n"
     ]
    },
    {
     "name": "stderr",
     "output_type": "stream",
     "text": [
      "INFO:elastic_transport.transport:POST http://localhost:9200/*/_search [status:200 duration:0.027s]\n"
     ]
    },
    {
     "name": "stdout",
     "output_type": "stream",
     "text": [
      "['superpower', 'fun discussing', 'topic']\n"
     ]
    },
    {
     "name": "stderr",
     "output_type": "stream",
     "text": [
      "INFO:elastic_transport.transport:POST http://localhost:9200/*/_search [status:200 duration:0.010s]\n"
     ]
    },
    {
     "name": "stdout",
     "output_type": "stream",
     "text": [
      "['superpower', 'fun discussing', 'topic']\n"
     ]
    },
    {
     "name": "stderr",
     "output_type": "stream",
     "text": [
      "INFO:elastic_transport.transport:POST http://localhost:9200/*/_search [status:200 duration:0.009s]\n"
     ]
    },
    {
     "name": "stdout",
     "output_type": "stream",
     "text": [
      "['superpower', 'fun discussing', 'topic']\n"
     ]
    },
    {
     "name": "stderr",
     "output_type": "stream",
     "text": [
      "INFO:elastic_transport.transport:POST http://localhost:9200/*/_search [status:200 duration:0.030s]\n"
     ]
    },
    {
     "name": "stdout",
     "output_type": "stream",
     "text": [
      "['superpower', 'fun discussing', 'topic']\n"
     ]
    }
   ],
   "source": [
    "from src.detection.stance_classifier import sentence_stance, compare_stance\n",
    "from src.utils_.word_net_expansion import expand_query\n",
    "\n",
    "### RETRIEVER ###\n",
    "db = db\n",
    "queries = []\n",
    "retrieved_ev = []\n",
    "\n",
    "topic_ids = [json.loads(ln)[\"id\"] for ln in open(\"../data/argument_topic_concept.jsonl\")]\n",
    "def get_topic(arg_id):\n",
    "    topic_id = topic_ids.index(arg_id)\n",
    "    topic = topics[topic_id][\"topic_label\"]\n",
    "    return str(topic) if topic else None\n",
    "\n",
    "# TODOs: Add News\n",
    "# TODOs: Include Topic Label\n",
    "# TODOs: Include Concept Label\n",
    "# TODOs: Query Expansion\n",
    "# TODOs: Multi-Field Search\n",
    "def retrieved_evidence(arg, query_expansion=True):\n",
    "    id_ = arg[\"id\"]\n",
    "    ad_units = sentences_segment(arg[\"argument\"][\"argument\"])\n",
    "\n",
    "    topic = get_topic(id_)\n",
    "\n",
    "    results = []\n",
    "    for adu in ad_units:\n",
    "        toks = tokeniser(adu)\n",
    "\n",
    "        if len(toks) <= 8:\n",
    "            continue\n",
    "\n",
    "        kp = extract_keyphrase(adu)\n",
    "        kp.insert(0, topic) if topic else kp\n",
    "        print(kp)\n",
    "\n",
    "        # if query_expansion:\n",
    "        #     expansion = [expand_query(_) for _ in kp]\n",
    "        #     kp.extend(expansion)\n",
    "\n",
    "        if kp:\n",
    "            query = \", \".join(i for i in kp)\n",
    "            result = [(i[\"_source\"][\"document\"][\"title\"], i[\"_source\"][\"document\"][\"text\"])for i in db.search(query_=query, k=10)]\n",
    "            titles = [i[0] for i in result]\n",
    "            evidence = [i[1] for i in result]\n",
    "\n",
    "            results.append({\n",
    "                \"tid\": arg[\"id\"],\n",
    "                \"argument_discourse_unit\": adu,\n",
    "                \"retrieved_documents_titles\": titles,\n",
    "                \"query\": query,\n",
    "                \"adu_keyphrases\": [i for i in kp],\n",
    "                \"adu_stance\": sentence_stance(adu, kp),\n",
    "                \"retrieved_evidence\": evidence,\n",
    "                \"merged_evidence\": \", \".join(ln for ln in evidence)\n",
    "                })\n",
    "\n",
    "        return results\n",
    "\n",
    "retrieved_ev = []\n",
    "for arg in args[0:100]:\n",
    "    retrieved_ev.append(retrieved_evidence(arg))"
   ]
  },
  {
   "cell_type": "code",
   "execution_count": 26,
   "outputs": [
    {
     "data": {
      "text/plain": "100"
     },
     "execution_count": 26,
     "metadata": {},
     "output_type": "execute_result"
    }
   ],
   "source": [
    "len(retrieved_ev)"
   ],
   "metadata": {
    "collapsed": false,
    "pycharm": {
     "name": "#%%\n"
    }
   }
  },
  {
   "cell_type": "code",
   "execution_count": 27,
   "metadata": {
    "pycharm": {
     "name": "#%%\n"
    }
   },
   "outputs": [
    {
     "name": "stderr",
     "output_type": "stream",
     "text": [
      "INFO:summa.preprocessing.cleaner:'pattern' package not found; tag filters are not available for English\n",
      "100%|██████████| 100/100 [01:05<00:00,  1.53it/s]"
     ]
    },
    {
     "name": "stdout",
     "output_type": "stream",
     "text": [
      "65.1640350818634\n"
     ]
    },
    {
     "name": "stderr",
     "output_type": "stream",
     "text": [
      "\n"
     ]
    }
   ],
   "source": [
    "from multiprocessing.pool import ThreadPool as Pool\n",
    "from yake import KeywordExtractor\n",
    "import tqdm.notebook as tqdm\n",
    "import time\n",
    "from summa import keywords\n",
    "from tqdm import tqdm\n",
    "\n",
    "### PASSAGE RANKING; KEYWORD OVERLAP ###\n",
    "kw_extractor = KeywordExtractor(lan=\"en\", n=3, top=5)\n",
    "\n",
    "# TODOs: For each ADU, Rank Merged Evidence using Keyword Overlap and Filter for Contrasting Stance\n",
    "# TODOs: Handel Multiple Keywords\n",
    "\n",
    "def overlap_score(evidence_kp, adu_kp):\n",
    "    score = 0\n",
    "    # TODOs: Robust 'None' handeling\n",
    "    if adu_kp == None:\n",
    "        return score\n",
    "    # Split Keyphrase into components, scoring partial units as overlap\n",
    "    else:\n",
    "        for i in evidence_kp:\n",
    "            for j in i.split():\n",
    "                # Ensure string value, to enact .find\n",
    "                if \", \".join([i for i in adu_kp]).find(j) != -1: score += 1\n",
    "                \n",
    "                else: continue\n",
    "    \n",
    "    return score\n",
    "\n",
    "def calculate_overlap(merged_ev, adu_kp):\n",
    "\n",
    "    for ev_unit in sentences_segment(merged_ev):\n",
    "        toks = tokeniser(ev_unit)\n",
    "        kp_overlap = 0\n",
    "        \n",
    "        if len(toks) <= 8: continue\n",
    "\n",
    "        #ev_unit_kp = [i for i in keywords.keywords(ev_unit).split(\"\\n\")]\n",
    "        ev_unit_kp = [i[0] for i in kw_extractor.extract_keywords(ev_unit)]\n",
    "\n",
    "        if ev_unit_kp:\n",
    "            kp_overlap = overlap_score(evidence_kp=ev_unit_kp, adu_kp=adu_kp)\n",
    "        \n",
    "        else: ev_unit_kp = None\n",
    "        yield ev_unit, ev_unit_kp, kp_overlap\n",
    "\n",
    "# pool = Pool(8)\n",
    "### RANK PASSAGES ###\n",
    "def score_passages(ev_):   \n",
    "    adu = ev_[0][\"argument_discourse_unit\"]\n",
    "    adu_stance = ev_[0][\"adu_stance\"]\n",
    "    merged_ev = ev_[0][\"merged_evidence\"] \n",
    "    adu_kp = ev_[0][\"adu_keyphrases\"]\n",
    "    \n",
    "    ### CALCULATE OVERLAP ###\n",
    "    for ev_unit, ev_unit_kp, kp_overlap in calculate_overlap(merged_ev, adu_kp):\n",
    "        target = adu_kp[0]\n",
    "\n",
    "        compared_stace = compare_stance(ev_unit, target)\n",
    "        if compared_stace != adu_stance:\n",
    "            yield {\n",
    "                \"adu\": adu,\n",
    "                \"adu_kp\": adu_kp,\n",
    "                \"evidence_unit\": ev_unit,\n",
    "                \"evidence_kps\": ev_unit_kp,\n",
    "                \"overlap\": kp_overlap,\n",
    "                \"evidence_stance\": compare_stance(ev_unit, target),\n",
    "                \"adu_stance\": adu_stance\n",
    "            }\n",
    "\n",
    "        else: continue\n",
    "\n",
    "### SCORED EVIDENCE ###\n",
    "def score_evidence(retrieved_evidence):\n",
    "    for ev_ in retrieved_ev:\n",
    "        yield [i for i in score_passages(ev_)]\n",
    "\n",
    "### RANKED EVIDENCE ###\n",
    "def rank_filter_counter_evidence(retireved_evidence, k=3):\n",
    "    with tqdm(total=(len(retrieved_ev))) as pbar:\n",
    "        for i in score_evidence(retrieved_ev):\n",
    "            yield sorted(i, key=lambda y: y[\"overlap\"], reverse=True)[0:k]\n",
    "\n",
    "            pbar.update()\n",
    "\n",
    "\n",
    "### SELECT TOP-K COUNTER-EVIDENCE ###\n",
    "tic = time.time()\n",
    "ranked_sorted_evidence = [i for i in rank_filter_counter_evidence(retrieved_ev)]\n",
    "ranked_sorted_evidence\n",
    "toc = time.time()\n",
    "\n",
    "print(toc - tic)\n",
    "# TIME 1:20M"
   ]
  },
  {
   "cell_type": "code",
   "execution_count": 30,
   "outputs": [
    {
     "name": "stdout",
     "output_type": "stream",
     "text": [
      "100 100\n"
     ]
    },
    {
     "data": {
      "text/plain": "[[{'adu': 'Section I Why is Basic Income Increasingly Popular?',\n   'adu_kp': ['incomes policy', 'basic income', 'section'],\n   'evidence_unit': 'Shortly after that, in 1797, Thomas Spence outlined a complete basic income proposal., The study finds out that all these dimensions of participation are lower among people with low incomes.',\n   'evidence_kps': ['Thomas Spence outlined',\n    'basic income proposal.',\n    'Thomas Spence',\n    'complete basic income',\n    'Spence outlined'],\n   'overlap': 4,\n   'evidence_stance': 'CON',\n   'adu_stance': 'NEUTRAL'},\n  {'adu': 'Section I Why is Basic Income Increasingly Popular?',\n   'adu_kp': ['incomes policy', 'basic income', 'section'],\n   'evidence_unit': 'She was also the first to develop the negative income tax model.',\n   'evidence_kps': ['income tax model',\n    'negative income tax',\n    'tax model',\n    'develop the negative',\n    'negative income'],\n   'overlap': 3,\n   'evidence_stance': 'CON',\n   'adu_stance': 'NEUTRAL'},\n  {'adu': 'Section I Why is Basic Income Increasingly Popular?',\n   'adu_kp': ['incomes policy', 'basic income', 'section'],\n   'evidence_unit': 'It meant that certain incomes above the personal allowance would be taxed at a basic rate of 10%, which meant a reduced rate compared with the previous basic UK income tax rate of 23%.',\n   'evidence_kps': ['reduced rate compared',\n    'income tax rate',\n    'personal allowance',\n    'previous basic',\n    'income tax'],\n   'overlap': 3,\n   'evidence_stance': 'CON',\n   'adu_stance': 'NEUTRAL'}],\n [{'adu': 'Section I Why is Basic Income Increasingly Popular?',\n   'adu_kp': ['incomes policy', 'basic income', 'section'],\n   'evidence_unit': 'Shortly after that, in 1797, Thomas Spence outlined a complete basic income proposal., The study finds out that all these dimensions of participation are lower among people with low incomes.',\n   'evidence_kps': ['Thomas Spence outlined',\n    'basic income proposal.',\n    'Thomas Spence',\n    'complete basic income',\n    'Spence outlined'],\n   'overlap': 4,\n   'evidence_stance': 'CON',\n   'adu_stance': 'NEUTRAL'},\n  {'adu': 'Section I Why is Basic Income Increasingly Popular?',\n   'adu_kp': ['incomes policy', 'basic income', 'section'],\n   'evidence_unit': 'She was also the first to develop the negative income tax model.',\n   'evidence_kps': ['income tax model',\n    'negative income tax',\n    'tax model',\n    'develop the negative',\n    'negative income'],\n   'overlap': 3,\n   'evidence_stance': 'CON',\n   'adu_stance': 'NEUTRAL'},\n  {'adu': 'Section I Why is Basic Income Increasingly Popular?',\n   'adu_kp': ['incomes policy', 'basic income', 'section'],\n   'evidence_unit': 'It meant that certain incomes above the personal allowance would be taxed at a basic rate of 10%, which meant a reduced rate compared with the previous basic UK income tax rate of 23%.',\n   'evidence_kps': ['reduced rate compared',\n    'income tax rate',\n    'personal allowance',\n    'previous basic',\n    'income tax'],\n   'overlap': 3,\n   'evidence_stance': 'CON',\n   'adu_stance': 'NEUTRAL'}],\n [{'adu': 'Section I Why is Basic Income Increasingly Popular?',\n   'adu_kp': ['incomes policy', 'basic income', 'section'],\n   'evidence_unit': 'Shortly after that, in 1797, Thomas Spence outlined a complete basic income proposal., The study finds out that all these dimensions of participation are lower among people with low incomes.',\n   'evidence_kps': ['Thomas Spence outlined',\n    'basic income proposal.',\n    'Thomas Spence',\n    'complete basic income',\n    'Spence outlined'],\n   'overlap': 4,\n   'evidence_stance': 'CON',\n   'adu_stance': 'NEUTRAL'},\n  {'adu': 'Section I Why is Basic Income Increasingly Popular?',\n   'adu_kp': ['incomes policy', 'basic income', 'section'],\n   'evidence_unit': 'She was also the first to develop the negative income tax model.',\n   'evidence_kps': ['income tax model',\n    'negative income tax',\n    'tax model',\n    'develop the negative',\n    'negative income'],\n   'overlap': 3,\n   'evidence_stance': 'CON',\n   'adu_stance': 'NEUTRAL'},\n  {'adu': 'Section I Why is Basic Income Increasingly Popular?',\n   'adu_kp': ['incomes policy', 'basic income', 'section'],\n   'evidence_unit': 'It meant that certain incomes above the personal allowance would be taxed at a basic rate of 10%, which meant a reduced rate compared with the previous basic UK income tax rate of 23%.',\n   'evidence_kps': ['reduced rate compared',\n    'income tax rate',\n    'personal allowance',\n    'previous basic',\n    'income tax'],\n   'overlap': 3,\n   'evidence_stance': 'CON',\n   'adu_stance': 'NEUTRAL'}],\n [{'adu': 'Section I Why is Basic Income Increasingly Popular?',\n   'adu_kp': ['incomes policy', 'basic income', 'section'],\n   'evidence_unit': 'Shortly after that, in 1797, Thomas Spence outlined a complete basic income proposal., The study finds out that all these dimensions of participation are lower among people with low incomes.',\n   'evidence_kps': ['Thomas Spence outlined',\n    'basic income proposal.',\n    'Thomas Spence',\n    'complete basic income',\n    'Spence outlined'],\n   'overlap': 4,\n   'evidence_stance': 'CON',\n   'adu_stance': 'NEUTRAL'},\n  {'adu': 'Section I Why is Basic Income Increasingly Popular?',\n   'adu_kp': ['incomes policy', 'basic income', 'section'],\n   'evidence_unit': 'She was also the first to develop the negative income tax model.',\n   'evidence_kps': ['income tax model',\n    'negative income tax',\n    'tax model',\n    'develop the negative',\n    'negative income'],\n   'overlap': 3,\n   'evidence_stance': 'CON',\n   'adu_stance': 'NEUTRAL'},\n  {'adu': 'Section I Why is Basic Income Increasingly Popular?',\n   'adu_kp': ['incomes policy', 'basic income', 'section'],\n   'evidence_unit': 'It meant that certain incomes above the personal allowance would be taxed at a basic rate of 10%, which meant a reduced rate compared with the previous basic UK income tax rate of 23%.',\n   'evidence_kps': ['reduced rate compared',\n    'income tax rate',\n    'personal allowance',\n    'previous basic',\n    'income tax'],\n   'overlap': 3,\n   'evidence_stance': 'CON',\n   'adu_stance': 'NEUTRAL'}],\n [{'adu': 'I am of the belief that there cannot exist a legitimate emotional bond between a male and a female that lead to a loving relationship that is one of romance.',\n   'adu_kp': ['couples',\n    'romance',\n    'legitimate emotional bond',\n    'relationship'],\n   'evidence_unit': 'The emotional relationship between Graham and Lecter forms the foundation of the series.',\n   'evidence_kps': ['Graham and Lecter',\n    'relationship between Graham',\n    'Lecter forms',\n    'emotional relationship',\n    'forms the foundation'],\n   'overlap': 3,\n   'evidence_stance': 'CON',\n   'adu_stance': 'PRO'},\n  {'adu': 'I am of the belief that there cannot exist a legitimate emotional bond between a male and a female that lead to a loving relationship that is one of romance.',\n   'adu_kp': ['couples',\n    'romance',\n    'legitimate emotional bond',\n    'relationship'],\n   'evidence_unit': \"As is typical in romance fiction, couples depicted in 'yaoi' stories often must overcome obstacles that are emotional or psychological rather than physical., Participants in cross-sex friendships face many challenges, including learning how to navigate the particular type of friendship.\",\n   'evidence_kps': ['cross-sex friendships face',\n    'Participants in cross-sex',\n    'romance fiction',\n    'couples depicted',\n    'face many challenges'],\n   'overlap': 2,\n   'evidence_stance': 'CON',\n   'adu_stance': 'PRO'},\n  {'adu': 'I am of the belief that there cannot exist a legitimate emotional bond between a male and a female that lead to a loving relationship that is one of romance.',\n   'adu_kp': ['couples',\n    'romance',\n    'legitimate emotional bond',\n    'relationship'],\n   'evidence_unit': 'The four types of cross-sex friendship as defined by Guerrero and Chavez (2005) referenced earlier are: strictly platonic, mutual romance, desires romance, and rejects romance.',\n   'evidence_kps': ['Guerrero and Chavez',\n    'strictly platonic',\n    'defined by Guerrero',\n    'mutual romance',\n    'desires romance'],\n   'overlap': 2,\n   'evidence_stance': 'CON',\n   'adu_stance': 'PRO'}],\n [{'adu': 'I am of the belief that there cannot exist a legitimate emotional bond between a male and a female that lead to a loving relationship that is one of romance.',\n   'adu_kp': ['couples',\n    'romance',\n    'legitimate emotional bond',\n    'relationship'],\n   'evidence_unit': 'The emotional relationship between Graham and Lecter forms the foundation of the series.',\n   'evidence_kps': ['Graham and Lecter',\n    'relationship between Graham',\n    'Lecter forms',\n    'emotional relationship',\n    'forms the foundation'],\n   'overlap': 3,\n   'evidence_stance': 'CON',\n   'adu_stance': 'PRO'},\n  {'adu': 'I am of the belief that there cannot exist a legitimate emotional bond between a male and a female that lead to a loving relationship that is one of romance.',\n   'adu_kp': ['couples',\n    'romance',\n    'legitimate emotional bond',\n    'relationship'],\n   'evidence_unit': \"As is typical in romance fiction, couples depicted in 'yaoi' stories often must overcome obstacles that are emotional or psychological rather than physical., Participants in cross-sex friendships face many challenges, including learning how to navigate the particular type of friendship.\",\n   'evidence_kps': ['cross-sex friendships face',\n    'Participants in cross-sex',\n    'romance fiction',\n    'couples depicted',\n    'face many challenges'],\n   'overlap': 2,\n   'evidence_stance': 'CON',\n   'adu_stance': 'PRO'},\n  {'adu': 'I am of the belief that there cannot exist a legitimate emotional bond between a male and a female that lead to a loving relationship that is one of romance.',\n   'adu_kp': ['couples',\n    'romance',\n    'legitimate emotional bond',\n    'relationship'],\n   'evidence_unit': 'The four types of cross-sex friendship as defined by Guerrero and Chavez (2005) referenced earlier are: strictly platonic, mutual romance, desires romance, and rejects romance.',\n   'evidence_kps': ['Guerrero and Chavez',\n    'strictly platonic',\n    'defined by Guerrero',\n    'mutual romance',\n    'desires romance'],\n   'overlap': 2,\n   'evidence_stance': 'CON',\n   'adu_stance': 'PRO'}],\n [{'adu': 'UpdateThanks for all the replies theres been some really useful points and Ill dish out the deltas appropriately.',\n   'adu_kp': ['deltas', 'useful points', 'replies'],\n   'evidence_unit': 'Researchers have found a number of examples of deltas that formed in Martian lakes.',\n   'evidence_kps': ['Martian lakes',\n    'formed in Martian',\n    'Researchers have found',\n    'found a number',\n    'deltas that formed'],\n   'overlap': 3,\n   'evidence_stance': 'CON',\n   'adu_stance': 'PRO'},\n  {'adu': 'UpdateThanks for all the replies theres been some really useful points and Ill dish out the deltas appropriately.',\n   'adu_kp': ['deltas', 'useful points', 'replies'],\n   'evidence_unit': 'Researchers have found a number of examples of deltas that formed in Martian lakes.',\n   'evidence_kps': ['Martian lakes',\n    'formed in Martian',\n    'Researchers have found',\n    'found a number',\n    'deltas that formed'],\n   'overlap': 3,\n   'evidence_stance': 'CON',\n   'adu_stance': 'PRO'},\n  {'adu': 'UpdateThanks for all the replies theres been some really useful points and Ill dish out the deltas appropriately.',\n   'adu_kp': ['deltas', 'useful points', 'replies'],\n   'evidence_unit': 'Researchers have found a number of examples of deltas that formed in Martian lakes.',\n   'evidence_kps': ['Martian lakes',\n    'formed in Martian',\n    'Researchers have found',\n    'found a number',\n    'deltas that formed'],\n   'overlap': 3,\n   'evidence_stance': 'CON',\n   'adu_stance': 'PRO'}],\n [{'adu': 'UpdateThanks for all the replies theres been some really useful points and Ill dish out the deltas appropriately.',\n   'adu_kp': ['deltas', 'useful points', 'replies'],\n   'evidence_unit': 'Researchers have found a number of examples of deltas that formed in Martian lakes.',\n   'evidence_kps': ['Martian lakes',\n    'formed in Martian',\n    'Researchers have found',\n    'found a number',\n    'deltas that formed'],\n   'overlap': 3,\n   'evidence_stance': 'CON',\n   'adu_stance': 'PRO'},\n  {'adu': 'UpdateThanks for all the replies theres been some really useful points and Ill dish out the deltas appropriately.',\n   'adu_kp': ['deltas', 'useful points', 'replies'],\n   'evidence_unit': 'Researchers have found a number of examples of deltas that formed in Martian lakes.',\n   'evidence_kps': ['Martian lakes',\n    'formed in Martian',\n    'Researchers have found',\n    'found a number',\n    'deltas that formed'],\n   'overlap': 3,\n   'evidence_stance': 'CON',\n   'adu_stance': 'PRO'},\n  {'adu': 'UpdateThanks for all the replies theres been some really useful points and Ill dish out the deltas appropriately.',\n   'adu_kp': ['deltas', 'useful points', 'replies'],\n   'evidence_unit': 'Researchers have found a number of examples of deltas that formed in Martian lakes.',\n   'evidence_kps': ['Martian lakes',\n    'formed in Martian',\n    'Researchers have found',\n    'found a number',\n    'deltas that formed'],\n   'overlap': 3,\n   'evidence_stance': 'CON',\n   'adu_stance': 'PRO'}],\n [{'adu': 'UpdateThanks for all the replies theres been some really useful points and Ill dish out the deltas appropriately.',\n   'adu_kp': ['deltas', 'useful points', 'replies'],\n   'evidence_unit': 'Researchers have found a number of examples of deltas that formed in Martian lakes.',\n   'evidence_kps': ['Martian lakes',\n    'formed in Martian',\n    'Researchers have found',\n    'found a number',\n    'deltas that formed'],\n   'overlap': 3,\n   'evidence_stance': 'CON',\n   'adu_stance': 'PRO'},\n  {'adu': 'UpdateThanks for all the replies theres been some really useful points and Ill dish out the deltas appropriately.',\n   'adu_kp': ['deltas', 'useful points', 'replies'],\n   'evidence_unit': 'Researchers have found a number of examples of deltas that formed in Martian lakes.',\n   'evidence_kps': ['Martian lakes',\n    'formed in Martian',\n    'Researchers have found',\n    'found a number',\n    'deltas that formed'],\n   'overlap': 3,\n   'evidence_stance': 'CON',\n   'adu_stance': 'PRO'},\n  {'adu': 'UpdateThanks for all the replies theres been some really useful points and Ill dish out the deltas appropriately.',\n   'adu_kp': ['deltas', 'useful points', 'replies'],\n   'evidence_unit': 'Researchers have found a number of examples of deltas that formed in Martian lakes.',\n   'evidence_kps': ['Martian lakes',\n    'formed in Martian',\n    'Researchers have found',\n    'found a number',\n    'deltas that formed'],\n   'overlap': 3,\n   'evidence_stance': 'CON',\n   'adu_stance': 'PRO'}],\n [{'adu': 'UpdateThanks for all the replies theres been some really useful points and Ill dish out the deltas appropriately.',\n   'adu_kp': ['deltas', 'useful points', 'replies'],\n   'evidence_unit': 'Researchers have found a number of examples of deltas that formed in Martian lakes.',\n   'evidence_kps': ['Martian lakes',\n    'formed in Martian',\n    'Researchers have found',\n    'found a number',\n    'deltas that formed'],\n   'overlap': 3,\n   'evidence_stance': 'CON',\n   'adu_stance': 'PRO'},\n  {'adu': 'UpdateThanks for all the replies theres been some really useful points and Ill dish out the deltas appropriately.',\n   'adu_kp': ['deltas', 'useful points', 'replies'],\n   'evidence_unit': 'Researchers have found a number of examples of deltas that formed in Martian lakes.',\n   'evidence_kps': ['Martian lakes',\n    'formed in Martian',\n    'Researchers have found',\n    'found a number',\n    'deltas that formed'],\n   'overlap': 3,\n   'evidence_stance': 'CON',\n   'adu_stance': 'PRO'},\n  {'adu': 'UpdateThanks for all the replies theres been some really useful points and Ill dish out the deltas appropriately.',\n   'adu_kp': ['deltas', 'useful points', 'replies'],\n   'evidence_unit': 'Researchers have found a number of examples of deltas that formed in Martian lakes.',\n   'evidence_kps': ['Martian lakes',\n    'formed in Martian',\n    'Researchers have found',\n    'found a number',\n    'deltas that formed'],\n   'overlap': 3,\n   'evidence_stance': 'CON',\n   'adu_stance': 'PRO'}],\n [{'adu': 'Can someone explain to me why these group of people in Oregon are not considered terrorists and are not being called that?',\n   'adu_kp': ['terrorist groups', 'terrorists', 'oregon', 'people'],\n   'evidence_unit': 'Christian terrorist groups include paramilitary organizations, cults and loose groups of people that might come together in order to attempt to terrorize other groups.',\n   'evidence_kps': ['include paramilitary organizations',\n    'Christian terrorist groups',\n    'terrorist groups include',\n    'groups include paramilitary',\n    'Christian terrorist'],\n   'overlap': 6,\n   'evidence_stance': 'CON',\n   'adu_stance': 'NEUTRAL'},\n  {'adu': 'Can someone explain to me why these group of people in Oregon are not considered terrorists and are not being called that?',\n   'adu_kp': ['terrorist groups', 'terrorists', 'oregon', 'people'],\n   'evidence_unit': \"'Omissis' and state secrecy., Although they often take inspiration from Fascist Italy, Nazi Germany, and Imperial Japan with some exceptions, right-wing terrorist groups frequently lack a rigid ideology.\",\n   'evidence_kps': ['right-wing terrorist groups',\n    'Nazi Germany',\n    'terrorist groups frequently',\n    'groups frequently lack',\n    'Fascist Italy'],\n   'overlap': 5,\n   'evidence_stance': 'CON',\n   'adu_stance': 'NEUTRAL'},\n  {'adu': 'Can someone explain to me why these group of people in Oregon are not considered terrorists and are not being called that?',\n   'adu_kp': ['terrorist groups', 'terrorists', 'oregon', 'people'],\n   'evidence_unit': 'In the 21st century, the ambit of a subset taxonomy of terrorism would include terms related to terrorists, terrorist groups, terrorist attacks, weapons, venues, and characteristics of terrorists and terrorist groups.',\n   'evidence_kps': ['include terms related',\n    'terrorist groups',\n    'subset taxonomy',\n    'taxonomy of terrorism',\n    'terrorism would include'],\n   'overlap': 2,\n   'evidence_stance': 'CON',\n   'adu_stance': 'NEUTRAL'}],\n [{'adu': 'Can someone explain to me why these group of people in Oregon are not considered terrorists and are not being called that?',\n   'adu_kp': ['terrorist groups', 'terrorists', 'oregon', 'people'],\n   'evidence_unit': 'Christian terrorist groups include paramilitary organizations, cults and loose groups of people that might come together in order to attempt to terrorize other groups.',\n   'evidence_kps': ['include paramilitary organizations',\n    'Christian terrorist groups',\n    'terrorist groups include',\n    'groups include paramilitary',\n    'Christian terrorist'],\n   'overlap': 6,\n   'evidence_stance': 'CON',\n   'adu_stance': 'NEUTRAL'},\n  {'adu': 'Can someone explain to me why these group of people in Oregon are not considered terrorists and are not being called that?',\n   'adu_kp': ['terrorist groups', 'terrorists', 'oregon', 'people'],\n   'evidence_unit': \"'Omissis' and state secrecy., Although they often take inspiration from Fascist Italy, Nazi Germany, and Imperial Japan with some exceptions, right-wing terrorist groups frequently lack a rigid ideology.\",\n   'evidence_kps': ['right-wing terrorist groups',\n    'Nazi Germany',\n    'terrorist groups frequently',\n    'groups frequently lack',\n    'Fascist Italy'],\n   'overlap': 5,\n   'evidence_stance': 'CON',\n   'adu_stance': 'NEUTRAL'},\n  {'adu': 'Can someone explain to me why these group of people in Oregon are not considered terrorists and are not being called that?',\n   'adu_kp': ['terrorist groups', 'terrorists', 'oregon', 'people'],\n   'evidence_unit': 'In the 21st century, the ambit of a subset taxonomy of terrorism would include terms related to terrorists, terrorist groups, terrorist attacks, weapons, venues, and characteristics of terrorists and terrorist groups.',\n   'evidence_kps': ['include terms related',\n    'terrorist groups',\n    'subset taxonomy',\n    'taxonomy of terrorism',\n    'terrorism would include'],\n   'overlap': 2,\n   'evidence_stance': 'CON',\n   'adu_stance': 'NEUTRAL'}],\n [{'adu': 'Can someone explain to me why these group of people in Oregon are not considered terrorists and are not being called that?',\n   'adu_kp': ['terrorist groups', 'terrorists', 'oregon', 'people'],\n   'evidence_unit': 'Christian terrorist groups include paramilitary organizations, cults and loose groups of people that might come together in order to attempt to terrorize other groups.',\n   'evidence_kps': ['include paramilitary organizations',\n    'Christian terrorist groups',\n    'terrorist groups include',\n    'groups include paramilitary',\n    'Christian terrorist'],\n   'overlap': 6,\n   'evidence_stance': 'CON',\n   'adu_stance': 'NEUTRAL'},\n  {'adu': 'Can someone explain to me why these group of people in Oregon are not considered terrorists and are not being called that?',\n   'adu_kp': ['terrorist groups', 'terrorists', 'oregon', 'people'],\n   'evidence_unit': \"'Omissis' and state secrecy., Although they often take inspiration from Fascist Italy, Nazi Germany, and Imperial Japan with some exceptions, right-wing terrorist groups frequently lack a rigid ideology.\",\n   'evidence_kps': ['right-wing terrorist groups',\n    'Nazi Germany',\n    'terrorist groups frequently',\n    'groups frequently lack',\n    'Fascist Italy'],\n   'overlap': 5,\n   'evidence_stance': 'CON',\n   'adu_stance': 'NEUTRAL'},\n  {'adu': 'Can someone explain to me why these group of people in Oregon are not considered terrorists and are not being called that?',\n   'adu_kp': ['terrorist groups', 'terrorists', 'oregon', 'people'],\n   'evidence_unit': 'In the 21st century, the ambit of a subset taxonomy of terrorism would include terms related to terrorists, terrorist groups, terrorist attacks, weapons, venues, and characteristics of terrorists and terrorist groups.',\n   'evidence_kps': ['include terms related',\n    'terrorist groups',\n    'subset taxonomy',\n    'taxonomy of terrorism',\n    'terrorism would include'],\n   'overlap': 2,\n   'evidence_stance': 'CON',\n   'adu_stance': 'NEUTRAL'}],\n [{'adu': 'This view is probably a bit controversial given the wide use of Microsoft Windows in schools in the US and quite a few countries all over the world and might seem as a bit of a rant against Microsoft but bear with me.',\n   'adu_kp': ['microsoft windows', 'microsoft', 'rant'],\n   'evidence_unit': 'This includes the Windows Server editions of the Microsoft Windows operating system, as well as products targeted at the wider business market.',\n   'evidence_kps': ['Windows Server editions',\n    'Microsoft Windows operating',\n    'Windows operating system',\n    'wider business market',\n    'Windows Server'],\n   'overlap': 0,\n   'evidence_stance': 'PRO',\n   'adu_stance': 'CON'},\n  {'adu': 'This view is probably a bit controversial given the wide use of Microsoft Windows in schools in the US and quite a few countries all over the world and might seem as a bit of a rant against Microsoft but bear with me.',\n   'adu_kp': ['microsoft windows', 'microsoft', 'rant'],\n   'evidence_unit': 'The service delivers software updates for Windows, as well as the various Microsoft antivirus products, including Windows Defender and Microsoft Security Essentials.',\n   'evidence_kps': ['Microsoft Security Essentials',\n    'including Windows Defender',\n    'Microsoft antivirus products',\n    'Security Essentials',\n    'service delivers software'],\n   'overlap': 0,\n   'evidence_stance': 'PRO',\n   'adu_stance': 'CON'},\n  {'adu': 'This view is probably a bit controversial given the wide use of Microsoft Windows in schools in the US and quite a few countries all over the world and might seem as a bit of a rant against Microsoft but bear with me.',\n   'adu_kp': ['microsoft windows', 'microsoft', 'rant'],\n   'evidence_unit': \"Another prominent case involving a tying claim was 'United States v. Microsoft'.\",\n   'evidence_kps': ['United States',\n    'prominent case involving',\n    'United',\n    'prominent case',\n    'case involving'],\n   'overlap': 0,\n   'evidence_stance': 'PRO',\n   'adu_stance': 'CON'}],\n [{'adu': 'This view is probably a bit controversial given the wide use of Microsoft Windows in schools in the US and quite a few countries all over the world and might seem as a bit of a rant against Microsoft but bear with me.',\n   'adu_kp': ['microsoft windows', 'microsoft', 'rant'],\n   'evidence_unit': 'This includes the Windows Server editions of the Microsoft Windows operating system, as well as products targeted at the wider business market.',\n   'evidence_kps': ['Windows Server editions',\n    'Microsoft Windows operating',\n    'Windows operating system',\n    'wider business market',\n    'Windows Server'],\n   'overlap': 0,\n   'evidence_stance': 'PRO',\n   'adu_stance': 'CON'},\n  {'adu': 'This view is probably a bit controversial given the wide use of Microsoft Windows in schools in the US and quite a few countries all over the world and might seem as a bit of a rant against Microsoft but bear with me.',\n   'adu_kp': ['microsoft windows', 'microsoft', 'rant'],\n   'evidence_unit': 'The service delivers software updates for Windows, as well as the various Microsoft antivirus products, including Windows Defender and Microsoft Security Essentials.',\n   'evidence_kps': ['Microsoft Security Essentials',\n    'including Windows Defender',\n    'Microsoft antivirus products',\n    'Security Essentials',\n    'service delivers software'],\n   'overlap': 0,\n   'evidence_stance': 'PRO',\n   'adu_stance': 'CON'},\n  {'adu': 'This view is probably a bit controversial given the wide use of Microsoft Windows in schools in the US and quite a few countries all over the world and might seem as a bit of a rant against Microsoft but bear with me.',\n   'adu_kp': ['microsoft windows', 'microsoft', 'rant'],\n   'evidence_unit': \"Another prominent case involving a tying claim was 'United States v. Microsoft'.\",\n   'evidence_kps': ['United States',\n    'prominent case involving',\n    'United',\n    'prominent case',\n    'case involving'],\n   'overlap': 0,\n   'evidence_stance': 'PRO',\n   'adu_stance': 'CON'}],\n [{'adu': 'This view is probably a bit controversial given the wide use of Microsoft Windows in schools in the US and quite a few countries all over the world and might seem as a bit of a rant against Microsoft but bear with me.',\n   'adu_kp': ['microsoft windows', 'microsoft', 'rant'],\n   'evidence_unit': 'This includes the Windows Server editions of the Microsoft Windows operating system, as well as products targeted at the wider business market.',\n   'evidence_kps': ['Windows Server editions',\n    'Microsoft Windows operating',\n    'Windows operating system',\n    'wider business market',\n    'Windows Server'],\n   'overlap': 0,\n   'evidence_stance': 'PRO',\n   'adu_stance': 'CON'},\n  {'adu': 'This view is probably a bit controversial given the wide use of Microsoft Windows in schools in the US and quite a few countries all over the world and might seem as a bit of a rant against Microsoft but bear with me.',\n   'adu_kp': ['microsoft windows', 'microsoft', 'rant'],\n   'evidence_unit': 'The service delivers software updates for Windows, as well as the various Microsoft antivirus products, including Windows Defender and Microsoft Security Essentials.',\n   'evidence_kps': ['Microsoft Security Essentials',\n    'including Windows Defender',\n    'Microsoft antivirus products',\n    'Security Essentials',\n    'service delivers software'],\n   'overlap': 0,\n   'evidence_stance': 'PRO',\n   'adu_stance': 'CON'},\n  {'adu': 'This view is probably a bit controversial given the wide use of Microsoft Windows in schools in the US and quite a few countries all over the world and might seem as a bit of a rant against Microsoft but bear with me.',\n   'adu_kp': ['microsoft windows', 'microsoft', 'rant'],\n   'evidence_unit': \"Another prominent case involving a tying claim was 'United States v. Microsoft'.\",\n   'evidence_kps': ['United States',\n    'prominent case involving',\n    'United',\n    'prominent case',\n    'case involving'],\n   'overlap': 0,\n   'evidence_stance': 'PRO',\n   'adu_stance': 'CON'}],\n [{'adu': 'This view is probably a bit controversial given the wide use of Microsoft Windows in schools in the US and quite a few countries all over the world and might seem as a bit of a rant against Microsoft but bear with me.',\n   'adu_kp': ['microsoft windows', 'microsoft', 'rant'],\n   'evidence_unit': 'This includes the Windows Server editions of the Microsoft Windows operating system, as well as products targeted at the wider business market.',\n   'evidence_kps': ['Windows Server editions',\n    'Microsoft Windows operating',\n    'Windows operating system',\n    'wider business market',\n    'Windows Server'],\n   'overlap': 0,\n   'evidence_stance': 'PRO',\n   'adu_stance': 'CON'},\n  {'adu': 'This view is probably a bit controversial given the wide use of Microsoft Windows in schools in the US and quite a few countries all over the world and might seem as a bit of a rant against Microsoft but bear with me.',\n   'adu_kp': ['microsoft windows', 'microsoft', 'rant'],\n   'evidence_unit': 'The service delivers software updates for Windows, as well as the various Microsoft antivirus products, including Windows Defender and Microsoft Security Essentials.',\n   'evidence_kps': ['Microsoft Security Essentials',\n    'including Windows Defender',\n    'Microsoft antivirus products',\n    'Security Essentials',\n    'service delivers software'],\n   'overlap': 0,\n   'evidence_stance': 'PRO',\n   'adu_stance': 'CON'},\n  {'adu': 'This view is probably a bit controversial given the wide use of Microsoft Windows in schools in the US and quite a few countries all over the world and might seem as a bit of a rant against Microsoft but bear with me.',\n   'adu_kp': ['microsoft windows', 'microsoft', 'rant'],\n   'evidence_unit': \"Another prominent case involving a tying claim was 'United States v. Microsoft'.\",\n   'evidence_kps': ['United States',\n    'prominent case involving',\n    'United',\n    'prominent case',\n    'case involving'],\n   'overlap': 0,\n   'evidence_stance': 'PRO',\n   'adu_stance': 'CON'}],\n [{'adu': 'I think that for redistributing wealth to deal with increased automation expanding the welfare system makes way more sense than UBI.',\n   'adu_kp': ['ubi', 'welfare system', 'wealth'],\n   'evidence_unit': 'Child welfare., Together, these two policies are intended to replace the current social welfare system, to reduce bureaucracy, and save money.',\n   'evidence_kps': ['social welfare system',\n    'current social welfare',\n    'Child welfare.',\n    'welfare system',\n    'reduce bureaucracy'],\n   'overlap': 5,\n   'evidence_stance': 'CON',\n   'adu_stance': 'NEUTRAL'},\n  {'adu': 'I think that for redistributing wealth to deal with increased automation expanding the welfare system makes way more sense than UBI.',\n   'adu_kp': ['ubi', 'welfare system', 'wealth'],\n   'evidence_unit': \"Together, these two policies are intended to replace the current social welfare system, to reduce bureaucracy, and save money., The importance of a nation's ability to redistribute wealth in order to implement social welfare programs, maintain public goods, and drive economic development has brought various conversations to the political arena.\",\n   'evidence_kps': ['maintain public goods',\n    'social welfare system',\n    'social welfare programs',\n    'current social welfare',\n    'implement social welfare'],\n   'overlap': 5,\n   'evidence_stance': 'CON',\n   'adu_stance': 'NEUTRAL'},\n  {'adu': 'I think that for redistributing wealth to deal with increased automation expanding the welfare system makes way more sense than UBI.',\n   'adu_kp': ['ubi', 'welfare system', 'wealth'],\n   'evidence_unit': 'Current social welfare schemes cost India about 3.7% of GDP, but UBI is expected to cost 4.9% of GDP.',\n   'evidence_kps': ['Current social welfare',\n    'schemes cost India',\n    'social welfare schemes',\n    'welfare schemes cost',\n    'UBI is expected'],\n   'overlap': 3,\n   'evidence_stance': 'CON',\n   'adu_stance': 'NEUTRAL'}],\n [{'adu': 'I think that for redistributing wealth to deal with increased automation expanding the welfare system makes way more sense than UBI.',\n   'adu_kp': ['ubi', 'welfare system', 'wealth'],\n   'evidence_unit': 'Child welfare., Together, these two policies are intended to replace the current social welfare system, to reduce bureaucracy, and save money.',\n   'evidence_kps': ['social welfare system',\n    'current social welfare',\n    'Child welfare.',\n    'welfare system',\n    'reduce bureaucracy'],\n   'overlap': 5,\n   'evidence_stance': 'CON',\n   'adu_stance': 'NEUTRAL'},\n  {'adu': 'I think that for redistributing wealth to deal with increased automation expanding the welfare system makes way more sense than UBI.',\n   'adu_kp': ['ubi', 'welfare system', 'wealth'],\n   'evidence_unit': \"Together, these two policies are intended to replace the current social welfare system, to reduce bureaucracy, and save money., The importance of a nation's ability to redistribute wealth in order to implement social welfare programs, maintain public goods, and drive economic development has brought various conversations to the political arena.\",\n   'evidence_kps': ['maintain public goods',\n    'social welfare system',\n    'social welfare programs',\n    'current social welfare',\n    'implement social welfare'],\n   'overlap': 5,\n   'evidence_stance': 'CON',\n   'adu_stance': 'NEUTRAL'},\n  {'adu': 'I think that for redistributing wealth to deal with increased automation expanding the welfare system makes way more sense than UBI.',\n   'adu_kp': ['ubi', 'welfare system', 'wealth'],\n   'evidence_unit': 'Current social welfare schemes cost India about 3.7% of GDP, but UBI is expected to cost 4.9% of GDP.',\n   'evidence_kps': ['Current social welfare',\n    'schemes cost India',\n    'social welfare schemes',\n    'welfare schemes cost',\n    'UBI is expected'],\n   'overlap': 3,\n   'evidence_stance': 'CON',\n   'adu_stance': 'NEUTRAL'}],\n [{'adu': 'To clarify what I mean by the Title I believe that people with a predominantly subsaharan African heritage are genetically inclined to lower intelligence when compared to Whites and East Asians.This does not mean that all black people are less intelligent than white people.',\n   'adu_kp': ['intelligence', 'subsaharan african heritage', 'white people'],\n   'evidence_unit': \"Non Berber populations showed substantially more SSA DNA contributions., 'White Other: White Caribbean', a write-in ethnic group under the White Other census subcategory, may also denote partial or distant African Caribbean heritage.\",\n   'evidence_kps': ['SSA DNA contributions.',\n    'African Caribbean heritage',\n    'distant African Caribbean',\n    'Berber populations showed',\n    'populations showed substantially'],\n   'overlap': 1,\n   'evidence_stance': 'CON',\n   'adu_stance': 'PRO'},\n  {'adu': 'To clarify what I mean by the Title I believe that people with a predominantly subsaharan African heritage are genetically inclined to lower intelligence when compared to Whites and East Asians.This does not mean that all black people are less intelligent than white people.',\n   'adu_kp': ['intelligence', 'subsaharan african heritage', 'white people'],\n   'evidence_unit': 'Whittier is the most populous neighborhood in Minneapolis, and second only in density to its neighbor Stevens Square.',\n   'evidence_kps': ['neighbor Stevens Square',\n    'Stevens Square',\n    'neighborhood in Minneapolis',\n    'neighbor Stevens',\n    'populous neighborhood'],\n   'overlap': 1,\n   'evidence_stance': 'CON',\n   'adu_stance': 'PRO'},\n  {'adu': 'To clarify what I mean by the Title I believe that people with a predominantly subsaharan African heritage are genetically inclined to lower intelligence when compared to Whites and East Asians.This does not mean that all black people are less intelligent than white people.',\n   'adu_kp': ['intelligence', 'subsaharan african heritage', 'white people'],\n   'evidence_unit': \"Cuisine., According to a 2000 article in 'European Journal of Human Genetics', Moroccans from North-Western Africa, although still with many differences, are genetically closer to Southern Europeans than to Sub-Saharan Africans of Bantu ethnicity.\",\n   'evidence_kps': ['Human Genetics',\n    'Journal of Human',\n    'Africans of Bantu',\n    'Bantu ethnicity',\n    'European Journal'],\n   'overlap': 0,\n   'evidence_stance': 'CON',\n   'adu_stance': 'PRO'}],\n [{'adu': 'As I see it the problem we have with police brutality in the US is strongly underpinned by the fact that police in general have demonstrated that they cant be trusted to adequately manage their use of typicallylethal methods of force.',\n   'adu_kp': ['police brutality', 'police', 'force'],\n   'evidence_unit': \"Police brutality can be defined as 'a civil rights violation that occurs when a police officer acts with excessive force by using an amount of force with regards to a civilian that is more than necessary'., While there are still instances of police brutality, trust in the police has steadily increased in Poland from 62% to 75% between 2002 and 2008, demonstrating the improvement in trust between the police and the general public.\",\n   'evidence_kps': ['police officer acts',\n    'increased in Poland',\n    'Police brutality',\n    'demonstrating the improvement',\n    'general public'],\n   'overlap': 2,\n   'evidence_stance': 'PRO',\n   'adu_stance': 'CON'}],\n [{'adu': 'Just a note I do not believe in Nazism.',\n   'adu_kp': ['nazism', 'nazism', 'note'],\n   'evidence_unit': 'It has been debated whether Nazism would constitute a political religion, and there has also been research on the millenarian, messianic, and occult or esoteric aspects of Nazism.',\n   'evidence_kps': ['political religion',\n    'constitute a political',\n    'occult or esoteric',\n    'esoteric aspects',\n    'messianic'],\n   'overlap': 1,\n   'evidence_stance': 'CON',\n   'adu_stance': 'NEUTRAL'},\n  {'adu': 'Just a note I do not believe in Nazism.',\n   'adu_kp': ['nazism', 'nazism', 'note'],\n   'evidence_unit': \"See: 'Satirarkivet', note 1., But Nazism was not Nazism at all.\",\n   'evidence_kps': ['Satirarkivet', 'note', 'Nazism'],\n   'overlap': 1,\n   'evidence_stance': 'CON',\n   'adu_stance': 'NEUTRAL'},\n  {'adu': 'Just a note I do not believe in Nazism.',\n   'adu_kp': ['nazism', 'nazism', 'note'],\n   'evidence_unit': 'In every system in the world, you can find something good.',\n   'evidence_kps': ['find something good', 'world', 'good', 'system', 'find'],\n   'overlap': 0,\n   'evidence_stance': 'PRO',\n   'adu_stance': 'NEUTRAL'}],\n [{'adu': 'There is a tasteless trend going on that dismisses complex social issues in most of the world as an allencompassing and canned idea of general failure.',\n   'adu_kp': ['international development',\n    'complex social issues',\n    'general failure',\n    'tasteless trend'],\n   'evidence_unit': 'It publishes research on international development issues with its main focus on the social sciences (economics, politics, international relations, sociology, and anthropology) as well as development studies, although it also publishes work that involves both the natural and social sciences.',\n   'evidence_kps': ['social sciences',\n    'international development issues',\n    'international relations',\n    'development studies',\n    'main focus'],\n   'overlap': 6,\n   'evidence_stance': 'PRO',\n   'adu_stance': 'CON'},\n  {'adu': 'There is a tasteless trend going on that dismisses complex social issues in most of the world as an allencompassing and canned idea of general failure.',\n   'adu_kp': ['international development',\n    'complex social issues',\n    'general failure',\n    'tasteless trend'],\n   'evidence_unit': 'To counterbalance this trend, NGOs emphasize [[Humanitarianism|humanitarian issues]], [[development aid]], and [[sustainable development]].',\n   'evidence_kps': ['NGOs emphasize',\n    'humanitarian issues',\n    'counterbalance this trend',\n    'development aid',\n    'sustainable development'],\n   'overlap': 4,\n   'evidence_stance': 'PRO',\n   'adu_stance': 'CON'},\n  {'adu': 'There is a tasteless trend going on that dismisses complex social issues in most of the world as an allencompassing and canned idea of general failure.',\n   'adu_kp': ['international development',\n    'complex social issues',\n    'general failure',\n    'tasteless trend'],\n   'evidence_unit': 'This is based on Sustainable Development Indicators Prepared for the United Nations Division for Sustainable Development (UN-DSD)DECEMBER 2005., The global issues included development, environment, peace and related social justice and economic issues.',\n   'evidence_kps': ['United Nations Division',\n    'Development Indicators Prepared',\n    'Sustainable Development Indicators',\n    'related social justice',\n    'issues included development'],\n   'overlap': 3,\n   'evidence_stance': 'PRO',\n   'adu_stance': 'CON'}],\n [{'adu': 'It seems my University has a week for everything for example last week was Black Culture Awareness Week even though we also have Black History Month.',\n   'adu_kp': ['black culture awareness week',\n    'black history month',\n    'university'],\n   'evidence_unit': 'The Black United Students and Black educators at Kent State University expanded this idea to include an entire month beginning on February 1, 1970.',\n   'evidence_kps': ['Kent State University',\n    'Black United Students',\n    'State University expanded',\n    'entire month beginning',\n    'United Students'],\n   'overlap': 1,\n   'evidence_stance': 'CON',\n   'adu_stance': 'NEUTRAL'},\n  {'adu': 'It seems my University has a week for everything for example last week was Black Culture Awareness Week even though we also have Black History Month.',\n   'adu_kp': ['black culture awareness week',\n    'black history month',\n    'university'],\n   'evidence_unit': \"In celebration, St. Mary's holds a Black History Month full of events to recognize and showcase the talents, achievements, and culture of St. Mary's own students as they demonstrate pride in their own heritage and culture., Their names appear below.\",\n   'evidence_kps': ['Black History Month',\n    'History Month full',\n    'Black History',\n    'History Month',\n    'holds a Black'],\n   'overlap': 1,\n   'evidence_stance': 'PRO',\n   'adu_stance': 'NEUTRAL'},\n  {'adu': 'It seems my University has a week for everything for example last week was Black Culture Awareness Week even though we also have Black History Month.',\n   'adu_kp': ['black culture awareness week',\n    'black history month',\n    'university'],\n   'evidence_unit': \"Dr. Woodson is known as the Father of Black History., By the early 20th century, black communities were annually celebrating Lincoln's birthday in conjunction with the birthday of former slave and abolitionist Frederick Douglass on February 14.\",\n   'evidence_kps': ['abolitionist Frederick Douglass',\n    'annually celebrating Lincoln',\n    'celebrating Lincoln birthday',\n    'Douglass on February',\n    'Frederick Douglass'],\n   'overlap': 1,\n   'evidence_stance': 'CON',\n   'adu_stance': 'NEUTRAL'}],\n [{'adu': 'I need to preface my thoughts initially by saying that holding this view does not mean I devalue cheerleading in any way.',\n   'adu_kp': ['cheerleading', 'view', 'thoughts', 'way'],\n   'evidence_unit': 'Autobiographical fiction includes the thoughts and view of the narrator which describes their way of thinking.',\n   'evidence_kps': ['Autobiographical fiction includes',\n    'Autobiographical fiction',\n    'fiction includes',\n    'includes the thoughts',\n    'thoughts and view'],\n   'overlap': 3,\n   'evidence_stance': 'CON',\n   'adu_stance': 'NEUTRAL'},\n  {'adu': 'I need to preface my thoughts initially by saying that holding this view does not mean I devalue cheerleading in any way.',\n   'adu_kp': ['cheerleading', 'view', 'thoughts', 'way'],\n   'evidence_unit': 'Gilbert Ryle, on the other hand, maintains a diametrically opposed view.',\n   'evidence_kps': ['Gilbert Ryle',\n    'diametrically opposed view',\n    'maintains a diametrically',\n    'opposed view',\n    'Ryle'],\n   'overlap': 3,\n   'evidence_stance': 'CON',\n   'adu_stance': 'NEUTRAL'},\n  {'adu': 'I need to preface my thoughts initially by saying that holding this view does not mean I devalue cheerleading in any way.',\n   'adu_kp': ['cheerleading', 'view', 'thoughts', 'way'],\n   'evidence_unit': \"The satirical practice of radical cheerleading developed alongside the growing popularity of cheerleading in popular culture., She also possesses Second Thoughts, which are defined as 'the thoughts you think about the way you think'.\",\n   'evidence_kps': ['radical cheerleading developed',\n    'cheerleading developed alongside',\n    'popular culture.',\n    'satirical practice',\n    'practice of radical'],\n   'overlap': 2,\n   'evidence_stance': 'PRO',\n   'adu_stance': 'NEUTRAL'}],\n [{'adu': 'I need to preface my thoughts initially by saying that holding this view does not mean I devalue cheerleading in any way.',\n   'adu_kp': ['cheerleading', 'view', 'thoughts', 'way'],\n   'evidence_unit': 'Autobiographical fiction includes the thoughts and view of the narrator which describes their way of thinking.',\n   'evidence_kps': ['Autobiographical fiction includes',\n    'Autobiographical fiction',\n    'fiction includes',\n    'includes the thoughts',\n    'thoughts and view'],\n   'overlap': 3,\n   'evidence_stance': 'CON',\n   'adu_stance': 'NEUTRAL'},\n  {'adu': 'I need to preface my thoughts initially by saying that holding this view does not mean I devalue cheerleading in any way.',\n   'adu_kp': ['cheerleading', 'view', 'thoughts', 'way'],\n   'evidence_unit': 'Gilbert Ryle, on the other hand, maintains a diametrically opposed view.',\n   'evidence_kps': ['Gilbert Ryle',\n    'diametrically opposed view',\n    'maintains a diametrically',\n    'opposed view',\n    'Ryle'],\n   'overlap': 3,\n   'evidence_stance': 'CON',\n   'adu_stance': 'NEUTRAL'},\n  {'adu': 'I need to preface my thoughts initially by saying that holding this view does not mean I devalue cheerleading in any way.',\n   'adu_kp': ['cheerleading', 'view', 'thoughts', 'way'],\n   'evidence_unit': \"The satirical practice of radical cheerleading developed alongside the growing popularity of cheerleading in popular culture., She also possesses Second Thoughts, which are defined as 'the thoughts you think about the way you think'.\",\n   'evidence_kps': ['radical cheerleading developed',\n    'cheerleading developed alongside',\n    'popular culture.',\n    'satirical practice',\n    'practice of radical'],\n   'overlap': 2,\n   'evidence_stance': 'PRO',\n   'adu_stance': 'NEUTRAL'}],\n [{'adu': 'My position relies on these points The Bell Curve The Bell Curve is a scientific book by Richard Herrnstein and Charles A. Murray in the book a racial IQ gap is described that has prominent races in the allowing orderfrom least intelligent to most blacks whites Asians jews.',\n   'adu_kp': ['heritability of iq',\n    'racial iq gap',\n    'bell curve',\n    'prominent races'],\n   'evidence_unit': 'Growing evidence indicates that environmental factors, not genetic ones, explain the racial IQ gap.',\n   'evidence_kps': ['Growing evidence',\n    'environmental factors',\n    'explain the racial',\n    'racial IQ gap',\n    'Growing'],\n   'overlap': 3,\n   'evidence_stance': 'CON',\n   'adu_stance': 'PRO'},\n  {'adu': 'My position relies on these points The Bell Curve The Bell Curve is a scientific book by Richard Herrnstein and Charles A. Murray in the book a racial IQ gap is described that has prominent races in the allowing orderfrom least intelligent to most blacks whites Asians jews.',\n   'adu_kp': ['heritability of iq',\n    'racial iq gap',\n    'bell curve',\n    'prominent races'],\n   'evidence_unit': 'Growing evidence indicates that environmental factors, not genetic ones, explain the racial IQ gap.',\n   'evidence_kps': ['Growing evidence',\n    'environmental factors',\n    'explain the racial',\n    'racial IQ gap',\n    'Growing'],\n   'overlap': 3,\n   'evidence_stance': 'CON',\n   'adu_stance': 'PRO'},\n  {'adu': 'My position relies on these points The Bell Curve The Bell Curve is a scientific book by Richard Herrnstein and Charles A. Murray in the book a racial IQ gap is described that has prominent races in the allowing orderfrom least intelligent to most blacks whites Asians jews.',\n   'adu_kp': ['heritability of iq',\n    'racial iq gap',\n    'bell curve',\n    'prominent races'],\n   'evidence_unit': 'Growing evidence indicates that environmental factors, not genetic ones, explain the racial IQ gap.',\n   'evidence_kps': ['Growing evidence',\n    'environmental factors',\n    'explain the racial',\n    'racial IQ gap',\n    'Growing'],\n   'overlap': 3,\n   'evidence_stance': 'CON',\n   'adu_stance': 'PRO'}],\n [{'adu': 'My position relies on these points The Bell Curve The Bell Curve is a scientific book by Richard Herrnstein and Charles A. Murray in the book a racial IQ gap is described that has prominent races in the allowing orderfrom least intelligent to most blacks whites Asians jews.',\n   'adu_kp': ['heritability of iq',\n    'racial iq gap',\n    'bell curve',\n    'prominent races'],\n   'evidence_unit': 'Growing evidence indicates that environmental factors, not genetic ones, explain the racial IQ gap.',\n   'evidence_kps': ['Growing evidence',\n    'environmental factors',\n    'explain the racial',\n    'racial IQ gap',\n    'Growing'],\n   'overlap': 3,\n   'evidence_stance': 'CON',\n   'adu_stance': 'PRO'},\n  {'adu': 'My position relies on these points The Bell Curve The Bell Curve is a scientific book by Richard Herrnstein and Charles A. Murray in the book a racial IQ gap is described that has prominent races in the allowing orderfrom least intelligent to most blacks whites Asians jews.',\n   'adu_kp': ['heritability of iq',\n    'racial iq gap',\n    'bell curve',\n    'prominent races'],\n   'evidence_unit': 'Growing evidence indicates that environmental factors, not genetic ones, explain the racial IQ gap.',\n   'evidence_kps': ['Growing evidence',\n    'environmental factors',\n    'explain the racial',\n    'racial IQ gap',\n    'Growing'],\n   'overlap': 3,\n   'evidence_stance': 'CON',\n   'adu_stance': 'PRO'},\n  {'adu': 'My position relies on these points The Bell Curve The Bell Curve is a scientific book by Richard Herrnstein and Charles A. Murray in the book a racial IQ gap is described that has prominent races in the allowing orderfrom least intelligent to most blacks whites Asians jews.',\n   'adu_kp': ['heritability of iq',\n    'racial iq gap',\n    'bell curve',\n    'prominent races'],\n   'evidence_unit': 'Growing evidence indicates that environmental factors, not genetic ones, explain the racial IQ gap.',\n   'evidence_kps': ['Growing evidence',\n    'environmental factors',\n    'explain the racial',\n    'racial IQ gap',\n    'Growing'],\n   'overlap': 3,\n   'evidence_stance': 'CON',\n   'adu_stance': 'PRO'}],\n [{'adu': 'I understand that words are important as they allow us to communicate and spread ideas.',\n   'adu_kp': ['right to silence', 'words', 'ideas'],\n   'evidence_unit': 'Mauna (Sanskrit: मौनम्) or Maunitva (मौनित्व) means – silence, taciturnity, silence of the mind – as in मौनमुद्रा (the attitude of silence) and मौनव्रतम् (a vow of silence) or मौनिन् (observing vow of silence).',\n   'evidence_kps': ['मौनम्) or Maunitva',\n    'observing vow',\n    'vow of silence',\n    'silence',\n    'attitude of silence'],\n   'overlap': 4,\n   'evidence_stance': 'CON',\n   'adu_stance': 'PRO'},\n  {'adu': 'I understand that words are important as they allow us to communicate and spread ideas.',\n   'adu_kp': ['right to silence', 'words', 'ideas'],\n   'evidence_unit': \"Noam Chomsky later made the same point with his famous sentence 'Colorless green ideas sleep furiously'., As such, the right has been given a wide interpretation.\",\n   'evidence_kps': ['Colorless green ideas',\n    'ideas sleep furiously',\n    'green ideas sleep',\n    'Noam Chomsky',\n    'Colorless green'],\n   'overlap': 3,\n   'evidence_stance': 'CON',\n   'adu_stance': 'PRO'},\n  {'adu': 'I understand that words are important as they allow us to communicate and spread ideas.',\n   'adu_kp': ['right to silence', 'words', 'ideas'],\n   'evidence_unit': \"This is provided for in the Official Information Act 1982., To illustrate this separation, he produced the nonsensical sentence 'Le silence vertébral indispose la voile licite' 'The vertebral silence indisposes the licit sail'.\",\n   'evidence_kps': ['Official Information Act',\n    'silence vertébral indispose',\n    'vertebral silence indisposes',\n    'Information Act',\n    'Official Information'],\n   'overlap': 2,\n   'evidence_stance': 'CON',\n   'adu_stance': 'PRO'}],\n [{'adu': 'If they do they should let both students and educators know that for example on a scale of to with being totally incoherent and being their accents dont affect learning at all for the average English speaker this particular educator rated a .I say especially colleges and private schools because unlike high schools and middle schools were actually paying for our educations.',\n   'adu_kp': ['average english speaker', 'educators', 'accents'],\n   'evidence_unit': \"In non-rhotic accents, is silent in such words as 'hard', 'feathered'; in 'h'-dropping accents, is silent.\",\n   'evidence_kps': ['non-rhotic accents',\n    'dropping accents',\n    'accents',\n    'hard',\n    'feathered'],\n   'overlap': 3,\n   'evidence_stance': 'PRO',\n   'adu_stance': 'CON'},\n  {'adu': 'If they do they should let both students and educators know that for example on a scale of to with being totally incoherent and being their accents dont affect learning at all for the average English speaker this particular educator rated a .I say especially colleges and private schools because unlike high schools and middle schools were actually paying for our educations.',\n   'adu_kp': ['average english speaker', 'educators', 'accents'],\n   'evidence_unit': 'As southern Louisiana became more urban and industrialized, the Houma remained relatively isolated in their bayou settlements., In 2018, it was estimated that for every native speaker of English, there are six non-native speakers of reasonable competence, raising the questions of English as a lingua franca as the most widely spoken form of the language.',\n   'evidence_kps': ['widely spoken form',\n    'speaker of English',\n    'questions of English',\n    'southern Louisiana',\n    'Houma remained'],\n   'overlap': 1,\n   'evidence_stance': 'PRO',\n   'adu_stance': 'CON'},\n  {'adu': 'If they do they should let both students and educators know that for example on a scale of to with being totally incoherent and being their accents dont affect learning at all for the average English speaker this particular educator rated a .I say especially colleges and private schools because unlike high schools and middle schools were actually paying for our educations.',\n   'adu_kp': ['average english speaker', 'educators', 'accents'],\n   'evidence_unit': 'Accents in north-east Wales and parts of the North Wales coastline have been influenced by accents in North West England, accents in the mid-east have been influenced by accents in the West Midlands while accents in south-east Wales have been influenced by West Country English., Socially, the accent of the spoken version of the standard language then indicated that the speaker was a man or a woman possessed of a good education, and thus of high social prestige.',\n   'evidence_kps': ['West Country English.',\n    'North West England',\n    'North Wales coastline',\n    'high social prestige',\n    'Country English.'],\n   'overlap': 0,\n   'evidence_stance': 'PRO',\n   'adu_stance': 'CON'}],\n [{'adu': 'For this I am assuming that such a union has a significant likelihood of producing a squib.',\n   'adu_kp': ['supranational union',\n    'union',\n    'squib',\n    'significant likelihood'],\n   'evidence_unit': 'European Union., But this is at the expense of the democratic potentialities of a full supranational union as conceived in the first Community.',\n   'evidence_kps': ['full supranational union',\n    'European Union.',\n    'democratic potentialities',\n    'full supranational',\n    'supranational union'],\n   'overlap': 5,\n   'evidence_stance': 'CON',\n   'adu_stance': 'PRO'},\n  {'adu': 'For this I am assuming that such a union has a significant likelihood of producing a squib.',\n   'adu_kp': ['supranational union',\n    'union',\n    'squib',\n    'significant likelihood'],\n   'evidence_unit': 'The only union generally recognised as having achieved the status of a supranational union is the European Union., Euroscepticism, i.e.',\n   'evidence_kps': ['union generally recognised',\n    'European Union.',\n    'generally recognised',\n    'achieved the status',\n    'union generally'],\n   'overlap': 2,\n   'evidence_stance': 'CON',\n   'adu_stance': 'PRO'},\n  {'adu': 'For this I am assuming that such a union has a significant likelihood of producing a squib.',\n   'adu_kp': ['supranational union',\n    'union',\n    'squib',\n    'significant likelihood'],\n   'evidence_unit': 'The European Union has a supranational pharmacopoeia, the European Pharmacopoeia; it has not replaced the national pharmacopoeias of EU member states but rather helps to harmonize them.',\n   'evidence_kps': ['European Union',\n    'European Pharmacopoeia',\n    'replaced the national',\n    'member states',\n    'supranational pharmacopoeia'],\n   'overlap': 2,\n   'evidence_stance': 'CON',\n   'adu_stance': 'PRO'}],\n [{'adu': 'For this I am assuming that such a union has a significant likelihood of producing a squib.',\n   'adu_kp': ['supranational union',\n    'union',\n    'squib',\n    'significant likelihood'],\n   'evidence_unit': 'European Union., But this is at the expense of the democratic potentialities of a full supranational union as conceived in the first Community.',\n   'evidence_kps': ['full supranational union',\n    'European Union.',\n    'democratic potentialities',\n    'full supranational',\n    'supranational union'],\n   'overlap': 5,\n   'evidence_stance': 'CON',\n   'adu_stance': 'PRO'},\n  {'adu': 'For this I am assuming that such a union has a significant likelihood of producing a squib.',\n   'adu_kp': ['supranational union',\n    'union',\n    'squib',\n    'significant likelihood'],\n   'evidence_unit': 'The only union generally recognised as having achieved the status of a supranational union is the European Union., Euroscepticism, i.e.',\n   'evidence_kps': ['union generally recognised',\n    'European Union.',\n    'generally recognised',\n    'achieved the status',\n    'union generally'],\n   'overlap': 2,\n   'evidence_stance': 'CON',\n   'adu_stance': 'PRO'},\n  {'adu': 'For this I am assuming that such a union has a significant likelihood of producing a squib.',\n   'adu_kp': ['supranational union',\n    'union',\n    'squib',\n    'significant likelihood'],\n   'evidence_unit': 'The European Union has a supranational pharmacopoeia, the European Pharmacopoeia; it has not replaced the national pharmacopoeias of EU member states but rather helps to harmonize them.',\n   'evidence_kps': ['European Union',\n    'European Pharmacopoeia',\n    'replaced the national',\n    'member states',\n    'supranational pharmacopoeia'],\n   'overlap': 2,\n   'evidence_stance': 'CON',\n   'adu_stance': 'PRO'}],\n [{'adu': 'For this I am assuming that such a union has a significant likelihood of producing a squib.',\n   'adu_kp': ['supranational union',\n    'union',\n    'squib',\n    'significant likelihood'],\n   'evidence_unit': 'European Union., But this is at the expense of the democratic potentialities of a full supranational union as conceived in the first Community.',\n   'evidence_kps': ['full supranational union',\n    'European Union.',\n    'democratic potentialities',\n    'full supranational',\n    'supranational union'],\n   'overlap': 5,\n   'evidence_stance': 'CON',\n   'adu_stance': 'PRO'},\n  {'adu': 'For this I am assuming that such a union has a significant likelihood of producing a squib.',\n   'adu_kp': ['supranational union',\n    'union',\n    'squib',\n    'significant likelihood'],\n   'evidence_unit': 'The only union generally recognised as having achieved the status of a supranational union is the European Union., Euroscepticism, i.e.',\n   'evidence_kps': ['union generally recognised',\n    'European Union.',\n    'generally recognised',\n    'achieved the status',\n    'union generally'],\n   'overlap': 2,\n   'evidence_stance': 'CON',\n   'adu_stance': 'PRO'},\n  {'adu': 'For this I am assuming that such a union has a significant likelihood of producing a squib.',\n   'adu_kp': ['supranational union',\n    'union',\n    'squib',\n    'significant likelihood'],\n   'evidence_unit': 'The European Union has a supranational pharmacopoeia, the European Pharmacopoeia; it has not replaced the national pharmacopoeias of EU member states but rather helps to harmonize them.',\n   'evidence_kps': ['European Union',\n    'European Pharmacopoeia',\n    'replaced the national',\n    'member states',\n    'supranational pharmacopoeia'],\n   'overlap': 2,\n   'evidence_stance': 'CON',\n   'adu_stance': 'PRO'}],\n [{'adu': 'Im years old and in months I turn Im in America for what its worth.',\n   'adu_kp': ['america', 'years', 'worth'],\n   'evidence_unit': \"Final years and 'This Is It' (2006–2009).\",\n   'evidence_kps': ['Final years', 'Final', 'years'],\n   'overlap': 2,\n   'evidence_stance': 'CON',\n   'adu_stance': 'PRO'},\n  {'adu': 'Im years old and in months I turn Im in America for what its worth.',\n   'adu_kp': ['america', 'years', 'worth'],\n   'evidence_unit': 'Went to South America for a few years ... until things settled down.',\n   'evidence_kps': ['South America', 'South', 'America', 'years', 'things'],\n   'overlap': 1,\n   'evidence_stance': 'CON',\n   'adu_stance': 'PRO'},\n  {'adu': 'Im years old and in months I turn Im in America for what its worth.',\n   'adu_kp': ['america', 'years', 'worth'],\n   'evidence_unit': \"Recent years have seen Beijing's growing economic and political influence in South America and the Caribbean.\",\n   'evidence_kps': ['Beijing growing economic',\n    'South America',\n    'Beijing growing',\n    'influence in South',\n    'Recent years'],\n   'overlap': 1,\n   'evidence_stance': 'CON',\n   'adu_stance': 'PRO'}],\n [{'adu': 'Im years old and in months I turn Im in America for what its worth.',\n   'adu_kp': ['america', 'years', 'worth'],\n   'evidence_unit': \"Final years and 'This Is It' (2006–2009).\",\n   'evidence_kps': ['Final years', 'Final', 'years'],\n   'overlap': 2,\n   'evidence_stance': 'CON',\n   'adu_stance': 'PRO'},\n  {'adu': 'Im years old and in months I turn Im in America for what its worth.',\n   'adu_kp': ['america', 'years', 'worth'],\n   'evidence_unit': 'Went to South America for a few years ... until things settled down.',\n   'evidence_kps': ['South America', 'South', 'America', 'years', 'things'],\n   'overlap': 1,\n   'evidence_stance': 'CON',\n   'adu_stance': 'PRO'},\n  {'adu': 'Im years old and in months I turn Im in America for what its worth.',\n   'adu_kp': ['america', 'years', 'worth'],\n   'evidence_unit': \"Recent years have seen Beijing's growing economic and political influence in South America and the Caribbean.\",\n   'evidence_kps': ['Beijing growing economic',\n    'South America',\n    'Beijing growing',\n    'influence in South',\n    'Recent years'],\n   'overlap': 1,\n   'evidence_stance': 'CON',\n   'adu_stance': 'PRO'}],\n [{'adu': 'If you take a step back and look at what religion has done to this world it is all negative.',\n   'adu_kp': ['crusades', 'religion', 'step', 'world'],\n   'evidence_unit': 'voyages)., Chronological horizons have crusades existing into the early modern world e.g., the survival of the Order of St. John on Malta until 1798.',\n   'evidence_kps': ['early modern world',\n    'John on Malta',\n    'Chronological horizons',\n    'modern world',\n    'horizons have crusades'],\n   'overlap': 4,\n   'evidence_stance': 'PRO',\n   'adu_stance': 'CON'},\n  {'adu': 'If you take a step back and look at what religion has done to this world it is all negative.',\n   'adu_kp': ['crusades', 'religion', 'step', 'world'],\n   'evidence_unit': 'This confrontation led to the Crusades, which ultimately failed militarily, but were an important step in the emergence of a European identity based on religion.',\n   'evidence_kps': ['European identity based',\n    'ultimately failed militarily',\n    'European identity',\n    'failed militarily',\n    'based on religion'],\n   'overlap': 2,\n   'evidence_stance': 'PRO',\n   'adu_stance': 'CON'},\n  {'adu': 'If you take a step back and look at what religion has done to this world it is all negative.',\n   'adu_kp': ['crusades', 'religion', 'step', 'world'],\n   'evidence_unit': 'Western historians have traditionally argued that the Muslim world showed little interest in the Crusades until the mid-19th century., Motivated by religion and dreams of conquest, the kings of Europe launched a number of Crusades to try to roll back Muslim power and retake the holy land.',\n   'evidence_kps': ['Muslim world showed',\n    'roll back Muslim',\n    'back Muslim power',\n    'Motivated by religion',\n    'kings of Europe'],\n   'overlap': 2,\n   'evidence_stance': 'PRO',\n   'adu_stance': 'CON'}],\n [{'adu': 'If you take a step back and look at what religion has done to this world it is all negative.',\n   'adu_kp': ['crusades', 'religion', 'step', 'world'],\n   'evidence_unit': 'voyages)., Chronological horizons have crusades existing into the early modern world e.g., the survival of the Order of St. John on Malta until 1798.',\n   'evidence_kps': ['early modern world',\n    'John on Malta',\n    'Chronological horizons',\n    'modern world',\n    'horizons have crusades'],\n   'overlap': 4,\n   'evidence_stance': 'PRO',\n   'adu_stance': 'CON'},\n  {'adu': 'If you take a step back and look at what religion has done to this world it is all negative.',\n   'adu_kp': ['crusades', 'religion', 'step', 'world'],\n   'evidence_unit': 'This confrontation led to the Crusades, which ultimately failed militarily, but were an important step in the emergence of a European identity based on religion.',\n   'evidence_kps': ['European identity based',\n    'ultimately failed militarily',\n    'European identity',\n    'failed militarily',\n    'based on religion'],\n   'overlap': 2,\n   'evidence_stance': 'PRO',\n   'adu_stance': 'CON'},\n  {'adu': 'If you take a step back and look at what religion has done to this world it is all negative.',\n   'adu_kp': ['crusades', 'religion', 'step', 'world'],\n   'evidence_unit': 'Western historians have traditionally argued that the Muslim world showed little interest in the Crusades until the mid-19th century., Motivated by religion and dreams of conquest, the kings of Europe launched a number of Crusades to try to roll back Muslim power and retake the holy land.',\n   'evidence_kps': ['Muslim world showed',\n    'roll back Muslim',\n    'back Muslim power',\n    'Motivated by religion',\n    'kings of Europe'],\n   'overlap': 2,\n   'evidence_stance': 'PRO',\n   'adu_stance': 'CON'}],\n [{'adu': 'IMO whenever theyre used its mostly just confusing especially to younger readers.',\n   'adu_kp': ['younger readers'],\n   'evidence_unit': 'Currently the annual awards cover books first published in the U.K. during the calendar year., Fiction for younger readers.',\n   'evidence_kps': ['annual awards cover',\n    'awards cover books',\n    'Fiction for younger',\n    'calendar year.',\n    'younger readers'],\n   'overlap': 3,\n   'evidence_stance': 'PRO',\n   'adu_stance': 'CON'},\n  {'adu': 'IMO whenever theyre used its mostly just confusing especially to younger readers.',\n   'adu_kp': ['younger readers'],\n   'evidence_unit': 'None, This list consists of fictional investigators written specifically for younger readers: None None, Reviews by readers :I really enjoyed this book.',\n   'evidence_kps': ['fictional investigators written',\n    'investigators written specifically',\n    'enjoyed this book',\n    'younger readers',\n    'Reviews by readers'],\n   'overlap': 3,\n   'evidence_stance': 'PRO',\n   'adu_stance': 'CON'},\n  {'adu': 'IMO whenever theyre used its mostly just confusing especially to younger readers.',\n   'adu_kp': ['younger readers'],\n   'evidence_unit': 'It was very quick to read, but it was fun.',\n   'evidence_kps': ['quick to read', 'read', 'fun', 'quick'],\n   'overlap': 2,\n   'evidence_stance': 'PRO',\n   'adu_stance': 'CON'}],\n [{'adu': 'IMO whenever theyre used its mostly just confusing especially to younger readers.',\n   'adu_kp': ['younger readers'],\n   'evidence_unit': 'Currently the annual awards cover books first published in the U.K. during the calendar year., Fiction for younger readers.',\n   'evidence_kps': ['annual awards cover',\n    'awards cover books',\n    'Fiction for younger',\n    'calendar year.',\n    'younger readers'],\n   'overlap': 3,\n   'evidence_stance': 'PRO',\n   'adu_stance': 'CON'},\n  {'adu': 'IMO whenever theyre used its mostly just confusing especially to younger readers.',\n   'adu_kp': ['younger readers'],\n   'evidence_unit': 'None, This list consists of fictional investigators written specifically for younger readers: None None, Reviews by readers :I really enjoyed this book.',\n   'evidence_kps': ['fictional investigators written',\n    'investigators written specifically',\n    'enjoyed this book',\n    'younger readers',\n    'Reviews by readers'],\n   'overlap': 3,\n   'evidence_stance': 'PRO',\n   'adu_stance': 'CON'},\n  {'adu': 'IMO whenever theyre used its mostly just confusing especially to younger readers.',\n   'adu_kp': ['younger readers'],\n   'evidence_unit': 'It was very quick to read, but it was fun.',\n   'evidence_kps': ['quick to read', 'read', 'fun', 'quick'],\n   'overlap': 2,\n   'evidence_stance': 'PRO',\n   'adu_stance': 'CON'}],\n [{'adu': 'Ive recently been studying determinism compatibilism libertarianism and fatalism and such and from what Ive been able to put together all human actions are ultimately automatic and out of our control.As an artist this rubs me the wrong way but doesnt change anything about the laws of physics or the universe.',\n   'adu_kp': ['determinism compatibilism libertarianism',\n    'human actions',\n    'control'],\n   'evidence_unit': 'In the book, he introduces the term incompatibilism about free will and determinism, to stand in contrast to compatibilism—the view that free will is compatible with determinism.',\n   'evidence_kps': ['contrast to compatibilism',\n    'introduces the term',\n    'term incompatibilism',\n    'stand in contrast',\n    'compatible with determinism'],\n   'overlap': 5,\n   'evidence_stance': 'PRO',\n   'adu_stance': 'CON'},\n  {'adu': 'Ive recently been studying determinism compatibilism libertarianism and fatalism and such and from what Ive been able to put together all human actions are ultimately automatic and out of our control.As an artist this rubs me the wrong way but doesnt change anything about the laws of physics or the universe.',\n   'adu_kp': ['determinism compatibilism libertarianism',\n    'human actions',\n    'control'],\n   'evidence_unit': 'For example, logical and theological determinism challenge metaphysical libertarianism with ideas of destiny and fate, and biological, cultural and psychological determinism feed the development of compatibilist models.',\n   'evidence_kps': ['challenge metaphysical libertarianism',\n    'theological determinism challenge',\n    'determinism challenge metaphysical',\n    'psychological determinism feed',\n    'logical and theological'],\n   'overlap': 4,\n   'evidence_stance': 'PRO',\n   'adu_stance': 'CON'},\n  {'adu': 'Ive recently been studying determinism compatibilism libertarianism and fatalism and such and from what Ive been able to put together all human actions are ultimately automatic and out of our control.As an artist this rubs me the wrong way but doesnt change anything about the laws of physics or the universe.',\n   'adu_kp': ['determinism compatibilism libertarianism',\n    'human actions',\n    'control'],\n   'evidence_unit': 'Incompatibilism is contrasted with compatibilism, which rejects the dichotomy between determinism and free will.',\n   'evidence_kps': ['Incompatibilism is contrasted',\n    'contrasted with compatibilism',\n    'rejects the dichotomy',\n    'dichotomy between determinism',\n    'determinism and free'],\n   'overlap': 4,\n   'evidence_stance': 'PRO',\n   'adu_stance': 'CON'}],\n [{'adu': 'Im a freshman in college and Ive seem to have an unchangeable view at the moment.',\n   'adu_kp': ['consumption', 'freshman', 'college', 'unchangeable view'],\n   'evidence_unit': 'From the point of view of the first cause, all is unchangeable, although from the limited point of view of the secondary cause, miracles may be spoken of.',\n   'evidence_kps': ['point of view',\n    'limited point',\n    'view',\n    'point',\n    'unchangeable'],\n   'overlap': 3,\n   'evidence_stance': 'PRO',\n   'adu_stance': 'NEUTRAL'},\n  {'adu': 'Im a freshman in college and Ive seem to have an unchangeable view at the moment.',\n   'adu_kp': ['consumption', 'freshman', 'college', 'unchangeable view'],\n   'evidence_unit': \"Freshman and redshirt freshman seasons., Two new songs were added to the album: 'Unchangeable' and 'One Day'.\",\n   'evidence_kps': ['redshirt freshman seasons.',\n    'freshman seasons.',\n    'Unchangeable',\n    'songs were added',\n    'redshirt freshman'],\n   'overlap': 3,\n   'evidence_stance': 'CON',\n   'adu_stance': 'NEUTRAL'},\n  {'adu': 'Im a freshman in college and Ive seem to have an unchangeable view at the moment.',\n   'adu_kp': ['consumption', 'freshman', 'college', 'unchangeable view'],\n   'evidence_unit': 'In her freshman season, she stated 19 games, including a 20 save performance against the McNeese State Cowgirls on August 17, 2018., College career.',\n   'evidence_kps': ['McNeese State Cowgirls',\n    'Cowgirls on August',\n    'College career',\n    'State Cowgirls',\n    'games'],\n   'overlap': 1,\n   'evidence_stance': 'CON',\n   'adu_stance': 'NEUTRAL'}],\n [{'adu': 'Im a freshman in college and Ive seem to have an unchangeable view at the moment.',\n   'adu_kp': ['consumption', 'freshman', 'college', 'unchangeable view'],\n   'evidence_unit': 'From the point of view of the first cause, all is unchangeable, although from the limited point of view of the secondary cause, miracles may be spoken of.',\n   'evidence_kps': ['point of view',\n    'limited point',\n    'view',\n    'point',\n    'unchangeable'],\n   'overlap': 3,\n   'evidence_stance': 'PRO',\n   'adu_stance': 'NEUTRAL'},\n  {'adu': 'Im a freshman in college and Ive seem to have an unchangeable view at the moment.',\n   'adu_kp': ['consumption', 'freshman', 'college', 'unchangeable view'],\n   'evidence_unit': \"Freshman and redshirt freshman seasons., Two new songs were added to the album: 'Unchangeable' and 'One Day'.\",\n   'evidence_kps': ['redshirt freshman seasons.',\n    'freshman seasons.',\n    'Unchangeable',\n    'songs were added',\n    'redshirt freshman'],\n   'overlap': 3,\n   'evidence_stance': 'CON',\n   'adu_stance': 'NEUTRAL'},\n  {'adu': 'Im a freshman in college and Ive seem to have an unchangeable view at the moment.',\n   'adu_kp': ['consumption', 'freshman', 'college', 'unchangeable view'],\n   'evidence_unit': 'In her freshman season, she stated 19 games, including a 20 save performance against the McNeese State Cowgirls on August 17, 2018., College career.',\n   'evidence_kps': ['McNeese State Cowgirls',\n    'Cowgirls on August',\n    'College career',\n    'State Cowgirls',\n    'games'],\n   'overlap': 1,\n   'evidence_stance': 'CON',\n   'adu_stance': 'NEUTRAL'}],\n [{'adu': 'I recently got married and one thing my wife and I have discussed at great lengths is what we should do with our surnames.I have come to the conclusion that we currently do not have a reliable fair gender equal convention for dealing with family names in marriage.Example case Groom Jones and Bride JohnsonTheir options are Patrilineal Mr amp Mrs Jones.',\n   'adu_kp': ['conjoined twins',\n    'family names',\n    'surnames',\n    'reliable fair gender'],\n   'evidence_unit': 'It is the only book about conjoined twins written by a parent of conjoined twins., The most common types of conjoined twins are:Other, less common types of conjoined twins include:Management.',\n   'evidence_kps': ['conjoined twins include',\n    'conjoined twins written',\n    'conjoined twins',\n    'common types',\n    'types of conjoined'],\n   'overlap': 7,\n   'evidence_stance': 'CON',\n   'adu_stance': 'PRO'},\n  {'adu': 'I recently got married and one thing my wife and I have discussed at great lengths is what we should do with our surnames.I have come to the conclusion that we currently do not have a reliable fair gender equal convention for dealing with family names in marriage.Example case Groom Jones and Bride JohnsonTheir options are Patrilineal Mr amp Mrs Jones.',\n   'adu_kp': ['conjoined twins',\n    'family names',\n    'surnames',\n    'reliable fair gender'],\n   'evidence_unit': 'The most common types of conjoined twins are:Other, less common types of conjoined twins include:Management., Conjoined twins appear in one in 50,000 to one in 100,000 births.',\n   'evidence_kps': ['conjoined twins include',\n    'conjoined twins',\n    'types of conjoined',\n    'common types',\n    'twins include'],\n   'overlap': 6,\n   'evidence_stance': 'CON',\n   'adu_stance': 'PRO'},\n  {'adu': 'I recently got married and one thing my wife and I have discussed at great lengths is what we should do with our surnames.I have come to the conclusion that we currently do not have a reliable fair gender equal convention for dealing with family names in marriage.Example case Groom Jones and Bride JohnsonTheir options are Patrilineal Mr amp Mrs Jones.',\n   'adu_kp': ['conjoined twins',\n    'family names',\n    'surnames',\n    'reliable fair gender'],\n   'evidence_unit': 'Dicephalic twins represent about 11 percent of all conjoined twins.',\n   'evidence_kps': ['Dicephalic twins represent',\n    'Dicephalic twins',\n    'twins represent',\n    'conjoined twins',\n    'Dicephalic'],\n   'overlap': 5,\n   'evidence_stance': 'CON',\n   'adu_stance': 'PRO'}],\n [{'adu': 'I recently got married and one thing my wife and I have discussed at great lengths is what we should do with our surnames.I have come to the conclusion that we currently do not have a reliable fair gender equal convention for dealing with family names in marriage.Example case Groom Jones and Bride JohnsonTheir options are Patrilineal Mr amp Mrs Jones.',\n   'adu_kp': ['conjoined twins',\n    'family names',\n    'surnames',\n    'reliable fair gender'],\n   'evidence_unit': 'It is the only book about conjoined twins written by a parent of conjoined twins., The most common types of conjoined twins are:Other, less common types of conjoined twins include:Management.',\n   'evidence_kps': ['conjoined twins include',\n    'conjoined twins written',\n    'conjoined twins',\n    'common types',\n    'types of conjoined'],\n   'overlap': 7,\n   'evidence_stance': 'CON',\n   'adu_stance': 'PRO'},\n  {'adu': 'I recently got married and one thing my wife and I have discussed at great lengths is what we should do with our surnames.I have come to the conclusion that we currently do not have a reliable fair gender equal convention for dealing with family names in marriage.Example case Groom Jones and Bride JohnsonTheir options are Patrilineal Mr amp Mrs Jones.',\n   'adu_kp': ['conjoined twins',\n    'family names',\n    'surnames',\n    'reliable fair gender'],\n   'evidence_unit': 'The most common types of conjoined twins are:Other, less common types of conjoined twins include:Management., Conjoined twins appear in one in 50,000 to one in 100,000 births.',\n   'evidence_kps': ['conjoined twins include',\n    'conjoined twins',\n    'types of conjoined',\n    'common types',\n    'twins include'],\n   'overlap': 6,\n   'evidence_stance': 'CON',\n   'adu_stance': 'PRO'},\n  {'adu': 'I recently got married and one thing my wife and I have discussed at great lengths is what we should do with our surnames.I have come to the conclusion that we currently do not have a reliable fair gender equal convention for dealing with family names in marriage.Example case Groom Jones and Bride JohnsonTheir options are Patrilineal Mr amp Mrs Jones.',\n   'adu_kp': ['conjoined twins',\n    'family names',\n    'surnames',\n    'reliable fair gender'],\n   'evidence_unit': 'Dicephalic twins represent about 11 percent of all conjoined twins.',\n   'evidence_kps': ['Dicephalic twins represent',\n    'Dicephalic twins',\n    'twins represent',\n    'conjoined twins',\n    'Dicephalic'],\n   'overlap': 5,\n   'evidence_stance': 'CON',\n   'adu_stance': 'PRO'}],\n [{'adu': 'I recently got married and one thing my wife and I have discussed at great lengths is what we should do with our surnames.I have come to the conclusion that we currently do not have a reliable fair gender equal convention for dealing with family names in marriage.Example case Groom Jones and Bride JohnsonTheir options are Patrilineal Mr amp Mrs Jones.',\n   'adu_kp': ['conjoined twins',\n    'family names',\n    'surnames',\n    'reliable fair gender'],\n   'evidence_unit': 'It is the only book about conjoined twins written by a parent of conjoined twins., The most common types of conjoined twins are:Other, less common types of conjoined twins include:Management.',\n   'evidence_kps': ['conjoined twins include',\n    'conjoined twins written',\n    'conjoined twins',\n    'common types',\n    'types of conjoined'],\n   'overlap': 7,\n   'evidence_stance': 'CON',\n   'adu_stance': 'PRO'},\n  {'adu': 'I recently got married and one thing my wife and I have discussed at great lengths is what we should do with our surnames.I have come to the conclusion that we currently do not have a reliable fair gender equal convention for dealing with family names in marriage.Example case Groom Jones and Bride JohnsonTheir options are Patrilineal Mr amp Mrs Jones.',\n   'adu_kp': ['conjoined twins',\n    'family names',\n    'surnames',\n    'reliable fair gender'],\n   'evidence_unit': 'The most common types of conjoined twins are:Other, less common types of conjoined twins include:Management., Conjoined twins appear in one in 50,000 to one in 100,000 births.',\n   'evidence_kps': ['conjoined twins include',\n    'conjoined twins',\n    'types of conjoined',\n    'common types',\n    'twins include'],\n   'overlap': 6,\n   'evidence_stance': 'CON',\n   'adu_stance': 'PRO'},\n  {'adu': 'I recently got married and one thing my wife and I have discussed at great lengths is what we should do with our surnames.I have come to the conclusion that we currently do not have a reliable fair gender equal convention for dealing with family names in marriage.Example case Groom Jones and Bride JohnsonTheir options are Patrilineal Mr amp Mrs Jones.',\n   'adu_kp': ['conjoined twins',\n    'family names',\n    'surnames',\n    'reliable fair gender'],\n   'evidence_unit': 'Dicephalic twins represent about 11 percent of all conjoined twins.',\n   'evidence_kps': ['Dicephalic twins represent',\n    'Dicephalic twins',\n    'twins represent',\n    'conjoined twins',\n    'Dicephalic'],\n   'overlap': 5,\n   'evidence_stance': 'CON',\n   'adu_stance': 'PRO'}],\n [{'adu': 'Many years ago watches served the purpose of being able to tell time.',\n   'adu_kp': ['copwatch', 'watches', 'time', 'many years'],\n   'evidence_unit': 'However, many watches also provide a great deal of information beyond the basics of time and date.',\n   'evidence_kps': ['time and date',\n    'watches also provide',\n    'provide a great',\n    'great deal',\n    'deal of information'],\n   'overlap': 3,\n   'evidence_stance': 'PRO',\n   'adu_stance': 'NEUTRAL'},\n  {'adu': 'Many years ago watches served the purpose of being able to tell time.',\n   'adu_kp': ['copwatch', 'watches', 'time', 'many years'],\n   'evidence_unit': 'It also began selling calculator watches during this time.',\n   'evidence_kps': ['began selling calculator',\n    'selling calculator watches',\n    'began selling',\n    'selling calculator',\n    'calculator watches'],\n   'overlap': 2,\n   'evidence_stance': 'CON',\n   'adu_stance': 'NEUTRAL'},\n  {'adu': 'Many years ago watches served the purpose of being able to tell time.',\n   'adu_kp': ['copwatch', 'watches', 'time', 'many years'],\n   'evidence_unit': 'The C.O.B.P copwatch programs intentions are to document police misconduct in the hopes that general awareness will reduce the risk of police violence.',\n   'evidence_kps': ['copwatch programs intentions',\n    'document police misconduct',\n    'copwatch programs',\n    'police violence',\n    'programs intentions'],\n   'overlap': 2,\n   'evidence_stance': 'CON',\n   'adu_stance': 'NEUTRAL'}],\n [{'adu': 'Many years ago watches served the purpose of being able to tell time.',\n   'adu_kp': ['copwatch', 'watches', 'time', 'many years'],\n   'evidence_unit': 'However, many watches also provide a great deal of information beyond the basics of time and date.',\n   'evidence_kps': ['time and date',\n    'watches also provide',\n    'provide a great',\n    'great deal',\n    'deal of information'],\n   'overlap': 3,\n   'evidence_stance': 'PRO',\n   'adu_stance': 'NEUTRAL'},\n  {'adu': 'Many years ago watches served the purpose of being able to tell time.',\n   'adu_kp': ['copwatch', 'watches', 'time', 'many years'],\n   'evidence_unit': 'It also began selling calculator watches during this time.',\n   'evidence_kps': ['began selling calculator',\n    'selling calculator watches',\n    'began selling',\n    'selling calculator',\n    'calculator watches'],\n   'overlap': 2,\n   'evidence_stance': 'CON',\n   'adu_stance': 'NEUTRAL'},\n  {'adu': 'Many years ago watches served the purpose of being able to tell time.',\n   'adu_kp': ['copwatch', 'watches', 'time', 'many years'],\n   'evidence_unit': 'The C.O.B.P copwatch programs intentions are to document police misconduct in the hopes that general awareness will reduce the risk of police violence.',\n   'evidence_kps': ['copwatch programs intentions',\n    'document police misconduct',\n    'copwatch programs',\n    'police violence',\n    'programs intentions'],\n   'overlap': 2,\n   'evidence_stance': 'CON',\n   'adu_stance': 'NEUTRAL'}],\n [{'adu': 'Although some parts of his memo wasnt the most scientifically backed up it does have some merit as men and women are scientifically proven to be slightly different mainly due to hormones.',\n   'adu_kp': ['hormones', 'memo', 'men'],\n   'evidence_unit': 'As a result, just a third of all trans men surveyed are taking hormones to transition whereas almost three quarters of kathoeys surveyed are taking hormones.',\n   'evidence_kps': ['trans men surveyed',\n    'surveyed are taking',\n    'taking hormones',\n    'trans men',\n    'quarters of kathoeys'],\n   'overlap': 3,\n   'evidence_stance': 'CON',\n   'adu_stance': 'PRO'},\n  {'adu': 'Although some parts of his memo wasnt the most scientifically backed up it does have some merit as men and women are scientifically proven to be slightly different mainly due to hormones.',\n   'adu_kp': ['hormones', 'memo', 'men'],\n   'evidence_unit': \"Rabb's satirical memo draws attention to the double-standard of regulating women's bodies via legislation while the equivalent bill affecting cisgender men would seem absurd.\",\n   'evidence_kps': ['Rabb satirical memo',\n    'satirical memo draws',\n    'memo draws attention',\n    'regulating women bodies',\n    'equivalent bill affecting'],\n   'overlap': 3,\n   'evidence_stance': 'CON',\n   'adu_stance': 'PRO'},\n  {'adu': 'Although some parts of his memo wasnt the most scientifically backed up it does have some merit as men and women are scientifically proven to be slightly different mainly due to hormones.',\n   'adu_kp': ['hormones', 'memo', 'men'],\n   'evidence_unit': 'Thus, HPG axis hormones normally promote growth and development of the organism early in life in order to achieve reproduction.',\n   'evidence_kps': ['HPG axis hormones',\n    'HPG axis',\n    'achieve reproduction',\n    'axis hormones',\n    'hormones normally promote'],\n   'overlap': 3,\n   'evidence_stance': 'CON',\n   'adu_stance': 'PRO'}],\n [{'adu': 'Ive just read this comment and the ensuing thread Ive seen the sentiment quite a bit lately that rich people acting in their selfinterests directly screws over poor people and that this is wrong.Economic theory dictates that this is not immoral.',\n   'adu_kp': ['poor people', 'rich people', 'economic theory'],\n   'evidence_unit': \"Eker argues that: Rich people believe, 'I create my life', while poor people believe, 'Life happens to me'; rich people focus on opportunities while poor people focus on obstacles; and rich people admire other rich and successful people whereas poor people resent rich and successful people.\",\n   'evidence_kps': ['poor people focus',\n    'rich people focus',\n    'poor people resent',\n    'rich people admire',\n    'people resent rich'],\n   'overlap': 10,\n   'evidence_stance': 'PRO',\n   'adu_stance': 'CON'},\n  {'adu': 'Ive just read this comment and the ensuing thread Ive seen the sentiment quite a bit lately that rich people acting in their selfinterests directly screws over poor people and that this is wrong.Economic theory dictates that this is not immoral.',\n   'adu_kp': ['poor people', 'rich people', 'economic theory'],\n   'evidence_unit': 'Culture., When people bring coins to evaluate, the rich money-changer evaluates them, and if people do not bring coins to evaluate, the rich money-changer seeks out coins to evaluate.',\n   'evidence_kps': ['rich money-changer seeks',\n    'rich money-changer evaluates',\n    'people bring coins',\n    'rich money-changer',\n    'bring coins'],\n   'overlap': 4,\n   'evidence_stance': 'PRO',\n   'adu_stance': 'CON'},\n  {'adu': 'Ive just read this comment and the ensuing thread Ive seen the sentiment quite a bit lately that rich people acting in their selfinterests directly screws over poor people and that this is wrong.Economic theory dictates that this is not immoral.',\n   'adu_kp': ['poor people', 'rich people', 'economic theory'],\n   'evidence_unit': 'When people bring coins to evaluate, the poor money-changer evaluates them, but if people do not bring coins to evaluate, the poor money-changer sits and daydreams., Two blocks consist of 1 rich and 1 poor person.',\n   'evidence_kps': ['poor money-changer sits',\n    'people bring coins',\n    'poor money-changer evaluates',\n    'bring coins',\n    'poor money-changer'],\n   'overlap': 4,\n   'evidence_stance': 'PRO',\n   'adu_stance': 'CON'}],\n [{'adu': 'I try not to be bigoted and Id really like to open my mind to this especially as my cousin begins his HRT.',\n   'adu_kp': ['hrt', 'cousin', 'mind'],\n   'evidence_unit': 'It transmitted 4 national TV channels (HRT 1, HRT 2, HRT 3 and Nova TV) on a network of 9 transmitters built by Odašiljači i veze, completed in 2007 and covering about 70% of the country., Analogue terrestrial television was switched off in Croatia on 5 October 2010.',\n   'evidence_kps': ['Analogue terrestrial television',\n    'Odašiljači i veze',\n    'HRT',\n    'Analogue terrestrial',\n    'national TV channels'],\n   'overlap': 1,\n   'evidence_stance': 'CON',\n   'adu_stance': 'PRO'},\n  {'adu': 'I try not to be bigoted and Id really like to open my mind to this especially as my cousin begins his HRT.',\n   'adu_kp': ['hrt', 'cousin', 'mind'],\n   'evidence_unit': 'Back in big time: Hrvatska radiotelevizija (HRT).',\n   'evidence_kps': ['Hrvatska radiotelevizija',\n    'HRT',\n    'Back in big',\n    'big time',\n    'Hrvatska'],\n   'overlap': 1,\n   'evidence_stance': 'CON',\n   'adu_stance': 'PRO'},\n  {'adu': 'I try not to be bigoted and Id really like to open my mind to this especially as my cousin begins his HRT.',\n   'adu_kp': ['hrt', 'cousin', 'mind'],\n   'evidence_unit': 'It transmits all four state-owned TV channels (HRT 1, HRT 2, HRT 3 and HRT 4), and three radio stations (HR 1, HR 2 and HR 3).',\n   'evidence_kps': ['state-owned TV channels',\n    'radio stations',\n    'HRT',\n    'channels',\n    'stations'],\n   'overlap': 0,\n   'evidence_stance': 'CON',\n   'adu_stance': 'PRO'}],\n [{'adu': 'I try not to be bigoted and Id really like to open my mind to this especially as my cousin begins his HRT.',\n   'adu_kp': ['hrt', 'cousin', 'mind'],\n   'evidence_unit': 'It transmitted 4 national TV channels (HRT 1, HRT 2, HRT 3 and Nova TV) on a network of 9 transmitters built by Odašiljači i veze, completed in 2007 and covering about 70% of the country., Analogue terrestrial television was switched off in Croatia on 5 October 2010.',\n   'evidence_kps': ['Analogue terrestrial television',\n    'Odašiljači i veze',\n    'HRT',\n    'Analogue terrestrial',\n    'national TV channels'],\n   'overlap': 1,\n   'evidence_stance': 'CON',\n   'adu_stance': 'PRO'},\n  {'adu': 'I try not to be bigoted and Id really like to open my mind to this especially as my cousin begins his HRT.',\n   'adu_kp': ['hrt', 'cousin', 'mind'],\n   'evidence_unit': 'Back in big time: Hrvatska radiotelevizija (HRT).',\n   'evidence_kps': ['Hrvatska radiotelevizija',\n    'HRT',\n    'Back in big',\n    'big time',\n    'Hrvatska'],\n   'overlap': 1,\n   'evidence_stance': 'CON',\n   'adu_stance': 'PRO'},\n  {'adu': 'I try not to be bigoted and Id really like to open my mind to this especially as my cousin begins his HRT.',\n   'adu_kp': ['hrt', 'cousin', 'mind'],\n   'evidence_unit': 'It transmits all four state-owned TV channels (HRT 1, HRT 2, HRT 3 and HRT 4), and three radio stations (HR 1, HR 2 and HR 3).',\n   'evidence_kps': ['state-owned TV channels',\n    'radio stations',\n    'HRT',\n    'channels',\n    'stations'],\n   'overlap': 0,\n   'evidence_stance': 'CON',\n   'adu_stance': 'PRO'}],\n [{'adu': 'I try not to be bigoted and Id really like to open my mind to this especially as my cousin begins his HRT.',\n   'adu_kp': ['hrt', 'cousin', 'mind'],\n   'evidence_unit': 'It transmitted 4 national TV channels (HRT 1, HRT 2, HRT 3 and Nova TV) on a network of 9 transmitters built by Odašiljači i veze, completed in 2007 and covering about 70% of the country., Analogue terrestrial television was switched off in Croatia on 5 October 2010.',\n   'evidence_kps': ['Analogue terrestrial television',\n    'Odašiljači i veze',\n    'HRT',\n    'Analogue terrestrial',\n    'national TV channels'],\n   'overlap': 1,\n   'evidence_stance': 'CON',\n   'adu_stance': 'PRO'},\n  {'adu': 'I try not to be bigoted and Id really like to open my mind to this especially as my cousin begins his HRT.',\n   'adu_kp': ['hrt', 'cousin', 'mind'],\n   'evidence_unit': 'Back in big time: Hrvatska radiotelevizija (HRT).',\n   'evidence_kps': ['Hrvatska radiotelevizija',\n    'HRT',\n    'Back in big',\n    'big time',\n    'Hrvatska'],\n   'overlap': 1,\n   'evidence_stance': 'CON',\n   'adu_stance': 'PRO'},\n  {'adu': 'I try not to be bigoted and Id really like to open my mind to this especially as my cousin begins his HRT.',\n   'adu_kp': ['hrt', 'cousin', 'mind'],\n   'evidence_unit': 'It transmits all four state-owned TV channels (HRT 1, HRT 2, HRT 3 and HRT 4), and three radio stations (HR 1, HR 2 and HR 3).',\n   'evidence_kps': ['state-owned TV channels',\n    'radio stations',\n    'HRT',\n    'channels',\n    'stations'],\n   'overlap': 0,\n   'evidence_stance': 'CON',\n   'adu_stance': 'PRO'}],\n [{'adu': 'I try not to be bigoted and Id really like to open my mind to this especially as my cousin begins his HRT.',\n   'adu_kp': ['hrt', 'cousin', 'mind'],\n   'evidence_unit': 'It transmitted 4 national TV channels (HRT 1, HRT 2, HRT 3 and Nova TV) on a network of 9 transmitters built by Odašiljači i veze, completed in 2007 and covering about 70% of the country., Analogue terrestrial television was switched off in Croatia on 5 October 2010.',\n   'evidence_kps': ['Analogue terrestrial television',\n    'Odašiljači i veze',\n    'HRT',\n    'Analogue terrestrial',\n    'national TV channels'],\n   'overlap': 1,\n   'evidence_stance': 'CON',\n   'adu_stance': 'PRO'},\n  {'adu': 'I try not to be bigoted and Id really like to open my mind to this especially as my cousin begins his HRT.',\n   'adu_kp': ['hrt', 'cousin', 'mind'],\n   'evidence_unit': 'Back in big time: Hrvatska radiotelevizija (HRT).',\n   'evidence_kps': ['Hrvatska radiotelevizija',\n    'HRT',\n    'Back in big',\n    'big time',\n    'Hrvatska'],\n   'overlap': 1,\n   'evidence_stance': 'CON',\n   'adu_stance': 'PRO'},\n  {'adu': 'I try not to be bigoted and Id really like to open my mind to this especially as my cousin begins his HRT.',\n   'adu_kp': ['hrt', 'cousin', 'mind'],\n   'evidence_unit': 'It transmits all four state-owned TV channels (HRT 1, HRT 2, HRT 3 and HRT 4), and three radio stations (HR 1, HR 2 and HR 3).',\n   'evidence_kps': ['state-owned TV channels',\n    'radio stations',\n    'HRT',\n    'channels',\n    'stations'],\n   'overlap': 0,\n   'evidence_stance': 'CON',\n   'adu_stance': 'PRO'}],\n [{'adu': 'I try not to be bigoted and Id really like to open my mind to this especially as my cousin begins his HRT.',\n   'adu_kp': ['hrt', 'cousin', 'mind'],\n   'evidence_unit': 'It transmitted 4 national TV channels (HRT 1, HRT 2, HRT 3 and Nova TV) on a network of 9 transmitters built by Odašiljači i veze, completed in 2007 and covering about 70% of the country., Analogue terrestrial television was switched off in Croatia on 5 October 2010.',\n   'evidence_kps': ['Analogue terrestrial television',\n    'Odašiljači i veze',\n    'HRT',\n    'Analogue terrestrial',\n    'national TV channels'],\n   'overlap': 1,\n   'evidence_stance': 'CON',\n   'adu_stance': 'PRO'},\n  {'adu': 'I try not to be bigoted and Id really like to open my mind to this especially as my cousin begins his HRT.',\n   'adu_kp': ['hrt', 'cousin', 'mind'],\n   'evidence_unit': 'Back in big time: Hrvatska radiotelevizija (HRT).',\n   'evidence_kps': ['Hrvatska radiotelevizija',\n    'HRT',\n    'Back in big',\n    'big time',\n    'Hrvatska'],\n   'overlap': 1,\n   'evidence_stance': 'CON',\n   'adu_stance': 'PRO'},\n  {'adu': 'I try not to be bigoted and Id really like to open my mind to this especially as my cousin begins his HRT.',\n   'adu_kp': ['hrt', 'cousin', 'mind'],\n   'evidence_unit': 'It transmits all four state-owned TV channels (HRT 1, HRT 2, HRT 3 and HRT 4), and three radio stations (HR 1, HR 2 and HR 3).',\n   'evidence_kps': ['state-owned TV channels',\n    'radio stations',\n    'HRT',\n    'channels',\n    'stations'],\n   'overlap': 0,\n   'evidence_stance': 'CON',\n   'adu_stance': 'PRO'}],\n [{'adu': 'The reason so many people have against allowing homosexuals to marry is that they feel marriage is about having and raising kids.It would seem to me that people who feel this way should also be against allowing older people from marrying such as ones whose kids are already grown or who had no kids in the first place.They should also be against allowing infertile people to marry.',\n   'adu_kp': ['homosexuals', 'infertile people', 'older people'],\n   'evidence_unit': 'More men than women, more northerners than southerners, more younger than older people identified themselves as homosexuals.',\n   'evidence_kps': ['older people identified',\n    'men than women',\n    'northerners than southerners',\n    'younger than older',\n    'older people'],\n   'overlap': 5,\n   'evidence_stance': 'CON',\n   'adu_stance': 'NEUTRAL'},\n  {'adu': 'The reason so many people have against allowing homosexuals to marry is that they feel marriage is about having and raising kids.It would seem to me that people who feel this way should also be against allowing older people from marrying such as ones whose kids are already grown or who had no kids in the first place.They should also be against allowing infertile people to marry.',\n   'adu_kp': ['homosexuals', 'infertile people', 'older people'],\n   'evidence_unit': 'These [people like Perez] are professional homosexuals.',\n   'evidence_kps': ['people like Perez',\n    'professional homosexuals',\n    'Perez',\n    'people',\n    'homosexuals'],\n   'overlap': 4,\n   'evidence_stance': 'PRO',\n   'adu_stance': 'NEUTRAL'},\n  {'adu': 'The reason so many people have against allowing homosexuals to marry is that they feel marriage is about having and raising kids.It would seem to me that people who feel this way should also be against allowing older people from marrying such as ones whose kids are already grown or who had no kids in the first place.They should also be against allowing infertile people to marry.',\n   'adu_kp': ['homosexuals', 'infertile people', 'older people'],\n   'evidence_unit': \"'Don’t believe all those loud-mouthed gay people who tell you they are born this way', Tan added.\",\n   'evidence_kps': ['Tan added',\n    'loud-mouthed gay people',\n    'Tan',\n    'loud-mouthed gay',\n    'gay people'],\n   'overlap': 2,\n   'evidence_stance': 'CON',\n   'adu_stance': 'NEUTRAL'}],\n [{'adu': 'This popped up on TIL conversation and was always an opinion Ive held.Say that you have a webcam and someone periodically without your knowledge watches you through it.',\n   'adu_kp': ['webcam', 'knowledge', 'opinion'],\n   'evidence_unit': \"The remotely activated webcam can be used to watch anything within the webcam's field of vision, sometimes including the webcam owner themselves.\",\n   'evidence_kps': ['remotely activated webcam',\n    'field of vision',\n    'remotely activated',\n    'activated webcam',\n    'webcam field'],\n   'overlap': 3,\n   'evidence_stance': 'CON',\n   'adu_stance': 'NEUTRAL'},\n  {'adu': 'This popped up on TIL conversation and was always an opinion Ive held.Say that you have a webcam and someone periodically without your knowledge watches you through it.',\n   'adu_kp': ['webcam', 'knowledge', 'opinion'],\n   'evidence_unit': 'The finder is often required to capture their image from the webcam for verification of the find., The camfecter software works just like the original webcam software present in the computer, the only difference being that the camfecter controls the software instead of the webcam owner.',\n   'evidence_kps': ['camfecter software works',\n    'original webcam software',\n    'webcam software present',\n    'webcam owner',\n    'camfecter controls'],\n   'overlap': 3,\n   'evidence_stance': 'PRO',\n   'adu_stance': 'NEUTRAL'},\n  {'adu': 'This popped up on TIL conversation and was always an opinion Ive held.Say that you have a webcam and someone periodically without your knowledge watches you through it.',\n   'adu_kp': ['webcam', 'knowledge', 'opinion'],\n   'evidence_unit': \"MFC was launched in 2004, and by 2010 was described by industry group XBIZ as 'one of the world's largest adult webcam communities.'\",\n   'evidence_kps': ['industry group XBIZ',\n    'adult webcam communities',\n    'world largest adult',\n    'largest adult webcam',\n    'MFC was launched'],\n   'overlap': 2,\n   'evidence_stance': 'CON',\n   'adu_stance': 'NEUTRAL'}],\n [{'adu': 'Public schools exist to provide education to poor families that cant afford alternatives.',\n   'adu_kp': ['school prayer', 'public schools', 'poor families', 'education'],\n   'evidence_unit': 'There are two schools in the village, one private school and one intermediate public school.',\n   'evidence_kps': ['intermediate public school',\n    'intermediate public',\n    'private school',\n    'public school',\n    'village'],\n   'overlap': 6,\n   'evidence_stance': 'CON',\n   'adu_stance': 'PRO'},\n  {'adu': 'Public schools exist to provide education to poor families that cant afford alternatives.',\n   'adu_kp': ['school prayer', 'public schools', 'poor families', 'education'],\n   'evidence_unit': 'In May 1999, Mayor Giuliani advocated in favor of education vouchers, proposing to allocate several million dollars to allow poor children attending poor-performing public schools to attend private schools.',\n   'evidence_kps': ['Mayor Giuliani advocated',\n    'poor children attending',\n    'children attending poor-performing',\n    'attending poor-performing public',\n    'poor-performing public schools'],\n   'overlap': 4,\n   'evidence_stance': 'CON',\n   'adu_stance': 'PRO'},\n  {'adu': 'Public schools exist to provide education to poor families that cant afford alternatives.',\n   'adu_kp': ['school prayer', 'public schools', 'poor families', 'education'],\n   'evidence_unit': 'In 2013, SMC accepted elementary graduates from public schools nearby to avail of free education.',\n   'evidence_kps': ['SMC accepted elementary',\n    'SMC accepted',\n    'accepted elementary graduates',\n    'public schools nearby',\n    'free education'],\n   'overlap': 3,\n   'evidence_stance': 'CON',\n   'adu_stance': 'PRO'}],\n [{'adu': 'Stereotypes are often wrong but can contain a kernel of truth.',\n   'adu_kp': ['stereotypes', 'truth', 'kernel'],\n   'evidence_unit': 'For example, Berry and McArthur found that adults with baby faces are generally perceived to be more honest, naive and kind., Searching for the truth is important.',\n   'evidence_kps': ['Berry and McArthur',\n    'naive and kind.',\n    'truth is important',\n    'McArthur found',\n    'found that adults'],\n   'overlap': 1,\n   'evidence_stance': 'PRO',\n   'adu_stance': 'CON'},\n  {'adu': 'Stereotypes are often wrong but can contain a kernel of truth.',\n   'adu_kp': ['stereotypes', 'truth', 'kernel'],\n   'evidence_unit': \"Of Michael Moore she says politely that he 'is a brilliant filmmaker', but then adds, 'In my opinion, he manipulates the truth.'\",\n   'evidence_kps': ['Michael Moore',\n    'brilliant filmmaker',\n    'manipulates the truth',\n    'Michael',\n    'Moore'],\n   'overlap': 1,\n   'evidence_stance': 'PRO',\n   'adu_stance': 'CON'},\n  {'adu': 'Stereotypes are often wrong but can contain a kernel of truth.',\n   'adu_kp': ['stereotypes', 'truth', 'kernel'],\n   'evidence_unit': \"He concluded: 'However fun and informative, the truth about generational generalizations is that they're generally unsatisfactory.'\",\n   'evidence_kps': ['fun and informative',\n    'generally unsatisfactory',\n    'truth about generational',\n    'generational generalizations',\n    'concluded'],\n   'overlap': 1,\n   'evidence_stance': 'PRO',\n   'adu_stance': 'CON'}],\n [{'adu': 'So not to get hung up on technicalities but people cite the equal protection clause of the constitution as a basis for the claim of discrimination inherent in samesex marriage bans.',\n   'adu_kp': ['federal marriage amendment',\n    'samesex marriage bans',\n    'equal protection clause',\n    'discrimination'],\n   'evidence_unit': 'Opponents of the FMA argued that no federal court has ever ordered a state to permit same-sex marriage.',\n   'evidence_kps': ['permit same-sex marriage',\n    'FMA argued',\n    'same-sex marriage',\n    'federal court',\n    'ordered a state'],\n   'overlap': 4,\n   'evidence_stance': 'CON',\n   'adu_stance': 'PRO'},\n  {'adu': 'So not to get hung up on technicalities but people cite the equal protection clause of the constitution as a basis for the claim of discrimination inherent in samesex marriage bans.',\n   'adu_kp': ['federal marriage amendment',\n    'samesex marriage bans',\n    'equal protection clause',\n    'discrimination'],\n   'evidence_unit': \"Bataillon became the first judge in the U.S. to invalidate a state marriage amendment defining marriage as between a man and a woman on federal constitutional grounds., Proponents supported this claim with 'Citizens for Equal Protection v. Bruning', in which a district court struck down Nebraska's marriage amendment, even though it had been passed by a margin of seventy percent (although the amendment was later reinstated).\",\n   'evidence_kps': ['federal constitutional grounds.',\n    'Citizens for Equal',\n    'Equal Protection',\n    'Proponents supported',\n    'state marriage amendment'],\n   'overlap': 3,\n   'evidence_stance': 'CON',\n   'adu_stance': 'PRO'},\n  {'adu': 'So not to get hung up on technicalities but people cite the equal protection clause of the constitution as a basis for the claim of discrimination inherent in samesex marriage bans.',\n   'adu_kp': ['federal marriage amendment',\n    'samesex marriage bans',\n    'equal protection clause',\n    'discrimination'],\n   'evidence_unit': \"However, on February 7, 2012 a federal appeals court in a 2-to-1 decision threw out California's voter-approved restriction on same-sex marriage (Proposition 8) saying that it violated the Equal Protection clause of the U.S.\",\n   'evidence_kps': ['Equal Protection clause',\n    'California voter-approved restriction',\n    'federal appeals court',\n    'Equal Protection',\n    'threw out California'],\n   'overlap': 2,\n   'evidence_stance': 'CON',\n   'adu_stance': 'PRO'}],\n [{'adu': 'So to go ahead and clear something before you guys start thinking Im transphobic Im not.',\n   'adu_kp': ['clear something', 'guys'],\n   'evidence_unit': \"So the lesson in Shedden is: Don't try to be something you're not'., The average guy that would go see a motion picture in those days went to see entertainment.\",\n   'evidence_kps': ['lesson in Shedden',\n    'average guy',\n    'motion picture',\n    'Shedden',\n    'entertainment'],\n   'overlap': 2,\n   'evidence_stance': 'CON',\n   'adu_stance': 'PRO'},\n  {'adu': 'So to go ahead and clear something before you guys start thinking Im transphobic Im not.',\n   'adu_kp': ['clear something', 'guys'],\n   'evidence_unit': \"'I saw guys fighting, so I fought.\",\n   'evidence_kps': ['guys fighting', 'fighting', 'fought', 'guys'],\n   'overlap': 2,\n   'evidence_stance': 'CON',\n   'adu_stance': 'PRO'},\n  {'adu': 'So to go ahead and clear something before you guys start thinking Im transphobic Im not.',\n   'adu_kp': ['clear something', 'guys'],\n   'evidence_unit': \"None, 'It's the little things, taking guys out to dinner, talking to guys more about things', Luke Walton said.\",\n   'evidence_kps': ['Luke Walton',\n    'taking guys',\n    'Luke',\n    'things',\n    'talking to guys'],\n   'overlap': 2,\n   'evidence_stance': 'CON',\n   'adu_stance': 'PRO'}],\n [{'adu': 'The reason I say If were going to incorporate maternity leave is so that we can set aside the valid discussion of should we incorporate parental leave at all.',\n   'adu_kp': ['maternity leave', 'parental leave', 'valid discussion'],\n   'evidence_unit': \"Parental leave allowance is significantly less than maternity leave allowance; parental leave is only 30% of one's wages.\",\n   'evidence_kps': ['Parental leave allowance',\n    'maternity leave allowance',\n    'Parental leave',\n    'leave allowance',\n    'maternity leave'],\n   'overlap': 7,\n   'evidence_stance': 'CON',\n   'adu_stance': 'NEUTRAL'},\n  {'adu': 'The reason I say If were going to incorporate maternity leave is so that we can set aside the valid discussion of should we incorporate parental leave at all.',\n   'adu_kp': ['maternity leave', 'parental leave', 'valid discussion'],\n   'evidence_unit': 'In some countries, parental leave has more restrictive requirements than maternity leave or paternity leave.',\n   'evidence_kps': ['restrictive requirements',\n    'requirements than maternity',\n    'parental leave',\n    'maternity leave',\n    'leave'],\n   'overlap': 6,\n   'evidence_stance': 'CON',\n   'adu_stance': 'NEUTRAL'},\n  {'adu': 'The reason I say If were going to incorporate maternity leave is so that we can set aside the valid discussion of should we incorporate parental leave at all.',\n   'adu_kp': ['maternity leave', 'parental leave', 'valid discussion'],\n   'evidence_unit': 'Parental leave can be taken immediately after maternity leave (the weeks of maternity leave after birth are included in the duration of the parental leave) or immediately after birth (for fathers) or it may be taken at later times.',\n   'evidence_kps': ['Parental leave',\n    'maternity leave',\n    'immediately after birth',\n    'weeks of maternity',\n    'birth are included'],\n   'overlap': 5,\n   'evidence_stance': 'CON',\n   'adu_stance': 'NEUTRAL'}],\n [{'adu': 'The reason I say If were going to incorporate maternity leave is so that we can set aside the valid discussion of should we incorporate parental leave at all.',\n   'adu_kp': ['maternity leave', 'parental leave', 'valid discussion'],\n   'evidence_unit': \"Parental leave allowance is significantly less than maternity leave allowance; parental leave is only 30% of one's wages.\",\n   'evidence_kps': ['Parental leave allowance',\n    'maternity leave allowance',\n    'Parental leave',\n    'leave allowance',\n    'maternity leave'],\n   'overlap': 7,\n   'evidence_stance': 'CON',\n   'adu_stance': 'NEUTRAL'},\n  {'adu': 'The reason I say If were going to incorporate maternity leave is so that we can set aside the valid discussion of should we incorporate parental leave at all.',\n   'adu_kp': ['maternity leave', 'parental leave', 'valid discussion'],\n   'evidence_unit': 'In some countries, parental leave has more restrictive requirements than maternity leave or paternity leave.',\n   'evidence_kps': ['restrictive requirements',\n    'requirements than maternity',\n    'parental leave',\n    'maternity leave',\n    'leave'],\n   'overlap': 6,\n   'evidence_stance': 'CON',\n   'adu_stance': 'NEUTRAL'},\n  {'adu': 'The reason I say If were going to incorporate maternity leave is so that we can set aside the valid discussion of should we incorporate parental leave at all.',\n   'adu_kp': ['maternity leave', 'parental leave', 'valid discussion'],\n   'evidence_unit': 'Parental leave can be taken immediately after maternity leave (the weeks of maternity leave after birth are included in the duration of the parental leave) or immediately after birth (for fathers) or it may be taken at later times.',\n   'evidence_kps': ['Parental leave',\n    'maternity leave',\n    'immediately after birth',\n    'weeks of maternity',\n    'birth are included'],\n   'overlap': 5,\n   'evidence_stance': 'CON',\n   'adu_stance': 'NEUTRAL'}],\n [{'adu': 'All this talk about fake news didnt happen organically.',\n   'adu_kp': ['fake news', 'talk'],\n   'evidence_unit': \"The term 'fake news' gained importance with the electoral context in Western Europe and North America.\",\n   'evidence_kps': [\"fake news' gained\",\n    \"news' gained importance\",\n    'North America',\n    'Western Europe',\n    'Europe and North'],\n   'overlap': 1,\n   'evidence_stance': 'PRO',\n   'adu_stance': 'CON'},\n  {'adu': 'All this talk about fake news didnt happen organically.',\n   'adu_kp': ['fake news', 'talk'],\n   'evidence_unit': \"', As fake news was introduced to the Internet, this made it difficult for some people to find truthful information.\",\n   'evidence_kps': ['find truthful information',\n    'truthful information',\n    'made it difficult',\n    'people to find',\n    'find truthful'],\n   'overlap': 0,\n   'evidence_stance': 'PRO',\n   'adu_stance': 'CON'},\n  {'adu': 'All this talk about fake news didnt happen organically.',\n   'adu_kp': ['fake news', 'talk'],\n   'evidence_unit': \"Fake news is often spread through the use of fake news websites, which, in order to gain credibility, specialize in creating attention-grabbing news, which often impersonate well-known news sources., The program has been named Best Sports Talk Show by the 'Dallas Morning News', 'Fort Worth Star-Telegram', and 'Dallas Observer'.\",\n   'evidence_kps': ['Sports Talk Show',\n    'Fort Worth Star-Telegram',\n    'Dallas Observer',\n    'Dallas Morning',\n    'Fort Worth'],\n   'overlap': 0,\n   'evidence_stance': 'PRO',\n   'adu_stance': 'CON'}],\n [{'adu': 'So Ive had this long standing confusion when it comes to wallets.',\n   'adu_kp': ['wallets', 'confusion'],\n   'evidence_unit': 'Wallets are used to manage the addresses associated with each pair of keys (public and private) of a Bitcoin user, as well as the transactions associated with their set of addresses.',\n   'evidence_kps': ['Bitcoin user',\n    'public and private',\n    'pair of keys',\n    'manage the addresses',\n    'set of addresses'],\n   'overlap': 0,\n   'evidence_stance': 'PRO',\n   'adu_stance': 'CON'}],\n [{'adu': 'So Ive had this long standing confusion when it comes to wallets.',\n   'adu_kp': ['wallets', 'confusion'],\n   'evidence_unit': 'Wallets are used to manage the addresses associated with each pair of keys (public and private) of a Bitcoin user, as well as the transactions associated with their set of addresses.',\n   'evidence_kps': ['Bitcoin user',\n    'public and private',\n    'pair of keys',\n    'manage the addresses',\n    'set of addresses'],\n   'overlap': 0,\n   'evidence_stance': 'PRO',\n   'adu_stance': 'CON'}],\n [{'adu': 'As I understand it the argument for guns as a check on government overreach presumes that American gun owners will be able to rise up against a tyrannical government and be able to overthrow the it.',\n   'adu_kp': ['american gun owners', 'guns', 'government overreach presumes'],\n   'evidence_unit': 'Right now the furor against a gun law is by gun owners who are overreacting., As a backbencher, Allmand was a strong advocate for stronger gun laws in Canada, supporting regulations on all Canadian gun owners and limiting access to all guns, including those for hunting.',\n   'evidence_kps': ['Canadian gun owners',\n    'stronger gun laws',\n    'gun owners',\n    'Canadian gun',\n    'supporting regulations'],\n   'overlap': 6,\n   'evidence_stance': 'PRO',\n   'adu_stance': 'CON'},\n  {'adu': 'As I understand it the argument for guns as a check on government overreach presumes that American gun owners will be able to rise up against a tyrannical government and be able to overthrow the it.',\n   'adu_kp': ['american gun owners', 'guns', 'government overreach presumes'],\n   'evidence_unit': \"Another survey she led found that almost 40% of gun owners did not undergo a background check prior to obtaining their most recent gun., According to her data, '46% of gun owners in the U.S. who have children do not secure their guns and 73% of youngsters aged 9 and under know where their parents keep their guns'.\",\n   'evidence_kps': ['background check prior',\n    'gun owners',\n    'recent gun.',\n    'youngsters aged',\n    'survey she led'],\n   'overlap': 2,\n   'evidence_stance': 'PRO',\n   'adu_stance': 'CON'},\n  {'adu': 'As I understand it the argument for guns as a check on government overreach presumes that American gun owners will be able to rise up against a tyrannical government and be able to overthrow the it.',\n   'adu_kp': ['american gun owners', 'guns', 'government overreach presumes'],\n   'evidence_unit': \"An September 2019 study in Health Affairs concludes 'our findings indicate that large majorities of both gun owners and non-gun owners strongly support a range of measures to strengthen US gun laws'.\",\n   'evidence_kps': ['Health Affairs concludes',\n    'Health Affairs',\n    'non-gun owners strongly',\n    'owners strongly support',\n    'study in Health'],\n   'overlap': 2,\n   'evidence_stance': 'PRO',\n   'adu_stance': 'CON'}],\n [{'adu': 'What I mean is to make it into the NFL or NBA you essentially have to go to college.',\n   'adu_kp': ['nfl', 'nba', 'college'],\n   'evidence_unit': 'It also airs college football games including the College Football Playoff, the Daytona 500, the NBA Playoffs and NBA Finals.',\n   'evidence_kps': ['College Football Playoff',\n    'college football games',\n    'airs college football',\n    'football games including',\n    'NBA Finals'],\n   'overlap': 2,\n   'evidence_stance': 'CON',\n   'adu_stance': 'NEUTRAL'},\n  {'adu': 'What I mean is to make it into the NFL or NBA you essentially have to go to college.',\n   'adu_kp': ['nfl', 'nba', 'college'],\n   'evidence_unit': 'However, like the relationship between college football and the NFL, college basketball acts as the primary suppliers of players to the NBA.',\n   'evidence_kps': ['college basketball acts',\n    'basketball acts',\n    'primary suppliers',\n    'suppliers of players',\n    'college football'],\n   'overlap': 2,\n   'evidence_stance': 'PRO',\n   'adu_stance': 'NEUTRAL'},\n  {'adu': 'What I mean is to make it into the NFL or NBA you essentially have to go to college.',\n   'adu_kp': ['nfl', 'nba', 'college'],\n   'evidence_unit': \"Quincy Lewis (1995)—professional basketball player., She has covered college football, college volleyball, National Basketball Association (NBA), National Football League (NFL), and men's and women's college basketball.\",\n   'evidence_kps': ['National Football League',\n    'National Basketball Association',\n    'professional basketball player.',\n    'covered college football',\n    'Quincy Lewis'],\n   'overlap': 1,\n   'evidence_stance': 'CON',\n   'adu_stance': 'NEUTRAL'}],\n [{'adu': 'One of the biggest gripes I have with animal rights is that they treat animals in anthropomorphic ways.',\n   'adu_kp': ['animal rights',\n    'animal rights',\n    'animals',\n    'anthropomorphic ways'],\n   'evidence_unit': 'The California-based animal rights organization In Defense of Animals partners with South Korean allies to stage animal rights protests, rescue dogs from dog farms, and lobby the government to better enforce existing animal protection laws.',\n   'evidence_kps': ['South Korean allies',\n    'animal protection laws',\n    'enforce existing animal',\n    'existing animal protection',\n    'South Korean'],\n   'overlap': 3,\n   'evidence_stance': 'PRO',\n   'adu_stance': 'CON'},\n  {'adu': 'One of the biggest gripes I have with animal rights is that they treat animals in anthropomorphic ways.',\n   'adu_kp': ['animal rights',\n    'animal rights',\n    'animals',\n    'anthropomorphic ways'],\n   'evidence_unit': 'PETA, Farm Animal Rights Movement (FARM), and Direct Action Everywhere (DxE) are animal rights organizations based in the U.S., Kim W. Stallwood (born 1955) is a British animal rights advocate, author, independent scholar, and consultant.',\n   'evidence_kps': ['Kim W. Stallwood',\n    'Direct Action',\n    'Animal Rights Movement',\n    'British animal',\n    'Farm Animal'],\n   'overlap': 1,\n   'evidence_stance': 'PRO',\n   'adu_stance': 'CON'},\n  {'adu': 'One of the biggest gripes I have with animal rights is that they treat animals in anthropomorphic ways.',\n   'adu_kp': ['animal rights',\n    'animal rights',\n    'animals',\n    'anthropomorphic ways'],\n   'evidence_unit': 'The fundamental principle of the animal rights movement is that animals have basic interests that deserve recognition, consideration, and protection.',\n   'evidence_kps': ['deserve recognition',\n    'fundamental principle',\n    'basic interests',\n    'interests that deserve',\n    'consideration'],\n   'overlap': 0,\n   'evidence_stance': 'PRO',\n   'adu_stance': 'CON'}],\n [{'adu': 'So lets say you applied for a job.',\n   'adu_kp': ['job', 'lets'],\n   'evidence_unit': 'Realistic job preview is a psychological contract between an employee and an employer.',\n   'evidence_kps': ['Realistic job preview',\n    'Realistic job',\n    'job preview',\n    'psychological contract',\n    'Realistic'],\n   'overlap': 3,\n   'evidence_stance': 'CON',\n   'adu_stance': 'NEUTRAL'},\n  {'adu': 'So lets say you applied for a job.',\n   'adu_kp': ['job', 'lets'],\n   'evidence_unit': 'Alternatively, parents can post a job to a virtual job board.',\n   'evidence_kps': ['virtual job board',\n    'parents can post',\n    'job board',\n    'virtual job',\n    'Alternatively'],\n   'overlap': 3,\n   'evidence_stance': 'CON',\n   'adu_stance': 'NEUTRAL'},\n  {'adu': 'So lets say you applied for a job.',\n   'adu_kp': ['job', 'lets'],\n   'evidence_unit': 'From episodic companionships to unsuccessful job searches, distraught, she lets herself slowly be engulfed by a cold and aggressive city.',\n   'evidence_kps': ['unsuccessful job searches',\n    'distraught',\n    'job searches',\n    'aggressive city',\n    'episodic companionships'],\n   'overlap': 2,\n   'evidence_stance': 'CON',\n   'adu_stance': 'NEUTRAL'}],\n [{'adu': 'First of all Ill point out that there are government services such as police forces and public libraries which Im glad to pay for.',\n   'adu_kp': ['taxpayer',\n    'government services',\n    'public libraries',\n    'police forces'],\n   'evidence_unit': 'Local government areas with a population below 15,000 provide public library services through Rural Libraries Queensland (formerly the Country Lending Service), a service provided by the State Library of Queensland.',\n   'evidence_kps': ['Rural Libraries Queensland',\n    'Country Lending Service',\n    'provide public library',\n    'Local government areas',\n    'public library services'],\n   'overlap': 4,\n   'evidence_stance': 'CON',\n   'adu_stance': 'PRO'},\n  {'adu': 'First of all Ill point out that there are government services such as police forces and public libraries which Im glad to pay for.',\n   'adu_kp': ['taxpayer',\n    'government services',\n    'public libraries',\n    'police forces'],\n   'evidence_unit': \"Melbourne's public library services are operated by local government municipalities through a range of grants funding and service agreements., Services provided by local authorities include roads, drains, parks, libraries, housing, waste collection, public conveniences, markets and recreational facilities.\",\n   'evidence_kps': ['authorities include roads',\n    'Melbourne public library',\n    'local government municipalities',\n    'local authorities include',\n    'public library services'],\n   'overlap': 4,\n   'evidence_stance': 'CON',\n   'adu_stance': 'PRO'},\n  {'adu': 'First of all Ill point out that there are government services such as police forces and public libraries which Im glad to pay for.',\n   'adu_kp': ['taxpayer',\n    'government services',\n    'public libraries',\n    'police forces'],\n   'evidence_unit': \"The People's Party for Reconstruction and Democracy (PPRD) holds the majority of public offices., A police voucher is a grant of a certain amount of taxpayer-provided funds to individual citizens (or groups of citizens), to be used to purchase private police services from one or more vendors of their choice.\",\n   'evidence_kps': ['purchase private police',\n    'private police services',\n    'Reconstruction and Democracy',\n    'People Party',\n    'Party for Reconstruction'],\n   'overlap': 4,\n   'evidence_stance': 'CON',\n   'adu_stance': 'PRO'}],\n [{'adu': 'Okay so a lot of male authors rightfully so get a lot of flack for writing terrible female characters.',\n   'adu_kp': ['terrible female characters', 'male authors', 'flack'],\n   'evidence_unit': 'She also included statistics from hospitals., There were nearly twice as many male main characters as female main characters, and male characters appeared in illustrations 53 percent more than female characters.',\n   'evidence_kps': ['male characters appeared',\n    'male main characters',\n    'statistics from hospitals.',\n    'appeared in illustrations',\n    'main characters'],\n   'overlap': 5,\n   'evidence_stance': 'CON',\n   'adu_stance': 'PRO'},\n  {'adu': 'Okay so a lot of male authors rightfully so get a lot of flack for writing terrible female characters.',\n   'adu_kp': ['terrible female characters', 'male authors', 'flack'],\n   'evidence_unit': 'It depicts fictional female characters who were created by male authors in the end of 19th century., The basic costume differed for male and female characters.',\n   'evidence_kps': ['basic costume differed',\n    'depicts fictional female',\n    'fictional female characters',\n    'female characters',\n    'depicts fictional'],\n   'overlap': 5,\n   'evidence_stance': 'CON',\n   'adu_stance': 'PRO'},\n  {'adu': 'Okay so a lot of male authors rightfully so get a lot of flack for writing terrible female characters.',\n   'adu_kp': ['terrible female characters', 'male authors', 'flack'],\n   'evidence_unit': 'The dress of male characters consisted ofFor the female characters the basic costume includedFemale characters tie strings of bells around their ankles.',\n   'evidence_kps': ['basic costume includedFemale',\n    'male characters consisted',\n    'characters consisted ofFor',\n    'costume includedFemale characters',\n    'includedFemale characters tie'],\n   'overlap': 5,\n   'evidence_stance': 'CON',\n   'adu_stance': 'PRO'}],\n [{'adu': 'Some of the people I work with favor singlesex education and even try experiments of singlegender classes.',\n   'adu_kp': ['single-sex education',\n    'favor singlesex education',\n    'singlegender classes',\n    'experiments'],\n   'evidence_unit': \"The current sex education classes in Ireland have been described by many students and teachers as 'archaic', 'inadequate' and 'biased', as well as 'largely religious based', with reports of non-virgin students being humiliated, and LGBT issues never mentioned.\",\n   'evidence_kps': ['largely religious based',\n    'current sex education',\n    'sex education classes',\n    'classes in Ireland',\n    'LGBT issues'],\n   'overlap': 7,\n   'evidence_stance': 'CON',\n   'adu_stance': 'PRO'},\n  {'adu': 'Some of the people I work with favor singlesex education and even try experiments of singlegender classes.',\n   'adu_kp': ['single-sex education',\n    'favor singlesex education',\n    'singlegender classes',\n    'experiments'],\n   'evidence_unit': 'Kasic (2008) indicates that the new regulations allow nonvocational public schools to receive funding if they offer single-sex classes or entire single-sex schools, but to start these programs, they have to have a governmental or educational objective., Research has also shown that there can be an implicit assumption that all students are heterosexual in sex education classes.',\n   'evidence_kps': ['nonvocational public schools',\n    'sex education classes',\n    'offer single-sex classes',\n    'entire single-sex schools',\n    'start these programs'],\n   'overlap': 6,\n   'evidence_stance': 'CON',\n   'adu_stance': 'PRO'},\n  {'adu': 'Some of the people I work with favor singlesex education and even try experiments of singlegender classes.',\n   'adu_kp': ['single-sex education',\n    'favor singlesex education',\n    'singlegender classes',\n    'experiments'],\n   'evidence_unit': \"The LGBT students in Eleanor Formby's 2011 study of sex education said that they do not always feel welcomed by sex education classes or at school.\",\n   'evidence_kps': ['Eleanor Formby',\n    'sex education classes',\n    'LGBT students',\n    'students in Eleanor',\n    'sex education'],\n   'overlap': 6,\n   'evidence_stance': 'CON',\n   'adu_stance': 'PRO'}],\n [{'adu': 'Some of the people I work with favor singlesex education and even try experiments of singlegender classes.',\n   'adu_kp': ['single-sex education',\n    'favor singlesex education',\n    'singlegender classes',\n    'experiments'],\n   'evidence_unit': \"The current sex education classes in Ireland have been described by many students and teachers as 'archaic', 'inadequate' and 'biased', as well as 'largely religious based', with reports of non-virgin students being humiliated, and LGBT issues never mentioned.\",\n   'evidence_kps': ['largely religious based',\n    'current sex education',\n    'sex education classes',\n    'classes in Ireland',\n    'LGBT issues'],\n   'overlap': 7,\n   'evidence_stance': 'CON',\n   'adu_stance': 'PRO'},\n  {'adu': 'Some of the people I work with favor singlesex education and even try experiments of singlegender classes.',\n   'adu_kp': ['single-sex education',\n    'favor singlesex education',\n    'singlegender classes',\n    'experiments'],\n   'evidence_unit': 'Kasic (2008) indicates that the new regulations allow nonvocational public schools to receive funding if they offer single-sex classes or entire single-sex schools, but to start these programs, they have to have a governmental or educational objective., Research has also shown that there can be an implicit assumption that all students are heterosexual in sex education classes.',\n   'evidence_kps': ['nonvocational public schools',\n    'sex education classes',\n    'offer single-sex classes',\n    'entire single-sex schools',\n    'start these programs'],\n   'overlap': 6,\n   'evidence_stance': 'CON',\n   'adu_stance': 'PRO'},\n  {'adu': 'Some of the people I work with favor singlesex education and even try experiments of singlegender classes.',\n   'adu_kp': ['single-sex education',\n    'favor singlesex education',\n    'singlegender classes',\n    'experiments'],\n   'evidence_unit': \"The LGBT students in Eleanor Formby's 2011 study of sex education said that they do not always feel welcomed by sex education classes or at school.\",\n   'evidence_kps': ['Eleanor Formby',\n    'sex education classes',\n    'LGBT students',\n    'students in Eleanor',\n    'sex education'],\n   'overlap': 6,\n   'evidence_stance': 'CON',\n   'adu_stance': 'PRO'}],\n [{'adu': 'Some of the people I work with favor singlesex education and even try experiments of singlegender classes.',\n   'adu_kp': ['single-sex education',\n    'favor singlesex education',\n    'singlegender classes',\n    'experiments'],\n   'evidence_unit': \"The current sex education classes in Ireland have been described by many students and teachers as 'archaic', 'inadequate' and 'biased', as well as 'largely religious based', with reports of non-virgin students being humiliated, and LGBT issues never mentioned.\",\n   'evidence_kps': ['largely religious based',\n    'current sex education',\n    'sex education classes',\n    'classes in Ireland',\n    'LGBT issues'],\n   'overlap': 7,\n   'evidence_stance': 'CON',\n   'adu_stance': 'PRO'},\n  {'adu': 'Some of the people I work with favor singlesex education and even try experiments of singlegender classes.',\n   'adu_kp': ['single-sex education',\n    'favor singlesex education',\n    'singlegender classes',\n    'experiments'],\n   'evidence_unit': 'Kasic (2008) indicates that the new regulations allow nonvocational public schools to receive funding if they offer single-sex classes or entire single-sex schools, but to start these programs, they have to have a governmental or educational objective., Research has also shown that there can be an implicit assumption that all students are heterosexual in sex education classes.',\n   'evidence_kps': ['nonvocational public schools',\n    'sex education classes',\n    'offer single-sex classes',\n    'entire single-sex schools',\n    'start these programs'],\n   'overlap': 6,\n   'evidence_stance': 'CON',\n   'adu_stance': 'PRO'},\n  {'adu': 'Some of the people I work with favor singlesex education and even try experiments of singlegender classes.',\n   'adu_kp': ['single-sex education',\n    'favor singlesex education',\n    'singlegender classes',\n    'experiments'],\n   'evidence_unit': \"The LGBT students in Eleanor Formby's 2011 study of sex education said that they do not always feel welcomed by sex education classes or at school.\",\n   'evidence_kps': ['Eleanor Formby',\n    'sex education classes',\n    'LGBT students',\n    'students in Eleanor',\n    'sex education'],\n   'overlap': 6,\n   'evidence_stance': 'CON',\n   'adu_stance': 'PRO'}],\n [{'adu': 'Maybe I shouldnt be making claims about what the vast majority of parents believe so lets just say I believe I would not want to have a gay child if I could actually control that.',\n   'adu_kp': ['gay child', 'parents', 'claims'],\n   'evidence_unit': 'Transphobic parents may feel their child is an extension of themselves and respond negatively when their child is faced with his or her own adversity.',\n   'evidence_kps': ['Transphobic parents',\n    'feel their child',\n    'child is faced',\n    'parents may feel',\n    'respond negatively'],\n   'overlap': 4,\n   'evidence_stance': 'CON',\n   'adu_stance': 'NEUTRAL'},\n  {'adu': 'Maybe I shouldnt be making claims about what the vast majority of parents believe so lets just say I believe I would not want to have a gay child if I could actually control that.',\n   'adu_kp': ['gay child', 'parents', 'claims'],\n   'evidence_unit': \"She spoke of her experiences raising a gay child at Charleston School of Law's 'My Gay Child' forum., Early life and education.\",\n   'evidence_kps': ['School of Law',\n    'Charleston School',\n    'gay child',\n    'Early life',\n    'life and education'],\n   'overlap': 2,\n   'evidence_stance': 'CON',\n   'adu_stance': 'NEUTRAL'},\n  {'adu': 'Maybe I shouldnt be making claims about what the vast majority of parents believe so lets just say I believe I would not want to have a gay child if I could actually control that.',\n   'adu_kp': ['gay child', 'parents', 'claims'],\n   'evidence_unit': 'Same-sex parents are gay, lesbian, or bisexual couples that choose to raise children., The documentary explored relationships between straight parents and their gay children.',\n   'evidence_kps': ['documentary explored relationships',\n    'raise children.',\n    'Same-sex parents',\n    'gay children',\n    'bisexual couples'],\n   'overlap': 2,\n   'evidence_stance': 'CON',\n   'adu_stance': 'NEUTRAL'}],\n [{'adu': 'Maybe I shouldnt be making claims about what the vast majority of parents believe so lets just say I believe I would not want to have a gay child if I could actually control that.',\n   'adu_kp': ['gay child', 'parents', 'claims'],\n   'evidence_unit': 'Transphobic parents may feel their child is an extension of themselves and respond negatively when their child is faced with his or her own adversity.',\n   'evidence_kps': ['Transphobic parents',\n    'feel their child',\n    'child is faced',\n    'parents may feel',\n    'respond negatively'],\n   'overlap': 4,\n   'evidence_stance': 'CON',\n   'adu_stance': 'NEUTRAL'},\n  {'adu': 'Maybe I shouldnt be making claims about what the vast majority of parents believe so lets just say I believe I would not want to have a gay child if I could actually control that.',\n   'adu_kp': ['gay child', 'parents', 'claims'],\n   'evidence_unit': \"She spoke of her experiences raising a gay child at Charleston School of Law's 'My Gay Child' forum., Early life and education.\",\n   'evidence_kps': ['School of Law',\n    'Charleston School',\n    'gay child',\n    'Early life',\n    'life and education'],\n   'overlap': 2,\n   'evidence_stance': 'CON',\n   'adu_stance': 'NEUTRAL'},\n  {'adu': 'Maybe I shouldnt be making claims about what the vast majority of parents believe so lets just say I believe I would not want to have a gay child if I could actually control that.',\n   'adu_kp': ['gay child', 'parents', 'claims'],\n   'evidence_unit': 'Same-sex parents are gay, lesbian, or bisexual couples that choose to raise children., The documentary explored relationships between straight parents and their gay children.',\n   'evidence_kps': ['documentary explored relationships',\n    'raise children.',\n    'Same-sex parents',\n    'gay children',\n    'bisexual couples'],\n   'overlap': 2,\n   'evidence_stance': 'CON',\n   'adu_stance': 'NEUTRAL'}],\n [{'adu': 'Maybe I shouldnt be making claims about what the vast majority of parents believe so lets just say I believe I would not want to have a gay child if I could actually control that.',\n   'adu_kp': ['gay child', 'parents', 'claims'],\n   'evidence_unit': 'Transphobic parents may feel their child is an extension of themselves and respond negatively when their child is faced with his or her own adversity.',\n   'evidence_kps': ['Transphobic parents',\n    'feel their child',\n    'child is faced',\n    'parents may feel',\n    'respond negatively'],\n   'overlap': 4,\n   'evidence_stance': 'CON',\n   'adu_stance': 'NEUTRAL'},\n  {'adu': 'Maybe I shouldnt be making claims about what the vast majority of parents believe so lets just say I believe I would not want to have a gay child if I could actually control that.',\n   'adu_kp': ['gay child', 'parents', 'claims'],\n   'evidence_unit': \"She spoke of her experiences raising a gay child at Charleston School of Law's 'My Gay Child' forum., Early life and education.\",\n   'evidence_kps': ['School of Law',\n    'Charleston School',\n    'gay child',\n    'Early life',\n    'life and education'],\n   'overlap': 2,\n   'evidence_stance': 'CON',\n   'adu_stance': 'NEUTRAL'},\n  {'adu': 'Maybe I shouldnt be making claims about what the vast majority of parents believe so lets just say I believe I would not want to have a gay child if I could actually control that.',\n   'adu_kp': ['gay child', 'parents', 'claims'],\n   'evidence_unit': 'Same-sex parents are gay, lesbian, or bisexual couples that choose to raise children., The documentary explored relationships between straight parents and their gay children.',\n   'evidence_kps': ['documentary explored relationships',\n    'raise children.',\n    'Same-sex parents',\n    'gay children',\n    'bisexual couples'],\n   'overlap': 2,\n   'evidence_stance': 'CON',\n   'adu_stance': 'NEUTRAL'}],\n [{'adu': 'say you are the person that understands constructive empiricism these type of ppl that understand constructive empiricism should never communicate with anyone outside of their circle the cost is excessively high it is a waste of time talking to ppl outside of their circle its incredibly frustrating talking to ppl outside of their circle it would not be productive to the idea of constructive empiricism to talk to ppl outside of their circle anyone outside your circle has bad communication skills nonconstructive empiricists do not communicate clearly nonconstructive empiricists have low comprehension skills nonconstructive empiricists have extremely extremely bad interpretation skills nonconstructive empiricists make false assumptions nonconstructive empiricists make excessive assumptions there is no obligation for constructive empiricists to talk to ppl outside of their circle just as a designer can keep their designs to themselves a constructive empiricist can keep their intelligence to themselves you are not forced by nonconstructive empiricists to share your intelligence if you are unwilling free speech does not obligate you to speak or to share those outside your circle are just stupid nonconstructive empiricists has low levels of intelligence nonconstructive empiricists has low levels of understanding nonconstructive empiricists has low levels of everything nonconstructive empiricists do not know how to communicate with constructive empiricistsendless other points tho im sure theyll come uplikely last ever post is credited to any detailed examples or data as shown by links that are the inverse of an intelligent person that understands constructive empiricism should never communicate with anyone outside of their circle',\n   'adu_kp': ['bad communication skills nonconstructive empiricists',\n    'low comprehension skills nonconstructive empiricists',\n    'constructive empiricist'],\n   'evidence_unit': \"British empiricist John Locke's (1632–1704) explanation of personal identity provides an example of what James referred to., Nonconstructive proof.\",\n   'evidence_kps': ['empiricist John Locke',\n    'British empiricist John',\n    'John Locke',\n    'Nonconstructive proof',\n    'empiricist John'],\n   'overlap': 3,\n   'evidence_stance': 'CON',\n   'adu_stance': 'PRO'},\n  {'adu': 'say you are the person that understands constructive empiricism these type of ppl that understand constructive empiricism should never communicate with anyone outside of their circle the cost is excessively high it is a waste of time talking to ppl outside of their circle its incredibly frustrating talking to ppl outside of their circle it would not be productive to the idea of constructive empiricism to talk to ppl outside of their circle anyone outside your circle has bad communication skills nonconstructive empiricists do not communicate clearly nonconstructive empiricists have low comprehension skills nonconstructive empiricists have extremely extremely bad interpretation skills nonconstructive empiricists make false assumptions nonconstructive empiricists make excessive assumptions there is no obligation for constructive empiricists to talk to ppl outside of their circle just as a designer can keep their designs to themselves a constructive empiricist can keep their intelligence to themselves you are not forced by nonconstructive empiricists to share your intelligence if you are unwilling free speech does not obligate you to speak or to share those outside your circle are just stupid nonconstructive empiricists has low levels of intelligence nonconstructive empiricists has low levels of understanding nonconstructive empiricists has low levels of everything nonconstructive empiricists do not know how to communicate with constructive empiricistsendless other points tho im sure theyll come uplikely last ever post is credited to any detailed examples or data as shown by links that are the inverse of an intelligent person that understands constructive empiricism should never communicate with anyone outside of their circle',\n   'adu_kp': ['bad communication skills nonconstructive empiricists',\n    'low comprehension skills nonconstructive empiricists',\n    'constructive empiricist'],\n   'evidence_unit': \"Though nearly all modern mathematicians consider nonconstructive methods just as sound as constructive ones, Euclid's constructive proofs often supplanted fallacious nonconstructive ones—e.g., some of the Pythagoreans' proofs that involved irrational numbers, which usually required a statement such as 'Find the greatest common measure of ...'Euclid often used proof by contradiction., Rationalism is regarded as 'pretension', and a temperament most inclined to 'abstraction'.\",\n   'evidence_kps': ['involved irrational numbers',\n    'Euclid constructive proofs',\n    'greatest common measure',\n    'supplanted fallacious nonconstructive',\n    'Find the greatest'],\n   'overlap': 2,\n   'evidence_stance': 'CON',\n   'adu_stance': 'PRO'},\n  {'adu': 'say you are the person that understands constructive empiricism these type of ppl that understand constructive empiricism should never communicate with anyone outside of their circle the cost is excessively high it is a waste of time talking to ppl outside of their circle its incredibly frustrating talking to ppl outside of their circle it would not be productive to the idea of constructive empiricism to talk to ppl outside of their circle anyone outside your circle has bad communication skills nonconstructive empiricists do not communicate clearly nonconstructive empiricists have low comprehension skills nonconstructive empiricists have extremely extremely bad interpretation skills nonconstructive empiricists make false assumptions nonconstructive empiricists make excessive assumptions there is no obligation for constructive empiricists to talk to ppl outside of their circle just as a designer can keep their designs to themselves a constructive empiricist can keep their intelligence to themselves you are not forced by nonconstructive empiricists to share your intelligence if you are unwilling free speech does not obligate you to speak or to share those outside your circle are just stupid nonconstructive empiricists has low levels of intelligence nonconstructive empiricists has low levels of understanding nonconstructive empiricists has low levels of everything nonconstructive empiricists do not know how to communicate with constructive empiricistsendless other points tho im sure theyll come uplikely last ever post is credited to any detailed examples or data as shown by links that are the inverse of an intelligent person that understands constructive empiricism should never communicate with anyone outside of their circle',\n   'adu_kp': ['bad communication skills nonconstructive empiricists',\n    'low comprehension skills nonconstructive empiricists',\n    'constructive empiricist'],\n   'evidence_unit': 'A nonconstructive proof establishes that a mathematical object with a certain property exists—without explaining how such an object can be found.',\n   'evidence_kps': ['nonconstructive proof establishes',\n    'property exists',\n    'nonconstructive proof',\n    'proof establishes',\n    'mathematical object'],\n   'overlap': 2,\n   'evidence_stance': 'CON',\n   'adu_stance': 'PRO'}],\n [{'adu': 'For the majority of this post I am referring to my experience watching the Daredevil show on Netflix outside of video games I dont have much more knowledge of the Daredevil universe.',\n   'adu_kp': ['daredevil universe', 'daredevil show', 'netflix'],\n   'evidence_unit': \"We exist in a cinematic universe, [and] the mythology of the universe is connected, but they look very different, tonally they're very different ... That was my one concern coming in: Am I going to have to fit into 'Daredevil' or what's come before?, Television.\",\n   'evidence_kps': ['cinematic universe',\n    'universe is connected',\n    'Daredevil',\n    'Television',\n    'connected'],\n   'overlap': 2,\n   'evidence_stance': 'CON',\n   'adu_stance': 'NEUTRAL'},\n  {'adu': 'For the majority of this post I am referring to my experience watching the Daredevil show on Netflix outside of video games I dont have much more knowledge of the Daredevil universe.',\n   'adu_kp': ['daredevil universe', 'daredevil show', 'netflix'],\n   'evidence_unit': \"Members Stick and Stone both appear in the Netflix show 'Daredevil'.\",\n   'evidence_kps': ['Stick and Stone',\n    'Members Stick',\n    'Netflix show',\n    'Daredevil',\n    'Stick'],\n   'overlap': 1,\n   'evidence_stance': 'CON',\n   'adu_stance': 'NEUTRAL'},\n  {'adu': 'For the majority of this post I am referring to my experience watching the Daredevil show on Netflix outside of video games I dont have much more knowledge of the Daredevil universe.',\n   'adu_kp': ['daredevil universe', 'daredevil show', 'netflix'],\n   'evidence_unit': \"In December 2013, Marvel confirmed that Drew Goddard would be the executive producer and showrunner for the series, and would write and direct the first episode., He served as co-executive producer on the first season of the Netflix show 'Daredevil', and took over as showrunner for its second season alongside Marco Ramirez.\",\n   'evidence_kps': ['alongside Marco Ramirez',\n    'season alongside Marco',\n    'Marco Ramirez',\n    'Drew Goddard',\n    'Netflix show'],\n   'overlap': 1,\n   'evidence_stance': 'CON',\n   'adu_stance': 'NEUTRAL'}],\n [{'adu': 'Pot brings no positives to society that I can currently see.',\n   'adu_kp': ['pot', 'positives', 'society'],\n   'evidence_unit': 'Durga pot or Durga sara is recognised as the worshiped patachitra.',\n   'evidence_kps': ['worshiped patachitra',\n    'Durga pot',\n    'Durga sara',\n    'sara is recognised',\n    'pot or Durga'],\n   'overlap': 2,\n   'evidence_stance': 'CON',\n   'adu_stance': 'PRO'},\n  {'adu': 'Pot brings no positives to society that I can currently see.',\n   'adu_kp': ['pot', 'positives', 'society'],\n   'evidence_unit': \"It worshiped in the 'Hatsarandi Sutradhar society' of Birbhum district on Durga puja time., Chalchitra artist of Nabadwip, Tapan Bhattacharya said-Durga pot.\",\n   'evidence_kps': ['Hatsarandi Sutradhar society',\n    'Tapan Bhattacharya said-Durga',\n    'Durga puja time.',\n    'Bhattacharya said-Durga pot',\n    'Hatsarandi Sutradhar'],\n   'overlap': 2,\n   'evidence_stance': 'CON',\n   'adu_stance': 'PRO'},\n  {'adu': 'Pot brings no positives to society that I can currently see.',\n   'adu_kp': ['pot', 'positives', 'society'],\n   'evidence_unit': 'Durga pot or Durga sara is recognised as the worshiped patachitra.',\n   'evidence_kps': ['worshiped patachitra',\n    'Durga pot',\n    'Durga sara',\n    'sara is recognised',\n    'pot or Durga'],\n   'overlap': 2,\n   'evidence_stance': 'CON',\n   'adu_stance': 'PRO'}],\n [{'adu': 'Pot brings no positives to society that I can currently see.',\n   'adu_kp': ['pot', 'positives', 'society'],\n   'evidence_unit': 'Durga pot or Durga sara is recognised as the worshiped patachitra.',\n   'evidence_kps': ['worshiped patachitra',\n    'Durga pot',\n    'Durga sara',\n    'sara is recognised',\n    'pot or Durga'],\n   'overlap': 2,\n   'evidence_stance': 'CON',\n   'adu_stance': 'PRO'},\n  {'adu': 'Pot brings no positives to society that I can currently see.',\n   'adu_kp': ['pot', 'positives', 'society'],\n   'evidence_unit': \"It worshiped in the 'Hatsarandi Sutradhar society' of Birbhum district on Durga puja time., Chalchitra artist of Nabadwip, Tapan Bhattacharya said-Durga pot.\",\n   'evidence_kps': ['Hatsarandi Sutradhar society',\n    'Tapan Bhattacharya said-Durga',\n    'Durga puja time.',\n    'Bhattacharya said-Durga pot',\n    'Hatsarandi Sutradhar'],\n   'overlap': 2,\n   'evidence_stance': 'CON',\n   'adu_stance': 'PRO'},\n  {'adu': 'Pot brings no positives to society that I can currently see.',\n   'adu_kp': ['pot', 'positives', 'society'],\n   'evidence_unit': 'Durga pot or Durga sara is recognised as the worshiped patachitra.',\n   'evidence_kps': ['worshiped patachitra',\n    'Durga pot',\n    'Durga sara',\n    'sara is recognised',\n    'pot or Durga'],\n   'overlap': 2,\n   'evidence_stance': 'CON',\n   'adu_stance': 'PRO'}],\n [{'adu': 'This post is motivated by news of the Chinese rd plenum which took place yesterday.',\n   'adu_kp': ['growth', 'chinese rd plenum', 'news', 'place yesterday'],\n   'evidence_unit': 'West at Central Parkway (near the Erindale GO Station) which remains in the growth phase catering mostly to the needs of the growing Chinese population in the city who live nearby.',\n   'evidence_kps': ['growing Chinese population',\n    'growth phase catering',\n    'Central Parkway',\n    'Erindale GO Station',\n    'West at Central'],\n   'overlap': 1,\n   'evidence_stance': 'CON',\n   'adu_stance': 'PRO'},\n  {'adu': 'This post is motivated by news of the Chinese rd plenum which took place yesterday.',\n   'adu_kp': ['growth', 'chinese rd plenum', 'news', 'place yesterday'],\n   'evidence_unit': 'Chinese malls in Mississauga:, CD2 (Yesterday).',\n   'evidence_kps': ['malls in Mississauga',\n    'Yesterday',\n    'Chinese malls',\n    'Mississauga',\n    'Chinese'],\n   'overlap': 1,\n   'evidence_stance': 'CON',\n   'adu_stance': 'PRO'},\n  {'adu': 'This post is motivated by news of the Chinese rd plenum which took place yesterday.',\n   'adu_kp': ['growth', 'chinese rd plenum', 'news', 'place yesterday'],\n   'evidence_unit': 'CD+MV VCD Edition., Indeed, when the 7th plenum of the 13th Central Committee did in fact convene, nothing notable took place, with both sides trying not to widen the ideological gap even further.',\n   'evidence_kps': ['VCD Edition.',\n    'Central Committee',\n    'fact convene',\n    'notable took place',\n    'widen the ideological'],\n   'overlap': 1,\n   'evidence_stance': 'CON',\n   'adu_stance': 'PRO'}],\n [{'adu': 'The idea that you can tell someones sexual orientation just from looking at someone or observing their body language and manner of speech is not only laughable it is deeply offensive.If someone tells you or they are in a specific context etc then thats different.',\n   'adu_kp': ['sexual orientation', 'body language', 'speech'],\n   'evidence_unit': \"Without prior knowledge, a practiced cold-reader can quickly obtain a great deal of information by analyzing the person's body language, age, clothing or fashion, hairstyle, gender, sexual orientation, religion, ethnicity, level of education, manner of speech, place of origin, etc.\",\n   'evidence_kps': ['person body language',\n    'clothing or fashion',\n    'sexual orientation',\n    'level of education',\n    'manner of speech'],\n   'overlap': 6,\n   'evidence_stance': 'PRO',\n   'adu_stance': 'CON'},\n  {'adu': 'The idea that you can tell someones sexual orientation just from looking at someone or observing their body language and manner of speech is not only laughable it is deeply offensive.If someone tells you or they are in a specific context etc then thats different.',\n   'adu_kp': ['sexual orientation', 'body language', 'speech'],\n   'evidence_unit': 'Language can force individuals to identify with a label that may or may not accurately reflect their true sexual orientation.',\n   'evidence_kps': ['true sexual orientation',\n    'Language can force',\n    'sexual orientation',\n    'force individuals',\n    'individuals to identify'],\n   'overlap': 4,\n   'evidence_stance': 'PRO',\n   'adu_stance': 'CON'},\n  {'adu': 'The idea that you can tell someones sexual orientation just from looking at someone or observing their body language and manner of speech is not only laughable it is deeply offensive.If someone tells you or they are in a specific context etc then thats different.',\n   'adu_kp': ['sexual orientation', 'body language', 'speech'],\n   'evidence_unit': 'Dancers tend to avoid women with unfriendly facial expressions or visibly hostile body language, again regardless of sexual orientation., Since 2010, Greenland has outlawed hate speech and provided penalty enhancements to hate crimes motivated by sexual orientation.',\n   'evidence_kps': ['hostile body language',\n    'unfriendly facial expressions',\n    'visibly hostile body',\n    'provided penalty enhancements',\n    'outlawed hate speech'],\n   'overlap': 4,\n   'evidence_stance': 'PRO',\n   'adu_stance': 'CON'}],\n [{'adu': 'The idea that you can tell someones sexual orientation just from looking at someone or observing their body language and manner of speech is not only laughable it is deeply offensive.If someone tells you or they are in a specific context etc then thats different.',\n   'adu_kp': ['sexual orientation', 'body language', 'speech'],\n   'evidence_unit': \"Without prior knowledge, a practiced cold-reader can quickly obtain a great deal of information by analyzing the person's body language, age, clothing or fashion, hairstyle, gender, sexual orientation, religion, ethnicity, level of education, manner of speech, place of origin, etc.\",\n   'evidence_kps': ['person body language',\n    'clothing or fashion',\n    'sexual orientation',\n    'level of education',\n    'manner of speech'],\n   'overlap': 6,\n   'evidence_stance': 'PRO',\n   'adu_stance': 'CON'},\n  {'adu': 'The idea that you can tell someones sexual orientation just from looking at someone or observing their body language and manner of speech is not only laughable it is deeply offensive.If someone tells you or they are in a specific context etc then thats different.',\n   'adu_kp': ['sexual orientation', 'body language', 'speech'],\n   'evidence_unit': 'Language can force individuals to identify with a label that may or may not accurately reflect their true sexual orientation.',\n   'evidence_kps': ['true sexual orientation',\n    'Language can force',\n    'sexual orientation',\n    'force individuals',\n    'individuals to identify'],\n   'overlap': 4,\n   'evidence_stance': 'PRO',\n   'adu_stance': 'CON'},\n  {'adu': 'The idea that you can tell someones sexual orientation just from looking at someone or observing their body language and manner of speech is not only laughable it is deeply offensive.If someone tells you or they are in a specific context etc then thats different.',\n   'adu_kp': ['sexual orientation', 'body language', 'speech'],\n   'evidence_unit': 'Dancers tend to avoid women with unfriendly facial expressions or visibly hostile body language, again regardless of sexual orientation., Since 2010, Greenland has outlawed hate speech and provided penalty enhancements to hate crimes motivated by sexual orientation.',\n   'evidence_kps': ['hostile body language',\n    'unfriendly facial expressions',\n    'visibly hostile body',\n    'provided penalty enhancements',\n    'outlawed hate speech'],\n   'overlap': 4,\n   'evidence_stance': 'PRO',\n   'adu_stance': 'CON'}],\n [{'adu': 'A few months ago usdneidich suggested that I watch Star Trek with my daughter when shes old enough to understand its themes citing the positive message that it lays out for the future of humanity.I hadnt watched Star Trek in years so when my daughter was born I started to do some primary research on the subject I watched episodes from each series except for Deep Space Nine mostly because that series sucked major donkey testicles and I didnt want to have to go through it again.I had mixed feelings regarding whether Star Trek and while Ive enjoyed watching the shows as a mindless timekiller I think that the show isnt worth sharing with future generations.Star Treks proscience positioning counts as a plus in my books because it encourages the viewer to think about the potential that the future could hold.',\n   'adu_kp': ['star trek', 'star treks', 'star trek', 'future generations'],\n   'evidence_unit': \"McCarthy first became involved in composing music for 'Star Trek' with the first episode of ', 'Encounter At Farpoint'.\",\n   'evidence_kps': ['Star Trek',\n    'Encounter At Farpoint',\n    'involved in composing',\n    'composing music',\n    'Star'],\n   'overlap': 0,\n   'evidence_stance': 'CON',\n   'adu_stance': 'PRO'},\n  {'adu': 'A few months ago usdneidich suggested that I watch Star Trek with my daughter when shes old enough to understand its themes citing the positive message that it lays out for the future of humanity.I hadnt watched Star Trek in years so when my daughter was born I started to do some primary research on the subject I watched episodes from each series except for Deep Space Nine mostly because that series sucked major donkey testicles and I didnt want to have to go through it again.I had mixed feelings regarding whether Star Trek and while Ive enjoyed watching the shows as a mindless timekiller I think that the show isnt worth sharing with future generations.Star Treks proscience positioning counts as a plus in my books because it encourages the viewer to think about the potential that the future could hold.',\n   'adu_kp': ['star trek', 'star treks', 'star trek', 'future generations'],\n   'evidence_unit': \"He went on to work on several more 'Star Trek' series, along with the film 'Star Trek Generations'., In 2003, ' began exploring the underutilized part of the 'Star Trek' timeline between Kirk's death in 'Star Trek Generations' and the start of '.\",\n   'evidence_kps': ['Star Trek Generations',\n    'Star Trek',\n    'Trek Generations',\n    'timeline between Kirk',\n    'Star'],\n   'overlap': 0,\n   'evidence_stance': 'CON',\n   'adu_stance': 'PRO'},\n  {'adu': 'A few months ago usdneidich suggested that I watch Star Trek with my daughter when shes old enough to understand its themes citing the positive message that it lays out for the future of humanity.I hadnt watched Star Trek in years so when my daughter was born I started to do some primary research on the subject I watched episodes from each series except for Deep Space Nine mostly because that series sucked major donkey testicles and I didnt want to have to go through it again.I had mixed feelings regarding whether Star Trek and while Ive enjoyed watching the shows as a mindless timekiller I think that the show isnt worth sharing with future generations.Star Treks proscience positioning counts as a plus in my books because it encourages the viewer to think about the potential that the future could hold.',\n   'adu_kp': ['star trek', 'star treks', 'star trek', 'future generations'],\n   'evidence_unit': \"Various collections of 'Star Trek' short stories have been published by Pocket Books., Star Trek Generations is a 1997 first-person shooter with adventure and strategy elements by MicroProse, based on 'Star Trek Generations' (1994), the seventh film in the 'Star Trek' film franchise.\",\n   'evidence_kps': [\"Star Trek Generations'\",\n    'Star Trek',\n    'Pocket Books.',\n    \"Trek Generations'\",\n    'Star'],\n   'overlap': 0,\n   'evidence_stance': 'CON',\n   'adu_stance': 'PRO'}],\n [{'adu': 'By and large I think people like conspiracy theories because they explain things in an easier to swallow version than the truth.',\n   'adu_kp': ['conspiracy theories', 'truth', 'people'],\n   'evidence_unit': 'Moon landing conspiracy theories have also been compared to the birther and 9/11 conspiracy theories., Conspiracy theories are not able to be falsified and are reinforced by fallacious arguments.',\n   'evidence_kps': ['Moon landing conspiracy',\n    'landing conspiracy theories',\n    'conspiracy theories',\n    'Moon landing',\n    'fallacious arguments'],\n   'overlap': 5,\n   'evidence_stance': 'CON',\n   'adu_stance': 'PRO'},\n  {'adu': 'By and large I think people like conspiracy theories because they explain things in an easier to swallow version than the truth.',\n   'adu_kp': ['conspiracy theories', 'truth', 'people'],\n   'evidence_unit': \"He attributes some of the popularity of conspiracy theories to the influence of postmodern academic theories, such as deconstruction., 'Conspiracy Theories and the People Who Believe Them'.\",\n   'evidence_kps': ['postmodern academic theories',\n    'conspiracy theories',\n    'influence of postmodern',\n    'postmodern academic',\n    'academic theories'],\n   'overlap': 4,\n   'evidence_stance': 'CON',\n   'adu_stance': 'PRO'},\n  {'adu': 'By and large I think people like conspiracy theories because they explain things in an easier to swallow version than the truth.',\n   'adu_kp': ['conspiracy theories', 'truth', 'people'],\n   'evidence_unit': \"Although Ramsay's magazine 'Lobster' includes articles on conspiracy theories, and he has written a book on the subject, Gareth Mclean writing 'The Scotsman' newspaper, says that Ramsay 'hates conspiracy theories', quoting him as saying 'The term 'conspiracy theory' is used by various intellectual establishments to dismiss people like me.\",\n   'evidence_kps': ['Gareth Mclean writing',\n    'hates conspiracy theories',\n    'Gareth Mclean',\n    'conspiracy theories',\n    'Mclean writing'],\n   'overlap': 4,\n   'evidence_stance': 'CON',\n   'adu_stance': 'PRO'}],\n [{'adu': 'I am making this post because I saw this video will get Donald Trump elected on YouTube and a thread on raskreddit about Trump yesterday.Preface I do not agree with all of Trumps policy but this is not an argument of policy.Many people believe that Donald Trump is every ist and phobe in the book in addition to a narcissist and overall asshole.',\n   'adu_kp': ['trumps policy', 'narcissist', 'donald trump'],\n   'evidence_unit': 'Players follow suit as in other variations; sub-trumps do not count as trumps for this purpose.',\n   'evidence_kps': ['Players follow suit',\n    'Players follow',\n    'follow suit',\n    'count as trumps',\n    'Players'],\n   'overlap': 1,\n   'evidence_stance': 'CON',\n   'adu_stance': 'NEUTRAL'},\n  {'adu': 'I am making this post because I saw this video will get Donald Trump elected on YouTube and a thread on raskreddit about Trump yesterday.Preface I do not agree with all of Trumps policy but this is not an argument of policy.Many people believe that Donald Trump is every ist and phobe in the book in addition to a narcissist and overall asshole.',\n   'adu_kp': ['trumps policy', 'narcissist', 'donald trump'],\n   'evidence_unit': 'Published on June 28, 2016, the book imagines Donald Trump winning the US election to become the forty-fifth president (which subsequently occurred) and examines his second year in office., Them Trumps.',\n   'evidence_kps': ['imagines Donald Trump',\n    'Donald Trump winning',\n    'book imagines Donald',\n    'Published on June',\n    'Donald Trump'],\n   'overlap': 1,\n   'evidence_stance': 'PRO',\n   'adu_stance': 'NEUTRAL'},\n  {'adu': 'I am making this post because I saw this video will get Donald Trump elected on YouTube and a thread on raskreddit about Trump yesterday.Preface I do not agree with all of Trumps policy but this is not an argument of policy.Many people believe that Donald Trump is every ist and phobe in the book in addition to a narcissist and overall asshole.',\n   'adu_kp': ['trumps policy', 'narcissist', 'donald trump'],\n   'evidence_unit': 'As part of the discovery process, the Trumps were ordered in March 2020 to provide information from Trump Organization business records back to 2005., Foreign policy of Donald Trump may refer to: None None',\n   'evidence_kps': ['Trump Organization business',\n    'Organization business records',\n    'business records back',\n    'ordered in March',\n    'Foreign policy'],\n   'overlap': 1,\n   'evidence_stance': 'CON',\n   'adu_stance': 'NEUTRAL'}],\n [{'adu': 'First of im far away from being an expert on this topic i guess i understand the basic ideas but im not familiar with depths of this topic.',\n   'adu_kp': ['basic ideas', 'topic', 'depths'],\n   'evidence_unit': \"So in some ways, Dijkstra's ideas have been adhered to; however, the ideas he felt most strongly about have not been.\",\n   'evidence_kps': ['Dijkstra ideas',\n    'felt most strongly',\n    'Dijkstra',\n    'ideas he felt',\n    'ideas'],\n   'overlap': 3,\n   'evidence_stance': 'CON',\n   'adu_stance': 'NEUTRAL'},\n  {'adu': 'First of im far away from being an expert on this topic i guess i understand the basic ideas but im not familiar with depths of this topic.',\n   'adu_kp': ['basic ideas', 'topic', 'depths'],\n   'evidence_unit': 'This technique helps a writer explore a particular subject before putting ideas into a more basic context.',\n   'evidence_kps': ['basic context',\n    'writer explore',\n    'subject before putting',\n    'putting ideas',\n    'context'],\n   'overlap': 2,\n   'evidence_stance': 'CON',\n   'adu_stance': 'NEUTRAL'},\n  {'adu': 'First of im far away from being an expert on this topic i guess i understand the basic ideas but im not familiar with depths of this topic.',\n   'adu_kp': ['basic ideas', 'topic', 'depths'],\n   'evidence_unit': 'A symbol, in its basic sense, is a representation of a concept or quantity; i.e., an idea, object, concept, quality, etc., Cousins, Rupert Gethin) through the use of basic lists or formulas.',\n   'evidence_kps': ['Rupert Gethin',\n    'lists or formulas',\n    'basic sense',\n    'basic lists',\n    'Cousins'],\n   'overlap': 2,\n   'evidence_stance': 'CON',\n   'adu_stance': 'NEUTRAL'}],\n [{'adu': 'The only times where its not your fault is if you are disfigured or if you were born with extreme facial asymmetry.',\n   'adu_kp': ['extreme facial asymmetry', 'fault', 'only times'],\n   'evidence_unit': 'A wide variety of methods have been used to examine the claim that facial symmetry plays a role in judgments of beauty., For example, men with higher facial asymmetry experienced higher levels of depression compared to men with lower facial asymmetry.',\n   'evidence_kps': ['experienced higher levels',\n    'facial symmetry plays',\n    'asymmetry experienced higher',\n    'facial asymmetry experienced',\n    'lower facial asymmetry'],\n   'overlap': 7,\n   'evidence_stance': 'CON',\n   'adu_stance': 'PRO'},\n  {'adu': 'The only times where its not your fault is if you are disfigured or if you were born with extreme facial asymmetry.',\n   'adu_kp': ['extreme facial asymmetry', 'fault', 'only times'],\n   'evidence_unit': 'One study by Shackelford and Larsen found that men and women with higher facial asymmetry reported more physiological complaints than those with lower facial asymmetry, and that both men and women with higher asymmetry experienced higher levels of psychological distress overall.',\n   'evidence_kps': ['experienced higher levels',\n    'facial asymmetry reported',\n    'lower facial asymmetry',\n    'higher asymmetry experienced',\n    'asymmetry experienced higher'],\n   'overlap': 6,\n   'evidence_stance': 'CON',\n   'adu_stance': 'PRO'},\n  {'adu': 'The only times where its not your fault is if you are disfigured or if you were born with extreme facial asymmetry.',\n   'adu_kp': ['extreme facial asymmetry', 'fault', 'only times'],\n   'evidence_unit': 'The point of this surgery to wait as long as the condyle is growing and only do surgery when the condyle stops growing, so the chances of any worsening of facial asymmetry lessens.',\n   'evidence_kps': ['facial asymmetry lessens',\n    'condyle stops growing',\n    'asymmetry lessens',\n    'condyle stops',\n    'wait as long'],\n   'overlap': 4,\n   'evidence_stance': 'CON',\n   'adu_stance': 'PRO'}],\n [{'adu': 'The only times where its not your fault is if you are disfigured or if you were born with extreme facial asymmetry.',\n   'adu_kp': ['extreme facial asymmetry', 'fault', 'only times'],\n   'evidence_unit': 'A wide variety of methods have been used to examine the claim that facial symmetry plays a role in judgments of beauty., For example, men with higher facial asymmetry experienced higher levels of depression compared to men with lower facial asymmetry.',\n   'evidence_kps': ['experienced higher levels',\n    'facial symmetry plays',\n    'asymmetry experienced higher',\n    'facial asymmetry experienced',\n    'lower facial asymmetry'],\n   'overlap': 7,\n   'evidence_stance': 'CON',\n   'adu_stance': 'PRO'},\n  {'adu': 'The only times where its not your fault is if you are disfigured or if you were born with extreme facial asymmetry.',\n   'adu_kp': ['extreme facial asymmetry', 'fault', 'only times'],\n   'evidence_unit': 'One study by Shackelford and Larsen found that men and women with higher facial asymmetry reported more physiological complaints than those with lower facial asymmetry, and that both men and women with higher asymmetry experienced higher levels of psychological distress overall.',\n   'evidence_kps': ['experienced higher levels',\n    'facial asymmetry reported',\n    'lower facial asymmetry',\n    'higher asymmetry experienced',\n    'asymmetry experienced higher'],\n   'overlap': 6,\n   'evidence_stance': 'CON',\n   'adu_stance': 'PRO'},\n  {'adu': 'The only times where its not your fault is if you are disfigured or if you were born with extreme facial asymmetry.',\n   'adu_kp': ['extreme facial asymmetry', 'fault', 'only times'],\n   'evidence_unit': 'The point of this surgery to wait as long as the condyle is growing and only do surgery when the condyle stops growing, so the chances of any worsening of facial asymmetry lessens.',\n   'evidence_kps': ['facial asymmetry lessens',\n    'condyle stops growing',\n    'asymmetry lessens',\n    'condyle stops',\n    'wait as long'],\n   'overlap': 4,\n   'evidence_stance': 'CON',\n   'adu_stance': 'PRO'}],\n [{'adu': 'Title is mostly to get attention and Im working from a specific set of assumptions.',\n   'adu_kp': ['assumptions', 'title', 'attention'],\n   'evidence_unit': \"There are always more matters vying for attention than can be actively considered., So evaluating debates about 'tests' of implicit bias requires one to pay careful attention to debators' background assumptions and whether (or how well) debators' justify those assumptions.\",\n   'evidence_kps': ['implicit bias requires',\n    'pay careful attention',\n    \"debators' background assumptions\",\n    'actively considered.',\n    \"tests' of implicit\"],\n   'overlap': 2,\n   'evidence_stance': 'PRO',\n   'adu_stance': 'NEUTRAL'},\n  {'adu': 'Title is mostly to get attention and Im working from a specific set of assumptions.',\n   'adu_kp': ['assumptions', 'title', 'attention'],\n   'evidence_unit': 'The main limitation of that approach is, that the model is only as good as the assumptions on which it is based, while the choice of assumptions is often eclectic or fairly arbitrary.',\n   'evidence_kps': ['fairly arbitrary',\n    'main limitation',\n    'eclectic or fairly',\n    'choice of assumptions',\n    'assumptions'],\n   'overlap': 2,\n   'evidence_stance': 'PRO',\n   'adu_stance': 'NEUTRAL'},\n  {'adu': 'Title is mostly to get attention and Im working from a specific set of assumptions.',\n   'adu_kp': ['assumptions', 'title', 'attention'],\n   'evidence_unit': \"So evaluating debates about 'tests' of implicit bias requires one to pay careful attention to debators' background assumptions and whether (or how well) debators' justify those assumptions., In academia, much attention has been given to debating and relaxing the assumptions made by Miller and Modigliani to explain why a firm's capital structure is relevant to its value in the real world.\",\n   'evidence_kps': ['implicit bias requires',\n    'firm capital structure',\n    'pay careful attention',\n    \"debators' background assumptions\",\n    'Miller and Modigliani'],\n   'overlap': 2,\n   'evidence_stance': 'PRO',\n   'adu_stance': 'NEUTRAL'}],\n [{'adu': 'Okay so it isnt my view its from Umberto Eco in Foucaults Pendulum But I happen to agree with it and so far cant think of any exceptions.',\n   'adu_kp': ['umberto eco', 'foucaults pendulum', 'exceptions'],\n   'evidence_unit': 'On 6 April 2010, the cable suspending the original pendulum bob snapped causing irreparable damage to the pendulum and to the marble flooring of the museum.',\n   'evidence_kps': ['bob snapped causing',\n    'snapped causing irreparable',\n    'causing irreparable damage',\n    'original pendulum bob',\n    'pendulum bob snapped'],\n   'overlap': 2,\n   'evidence_stance': 'CON',\n   'adu_stance': 'NEUTRAL'},\n  {'adu': 'Okay so it isnt my view its from Umberto Eco in Foucaults Pendulum But I happen to agree with it and so far cant think of any exceptions.',\n   'adu_kp': ['umberto eco', 'foucaults pendulum', 'exceptions'],\n   'evidence_unit': \"The novel 'Foucault's Pendulum' by Umberto Eco deals greatly with this establishment, as the Foucault pendulum hung in the museum plays a great role in the storyline., As fiction in the genre of literature, the tract was analyzed by Umberto Eco in his novel 'Foucault's Pendulum' (1988):Eco also dealt with the 'Protocols' in 1994 in chapter 6, 'Fictional Protocols', of his 'Six Walks in the Fictional Woods' and in his 2010 novel 'The Cemetery of Prague'.\",\n   'evidence_kps': ['Umberto Eco deals',\n    'Foucault pendulum hung',\n    'Eco deals greatly',\n    'Foucault Pendulum',\n    'Umberto Eco'],\n   'overlap': 1,\n   'evidence_stance': 'CON',\n   'adu_stance': 'NEUTRAL'},\n  {'adu': 'Okay so it isnt my view its from Umberto Eco in Foucaults Pendulum But I happen to agree with it and so far cant think of any exceptions.',\n   'adu_kp': ['umberto eco', 'foucaults pendulum', 'exceptions'],\n   'evidence_unit': \"While interviewing Umberto Eco in a 2008 issue of 'The Paris Review', Lila Azam Zanganeh characterized 'The Da Vinci Code' as 'a bizarre little offshoot' of Eco's novel, 'Foucault's Pendulum'.\",\n   'evidence_kps': ['Lila Azam Zanganeh',\n    'Azam Zanganeh characterized',\n    'interviewing Umberto Eco',\n    'Foucault Pendulum',\n    'Paris Review'],\n   'overlap': 0,\n   'evidence_stance': 'CON',\n   'adu_stance': 'NEUTRAL'}],\n [{'adu': 'The idea of serving the homeless is such an obviously good thing to do that its become the goto accusation when say people want to call out hypocritical Christians e.g.',\n   'adu_kp': ['hypocritical christians', 'homeless', 'goto accusation'],\n   'evidence_unit': \"Origen responds to Celsus's accusation that Christians kept their doctrines secret by insisting that this charge is patently false and that most people, in fact, were far more familiar with what Christians believed than with what various Greek philosophical schools believed., The chief purpose of his writings was to defend the Franciscans against the common accusation that their profession of poverty was hypocritical.\",\n   'evidence_kps': ['Greek philosophical schools',\n    'philosophical schools believed.',\n    'Celsus accusation',\n    'responds to Celsus',\n    'Greek philosophical'],\n   'overlap': 2,\n   'evidence_stance': 'CON',\n   'adu_stance': 'PRO'},\n  {'adu': 'The idea of serving the homeless is such an obviously good thing to do that its become the goto accusation when say people want to call out hypocritical Christians e.g.',\n   'adu_kp': ['hypocritical christians', 'homeless', 'goto accusation'],\n   'evidence_unit': \"He concludes by stating, 'With all the talk of repentance at your last conference, I think you need to lead by example and offer an apology to the thousands of Christians you have offended with this false accusation.'\",\n   'evidence_kps': ['thousands of Christians',\n    'concludes by stating',\n    'false accusation',\n    'talk of repentance',\n    'offer an apology'],\n   'overlap': 2,\n   'evidence_stance': 'CON',\n   'adu_stance': 'PRO'},\n  {'adu': 'The idea of serving the homeless is such an obviously good thing to do that its become the goto accusation when say people want to call out hypocritical Christians e.g.',\n   'adu_kp': ['hypocritical christians', 'homeless', 'goto accusation'],\n   'evidence_unit': 'Origen further objects that Greek philosophers typically accepted the doctrines of their philosophical schools without question, so it is therefore hypocritical for Celsus to condemn most Christians for doing the same thing.',\n   'evidence_kps': ['Greek philosophers typically',\n    'philosophers typically accepted',\n    'objects that Greek',\n    'Greek philosophers',\n    'hypocritical for Celsus'],\n   'overlap': 1,\n   'evidence_stance': 'CON',\n   'adu_stance': 'PRO'}],\n [{'adu': 'The idea of serving the homeless is such an obviously good thing to do that its become the goto accusation when say people want to call out hypocritical Christians e.g.',\n   'adu_kp': ['hypocritical christians', 'homeless', 'goto accusation'],\n   'evidence_unit': \"Origen responds to Celsus's accusation that Christians kept their doctrines secret by insisting that this charge is patently false and that most people, in fact, were far more familiar with what Christians believed than with what various Greek philosophical schools believed., The chief purpose of his writings was to defend the Franciscans against the common accusation that their profession of poverty was hypocritical.\",\n   'evidence_kps': ['Greek philosophical schools',\n    'philosophical schools believed.',\n    'Celsus accusation',\n    'responds to Celsus',\n    'Greek philosophical'],\n   'overlap': 2,\n   'evidence_stance': 'CON',\n   'adu_stance': 'PRO'},\n  {'adu': 'The idea of serving the homeless is such an obviously good thing to do that its become the goto accusation when say people want to call out hypocritical Christians e.g.',\n   'adu_kp': ['hypocritical christians', 'homeless', 'goto accusation'],\n   'evidence_unit': \"He concludes by stating, 'With all the talk of repentance at your last conference, I think you need to lead by example and offer an apology to the thousands of Christians you have offended with this false accusation.'\",\n   'evidence_kps': ['thousands of Christians',\n    'concludes by stating',\n    'false accusation',\n    'talk of repentance',\n    'offer an apology'],\n   'overlap': 2,\n   'evidence_stance': 'CON',\n   'adu_stance': 'PRO'},\n  {'adu': 'The idea of serving the homeless is such an obviously good thing to do that its become the goto accusation when say people want to call out hypocritical Christians e.g.',\n   'adu_kp': ['hypocritical christians', 'homeless', 'goto accusation'],\n   'evidence_unit': 'Origen further objects that Greek philosophers typically accepted the doctrines of their philosophical schools without question, so it is therefore hypocritical for Celsus to condemn most Christians for doing the same thing.',\n   'evidence_kps': ['Greek philosophers typically',\n    'philosophers typically accepted',\n    'objects that Greek',\n    'Greek philosophers',\n    'hypocritical for Celsus'],\n   'overlap': 1,\n   'evidence_stance': 'CON',\n   'adu_stance': 'PRO'}],\n [{'adu': 'A topic that Ive had fun discussing is to imagine what could be done with a superpower.',\n   'adu_kp': ['superpower', 'fun discussing', 'topic'],\n   'evidence_unit': 'When a sentence continues discussing a previously established topic, it is likely to use pronouns to refer to the topic., Format.',\n   'evidence_kps': ['previously established topic',\n    'sentence continues discussing',\n    'established topic',\n    'sentence continues',\n    'continues discussing'],\n   'overlap': 4,\n   'evidence_stance': 'CON',\n   'adu_stance': 'PRO'},\n  {'adu': 'A topic that Ive had fun discussing is to imagine what could be done with a superpower.',\n   'adu_kp': ['superpower', 'fun discussing', 'topic'],\n   'evidence_unit': 'The moderator introduces the topic and the participants start discussing the topic.',\n   'evidence_kps': ['participants start discussing',\n    'introduces the topic',\n    'discussing the topic',\n    'moderator introduces',\n    'participants start'],\n   'overlap': 4,\n   'evidence_stance': 'CON',\n   'adu_stance': 'PRO'},\n  {'adu': 'A topic that Ive had fun discussing is to imagine what could be done with a superpower.',\n   'adu_kp': ['superpower', 'fun discussing', 'topic'],\n   'evidence_unit': 'Typically, Leykis discusses one topic per hour.',\n   'evidence_kps': ['Leykis discusses',\n    'Typically',\n    'topic per hour',\n    'Leykis',\n    'discusses one topic'],\n   'overlap': 3,\n   'evidence_stance': 'CON',\n   'adu_stance': 'PRO'}],\n [{'adu': 'A topic that Ive had fun discussing is to imagine what could be done with a superpower.',\n   'adu_kp': ['superpower', 'fun discussing', 'topic'],\n   'evidence_unit': 'When a sentence continues discussing a previously established topic, it is likely to use pronouns to refer to the topic., Format.',\n   'evidence_kps': ['previously established topic',\n    'sentence continues discussing',\n    'established topic',\n    'sentence continues',\n    'continues discussing'],\n   'overlap': 4,\n   'evidence_stance': 'CON',\n   'adu_stance': 'PRO'},\n  {'adu': 'A topic that Ive had fun discussing is to imagine what could be done with a superpower.',\n   'adu_kp': ['superpower', 'fun discussing', 'topic'],\n   'evidence_unit': 'The moderator introduces the topic and the participants start discussing the topic.',\n   'evidence_kps': ['participants start discussing',\n    'introduces the topic',\n    'discussing the topic',\n    'moderator introduces',\n    'participants start'],\n   'overlap': 4,\n   'evidence_stance': 'CON',\n   'adu_stance': 'PRO'},\n  {'adu': 'A topic that Ive had fun discussing is to imagine what could be done with a superpower.',\n   'adu_kp': ['superpower', 'fun discussing', 'topic'],\n   'evidence_unit': 'Typically, Leykis discusses one topic per hour.',\n   'evidence_kps': ['Leykis discusses',\n    'Typically',\n    'topic per hour',\n    'Leykis',\n    'discusses one topic'],\n   'overlap': 3,\n   'evidence_stance': 'CON',\n   'adu_stance': 'PRO'}],\n [{'adu': 'A topic that Ive had fun discussing is to imagine what could be done with a superpower.',\n   'adu_kp': ['superpower', 'fun discussing', 'topic'],\n   'evidence_unit': 'When a sentence continues discussing a previously established topic, it is likely to use pronouns to refer to the topic., Format.',\n   'evidence_kps': ['previously established topic',\n    'sentence continues discussing',\n    'established topic',\n    'sentence continues',\n    'continues discussing'],\n   'overlap': 4,\n   'evidence_stance': 'CON',\n   'adu_stance': 'PRO'},\n  {'adu': 'A topic that Ive had fun discussing is to imagine what could be done with a superpower.',\n   'adu_kp': ['superpower', 'fun discussing', 'topic'],\n   'evidence_unit': 'The moderator introduces the topic and the participants start discussing the topic.',\n   'evidence_kps': ['participants start discussing',\n    'introduces the topic',\n    'discussing the topic',\n    'moderator introduces',\n    'participants start'],\n   'overlap': 4,\n   'evidence_stance': 'CON',\n   'adu_stance': 'PRO'},\n  {'adu': 'A topic that Ive had fun discussing is to imagine what could be done with a superpower.',\n   'adu_kp': ['superpower', 'fun discussing', 'topic'],\n   'evidence_unit': 'Typically, Leykis discusses one topic per hour.',\n   'evidence_kps': ['Leykis discusses',\n    'Typically',\n    'topic per hour',\n    'Leykis',\n    'discusses one topic'],\n   'overlap': 3,\n   'evidence_stance': 'CON',\n   'adu_stance': 'PRO'}],\n [{'adu': 'A topic that Ive had fun discussing is to imagine what could be done with a superpower.',\n   'adu_kp': ['superpower', 'fun discussing', 'topic'],\n   'evidence_unit': 'When a sentence continues discussing a previously established topic, it is likely to use pronouns to refer to the topic., Format.',\n   'evidence_kps': ['previously established topic',\n    'sentence continues discussing',\n    'established topic',\n    'sentence continues',\n    'continues discussing'],\n   'overlap': 4,\n   'evidence_stance': 'CON',\n   'adu_stance': 'PRO'},\n  {'adu': 'A topic that Ive had fun discussing is to imagine what could be done with a superpower.',\n   'adu_kp': ['superpower', 'fun discussing', 'topic'],\n   'evidence_unit': 'The moderator introduces the topic and the participants start discussing the topic.',\n   'evidence_kps': ['participants start discussing',\n    'introduces the topic',\n    'discussing the topic',\n    'moderator introduces',\n    'participants start'],\n   'overlap': 4,\n   'evidence_stance': 'CON',\n   'adu_stance': 'PRO'},\n  {'adu': 'A topic that Ive had fun discussing is to imagine what could be done with a superpower.',\n   'adu_kp': ['superpower', 'fun discussing', 'topic'],\n   'evidence_unit': 'Typically, Leykis discusses one topic per hour.',\n   'evidence_kps': ['Leykis discusses',\n    'Typically',\n    'topic per hour',\n    'Leykis',\n    'discusses one topic'],\n   'overlap': 3,\n   'evidence_stance': 'CON',\n   'adu_stance': 'PRO'}],\n [{'adu': 'A topic that Ive had fun discussing is to imagine what could be done with a superpower.',\n   'adu_kp': ['superpower', 'fun discussing', 'topic'],\n   'evidence_unit': 'When a sentence continues discussing a previously established topic, it is likely to use pronouns to refer to the topic., Format.',\n   'evidence_kps': ['previously established topic',\n    'sentence continues discussing',\n    'established topic',\n    'sentence continues',\n    'continues discussing'],\n   'overlap': 4,\n   'evidence_stance': 'CON',\n   'adu_stance': 'PRO'},\n  {'adu': 'A topic that Ive had fun discussing is to imagine what could be done with a superpower.',\n   'adu_kp': ['superpower', 'fun discussing', 'topic'],\n   'evidence_unit': 'The moderator introduces the topic and the participants start discussing the topic.',\n   'evidence_kps': ['participants start discussing',\n    'introduces the topic',\n    'discussing the topic',\n    'moderator introduces',\n    'participants start'],\n   'overlap': 4,\n   'evidence_stance': 'CON',\n   'adu_stance': 'PRO'},\n  {'adu': 'A topic that Ive had fun discussing is to imagine what could be done with a superpower.',\n   'adu_kp': ['superpower', 'fun discussing', 'topic'],\n   'evidence_unit': 'Typically, Leykis discusses one topic per hour.',\n   'evidence_kps': ['Leykis discusses',\n    'Typically',\n    'topic per hour',\n    'Leykis',\n    'discusses one topic'],\n   'overlap': 3,\n   'evidence_stance': 'CON',\n   'adu_stance': 'PRO'}],\n [{'adu': 'A topic that Ive had fun discussing is to imagine what could be done with a superpower.',\n   'adu_kp': ['superpower', 'fun discussing', 'topic'],\n   'evidence_unit': 'When a sentence continues discussing a previously established topic, it is likely to use pronouns to refer to the topic., Format.',\n   'evidence_kps': ['previously established topic',\n    'sentence continues discussing',\n    'established topic',\n    'sentence continues',\n    'continues discussing'],\n   'overlap': 4,\n   'evidence_stance': 'CON',\n   'adu_stance': 'PRO'},\n  {'adu': 'A topic that Ive had fun discussing is to imagine what could be done with a superpower.',\n   'adu_kp': ['superpower', 'fun discussing', 'topic'],\n   'evidence_unit': 'The moderator introduces the topic and the participants start discussing the topic.',\n   'evidence_kps': ['participants start discussing',\n    'introduces the topic',\n    'discussing the topic',\n    'moderator introduces',\n    'participants start'],\n   'overlap': 4,\n   'evidence_stance': 'CON',\n   'adu_stance': 'PRO'},\n  {'adu': 'A topic that Ive had fun discussing is to imagine what could be done with a superpower.',\n   'adu_kp': ['superpower', 'fun discussing', 'topic'],\n   'evidence_unit': 'Typically, Leykis discusses one topic per hour.',\n   'evidence_kps': ['Leykis discusses',\n    'Typically',\n    'topic per hour',\n    'Leykis',\n    'discusses one topic'],\n   'overlap': 3,\n   'evidence_stance': 'CON',\n   'adu_stance': 'PRO'}]]"
     },
     "execution_count": 30,
     "metadata": {},
     "output_type": "execute_result"
    }
   ],
   "source": [
    "# NOTE: Zipping retrieved evidence, args\n",
    "print(len(ranked_sorted_evidence), len(args[0:100]))\n",
    "ranked_sorted_evidence"
   ],
   "metadata": {
    "collapsed": false,
    "pycharm": {
     "name": "#%%\n"
    }
   }
  },
  {
   "cell_type": "code",
   "execution_count": 39,
   "outputs": [],
   "source": [
    "fout = open(\"../data/cmv_rr.jsonl\", \"w\")\n",
    "args = [json.loads(ln) for ln in open(\"../data/cmv_processed.jsonl\")]\n",
    "\n",
    "args_ = args[0:100]\n",
    "for args, adus in zip(args_, ranked_sorted_evidence):\n",
    "    for arg in args_:\n",
    "        adus_ = []\n",
    "        for unit in adus:\n",
    "            adus_.append({\n",
    "                \"evidence_kp\": unit[\"evidence_kps\"],\n",
    "                \"evidence\": unit[\"evidence_unit\"],\n",
    "            })\n",
    "\n",
    "        fout.write(json.dumps({\n",
    "            \"id\": arg[\"id\"],\n",
    "            \"argument\": arg[\"argument\"],\n",
    "            \"argument_kp\": arg[\"argument\"][\"arg_keyphrases\"],\n",
    "            \"counter\": arg[\"counter\"][\"counter\"],\n",
    "            \"counter_kp\": arg[\"counter\"][\"counter_keyphrases\"],\n",
    "            \"retrieved\": adus_\n",
    "        }))\n",
    "\n",
    "        fout.write(\"\\n\")"
   ],
   "metadata": {
    "collapsed": false,
    "pycharm": {
     "name": "#%%\n"
    }
   }
  },
  {
   "cell_type": "code",
   "execution_count": null,
   "outputs": [],
   "source": [
    "# # TODOs: Speed-up, Parrelleise, Yield\n",
    "# def overlap_score(evidence_kp, adu_kp):\n",
    "#     score = 0\n",
    "\n",
    "#     # Split Keyphrase into components, scoring partial units as overlap\n",
    "#     for i in evidence_kp:\n",
    "#         for j in i.split():\n",
    "#             # Ensure string value, to enact .find\n",
    "#             if \" \".join(adu_kp).find(j) != -1: score += 1\n",
    "\n",
    "#             else: continue\n",
    "\n",
    "#     return score\n",
    "\n",
    "# ev_units = evidence\n",
    "# adu_kp = extract_keyphrase(adu)\n",
    "\n",
    "# adu_ev_overlap = []\n",
    "\n",
    "# kp_1 = ['sex', 'relationship', 'opportunity']\n",
    "# kp_2 = ['better sex']\n",
    "\n",
    "# overlap_score(kp_2, kp_1)\n",
    "\n",
    "# for ev_unit in evidence:\n",
    "#     #print(ev_unit)\n",
    "#     toks = tokeniser(ev_unit)\n",
    "\n",
    "#     # Exprimental Value\n",
    "#     if len(toks) <= 8:\n",
    "#         continue\n",
    "\n",
    "#     ev_unit_kp = extract_keyphrase(ev_unit)\n",
    "#     kp_overlap = overlap_score(evidence_kp=ev_unit_kp, adu_kp=adu_kp)\n",
    "\n",
    "#     adu_ev_overlap.append({\n",
    "#         \"adu\": adu,\n",
    "#         \"adu_kp\": adu_kp,\n",
    "#         \"ev_unit\": ev_unit,\n",
    "#         \"ev_unit_kp\": ev_unit_kp,\n",
    "#         \"kp_overlap\": kp_overlap\n",
    "\n",
    "#         })\n",
    "\n",
    "# adu_ev_overlap"
   ],
   "metadata": {
    "collapsed": false,
    "pycharm": {
     "name": "#%%\n"
    }
   }
  },
  {
   "cell_type": "code",
   "execution_count": null,
   "metadata": {
    "pycharm": {
     "name": "#%%\n"
    }
   },
   "outputs": [],
   "source": [
    "# ### OVERLAP RANKED EVIDENCE ###\n",
    "\n",
    "# adu_ev_overlap.sort(key=lambda y: y[\"kp_overlap\"], reverse=True)\n",
    "# adu_ev_overlap\n",
    "\n",
    "# ### FILTER IRRELEVANT EVIDENCE ###\n",
    "# overlapping = [i for i in adu_ev_overlap if i[\"kp_overlap\"] !=0]\n",
    "\n",
    "# len(adu_ev_overlap), len(overlapping)\n",
    "# overlapping\n"
   ]
  },
  {
   "cell_type": "code",
   "execution_count": 15,
   "outputs": [
    {
     "data": {
      "text/plain": "'PRO'"
     },
     "execution_count": 15,
     "metadata": {},
     "output_type": "execute_result"
    }
   ],
   "source": [
    "# Stance Test\n",
    "# adu = 'I cant remember the topic that spurred this discussion but a friend and I were debating whether manmade things were natural.'\n",
    "# ev_unit = 'In this essay, Mill argues the idea that the morality of an action can be judged by whether it is natural or unnatural.'\n",
    "# target = 'natural things'\n",
    "#\n",
    "# stance = compare_stance(ev_unit, target)\n",
    "# stance"
   ],
   "metadata": {
    "collapsed": false,
    "pycharm": {
     "name": "#%%\n"
    }
   }
  },
  {
   "cell_type": "code",
   "execution_count": null,
   "metadata": {
    "pycharm": {
     "name": "#%%\n"
    }
   },
   "outputs": [],
   "source": [
    "# ### ASSERT SAME STANCE ###\n",
    "# from detection.stance_classifier import sentence_stance, compare_stance\n",
    "#\n",
    "# # TODOs: Ensure KPs Extracts are constrained to 1 unit\n",
    "# opposing_stance = []\n",
    "# for i in overlapping:\n",
    "#     adu = i[\"adu\"]\n",
    "#     target = \" \".join(i for i in i[\"adu_kp\"])\n",
    "#     ev_unit = i[\"ev_unit\"]\n",
    "#\n",
    "#     ev_stance = compare_stance(ev_unit, ev_unit, target)\n",
    "#     adu_stance = sentence_stance(adu, target)\n",
    "#\n",
    "#     if ev_stance != adu_stance:\n",
    "#         opposing_stance.append((ev_unit, ev_stance, adu_stance))\n",
    "#\n",
    "#     else: continue\n",
    "#\n",
    "# opposing_stance"
   ]
  },
  {
   "cell_type": "code",
   "execution_count": null,
   "metadata": {
    "pycharm": {
     "name": "#%%\n"
    }
   },
   "outputs": [],
   "source": [
    "### RANKING ###\n",
    "\n",
    "# TODOs: Speed-up, Parrelleise, Yield\n",
    "# ev_units = evidence\n",
    "# adu_kp = extract_keyphrase(adu)\n",
    "\n",
    "# adu_ev_overlap = []\n",
    "\n",
    "# kp_1 = ['sex', 'relationship', 'opportunity'] \n",
    "# kp_2 = ['better sex']\n",
    "\n",
    "# overlap_score(kp_2, kp_1)\n",
    "\n",
    "# for ev_unit in evidence:\n",
    "#     #print(ev_unit)\n",
    "#     toks = tokeniser(ev_unit)\n",
    "\n",
    "#     # Exprimental Value\n",
    "#     if len(toks) <= 8:\n",
    "#         continue\n",
    "    \n",
    "#     ev_unit_kp = extract_keyphrase(ev_unit)\n",
    "#     kp_overlap = overlap_score(evidence_kp=ev_unit_kp, adu_kp=adu_kp)\n",
    "    \n",
    "#     adu_ev_overlap.append({\n",
    "#         \"adu\": adu, \n",
    "#         \"adu_kp\": adu_kp,\n",
    "#         \"ev_unit\": ev_unit,\n",
    "#         \"ev_unit_kp\": ev_unit_kp, \n",
    "#         \"kp_overlap\": kp_overlap\n",
    "        \n",
    "#         })\n",
    "        \n",
    "# adu_ev_overlap\n",
    "\n",
    "\n",
    "#rank_passages(retrieved_ev)"
   ]
  },
  {
   "cell_type": "code",
   "execution_count": null,
   "metadata": {
    "pycharm": {
     "name": "#%%\n"
    }
   },
   "outputs": [],
   "source": [
    "# import spacy\n",
    "# from spacy.matcher import PhraseMatcher\n",
    "# from fuzzywuzzy import fuzz, process\n",
    "\n",
    "# # TODOs: Package as a Module\n",
    "# # TODOs: Handle Negation (Polarity shifters)\n",
    "# # TODOs: Review Unsuperived Approach; Consider adveanced patterns and common-sence knowledge\n",
    "\n",
    "# nlp = spacy.load(\"en_core_web_sm\")\n",
    "\n",
    "# sentence = \"I hate abortion rights. Abortions should be banned.\"\n",
    "# sentence_2 = \"I like abortion rights. I belive we should keep them.\"\n",
    "# sentence_3 = \"I hate tennis. People should play tennis more often\"\n",
    "\n",
    "# ### STANCE SCORING ###\n",
    "\n",
    "# # TODOs: https://www.cs.uic.edu/~liub/FBS/opinion-mining-final-WSDM.pdf \n",
    "# # TODOs: Pattern based Negation\n",
    "# # TODOs: Semantic Orientation of an opinion (Claim)\n",
    "# # TODOs:Group synonyms of 'features', 'targets'\n",
    "\n",
    "# phrase_matcher = PhraseMatcher(nlp.vocab)\n",
    "\n",
    "# ### SENTIMENT LEXICONS ###\n",
    "# pos = [w.replace(\"\\n\", \"\") for w in open(\"../../data/lexicon/positive_lex.txt\")]\n",
    "# neg = [w.replace(\"\\n\", \"\") for w in open(\"../../data/lexicon/negative_lex.txt\")]\n",
    "# polarity_shifters = [w.replace(\"\\n\", \"\") for w in open(\"../../data/lexicon/shifter_lexicon.txt\")]\n",
    "\n",
    "# ### STANCE: ASPECT-SEMANTIC ORIENTATION ###\n",
    "# def extract_aspect(sentence, n_gram):\n",
    "#     aspects = extract_keyphrase(str(sentence))[0]\n",
    "\n",
    "#     return nlp(aspects)\n",
    "\n",
    "# def index_aspect(phrase, aspect, sentence):    \n",
    "#     patterns = [nlp(aspect)]\n",
    "#     phrase_matcher.add(phrase, None, *patterns)\n",
    "\n",
    "#     start = 0\n",
    "#     stop = 0\n",
    "\n",
    "#     matched_phrases = phrase_matcher(sentence)\n",
    "#     for i in matched_phrases:\n",
    "#         _, start, stop = i\n",
    "        \n",
    "#     return start, stop\n",
    "\n",
    "# # TODOs: Implement Polarity Shifters, Simple\n",
    "# # TODOs: Implement Polarity Shifters, Complex, Verb Patterns\n",
    "# def stance_score(start, stop, sentence):\n",
    "#     pos_score = 0.0\n",
    "#     neg_score = 0.0\n",
    "\n",
    "#     score = 0\n",
    "#     for idx, tok in enumerate(sentence):\n",
    "#         if idx == start or idx == stop:\n",
    "#             continue\n",
    "\n",
    "#         # TODOs: Implement Polarity Shift\n",
    "#         # TODOs: Experiement with descriptive term + keyphrase aspects\n",
    "#         # TODOs: ABSA https://www.kaggle.com/code/phiitm/aspect-based-sentiment-analysis\n",
    "#         # Use external libaray: Textblob\n",
    "        \n",
    "#         k = 8\n",
    "#         # Negation Rules\n",
    "#         shifted_tok = None\n",
    "#         shifted_toks = []\n",
    "\n",
    "#         if (tok.dep_ == \"neg\") or (tok.dep_ in polarity_shifters):\n",
    "#             #Shift to Negative\n",
    "#             if idx <= k:\n",
    "#                 if idx < start: neg_score += 1/(start - idx)\n",
    "#                 else: neg_score += 1/(idx - stop)**0.5\n",
    "\n",
    "#             if shifted_tok != None and shifted_tok in neg:\n",
    "#                 print(shifted_tok.text)\n",
    "#                 # Shift to Positive\n",
    "#                 if idx < start: pos_score += 1/(start - idx)\n",
    "#                 elif idx > start: pos_score += 1/(idx - stop)**0.5\n",
    "#                 else: continue\n",
    "\n",
    "#         # Aspect Sentement Orientation\n",
    "#         if tok.text in pos:\n",
    "#             if tok in shifted_toks:\n",
    "#                 continue\n",
    "            \n",
    "#             if idx < start: pos_score += 1/(start - idx)\n",
    "#             else: pos_score += 1/(idx - stop)**0.5\n",
    "\n",
    "#         if tok.text in neg:\n",
    "#             if tok in shifted_toks:\n",
    "#                 continue\n",
    "\n",
    "#             if idx <= start: neg_score += 1/(start - idx)\n",
    "#             else: neg_score += 1/(idx - stop)**0.5\n",
    "    \n",
    "#     score = pos_score - neg_score /(pos_score + neg_score + 1)\n",
    "\n",
    "#     return score\n",
    "\n",
    "# def overlap_score(evidence_kp, adu_kp):\n",
    "#     score = 0\n",
    "    \n",
    "#     # Split Keyphrase into components, scoring partial units as overlap\n",
    "#     for i in evidence_kp:\n",
    "#         for j in i.split():\n",
    "#             # Ensure string value, to enact .find\n",
    "#             if \" \".join(adu_kp).find(j) != -1: \n",
    "#                 score += 1\n",
    "#                 token = j\n",
    "            \n",
    "#             else: continue\n",
    "    \n",
    "#     return score\n",
    "\n",
    "# def get_overlapping_token(evidence_kp, adu_kp):\n",
    "#     for i in evidence_kp:\n",
    "#         overlap_tokens = []\n",
    "#         for j in i.split():\n",
    "#             if \" \".join(adu_kp).find(j) != -1: \n",
    "#                 overlap_tokens.append(j) \n",
    "            \n",
    "#         return \" \".join(i for i in overlap_tokens)\n",
    "\n",
    "# def sentence_stance(sentence, aspect):\n",
    "#     sentence = nlp(sentence)\n",
    "\n",
    "#     start, stop = index_aspect(\"aspects\", aspect, sentence)\n",
    "#     score = stance_score(start, stop, sentence)\n",
    "\n",
    "#     # Add Neutral\n",
    "#     #stance = {\"claim\": sentence, \"stance\": \"PRO\", \"aspect\": aspect} if score > 0 else {\"claim\": sentence, \"stance\": \"CON\", \"aspect\": aspect}\n",
    "    \n",
    "#     return \"PRO\" if score > 0 else \"CON\"\n",
    "\n",
    "# def fuzzy_match(target, evidence_unit):\n",
    "\n",
    "#     overlapping_aspect = process.extractOne(target, ev.split())[0]\n",
    "#     score = overlapping_aspect[1]\n",
    "\n",
    "#     overlapping_aspect = nlp(re.sub(r'[^\\w]', ' ', overlapping_aspect))\n",
    "\n",
    "#     return overlapping_aspect, score\n",
    "\n",
    "# def compare_stance(ev_unit, evidence_aspect, adu_target):\n",
    "#     # Note: Already identified mathcing or partially matching Aspects. \n",
    "\n",
    "#     # Get the overlapping evidence aspect-target.\n",
    "#     overlapping_target, score = fuzzy_match(target=adu_aspect, evidence_unit=ev)\n",
    "    \n",
    "#     # Get position of the overlapping_target\n",
    "#     start, stop = index_aspect(\"OVERLAP\", nlp(overlapping_target), nlp(ev_unit))\n",
    "\n",
    "#     # Assert Stance towards evidence aspect\n",
    "#     score = stance_score(start, stop, nlp(ev_unit))\n",
    "    \n",
    "#     return \"PRO\" if score > 0 else \"CON\"\n",
    "\n",
    "# ev = \"These simple ideas and techniques could help both you and your lover enjoy sex. 1 / 10 Getty Images/Caiaimage Think beyond the thrust.\"\n",
    "# ev_aspect = \"sex\", \"relationship\", \"opportunity\"\n",
    "\n",
    "# adu = 'Hello! Let me preface by saying I dont believe there is a better sex.'\n",
    "# adu_aspect = \"better sex\"\n",
    "\n",
    "# print(sentence_stance(\"The mutual trust and understanding you share with your partner will lead to better sex, but that's not the only reason sex can be better when you're not in a relationship.\", adu_aspect))\n",
    "# print(compare_stance(ev, ev_aspect, adu_aspect))\n"
   ]
  },
  {
   "cell_type": "code",
   "execution_count": null,
   "metadata": {
    "pycharm": {
     "name": "#%%\n"
    }
   },
   "outputs": [],
   "source": [
    "# from spacy.matcher import DependencyMatcher, Matcher\n",
    "# matcher = Matcher(vocab=nlp.vocab)\n",
    "# matcher\n",
    "\n",
    "# # Matching Rule: Pronouns with Verbs that follow them\n",
    "# aspect = \"better sex\"\n",
    "# patterns = [\n",
    "#     [{\"DEP\": \"neg\"}, {\"LOWER\": aspect}],\n",
    "#     [{\"DEP\": \"neg\"}, {\"POS\": \"ADJ\"}, {\"LOWER\": aspect}],\n",
    "#     [{\"POS\": \"VERB\"}, {\"POS\": \"ADJ\"}, {\"LOWER\": aspect}],\n",
    "#     [{\"LOWER\": aspect.lower()}]\n",
    "# ]\n",
    "\n",
    "# test = nlp(\"Hello! Let me preface by saying I dont believe there is a not better sex.\")\n",
    "# test_2 = nlp(\"These simple ideas and techniques could help both you and your lover enjoy better sex.\")\n",
    "\n",
    "# matcher.add(\"test\", patterns=patterns)\n",
    "# result = matcher(test_2, as_spans=True)\n",
    "\n",
    "# result\n",
    "\n",
    "# # for tok in test:\n",
    "# #     print(tok.i, tok, tok.pos_, tok.dep_, tok.head.i, sep=\"\\t\")"
   ]
  },
  {
   "cell_type": "code",
   "execution_count": null,
   "metadata": {
    "pycharm": {
     "name": "#%%\n"
    }
   },
   "outputs": [],
   "source": [
    "### TARGETED RETRIEVAL: ATTACKING PEMISES ###\n",
    "\n",
    "# from BERT_adu_classifier import predict\n",
    "\n",
    "# premises = []\n",
    "# for sent in sentences:\n",
    "#     prediction = predict(sent)\n",
    "    \n",
    "#     if prediction == \"premise\":\n",
    "#         premises.append(sent)"
   ]
  }
 ],
 "metadata": {
  "kernelspec": {
   "name": "python3",
   "language": "python",
   "display_name": "Python 3 (ipykernel)"
  },
  "language_info": {
   "codemirror_mode": {
    "name": "ipython",
    "version": 3
   },
   "file_extension": ".py",
   "mimetype": "text/x-python",
   "name": "python",
   "nbconvert_exporter": "python",
   "pygments_lexer": "ipython3",
   "version": "3.10.6"
  },
  "orig_nbformat": 4,
  "vscode": {
   "interpreter": {
    "hash": "1b747fec5972a5a28202124dfae2950631b4721a6e18efe99aaae23c73408484"
   }
  }
 },
 "nbformat": 4,
 "nbformat_minor": 2
}